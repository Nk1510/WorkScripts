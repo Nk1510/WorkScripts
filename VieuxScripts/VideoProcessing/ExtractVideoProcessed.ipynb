{
 "cells": [
  {
   "cell_type": "code",
   "execution_count": 2,
   "metadata": {},
   "outputs": [],
   "source": [
    "import cv2\n",
    "from matplotlib import pyplot as plt\n",
    "from ipywidgets import interact, interactive, fixed, interact_manual\n",
    "import ipywidgets as widgets\n",
    "import numpy as np\n",
    "from PIL import Image\n",
    "from PIL import ImageFilter\n",
    "from matplotlib import animation\n",
    "from PIL import ImageEnhance\n",
    "import pyprind\n",
    "import os\n",
    "\n",
    "%matplotlib inline\n"
   ]
  },
  {
   "cell_type": "code",
   "execution_count": 4,
   "metadata": {},
   "outputs": [
    {
     "name": "stdout",
     "output_type": "stream",
     "text": [
      "1280 720\n"
     ]
    },
    {
     "name": "stderr",
     "output_type": "stream",
     "text": [
      "0% [▓▓▓▓▓▓▓▓▓▓▓▓▓▓▓▓▓▓▓▓▓▓▓▓▓▓▓▓▓▓] 100% | ETA: 00:00:00"
     ]
    },
    {
     "name": "stdout",
     "output_type": "stream",
     "text": [
      "Done 498 frames\n"
     ]
    },
    {
     "name": "stderr",
     "output_type": "stream",
     "text": [
      "\n",
      "Total time elapsed: 00:10:46\n"
     ]
    }
   ],
   "source": [
    "def rgb2gray(rgb):\n",
    "\n",
    "    r, g, b = rgb[:,:,0], rgb[:,:,1], rgb[:,:,2]\n",
    "    #gray = 0.2989 * r + 0.5870 * g + 0.1140 * b\n",
    "    gray =  (1/3) * r + (1/3) * g + (1/3) * b \n",
    "    gray = gray.astype(np.uint8)\n",
    "    return gray\n",
    "\n",
    "\n",
    "\n",
    "PathTobethaviorVideo = r'C:\\Users\\nkhefif\\Desktop\\WhiskiTestsVideo\\26_02_test_\\Mouse24_2020-02-18T17.26.39.avi'\n",
    "\n",
    "HandleBEHAV = cv2.VideoCapture(PathTobethaviorVideo)\n",
    "\n",
    "length = int(HandleBEHAV.get(cv2.CAP_PROP_FRAME_COUNT))\n",
    "\n",
    "_ , img1 = HandleBEHAV.read()\n",
    "size = np.shape(img1)\n",
    "height = size[0]\n",
    "width = size[1]\n",
    "print(width,height)\n",
    "\n",
    "globalpath = os.path.dirname(PathTobethaviorVideo)\n",
    "basefile = os.path.basename(PathTobethaviorVideo)[:-4]\n",
    "\n",
    "outputpath = os.path.join(globalpath, basefile + \"_processed\")\n",
    "\n",
    "#tests\n",
    "\n",
    "#fourcc = cv2.VideoWriter_fourcc(*'')\n",
    "#out = cv2.VideoWriter(outputpath, fourcc, 30.0, (height, width))\n",
    "\n",
    "#methode pour tester différents codex et etx :\n",
    "\n",
    "#extensions = ['avi', 'mp4','mov']\n",
    "#codecs = ['MJPG', 'H264', 'DIVX', 'XVID', 'X264', '40  ']\n",
    "\n",
    "extensions = ['avi']\n",
    "codecs = ['MJPG']\n",
    "\n",
    "listHolders = []\n",
    "\n",
    "for ext in extensions:\n",
    "    for codec in codecs:\n",
    "        savepath = outputpath + \"_%s.%s\" % (codec.strip(' '), ext)\n",
    "\n",
    "        try:\n",
    "          \n",
    "            fourcc = cv2.VideoWriter_fourcc(*codec)\n",
    "            \n",
    "            listHolders.append(cv2.VideoWriter(savepath, fourcc, 30.0, (width, height), 1))\n",
    "            \n",
    "        except Exception as e:\n",
    "            print(e)\n",
    "            pass\n",
    "\n",
    "\n",
    "\n",
    "bar = pyprind.ProgBar(length-1,bar_char='▓')\n",
    "        \n",
    "for framne_nb in range(length-1) :\n",
    "    \n",
    "    _ , BEHi = HandleBEHAV.read()\n",
    "    BEHi = rgb2gray(BEHi)\n",
    "    \n",
    "    BEHi = cv2.fastNlMeansDenoising(BEHi)\n",
    "    \n",
    "    BEHi = Image.fromarray(BEHi)\n",
    "    BEHi = BEHi.filter(ImageFilter.EDGE_ENHANCE)\n",
    "    BEHi = np.array(BEHi)\n",
    "    \n",
    "    bar.update()\n",
    "    \n",
    "    for holder in listHolders:\n",
    "        #niveaux de gris\n",
    "        #holder.write(BEHi)\n",
    "        \n",
    "        #couleur\n",
    "        BEHi = np.stack((BEHi, BEHi, BEHi),axis=-1)\n",
    "        holder.write(BEHi)\n",
    "    \n",
    "        \n",
    "    if framne_nb >= 550 :\n",
    "        break\n",
    "    \n",
    "\n",
    "    #print(np.shape(BEHi))\n",
    "    \n",
    "\n",
    "\n",
    "HandleBEHAV.release()\n",
    "\n",
    "for holder in listHolders:\n",
    "    holder.release()\n",
    "        \n",
    "print(\"Done {} frames\".format(framne_nb))\n",
    "    \n"
   ]
  },
  {
   "cell_type": "code",
   "execution_count": null,
   "metadata": {},
   "outputs": [],
   "source": []
  },
  {
   "cell_type": "code",
   "execution_count": null,
   "metadata": {},
   "outputs": [],
   "source": []
  },
  {
   "cell_type": "raw",
   "metadata": {},
   "source": []
  },
  {
   "cell_type": "code",
   "execution_count": null,
   "metadata": {},
   "outputs": [],
   "source": []
  }
 ],
 "metadata": {
  "kernelspec": {
   "display_name": "Python 3",
   "language": "python",
   "name": "python3"
  },
  "language_info": {
   "codemirror_mode": {
    "name": "ipython",
    "version": 3
   },
   "file_extension": ".py",
   "mimetype": "text/x-python",
   "name": "python",
   "nbconvert_exporter": "python",
   "pygments_lexer": "ipython3",
   "version": "3.6.8"
  }
 },
 "nbformat": 4,
 "nbformat_minor": 4
}
