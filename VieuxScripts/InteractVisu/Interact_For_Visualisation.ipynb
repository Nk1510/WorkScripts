{
 "cells": [
  {
   "cell_type": "code",
   "execution_count": 1,
   "metadata": {},
   "outputs": [],
   "source": [
    "%matplotlib inline\n",
    "\n",
    "import cv2\n",
    "#from matplotlib import pyplot as plt\n",
    "from ipywidgets import interact, interactive, fixed, interact_manual\n",
    "import ipywidgets as widgets\n",
    "import numpy as np\n",
    "from PIL import Image\n",
    "from PIL import ImageFilter\n",
    "\n",
    "import matplotlib.pyplot as plt\n",
    "from matplotlib.widgets import Slider, Button, RadioButtons\n",
    "from matplotlib import animation\n",
    "from PIL import ImageEnhance\n",
    "\n",
    "import os\n",
    "\n"
   ]
  },
  {
   "cell_type": "code",
   "execution_count": 2,
   "metadata": {},
   "outputs": [
    {
     "data": {
      "application/vnd.jupyter.widget-view+json": {
       "model_id": "ba52ffd1880b4856b43785e3177357e8",
       "version_major": 2,
       "version_minor": 0
      },
      "text/plain": [
       "interactive(children=(IntSlider(value=1, description='time', max=499), FloatSlider(value=1.0, description='Bri…"
      ]
     },
     "metadata": {},
     "output_type": "display_data"
    }
   ],
   "source": [
    "#Fonction Resize\n",
    "\n",
    "def calculateNewSize(width,height,WishForNEwWidth):\n",
    "    ratio = WishForNEwWidth/width\n",
    "    Nheight = int(height * ratio)\n",
    "    Nwidth = int(width * ratio)    \n",
    "    return Nwidth , Nheight\n",
    "\n",
    "\n",
    "\n",
    "HandleBEHAV = cv2.VideoCapture(r'C:\\Users\\Nicolas\\Desktop\\Mouse17_Correl_BVH_VSD_test\\Session4_trial4\\2019-11-26T17.56.41.mp4')\n",
    "HandleVSD = cv2.VideoCapture(r'C:\\Users\\Nicolas\\Desktop\\Mouse17_Correl_BVH_VSD_test\\Session4_trial4\\S04-T04_2.mov')\n",
    "\n",
    "length = int(HandleBEHAV.get(cv2.CAP_PROP_FRAME_COUNT))\n",
    "\n",
    "_ , IMG0 = HandleBEHAV.read() #Lecture de la première frame de compormement\n",
    "\n",
    "\n",
    "\n",
    "@interact\n",
    "\n",
    "def show_image(time=widgets.IntSlider(min=0,max=length-1,step=1,value=1), Brightness=widgets.FloatSlider(min=0,max=4,step=0.015,value=1),\\\n",
    "binarization=widgets.FloatSlider(min=-1,max=2,step=0.01,value=-1),Denoise = False, VSD=False, substract= False, EnhanceEdge=False, EnhanceEdgeMore=False ):\n",
    "    \n",
    "\n",
    "    HandleBEHAV.set(cv2.CAP_PROP_POS_FRAMES, time)\n",
    "    _ , BEHi = HandleBEHAV.read()\n",
    "     \n",
    "    \n",
    "    HandleVSD.set(cv2.CAP_PROP_POS_FRAMES, time)\n",
    "    _ , VSDi = HandleVSD.read() \n",
    "    VSDi = cv2.cvtColor(VSDi, cv2.COLOR_BGR2RGB)\n",
    "   \n",
    "    \n",
    "    if Denoise == True:\n",
    "        \n",
    "        BEHi = cv2.fastNlMeansDenoisingColored(BEHi) \n",
    "        \n",
    "        #autres manière (marchent pas forcement, je garde au cas ou)\n",
    "        #gray = cv2.cvtColor(BEHi, cv2.COLOR_RGB2GRAY)\n",
    "        \n",
    "        #BEHi = cv2.cvtColor(BEHi, cv2.COLOR_RGB2GRAY)\n",
    "        #BEHi = cv2.cvtColor(BEHi, cv2.COLOR_RGB2LAB)\n",
    "       \n",
    "    \n",
    "        #BEHi = np.float64(BEHi)\n",
    "        #noise = np.random.randn(*BEHi[1].shape)*10\n",
    "        #noisy = [BEHi+noise]\n",
    "        #noisy = np.uint8(np.clip(BEHi,0,255))\n",
    "        #dst = cv2.fastNlMeansDenoisingMulti(noisy, 2, 5, None, 4, 7, 35)\n",
    "       \n",
    "    if Brightness != 1 :\n",
    "   \n",
    "        BEHi = Image.fromarray(BEHi, 'RGB')\n",
    "        BEHi = ImageEnhance.Brightness(BEHi).enhance(Brightness)\n",
    "        BEHi = np.array(BEHi)\n",
    "        \n",
    "    \n",
    "    if EnhanceEdge == True: \n",
    "        BEHi = Image.fromarray(BEHi, 'RGB')\n",
    "        BEHi = BEHi.filter(ImageFilter.EDGE_ENHANCE)\n",
    "        BEHi = np.array(BEHi)\n",
    "        \n",
    "    if EnhanceEdgeMore == True: \n",
    "        BEHi = Image.fromarray(BEHi, 'RGB')\n",
    "        BEHi = BEHi.filter(ImageFilter.EDGE_ENHANCE_MORE)\n",
    "        BEHi = np.array(BEHi)\n",
    "        \n",
    "    if substract == True:\n",
    "        HandleBEHAV.set(cv2.CAP_PROP_POS_FRAMES, 0)\n",
    "        _ , IMG0 = HandleBEHAV.read()\n",
    "        BEHi = BEHi-IMG0\n",
    "   \n",
    "    if binarization != -1 :\n",
    "        _ , BEHi = cv2.threshold(BEHi,binarization,255,cv2.THRESH_BINARY)\n",
    "        \n",
    "    if VSD == True :\n",
    "        \n",
    "        width,height = calculateNewSize(np.shape(VSDi)[1],np.shape(VSDi)[0],np.shape(BEHi)[1])\n",
    "        VSDi = Image.fromarray(VSDi, 'RGB')\n",
    "        VSDi = VSDi.resize((width,height), Image.ANTIALIAS)\n",
    "        output = np.concatenate((VSDi,BEHi),axis=0)\n",
    "    \n",
    "    else :\n",
    "        \n",
    "        output = BEHi\n",
    "    \n",
    "    fig = plt.figure(figsize = (15,25))\n",
    "    plt.imshow(output, interpolation='none')\n",
    "    \n",
    "      \n",
    "    "
   ]
  },
  {
   "cell_type": "code",
   "execution_count": null,
   "metadata": {},
   "outputs": [],
   "source": []
  },
  {
   "cell_type": "code",
   "execution_count": null,
   "metadata": {},
   "outputs": [],
   "source": []
  },
  {
   "cell_type": "code",
   "execution_count": null,
   "metadata": {},
   "outputs": [],
   "source": []
  }
 ],
 "metadata": {
  "kernelspec": {
   "display_name": "Python 3",
   "language": "python",
   "name": "python3"
  },
  "language_info": {
   "codemirror_mode": {
    "name": "ipython",
    "version": 3
   },
   "file_extension": ".py",
   "mimetype": "text/x-python",
   "name": "python",
   "nbconvert_exporter": "python",
   "pygments_lexer": "ipython3",
   "version": "3.6.8"
  }
 },
 "nbformat": 4,
 "nbformat_minor": 4
}
