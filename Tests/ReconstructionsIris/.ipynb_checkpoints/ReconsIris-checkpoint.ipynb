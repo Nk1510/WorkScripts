{
 "cells": [
  {
   "cell_type": "code",
   "execution_count": 1,
   "metadata": {},
   "outputs": [
    {
     "ename": "ModuleNotFoundError",
     "evalue": "No module named 'mat4py'",
     "output_type": "error",
     "traceback": [
      "\u001b[1;31m---------------------------------------------------------------------------\u001b[0m",
      "\u001b[1;31mModuleNotFoundError\u001b[0m                       Traceback (most recent call last)",
      "\u001b[1;32m<ipython-input-1-5313e7c0a33f>\u001b[0m in \u001b[0;36m<module>\u001b[1;34m\u001b[0m\n\u001b[0;32m     18\u001b[0m \u001b[1;32mimport\u001b[0m \u001b[0mpandas\u001b[0m \u001b[1;32mas\u001b[0m \u001b[0mpd\u001b[0m\u001b[1;33m\u001b[0m\u001b[1;33m\u001b[0m\u001b[0m\n\u001b[0;32m     19\u001b[0m \u001b[1;32mimport\u001b[0m \u001b[0mnumpy\u001b[0m \u001b[1;32mas\u001b[0m \u001b[0mnp\u001b[0m\u001b[1;33m\u001b[0m\u001b[1;33m\u001b[0m\u001b[0m\n\u001b[1;32m---> 20\u001b[1;33m \u001b[1;32mimport\u001b[0m \u001b[0mmat4py\u001b[0m\u001b[1;33m\u001b[0m\u001b[1;33m\u001b[0m\u001b[0m\n\u001b[0m\u001b[0;32m     21\u001b[0m \u001b[1;33m\u001b[0m\u001b[0m\n\u001b[0;32m     22\u001b[0m \u001b[0msys\u001b[0m\u001b[1;33m.\u001b[0m\u001b[0mpath\u001b[0m\u001b[1;33m.\u001b[0m\u001b[0mappend\u001b[0m\u001b[1;33m(\u001b[0m\u001b[1;34mr'C:\\Users\\Nicolas\\Documents\\GitHub\\WorkScripts'\u001b[0m\u001b[1;33m)\u001b[0m\u001b[1;33m\u001b[0m\u001b[1;33m\u001b[0m\u001b[0m\n",
      "\u001b[1;31mModuleNotFoundError\u001b[0m: No module named 'mat4py'"
     ]
    }
   ],
   "source": [
    "import cv2\n",
    "from matplotlib import pyplot as plt\n",
    "from ipywidgets import interact, interactive, fixed, interact_manual\n",
    "import ipywidgets as widgets\n",
    "import numpy as np\n",
    "from PIL import Image\n",
    "from PIL import ImageFilter\n",
    "from matplotlib import animation\n",
    "from PIL import ImageEnhance\n",
    "import sys\n",
    "import os\n",
    "\n",
    "%matplotlib inline\n",
    "\n",
    "# for loading array \n",
    "\n",
    "from scipy.io import loadmat\n",
    "import pandas as pd\n",
    "import numpy as np\n",
    "import mat4py\n",
    "\n",
    "sys.path.append(r'C:\\Users\\Nicolas\\Documents\\GitHub\\WorkScripts')\n",
    "from LibrairieNico.HitsFctClass import calculateNewSize\n"
   ]
  },
  {
   "cell_type": "code",
   "execution_count": null,
   "metadata": {},
   "outputs": [],
   "source": [
    "HandleBEHAV = cv2.VideoCapture(r'C:\\Users\\nkhefif\\Desktop\\WhiskiTestsVideo\\26_02_test_\\Mouse24_2020-02-18T17.26.39.avi')\n",
    "\n",
    "length = int(HandleBEHAV.get(cv2.CAP_PROP_FRAME_COUNT))\n",
    "\n",
    "_ , IMG0 = HandleBEHAV.read() \n",
    "\n",
    "@interact\n",
    "\n",
    "def show_image(time=widgets.IntSlider(min=0,max=length-1,step=1,value=1), \\\n",
    "Brightness=widgets.FloatSlider(min=0,max=4,step=0.015,value=1), \\\n",
    "binarization=widgets.FloatSlider(min=-1,max=2,step=0.01,value=-1), \\\n",
    "MinLength =widgets.IntSlider(min=1,max=300,step=1,value=100), \\\n",
    "MinScore = widgets.IntSlider(min=1,max=1000,step=1,value=100), \\\n",
    "Denoise = False, VSD=False, substract= False, EnhanceEdge=False, EnhanceEdgeMore=False ):"
   ]
  }
 ],
 "metadata": {
  "kernelspec": {
   "display_name": "Python 3",
   "language": "python",
   "name": "python3"
  },
  "language_info": {
   "codemirror_mode": {
    "name": "ipython",
    "version": 3
   },
   "file_extension": ".py",
   "mimetype": "text/x-python",
   "name": "python",
   "nbconvert_exporter": "python",
   "pygments_lexer": "ipython3",
   "version": "3.6.8"
  }
 },
 "nbformat": 4,
 "nbformat_minor": 2
}
