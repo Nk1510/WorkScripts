{
 "cells": [
  {
   "cell_type": "code",
   "execution_count": 1,
   "metadata": {},
   "outputs": [],
   "source": [
    "import cv2\n",
    "from matplotlib import pyplot as plt\n",
    "from ipywidgets import interact, interactive, fixed, interact_manual\n",
    "import ipywidgets as widgets\n",
    "import numpy as np\n",
    "from PIL import Image\n",
    "from PIL import ImageFilter\n",
    "\n",
    "import matplotlib\n",
    "\n",
    "from PIL import ImageEnhance\n",
    "import sys\n",
    "import os\n",
    "\n",
    "%matplotlib inline\n",
    "\n",
    "# for loading array \n",
    "\n",
    "from scipy.io import loadmat\n",
    "import pandas as pd\n",
    "import numpy as np\n",
    "import matplotlib\n",
    "\n",
    "sys.path.append(r'C:\\Users\\Nicolas\\Documents\\GitHub\\WorkScripts')\n",
    "from LibrairieNico.HitsFctClass import calculateNewSize\n"
   ]
  },
  {
   "cell_type": "code",
   "execution_count": 10,
   "metadata": {},
   "outputs": [
    {
     "data": {
      "application/vnd.jupyter.widget-view+json": {
       "model_id": "b5485097db004ba4a3f544dfc9bc1b72",
       "version_major": 2,
       "version_minor": 0
      },
      "text/plain": [
       "interactive(children=(IntSlider(value=20, description='time', max=499, min=-2), FloatSlider(value=1.0, descrip…"
      ]
     },
     "metadata": {},
     "output_type": "display_data"
    }
   ],
   "source": [
    "HandleBEHAV = cv2.VideoCapture(r'C:\\Users\\Nicolas\\Desktop\\Test_Hit\\Mouse22_2020-02-10T14.21.24.avi')\n",
    "\n",
    "\n",
    "\n",
    "length = int(HandleBEHAV.get(cv2.CAP_PROP_FRAME_COUNT))\n",
    "\n",
    "_ , IMG0 = HandleBEHAV.read() \n",
    "\n",
    "@interact\n",
    "\n",
    "def show_image(time=widgets.IntSlider(min=-2, max=length-1, step=1, value=20), \\\n",
    "Brightness=widgets.FloatSlider(min=0,max=4,step=0.015,value=1), \\\n",
    "binarization=widgets.FloatSlider(min=-1,max=2,step=0.01,value=-1), \\\n",
    "MinLength =widgets.IntSlider(min=1,max=300,step=1,value=100), \\\n",
    "MinScore = widgets.IntSlider(min=1,max=1000,step=1,value=100), \\\n",
    "Denoise = False, VSD=False, substract= False, EnhanceEdge=False, EnhanceEdgeMore=False ):\n",
    "    \n",
    "    HandleBEHAV.set(cv2.CAP_PROP_POS_FRAMES, time)\n",
    "    _ , BEHi = HandleBEHAV.read()"
   ]
  },
  {
   "cell_type": "code",
   "execution_count": null,
   "metadata": {},
   "outputs": [],
   "source": []
  }
 ],
 "metadata": {
  "kernelspec": {
   "display_name": "Python 3",
   "language": "python",
   "name": "python3"
  },
  "language_info": {
   "codemirror_mode": {
    "name": "ipython",
    "version": 3
   },
   "file_extension": ".py",
   "mimetype": "text/x-python",
   "name": "python",
   "nbconvert_exporter": "python",
   "pygments_lexer": "ipython3",
   "version": "3.6.8"
  }
 },
 "nbformat": 4,
 "nbformat_minor": 2
}
