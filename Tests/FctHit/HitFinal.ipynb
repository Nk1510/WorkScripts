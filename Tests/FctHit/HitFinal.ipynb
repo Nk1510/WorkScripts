{
 "cells": [
  {
   "cell_type": "code",
   "execution_count": 3,
   "metadata": {},
   "outputs": [],
   "source": [
    "import cv2\n",
    "from matplotlib import pyplot as plt\n",
    "from ipywidgets import interact, interactive, fixed, interact_manual\n",
    "import ipywidgets as widgets\n",
    "import numpy as np\n",
    "from PIL import Image\n",
    "from PIL import ImageFilter\n",
    "from matplotlib import animation\n",
    "from PIL import ImageEnhance\n",
    "\n",
    "from tkinter import filedialog\n",
    "import tkinter as tk\n",
    "\n",
    "import pickle\n",
    "\n",
    "from os import sys\n",
    "\n",
    "import matplotlib.pyplot as plt\n",
    "import argparse\n",
    "\n",
    "from statistics import mean\n",
    "import os\n",
    "\n",
    "%matplotlib inline\n",
    "\n",
    "# for loading array \n",
    "from scipy.interpolate import interp1d\n",
    "from scipy.io import loadmat\n",
    "from scipy import signal as sig\n",
    "import pandas as pd\n",
    "import numpy as np\n",
    "\n",
    "sys.path.append(r'C:\\Users\\Nicolas\\Documents\\GitHub\\WorkScripts')\n",
    "\n",
    "from LibrairieNico.HitsFctClass import smooth, Easyinterp, diff, calculateNewSize\n",
    "\n",
    "from LibrairieNico.HitFindPeacks import FindReferenceSystem, FindReferenceSystem2, OscObj2, HitDetection"
   ]
  },
  {
   "cell_type": "code",
   "execution_count": null,
   "metadata": {},
   "outputs": [],
   "source": []
  }
 ],
 "metadata": {
  "kernelspec": {
   "display_name": "Python 3",
   "language": "python",
   "name": "python3"
  },
  "language_info": {
   "codemirror_mode": {
    "name": "ipython",
    "version": 3
   },
   "file_extension": ".py",
   "mimetype": "text/x-python",
   "name": "python",
   "nbconvert_exporter": "python",
   "pygments_lexer": "ipython3",
   "version": "3.6.8"
  }
 },
 "nbformat": 4,
 "nbformat_minor": 2
}
