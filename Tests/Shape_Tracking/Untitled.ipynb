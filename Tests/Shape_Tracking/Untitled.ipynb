{
 "cells": [
  {
   "cell_type": "code",
   "execution_count": null,
   "metadata": {},
   "outputs": [],
   "source": [
    "import json\n",
    "import glob\n",
    "from os.path import join, basename\n",
    "# install this with \"conda install -c conda-forge python-graphviz\"\n",
    "import graphviz as gv\n",
    "\n",
    "# path to your conda environment\n",
    "path = '/tmp/foo'\n",
    "\n",
    "dg = gv.Digraph(filename='env-%s' % basename(path), format='svg')\n",
    "\n",
    "for json_file in glob.glob(join(path, 'conda-meta', '*.json')):\n",
    "    print('reading', json_file)\n",
    "    j = json.load(open(json_file))\n",
    "    dg.node(j['name'])\n",
    "    for dep in j.get('depends', []):\n",
    "        dg.edge(j['name'], dep.split(' ')[0])\n",
    "\n",
    "dg.render()"
   ]
  }
 ],
 "metadata": {
  "kernelspec": {
   "display_name": "Python 3",
   "language": "python",
   "name": "python3"
  },
  "language_info": {
   "codemirror_mode": {
    "name": "ipython",
    "version": 3
   },
   "file_extension": ".py",
   "mimetype": "text/x-python",
   "name": "python",
   "nbconvert_exporter": "python",
   "pygments_lexer": "ipython3",
   "version": "3.6.8"
  }
 },
 "nbformat": 4,
 "nbformat_minor": 4
}
