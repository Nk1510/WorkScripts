{
 "cells": [
  {
   "cell_type": "code",
   "execution_count": 12,
   "metadata": {},
   "outputs": [
    {
     "ename": "Exception",
     "evalue": "Could not load tracing parameters from file: default.parameters",
     "output_type": "error",
     "traceback": [
      "\u001b[1;31m---------------------------------------------------------------------------\u001b[0m",
      "\u001b[1;31mException\u001b[0m                                 Traceback (most recent call last)",
      "\u001b[1;32m<ipython-input-12-58b24fb88624>\u001b[0m in \u001b[0;36m<module>\u001b[1;34m()\u001b[0m\n\u001b[0;32m      6\u001b[0m \u001b[0msys\u001b[0m\u001b[1;33m.\u001b[0m\u001b[0mpath\u001b[0m\u001b[1;33m.\u001b[0m\u001b[0mappend\u001b[0m\u001b[1;33m(\u001b[0m\u001b[1;34m'C:\\Program Files\\WhiskerTracking\\python'\u001b[0m\u001b[1;33m)\u001b[0m\u001b[1;33m\u001b[0m\u001b[0m\n\u001b[0;32m      7\u001b[0m \u001b[1;33m\u001b[0m\u001b[0m\n\u001b[1;32m----> 8\u001b[1;33m \u001b[1;32mimport\u001b[0m \u001b[0mtraj\u001b[0m\u001b[1;33m\u001b[0m\u001b[0m\n\u001b[0m",
      "\u001b[1;32mC:\\Program Files\\WhiskerTracking\\python\\traj.py\u001b[0m in \u001b[0;36m<module>\u001b[1;34m()\u001b[0m\n\u001b[0;32m     39\u001b[0m \u001b[0m_param_file\u001b[0m \u001b[1;33m=\u001b[0m \u001b[1;34m\"default.parameters\"\u001b[0m\u001b[1;33m\u001b[0m\u001b[0m\n\u001b[0;32m     40\u001b[0m \u001b[1;32mif\u001b[0m \u001b[0mctraj\u001b[0m\u001b[1;33m.\u001b[0m\u001b[0mLoad_Params_File\u001b[0m\u001b[1;33m(\u001b[0m\u001b[0m_param_file\u001b[0m\u001b[1;33m)\u001b[0m\u001b[1;33m==\u001b[0m\u001b[1;36m1\u001b[0m\u001b[1;33m:\u001b[0m \u001b[1;31m#returns 0 on success, 1 on failure\u001b[0m\u001b[1;33m\u001b[0m\u001b[0m\n\u001b[1;32m---> 41\u001b[1;33m   \u001b[1;32mraise\u001b[0m \u001b[0mException\u001b[0m\u001b[1;33m(\u001b[0m\u001b[1;34m\"Could not load tracing parameters from file: %s\"\u001b[0m\u001b[1;33m%\u001b[0m\u001b[0m_param_file\u001b[0m\u001b[1;33m)\u001b[0m\u001b[1;33m\u001b[0m\u001b[0m\n\u001b[0m\u001b[0;32m     42\u001b[0m \u001b[1;33m\u001b[0m\u001b[0m\n\u001b[0;32m     43\u001b[0m \u001b[1;32mclass\u001b[0m \u001b[0mcMeasurements\u001b[0m\u001b[1;33m(\u001b[0m\u001b[0mStructure\u001b[0m\u001b[1;33m)\u001b[0m\u001b[1;33m:\u001b[0m\u001b[1;33m\u001b[0m\u001b[0m\n",
      "\u001b[1;31mException\u001b[0m: Could not load tracing parameters from file: default.parameters"
     ]
    }
   ],
   "source": [
    "import os\n",
    "import sys\n",
    "import numpy as np\n",
    "import pandas as pd\n",
    "\n",
    "sys.path.append('C:\\Program Files\\WhiskerTracking\\python')\n",
    "\n",
    "import traj"
   ]
  },
  {
   "cell_type": "code",
   "execution_count": null,
   "metadata": {},
   "outputs": [],
   "source": [
    "def load_measurements(measure_file):\n",
    "    \"\"\"Load measurements, such as curvature.\n",
    "\n",
    "    The data is taken from traj.MeasurementsTable\n",
    "    I had to guess at what the columns mean, based on example code in\n",
    "    features() in python/summary.py\n",
    "\n",
    "    The ordering of the result does not seem to match the ordering derived\n",
    "    from *.whiskers. I suspect too-small whiskers are being moved after good\n",
    "    whiskers. You must use 'frame' and 'wid' to line up with other data.\n",
    "    For this reason I set the index to be 'frame' and 'wid' in this function.\n",
    "\n",
    "    0 - \"smask\"? I think this may be a mask that is applied to filter out\n",
    "        whiskers that are too small. This seems to affect the ordering of\n",
    "        the results as well (good whiskers moved before bad).\n",
    "    1 - frame\n",
    "    2 - wid\n",
    "    3 - path_length\n",
    "    4 - median_score\n",
    "    5 - the \"root angle\", I think the angle of a few samples around follicle\n",
    "    6 - curvature\n",
    "    7, 8 - follicle x and y\n",
    "    9, 10 - tip x and y\n",
    "\n",
    "    measure_file : string\n",
    "        Path to *.measurements file from measure\n",
    "\n",
    "    convert_to_int : if True, then convert 'frame' and 'wid' columns to int\n",
    "    set_index : if True, then set index to ['frame', 'wid']\n",
    "        Don't do this if you want to maintain the ordering of the columns\n",
    "\n",
    "    Returns: DataFrame\n",
    "        Has one row for each whisker segment.\n",
    "        Columns: smask, frame, wid, path_length, score,\n",
    "            angle, curv, fol_x, fol_y, tip_x, tip_y\n",
    "        Then ['frame', 'wid'] are set to be the index (see above)\n",
    "    \"\"\"\n",
    "\n",
    "    # Measurements filename cannot be unicode, for some reason\n",
    "    tmt = traj.MeasurementsTable(str(measure_file))\n",
    "    tmt_arr = tmt.asarray()\n",
    "    tmtdf = pd.DataFrame(tmt_arr,\n",
    "        columns=['smask', 'frame', 'wid', 'path_length', 'score',\n",
    "            'angle', 'k', 'fol_x', 'fol_y', 'tip_x', 'tip_y'])\n",
    "\n",
    "    # Convert to float32.\n",
    "    tmtdf = tmtdf.astype(np.float32)\n",
    "\n",
    "    # Convert index to int32.\n",
    "    for col in ['frame', 'wid']:\n",
    "        tmtdf[col] = tmtdf[col].astype(np.int32)\n",
    "\n",
    "    # Make index.\n",
    "    tmtdf = tmtdf.set_index(['frame', 'wid'],\n",
    "                            verify_integrity=True).sort_index()\n",
    "\n",
    "    return tmtdf\n",
    "\n",
    "# Load measurements and save df in preprocessed folder for each recording.\n",
    "# ------------------------------------------------------------------------\n",
    "\n",
    "\n",
    "\n",
    "\n",
    "\n",
    "measurements_file = r\"C:\\Users\\nkhefif\\Desktop\\WhiskiTestsVideo\\30_01\\2019-11-26T17.56.41_processed.avi_MJPG..avi.mesurements\"\n",
    "\n",
    "whisk = load_measurements(measurements_file)\n",
    "disp(whisk)"
   ]
  }
 ],
 "metadata": {
  "kernelspec": {
   "display_name": "Python 2",
   "language": "python",
   "name": "python2"
  },
  "language_info": {
   "codemirror_mode": {
    "name": "ipython",
    "version": 2
   },
   "file_extension": ".py",
   "mimetype": "text/x-python",
   "name": "python",
   "nbconvert_exporter": "python",
   "pygments_lexer": "ipython2",
   "version": "2.7.17"
  }
 },
 "nbformat": 4,
 "nbformat_minor": 4
}
