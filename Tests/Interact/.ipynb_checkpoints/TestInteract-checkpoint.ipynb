{
 "cells": [
  {
   "cell_type": "code",
   "execution_count": 1,
   "metadata": {},
   "outputs": [],
   "source": [
    "\n",
    "from matplotlib import pyplot as plt\n",
    "from ipywidgets import interact, interactive, fixed, interact_manual\n",
    "import ipywidgets as widgets\n",
    "import numpy as np\n",
    "from PIL import Image\n",
    "from matplotlib import animation\n",
    "from PIL import ImageEnhance\n",
    "import cv2\n",
    "\n",
    "%matplotlib inline"
   ]
  },
  {
   "cell_type": "code",
   "execution_count": 2,
   "metadata": {},
   "outputs": [],
   "source": [
    "cap = cv2.VideoCapture(r'D:\\Eugenia\\Nico\\DATA\\2019-12-03T16.05.24.mp4')\n",
    "#cap2 = cv2.VideoCapture(r'D:\\Eugenia\\Nico\\DATA\\Mouse18_VSD2-Trial16.mov')"
   ]
  },
  {
   "cell_type": "code",
   "execution_count": 3,
   "metadata": {},
   "outputs": [
    {
     "ename": "AttributeError",
     "evalue": "'NoneType' object has no attribute '__array_interface__'",
     "output_type": "error",
     "traceback": [
      "\u001b[1;31m---------------------------------------------------------------------------\u001b[0m",
      "\u001b[1;31mAttributeError\u001b[0m                            Traceback (most recent call last)",
      "\u001b[1;32m<ipython-input-3-8383b350f1ff>\u001b[0m in \u001b[0;36m<module>\u001b[1;34m\u001b[0m\n\u001b[0;32m      1\u001b[0m \u001b[0m_\u001b[0m \u001b[1;33m,\u001b[0m \u001b[0mimg1\u001b[0m \u001b[1;33m=\u001b[0m \u001b[0mcap\u001b[0m\u001b[1;33m.\u001b[0m\u001b[0mread\u001b[0m\u001b[1;33m(\u001b[0m\u001b[1;33m)\u001b[0m\u001b[1;33m\u001b[0m\u001b[1;33m\u001b[0m\u001b[0m\n\u001b[1;32m----> 2\u001b[1;33m \u001b[0mIMG0\u001b[0m \u001b[1;33m=\u001b[0m \u001b[0mImage\u001b[0m\u001b[1;33m.\u001b[0m\u001b[0mfromarray\u001b[0m\u001b[1;33m(\u001b[0m\u001b[0mimg1\u001b[0m\u001b[1;33m,\u001b[0m \u001b[1;34m'RGB'\u001b[0m\u001b[1;33m)\u001b[0m\u001b[1;33m\u001b[0m\u001b[1;33m\u001b[0m\u001b[0m\n\u001b[0m\u001b[0;32m      3\u001b[0m \u001b[1;33m\u001b[0m\u001b[0m\n\u001b[0;32m      4\u001b[0m \u001b[0mplt\u001b[0m\u001b[1;33m.\u001b[0m\u001b[0mimshow\u001b[0m \u001b[1;33m(\u001b[0m\u001b[0mIMG0\u001b[0m\u001b[1;33m)\u001b[0m\u001b[1;33m\u001b[0m\u001b[1;33m\u001b[0m\u001b[0m\n\u001b[0;32m      5\u001b[0m \u001b[0mprint\u001b[0m\u001b[1;33m(\u001b[0m\u001b[0mnp\u001b[0m\u001b[1;33m.\u001b[0m\u001b[0mshape\u001b[0m\u001b[1;33m(\u001b[0m\u001b[0mIMG0\u001b[0m\u001b[1;33m)\u001b[0m\u001b[1;33m)\u001b[0m\u001b[1;33m\u001b[0m\u001b[1;33m\u001b[0m\u001b[0m\n",
      "\u001b[1;32m~\\Anaconda3\\envs\\ArduinoComs\\lib\\site-packages\\PIL\\Image.py\u001b[0m in \u001b[0;36mfromarray\u001b[1;34m(obj, mode)\u001b[0m\n\u001b[0;32m   2640\u001b[0m     \u001b[1;33m.\u001b[0m\u001b[1;33m.\u001b[0m \u001b[0mversionadded\u001b[0m\u001b[1;33m:\u001b[0m\u001b[1;33m:\u001b[0m \u001b[1;36m1.1\u001b[0m\u001b[1;36m.6\u001b[0m\u001b[1;33m\u001b[0m\u001b[1;33m\u001b[0m\u001b[0m\n\u001b[0;32m   2641\u001b[0m     \"\"\"\n\u001b[1;32m-> 2642\u001b[1;33m     \u001b[0marr\u001b[0m \u001b[1;33m=\u001b[0m \u001b[0mobj\u001b[0m\u001b[1;33m.\u001b[0m\u001b[0m__array_interface__\u001b[0m\u001b[1;33m\u001b[0m\u001b[1;33m\u001b[0m\u001b[0m\n\u001b[0m\u001b[0;32m   2643\u001b[0m     \u001b[0mshape\u001b[0m \u001b[1;33m=\u001b[0m \u001b[0marr\u001b[0m\u001b[1;33m[\u001b[0m\u001b[1;34m\"shape\"\u001b[0m\u001b[1;33m]\u001b[0m\u001b[1;33m\u001b[0m\u001b[1;33m\u001b[0m\u001b[0m\n\u001b[0;32m   2644\u001b[0m     \u001b[0mndim\u001b[0m \u001b[1;33m=\u001b[0m \u001b[0mlen\u001b[0m\u001b[1;33m(\u001b[0m\u001b[0mshape\u001b[0m\u001b[1;33m)\u001b[0m\u001b[1;33m\u001b[0m\u001b[1;33m\u001b[0m\u001b[0m\n",
      "\u001b[1;31mAttributeError\u001b[0m: 'NoneType' object has no attribute '__array_interface__'"
     ]
    }
   ],
   "source": [
    "_ , img1 = cap.read()\n",
    "IMG0 = Image.fromarray(img1, 'RGB')\n",
    "\n",
    "plt.imshow (IMG0)\n",
    "print(np.shape(IMG0))\n",
    "#cv2.namedWindow('video',cv2.WINDOW_NORMAL)\n",
    "#cv2.imshow('video',img2)z\n",
    "\n",
    "length = int(cap.get(cv2.CAP_PROP_FRAME_COUNT))\n",
    "width  = int(cap.get(cv2.CAP_PROP_FRAME_WIDTH))\n",
    "height = int(cap.get(cv2.CAP_PROP_FRAME_HEIGHT))\n",
    "fps    = cap.get(cv2.CAP_PROP_FPS)\n",
    "\n",
    "\n"
   ]
  },
  {
   "cell_type": "code",
   "execution_count": null,
   "metadata": {},
   "outputs": [],
   "source": [
    "def calculateNewSize(width,height,WishForNEwWidth):\n",
    "    ratio = WishForNEwWidth/width\n",
    "    Nheight = int(height * ratio)\n",
    "    Nwidth = int(width * ratio)    \n",
    "    return Nwidth , Nheight\n",
    "\n",
    "HandleBEHAV = cv2.VideoCapture(r'D:\\Eugenia\\Nico\\DATA\\2019-12-03T16.05.24.mp4')\n",
    "HandleVSD = cv2.VideoCapture(r'D:\\Eugenia\\Nico\\DATA\\Mouse18_VSD2-Trial16.mov')\n",
    "_ , IMG0 = HandleBEHAV.read()\n",
    "\n",
    "@interact\n",
    "def show_image(Time=widgets.IntSlider(min=0,max=lengt-1h,step=1,value=0), Brightness=widgets.FloatSlider(min=0,max=10,step=0.1,value=1), binarization=widgets.FloatSlider(min=-1,max=255,step=1,value=-1), substract=False, VSD=False ):\n",
    "    \n",
    "    HandleBEHAV.set(cv2.CAP_PROP_POS_FRAMES, Time)\n",
    "    _ , BEHi = HandleBEHAV.read() \n",
    "    HandleVSD.set(cv2.CAP_PROP_POS_FRAMES, Time)\n",
    "    _ , VSDi = HandleVSD.read() \n",
    "    \n",
    "    if Brightness != 1:\n",
    "        BEHi = Image.fromarray(BEHi, 'RGB')\n",
    "        BEHi = ImageEnhance.Brightness(BEHi).enhance(Brightness)\n",
    "        BEHi = np.array(BEHi)\n",
    "    \n",
    "    if substract == True:\n",
    "        HandleBEHAV.set(cv2.CAP_PROP_POS_FRAMES, 0)\n",
    "        _ , IMG0 = HandleBEHAV.read()\n",
    "        if Brightness != 1:\n",
    "            IMG0 = Image.fromarray(IMG0, 'RGB')\n",
    "            IMG0 = ImageEnhance.Brightness(IMG0).enhance(Brightness)\n",
    "            IMG0 = np.array(IMG0)\n",
    "        \n",
    "        BEHi = BEHi-IMG0\n",
    "    \n",
    "    if binarization != -1:\n",
    "        _ , BEHi = cv2.threshold(BEHi,binarization,255,cv2.THRESH_BINARY)\n",
    "        \n",
    "    if VSD == True :\n",
    "        \n",
    "        width,height = calculateNewSize(np.shape(VSDi)[1],np.shape(VSDi)[0],np.shape(BEHi)[1])\n",
    "        VSDi = Image.fromarray(VSDi, 'RGB')\n",
    "        VSDi = VSDi.resize((width,height), Image.ANTIALIAS)\n",
    "        output = np.concatenate((VSDi,BEHi),axis=0)\n",
    "    \n",
    "    else :\n",
    "        \n",
    "        output = BEHi\n",
    "    \n",
    "    fig = plt.figure(figsize = (10,20))\n",
    "    plt.imshow(output, interpolation='none')\n"
   ]
  },
  {
   "cell_type": "code",
   "execution_count": null,
   "metadata": {},
   "outputs": [],
   "source": []
  },
  {
   "cell_type": "code",
   "execution_count": null,
   "metadata": {},
   "outputs": [],
   "source": [
    "while(1):\n",
    "    _ , img1 = cap.read()\n",
    "    \n",
    "    cv2.namedWindow('video',cv2.WINDOW_NORMAL)\n",
    "    cv2.imshow('video',img2)            \n",
    "    k=cv2.waitKey(1) & 0xFF\n",
    "\n",
    "    if k==27:\n",
    "        break\n",
    "cap.release()"
   ]
  }
 ],
 "metadata": {
  "kernelspec": {
   "display_name": "Python 3",
   "language": "python",
   "name": "python3"
  },
  "language_info": {
   "codemirror_mode": {
    "name": "ipython",
    "version": 3
   },
   "file_extension": ".py",
   "mimetype": "text/x-python",
   "name": "python",
   "nbconvert_exporter": "python",
   "pygments_lexer": "ipython3",
   "version": "3.6.8"
  }
 },
 "nbformat": 4,
 "nbformat_minor": 4
}
