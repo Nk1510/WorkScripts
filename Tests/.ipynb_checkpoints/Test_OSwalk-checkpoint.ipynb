{
 "cells": [
  {
   "cell_type": "code",
   "execution_count": 2,
   "metadata": {},
   "outputs": [],
   "source": [
    "import cv2\n",
    "from matplotlib import pyplot as plt\n",
    "from ipywidgets import interact, interactive, fixed, interact_manual\n",
    "import ipywidgets as widgets\n",
    "import numpy as np\n",
    "from PIL import Image\n",
    "from PIL import ImageFilter\n",
    "from matplotlib import animation\n",
    "from PIL import ImageEnhance\n",
    "\n",
    "from tkinter import filedialog\n",
    "import tkinter as tk\n",
    "import pickle\n",
    "\n",
    "\n",
    "from os import sys\n",
    "\n",
    "import matplotlib.pyplot as plt\n",
    "import argparse\n",
    "\n",
    "from statistics import mean\n",
    "import os\n",
    "\n",
    "%matplotlib inline\n",
    "\n",
    "# for loading array \n",
    "from scipy.interpolate import interp1d\n",
    "from scipy.io import loadmat\n",
    "from scipy import signal as sig\n",
    "import pandas as pd\n",
    "import numpy as np\n",
    "import mat4py\n"
   ]
  },
  {
   "cell_type": "code",
   "execution_count": 3,
   "metadata": {},
   "outputs": [
    {
     "name": "stdout",
     "output_type": "stream",
     "text": [
      "('C:\\\\Users\\\\Nicolas\\\\Desktop', 'Extraits CMPT')\n"
     ]
    }
   ],
   "source": [
    "root = tk.Tk()\n",
    "\n",
    "CHOOSE_INPUT_PATH_ON_START = 1\n",
    "\n",
    "inputBASE = r\"C:\\Users\\Nicolas\\Desktop\\Extraits CMPT\"\n",
    "#outputBASE = r\"C:\\Users\\Nicolas\\Desktop\\Extraits CMPT\"\n",
    "\n",
    "print(os.path.split(inputBASE))\n",
    "\n",
    "if CHOOSE_INPUT_PATH_ON_START :\n",
    "    inputBASE = filedialog.askdirectory(parent=root, initialdir=inputBASE, title='Choose videos to processed for hit detection')\n",
    "\n",
    "\n",
    "for root, dir, files in os.walk(inputBASE):\n",
    "    print(root)\n",
    "    for file in files:\n",
    "        \n",
    "        if file.endswith('.avi'):\n",
    "            currentfile = os.path.join(root,file)\n",
    "            \n"
   ]
  },
  {
   "cell_type": "code",
   "execution_count": null,
   "metadata": {},
   "outputs": [],
   "source": []
  }
 ],
 "metadata": {
  "kernelspec": {
   "display_name": "Python 3",
   "language": "python",
   "name": "python3"
  },
  "language_info": {
   "codemirror_mode": {
    "name": "ipython",
    "version": 3
   },
   "file_extension": ".py",
   "mimetype": "text/x-python",
   "name": "python",
   "nbconvert_exporter": "python",
   "pygments_lexer": "ipython3",
   "version": "3.6.8"
  }
 },
 "nbformat": 4,
 "nbformat_minor": 2
}
