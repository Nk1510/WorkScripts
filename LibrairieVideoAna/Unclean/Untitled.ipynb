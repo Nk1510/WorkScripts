{
 "cells": [
  {
   "cell_type": "code",
   "execution_count": 1,
   "metadata": {},
   "outputs": [],
   "source": [
    "import math\n",
    "import numpy as np\n",
    "\n",
    "def numpy_fillna(data):\n",
    "    # Get lengths of each row of data\n",
    "    lens = np.array([len(i) for i in data])\n",
    "\n",
    "    # Mask of valid places in each row\n",
    "    mask = np.arange(lens.max()) < lens[:,None]\n",
    "\n",
    "    # Setup output array and put elements from data into masked positions\n",
    "    out = np.full(mask.shape, np.nan, dtype=data.dtype)\n",
    "    out[mask] = np.concatenate(data)\n",
    "    return out\n"
   ]
  },
  {
   "cell_type": "code",
   "execution_count": 3,
   "metadata": {},
   "outputs": [
    {
     "name": "stdout",
     "output_type": "stream",
     "text": [
      "[0 1 2 3 4]\n",
      "0 14\n",
      "3\n",
      "[0 0 5]\n",
      "[0 0 5 5]\n",
      "[0 0 5 5 5]\n",
      "[ 0.  0.  5.  5.  5. nan]\n",
      "[list([1, 2, 3, 4]) list([2, 3, 1]) list([5, 5, 5, 5]) list([1, 1])]\n",
      "(4,)\n",
      "(1, 5)\n"
     ]
    }
   ],
   "source": [
    "def PasteUnfitArray(MasterArray,InsertedArray):\n",
    "    print(np.shape(MasterArray))\n",
    "    print(np.shape(InsertedArray))\n",
    "    \n",
    "\n",
    "print(np.arange(len([1,2,3,4,5])))\n",
    "\n",
    "\n",
    "Results = np.array([0,0])\n",
    "Results = np.append(Results,5)\n",
    "nbofBins = math.floor(14/15)\n",
    "remainder = 14%15\n",
    "print(nbofBins,remainder)\n",
    "print(np.size(Results,0))\n",
    "if np.size(Results,0) == 0 :\n",
    "    print(\"chier\")\n",
    "print(Results)\n",
    "Results = np.append(Results,np.array([[5]]))\n",
    "print(Results)\n",
    "Results = np.append(Results,np.array([[5]]))\n",
    "print(Results)\n",
    "Results = np.append(Results,np.array([[np.nan]]))\n",
    "print(Results)\n",
    "\n",
    "\n",
    "data = np.array([[1, 2, 3, 4],\n",
    "                 [2, 3, 1],\n",
    "                 [5, 5, 5, 5],\n",
    "                 [1, 1]],dtype=object)\n",
    "print(data)\n",
    "objecti=np.array([[12,15,4,45,7]],dtype=object)\n",
    "\n",
    "PasteUnfitArray(data,objecti)\n",
    "\n",
    "\n",
    "\n",
    "#data = np.append(data,objecti)\n",
    "\n",
    "#print(data)\n",
    "#print(np.shape(data))\n",
    "#newdata = numpy_fillna(data)\n",
    "#print(newdata)\n",
    "#print(np.shape(newdata)#)"
   ]
  },
  {
   "cell_type": "code",
   "execution_count": null,
   "metadata": {},
   "outputs": [],
   "source": []
  },
  {
   "cell_type": "code",
   "execution_count": null,
   "metadata": {},
   "outputs": [],
   "source": []
  }
 ],
 "metadata": {
  "kernelspec": {
   "display_name": "Python 3",
   "language": "python",
   "name": "python3"
  },
  "language_info": {
   "codemirror_mode": {
    "name": "ipython",
    "version": 3
   },
   "file_extension": ".py",
   "mimetype": "text/x-python",
   "name": "python",
   "nbconvert_exporter": "python",
   "pygments_lexer": "ipython3",
   "version": "3.6.8"
  }
 },
 "nbformat": 4,
 "nbformat_minor": 2
}
