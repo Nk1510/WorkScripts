{
 "cells": [
  {
   "cell_type": "code",
   "execution_count": 28,
   "metadata": {},
   "outputs": [],
   "source": [
    "import mysql.connector\n",
    "import numpy as np\n",
    "import matplotlib\n",
    "import matplotlib.pyplot as plt\n",
    "\n",
    "cnx = mysql.connector.connect(host=\"127.0.0.1\",user=\"Tim\",passwd=\"Turion162!\",db=\"maze\")"
   ]
  },
  {
   "cell_type": "code",
   "execution_count": 45,
   "metadata": {},
   "outputs": [
    {
     "ename": "TypeError",
     "evalue": "'float' object is not callable",
     "output_type": "error",
     "traceback": [
      "\u001b[1;31m---------------------------------------------------------------------------\u001b[0m",
      "\u001b[1;31mTypeError\u001b[0m                                 Traceback (most recent call last)",
      "\u001b[1;32m<ipython-input-45-9d6b2884dfa3>\u001b[0m in \u001b[0;36m<module>\u001b[1;34m\u001b[0m\n\u001b[0;32m     26\u001b[0m     \u001b[0mcursor\u001b[0m\u001b[1;33m.\u001b[0m\u001b[0mclose\u001b[0m\u001b[1;33m(\u001b[0m\u001b[1;33m)\u001b[0m\u001b[1;33m\u001b[0m\u001b[1;33m\u001b[0m\u001b[0m\n\u001b[0;32m     27\u001b[0m     \u001b[0mStorageEvents\u001b[0m \u001b[1;33m=\u001b[0m \u001b[0mnp\u001b[0m\u001b[1;33m.\u001b[0m\u001b[0masarray\u001b[0m\u001b[1;33m(\u001b[0m\u001b[0mresult\u001b[0m\u001b[1;33m)\u001b[0m\u001b[1;33m\u001b[0m\u001b[1;33m\u001b[0m\u001b[0m\n\u001b[1;32m---> 28\u001b[1;33m     \u001b[0mNanListEvents\u001b[0m \u001b[1;33m=\u001b[0m \u001b[0mnp\u001b[0m\u001b[1;33m.\u001b[0m\u001b[0mfull\u001b[0m\u001b[1;33m(\u001b[0m\u001b[1;33m(\u001b[0m\u001b[1;36m1\u001b[0m\u001b[1;33m,\u001b[0m\u001b[0mlen\u001b[0m\u001b[1;33m(\u001b[0m\u001b[0mArrayIntervals\u001b[0m\u001b[1;33m)\u001b[0m\u001b[1;33m)\u001b[0m\u001b[1;33m,\u001b[0m \u001b[0mnp\u001b[0m\u001b[1;33m.\u001b[0m\u001b[0mnan\u001b[0m\u001b[1;33m(\u001b[0m\u001b[1;33m)\u001b[0m\u001b[1;33m)\u001b[0m\u001b[1;33m\u001b[0m\u001b[1;33m\u001b[0m\u001b[0m\n\u001b[0m\u001b[0;32m     29\u001b[0m     \u001b[0mprint\u001b[0m\u001b[1;33m(\u001b[0m\u001b[0mNanListEvents\u001b[0m\u001b[1;33m)\u001b[0m\u001b[1;33m\u001b[0m\u001b[1;33m\u001b[0m\u001b[0m\n\u001b[0;32m     30\u001b[0m     \u001b[1;32mfor\u001b[0m \u001b[0mS\u001b[0m \u001b[1;32min\u001b[0m \u001b[0mrange\u001b[0m\u001b[1;33m(\u001b[0m\u001b[0mlen\u001b[0m\u001b[1;33m(\u001b[0m\u001b[0mStorageEvents\u001b[0m\u001b[1;33m)\u001b[0m\u001b[1;33m)\u001b[0m \u001b[1;33m:\u001b[0m\u001b[1;33m\u001b[0m\u001b[1;33m\u001b[0m\u001b[0m\n",
      "\u001b[1;31mTypeError\u001b[0m: 'float' object is not callable"
     ]
    }
   ],
   "source": [
    "sessionid = 1033, 1034\n",
    "for J in sessionid :\n",
    "    cursor = cnx.cursor()\n",
    "    query = (\"\"\"\n",
    "                SELECT distinct timestamp FROM maze.session_detail as sd \n",
    "                INNER JOIN mouses_sessions as ms on sd.mouses_id = ms.mouses_id\n",
    "                where event_value in (20,21,22) and sd.session_id = %s;\n",
    "              \"\"\")\n",
    "    Add= (J,)\n",
    "    cursor.execute(query, Add)\n",
    "    result=cursor.fetchall()\n",
    "    cursor.close()\n",
    "    Storage = np.asarray(result)\n",
    "    ArrayIntervals =  np.zeros((0, 1)) \n",
    "    \n",
    "    cursor = cnx.cursor()\n",
    "    query = (\"\"\"\n",
    "                SELECT distinct timestamp,  IF(event_value = 21, 'Expectancy', '') AS expectancy, IF(event_value = 22, 'Inverted', '') AS inverted ,   ROW_NUMBER() OVER ( ORDER BY timestamp ) as trial_num FROM maze.session_detail as sd \n",
    "                INNER JOIN mouses_sessions as ms on sd.mouses_id = ms.mouses_id\n",
    "                where event_value in (20,21,22) and sd.session_id = %s\n",
    "                group by timestamp;\n",
    "              \"\"\")\n",
    "    Add= (J,)\n",
    "    cursor.execute(query, Add)\n",
    "    result=cursor.fetchall()\n",
    "    cursor.close()\n",
    "    StorageEvents = np.asarray(result)\n",
    "    NanListEvents = np.full((len(ArrayIntervals),1), np.nan)\n",
    "    print(NanListEvents)\n",
    "    for S in range(len(StorageEvents)) :\n",
    "        if StorageEvents[S,1] != '':\n",
    "            print(\"trial\", S, StorageEvents[S,1])\n",
    "            NanListEvents[S] = StorageEvents[S,1]\n",
    "            \n",
    "        if StorageEvents[S,2] != '':\n",
    "            print(\"trial\", S, StorageEvents[S,2])\n",
    "            NanListEvents[S] = StorageEvents[S,2]\n",
    "    \n",
    "    for I in range(len(Storage)):\n",
    "        if I > 0:\n",
    "            Value = Storage[I]-Storage[I-1]\n",
    "            ArrayIntervals = np.append(ArrayIntervals,Value)\n",
    "    print(ArrayIntervals)\n",
    "    print(NanListEvents)\n",
    "    plt.plot(ArrayIntervals/1000)\n",
    "    plt.plot(ArrayIntervals/1000,'-o')\n",
    "    plt.show()"
   ]
  },
  {
   "cell_type": "code",
   "execution_count": null,
   "metadata": {},
   "outputs": [],
   "source": []
  }
 ],
 "metadata": {
  "kernelspec": {
   "display_name": "Python 3",
   "language": "python",
   "name": "python3"
  },
  "language_info": {
   "codemirror_mode": {
    "name": "ipython",
    "version": 3
   },
   "file_extension": ".py",
   "mimetype": "text/x-python",
   "name": "python",
   "nbconvert_exporter": "python",
   "pygments_lexer": "ipython3",
   "version": "3.6.8"
  }
 },
 "nbformat": 4,
 "nbformat_minor": 2
}
