{
 "cells": [
  {
   "cell_type": "code",
   "execution_count": 1,
   "metadata": {},
   "outputs": [],
   "source": [
    "import mysql.connector\n",
    "import numpy as np\n",
    "import matplotlib\n",
    "import matplotlib.pyplot as plt\n",
    "\n",
    "cnx = mysql.connector.connect(host=\"127.0.0.1\",user=\"Tim\",passwd=\"Turion162!\",db=\"maze\")"
   ]
  },
  {
   "cell_type": "code",
   "execution_count": 3,
   "metadata": {},
   "outputs": [],
   "source": [
    "sessionid = 1025\n",
    "\n",
    "cursor = cnx.cursor()\n",
    "query = (\"\"\"\n",
    "        SELECT distinct timestamp FROM maze.session_detail as sd \n",
    "INNER JOIN mouses_sessions as ms on sd.mouses_id = ms.mouses_id\n",
    "where event_value = 4 and sd.session_id = %s;\n",
    "          \"\"\")\n",
    "Add= (sessionid,)\n",
    "cursor.execute(query, Add)\n",
    "result=cursor.fetchall()\n",
    "cursor.close()\n",
    "Storage = np.asarray(result)"
   ]
  },
  {
   "cell_type": "code",
   "execution_count": 4,
   "metadata": {},
   "outputs": [
    {
     "name": "stdout",
     "output_type": "stream",
     "text": [
      "[97624. 28391. 13038. 16775.  9005. 11230. 21932.  5750.  5591.  6296.\n",
      "  5529.  6043.  5388.  4660.  5273.  4821.  5274.  4711.  5163.  4922.\n",
      "  4253.  4609.  5131.  4232.  4331.  4264.  7527.  6283.  4796.  4229.\n",
      "  4607.  4553.  5030.  4168.  4060.  4388.  4314.  7152.  5156.  4338.\n",
      "  4946.  4483.  4371.  4695.  4565. 14226.  4677.  4556.  4644.  4824.\n",
      "  5057.  4501.  5819.  3952.  4894.  4889.  4297.  4238.  5075.  4116.\n",
      "  4523.  4621. 10871.  3903.  4125.  4040.  5870.  4655.  4283.  4861.\n",
      "  4249.  4009.  4024.  4820.  4144.  4213.  4166.  7739.  6675.  4343.\n",
      "  4280.  5263.  4171.  5042.  4291.]\n"
     ]
    }
   ],
   "source": [
    "ArrayIntervals =  np.zeros((0, 1)) \n",
    "for I in range(len(Storage)):\n",
    "    if I > 0:\n",
    "        Value = Storage[I]-Storage[I-1]\n",
    "        ArrayIntervals = np.append(ArrayIntervals,Value)\n",
    "print(ArrayIntervals)"
   ]
  },
  {
   "cell_type": "code",
   "execution_count": 5,
   "metadata": {},
   "outputs": [
    {
     "data": {
      "image/png": "[encoded data removed]",
      "text/plain": [
       "<Figure size 432x288 with 1 Axes>"
      ]
     },
     "metadata": {
      "needs_background": "light"
     },
     "output_type": "display_data"
    }
   ],
   "source": [
    "plt.plot(ArrayIntervals/1000)\n",
    "plt.show()"
   ]
  },
  {
   "cell_type": "code",
   "execution_count": null,
   "metadata": {},
   "outputs": [],
   "source": []
  }
 ],
 "metadata": {
  "kernelspec": {
   "display_name": "Python 3",
   "language": "python",
   "name": "python3"
  },
  "language_info": {
   "codemirror_mode": {
    "name": "ipython",
    "version": 3
   },
   "file_extension": ".py",
   "mimetype": "text/x-python",
   "name": "python",
   "nbconvert_exporter": "python",
   "pygments_lexer": "ipython3",
   "version": "3.6.8"
  }
 },
 "nbformat": 4,
 "nbformat_minor": 2
}
