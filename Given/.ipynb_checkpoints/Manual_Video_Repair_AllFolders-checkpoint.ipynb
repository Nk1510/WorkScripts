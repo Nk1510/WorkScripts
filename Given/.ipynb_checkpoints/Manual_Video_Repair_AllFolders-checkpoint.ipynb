{
 "cells": [
  {
   "cell_type": "code",
   "execution_count": 1,
   "metadata": {},
   "outputs": [],
   "source": [
    "%reset -f\n",
    "import os , sys\n",
    "import numpy as np    \n",
    "\n",
    "sys.path.append(r\"C:\\Users\\Timothe\\NasgoyaveOC\\Professionnel\\TheseUNIC\\Scripts\\Python\\Librairies_Tim\")\n",
    "sys.path.append(r'C:\\Users\\Nicolas\\Documents\\GitHub\\Scripts\\Python\\Librairies_Tim')\n",
    "\n",
    "\n",
    "from LibUtils import image, video, hiris, strings"
   ]
  },
  {
   "cell_type": "code",
   "execution_count": 3,
   "metadata": {},
   "outputs": [
    {
     "name": "stdin",
     "output_type": "stream",
     "text": [
      "Write frame min and max, or exit 1 501\n"
     ]
    },
    {
     "name": "stdout",
     "output_type": "stream",
     "text": [
      "1 501\n",
      "[1, 501]\n",
      "about to write a video named 2020-02-07T14.48.51\n"
     ]
    },
    {
     "name": "stderr",
     "output_type": "stream",
     "text": [
      "\n",
      "Writing video at F:\\DATA\\BehavioralVideos\\Whisker_Video\\Whisker_Topview\\Expect_1\\Mouse21\\200207_2\\2020-02-07T14.48.51.avi\n"
     ]
    },
    {
     "name": "stdout",
     "output_type": "stream",
     "text": [
      "2020-02-07T14.48.51\n",
      "Using default extension (.avi) as none was specified\n",
      "Using default framerate (30 fps) as none was specified\n",
      "Using default codec (MJPG) as none was specified\n"
     ]
    },
    {
     "name": "stderr",
     "output_type": "stream",
     "text": [
      "0% [▓▓▓▓▓▓▓▓▓▓▓▓▓▓▓▓▓▓▓▓▓▓▓▓▓▓▓▓▓▓] 100% | ETA: 00:00:00\n",
      "Total time elapsed: 00:00:14\n"
     ]
    },
    {
     "name": "stdout",
     "output_type": "stream",
     "text": [
      "Video compression at F:\\DATA\\BehavioralVideos\\Whisker_Video\\Whisker_Topview\\Expect_1\\Mouse21\\200207_2\\2020-02-07T14.48.51.avi sucessfull\n",
      "\n",
      "F:\\DATA\\BehavioralVideos\\Whisker_Video\\Whisker_Topview\\Expect_1\\Mouse21\\200207_2\\2020-02-07T14.48.51.avi\n",
      "Repaired 104 files, number of frames possible : between 0 and 38860\n",
      "\n",
      "(501, 1001)\n"
     ]
    },
    {
     "ename": "AttributeError",
     "evalue": "'tuple' object has no attribute 'split'",
     "output_type": "error",
     "traceback": [
      "\u001b[1;31m---------------------------------------------------------------------------\u001b[0m",
      "\u001b[1;31mAttributeError\u001b[0m                            Traceback (most recent call last)",
      "\u001b[1;32m<ipython-input-3-e7773e8d94d4>\u001b[0m in \u001b[0;36m<module>\u001b[1;34m\u001b[0m\n\u001b[0;32m     12\u001b[0m         \u001b[1;32mpass\u001b[0m\u001b[1;33m\u001b[0m\u001b[1;33m\u001b[0m\u001b[0m\n\u001b[0;32m     13\u001b[0m     \u001b[1;32melse\u001b[0m \u001b[1;33m:\u001b[0m\u001b[1;33m\u001b[0m\u001b[1;33m\u001b[0m\u001b[0m\n\u001b[1;32m---> 14\u001b[1;33m         \u001b[0mvalues\u001b[0m \u001b[1;33m=\u001b[0m \u001b[0minputline\u001b[0m\u001b[1;33m.\u001b[0m\u001b[0msplit\u001b[0m\u001b[1;33m(\u001b[0m\u001b[1;34m\" \"\u001b[0m\u001b[1;33m)\u001b[0m\u001b[1;33m\u001b[0m\u001b[1;33m\u001b[0m\u001b[0m\n\u001b[0m\u001b[0;32m     15\u001b[0m         \u001b[1;32mif\u001b[0m \u001b[1;34m\"+\"\u001b[0m \u001b[1;32min\u001b[0m \u001b[0mvalues\u001b[0m\u001b[1;33m[\u001b[0m\u001b[1;36m1\u001b[0m\u001b[1;33m]\u001b[0m \u001b[1;33m:\u001b[0m\u001b[1;33m\u001b[0m\u001b[1;33m\u001b[0m\u001b[0m\n\u001b[0;32m     16\u001b[0m             \u001b[0mtemp\u001b[0m \u001b[1;33m=\u001b[0m \u001b[0mvalues\u001b[0m\u001b[1;33m[\u001b[0m\u001b[1;36m1\u001b[0m\u001b[1;33m]\u001b[0m\u001b[1;33m.\u001b[0m\u001b[0msplit\u001b[0m\u001b[1;33m(\u001b[0m\u001b[1;34m\"+\"\u001b[0m\u001b[1;33m)\u001b[0m\u001b[1;33m\u001b[0m\u001b[1;33m\u001b[0m\u001b[0m\n",
      "\u001b[1;31mAttributeError\u001b[0m: 'tuple' object has no attribute 'split'"
     ]
    }
   ],
   "source": [
    "sessionpath = r\"F:\\DATA\\BehavioralVideos\\Whisker_Video\\Whisker_Topview\\Expect_1\\Mouse21\\200207_2\"\n",
    "\n",
    "binfiles = hiris.GetHIRIS_binfiles(sessionpath)\n",
    "params = hiris.GetHIRIS_parameters(sessionpath)\n",
    "framecounts = hiris.FrameOffsetList(binfiles,params)\n",
    "\n",
    "inputline = input(\"Write frame min and max, or exit\")\n",
    "print(inputline)\n",
    "while inputline != \"exit\" :\n",
    "    \n",
    "    if values == tuple :\n",
    "        pass\n",
    "    else :\n",
    "        values = inputline.split(\" \")\n",
    "        if \"+\" in values[1] :\n",
    "            temp = values[1].split(\"+\")\n",
    "            values[1] = int(temp[0]) + int(temp[1])\n",
    "    values[0] = int(values[0])\n",
    "    values[1] = int(values[1])\n",
    "    print(values)\n",
    "    FramesArray, outpathname = hiris.GetHIRIS_FramesArray(binfiles,framecounts,params,values[0],values[1])\n",
    "    print(f\"about to write a video named {os.path.basename(os.path.dirname(outpathname))}\")\n",
    "    returnval = image.VideoDialog(FramesArray)\n",
    "    if returnval:\n",
    "        video.VideoArrayWrite(FramesArray,sessionpath,input_path = outpathname)\n",
    "    \n",
    "    \n",
    "    producedfiles = strings.RegFileSearch(sessionpath, r\".*\\.avi$\")\n",
    "    print(producedfiles)\n",
    "    print(f\"Repaired {len(producedfiles)} files, number of frames possible : between 0 and {max(framecounts)}\\n\")\n",
    "    \n",
    "    values = ((values[0] + 500) , (values [1] + 500)) \n",
    "    inputline = values\n",
    "    print(inputline)"
   ]
  },
  {
   "cell_type": "code",
   "execution_count": null,
   "metadata": {},
   "outputs": [],
   "source": []
  }
 ],
 "metadata": {
  "kernelspec": {
   "display_name": "Python 3",
   "language": "python",
   "name": "python3"
  },
  "language_info": {
   "codemirror_mode": {
    "name": "ipython",
    "version": 3
   },
   "file_extension": ".py",
   "mimetype": "text/x-python",
   "name": "python",
   "nbconvert_exporter": "python",
   "pygments_lexer": "ipython3",
   "version": "3.6.8"
  }
 },
 "nbformat": 4,
 "nbformat_minor": 4
}
