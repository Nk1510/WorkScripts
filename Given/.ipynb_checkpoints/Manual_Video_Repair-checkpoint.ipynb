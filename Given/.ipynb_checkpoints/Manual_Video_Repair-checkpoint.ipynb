{
 "cells": [
  {
   "cell_type": "code",
   "execution_count": 2,
   "metadata": {},
   "outputs": [],
   "source": [
    "%reset -f\n",
    "import os , sys\n",
    "import numpy as np    \n",
    "\n",
    "sys.path.append(r\"C:\\Users\\Timothe\\NasgoyaveOC\\Professionnel\\TheseUNIC\\Scripts\\Python\\Librairies_Tim\")\n",
    "\n",
    "from LibUtils import image, video, hiris, strings"
   ]
  },
  {
   "cell_type": "code",
   "execution_count": null,
   "metadata": {},
   "outputs": [
    {
     "name": "stdin",
     "output_type": "stream",
     "text": [
      "Write frame min and max, or exit 2130 2130+500\n"
     ]
    },
    {
     "name": "stdout",
     "output_type": "stream",
     "text": [
      "2130 2130+500\n",
      "[2130, 2630]\n",
      "about to write a video named 2020-02-07T15.36.20\n"
     ]
    },
    {
     "name": "stderr",
     "output_type": "stream",
     "text": [
      "\n",
      "Writing video at D:\\BehavioralVideos\\Whisker_Video\\Whisker_Topview\\Expect_1\\Mouse24\\200207_2\\2020-02-07T15.36.20.avi\n"
     ]
    },
    {
     "name": "stdout",
     "output_type": "stream",
     "text": [
      "2020-02-07T15.36.20\n",
      "Using default extension (.avi) as none was specified\n",
      "Using default framerate (30 fps) as none was specified\n",
      "Using default codec (MJPG) as none was specified\n"
     ]
    },
    {
     "name": "stderr",
     "output_type": "stream",
     "text": [
      "0% [▓▓▓▓▓▓▓▓▓▓▓▓▓▓▓▓              ] 100% | ETA: 00:00:05"
     ]
    }
   ],
   "source": [
    "sessionpath = r\"D:\\BehavioralVideos\\Whisker_Video\\Whisker_Topview\\Expect_1\\Mouse24\\200207_2\"\n",
    "\n",
    "binfiles = hiris.GetHIRIS_binfiles(sessionpath)\n",
    "params = hiris.GetHIRIS_parameters(sessionpath)\n",
    "framecounts = hiris.FrameOffsetList(binfiles,params)\n",
    "\n",
    "inputline = input(\"Write frame min and max, or exit\")\n",
    "print(inputline)\n",
    "while inputline != \"exit\" :\n",
    "    \n",
    "    values = inputline.split(\" \")\n",
    "    if \"+\" in values[1] :\n",
    "        temp = values[1].split(\"+\")\n",
    "        values[1] = int(temp[0]) + int(temp[1])\n",
    "    values[0] = int(values[0])\n",
    "    values[1] = int(values[1])\n",
    "    print(values)\n",
    "    FramesArray, outpathname = hiris.GetHIRIS_FramesArray(binfiles,framecounts,params,values[0],values[1])\n",
    "    print(f\"about to write a video named {os.path.basename(os.path.dirname(outpathname))}\")\n",
    "    returnval = image.VideoDialog(FramesArray)\n",
    "    if returnval:\n",
    "        video.VideoArrayWrite(FramesArray,sessionpath,input_path = outpathname)\n",
    "    \n",
    "    \n",
    "    producedfiles = strings.RegFileSearch(sessionpath, r\".*\\.avi$\")\n",
    "    print(producedfiles)\n",
    "    print(f\"Repaired {len(producedfiles)} files, number of frames possible : between 0 and {max(framecounts)}\\n\")\n",
    "    \n",
    "    inputline = input(\"Write frame min and max, or exit\")\n",
    "    print(inputline)"
   ]
  },
  {
   "cell_type": "code",
   "execution_count": null,
   "metadata": {},
   "outputs": [],
   "source": []
  }
 ],
 "metadata": {
  "kernelspec": {
   "display_name": "Python 3",
   "language": "python",
   "name": "python3"
  },
  "language_info": {
   "codemirror_mode": {
    "name": "ipython",
    "version": 3
   },
   "file_extension": ".py",
   "mimetype": "text/x-python",
   "name": "python",
   "nbconvert_exporter": "python",
   "pygments_lexer": "ipython3",
   "version": "3.6.8"
  }
 },
 "nbformat": 4,
 "nbformat_minor": 4
}
