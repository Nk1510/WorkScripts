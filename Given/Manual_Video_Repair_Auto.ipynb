{
 "cells": [
  {
   "cell_type": "code",
   "execution_count": 1,
   "metadata": {},
   "outputs": [],
   "source": [
    "%reset -f\n",
    "import os , sys\n",
    "import numpy as np    \n",
    "\n",
    "sys.path.append(r\"C:\\Users\\Timothe\\NasgoyaveOC\\Professionnel\\TheseUNIC\\Scripts\\Python\\Librairies_Tim\")\n",
    "sys.path.append(r'C:\\Users\\Nicolas\\Documents\\GitHub\\Scripts\\Python\\Librairies_Tim')\n",
    "\n",
    "\n",
    "from LibUtils import image, video, hiris, strings"
   ]
  },
  {
   "cell_type": "code",
   "execution_count": 3,
   "metadata": {},
   "outputs": [
    {
     "name": "stdin",
     "output_type": "stream",
     "text": [
      "Write frame min and max, or exit 1 501\n"
     ]
    },
    {
     "name": "stdout",
     "output_type": "stream",
     "text": [
      "1 501\n",
      "[1, 501]\n",
      "about to write a video named 2020-02-07T14.48.51\n"
     ]
    },
    {
     "name": "stderr",
     "output_type": "stream",
     "text": [
      "\n",
      "Writing video at F:\\DATA\\BehavioralVideos\\Whisker_Video\\Whisker_Topview\\Expect_1\\Mouse21\\200207_2\\2020-02-07T14.48.51.avi\n"
     ]
    },
    {
     "name": "stdout",
     "output_type": "stream",
     "text": [
      "2020-02-07T14.48.51\n",
      "Using default extension (.avi) as none was specified\n",
      "Using default framerate (30 fps) as none was specified\n",
      "Using default codec (MJPG) as none was specified\n"
     ]
    },
    {
     "name": "stderr",
     "output_type": "stream",
     "text": [
      "0% [▓▓▓▓▓▓▓▓▓▓▓▓▓▓▓▓▓▓▓▓▓▓▓▓▓▓▓▓▓▓] 100% | ETA: 00:00:00\n",
      "Total time elapsed: 00:00:14\n"
     ]
    },
    {
     "name": "stdout",
     "output_type": "stream",
     "text": [
      "Video compression at F:\\DATA\\BehavioralVideos\\Whisker_Video\\Whisker_Topview\\Expect_1\\Mouse21\\200207_2\\2020-02-07T14.48.51.avi sucessfull\n",
      "\n",
      "['F:\\\\DATA\\\\BehavioralVideos\\\\Whisker_Video\\\\Whisker_Topview\\\\Expect_1\\\\Mouse21\\\\200207_2\\\\2020-02-07T14.48.51.avi', 'F:\\\\DATA\\\\BehavioralVideos\\\\Whisker_Video\\\\Whisker_Topview\\\\Expect_1\\\\Mouse21\\\\200207_2\\\\2020-02-07T14.48.55.avi', 'F:\\\\DATA\\\\BehavioralVideos\\\\Whisker_Video\\\\Whisker_Topview\\\\Expect_1\\\\Mouse21\\\\200207_2\\\\2020-02-07T14.49.02.avi']\n",
      "Repaired 3 files, number of frames possible : between 0 and 38860\n",
      "\n",
      "[501, 1001]\n"
     ]
    },
    {
     "name": "stderr",
     "output_type": "stream",
     "text": [
      "\n",
      "Writing video at F:\\DATA\\BehavioralVideos\\Whisker_Video\\Whisker_Topview\\Expect_1\\Mouse21\\200207_2\\2020-02-07T14.48.55.avi\n"
     ]
    },
    {
     "name": "stdout",
     "output_type": "stream",
     "text": [
      "about to write a video named 2020-02-07T14.48.55\n",
      "2020-02-07T14.48.55\n",
      "Using default extension (.avi) as none was specified\n",
      "Using default framerate (30 fps) as none was specified\n",
      "Using default codec (MJPG) as none was specified\n"
     ]
    },
    {
     "name": "stderr",
     "output_type": "stream",
     "text": [
      "0% [▓▓▓▓▓▓▓▓▓▓▓▓▓▓▓▓▓▓▓▓▓▓▓▓▓▓▓▓▓▓] 100% | ETA: 00:00:00\n",
      "Total time elapsed: 00:00:14\n"
     ]
    },
    {
     "name": "stdout",
     "output_type": "stream",
     "text": [
      "Video compression at F:\\DATA\\BehavioralVideos\\Whisker_Video\\Whisker_Topview\\Expect_1\\Mouse21\\200207_2\\2020-02-07T14.48.55.avi sucessfull\n",
      "\n",
      "['F:\\\\DATA\\\\BehavioralVideos\\\\Whisker_Video\\\\Whisker_Topview\\\\Expect_1\\\\Mouse21\\\\200207_2\\\\2020-02-07T14.48.51.avi', 'F:\\\\DATA\\\\BehavioralVideos\\\\Whisker_Video\\\\Whisker_Topview\\\\Expect_1\\\\Mouse21\\\\200207_2\\\\2020-02-07T14.48.55.avi', 'F:\\\\DATA\\\\BehavioralVideos\\\\Whisker_Video\\\\Whisker_Topview\\\\Expect_1\\\\Mouse21\\\\200207_2\\\\2020-02-07T14.49.02.avi']\n",
      "Repaired 3 files, number of frames possible : between 0 and 38860\n",
      "\n",
      "[1001, 1501]\n"
     ]
    },
    {
     "name": "stderr",
     "output_type": "stream",
     "text": [
      "\n",
      "Writing video at F:\\DATA\\BehavioralVideos\\Whisker_Video\\Whisker_Topview\\Expect_1\\Mouse21\\200207_2\\2020-02-07T14.49.02.avi\n"
     ]
    },
    {
     "name": "stdout",
     "output_type": "stream",
     "text": [
      "about to write a video named 2020-02-07T14.49.02\n",
      "2020-02-07T14.49.02\n",
      "Using default extension (.avi) as none was specified\n",
      "Using default framerate (30 fps) as none was specified\n",
      "Using default codec (MJPG) as none was specified\n"
     ]
    },
    {
     "name": "stderr",
     "output_type": "stream",
     "text": [
      "0% [▓▓▓▓▓▓▓▓▓▓▓▓▓▓▓▓▓▓▓▓▓▓▓▓▓▓▓▓▓▓] 100% | ETA: 00:00:00\n",
      "Total time elapsed: 00:00:14\n"
     ]
    },
    {
     "name": "stdout",
     "output_type": "stream",
     "text": [
      "Video compression at F:\\DATA\\BehavioralVideos\\Whisker_Video\\Whisker_Topview\\Expect_1\\Mouse21\\200207_2\\2020-02-07T14.49.02.avi sucessfull\n",
      "\n",
      "['F:\\\\DATA\\\\BehavioralVideos\\\\Whisker_Video\\\\Whisker_Topview\\\\Expect_1\\\\Mouse21\\\\200207_2\\\\2020-02-07T14.48.51.avi', 'F:\\\\DATA\\\\BehavioralVideos\\\\Whisker_Video\\\\Whisker_Topview\\\\Expect_1\\\\Mouse21\\\\200207_2\\\\2020-02-07T14.48.55.avi', 'F:\\\\DATA\\\\BehavioralVideos\\\\Whisker_Video\\\\Whisker_Topview\\\\Expect_1\\\\Mouse21\\\\200207_2\\\\2020-02-07T14.49.02.avi']\n",
      "Repaired 3 files, number of frames possible : between 0 and 38860\n",
      "\n",
      "[1501, 2001]\n"
     ]
    },
    {
     "name": "stderr",
     "output_type": "stream",
     "text": [
      "\n",
      "Writing video at F:\\DATA\\BehavioralVideos\\Whisker_Video\\Whisker_Topview\\Expect_1\\Mouse21\\200207_2\\2020-02-07T14.49.15.avi\n"
     ]
    },
    {
     "name": "stdout",
     "output_type": "stream",
     "text": [
      "about to write a video named 2020-02-07T14.49.15\n",
      "2020-02-07T14.49.15\n",
      "Using default extension (.avi) as none was specified\n",
      "Using default framerate (30 fps) as none was specified\n",
      "Using default codec (MJPG) as none was specified\n"
     ]
    },
    {
     "name": "stderr",
     "output_type": "stream",
     "text": [
      "0% [▓▓▓▓▓▓▓▓▓▓▓▓▓▓▓▓▓▓▓▓▓▓▓▓▓▓▓▓▓▓] 100% | ETA: 00:00:00\n",
      "Total time elapsed: 00:00:14\n"
     ]
    },
    {
     "name": "stdout",
     "output_type": "stream",
     "text": [
      "Video compression at F:\\DATA\\BehavioralVideos\\Whisker_Video\\Whisker_Topview\\Expect_1\\Mouse21\\200207_2\\2020-02-07T14.49.15.avi sucessfull\n",
      "\n",
      "['F:\\\\DATA\\\\BehavioralVideos\\\\Whisker_Video\\\\Whisker_Topview\\\\Expect_1\\\\Mouse21\\\\200207_2\\\\2020-02-07T14.48.51.avi', 'F:\\\\DATA\\\\BehavioralVideos\\\\Whisker_Video\\\\Whisker_Topview\\\\Expect_1\\\\Mouse21\\\\200207_2\\\\2020-02-07T14.48.55.avi', 'F:\\\\DATA\\\\BehavioralVideos\\\\Whisker_Video\\\\Whisker_Topview\\\\Expect_1\\\\Mouse21\\\\200207_2\\\\2020-02-07T14.49.02.avi', 'F:\\\\DATA\\\\BehavioralVideos\\\\Whisker_Video\\\\Whisker_Topview\\\\Expect_1\\\\Mouse21\\\\200207_2\\\\2020-02-07T14.49.15.avi']\n",
      "Repaired 4 files, number of frames possible : between 0 and 38860\n",
      "\n",
      "[2001, 2501]\n"
     ]
    },
    {
     "name": "stderr",
     "output_type": "stream",
     "text": [
      "\n",
      "Writing video at F:\\DATA\\BehavioralVideos\\Whisker_Video\\Whisker_Topview\\Expect_1\\Mouse21\\200207_2\\2020-02-07T14.49.45.avi\n"
     ]
    },
    {
     "name": "stdout",
     "output_type": "stream",
     "text": [
      "about to write a video named 2020-02-07T14.49.45\n",
      "2020-02-07T14.49.45\n",
      "Using default extension (.avi) as none was specified\n",
      "Using default framerate (30 fps) as none was specified\n",
      "Using default codec (MJPG) as none was specified\n"
     ]
    },
    {
     "name": "stderr",
     "output_type": "stream",
     "text": [
      "0% [▓▓▓▓▓▓▓▓▓▓▓▓▓▓▓▓▓▓▓▓▓▓▓▓▓▓▓▓▓▓] 100% | ETA: 00:00:00\n",
      "Total time elapsed: 00:00:14\n"
     ]
    },
    {
     "name": "stdout",
     "output_type": "stream",
     "text": [
      "Video compression at F:\\DATA\\BehavioralVideos\\Whisker_Video\\Whisker_Topview\\Expect_1\\Mouse21\\200207_2\\2020-02-07T14.49.45.avi sucessfull\n",
      "\n",
      "['F:\\\\DATA\\\\BehavioralVideos\\\\Whisker_Video\\\\Whisker_Topview\\\\Expect_1\\\\Mouse21\\\\200207_2\\\\2020-02-07T14.48.51.avi', 'F:\\\\DATA\\\\BehavioralVideos\\\\Whisker_Video\\\\Whisker_Topview\\\\Expect_1\\\\Mouse21\\\\200207_2\\\\2020-02-07T14.48.55.avi', 'F:\\\\DATA\\\\BehavioralVideos\\\\Whisker_Video\\\\Whisker_Topview\\\\Expect_1\\\\Mouse21\\\\200207_2\\\\2020-02-07T14.49.02.avi', 'F:\\\\DATA\\\\BehavioralVideos\\\\Whisker_Video\\\\Whisker_Topview\\\\Expect_1\\\\Mouse21\\\\200207_2\\\\2020-02-07T14.49.15.avi', 'F:\\\\DATA\\\\BehavioralVideos\\\\Whisker_Video\\\\Whisker_Topview\\\\Expect_1\\\\Mouse21\\\\200207_2\\\\2020-02-07T14.49.45.avi']\n",
      "Repaired 5 files, number of frames possible : between 0 and 38860\n",
      "\n",
      "[2501, 3001]\n"
     ]
    },
    {
     "name": "stderr",
     "output_type": "stream",
     "text": [
      "\n",
      "Writing video at F:\\DATA\\BehavioralVideos\\Whisker_Video\\Whisker_Topview\\Expect_1\\Mouse21\\200207_2\\2020-02-07T14.49.57.avi\n"
     ]
    },
    {
     "name": "stdout",
     "output_type": "stream",
     "text": [
      "about to write a video named 2020-02-07T14.49.57\n",
      "2020-02-07T14.49.57\n",
      "Using default extension (.avi) as none was specified\n",
      "Using default framerate (30 fps) as none was specified\n",
      "Using default codec (MJPG) as none was specified\n"
     ]
    },
    {
     "name": "stderr",
     "output_type": "stream",
     "text": [
      "0% [▓▓▓▓▓▓▓▓▓▓▓▓▓▓▓▓▓▓▓▓▓▓▓▓▓▓▓▓▓▓] 100% | ETA: 00:00:00\n",
      "Total time elapsed: 00:00:15\n"
     ]
    },
    {
     "name": "stdout",
     "output_type": "stream",
     "text": [
      "Video compression at F:\\DATA\\BehavioralVideos\\Whisker_Video\\Whisker_Topview\\Expect_1\\Mouse21\\200207_2\\2020-02-07T14.49.57.avi sucessfull\n",
      "\n",
      "['F:\\\\DATA\\\\BehavioralVideos\\\\Whisker_Video\\\\Whisker_Topview\\\\Expect_1\\\\Mouse21\\\\200207_2\\\\2020-02-07T14.48.51.avi', 'F:\\\\DATA\\\\BehavioralVideos\\\\Whisker_Video\\\\Whisker_Topview\\\\Expect_1\\\\Mouse21\\\\200207_2\\\\2020-02-07T14.48.55.avi', 'F:\\\\DATA\\\\BehavioralVideos\\\\Whisker_Video\\\\Whisker_Topview\\\\Expect_1\\\\Mouse21\\\\200207_2\\\\2020-02-07T14.49.02.avi', 'F:\\\\DATA\\\\BehavioralVideos\\\\Whisker_Video\\\\Whisker_Topview\\\\Expect_1\\\\Mouse21\\\\200207_2\\\\2020-02-07T14.49.15.avi', 'F:\\\\DATA\\\\BehavioralVideos\\\\Whisker_Video\\\\Whisker_Topview\\\\Expect_1\\\\Mouse21\\\\200207_2\\\\2020-02-07T14.49.45.avi', 'F:\\\\DATA\\\\BehavioralVideos\\\\Whisker_Video\\\\Whisker_Topview\\\\Expect_1\\\\Mouse21\\\\200207_2\\\\2020-02-07T14.49.57.avi']\n",
      "Repaired 6 files, number of frames possible : between 0 and 38860\n",
      "\n",
      "[3001, 3501]\n"
     ]
    },
    {
     "name": "stderr",
     "output_type": "stream",
     "text": [
      "\n",
      "Writing video at F:\\DATA\\BehavioralVideos\\Whisker_Video\\Whisker_Topview\\Expect_1\\Mouse21\\200207_2\\2020-02-07T14.50.04.avi\n"
     ]
    },
    {
     "name": "stdout",
     "output_type": "stream",
     "text": [
      "about to write a video named 2020-02-07T14.50.04\n",
      "2020-02-07T14.50.04\n",
      "Using default extension (.avi) as none was specified\n",
      "Using default framerate (30 fps) as none was specified\n",
      "Using default codec (MJPG) as none was specified\n"
     ]
    },
    {
     "name": "stderr",
     "output_type": "stream",
     "text": [
      "0% [▓▓▓▓▓▓▓▓▓▓▓▓▓▓▓▓▓▓▓▓▓▓▓▓▓▓▓▓▓▓] 100% | ETA: 00:00:00\n",
      "Total time elapsed: 00:00:15\n"
     ]
    },
    {
     "name": "stdout",
     "output_type": "stream",
     "text": [
      "Video compression at F:\\DATA\\BehavioralVideos\\Whisker_Video\\Whisker_Topview\\Expect_1\\Mouse21\\200207_2\\2020-02-07T14.50.04.avi sucessfull\n",
      "\n",
      "['F:\\\\DATA\\\\BehavioralVideos\\\\Whisker_Video\\\\Whisker_Topview\\\\Expect_1\\\\Mouse21\\\\200207_2\\\\2020-02-07T14.48.51.avi', 'F:\\\\DATA\\\\BehavioralVideos\\\\Whisker_Video\\\\Whisker_Topview\\\\Expect_1\\\\Mouse21\\\\200207_2\\\\2020-02-07T14.48.55.avi', 'F:\\\\DATA\\\\BehavioralVideos\\\\Whisker_Video\\\\Whisker_Topview\\\\Expect_1\\\\Mouse21\\\\200207_2\\\\2020-02-07T14.49.02.avi', 'F:\\\\DATA\\\\BehavioralVideos\\\\Whisker_Video\\\\Whisker_Topview\\\\Expect_1\\\\Mouse21\\\\200207_2\\\\2020-02-07T14.49.15.avi', 'F:\\\\DATA\\\\BehavioralVideos\\\\Whisker_Video\\\\Whisker_Topview\\\\Expect_1\\\\Mouse21\\\\200207_2\\\\2020-02-07T14.49.45.avi', 'F:\\\\DATA\\\\BehavioralVideos\\\\Whisker_Video\\\\Whisker_Topview\\\\Expect_1\\\\Mouse21\\\\200207_2\\\\2020-02-07T14.49.57.avi', 'F:\\\\DATA\\\\BehavioralVideos\\\\Whisker_Video\\\\Whisker_Topview\\\\Expect_1\\\\Mouse21\\\\200207_2\\\\2020-02-07T14.50.04.avi']\n",
      "Repaired 7 files, number of frames possible : between 0 and 38860\n",
      "\n",
      "[3501, 4001]\n"
     ]
    },
    {
     "name": "stderr",
     "output_type": "stream",
     "text": [
      "\n",
      "Writing video at F:\\DATA\\BehavioralVideos\\Whisker_Video\\Whisker_Topview\\Expect_1\\Mouse21\\200207_2\\2020-02-07T14.50.11.avi\n"
     ]
    },
    {
     "name": "stdout",
     "output_type": "stream",
     "text": [
      "about to write a video named 2020-02-07T14.50.11\n",
      "2020-02-07T14.50.11\n",
      "Using default extension (.avi) as none was specified\n",
      "Using default framerate (30 fps) as none was specified\n",
      "Using default codec (MJPG) as none was specified\n"
     ]
    },
    {
     "name": "stderr",
     "output_type": "stream",
     "text": [
      "0% [▓▓▓▓▓▓▓▓▓▓▓▓▓▓▓▓▓▓▓▓▓▓▓▓▓▓▓▓▓▓] 100% | ETA: 00:00:00\n",
      "Total time elapsed: 00:00:16\n"
     ]
    },
    {
     "name": "stdout",
     "output_type": "stream",
     "text": [
      "Video compression at F:\\DATA\\BehavioralVideos\\Whisker_Video\\Whisker_Topview\\Expect_1\\Mouse21\\200207_2\\2020-02-07T14.50.11.avi sucessfull\n",
      "\n",
      "['F:\\\\DATA\\\\BehavioralVideos\\\\Whisker_Video\\\\Whisker_Topview\\\\Expect_1\\\\Mouse21\\\\200207_2\\\\2020-02-07T14.48.51.avi', 'F:\\\\DATA\\\\BehavioralVideos\\\\Whisker_Video\\\\Whisker_Topview\\\\Expect_1\\\\Mouse21\\\\200207_2\\\\2020-02-07T14.48.55.avi', 'F:\\\\DATA\\\\BehavioralVideos\\\\Whisker_Video\\\\Whisker_Topview\\\\Expect_1\\\\Mouse21\\\\200207_2\\\\2020-02-07T14.49.02.avi', 'F:\\\\DATA\\\\BehavioralVideos\\\\Whisker_Video\\\\Whisker_Topview\\\\Expect_1\\\\Mouse21\\\\200207_2\\\\2020-02-07T14.49.15.avi', 'F:\\\\DATA\\\\BehavioralVideos\\\\Whisker_Video\\\\Whisker_Topview\\\\Expect_1\\\\Mouse21\\\\200207_2\\\\2020-02-07T14.49.45.avi', 'F:\\\\DATA\\\\BehavioralVideos\\\\Whisker_Video\\\\Whisker_Topview\\\\Expect_1\\\\Mouse21\\\\200207_2\\\\2020-02-07T14.49.57.avi', 'F:\\\\DATA\\\\BehavioralVideos\\\\Whisker_Video\\\\Whisker_Topview\\\\Expect_1\\\\Mouse21\\\\200207_2\\\\2020-02-07T14.50.04.avi', 'F:\\\\DATA\\\\BehavioralVideos\\\\Whisker_Video\\\\Whisker_Topview\\\\Expect_1\\\\Mouse21\\\\200207_2\\\\2020-02-07T14.50.11.avi']\n",
      "Repaired 8 files, number of frames possible : between 0 and 38860\n",
      "\n",
      "[4001, 4501]\n"
     ]
    },
    {
     "name": "stderr",
     "output_type": "stream",
     "text": [
      "\n",
      "Writing video at F:\\DATA\\BehavioralVideos\\Whisker_Video\\Whisker_Topview\\Expect_1\\Mouse21\\200207_2\\2020-02-07T14.50.19.avi\n"
     ]
    },
    {
     "name": "stdout",
     "output_type": "stream",
     "text": [
      "about to write a video named 2020-02-07T14.50.19\n",
      "2020-02-07T14.50.19\n",
      "Using default extension (.avi) as none was specified\n",
      "Using default framerate (30 fps) as none was specified\n",
      "Using default codec (MJPG) as none was specified\n"
     ]
    },
    {
     "name": "stderr",
     "output_type": "stream",
     "text": [
      "0% [▓▓▓▓▓▓▓▓▓▓▓▓▓▓▓▓▓▓▓▓▓▓▓▓▓▓▓▓▓▓] 100% | ETA: 00:00:00\n",
      "Total time elapsed: 00:00:15\n"
     ]
    },
    {
     "name": "stdout",
     "output_type": "stream",
     "text": [
      "Video compression at F:\\DATA\\BehavioralVideos\\Whisker_Video\\Whisker_Topview\\Expect_1\\Mouse21\\200207_2\\2020-02-07T14.50.19.avi sucessfull\n",
      "\n",
      "['F:\\\\DATA\\\\BehavioralVideos\\\\Whisker_Video\\\\Whisker_Topview\\\\Expect_1\\\\Mouse21\\\\200207_2\\\\2020-02-07T14.48.51.avi', 'F:\\\\DATA\\\\BehavioralVideos\\\\Whisker_Video\\\\Whisker_Topview\\\\Expect_1\\\\Mouse21\\\\200207_2\\\\2020-02-07T14.48.55.avi', 'F:\\\\DATA\\\\BehavioralVideos\\\\Whisker_Video\\\\Whisker_Topview\\\\Expect_1\\\\Mouse21\\\\200207_2\\\\2020-02-07T14.49.02.avi', 'F:\\\\DATA\\\\BehavioralVideos\\\\Whisker_Video\\\\Whisker_Topview\\\\Expect_1\\\\Mouse21\\\\200207_2\\\\2020-02-07T14.49.15.avi', 'F:\\\\DATA\\\\BehavioralVideos\\\\Whisker_Video\\\\Whisker_Topview\\\\Expect_1\\\\Mouse21\\\\200207_2\\\\2020-02-07T14.49.45.avi', 'F:\\\\DATA\\\\BehavioralVideos\\\\Whisker_Video\\\\Whisker_Topview\\\\Expect_1\\\\Mouse21\\\\200207_2\\\\2020-02-07T14.49.57.avi', 'F:\\\\DATA\\\\BehavioralVideos\\\\Whisker_Video\\\\Whisker_Topview\\\\Expect_1\\\\Mouse21\\\\200207_2\\\\2020-02-07T14.50.04.avi', 'F:\\\\DATA\\\\BehavioralVideos\\\\Whisker_Video\\\\Whisker_Topview\\\\Expect_1\\\\Mouse21\\\\200207_2\\\\2020-02-07T14.50.11.avi', 'F:\\\\DATA\\\\BehavioralVideos\\\\Whisker_Video\\\\Whisker_Topview\\\\Expect_1\\\\Mouse21\\\\200207_2\\\\2020-02-07T14.50.19.avi']\n",
      "Repaired 9 files, number of frames possible : between 0 and 38860\n",
      "\n",
      "[4501, 5001]\n"
     ]
    },
    {
     "name": "stderr",
     "output_type": "stream",
     "text": [
      "\n",
      "Writing video at F:\\DATA\\BehavioralVideos\\Whisker_Video\\Whisker_Topview\\Expect_1\\Mouse21\\200207_2\\2020-02-07T14.50.27.avi\n"
     ]
    },
    {
     "name": "stdout",
     "output_type": "stream",
     "text": [
      "about to write a video named 2020-02-07T14.50.27\n",
      "2020-02-07T14.50.27\n",
      "Using default extension (.avi) as none was specified\n",
      "Using default framerate (30 fps) as none was specified\n",
      "Using default codec (MJPG) as none was specified\n"
     ]
    },
    {
     "name": "stderr",
     "output_type": "stream",
     "text": [
      "0% [▓▓▓▓▓▓▓▓▓▓▓▓▓▓▓▓▓▓▓▓▓▓▓▓▓▓▓▓▓▓] 100% | ETA: 00:00:00\n",
      "Total time elapsed: 00:00:14\n"
     ]
    },
    {
     "name": "stdout",
     "output_type": "stream",
     "text": [
      "Video compression at F:\\DATA\\BehavioralVideos\\Whisker_Video\\Whisker_Topview\\Expect_1\\Mouse21\\200207_2\\2020-02-07T14.50.27.avi sucessfull\n",
      "\n",
      "['F:\\\\DATA\\\\BehavioralVideos\\\\Whisker_Video\\\\Whisker_Topview\\\\Expect_1\\\\Mouse21\\\\200207_2\\\\2020-02-07T14.48.51.avi', 'F:\\\\DATA\\\\BehavioralVideos\\\\Whisker_Video\\\\Whisker_Topview\\\\Expect_1\\\\Mouse21\\\\200207_2\\\\2020-02-07T14.48.55.avi', 'F:\\\\DATA\\\\BehavioralVideos\\\\Whisker_Video\\\\Whisker_Topview\\\\Expect_1\\\\Mouse21\\\\200207_2\\\\2020-02-07T14.49.02.avi', 'F:\\\\DATA\\\\BehavioralVideos\\\\Whisker_Video\\\\Whisker_Topview\\\\Expect_1\\\\Mouse21\\\\200207_2\\\\2020-02-07T14.49.15.avi', 'F:\\\\DATA\\\\BehavioralVideos\\\\Whisker_Video\\\\Whisker_Topview\\\\Expect_1\\\\Mouse21\\\\200207_2\\\\2020-02-07T14.49.45.avi', 'F:\\\\DATA\\\\BehavioralVideos\\\\Whisker_Video\\\\Whisker_Topview\\\\Expect_1\\\\Mouse21\\\\200207_2\\\\2020-02-07T14.49.57.avi', 'F:\\\\DATA\\\\BehavioralVideos\\\\Whisker_Video\\\\Whisker_Topview\\\\Expect_1\\\\Mouse21\\\\200207_2\\\\2020-02-07T14.50.04.avi', 'F:\\\\DATA\\\\BehavioralVideos\\\\Whisker_Video\\\\Whisker_Topview\\\\Expect_1\\\\Mouse21\\\\200207_2\\\\2020-02-07T14.50.11.avi', 'F:\\\\DATA\\\\BehavioralVideos\\\\Whisker_Video\\\\Whisker_Topview\\\\Expect_1\\\\Mouse21\\\\200207_2\\\\2020-02-07T14.50.19.avi', 'F:\\\\DATA\\\\BehavioralVideos\\\\Whisker_Video\\\\Whisker_Topview\\\\Expect_1\\\\Mouse21\\\\200207_2\\\\2020-02-07T14.50.27.avi']\n",
      "Repaired 10 files, number of frames possible : between 0 and 38860\n",
      "\n",
      "[5001, 5501]\n"
     ]
    },
    {
     "name": "stderr",
     "output_type": "stream",
     "text": [
      "\n",
      "Writing video at F:\\DATA\\BehavioralVideos\\Whisker_Video\\Whisker_Topview\\Expect_1\\Mouse21\\200207_2\\2020-02-07T14.50.51.avi\n"
     ]
    },
    {
     "name": "stdout",
     "output_type": "stream",
     "text": [
      "about to write a video named 2020-02-07T14.50.51\n",
      "2020-02-07T14.50.51\n",
      "Using default extension (.avi) as none was specified\n",
      "Using default framerate (30 fps) as none was specified\n",
      "Using default codec (MJPG) as none was specified\n"
     ]
    },
    {
     "name": "stderr",
     "output_type": "stream",
     "text": [
      "0% [▓▓▓▓▓▓▓▓▓▓▓▓▓▓▓▓▓▓▓▓▓▓▓▓▓▓▓▓▓▓] 100% | ETA: 00:00:00\n",
      "Total time elapsed: 00:00:15\n"
     ]
    },
    {
     "name": "stdout",
     "output_type": "stream",
     "text": [
      "Video compression at F:\\DATA\\BehavioralVideos\\Whisker_Video\\Whisker_Topview\\Expect_1\\Mouse21\\200207_2\\2020-02-07T14.50.51.avi sucessfull\n",
      "\n",
      "['F:\\\\DATA\\\\BehavioralVideos\\\\Whisker_Video\\\\Whisker_Topview\\\\Expect_1\\\\Mouse21\\\\200207_2\\\\2020-02-07T14.48.51.avi', 'F:\\\\DATA\\\\BehavioralVideos\\\\Whisker_Video\\\\Whisker_Topview\\\\Expect_1\\\\Mouse21\\\\200207_2\\\\2020-02-07T14.48.55.avi', 'F:\\\\DATA\\\\BehavioralVideos\\\\Whisker_Video\\\\Whisker_Topview\\\\Expect_1\\\\Mouse21\\\\200207_2\\\\2020-02-07T14.49.02.avi', 'F:\\\\DATA\\\\BehavioralVideos\\\\Whisker_Video\\\\Whisker_Topview\\\\Expect_1\\\\Mouse21\\\\200207_2\\\\2020-02-07T14.49.15.avi', 'F:\\\\DATA\\\\BehavioralVideos\\\\Whisker_Video\\\\Whisker_Topview\\\\Expect_1\\\\Mouse21\\\\200207_2\\\\2020-02-07T14.49.45.avi', 'F:\\\\DATA\\\\BehavioralVideos\\\\Whisker_Video\\\\Whisker_Topview\\\\Expect_1\\\\Mouse21\\\\200207_2\\\\2020-02-07T14.49.57.avi', 'F:\\\\DATA\\\\BehavioralVideos\\\\Whisker_Video\\\\Whisker_Topview\\\\Expect_1\\\\Mouse21\\\\200207_2\\\\2020-02-07T14.50.04.avi', 'F:\\\\DATA\\\\BehavioralVideos\\\\Whisker_Video\\\\Whisker_Topview\\\\Expect_1\\\\Mouse21\\\\200207_2\\\\2020-02-07T14.50.11.avi', 'F:\\\\DATA\\\\BehavioralVideos\\\\Whisker_Video\\\\Whisker_Topview\\\\Expect_1\\\\Mouse21\\\\200207_2\\\\2020-02-07T14.50.19.avi', 'F:\\\\DATA\\\\BehavioralVideos\\\\Whisker_Video\\\\Whisker_Topview\\\\Expect_1\\\\Mouse21\\\\200207_2\\\\2020-02-07T14.50.27.avi', 'F:\\\\DATA\\\\BehavioralVideos\\\\Whisker_Video\\\\Whisker_Topview\\\\Expect_1\\\\Mouse21\\\\200207_2\\\\2020-02-07T14.50.51.avi']\n",
      "Repaired 11 files, number of frames possible : between 0 and 38860\n",
      "\n",
      "[5501, 6001]\n"
     ]
    },
    {
     "name": "stderr",
     "output_type": "stream",
     "text": [
      "\n",
      "Writing video at F:\\DATA\\BehavioralVideos\\Whisker_Video\\Whisker_Topview\\Expect_1\\Mouse21\\200207_2\\2020-02-07T14.51.21.avi\n"
     ]
    },
    {
     "name": "stdout",
     "output_type": "stream",
     "text": [
      "about to write a video named 2020-02-07T14.51.21\n",
      "2020-02-07T14.51.21\n",
      "Using default extension (.avi) as none was specified\n",
      "Using default framerate (30 fps) as none was specified\n",
      "Using default codec (MJPG) as none was specified\n"
     ]
    },
    {
     "name": "stderr",
     "output_type": "stream",
     "text": [
      "0% [▓▓▓▓▓▓▓▓▓▓▓▓▓▓▓▓▓▓▓▓▓▓▓▓▓▓▓▓▓▓] 100% | ETA: 00:00:00\n",
      "Total time elapsed: 00:00:14\n"
     ]
    },
    {
     "name": "stdout",
     "output_type": "stream",
     "text": [
      "Video compression at F:\\DATA\\BehavioralVideos\\Whisker_Video\\Whisker_Topview\\Expect_1\\Mouse21\\200207_2\\2020-02-07T14.51.21.avi sucessfull\n",
      "\n",
      "['F:\\\\DATA\\\\BehavioralVideos\\\\Whisker_Video\\\\Whisker_Topview\\\\Expect_1\\\\Mouse21\\\\200207_2\\\\2020-02-07T14.48.51.avi', 'F:\\\\DATA\\\\BehavioralVideos\\\\Whisker_Video\\\\Whisker_Topview\\\\Expect_1\\\\Mouse21\\\\200207_2\\\\2020-02-07T14.48.55.avi', 'F:\\\\DATA\\\\BehavioralVideos\\\\Whisker_Video\\\\Whisker_Topview\\\\Expect_1\\\\Mouse21\\\\200207_2\\\\2020-02-07T14.49.02.avi', 'F:\\\\DATA\\\\BehavioralVideos\\\\Whisker_Video\\\\Whisker_Topview\\\\Expect_1\\\\Mouse21\\\\200207_2\\\\2020-02-07T14.49.15.avi', 'F:\\\\DATA\\\\BehavioralVideos\\\\Whisker_Video\\\\Whisker_Topview\\\\Expect_1\\\\Mouse21\\\\200207_2\\\\2020-02-07T14.49.45.avi', 'F:\\\\DATA\\\\BehavioralVideos\\\\Whisker_Video\\\\Whisker_Topview\\\\Expect_1\\\\Mouse21\\\\200207_2\\\\2020-02-07T14.49.57.avi', 'F:\\\\DATA\\\\BehavioralVideos\\\\Whisker_Video\\\\Whisker_Topview\\\\Expect_1\\\\Mouse21\\\\200207_2\\\\2020-02-07T14.50.04.avi', 'F:\\\\DATA\\\\BehavioralVideos\\\\Whisker_Video\\\\Whisker_Topview\\\\Expect_1\\\\Mouse21\\\\200207_2\\\\2020-02-07T14.50.11.avi', 'F:\\\\DATA\\\\BehavioralVideos\\\\Whisker_Video\\\\Whisker_Topview\\\\Expect_1\\\\Mouse21\\\\200207_2\\\\2020-02-07T14.50.19.avi', 'F:\\\\DATA\\\\BehavioralVideos\\\\Whisker_Video\\\\Whisker_Topview\\\\Expect_1\\\\Mouse21\\\\200207_2\\\\2020-02-07T14.50.27.avi', 'F:\\\\DATA\\\\BehavioralVideos\\\\Whisker_Video\\\\Whisker_Topview\\\\Expect_1\\\\Mouse21\\\\200207_2\\\\2020-02-07T14.50.51.avi', 'F:\\\\DATA\\\\BehavioralVideos\\\\Whisker_Video\\\\Whisker_Topview\\\\Expect_1\\\\Mouse21\\\\200207_2\\\\2020-02-07T14.51.21.avi']\n",
      "Repaired 12 files, number of frames possible : between 0 and 38860\n",
      "\n",
      "[6001, 6501]\n"
     ]
    },
    {
     "name": "stderr",
     "output_type": "stream",
     "text": [
      "\n",
      "Writing video at F:\\DATA\\BehavioralVideos\\Whisker_Video\\Whisker_Topview\\Expect_1\\Mouse21\\200207_2\\2020-02-07T14.51.29.avi\n"
     ]
    },
    {
     "name": "stdout",
     "output_type": "stream",
     "text": [
      "about to write a video named 2020-02-07T14.51.29\n",
      "2020-02-07T14.51.29\n",
      "Using default extension (.avi) as none was specified\n",
      "Using default framerate (30 fps) as none was specified\n",
      "Using default codec (MJPG) as none was specified\n"
     ]
    },
    {
     "name": "stderr",
     "output_type": "stream",
     "text": [
      "0% [▓▓▓▓▓▓▓▓▓▓▓▓▓▓▓▓▓▓▓▓▓▓▓▓▓▓▓▓▓▓] 100% | ETA: 00:00:00\n",
      "Total time elapsed: 00:00:14\n"
     ]
    },
    {
     "name": "stdout",
     "output_type": "stream",
     "text": [
      "Video compression at F:\\DATA\\BehavioralVideos\\Whisker_Video\\Whisker_Topview\\Expect_1\\Mouse21\\200207_2\\2020-02-07T14.51.29.avi sucessfull\n",
      "\n",
      "['F:\\\\DATA\\\\BehavioralVideos\\\\Whisker_Video\\\\Whisker_Topview\\\\Expect_1\\\\Mouse21\\\\200207_2\\\\2020-02-07T14.48.51.avi', 'F:\\\\DATA\\\\BehavioralVideos\\\\Whisker_Video\\\\Whisker_Topview\\\\Expect_1\\\\Mouse21\\\\200207_2\\\\2020-02-07T14.48.55.avi', 'F:\\\\DATA\\\\BehavioralVideos\\\\Whisker_Video\\\\Whisker_Topview\\\\Expect_1\\\\Mouse21\\\\200207_2\\\\2020-02-07T14.49.02.avi', 'F:\\\\DATA\\\\BehavioralVideos\\\\Whisker_Video\\\\Whisker_Topview\\\\Expect_1\\\\Mouse21\\\\200207_2\\\\2020-02-07T14.49.15.avi', 'F:\\\\DATA\\\\BehavioralVideos\\\\Whisker_Video\\\\Whisker_Topview\\\\Expect_1\\\\Mouse21\\\\200207_2\\\\2020-02-07T14.49.45.avi', 'F:\\\\DATA\\\\BehavioralVideos\\\\Whisker_Video\\\\Whisker_Topview\\\\Expect_1\\\\Mouse21\\\\200207_2\\\\2020-02-07T14.49.57.avi', 'F:\\\\DATA\\\\BehavioralVideos\\\\Whisker_Video\\\\Whisker_Topview\\\\Expect_1\\\\Mouse21\\\\200207_2\\\\2020-02-07T14.50.04.avi', 'F:\\\\DATA\\\\BehavioralVideos\\\\Whisker_Video\\\\Whisker_Topview\\\\Expect_1\\\\Mouse21\\\\200207_2\\\\2020-02-07T14.50.11.avi', 'F:\\\\DATA\\\\BehavioralVideos\\\\Whisker_Video\\\\Whisker_Topview\\\\Expect_1\\\\Mouse21\\\\200207_2\\\\2020-02-07T14.50.19.avi', 'F:\\\\DATA\\\\BehavioralVideos\\\\Whisker_Video\\\\Whisker_Topview\\\\Expect_1\\\\Mouse21\\\\200207_2\\\\2020-02-07T14.50.27.avi', 'F:\\\\DATA\\\\BehavioralVideos\\\\Whisker_Video\\\\Whisker_Topview\\\\Expect_1\\\\Mouse21\\\\200207_2\\\\2020-02-07T14.50.51.avi', 'F:\\\\DATA\\\\BehavioralVideos\\\\Whisker_Video\\\\Whisker_Topview\\\\Expect_1\\\\Mouse21\\\\200207_2\\\\2020-02-07T14.51.21.avi', 'F:\\\\DATA\\\\BehavioralVideos\\\\Whisker_Video\\\\Whisker_Topview\\\\Expect_1\\\\Mouse21\\\\200207_2\\\\2020-02-07T14.51.29.avi']\n",
      "Repaired 13 files, number of frames possible : between 0 and 38860\n",
      "\n",
      "[6501, 7001]\n"
     ]
    },
    {
     "name": "stderr",
     "output_type": "stream",
     "text": [
      "\n",
      "Writing video at F:\\DATA\\BehavioralVideos\\Whisker_Video\\Whisker_Topview\\Expect_1\\Mouse21\\200207_2\\2020-02-07T14.51.36.avi\n"
     ]
    },
    {
     "name": "stdout",
     "output_type": "stream",
     "text": [
      "about to write a video named 2020-02-07T14.51.36\n",
      "2020-02-07T14.51.36\n",
      "Using default extension (.avi) as none was specified\n",
      "Using default framerate (30 fps) as none was specified\n",
      "Using default codec (MJPG) as none was specified\n"
     ]
    },
    {
     "name": "stderr",
     "output_type": "stream",
     "text": [
      "0% [▓▓▓▓▓▓▓▓▓▓▓▓▓▓▓▓▓▓▓▓▓▓▓▓▓▓▓▓▓▓] 100% | ETA: 00:00:00\n",
      "Total time elapsed: 00:00:14\n"
     ]
    },
    {
     "name": "stdout",
     "output_type": "stream",
     "text": [
      "Video compression at F:\\DATA\\BehavioralVideos\\Whisker_Video\\Whisker_Topview\\Expect_1\\Mouse21\\200207_2\\2020-02-07T14.51.36.avi sucessfull\n",
      "\n",
      "['F:\\\\DATA\\\\BehavioralVideos\\\\Whisker_Video\\\\Whisker_Topview\\\\Expect_1\\\\Mouse21\\\\200207_2\\\\2020-02-07T14.48.51.avi', 'F:\\\\DATA\\\\BehavioralVideos\\\\Whisker_Video\\\\Whisker_Topview\\\\Expect_1\\\\Mouse21\\\\200207_2\\\\2020-02-07T14.48.55.avi', 'F:\\\\DATA\\\\BehavioralVideos\\\\Whisker_Video\\\\Whisker_Topview\\\\Expect_1\\\\Mouse21\\\\200207_2\\\\2020-02-07T14.49.02.avi', 'F:\\\\DATA\\\\BehavioralVideos\\\\Whisker_Video\\\\Whisker_Topview\\\\Expect_1\\\\Mouse21\\\\200207_2\\\\2020-02-07T14.49.15.avi', 'F:\\\\DATA\\\\BehavioralVideos\\\\Whisker_Video\\\\Whisker_Topview\\\\Expect_1\\\\Mouse21\\\\200207_2\\\\2020-02-07T14.49.45.avi', 'F:\\\\DATA\\\\BehavioralVideos\\\\Whisker_Video\\\\Whisker_Topview\\\\Expect_1\\\\Mouse21\\\\200207_2\\\\2020-02-07T14.49.57.avi', 'F:\\\\DATA\\\\BehavioralVideos\\\\Whisker_Video\\\\Whisker_Topview\\\\Expect_1\\\\Mouse21\\\\200207_2\\\\2020-02-07T14.50.04.avi', 'F:\\\\DATA\\\\BehavioralVideos\\\\Whisker_Video\\\\Whisker_Topview\\\\Expect_1\\\\Mouse21\\\\200207_2\\\\2020-02-07T14.50.11.avi', 'F:\\\\DATA\\\\BehavioralVideos\\\\Whisker_Video\\\\Whisker_Topview\\\\Expect_1\\\\Mouse21\\\\200207_2\\\\2020-02-07T14.50.19.avi', 'F:\\\\DATA\\\\BehavioralVideos\\\\Whisker_Video\\\\Whisker_Topview\\\\Expect_1\\\\Mouse21\\\\200207_2\\\\2020-02-07T14.50.27.avi', 'F:\\\\DATA\\\\BehavioralVideos\\\\Whisker_Video\\\\Whisker_Topview\\\\Expect_1\\\\Mouse21\\\\200207_2\\\\2020-02-07T14.50.51.avi', 'F:\\\\DATA\\\\BehavioralVideos\\\\Whisker_Video\\\\Whisker_Topview\\\\Expect_1\\\\Mouse21\\\\200207_2\\\\2020-02-07T14.51.21.avi', 'F:\\\\DATA\\\\BehavioralVideos\\\\Whisker_Video\\\\Whisker_Topview\\\\Expect_1\\\\Mouse21\\\\200207_2\\\\2020-02-07T14.51.29.avi', 'F:\\\\DATA\\\\BehavioralVideos\\\\Whisker_Video\\\\Whisker_Topview\\\\Expect_1\\\\Mouse21\\\\200207_2\\\\2020-02-07T14.51.36.avi']\n",
      "Repaired 14 files, number of frames possible : between 0 and 38860\n",
      "\n",
      "[7001, 7501]\n"
     ]
    },
    {
     "name": "stderr",
     "output_type": "stream",
     "text": [
      "\n",
      "Writing video at F:\\DATA\\BehavioralVideos\\Whisker_Video\\Whisker_Topview\\Expect_1\\Mouse21\\200207_2\\2020-02-07T14.51.47.avi\n"
     ]
    },
    {
     "name": "stdout",
     "output_type": "stream",
     "text": [
      "about to write a video named 2020-02-07T14.51.47\n",
      "2020-02-07T14.51.47\n",
      "Using default extension (.avi) as none was specified\n",
      "Using default framerate (30 fps) as none was specified\n",
      "Using default codec (MJPG) as none was specified\n"
     ]
    },
    {
     "name": "stderr",
     "output_type": "stream",
     "text": [
      "0% [▓▓▓▓▓▓▓▓▓▓▓▓▓▓▓▓▓▓▓▓▓▓▓▓▓▓▓▓▓▓] 100% | ETA: 00:00:00\n",
      "Total time elapsed: 00:00:13\n"
     ]
    },
    {
     "name": "stdout",
     "output_type": "stream",
     "text": [
      "Video compression at F:\\DATA\\BehavioralVideos\\Whisker_Video\\Whisker_Topview\\Expect_1\\Mouse21\\200207_2\\2020-02-07T14.51.47.avi sucessfull\n",
      "\n",
      "['F:\\\\DATA\\\\BehavioralVideos\\\\Whisker_Video\\\\Whisker_Topview\\\\Expect_1\\\\Mouse21\\\\200207_2\\\\2020-02-07T14.48.51.avi', 'F:\\\\DATA\\\\BehavioralVideos\\\\Whisker_Video\\\\Whisker_Topview\\\\Expect_1\\\\Mouse21\\\\200207_2\\\\2020-02-07T14.48.55.avi', 'F:\\\\DATA\\\\BehavioralVideos\\\\Whisker_Video\\\\Whisker_Topview\\\\Expect_1\\\\Mouse21\\\\200207_2\\\\2020-02-07T14.49.02.avi', 'F:\\\\DATA\\\\BehavioralVideos\\\\Whisker_Video\\\\Whisker_Topview\\\\Expect_1\\\\Mouse21\\\\200207_2\\\\2020-02-07T14.49.15.avi', 'F:\\\\DATA\\\\BehavioralVideos\\\\Whisker_Video\\\\Whisker_Topview\\\\Expect_1\\\\Mouse21\\\\200207_2\\\\2020-02-07T14.49.45.avi', 'F:\\\\DATA\\\\BehavioralVideos\\\\Whisker_Video\\\\Whisker_Topview\\\\Expect_1\\\\Mouse21\\\\200207_2\\\\2020-02-07T14.49.57.avi', 'F:\\\\DATA\\\\BehavioralVideos\\\\Whisker_Video\\\\Whisker_Topview\\\\Expect_1\\\\Mouse21\\\\200207_2\\\\2020-02-07T14.50.04.avi', 'F:\\\\DATA\\\\BehavioralVideos\\\\Whisker_Video\\\\Whisker_Topview\\\\Expect_1\\\\Mouse21\\\\200207_2\\\\2020-02-07T14.50.11.avi', 'F:\\\\DATA\\\\BehavioralVideos\\\\Whisker_Video\\\\Whisker_Topview\\\\Expect_1\\\\Mouse21\\\\200207_2\\\\2020-02-07T14.50.19.avi', 'F:\\\\DATA\\\\BehavioralVideos\\\\Whisker_Video\\\\Whisker_Topview\\\\Expect_1\\\\Mouse21\\\\200207_2\\\\2020-02-07T14.50.27.avi', 'F:\\\\DATA\\\\BehavioralVideos\\\\Whisker_Video\\\\Whisker_Topview\\\\Expect_1\\\\Mouse21\\\\200207_2\\\\2020-02-07T14.50.51.avi', 'F:\\\\DATA\\\\BehavioralVideos\\\\Whisker_Video\\\\Whisker_Topview\\\\Expect_1\\\\Mouse21\\\\200207_2\\\\2020-02-07T14.51.21.avi', 'F:\\\\DATA\\\\BehavioralVideos\\\\Whisker_Video\\\\Whisker_Topview\\\\Expect_1\\\\Mouse21\\\\200207_2\\\\2020-02-07T14.51.29.avi', 'F:\\\\DATA\\\\BehavioralVideos\\\\Whisker_Video\\\\Whisker_Topview\\\\Expect_1\\\\Mouse21\\\\200207_2\\\\2020-02-07T14.51.36.avi', 'F:\\\\DATA\\\\BehavioralVideos\\\\Whisker_Video\\\\Whisker_Topview\\\\Expect_1\\\\Mouse21\\\\200207_2\\\\2020-02-07T14.51.47.avi']\n",
      "Repaired 15 files, number of frames possible : between 0 and 38860\n",
      "\n",
      "[7501, 8001]\n"
     ]
    },
    {
     "name": "stderr",
     "output_type": "stream",
     "text": [
      "\n",
      "Writing video at F:\\DATA\\BehavioralVideos\\Whisker_Video\\Whisker_Topview\\Expect_1\\Mouse21\\200207_2\\2020-02-07T14.51.55.avi\n"
     ]
    },
    {
     "name": "stdout",
     "output_type": "stream",
     "text": [
      "about to write a video named 2020-02-07T14.51.55\n",
      "2020-02-07T14.51.55\n",
      "Using default extension (.avi) as none was specified\n",
      "Using default framerate (30 fps) as none was specified\n",
      "Using default codec (MJPG) as none was specified\n"
     ]
    },
    {
     "name": "stderr",
     "output_type": "stream",
     "text": [
      "0% [▓▓▓▓▓▓▓▓▓▓▓▓▓▓▓▓▓▓▓▓▓▓▓▓▓▓▓▓▓▓] 100% | ETA: 00:00:00\n",
      "Total time elapsed: 00:00:13\n"
     ]
    },
    {
     "name": "stdout",
     "output_type": "stream",
     "text": [
      "Video compression at F:\\DATA\\BehavioralVideos\\Whisker_Video\\Whisker_Topview\\Expect_1\\Mouse21\\200207_2\\2020-02-07T14.51.55.avi sucessfull\n",
      "\n",
      "['F:\\\\DATA\\\\BehavioralVideos\\\\Whisker_Video\\\\Whisker_Topview\\\\Expect_1\\\\Mouse21\\\\200207_2\\\\2020-02-07T14.48.51.avi', 'F:\\\\DATA\\\\BehavioralVideos\\\\Whisker_Video\\\\Whisker_Topview\\\\Expect_1\\\\Mouse21\\\\200207_2\\\\2020-02-07T14.48.55.avi', 'F:\\\\DATA\\\\BehavioralVideos\\\\Whisker_Video\\\\Whisker_Topview\\\\Expect_1\\\\Mouse21\\\\200207_2\\\\2020-02-07T14.49.02.avi', 'F:\\\\DATA\\\\BehavioralVideos\\\\Whisker_Video\\\\Whisker_Topview\\\\Expect_1\\\\Mouse21\\\\200207_2\\\\2020-02-07T14.49.15.avi', 'F:\\\\DATA\\\\BehavioralVideos\\\\Whisker_Video\\\\Whisker_Topview\\\\Expect_1\\\\Mouse21\\\\200207_2\\\\2020-02-07T14.49.45.avi', 'F:\\\\DATA\\\\BehavioralVideos\\\\Whisker_Video\\\\Whisker_Topview\\\\Expect_1\\\\Mouse21\\\\200207_2\\\\2020-02-07T14.49.57.avi', 'F:\\\\DATA\\\\BehavioralVideos\\\\Whisker_Video\\\\Whisker_Topview\\\\Expect_1\\\\Mouse21\\\\200207_2\\\\2020-02-07T14.50.04.avi', 'F:\\\\DATA\\\\BehavioralVideos\\\\Whisker_Video\\\\Whisker_Topview\\\\Expect_1\\\\Mouse21\\\\200207_2\\\\2020-02-07T14.50.11.avi', 'F:\\\\DATA\\\\BehavioralVideos\\\\Whisker_Video\\\\Whisker_Topview\\\\Expect_1\\\\Mouse21\\\\200207_2\\\\2020-02-07T14.50.19.avi', 'F:\\\\DATA\\\\BehavioralVideos\\\\Whisker_Video\\\\Whisker_Topview\\\\Expect_1\\\\Mouse21\\\\200207_2\\\\2020-02-07T14.50.27.avi', 'F:\\\\DATA\\\\BehavioralVideos\\\\Whisker_Video\\\\Whisker_Topview\\\\Expect_1\\\\Mouse21\\\\200207_2\\\\2020-02-07T14.50.51.avi', 'F:\\\\DATA\\\\BehavioralVideos\\\\Whisker_Video\\\\Whisker_Topview\\\\Expect_1\\\\Mouse21\\\\200207_2\\\\2020-02-07T14.51.21.avi', 'F:\\\\DATA\\\\BehavioralVideos\\\\Whisker_Video\\\\Whisker_Topview\\\\Expect_1\\\\Mouse21\\\\200207_2\\\\2020-02-07T14.51.29.avi', 'F:\\\\DATA\\\\BehavioralVideos\\\\Whisker_Video\\\\Whisker_Topview\\\\Expect_1\\\\Mouse21\\\\200207_2\\\\2020-02-07T14.51.36.avi', 'F:\\\\DATA\\\\BehavioralVideos\\\\Whisker_Video\\\\Whisker_Topview\\\\Expect_1\\\\Mouse21\\\\200207_2\\\\2020-02-07T14.51.47.avi', 'F:\\\\DATA\\\\BehavioralVideos\\\\Whisker_Video\\\\Whisker_Topview\\\\Expect_1\\\\Mouse21\\\\200207_2\\\\2020-02-07T14.51.55.avi']\n",
      "Repaired 16 files, number of frames possible : between 0 and 38860\n",
      "\n",
      "[8001, 8501]\n"
     ]
    },
    {
     "name": "stderr",
     "output_type": "stream",
     "text": [
      "\n",
      "Writing video at F:\\DATA\\BehavioralVideos\\Whisker_Video\\Whisker_Topview\\Expect_1\\Mouse21\\200207_2\\2020-02-07T14.52.02.avi\n"
     ]
    },
    {
     "name": "stdout",
     "output_type": "stream",
     "text": [
      "about to write a video named 2020-02-07T14.52.02\n",
      "2020-02-07T14.52.02\n",
      "Using default extension (.avi) as none was specified\n",
      "Using default framerate (30 fps) as none was specified\n",
      "Using default codec (MJPG) as none was specified\n"
     ]
    },
    {
     "name": "stderr",
     "output_type": "stream",
     "text": [
      "0% [▓▓▓▓▓▓▓▓▓▓▓▓▓▓▓▓▓▓▓▓▓▓▓▓▓▓▓▓▓▓] 100% | ETA: 00:00:00\n",
      "Total time elapsed: 00:00:13\n"
     ]
    },
    {
     "name": "stdout",
     "output_type": "stream",
     "text": [
      "Video compression at F:\\DATA\\BehavioralVideos\\Whisker_Video\\Whisker_Topview\\Expect_1\\Mouse21\\200207_2\\2020-02-07T14.52.02.avi sucessfull\n",
      "\n",
      "['F:\\\\DATA\\\\BehavioralVideos\\\\Whisker_Video\\\\Whisker_Topview\\\\Expect_1\\\\Mouse21\\\\200207_2\\\\2020-02-07T14.48.51.avi', 'F:\\\\DATA\\\\BehavioralVideos\\\\Whisker_Video\\\\Whisker_Topview\\\\Expect_1\\\\Mouse21\\\\200207_2\\\\2020-02-07T14.48.55.avi', 'F:\\\\DATA\\\\BehavioralVideos\\\\Whisker_Video\\\\Whisker_Topview\\\\Expect_1\\\\Mouse21\\\\200207_2\\\\2020-02-07T14.49.02.avi', 'F:\\\\DATA\\\\BehavioralVideos\\\\Whisker_Video\\\\Whisker_Topview\\\\Expect_1\\\\Mouse21\\\\200207_2\\\\2020-02-07T14.49.15.avi', 'F:\\\\DATA\\\\BehavioralVideos\\\\Whisker_Video\\\\Whisker_Topview\\\\Expect_1\\\\Mouse21\\\\200207_2\\\\2020-02-07T14.49.45.avi', 'F:\\\\DATA\\\\BehavioralVideos\\\\Whisker_Video\\\\Whisker_Topview\\\\Expect_1\\\\Mouse21\\\\200207_2\\\\2020-02-07T14.49.57.avi', 'F:\\\\DATA\\\\BehavioralVideos\\\\Whisker_Video\\\\Whisker_Topview\\\\Expect_1\\\\Mouse21\\\\200207_2\\\\2020-02-07T14.50.04.avi', 'F:\\\\DATA\\\\BehavioralVideos\\\\Whisker_Video\\\\Whisker_Topview\\\\Expect_1\\\\Mouse21\\\\200207_2\\\\2020-02-07T14.50.11.avi', 'F:\\\\DATA\\\\BehavioralVideos\\\\Whisker_Video\\\\Whisker_Topview\\\\Expect_1\\\\Mouse21\\\\200207_2\\\\2020-02-07T14.50.19.avi', 'F:\\\\DATA\\\\BehavioralVideos\\\\Whisker_Video\\\\Whisker_Topview\\\\Expect_1\\\\Mouse21\\\\200207_2\\\\2020-02-07T14.50.27.avi', 'F:\\\\DATA\\\\BehavioralVideos\\\\Whisker_Video\\\\Whisker_Topview\\\\Expect_1\\\\Mouse21\\\\200207_2\\\\2020-02-07T14.50.51.avi', 'F:\\\\DATA\\\\BehavioralVideos\\\\Whisker_Video\\\\Whisker_Topview\\\\Expect_1\\\\Mouse21\\\\200207_2\\\\2020-02-07T14.51.21.avi', 'F:\\\\DATA\\\\BehavioralVideos\\\\Whisker_Video\\\\Whisker_Topview\\\\Expect_1\\\\Mouse21\\\\200207_2\\\\2020-02-07T14.51.29.avi', 'F:\\\\DATA\\\\BehavioralVideos\\\\Whisker_Video\\\\Whisker_Topview\\\\Expect_1\\\\Mouse21\\\\200207_2\\\\2020-02-07T14.51.36.avi', 'F:\\\\DATA\\\\BehavioralVideos\\\\Whisker_Video\\\\Whisker_Topview\\\\Expect_1\\\\Mouse21\\\\200207_2\\\\2020-02-07T14.51.47.avi', 'F:\\\\DATA\\\\BehavioralVideos\\\\Whisker_Video\\\\Whisker_Topview\\\\Expect_1\\\\Mouse21\\\\200207_2\\\\2020-02-07T14.51.55.avi', 'F:\\\\DATA\\\\BehavioralVideos\\\\Whisker_Video\\\\Whisker_Topview\\\\Expect_1\\\\Mouse21\\\\200207_2\\\\2020-02-07T14.52.02.avi']\n",
      "Repaired 17 files, number of frames possible : between 0 and 38860\n",
      "\n",
      "[8501, 9001]\n"
     ]
    },
    {
     "name": "stderr",
     "output_type": "stream",
     "text": [
      "\n",
      "Writing video at F:\\DATA\\BehavioralVideos\\Whisker_Video\\Whisker_Topview\\Expect_1\\Mouse21\\200207_2\\2020-02-07T14.52.09.avi\n"
     ]
    },
    {
     "name": "stdout",
     "output_type": "stream",
     "text": [
      "about to write a video named 2020-02-07T14.52.09\n",
      "2020-02-07T14.52.09\n",
      "Using default extension (.avi) as none was specified\n",
      "Using default framerate (30 fps) as none was specified\n",
      "Using default codec (MJPG) as none was specified\n"
     ]
    },
    {
     "name": "stderr",
     "output_type": "stream",
     "text": [
      "0% [▓▓▓▓▓▓▓▓▓▓▓▓▓▓▓▓▓▓▓▓▓▓▓▓▓▓▓▓▓▓] 100% | ETA: 00:00:00\n",
      "Total time elapsed: 00:00:13\n"
     ]
    },
    {
     "name": "stdout",
     "output_type": "stream",
     "text": [
      "Video compression at F:\\DATA\\BehavioralVideos\\Whisker_Video\\Whisker_Topview\\Expect_1\\Mouse21\\200207_2\\2020-02-07T14.52.09.avi sucessfull\n",
      "\n",
      "['F:\\\\DATA\\\\BehavioralVideos\\\\Whisker_Video\\\\Whisker_Topview\\\\Expect_1\\\\Mouse21\\\\200207_2\\\\2020-02-07T14.48.51.avi', 'F:\\\\DATA\\\\BehavioralVideos\\\\Whisker_Video\\\\Whisker_Topview\\\\Expect_1\\\\Mouse21\\\\200207_2\\\\2020-02-07T14.48.55.avi', 'F:\\\\DATA\\\\BehavioralVideos\\\\Whisker_Video\\\\Whisker_Topview\\\\Expect_1\\\\Mouse21\\\\200207_2\\\\2020-02-07T14.49.02.avi', 'F:\\\\DATA\\\\BehavioralVideos\\\\Whisker_Video\\\\Whisker_Topview\\\\Expect_1\\\\Mouse21\\\\200207_2\\\\2020-02-07T14.49.15.avi', 'F:\\\\DATA\\\\BehavioralVideos\\\\Whisker_Video\\\\Whisker_Topview\\\\Expect_1\\\\Mouse21\\\\200207_2\\\\2020-02-07T14.49.45.avi', 'F:\\\\DATA\\\\BehavioralVideos\\\\Whisker_Video\\\\Whisker_Topview\\\\Expect_1\\\\Mouse21\\\\200207_2\\\\2020-02-07T14.49.57.avi', 'F:\\\\DATA\\\\BehavioralVideos\\\\Whisker_Video\\\\Whisker_Topview\\\\Expect_1\\\\Mouse21\\\\200207_2\\\\2020-02-07T14.50.04.avi', 'F:\\\\DATA\\\\BehavioralVideos\\\\Whisker_Video\\\\Whisker_Topview\\\\Expect_1\\\\Mouse21\\\\200207_2\\\\2020-02-07T14.50.11.avi', 'F:\\\\DATA\\\\BehavioralVideos\\\\Whisker_Video\\\\Whisker_Topview\\\\Expect_1\\\\Mouse21\\\\200207_2\\\\2020-02-07T14.50.19.avi', 'F:\\\\DATA\\\\BehavioralVideos\\\\Whisker_Video\\\\Whisker_Topview\\\\Expect_1\\\\Mouse21\\\\200207_2\\\\2020-02-07T14.50.27.avi', 'F:\\\\DATA\\\\BehavioralVideos\\\\Whisker_Video\\\\Whisker_Topview\\\\Expect_1\\\\Mouse21\\\\200207_2\\\\2020-02-07T14.50.51.avi', 'F:\\\\DATA\\\\BehavioralVideos\\\\Whisker_Video\\\\Whisker_Topview\\\\Expect_1\\\\Mouse21\\\\200207_2\\\\2020-02-07T14.51.21.avi', 'F:\\\\DATA\\\\BehavioralVideos\\\\Whisker_Video\\\\Whisker_Topview\\\\Expect_1\\\\Mouse21\\\\200207_2\\\\2020-02-07T14.51.29.avi', 'F:\\\\DATA\\\\BehavioralVideos\\\\Whisker_Video\\\\Whisker_Topview\\\\Expect_1\\\\Mouse21\\\\200207_2\\\\2020-02-07T14.51.36.avi', 'F:\\\\DATA\\\\BehavioralVideos\\\\Whisker_Video\\\\Whisker_Topview\\\\Expect_1\\\\Mouse21\\\\200207_2\\\\2020-02-07T14.51.47.avi', 'F:\\\\DATA\\\\BehavioralVideos\\\\Whisker_Video\\\\Whisker_Topview\\\\Expect_1\\\\Mouse21\\\\200207_2\\\\2020-02-07T14.51.55.avi', 'F:\\\\DATA\\\\BehavioralVideos\\\\Whisker_Video\\\\Whisker_Topview\\\\Expect_1\\\\Mouse21\\\\200207_2\\\\2020-02-07T14.52.02.avi', 'F:\\\\DATA\\\\BehavioralVideos\\\\Whisker_Video\\\\Whisker_Topview\\\\Expect_1\\\\Mouse21\\\\200207_2\\\\2020-02-07T14.52.09.avi']\n",
      "Repaired 18 files, number of frames possible : between 0 and 38860\n",
      "\n",
      "[9001, 9501]\n"
     ]
    },
    {
     "name": "stderr",
     "output_type": "stream",
     "text": [
      "\n",
      "Writing video at F:\\DATA\\BehavioralVideos\\Whisker_Video\\Whisker_Topview\\Expect_1\\Mouse21\\200207_2\\2020-02-07T14.52.16.avi\n"
     ]
    },
    {
     "name": "stdout",
     "output_type": "stream",
     "text": [
      "about to write a video named 2020-02-07T14.52.16\n",
      "2020-02-07T14.52.16\n",
      "Using default extension (.avi) as none was specified\n",
      "Using default framerate (30 fps) as none was specified\n",
      "Using default codec (MJPG) as none was specified\n"
     ]
    },
    {
     "name": "stderr",
     "output_type": "stream",
     "text": [
      "0% [▓▓▓▓▓▓▓▓▓▓▓▓▓▓▓▓▓▓▓▓▓▓▓▓▓▓▓▓▓▓] 100% | ETA: 00:00:00\n",
      "Total time elapsed: 00:00:13\n"
     ]
    },
    {
     "name": "stdout",
     "output_type": "stream",
     "text": [
      "Video compression at F:\\DATA\\BehavioralVideos\\Whisker_Video\\Whisker_Topview\\Expect_1\\Mouse21\\200207_2\\2020-02-07T14.52.16.avi sucessfull\n",
      "\n",
      "['F:\\\\DATA\\\\BehavioralVideos\\\\Whisker_Video\\\\Whisker_Topview\\\\Expect_1\\\\Mouse21\\\\200207_2\\\\2020-02-07T14.48.51.avi', 'F:\\\\DATA\\\\BehavioralVideos\\\\Whisker_Video\\\\Whisker_Topview\\\\Expect_1\\\\Mouse21\\\\200207_2\\\\2020-02-07T14.48.55.avi', 'F:\\\\DATA\\\\BehavioralVideos\\\\Whisker_Video\\\\Whisker_Topview\\\\Expect_1\\\\Mouse21\\\\200207_2\\\\2020-02-07T14.49.02.avi', 'F:\\\\DATA\\\\BehavioralVideos\\\\Whisker_Video\\\\Whisker_Topview\\\\Expect_1\\\\Mouse21\\\\200207_2\\\\2020-02-07T14.49.15.avi', 'F:\\\\DATA\\\\BehavioralVideos\\\\Whisker_Video\\\\Whisker_Topview\\\\Expect_1\\\\Mouse21\\\\200207_2\\\\2020-02-07T14.49.45.avi', 'F:\\\\DATA\\\\BehavioralVideos\\\\Whisker_Video\\\\Whisker_Topview\\\\Expect_1\\\\Mouse21\\\\200207_2\\\\2020-02-07T14.49.57.avi', 'F:\\\\DATA\\\\BehavioralVideos\\\\Whisker_Video\\\\Whisker_Topview\\\\Expect_1\\\\Mouse21\\\\200207_2\\\\2020-02-07T14.50.04.avi', 'F:\\\\DATA\\\\BehavioralVideos\\\\Whisker_Video\\\\Whisker_Topview\\\\Expect_1\\\\Mouse21\\\\200207_2\\\\2020-02-07T14.50.11.avi', 'F:\\\\DATA\\\\BehavioralVideos\\\\Whisker_Video\\\\Whisker_Topview\\\\Expect_1\\\\Mouse21\\\\200207_2\\\\2020-02-07T14.50.19.avi', 'F:\\\\DATA\\\\BehavioralVideos\\\\Whisker_Video\\\\Whisker_Topview\\\\Expect_1\\\\Mouse21\\\\200207_2\\\\2020-02-07T14.50.27.avi', 'F:\\\\DATA\\\\BehavioralVideos\\\\Whisker_Video\\\\Whisker_Topview\\\\Expect_1\\\\Mouse21\\\\200207_2\\\\2020-02-07T14.50.51.avi', 'F:\\\\DATA\\\\BehavioralVideos\\\\Whisker_Video\\\\Whisker_Topview\\\\Expect_1\\\\Mouse21\\\\200207_2\\\\2020-02-07T14.51.21.avi', 'F:\\\\DATA\\\\BehavioralVideos\\\\Whisker_Video\\\\Whisker_Topview\\\\Expect_1\\\\Mouse21\\\\200207_2\\\\2020-02-07T14.51.29.avi', 'F:\\\\DATA\\\\BehavioralVideos\\\\Whisker_Video\\\\Whisker_Topview\\\\Expect_1\\\\Mouse21\\\\200207_2\\\\2020-02-07T14.51.36.avi', 'F:\\\\DATA\\\\BehavioralVideos\\\\Whisker_Video\\\\Whisker_Topview\\\\Expect_1\\\\Mouse21\\\\200207_2\\\\2020-02-07T14.51.47.avi', 'F:\\\\DATA\\\\BehavioralVideos\\\\Whisker_Video\\\\Whisker_Topview\\\\Expect_1\\\\Mouse21\\\\200207_2\\\\2020-02-07T14.51.55.avi', 'F:\\\\DATA\\\\BehavioralVideos\\\\Whisker_Video\\\\Whisker_Topview\\\\Expect_1\\\\Mouse21\\\\200207_2\\\\2020-02-07T14.52.02.avi', 'F:\\\\DATA\\\\BehavioralVideos\\\\Whisker_Video\\\\Whisker_Topview\\\\Expect_1\\\\Mouse21\\\\200207_2\\\\2020-02-07T14.52.09.avi', 'F:\\\\DATA\\\\BehavioralVideos\\\\Whisker_Video\\\\Whisker_Topview\\\\Expect_1\\\\Mouse21\\\\200207_2\\\\2020-02-07T14.52.16.avi']\n",
      "Repaired 19 files, number of frames possible : between 0 and 38860\n",
      "\n",
      "[9501, 10001]\n"
     ]
    },
    {
     "name": "stderr",
     "output_type": "stream",
     "text": [
      "\n",
      "Writing video at F:\\DATA\\BehavioralVideos\\Whisker_Video\\Whisker_Topview\\Expect_1\\Mouse21\\200207_2\\2020-02-07T14.52.24.avi\n"
     ]
    },
    {
     "name": "stdout",
     "output_type": "stream",
     "text": [
      "about to write a video named 2020-02-07T14.52.24\n",
      "2020-02-07T14.52.24\n",
      "Using default extension (.avi) as none was specified\n",
      "Using default framerate (30 fps) as none was specified\n",
      "Using default codec (MJPG) as none was specified\n"
     ]
    },
    {
     "name": "stderr",
     "output_type": "stream",
     "text": [
      "0% [▓▓▓▓▓▓▓▓▓▓▓▓▓▓▓▓▓▓▓▓▓▓▓▓▓▓▓▓▓▓] 100% | ETA: 00:00:00\n",
      "Total time elapsed: 00:00:13\n"
     ]
    },
    {
     "name": "stdout",
     "output_type": "stream",
     "text": [
      "Video compression at F:\\DATA\\BehavioralVideos\\Whisker_Video\\Whisker_Topview\\Expect_1\\Mouse21\\200207_2\\2020-02-07T14.52.24.avi sucessfull\n",
      "\n",
      "['F:\\\\DATA\\\\BehavioralVideos\\\\Whisker_Video\\\\Whisker_Topview\\\\Expect_1\\\\Mouse21\\\\200207_2\\\\2020-02-07T14.48.51.avi', 'F:\\\\DATA\\\\BehavioralVideos\\\\Whisker_Video\\\\Whisker_Topview\\\\Expect_1\\\\Mouse21\\\\200207_2\\\\2020-02-07T14.48.55.avi', 'F:\\\\DATA\\\\BehavioralVideos\\\\Whisker_Video\\\\Whisker_Topview\\\\Expect_1\\\\Mouse21\\\\200207_2\\\\2020-02-07T14.49.02.avi', 'F:\\\\DATA\\\\BehavioralVideos\\\\Whisker_Video\\\\Whisker_Topview\\\\Expect_1\\\\Mouse21\\\\200207_2\\\\2020-02-07T14.49.15.avi', 'F:\\\\DATA\\\\BehavioralVideos\\\\Whisker_Video\\\\Whisker_Topview\\\\Expect_1\\\\Mouse21\\\\200207_2\\\\2020-02-07T14.49.45.avi', 'F:\\\\DATA\\\\BehavioralVideos\\\\Whisker_Video\\\\Whisker_Topview\\\\Expect_1\\\\Mouse21\\\\200207_2\\\\2020-02-07T14.49.57.avi', 'F:\\\\DATA\\\\BehavioralVideos\\\\Whisker_Video\\\\Whisker_Topview\\\\Expect_1\\\\Mouse21\\\\200207_2\\\\2020-02-07T14.50.04.avi', 'F:\\\\DATA\\\\BehavioralVideos\\\\Whisker_Video\\\\Whisker_Topview\\\\Expect_1\\\\Mouse21\\\\200207_2\\\\2020-02-07T14.50.11.avi', 'F:\\\\DATA\\\\BehavioralVideos\\\\Whisker_Video\\\\Whisker_Topview\\\\Expect_1\\\\Mouse21\\\\200207_2\\\\2020-02-07T14.50.19.avi', 'F:\\\\DATA\\\\BehavioralVideos\\\\Whisker_Video\\\\Whisker_Topview\\\\Expect_1\\\\Mouse21\\\\200207_2\\\\2020-02-07T14.50.27.avi', 'F:\\\\DATA\\\\BehavioralVideos\\\\Whisker_Video\\\\Whisker_Topview\\\\Expect_1\\\\Mouse21\\\\200207_2\\\\2020-02-07T14.50.51.avi', 'F:\\\\DATA\\\\BehavioralVideos\\\\Whisker_Video\\\\Whisker_Topview\\\\Expect_1\\\\Mouse21\\\\200207_2\\\\2020-02-07T14.51.21.avi', 'F:\\\\DATA\\\\BehavioralVideos\\\\Whisker_Video\\\\Whisker_Topview\\\\Expect_1\\\\Mouse21\\\\200207_2\\\\2020-02-07T14.51.29.avi', 'F:\\\\DATA\\\\BehavioralVideos\\\\Whisker_Video\\\\Whisker_Topview\\\\Expect_1\\\\Mouse21\\\\200207_2\\\\2020-02-07T14.51.36.avi', 'F:\\\\DATA\\\\BehavioralVideos\\\\Whisker_Video\\\\Whisker_Topview\\\\Expect_1\\\\Mouse21\\\\200207_2\\\\2020-02-07T14.51.47.avi', 'F:\\\\DATA\\\\BehavioralVideos\\\\Whisker_Video\\\\Whisker_Topview\\\\Expect_1\\\\Mouse21\\\\200207_2\\\\2020-02-07T14.51.55.avi', 'F:\\\\DATA\\\\BehavioralVideos\\\\Whisker_Video\\\\Whisker_Topview\\\\Expect_1\\\\Mouse21\\\\200207_2\\\\2020-02-07T14.52.02.avi', 'F:\\\\DATA\\\\BehavioralVideos\\\\Whisker_Video\\\\Whisker_Topview\\\\Expect_1\\\\Mouse21\\\\200207_2\\\\2020-02-07T14.52.09.avi', 'F:\\\\DATA\\\\BehavioralVideos\\\\Whisker_Video\\\\Whisker_Topview\\\\Expect_1\\\\Mouse21\\\\200207_2\\\\2020-02-07T14.52.16.avi', 'F:\\\\DATA\\\\BehavioralVideos\\\\Whisker_Video\\\\Whisker_Topview\\\\Expect_1\\\\Mouse21\\\\200207_2\\\\2020-02-07T14.52.24.avi']\n",
      "Repaired 20 files, number of frames possible : between 0 and 38860\n",
      "\n",
      "[10001, 10501]\n"
     ]
    },
    {
     "name": "stderr",
     "output_type": "stream",
     "text": [
      "\n",
      "Writing video at F:\\DATA\\BehavioralVideos\\Whisker_Video\\Whisker_Topview\\Expect_1\\Mouse21\\200207_2\\2020-02-07T14.53.14.avi\n"
     ]
    },
    {
     "name": "stdout",
     "output_type": "stream",
     "text": [
      "about to write a video named 2020-02-07T14.53.14\n",
      "2020-02-07T14.53.14\n",
      "Using default extension (.avi) as none was specified\n",
      "Using default framerate (30 fps) as none was specified\n",
      "Using default codec (MJPG) as none was specified\n"
     ]
    },
    {
     "name": "stderr",
     "output_type": "stream",
     "text": [
      "0% [▓▓▓▓▓▓▓▓▓▓▓▓▓▓▓▓▓▓▓▓▓▓▓▓▓▓▓▓▓▓] 100% | ETA: 00:00:00\n",
      "Total time elapsed: 00:00:14\n"
     ]
    },
    {
     "name": "stdout",
     "output_type": "stream",
     "text": [
      "Video compression at F:\\DATA\\BehavioralVideos\\Whisker_Video\\Whisker_Topview\\Expect_1\\Mouse21\\200207_2\\2020-02-07T14.53.14.avi sucessfull\n",
      "\n",
      "['F:\\\\DATA\\\\BehavioralVideos\\\\Whisker_Video\\\\Whisker_Topview\\\\Expect_1\\\\Mouse21\\\\200207_2\\\\2020-02-07T14.48.51.avi', 'F:\\\\DATA\\\\BehavioralVideos\\\\Whisker_Video\\\\Whisker_Topview\\\\Expect_1\\\\Mouse21\\\\200207_2\\\\2020-02-07T14.48.55.avi', 'F:\\\\DATA\\\\BehavioralVideos\\\\Whisker_Video\\\\Whisker_Topview\\\\Expect_1\\\\Mouse21\\\\200207_2\\\\2020-02-07T14.49.02.avi', 'F:\\\\DATA\\\\BehavioralVideos\\\\Whisker_Video\\\\Whisker_Topview\\\\Expect_1\\\\Mouse21\\\\200207_2\\\\2020-02-07T14.49.15.avi', 'F:\\\\DATA\\\\BehavioralVideos\\\\Whisker_Video\\\\Whisker_Topview\\\\Expect_1\\\\Mouse21\\\\200207_2\\\\2020-02-07T14.49.45.avi', 'F:\\\\DATA\\\\BehavioralVideos\\\\Whisker_Video\\\\Whisker_Topview\\\\Expect_1\\\\Mouse21\\\\200207_2\\\\2020-02-07T14.49.57.avi', 'F:\\\\DATA\\\\BehavioralVideos\\\\Whisker_Video\\\\Whisker_Topview\\\\Expect_1\\\\Mouse21\\\\200207_2\\\\2020-02-07T14.50.04.avi', 'F:\\\\DATA\\\\BehavioralVideos\\\\Whisker_Video\\\\Whisker_Topview\\\\Expect_1\\\\Mouse21\\\\200207_2\\\\2020-02-07T14.50.11.avi', 'F:\\\\DATA\\\\BehavioralVideos\\\\Whisker_Video\\\\Whisker_Topview\\\\Expect_1\\\\Mouse21\\\\200207_2\\\\2020-02-07T14.50.19.avi', 'F:\\\\DATA\\\\BehavioralVideos\\\\Whisker_Video\\\\Whisker_Topview\\\\Expect_1\\\\Mouse21\\\\200207_2\\\\2020-02-07T14.50.27.avi', 'F:\\\\DATA\\\\BehavioralVideos\\\\Whisker_Video\\\\Whisker_Topview\\\\Expect_1\\\\Mouse21\\\\200207_2\\\\2020-02-07T14.50.51.avi', 'F:\\\\DATA\\\\BehavioralVideos\\\\Whisker_Video\\\\Whisker_Topview\\\\Expect_1\\\\Mouse21\\\\200207_2\\\\2020-02-07T14.51.21.avi', 'F:\\\\DATA\\\\BehavioralVideos\\\\Whisker_Video\\\\Whisker_Topview\\\\Expect_1\\\\Mouse21\\\\200207_2\\\\2020-02-07T14.51.29.avi', 'F:\\\\DATA\\\\BehavioralVideos\\\\Whisker_Video\\\\Whisker_Topview\\\\Expect_1\\\\Mouse21\\\\200207_2\\\\2020-02-07T14.51.36.avi', 'F:\\\\DATA\\\\BehavioralVideos\\\\Whisker_Video\\\\Whisker_Topview\\\\Expect_1\\\\Mouse21\\\\200207_2\\\\2020-02-07T14.51.47.avi', 'F:\\\\DATA\\\\BehavioralVideos\\\\Whisker_Video\\\\Whisker_Topview\\\\Expect_1\\\\Mouse21\\\\200207_2\\\\2020-02-07T14.51.55.avi', 'F:\\\\DATA\\\\BehavioralVideos\\\\Whisker_Video\\\\Whisker_Topview\\\\Expect_1\\\\Mouse21\\\\200207_2\\\\2020-02-07T14.52.02.avi', 'F:\\\\DATA\\\\BehavioralVideos\\\\Whisker_Video\\\\Whisker_Topview\\\\Expect_1\\\\Mouse21\\\\200207_2\\\\2020-02-07T14.52.09.avi', 'F:\\\\DATA\\\\BehavioralVideos\\\\Whisker_Video\\\\Whisker_Topview\\\\Expect_1\\\\Mouse21\\\\200207_2\\\\2020-02-07T14.52.16.avi', 'F:\\\\DATA\\\\BehavioralVideos\\\\Whisker_Video\\\\Whisker_Topview\\\\Expect_1\\\\Mouse21\\\\200207_2\\\\2020-02-07T14.52.24.avi', 'F:\\\\DATA\\\\BehavioralVideos\\\\Whisker_Video\\\\Whisker_Topview\\\\Expect_1\\\\Mouse21\\\\200207_2\\\\2020-02-07T14.53.14.avi']\n",
      "Repaired 21 files, number of frames possible : between 0 and 38860\n",
      "\n",
      "[10501, 11001]\n"
     ]
    },
    {
     "name": "stderr",
     "output_type": "stream",
     "text": [
      "\n",
      "Writing video at F:\\DATA\\BehavioralVideos\\Whisker_Video\\Whisker_Topview\\Expect_1\\Mouse21\\200207_2\\2020-02-07T14.53.26.avi\n"
     ]
    },
    {
     "name": "stdout",
     "output_type": "stream",
     "text": [
      "about to write a video named 2020-02-07T14.53.26\n",
      "2020-02-07T14.53.26\n",
      "Using default extension (.avi) as none was specified\n",
      "Using default framerate (30 fps) as none was specified\n",
      "Using default codec (MJPG) as none was specified\n"
     ]
    },
    {
     "name": "stderr",
     "output_type": "stream",
     "text": [
      "0% [▓▓▓▓▓▓▓▓▓▓▓▓▓▓▓▓▓▓▓▓▓▓▓▓▓▓▓▓▓▓] 100% | ETA: 00:00:00\n",
      "Total time elapsed: 00:00:13\n"
     ]
    },
    {
     "name": "stdout",
     "output_type": "stream",
     "text": [
      "Video compression at F:\\DATA\\BehavioralVideos\\Whisker_Video\\Whisker_Topview\\Expect_1\\Mouse21\\200207_2\\2020-02-07T14.53.26.avi sucessfull\n",
      "\n",
      "['F:\\\\DATA\\\\BehavioralVideos\\\\Whisker_Video\\\\Whisker_Topview\\\\Expect_1\\\\Mouse21\\\\200207_2\\\\2020-02-07T14.48.51.avi', 'F:\\\\DATA\\\\BehavioralVideos\\\\Whisker_Video\\\\Whisker_Topview\\\\Expect_1\\\\Mouse21\\\\200207_2\\\\2020-02-07T14.48.55.avi', 'F:\\\\DATA\\\\BehavioralVideos\\\\Whisker_Video\\\\Whisker_Topview\\\\Expect_1\\\\Mouse21\\\\200207_2\\\\2020-02-07T14.49.02.avi', 'F:\\\\DATA\\\\BehavioralVideos\\\\Whisker_Video\\\\Whisker_Topview\\\\Expect_1\\\\Mouse21\\\\200207_2\\\\2020-02-07T14.49.15.avi', 'F:\\\\DATA\\\\BehavioralVideos\\\\Whisker_Video\\\\Whisker_Topview\\\\Expect_1\\\\Mouse21\\\\200207_2\\\\2020-02-07T14.49.45.avi', 'F:\\\\DATA\\\\BehavioralVideos\\\\Whisker_Video\\\\Whisker_Topview\\\\Expect_1\\\\Mouse21\\\\200207_2\\\\2020-02-07T14.49.57.avi', 'F:\\\\DATA\\\\BehavioralVideos\\\\Whisker_Video\\\\Whisker_Topview\\\\Expect_1\\\\Mouse21\\\\200207_2\\\\2020-02-07T14.50.04.avi', 'F:\\\\DATA\\\\BehavioralVideos\\\\Whisker_Video\\\\Whisker_Topview\\\\Expect_1\\\\Mouse21\\\\200207_2\\\\2020-02-07T14.50.11.avi', 'F:\\\\DATA\\\\BehavioralVideos\\\\Whisker_Video\\\\Whisker_Topview\\\\Expect_1\\\\Mouse21\\\\200207_2\\\\2020-02-07T14.50.19.avi', 'F:\\\\DATA\\\\BehavioralVideos\\\\Whisker_Video\\\\Whisker_Topview\\\\Expect_1\\\\Mouse21\\\\200207_2\\\\2020-02-07T14.50.27.avi', 'F:\\\\DATA\\\\BehavioralVideos\\\\Whisker_Video\\\\Whisker_Topview\\\\Expect_1\\\\Mouse21\\\\200207_2\\\\2020-02-07T14.50.51.avi', 'F:\\\\DATA\\\\BehavioralVideos\\\\Whisker_Video\\\\Whisker_Topview\\\\Expect_1\\\\Mouse21\\\\200207_2\\\\2020-02-07T14.51.21.avi', 'F:\\\\DATA\\\\BehavioralVideos\\\\Whisker_Video\\\\Whisker_Topview\\\\Expect_1\\\\Mouse21\\\\200207_2\\\\2020-02-07T14.51.29.avi', 'F:\\\\DATA\\\\BehavioralVideos\\\\Whisker_Video\\\\Whisker_Topview\\\\Expect_1\\\\Mouse21\\\\200207_2\\\\2020-02-07T14.51.36.avi', 'F:\\\\DATA\\\\BehavioralVideos\\\\Whisker_Video\\\\Whisker_Topview\\\\Expect_1\\\\Mouse21\\\\200207_2\\\\2020-02-07T14.51.47.avi', 'F:\\\\DATA\\\\BehavioralVideos\\\\Whisker_Video\\\\Whisker_Topview\\\\Expect_1\\\\Mouse21\\\\200207_2\\\\2020-02-07T14.51.55.avi', 'F:\\\\DATA\\\\BehavioralVideos\\\\Whisker_Video\\\\Whisker_Topview\\\\Expect_1\\\\Mouse21\\\\200207_2\\\\2020-02-07T14.52.02.avi', 'F:\\\\DATA\\\\BehavioralVideos\\\\Whisker_Video\\\\Whisker_Topview\\\\Expect_1\\\\Mouse21\\\\200207_2\\\\2020-02-07T14.52.09.avi', 'F:\\\\DATA\\\\BehavioralVideos\\\\Whisker_Video\\\\Whisker_Topview\\\\Expect_1\\\\Mouse21\\\\200207_2\\\\2020-02-07T14.52.16.avi', 'F:\\\\DATA\\\\BehavioralVideos\\\\Whisker_Video\\\\Whisker_Topview\\\\Expect_1\\\\Mouse21\\\\200207_2\\\\2020-02-07T14.52.24.avi', 'F:\\\\DATA\\\\BehavioralVideos\\\\Whisker_Video\\\\Whisker_Topview\\\\Expect_1\\\\Mouse21\\\\200207_2\\\\2020-02-07T14.53.14.avi', 'F:\\\\DATA\\\\BehavioralVideos\\\\Whisker_Video\\\\Whisker_Topview\\\\Expect_1\\\\Mouse21\\\\200207_2\\\\2020-02-07T14.53.26.avi']\n",
      "Repaired 22 files, number of frames possible : between 0 and 38860\n",
      "\n",
      "[11001, 11501]\n"
     ]
    },
    {
     "name": "stderr",
     "output_type": "stream",
     "text": [
      "\n",
      "Writing video at F:\\DATA\\BehavioralVideos\\Whisker_Video\\Whisker_Topview\\Expect_1\\Mouse21\\200207_2\\2020-02-07T14.53.35.avi\n"
     ]
    },
    {
     "name": "stdout",
     "output_type": "stream",
     "text": [
      "about to write a video named 2020-02-07T14.53.35\n",
      "2020-02-07T14.53.35\n",
      "Using default extension (.avi) as none was specified\n",
      "Using default framerate (30 fps) as none was specified\n",
      "Using default codec (MJPG) as none was specified\n"
     ]
    },
    {
     "name": "stderr",
     "output_type": "stream",
     "text": [
      "0% [▓▓▓▓▓▓▓▓▓▓▓▓▓▓▓▓▓▓▓▓▓▓▓▓▓▓▓▓▓▓] 100% | ETA: 00:00:00\n",
      "Total time elapsed: 00:00:13\n"
     ]
    },
    {
     "name": "stdout",
     "output_type": "stream",
     "text": [
      "Video compression at F:\\DATA\\BehavioralVideos\\Whisker_Video\\Whisker_Topview\\Expect_1\\Mouse21\\200207_2\\2020-02-07T14.53.35.avi sucessfull\n",
      "\n",
      "['F:\\\\DATA\\\\BehavioralVideos\\\\Whisker_Video\\\\Whisker_Topview\\\\Expect_1\\\\Mouse21\\\\200207_2\\\\2020-02-07T14.48.51.avi', 'F:\\\\DATA\\\\BehavioralVideos\\\\Whisker_Video\\\\Whisker_Topview\\\\Expect_1\\\\Mouse21\\\\200207_2\\\\2020-02-07T14.48.55.avi', 'F:\\\\DATA\\\\BehavioralVideos\\\\Whisker_Video\\\\Whisker_Topview\\\\Expect_1\\\\Mouse21\\\\200207_2\\\\2020-02-07T14.49.02.avi', 'F:\\\\DATA\\\\BehavioralVideos\\\\Whisker_Video\\\\Whisker_Topview\\\\Expect_1\\\\Mouse21\\\\200207_2\\\\2020-02-07T14.49.15.avi', 'F:\\\\DATA\\\\BehavioralVideos\\\\Whisker_Video\\\\Whisker_Topview\\\\Expect_1\\\\Mouse21\\\\200207_2\\\\2020-02-07T14.49.45.avi', 'F:\\\\DATA\\\\BehavioralVideos\\\\Whisker_Video\\\\Whisker_Topview\\\\Expect_1\\\\Mouse21\\\\200207_2\\\\2020-02-07T14.49.57.avi', 'F:\\\\DATA\\\\BehavioralVideos\\\\Whisker_Video\\\\Whisker_Topview\\\\Expect_1\\\\Mouse21\\\\200207_2\\\\2020-02-07T14.50.04.avi', 'F:\\\\DATA\\\\BehavioralVideos\\\\Whisker_Video\\\\Whisker_Topview\\\\Expect_1\\\\Mouse21\\\\200207_2\\\\2020-02-07T14.50.11.avi', 'F:\\\\DATA\\\\BehavioralVideos\\\\Whisker_Video\\\\Whisker_Topview\\\\Expect_1\\\\Mouse21\\\\200207_2\\\\2020-02-07T14.50.19.avi', 'F:\\\\DATA\\\\BehavioralVideos\\\\Whisker_Video\\\\Whisker_Topview\\\\Expect_1\\\\Mouse21\\\\200207_2\\\\2020-02-07T14.50.27.avi', 'F:\\\\DATA\\\\BehavioralVideos\\\\Whisker_Video\\\\Whisker_Topview\\\\Expect_1\\\\Mouse21\\\\200207_2\\\\2020-02-07T14.50.51.avi', 'F:\\\\DATA\\\\BehavioralVideos\\\\Whisker_Video\\\\Whisker_Topview\\\\Expect_1\\\\Mouse21\\\\200207_2\\\\2020-02-07T14.51.21.avi', 'F:\\\\DATA\\\\BehavioralVideos\\\\Whisker_Video\\\\Whisker_Topview\\\\Expect_1\\\\Mouse21\\\\200207_2\\\\2020-02-07T14.51.29.avi', 'F:\\\\DATA\\\\BehavioralVideos\\\\Whisker_Video\\\\Whisker_Topview\\\\Expect_1\\\\Mouse21\\\\200207_2\\\\2020-02-07T14.51.36.avi', 'F:\\\\DATA\\\\BehavioralVideos\\\\Whisker_Video\\\\Whisker_Topview\\\\Expect_1\\\\Mouse21\\\\200207_2\\\\2020-02-07T14.51.47.avi', 'F:\\\\DATA\\\\BehavioralVideos\\\\Whisker_Video\\\\Whisker_Topview\\\\Expect_1\\\\Mouse21\\\\200207_2\\\\2020-02-07T14.51.55.avi', 'F:\\\\DATA\\\\BehavioralVideos\\\\Whisker_Video\\\\Whisker_Topview\\\\Expect_1\\\\Mouse21\\\\200207_2\\\\2020-02-07T14.52.02.avi', 'F:\\\\DATA\\\\BehavioralVideos\\\\Whisker_Video\\\\Whisker_Topview\\\\Expect_1\\\\Mouse21\\\\200207_2\\\\2020-02-07T14.52.09.avi', 'F:\\\\DATA\\\\BehavioralVideos\\\\Whisker_Video\\\\Whisker_Topview\\\\Expect_1\\\\Mouse21\\\\200207_2\\\\2020-02-07T14.52.16.avi', 'F:\\\\DATA\\\\BehavioralVideos\\\\Whisker_Video\\\\Whisker_Topview\\\\Expect_1\\\\Mouse21\\\\200207_2\\\\2020-02-07T14.52.24.avi', 'F:\\\\DATA\\\\BehavioralVideos\\\\Whisker_Video\\\\Whisker_Topview\\\\Expect_1\\\\Mouse21\\\\200207_2\\\\2020-02-07T14.53.14.avi', 'F:\\\\DATA\\\\BehavioralVideos\\\\Whisker_Video\\\\Whisker_Topview\\\\Expect_1\\\\Mouse21\\\\200207_2\\\\2020-02-07T14.53.26.avi', 'F:\\\\DATA\\\\BehavioralVideos\\\\Whisker_Video\\\\Whisker_Topview\\\\Expect_1\\\\Mouse21\\\\200207_2\\\\2020-02-07T14.53.35.avi']\n",
      "Repaired 23 files, number of frames possible : between 0 and 38860\n",
      "\n",
      "[11501, 12001]\n"
     ]
    },
    {
     "name": "stderr",
     "output_type": "stream",
     "text": [
      "\n",
      "Writing video at F:\\DATA\\BehavioralVideos\\Whisker_Video\\Whisker_Topview\\Expect_1\\Mouse21\\200207_2\\2020-02-07T14.53.45.avi\n"
     ]
    },
    {
     "name": "stdout",
     "output_type": "stream",
     "text": [
      "about to write a video named 2020-02-07T14.53.45\n",
      "2020-02-07T14.53.45\n",
      "Using default extension (.avi) as none was specified\n",
      "Using default framerate (30 fps) as none was specified\n",
      "Using default codec (MJPG) as none was specified\n"
     ]
    },
    {
     "name": "stderr",
     "output_type": "stream",
     "text": [
      "0% [▓▓▓▓▓▓▓▓▓▓▓▓▓▓▓▓▓▓▓▓▓▓▓▓▓▓▓▓▓▓] 100% | ETA: 00:00:00\n",
      "Total time elapsed: 00:00:14\n"
     ]
    },
    {
     "name": "stdout",
     "output_type": "stream",
     "text": [
      "Video compression at F:\\DATA\\BehavioralVideos\\Whisker_Video\\Whisker_Topview\\Expect_1\\Mouse21\\200207_2\\2020-02-07T14.53.45.avi sucessfull\n",
      "\n",
      "['F:\\\\DATA\\\\BehavioralVideos\\\\Whisker_Video\\\\Whisker_Topview\\\\Expect_1\\\\Mouse21\\\\200207_2\\\\2020-02-07T14.48.51.avi', 'F:\\\\DATA\\\\BehavioralVideos\\\\Whisker_Video\\\\Whisker_Topview\\\\Expect_1\\\\Mouse21\\\\200207_2\\\\2020-02-07T14.48.55.avi', 'F:\\\\DATA\\\\BehavioralVideos\\\\Whisker_Video\\\\Whisker_Topview\\\\Expect_1\\\\Mouse21\\\\200207_2\\\\2020-02-07T14.49.02.avi', 'F:\\\\DATA\\\\BehavioralVideos\\\\Whisker_Video\\\\Whisker_Topview\\\\Expect_1\\\\Mouse21\\\\200207_2\\\\2020-02-07T14.49.15.avi', 'F:\\\\DATA\\\\BehavioralVideos\\\\Whisker_Video\\\\Whisker_Topview\\\\Expect_1\\\\Mouse21\\\\200207_2\\\\2020-02-07T14.49.45.avi', 'F:\\\\DATA\\\\BehavioralVideos\\\\Whisker_Video\\\\Whisker_Topview\\\\Expect_1\\\\Mouse21\\\\200207_2\\\\2020-02-07T14.49.57.avi', 'F:\\\\DATA\\\\BehavioralVideos\\\\Whisker_Video\\\\Whisker_Topview\\\\Expect_1\\\\Mouse21\\\\200207_2\\\\2020-02-07T14.50.04.avi', 'F:\\\\DATA\\\\BehavioralVideos\\\\Whisker_Video\\\\Whisker_Topview\\\\Expect_1\\\\Mouse21\\\\200207_2\\\\2020-02-07T14.50.11.avi', 'F:\\\\DATA\\\\BehavioralVideos\\\\Whisker_Video\\\\Whisker_Topview\\\\Expect_1\\\\Mouse21\\\\200207_2\\\\2020-02-07T14.50.19.avi', 'F:\\\\DATA\\\\BehavioralVideos\\\\Whisker_Video\\\\Whisker_Topview\\\\Expect_1\\\\Mouse21\\\\200207_2\\\\2020-02-07T14.50.27.avi', 'F:\\\\DATA\\\\BehavioralVideos\\\\Whisker_Video\\\\Whisker_Topview\\\\Expect_1\\\\Mouse21\\\\200207_2\\\\2020-02-07T14.50.51.avi', 'F:\\\\DATA\\\\BehavioralVideos\\\\Whisker_Video\\\\Whisker_Topview\\\\Expect_1\\\\Mouse21\\\\200207_2\\\\2020-02-07T14.51.21.avi', 'F:\\\\DATA\\\\BehavioralVideos\\\\Whisker_Video\\\\Whisker_Topview\\\\Expect_1\\\\Mouse21\\\\200207_2\\\\2020-02-07T14.51.29.avi', 'F:\\\\DATA\\\\BehavioralVideos\\\\Whisker_Video\\\\Whisker_Topview\\\\Expect_1\\\\Mouse21\\\\200207_2\\\\2020-02-07T14.51.36.avi', 'F:\\\\DATA\\\\BehavioralVideos\\\\Whisker_Video\\\\Whisker_Topview\\\\Expect_1\\\\Mouse21\\\\200207_2\\\\2020-02-07T14.51.47.avi', 'F:\\\\DATA\\\\BehavioralVideos\\\\Whisker_Video\\\\Whisker_Topview\\\\Expect_1\\\\Mouse21\\\\200207_2\\\\2020-02-07T14.51.55.avi', 'F:\\\\DATA\\\\BehavioralVideos\\\\Whisker_Video\\\\Whisker_Topview\\\\Expect_1\\\\Mouse21\\\\200207_2\\\\2020-02-07T14.52.02.avi', 'F:\\\\DATA\\\\BehavioralVideos\\\\Whisker_Video\\\\Whisker_Topview\\\\Expect_1\\\\Mouse21\\\\200207_2\\\\2020-02-07T14.52.09.avi', 'F:\\\\DATA\\\\BehavioralVideos\\\\Whisker_Video\\\\Whisker_Topview\\\\Expect_1\\\\Mouse21\\\\200207_2\\\\2020-02-07T14.52.16.avi', 'F:\\\\DATA\\\\BehavioralVideos\\\\Whisker_Video\\\\Whisker_Topview\\\\Expect_1\\\\Mouse21\\\\200207_2\\\\2020-02-07T14.52.24.avi', 'F:\\\\DATA\\\\BehavioralVideos\\\\Whisker_Video\\\\Whisker_Topview\\\\Expect_1\\\\Mouse21\\\\200207_2\\\\2020-02-07T14.53.14.avi', 'F:\\\\DATA\\\\BehavioralVideos\\\\Whisker_Video\\\\Whisker_Topview\\\\Expect_1\\\\Mouse21\\\\200207_2\\\\2020-02-07T14.53.26.avi', 'F:\\\\DATA\\\\BehavioralVideos\\\\Whisker_Video\\\\Whisker_Topview\\\\Expect_1\\\\Mouse21\\\\200207_2\\\\2020-02-07T14.53.35.avi', 'F:\\\\DATA\\\\BehavioralVideos\\\\Whisker_Video\\\\Whisker_Topview\\\\Expect_1\\\\Mouse21\\\\200207_2\\\\2020-02-07T14.53.45.avi']\n",
      "Repaired 24 files, number of frames possible : between 0 and 38860\n",
      "\n",
      "[12001, 12501]\n"
     ]
    },
    {
     "name": "stderr",
     "output_type": "stream",
     "text": [
      "\n",
      "Writing video at F:\\DATA\\BehavioralVideos\\Whisker_Video\\Whisker_Topview\\Expect_1\\Mouse21\\200207_2\\2020-02-07T14.53.53.avi\n"
     ]
    },
    {
     "name": "stdout",
     "output_type": "stream",
     "text": [
      "about to write a video named 2020-02-07T14.53.53\n",
      "2020-02-07T14.53.53\n",
      "Using default extension (.avi) as none was specified\n",
      "Using default framerate (30 fps) as none was specified\n",
      "Using default codec (MJPG) as none was specified\n"
     ]
    },
    {
     "name": "stderr",
     "output_type": "stream",
     "text": [
      "0% [▓▓▓▓▓▓▓▓▓▓▓▓▓▓▓▓▓▓▓▓▓▓▓▓▓▓▓▓▓▓] 100% | ETA: 00:00:00\n",
      "Total time elapsed: 00:00:13\n"
     ]
    },
    {
     "name": "stdout",
     "output_type": "stream",
     "text": [
      "Video compression at F:\\DATA\\BehavioralVideos\\Whisker_Video\\Whisker_Topview\\Expect_1\\Mouse21\\200207_2\\2020-02-07T14.53.53.avi sucessfull\n",
      "\n",
      "['F:\\\\DATA\\\\BehavioralVideos\\\\Whisker_Video\\\\Whisker_Topview\\\\Expect_1\\\\Mouse21\\\\200207_2\\\\2020-02-07T14.48.51.avi', 'F:\\\\DATA\\\\BehavioralVideos\\\\Whisker_Video\\\\Whisker_Topview\\\\Expect_1\\\\Mouse21\\\\200207_2\\\\2020-02-07T14.48.55.avi', 'F:\\\\DATA\\\\BehavioralVideos\\\\Whisker_Video\\\\Whisker_Topview\\\\Expect_1\\\\Mouse21\\\\200207_2\\\\2020-02-07T14.49.02.avi', 'F:\\\\DATA\\\\BehavioralVideos\\\\Whisker_Video\\\\Whisker_Topview\\\\Expect_1\\\\Mouse21\\\\200207_2\\\\2020-02-07T14.49.15.avi', 'F:\\\\DATA\\\\BehavioralVideos\\\\Whisker_Video\\\\Whisker_Topview\\\\Expect_1\\\\Mouse21\\\\200207_2\\\\2020-02-07T14.49.45.avi', 'F:\\\\DATA\\\\BehavioralVideos\\\\Whisker_Video\\\\Whisker_Topview\\\\Expect_1\\\\Mouse21\\\\200207_2\\\\2020-02-07T14.49.57.avi', 'F:\\\\DATA\\\\BehavioralVideos\\\\Whisker_Video\\\\Whisker_Topview\\\\Expect_1\\\\Mouse21\\\\200207_2\\\\2020-02-07T14.50.04.avi', 'F:\\\\DATA\\\\BehavioralVideos\\\\Whisker_Video\\\\Whisker_Topview\\\\Expect_1\\\\Mouse21\\\\200207_2\\\\2020-02-07T14.50.11.avi', 'F:\\\\DATA\\\\BehavioralVideos\\\\Whisker_Video\\\\Whisker_Topview\\\\Expect_1\\\\Mouse21\\\\200207_2\\\\2020-02-07T14.50.19.avi', 'F:\\\\DATA\\\\BehavioralVideos\\\\Whisker_Video\\\\Whisker_Topview\\\\Expect_1\\\\Mouse21\\\\200207_2\\\\2020-02-07T14.50.27.avi', 'F:\\\\DATA\\\\BehavioralVideos\\\\Whisker_Video\\\\Whisker_Topview\\\\Expect_1\\\\Mouse21\\\\200207_2\\\\2020-02-07T14.50.51.avi', 'F:\\\\DATA\\\\BehavioralVideos\\\\Whisker_Video\\\\Whisker_Topview\\\\Expect_1\\\\Mouse21\\\\200207_2\\\\2020-02-07T14.51.21.avi', 'F:\\\\DATA\\\\BehavioralVideos\\\\Whisker_Video\\\\Whisker_Topview\\\\Expect_1\\\\Mouse21\\\\200207_2\\\\2020-02-07T14.51.29.avi', 'F:\\\\DATA\\\\BehavioralVideos\\\\Whisker_Video\\\\Whisker_Topview\\\\Expect_1\\\\Mouse21\\\\200207_2\\\\2020-02-07T14.51.36.avi', 'F:\\\\DATA\\\\BehavioralVideos\\\\Whisker_Video\\\\Whisker_Topview\\\\Expect_1\\\\Mouse21\\\\200207_2\\\\2020-02-07T14.51.47.avi', 'F:\\\\DATA\\\\BehavioralVideos\\\\Whisker_Video\\\\Whisker_Topview\\\\Expect_1\\\\Mouse21\\\\200207_2\\\\2020-02-07T14.51.55.avi', 'F:\\\\DATA\\\\BehavioralVideos\\\\Whisker_Video\\\\Whisker_Topview\\\\Expect_1\\\\Mouse21\\\\200207_2\\\\2020-02-07T14.52.02.avi', 'F:\\\\DATA\\\\BehavioralVideos\\\\Whisker_Video\\\\Whisker_Topview\\\\Expect_1\\\\Mouse21\\\\200207_2\\\\2020-02-07T14.52.09.avi', 'F:\\\\DATA\\\\BehavioralVideos\\\\Whisker_Video\\\\Whisker_Topview\\\\Expect_1\\\\Mouse21\\\\200207_2\\\\2020-02-07T14.52.16.avi', 'F:\\\\DATA\\\\BehavioralVideos\\\\Whisker_Video\\\\Whisker_Topview\\\\Expect_1\\\\Mouse21\\\\200207_2\\\\2020-02-07T14.52.24.avi', 'F:\\\\DATA\\\\BehavioralVideos\\\\Whisker_Video\\\\Whisker_Topview\\\\Expect_1\\\\Mouse21\\\\200207_2\\\\2020-02-07T14.53.14.avi', 'F:\\\\DATA\\\\BehavioralVideos\\\\Whisker_Video\\\\Whisker_Topview\\\\Expect_1\\\\Mouse21\\\\200207_2\\\\2020-02-07T14.53.26.avi', 'F:\\\\DATA\\\\BehavioralVideos\\\\Whisker_Video\\\\Whisker_Topview\\\\Expect_1\\\\Mouse21\\\\200207_2\\\\2020-02-07T14.53.35.avi', 'F:\\\\DATA\\\\BehavioralVideos\\\\Whisker_Video\\\\Whisker_Topview\\\\Expect_1\\\\Mouse21\\\\200207_2\\\\2020-02-07T14.53.45.avi', 'F:\\\\DATA\\\\BehavioralVideos\\\\Whisker_Video\\\\Whisker_Topview\\\\Expect_1\\\\Mouse21\\\\200207_2\\\\2020-02-07T14.53.53.avi']\n",
      "Repaired 25 files, number of frames possible : between 0 and 38860\n",
      "\n",
      "[12501, 13001]\n"
     ]
    },
    {
     "name": "stderr",
     "output_type": "stream",
     "text": [
      "\n",
      "Writing video at F:\\DATA\\BehavioralVideos\\Whisker_Video\\Whisker_Topview\\Expect_1\\Mouse21\\200207_2\\2020-02-07T14.54.02.avi\n"
     ]
    },
    {
     "name": "stdout",
     "output_type": "stream",
     "text": [
      "about to write a video named 2020-02-07T14.54.02\n",
      "2020-02-07T14.54.02\n",
      "Using default extension (.avi) as none was specified\n",
      "Using default framerate (30 fps) as none was specified\n",
      "Using default codec (MJPG) as none was specified\n"
     ]
    },
    {
     "name": "stderr",
     "output_type": "stream",
     "text": [
      "0% [▓▓▓▓▓▓▓▓▓▓▓▓▓▓▓▓▓▓▓▓▓▓▓▓▓▓▓▓▓▓] 100% | ETA: 00:00:00\n",
      "Total time elapsed: 00:00:13\n"
     ]
    },
    {
     "name": "stdout",
     "output_type": "stream",
     "text": [
      "Video compression at F:\\DATA\\BehavioralVideos\\Whisker_Video\\Whisker_Topview\\Expect_1\\Mouse21\\200207_2\\2020-02-07T14.54.02.avi sucessfull\n",
      "\n",
      "['F:\\\\DATA\\\\BehavioralVideos\\\\Whisker_Video\\\\Whisker_Topview\\\\Expect_1\\\\Mouse21\\\\200207_2\\\\2020-02-07T14.48.51.avi', 'F:\\\\DATA\\\\BehavioralVideos\\\\Whisker_Video\\\\Whisker_Topview\\\\Expect_1\\\\Mouse21\\\\200207_2\\\\2020-02-07T14.48.55.avi', 'F:\\\\DATA\\\\BehavioralVideos\\\\Whisker_Video\\\\Whisker_Topview\\\\Expect_1\\\\Mouse21\\\\200207_2\\\\2020-02-07T14.49.02.avi', 'F:\\\\DATA\\\\BehavioralVideos\\\\Whisker_Video\\\\Whisker_Topview\\\\Expect_1\\\\Mouse21\\\\200207_2\\\\2020-02-07T14.49.15.avi', 'F:\\\\DATA\\\\BehavioralVideos\\\\Whisker_Video\\\\Whisker_Topview\\\\Expect_1\\\\Mouse21\\\\200207_2\\\\2020-02-07T14.49.45.avi', 'F:\\\\DATA\\\\BehavioralVideos\\\\Whisker_Video\\\\Whisker_Topview\\\\Expect_1\\\\Mouse21\\\\200207_2\\\\2020-02-07T14.49.57.avi', 'F:\\\\DATA\\\\BehavioralVideos\\\\Whisker_Video\\\\Whisker_Topview\\\\Expect_1\\\\Mouse21\\\\200207_2\\\\2020-02-07T14.50.04.avi', 'F:\\\\DATA\\\\BehavioralVideos\\\\Whisker_Video\\\\Whisker_Topview\\\\Expect_1\\\\Mouse21\\\\200207_2\\\\2020-02-07T14.50.11.avi', 'F:\\\\DATA\\\\BehavioralVideos\\\\Whisker_Video\\\\Whisker_Topview\\\\Expect_1\\\\Mouse21\\\\200207_2\\\\2020-02-07T14.50.19.avi', 'F:\\\\DATA\\\\BehavioralVideos\\\\Whisker_Video\\\\Whisker_Topview\\\\Expect_1\\\\Mouse21\\\\200207_2\\\\2020-02-07T14.50.27.avi', 'F:\\\\DATA\\\\BehavioralVideos\\\\Whisker_Video\\\\Whisker_Topview\\\\Expect_1\\\\Mouse21\\\\200207_2\\\\2020-02-07T14.50.51.avi', 'F:\\\\DATA\\\\BehavioralVideos\\\\Whisker_Video\\\\Whisker_Topview\\\\Expect_1\\\\Mouse21\\\\200207_2\\\\2020-02-07T14.51.21.avi', 'F:\\\\DATA\\\\BehavioralVideos\\\\Whisker_Video\\\\Whisker_Topview\\\\Expect_1\\\\Mouse21\\\\200207_2\\\\2020-02-07T14.51.29.avi', 'F:\\\\DATA\\\\BehavioralVideos\\\\Whisker_Video\\\\Whisker_Topview\\\\Expect_1\\\\Mouse21\\\\200207_2\\\\2020-02-07T14.51.36.avi', 'F:\\\\DATA\\\\BehavioralVideos\\\\Whisker_Video\\\\Whisker_Topview\\\\Expect_1\\\\Mouse21\\\\200207_2\\\\2020-02-07T14.51.47.avi', 'F:\\\\DATA\\\\BehavioralVideos\\\\Whisker_Video\\\\Whisker_Topview\\\\Expect_1\\\\Mouse21\\\\200207_2\\\\2020-02-07T14.51.55.avi', 'F:\\\\DATA\\\\BehavioralVideos\\\\Whisker_Video\\\\Whisker_Topview\\\\Expect_1\\\\Mouse21\\\\200207_2\\\\2020-02-07T14.52.02.avi', 'F:\\\\DATA\\\\BehavioralVideos\\\\Whisker_Video\\\\Whisker_Topview\\\\Expect_1\\\\Mouse21\\\\200207_2\\\\2020-02-07T14.52.09.avi', 'F:\\\\DATA\\\\BehavioralVideos\\\\Whisker_Video\\\\Whisker_Topview\\\\Expect_1\\\\Mouse21\\\\200207_2\\\\2020-02-07T14.52.16.avi', 'F:\\\\DATA\\\\BehavioralVideos\\\\Whisker_Video\\\\Whisker_Topview\\\\Expect_1\\\\Mouse21\\\\200207_2\\\\2020-02-07T14.52.24.avi', 'F:\\\\DATA\\\\BehavioralVideos\\\\Whisker_Video\\\\Whisker_Topview\\\\Expect_1\\\\Mouse21\\\\200207_2\\\\2020-02-07T14.53.14.avi', 'F:\\\\DATA\\\\BehavioralVideos\\\\Whisker_Video\\\\Whisker_Topview\\\\Expect_1\\\\Mouse21\\\\200207_2\\\\2020-02-07T14.53.26.avi', 'F:\\\\DATA\\\\BehavioralVideos\\\\Whisker_Video\\\\Whisker_Topview\\\\Expect_1\\\\Mouse21\\\\200207_2\\\\2020-02-07T14.53.35.avi', 'F:\\\\DATA\\\\BehavioralVideos\\\\Whisker_Video\\\\Whisker_Topview\\\\Expect_1\\\\Mouse21\\\\200207_2\\\\2020-02-07T14.53.45.avi', 'F:\\\\DATA\\\\BehavioralVideos\\\\Whisker_Video\\\\Whisker_Topview\\\\Expect_1\\\\Mouse21\\\\200207_2\\\\2020-02-07T14.53.53.avi', 'F:\\\\DATA\\\\BehavioralVideos\\\\Whisker_Video\\\\Whisker_Topview\\\\Expect_1\\\\Mouse21\\\\200207_2\\\\2020-02-07T14.54.02.avi']\n",
      "Repaired 26 files, number of frames possible : between 0 and 38860\n",
      "\n",
      "[13001, 13501]\n"
     ]
    },
    {
     "name": "stderr",
     "output_type": "stream",
     "text": [
      "\n",
      "Writing video at F:\\DATA\\BehavioralVideos\\Whisker_Video\\Whisker_Topview\\Expect_1\\Mouse21\\200207_2\\2020-02-07T14.54.09.avi\n"
     ]
    },
    {
     "name": "stdout",
     "output_type": "stream",
     "text": [
      "about to write a video named 2020-02-07T14.54.09\n",
      "2020-02-07T14.54.09\n",
      "Using default extension (.avi) as none was specified\n",
      "Using default framerate (30 fps) as none was specified\n",
      "Using default codec (MJPG) as none was specified\n"
     ]
    },
    {
     "name": "stderr",
     "output_type": "stream",
     "text": [
      "0% [▓▓▓▓▓▓▓▓▓▓▓▓▓▓▓▓▓▓▓▓▓▓▓▓▓▓▓▓▓▓] 100% | ETA: 00:00:00\n",
      "Total time elapsed: 00:00:13\n"
     ]
    },
    {
     "name": "stdout",
     "output_type": "stream",
     "text": [
      "Video compression at F:\\DATA\\BehavioralVideos\\Whisker_Video\\Whisker_Topview\\Expect_1\\Mouse21\\200207_2\\2020-02-07T14.54.09.avi sucessfull\n",
      "\n",
      "['F:\\\\DATA\\\\BehavioralVideos\\\\Whisker_Video\\\\Whisker_Topview\\\\Expect_1\\\\Mouse21\\\\200207_2\\\\2020-02-07T14.48.51.avi', 'F:\\\\DATA\\\\BehavioralVideos\\\\Whisker_Video\\\\Whisker_Topview\\\\Expect_1\\\\Mouse21\\\\200207_2\\\\2020-02-07T14.48.55.avi', 'F:\\\\DATA\\\\BehavioralVideos\\\\Whisker_Video\\\\Whisker_Topview\\\\Expect_1\\\\Mouse21\\\\200207_2\\\\2020-02-07T14.49.02.avi', 'F:\\\\DATA\\\\BehavioralVideos\\\\Whisker_Video\\\\Whisker_Topview\\\\Expect_1\\\\Mouse21\\\\200207_2\\\\2020-02-07T14.49.15.avi', 'F:\\\\DATA\\\\BehavioralVideos\\\\Whisker_Video\\\\Whisker_Topview\\\\Expect_1\\\\Mouse21\\\\200207_2\\\\2020-02-07T14.49.45.avi', 'F:\\\\DATA\\\\BehavioralVideos\\\\Whisker_Video\\\\Whisker_Topview\\\\Expect_1\\\\Mouse21\\\\200207_2\\\\2020-02-07T14.49.57.avi', 'F:\\\\DATA\\\\BehavioralVideos\\\\Whisker_Video\\\\Whisker_Topview\\\\Expect_1\\\\Mouse21\\\\200207_2\\\\2020-02-07T14.50.04.avi', 'F:\\\\DATA\\\\BehavioralVideos\\\\Whisker_Video\\\\Whisker_Topview\\\\Expect_1\\\\Mouse21\\\\200207_2\\\\2020-02-07T14.50.11.avi', 'F:\\\\DATA\\\\BehavioralVideos\\\\Whisker_Video\\\\Whisker_Topview\\\\Expect_1\\\\Mouse21\\\\200207_2\\\\2020-02-07T14.50.19.avi', 'F:\\\\DATA\\\\BehavioralVideos\\\\Whisker_Video\\\\Whisker_Topview\\\\Expect_1\\\\Mouse21\\\\200207_2\\\\2020-02-07T14.50.27.avi', 'F:\\\\DATA\\\\BehavioralVideos\\\\Whisker_Video\\\\Whisker_Topview\\\\Expect_1\\\\Mouse21\\\\200207_2\\\\2020-02-07T14.50.51.avi', 'F:\\\\DATA\\\\BehavioralVideos\\\\Whisker_Video\\\\Whisker_Topview\\\\Expect_1\\\\Mouse21\\\\200207_2\\\\2020-02-07T14.51.21.avi', 'F:\\\\DATA\\\\BehavioralVideos\\\\Whisker_Video\\\\Whisker_Topview\\\\Expect_1\\\\Mouse21\\\\200207_2\\\\2020-02-07T14.51.29.avi', 'F:\\\\DATA\\\\BehavioralVideos\\\\Whisker_Video\\\\Whisker_Topview\\\\Expect_1\\\\Mouse21\\\\200207_2\\\\2020-02-07T14.51.36.avi', 'F:\\\\DATA\\\\BehavioralVideos\\\\Whisker_Video\\\\Whisker_Topview\\\\Expect_1\\\\Mouse21\\\\200207_2\\\\2020-02-07T14.51.47.avi', 'F:\\\\DATA\\\\BehavioralVideos\\\\Whisker_Video\\\\Whisker_Topview\\\\Expect_1\\\\Mouse21\\\\200207_2\\\\2020-02-07T14.51.55.avi', 'F:\\\\DATA\\\\BehavioralVideos\\\\Whisker_Video\\\\Whisker_Topview\\\\Expect_1\\\\Mouse21\\\\200207_2\\\\2020-02-07T14.52.02.avi', 'F:\\\\DATA\\\\BehavioralVideos\\\\Whisker_Video\\\\Whisker_Topview\\\\Expect_1\\\\Mouse21\\\\200207_2\\\\2020-02-07T14.52.09.avi', 'F:\\\\DATA\\\\BehavioralVideos\\\\Whisker_Video\\\\Whisker_Topview\\\\Expect_1\\\\Mouse21\\\\200207_2\\\\2020-02-07T14.52.16.avi', 'F:\\\\DATA\\\\BehavioralVideos\\\\Whisker_Video\\\\Whisker_Topview\\\\Expect_1\\\\Mouse21\\\\200207_2\\\\2020-02-07T14.52.24.avi', 'F:\\\\DATA\\\\BehavioralVideos\\\\Whisker_Video\\\\Whisker_Topview\\\\Expect_1\\\\Mouse21\\\\200207_2\\\\2020-02-07T14.53.14.avi', 'F:\\\\DATA\\\\BehavioralVideos\\\\Whisker_Video\\\\Whisker_Topview\\\\Expect_1\\\\Mouse21\\\\200207_2\\\\2020-02-07T14.53.26.avi', 'F:\\\\DATA\\\\BehavioralVideos\\\\Whisker_Video\\\\Whisker_Topview\\\\Expect_1\\\\Mouse21\\\\200207_2\\\\2020-02-07T14.53.35.avi', 'F:\\\\DATA\\\\BehavioralVideos\\\\Whisker_Video\\\\Whisker_Topview\\\\Expect_1\\\\Mouse21\\\\200207_2\\\\2020-02-07T14.53.45.avi', 'F:\\\\DATA\\\\BehavioralVideos\\\\Whisker_Video\\\\Whisker_Topview\\\\Expect_1\\\\Mouse21\\\\200207_2\\\\2020-02-07T14.53.53.avi', 'F:\\\\DATA\\\\BehavioralVideos\\\\Whisker_Video\\\\Whisker_Topview\\\\Expect_1\\\\Mouse21\\\\200207_2\\\\2020-02-07T14.54.02.avi', 'F:\\\\DATA\\\\BehavioralVideos\\\\Whisker_Video\\\\Whisker_Topview\\\\Expect_1\\\\Mouse21\\\\200207_2\\\\2020-02-07T14.54.09.avi']\n",
      "Repaired 27 files, number of frames possible : between 0 and 38860\n",
      "\n",
      "[13501, 14001]\n"
     ]
    },
    {
     "name": "stderr",
     "output_type": "stream",
     "text": [
      "\n",
      "Writing video at F:\\DATA\\BehavioralVideos\\Whisker_Video\\Whisker_Topview\\Expect_1\\Mouse21\\200207_2\\2020-02-07T14.54.18.avi\n"
     ]
    },
    {
     "name": "stdout",
     "output_type": "stream",
     "text": [
      "about to write a video named 2020-02-07T14.54.18\n",
      "2020-02-07T14.54.18\n",
      "Using default extension (.avi) as none was specified\n",
      "Using default framerate (30 fps) as none was specified\n",
      "Using default codec (MJPG) as none was specified\n"
     ]
    },
    {
     "name": "stderr",
     "output_type": "stream",
     "text": [
      "0% [▓▓▓▓▓▓▓▓▓▓▓▓▓▓▓▓▓▓▓▓▓▓▓▓▓▓▓▓▓▓] 100% | ETA: 00:00:00\n",
      "Total time elapsed: 00:00:13\n"
     ]
    },
    {
     "name": "stdout",
     "output_type": "stream",
     "text": [
      "Video compression at F:\\DATA\\BehavioralVideos\\Whisker_Video\\Whisker_Topview\\Expect_1\\Mouse21\\200207_2\\2020-02-07T14.54.18.avi sucessfull\n",
      "\n",
      "['F:\\\\DATA\\\\BehavioralVideos\\\\Whisker_Video\\\\Whisker_Topview\\\\Expect_1\\\\Mouse21\\\\200207_2\\\\2020-02-07T14.48.51.avi', 'F:\\\\DATA\\\\BehavioralVideos\\\\Whisker_Video\\\\Whisker_Topview\\\\Expect_1\\\\Mouse21\\\\200207_2\\\\2020-02-07T14.48.55.avi', 'F:\\\\DATA\\\\BehavioralVideos\\\\Whisker_Video\\\\Whisker_Topview\\\\Expect_1\\\\Mouse21\\\\200207_2\\\\2020-02-07T14.49.02.avi', 'F:\\\\DATA\\\\BehavioralVideos\\\\Whisker_Video\\\\Whisker_Topview\\\\Expect_1\\\\Mouse21\\\\200207_2\\\\2020-02-07T14.49.15.avi', 'F:\\\\DATA\\\\BehavioralVideos\\\\Whisker_Video\\\\Whisker_Topview\\\\Expect_1\\\\Mouse21\\\\200207_2\\\\2020-02-07T14.49.45.avi', 'F:\\\\DATA\\\\BehavioralVideos\\\\Whisker_Video\\\\Whisker_Topview\\\\Expect_1\\\\Mouse21\\\\200207_2\\\\2020-02-07T14.49.57.avi', 'F:\\\\DATA\\\\BehavioralVideos\\\\Whisker_Video\\\\Whisker_Topview\\\\Expect_1\\\\Mouse21\\\\200207_2\\\\2020-02-07T14.50.04.avi', 'F:\\\\DATA\\\\BehavioralVideos\\\\Whisker_Video\\\\Whisker_Topview\\\\Expect_1\\\\Mouse21\\\\200207_2\\\\2020-02-07T14.50.11.avi', 'F:\\\\DATA\\\\BehavioralVideos\\\\Whisker_Video\\\\Whisker_Topview\\\\Expect_1\\\\Mouse21\\\\200207_2\\\\2020-02-07T14.50.19.avi', 'F:\\\\DATA\\\\BehavioralVideos\\\\Whisker_Video\\\\Whisker_Topview\\\\Expect_1\\\\Mouse21\\\\200207_2\\\\2020-02-07T14.50.27.avi', 'F:\\\\DATA\\\\BehavioralVideos\\\\Whisker_Video\\\\Whisker_Topview\\\\Expect_1\\\\Mouse21\\\\200207_2\\\\2020-02-07T14.50.51.avi', 'F:\\\\DATA\\\\BehavioralVideos\\\\Whisker_Video\\\\Whisker_Topview\\\\Expect_1\\\\Mouse21\\\\200207_2\\\\2020-02-07T14.51.21.avi', 'F:\\\\DATA\\\\BehavioralVideos\\\\Whisker_Video\\\\Whisker_Topview\\\\Expect_1\\\\Mouse21\\\\200207_2\\\\2020-02-07T14.51.29.avi', 'F:\\\\DATA\\\\BehavioralVideos\\\\Whisker_Video\\\\Whisker_Topview\\\\Expect_1\\\\Mouse21\\\\200207_2\\\\2020-02-07T14.51.36.avi', 'F:\\\\DATA\\\\BehavioralVideos\\\\Whisker_Video\\\\Whisker_Topview\\\\Expect_1\\\\Mouse21\\\\200207_2\\\\2020-02-07T14.51.47.avi', 'F:\\\\DATA\\\\BehavioralVideos\\\\Whisker_Video\\\\Whisker_Topview\\\\Expect_1\\\\Mouse21\\\\200207_2\\\\2020-02-07T14.51.55.avi', 'F:\\\\DATA\\\\BehavioralVideos\\\\Whisker_Video\\\\Whisker_Topview\\\\Expect_1\\\\Mouse21\\\\200207_2\\\\2020-02-07T14.52.02.avi', 'F:\\\\DATA\\\\BehavioralVideos\\\\Whisker_Video\\\\Whisker_Topview\\\\Expect_1\\\\Mouse21\\\\200207_2\\\\2020-02-07T14.52.09.avi', 'F:\\\\DATA\\\\BehavioralVideos\\\\Whisker_Video\\\\Whisker_Topview\\\\Expect_1\\\\Mouse21\\\\200207_2\\\\2020-02-07T14.52.16.avi', 'F:\\\\DATA\\\\BehavioralVideos\\\\Whisker_Video\\\\Whisker_Topview\\\\Expect_1\\\\Mouse21\\\\200207_2\\\\2020-02-07T14.52.24.avi', 'F:\\\\DATA\\\\BehavioralVideos\\\\Whisker_Video\\\\Whisker_Topview\\\\Expect_1\\\\Mouse21\\\\200207_2\\\\2020-02-07T14.53.14.avi', 'F:\\\\DATA\\\\BehavioralVideos\\\\Whisker_Video\\\\Whisker_Topview\\\\Expect_1\\\\Mouse21\\\\200207_2\\\\2020-02-07T14.53.26.avi', 'F:\\\\DATA\\\\BehavioralVideos\\\\Whisker_Video\\\\Whisker_Topview\\\\Expect_1\\\\Mouse21\\\\200207_2\\\\2020-02-07T14.53.35.avi', 'F:\\\\DATA\\\\BehavioralVideos\\\\Whisker_Video\\\\Whisker_Topview\\\\Expect_1\\\\Mouse21\\\\200207_2\\\\2020-02-07T14.53.45.avi', 'F:\\\\DATA\\\\BehavioralVideos\\\\Whisker_Video\\\\Whisker_Topview\\\\Expect_1\\\\Mouse21\\\\200207_2\\\\2020-02-07T14.53.53.avi', 'F:\\\\DATA\\\\BehavioralVideos\\\\Whisker_Video\\\\Whisker_Topview\\\\Expect_1\\\\Mouse21\\\\200207_2\\\\2020-02-07T14.54.02.avi', 'F:\\\\DATA\\\\BehavioralVideos\\\\Whisker_Video\\\\Whisker_Topview\\\\Expect_1\\\\Mouse21\\\\200207_2\\\\2020-02-07T14.54.09.avi', 'F:\\\\DATA\\\\BehavioralVideos\\\\Whisker_Video\\\\Whisker_Topview\\\\Expect_1\\\\Mouse21\\\\200207_2\\\\2020-02-07T14.54.18.avi']\n",
      "Repaired 28 files, number of frames possible : between 0 and 38860\n",
      "\n",
      "[14001, 14501]\n"
     ]
    },
    {
     "name": "stderr",
     "output_type": "stream",
     "text": [
      "\n",
      "Writing video at F:\\DATA\\BehavioralVideos\\Whisker_Video\\Whisker_Topview\\Expect_1\\Mouse21\\200207_2\\2020-02-07T14.54.26.avi\n"
     ]
    },
    {
     "name": "stdout",
     "output_type": "stream",
     "text": [
      "about to write a video named 2020-02-07T14.54.26\n",
      "2020-02-07T14.54.26\n",
      "Using default extension (.avi) as none was specified\n",
      "Using default framerate (30 fps) as none was specified\n",
      "Using default codec (MJPG) as none was specified\n"
     ]
    },
    {
     "name": "stderr",
     "output_type": "stream",
     "text": [
      "0% [▓▓▓▓▓▓▓▓▓▓▓▓▓▓▓▓▓▓▓▓▓▓▓▓▓▓▓▓▓▓] 100% | ETA: 00:00:00\n",
      "Total time elapsed: 00:00:14\n"
     ]
    },
    {
     "name": "stdout",
     "output_type": "stream",
     "text": [
      "Video compression at F:\\DATA\\BehavioralVideos\\Whisker_Video\\Whisker_Topview\\Expect_1\\Mouse21\\200207_2\\2020-02-07T14.54.26.avi sucessfull\n",
      "\n",
      "['F:\\\\DATA\\\\BehavioralVideos\\\\Whisker_Video\\\\Whisker_Topview\\\\Expect_1\\\\Mouse21\\\\200207_2\\\\2020-02-07T14.48.51.avi', 'F:\\\\DATA\\\\BehavioralVideos\\\\Whisker_Video\\\\Whisker_Topview\\\\Expect_1\\\\Mouse21\\\\200207_2\\\\2020-02-07T14.48.55.avi', 'F:\\\\DATA\\\\BehavioralVideos\\\\Whisker_Video\\\\Whisker_Topview\\\\Expect_1\\\\Mouse21\\\\200207_2\\\\2020-02-07T14.49.02.avi', 'F:\\\\DATA\\\\BehavioralVideos\\\\Whisker_Video\\\\Whisker_Topview\\\\Expect_1\\\\Mouse21\\\\200207_2\\\\2020-02-07T14.49.15.avi', 'F:\\\\DATA\\\\BehavioralVideos\\\\Whisker_Video\\\\Whisker_Topview\\\\Expect_1\\\\Mouse21\\\\200207_2\\\\2020-02-07T14.49.45.avi', 'F:\\\\DATA\\\\BehavioralVideos\\\\Whisker_Video\\\\Whisker_Topview\\\\Expect_1\\\\Mouse21\\\\200207_2\\\\2020-02-07T14.49.57.avi', 'F:\\\\DATA\\\\BehavioralVideos\\\\Whisker_Video\\\\Whisker_Topview\\\\Expect_1\\\\Mouse21\\\\200207_2\\\\2020-02-07T14.50.04.avi', 'F:\\\\DATA\\\\BehavioralVideos\\\\Whisker_Video\\\\Whisker_Topview\\\\Expect_1\\\\Mouse21\\\\200207_2\\\\2020-02-07T14.50.11.avi', 'F:\\\\DATA\\\\BehavioralVideos\\\\Whisker_Video\\\\Whisker_Topview\\\\Expect_1\\\\Mouse21\\\\200207_2\\\\2020-02-07T14.50.19.avi', 'F:\\\\DATA\\\\BehavioralVideos\\\\Whisker_Video\\\\Whisker_Topview\\\\Expect_1\\\\Mouse21\\\\200207_2\\\\2020-02-07T14.50.27.avi', 'F:\\\\DATA\\\\BehavioralVideos\\\\Whisker_Video\\\\Whisker_Topview\\\\Expect_1\\\\Mouse21\\\\200207_2\\\\2020-02-07T14.50.51.avi', 'F:\\\\DATA\\\\BehavioralVideos\\\\Whisker_Video\\\\Whisker_Topview\\\\Expect_1\\\\Mouse21\\\\200207_2\\\\2020-02-07T14.51.21.avi', 'F:\\\\DATA\\\\BehavioralVideos\\\\Whisker_Video\\\\Whisker_Topview\\\\Expect_1\\\\Mouse21\\\\200207_2\\\\2020-02-07T14.51.29.avi', 'F:\\\\DATA\\\\BehavioralVideos\\\\Whisker_Video\\\\Whisker_Topview\\\\Expect_1\\\\Mouse21\\\\200207_2\\\\2020-02-07T14.51.36.avi', 'F:\\\\DATA\\\\BehavioralVideos\\\\Whisker_Video\\\\Whisker_Topview\\\\Expect_1\\\\Mouse21\\\\200207_2\\\\2020-02-07T14.51.47.avi', 'F:\\\\DATA\\\\BehavioralVideos\\\\Whisker_Video\\\\Whisker_Topview\\\\Expect_1\\\\Mouse21\\\\200207_2\\\\2020-02-07T14.51.55.avi', 'F:\\\\DATA\\\\BehavioralVideos\\\\Whisker_Video\\\\Whisker_Topview\\\\Expect_1\\\\Mouse21\\\\200207_2\\\\2020-02-07T14.52.02.avi', 'F:\\\\DATA\\\\BehavioralVideos\\\\Whisker_Video\\\\Whisker_Topview\\\\Expect_1\\\\Mouse21\\\\200207_2\\\\2020-02-07T14.52.09.avi', 'F:\\\\DATA\\\\BehavioralVideos\\\\Whisker_Video\\\\Whisker_Topview\\\\Expect_1\\\\Mouse21\\\\200207_2\\\\2020-02-07T14.52.16.avi', 'F:\\\\DATA\\\\BehavioralVideos\\\\Whisker_Video\\\\Whisker_Topview\\\\Expect_1\\\\Mouse21\\\\200207_2\\\\2020-02-07T14.52.24.avi', 'F:\\\\DATA\\\\BehavioralVideos\\\\Whisker_Video\\\\Whisker_Topview\\\\Expect_1\\\\Mouse21\\\\200207_2\\\\2020-02-07T14.53.14.avi', 'F:\\\\DATA\\\\BehavioralVideos\\\\Whisker_Video\\\\Whisker_Topview\\\\Expect_1\\\\Mouse21\\\\200207_2\\\\2020-02-07T14.53.26.avi', 'F:\\\\DATA\\\\BehavioralVideos\\\\Whisker_Video\\\\Whisker_Topview\\\\Expect_1\\\\Mouse21\\\\200207_2\\\\2020-02-07T14.53.35.avi', 'F:\\\\DATA\\\\BehavioralVideos\\\\Whisker_Video\\\\Whisker_Topview\\\\Expect_1\\\\Mouse21\\\\200207_2\\\\2020-02-07T14.53.45.avi', 'F:\\\\DATA\\\\BehavioralVideos\\\\Whisker_Video\\\\Whisker_Topview\\\\Expect_1\\\\Mouse21\\\\200207_2\\\\2020-02-07T14.53.53.avi', 'F:\\\\DATA\\\\BehavioralVideos\\\\Whisker_Video\\\\Whisker_Topview\\\\Expect_1\\\\Mouse21\\\\200207_2\\\\2020-02-07T14.54.02.avi', 'F:\\\\DATA\\\\BehavioralVideos\\\\Whisker_Video\\\\Whisker_Topview\\\\Expect_1\\\\Mouse21\\\\200207_2\\\\2020-02-07T14.54.09.avi', 'F:\\\\DATA\\\\BehavioralVideos\\\\Whisker_Video\\\\Whisker_Topview\\\\Expect_1\\\\Mouse21\\\\200207_2\\\\2020-02-07T14.54.18.avi', 'F:\\\\DATA\\\\BehavioralVideos\\\\Whisker_Video\\\\Whisker_Topview\\\\Expect_1\\\\Mouse21\\\\200207_2\\\\2020-02-07T14.54.26.avi']\n",
      "Repaired 29 files, number of frames possible : between 0 and 38860\n",
      "\n",
      "[14501, 15001]\n"
     ]
    },
    {
     "name": "stderr",
     "output_type": "stream",
     "text": [
      "\n",
      "Writing video at F:\\DATA\\BehavioralVideos\\Whisker_Video\\Whisker_Topview\\Expect_1\\Mouse21\\200207_2\\2020-02-07T14.54.33.avi\n"
     ]
    },
    {
     "name": "stdout",
     "output_type": "stream",
     "text": [
      "about to write a video named 2020-02-07T14.54.33\n",
      "2020-02-07T14.54.33\n",
      "Using default extension (.avi) as none was specified\n",
      "Using default framerate (30 fps) as none was specified\n",
      "Using default codec (MJPG) as none was specified\n"
     ]
    },
    {
     "name": "stderr",
     "output_type": "stream",
     "text": [
      "0% [▓▓▓▓▓▓▓▓▓▓▓▓▓▓▓▓▓▓▓▓▓▓▓▓▓▓▓▓▓▓] 100% | ETA: 00:00:00\n",
      "Total time elapsed: 00:00:13\n"
     ]
    },
    {
     "name": "stdout",
     "output_type": "stream",
     "text": [
      "Video compression at F:\\DATA\\BehavioralVideos\\Whisker_Video\\Whisker_Topview\\Expect_1\\Mouse21\\200207_2\\2020-02-07T14.54.33.avi sucessfull\n",
      "\n",
      "['F:\\\\DATA\\\\BehavioralVideos\\\\Whisker_Video\\\\Whisker_Topview\\\\Expect_1\\\\Mouse21\\\\200207_2\\\\2020-02-07T14.48.51.avi', 'F:\\\\DATA\\\\BehavioralVideos\\\\Whisker_Video\\\\Whisker_Topview\\\\Expect_1\\\\Mouse21\\\\200207_2\\\\2020-02-07T14.48.55.avi', 'F:\\\\DATA\\\\BehavioralVideos\\\\Whisker_Video\\\\Whisker_Topview\\\\Expect_1\\\\Mouse21\\\\200207_2\\\\2020-02-07T14.49.02.avi', 'F:\\\\DATA\\\\BehavioralVideos\\\\Whisker_Video\\\\Whisker_Topview\\\\Expect_1\\\\Mouse21\\\\200207_2\\\\2020-02-07T14.49.15.avi', 'F:\\\\DATA\\\\BehavioralVideos\\\\Whisker_Video\\\\Whisker_Topview\\\\Expect_1\\\\Mouse21\\\\200207_2\\\\2020-02-07T14.49.45.avi', 'F:\\\\DATA\\\\BehavioralVideos\\\\Whisker_Video\\\\Whisker_Topview\\\\Expect_1\\\\Mouse21\\\\200207_2\\\\2020-02-07T14.49.57.avi', 'F:\\\\DATA\\\\BehavioralVideos\\\\Whisker_Video\\\\Whisker_Topview\\\\Expect_1\\\\Mouse21\\\\200207_2\\\\2020-02-07T14.50.04.avi', 'F:\\\\DATA\\\\BehavioralVideos\\\\Whisker_Video\\\\Whisker_Topview\\\\Expect_1\\\\Mouse21\\\\200207_2\\\\2020-02-07T14.50.11.avi', 'F:\\\\DATA\\\\BehavioralVideos\\\\Whisker_Video\\\\Whisker_Topview\\\\Expect_1\\\\Mouse21\\\\200207_2\\\\2020-02-07T14.50.19.avi', 'F:\\\\DATA\\\\BehavioralVideos\\\\Whisker_Video\\\\Whisker_Topview\\\\Expect_1\\\\Mouse21\\\\200207_2\\\\2020-02-07T14.50.27.avi', 'F:\\\\DATA\\\\BehavioralVideos\\\\Whisker_Video\\\\Whisker_Topview\\\\Expect_1\\\\Mouse21\\\\200207_2\\\\2020-02-07T14.50.51.avi', 'F:\\\\DATA\\\\BehavioralVideos\\\\Whisker_Video\\\\Whisker_Topview\\\\Expect_1\\\\Mouse21\\\\200207_2\\\\2020-02-07T14.51.21.avi', 'F:\\\\DATA\\\\BehavioralVideos\\\\Whisker_Video\\\\Whisker_Topview\\\\Expect_1\\\\Mouse21\\\\200207_2\\\\2020-02-07T14.51.29.avi', 'F:\\\\DATA\\\\BehavioralVideos\\\\Whisker_Video\\\\Whisker_Topview\\\\Expect_1\\\\Mouse21\\\\200207_2\\\\2020-02-07T14.51.36.avi', 'F:\\\\DATA\\\\BehavioralVideos\\\\Whisker_Video\\\\Whisker_Topview\\\\Expect_1\\\\Mouse21\\\\200207_2\\\\2020-02-07T14.51.47.avi', 'F:\\\\DATA\\\\BehavioralVideos\\\\Whisker_Video\\\\Whisker_Topview\\\\Expect_1\\\\Mouse21\\\\200207_2\\\\2020-02-07T14.51.55.avi', 'F:\\\\DATA\\\\BehavioralVideos\\\\Whisker_Video\\\\Whisker_Topview\\\\Expect_1\\\\Mouse21\\\\200207_2\\\\2020-02-07T14.52.02.avi', 'F:\\\\DATA\\\\BehavioralVideos\\\\Whisker_Video\\\\Whisker_Topview\\\\Expect_1\\\\Mouse21\\\\200207_2\\\\2020-02-07T14.52.09.avi', 'F:\\\\DATA\\\\BehavioralVideos\\\\Whisker_Video\\\\Whisker_Topview\\\\Expect_1\\\\Mouse21\\\\200207_2\\\\2020-02-07T14.52.16.avi', 'F:\\\\DATA\\\\BehavioralVideos\\\\Whisker_Video\\\\Whisker_Topview\\\\Expect_1\\\\Mouse21\\\\200207_2\\\\2020-02-07T14.52.24.avi', 'F:\\\\DATA\\\\BehavioralVideos\\\\Whisker_Video\\\\Whisker_Topview\\\\Expect_1\\\\Mouse21\\\\200207_2\\\\2020-02-07T14.53.14.avi', 'F:\\\\DATA\\\\BehavioralVideos\\\\Whisker_Video\\\\Whisker_Topview\\\\Expect_1\\\\Mouse21\\\\200207_2\\\\2020-02-07T14.53.26.avi', 'F:\\\\DATA\\\\BehavioralVideos\\\\Whisker_Video\\\\Whisker_Topview\\\\Expect_1\\\\Mouse21\\\\200207_2\\\\2020-02-07T14.53.35.avi', 'F:\\\\DATA\\\\BehavioralVideos\\\\Whisker_Video\\\\Whisker_Topview\\\\Expect_1\\\\Mouse21\\\\200207_2\\\\2020-02-07T14.53.45.avi', 'F:\\\\DATA\\\\BehavioralVideos\\\\Whisker_Video\\\\Whisker_Topview\\\\Expect_1\\\\Mouse21\\\\200207_2\\\\2020-02-07T14.53.53.avi', 'F:\\\\DATA\\\\BehavioralVideos\\\\Whisker_Video\\\\Whisker_Topview\\\\Expect_1\\\\Mouse21\\\\200207_2\\\\2020-02-07T14.54.02.avi', 'F:\\\\DATA\\\\BehavioralVideos\\\\Whisker_Video\\\\Whisker_Topview\\\\Expect_1\\\\Mouse21\\\\200207_2\\\\2020-02-07T14.54.09.avi', 'F:\\\\DATA\\\\BehavioralVideos\\\\Whisker_Video\\\\Whisker_Topview\\\\Expect_1\\\\Mouse21\\\\200207_2\\\\2020-02-07T14.54.18.avi', 'F:\\\\DATA\\\\BehavioralVideos\\\\Whisker_Video\\\\Whisker_Topview\\\\Expect_1\\\\Mouse21\\\\200207_2\\\\2020-02-07T14.54.26.avi', 'F:\\\\DATA\\\\BehavioralVideos\\\\Whisker_Video\\\\Whisker_Topview\\\\Expect_1\\\\Mouse21\\\\200207_2\\\\2020-02-07T14.54.33.avi']\n",
      "Repaired 30 files, number of frames possible : between 0 and 38860\n",
      "\n",
      "[15001, 15501]\n"
     ]
    },
    {
     "name": "stderr",
     "output_type": "stream",
     "text": [
      "\n",
      "Writing video at F:\\DATA\\BehavioralVideos\\Whisker_Video\\Whisker_Topview\\Expect_1\\Mouse21\\200207_2\\2020-02-07T14.54.39.avi\n"
     ]
    },
    {
     "name": "stdout",
     "output_type": "stream",
     "text": [
      "about to write a video named 2020-02-07T14.54.39\n",
      "2020-02-07T14.54.39\n",
      "Using default extension (.avi) as none was specified\n",
      "Using default framerate (30 fps) as none was specified\n",
      "Using default codec (MJPG) as none was specified\n"
     ]
    },
    {
     "name": "stderr",
     "output_type": "stream",
     "text": [
      "0% [▓▓▓▓▓▓▓▓▓▓▓▓▓▓▓▓▓▓▓▓▓▓▓▓▓▓▓▓▓▓] 100% | ETA: 00:00:00\n",
      "Total time elapsed: 00:00:13\n"
     ]
    },
    {
     "name": "stdout",
     "output_type": "stream",
     "text": [
      "Video compression at F:\\DATA\\BehavioralVideos\\Whisker_Video\\Whisker_Topview\\Expect_1\\Mouse21\\200207_2\\2020-02-07T14.54.39.avi sucessfull\n",
      "\n",
      "['F:\\\\DATA\\\\BehavioralVideos\\\\Whisker_Video\\\\Whisker_Topview\\\\Expect_1\\\\Mouse21\\\\200207_2\\\\2020-02-07T14.48.51.avi', 'F:\\\\DATA\\\\BehavioralVideos\\\\Whisker_Video\\\\Whisker_Topview\\\\Expect_1\\\\Mouse21\\\\200207_2\\\\2020-02-07T14.48.55.avi', 'F:\\\\DATA\\\\BehavioralVideos\\\\Whisker_Video\\\\Whisker_Topview\\\\Expect_1\\\\Mouse21\\\\200207_2\\\\2020-02-07T14.49.02.avi', 'F:\\\\DATA\\\\BehavioralVideos\\\\Whisker_Video\\\\Whisker_Topview\\\\Expect_1\\\\Mouse21\\\\200207_2\\\\2020-02-07T14.49.15.avi', 'F:\\\\DATA\\\\BehavioralVideos\\\\Whisker_Video\\\\Whisker_Topview\\\\Expect_1\\\\Mouse21\\\\200207_2\\\\2020-02-07T14.49.45.avi', 'F:\\\\DATA\\\\BehavioralVideos\\\\Whisker_Video\\\\Whisker_Topview\\\\Expect_1\\\\Mouse21\\\\200207_2\\\\2020-02-07T14.49.57.avi', 'F:\\\\DATA\\\\BehavioralVideos\\\\Whisker_Video\\\\Whisker_Topview\\\\Expect_1\\\\Mouse21\\\\200207_2\\\\2020-02-07T14.50.04.avi', 'F:\\\\DATA\\\\BehavioralVideos\\\\Whisker_Video\\\\Whisker_Topview\\\\Expect_1\\\\Mouse21\\\\200207_2\\\\2020-02-07T14.50.11.avi', 'F:\\\\DATA\\\\BehavioralVideos\\\\Whisker_Video\\\\Whisker_Topview\\\\Expect_1\\\\Mouse21\\\\200207_2\\\\2020-02-07T14.50.19.avi', 'F:\\\\DATA\\\\BehavioralVideos\\\\Whisker_Video\\\\Whisker_Topview\\\\Expect_1\\\\Mouse21\\\\200207_2\\\\2020-02-07T14.50.27.avi', 'F:\\\\DATA\\\\BehavioralVideos\\\\Whisker_Video\\\\Whisker_Topview\\\\Expect_1\\\\Mouse21\\\\200207_2\\\\2020-02-07T14.50.51.avi', 'F:\\\\DATA\\\\BehavioralVideos\\\\Whisker_Video\\\\Whisker_Topview\\\\Expect_1\\\\Mouse21\\\\200207_2\\\\2020-02-07T14.51.21.avi', 'F:\\\\DATA\\\\BehavioralVideos\\\\Whisker_Video\\\\Whisker_Topview\\\\Expect_1\\\\Mouse21\\\\200207_2\\\\2020-02-07T14.51.29.avi', 'F:\\\\DATA\\\\BehavioralVideos\\\\Whisker_Video\\\\Whisker_Topview\\\\Expect_1\\\\Mouse21\\\\200207_2\\\\2020-02-07T14.51.36.avi', 'F:\\\\DATA\\\\BehavioralVideos\\\\Whisker_Video\\\\Whisker_Topview\\\\Expect_1\\\\Mouse21\\\\200207_2\\\\2020-02-07T14.51.47.avi', 'F:\\\\DATA\\\\BehavioralVideos\\\\Whisker_Video\\\\Whisker_Topview\\\\Expect_1\\\\Mouse21\\\\200207_2\\\\2020-02-07T14.51.55.avi', 'F:\\\\DATA\\\\BehavioralVideos\\\\Whisker_Video\\\\Whisker_Topview\\\\Expect_1\\\\Mouse21\\\\200207_2\\\\2020-02-07T14.52.02.avi', 'F:\\\\DATA\\\\BehavioralVideos\\\\Whisker_Video\\\\Whisker_Topview\\\\Expect_1\\\\Mouse21\\\\200207_2\\\\2020-02-07T14.52.09.avi', 'F:\\\\DATA\\\\BehavioralVideos\\\\Whisker_Video\\\\Whisker_Topview\\\\Expect_1\\\\Mouse21\\\\200207_2\\\\2020-02-07T14.52.16.avi', 'F:\\\\DATA\\\\BehavioralVideos\\\\Whisker_Video\\\\Whisker_Topview\\\\Expect_1\\\\Mouse21\\\\200207_2\\\\2020-02-07T14.52.24.avi', 'F:\\\\DATA\\\\BehavioralVideos\\\\Whisker_Video\\\\Whisker_Topview\\\\Expect_1\\\\Mouse21\\\\200207_2\\\\2020-02-07T14.53.14.avi', 'F:\\\\DATA\\\\BehavioralVideos\\\\Whisker_Video\\\\Whisker_Topview\\\\Expect_1\\\\Mouse21\\\\200207_2\\\\2020-02-07T14.53.26.avi', 'F:\\\\DATA\\\\BehavioralVideos\\\\Whisker_Video\\\\Whisker_Topview\\\\Expect_1\\\\Mouse21\\\\200207_2\\\\2020-02-07T14.53.35.avi', 'F:\\\\DATA\\\\BehavioralVideos\\\\Whisker_Video\\\\Whisker_Topview\\\\Expect_1\\\\Mouse21\\\\200207_2\\\\2020-02-07T14.53.45.avi', 'F:\\\\DATA\\\\BehavioralVideos\\\\Whisker_Video\\\\Whisker_Topview\\\\Expect_1\\\\Mouse21\\\\200207_2\\\\2020-02-07T14.53.53.avi', 'F:\\\\DATA\\\\BehavioralVideos\\\\Whisker_Video\\\\Whisker_Topview\\\\Expect_1\\\\Mouse21\\\\200207_2\\\\2020-02-07T14.54.02.avi', 'F:\\\\DATA\\\\BehavioralVideos\\\\Whisker_Video\\\\Whisker_Topview\\\\Expect_1\\\\Mouse21\\\\200207_2\\\\2020-02-07T14.54.09.avi', 'F:\\\\DATA\\\\BehavioralVideos\\\\Whisker_Video\\\\Whisker_Topview\\\\Expect_1\\\\Mouse21\\\\200207_2\\\\2020-02-07T14.54.18.avi', 'F:\\\\DATA\\\\BehavioralVideos\\\\Whisker_Video\\\\Whisker_Topview\\\\Expect_1\\\\Mouse21\\\\200207_2\\\\2020-02-07T14.54.26.avi', 'F:\\\\DATA\\\\BehavioralVideos\\\\Whisker_Video\\\\Whisker_Topview\\\\Expect_1\\\\Mouse21\\\\200207_2\\\\2020-02-07T14.54.33.avi', 'F:\\\\DATA\\\\BehavioralVideos\\\\Whisker_Video\\\\Whisker_Topview\\\\Expect_1\\\\Mouse21\\\\200207_2\\\\2020-02-07T14.54.39.avi']\n",
      "Repaired 31 files, number of frames possible : between 0 and 38860\n",
      "\n",
      "[15501, 16001]\n"
     ]
    },
    {
     "name": "stderr",
     "output_type": "stream",
     "text": [
      "\n",
      "Writing video at F:\\DATA\\BehavioralVideos\\Whisker_Video\\Whisker_Topview\\Expect_1\\Mouse21\\200207_2\\2020-02-07T14.54.45.avi\n"
     ]
    },
    {
     "name": "stdout",
     "output_type": "stream",
     "text": [
      "about to write a video named 2020-02-07T14.54.45\n",
      "2020-02-07T14.54.45\n",
      "Using default extension (.avi) as none was specified\n",
      "Using default framerate (30 fps) as none was specified\n",
      "Using default codec (MJPG) as none was specified\n"
     ]
    },
    {
     "name": "stderr",
     "output_type": "stream",
     "text": [
      "0% [▓▓▓▓▓▓▓▓▓▓▓▓▓▓▓▓▓▓▓▓▓▓▓▓▓▓▓▓▓▓] 100% | ETA: 00:00:00\n",
      "Total time elapsed: 00:00:13\n"
     ]
    },
    {
     "name": "stdout",
     "output_type": "stream",
     "text": [
      "Video compression at F:\\DATA\\BehavioralVideos\\Whisker_Video\\Whisker_Topview\\Expect_1\\Mouse21\\200207_2\\2020-02-07T14.54.45.avi sucessfull\n",
      "\n",
      "['F:\\\\DATA\\\\BehavioralVideos\\\\Whisker_Video\\\\Whisker_Topview\\\\Expect_1\\\\Mouse21\\\\200207_2\\\\2020-02-07T14.48.51.avi', 'F:\\\\DATA\\\\BehavioralVideos\\\\Whisker_Video\\\\Whisker_Topview\\\\Expect_1\\\\Mouse21\\\\200207_2\\\\2020-02-07T14.48.55.avi', 'F:\\\\DATA\\\\BehavioralVideos\\\\Whisker_Video\\\\Whisker_Topview\\\\Expect_1\\\\Mouse21\\\\200207_2\\\\2020-02-07T14.49.02.avi', 'F:\\\\DATA\\\\BehavioralVideos\\\\Whisker_Video\\\\Whisker_Topview\\\\Expect_1\\\\Mouse21\\\\200207_2\\\\2020-02-07T14.49.15.avi', 'F:\\\\DATA\\\\BehavioralVideos\\\\Whisker_Video\\\\Whisker_Topview\\\\Expect_1\\\\Mouse21\\\\200207_2\\\\2020-02-07T14.49.45.avi', 'F:\\\\DATA\\\\BehavioralVideos\\\\Whisker_Video\\\\Whisker_Topview\\\\Expect_1\\\\Mouse21\\\\200207_2\\\\2020-02-07T14.49.57.avi', 'F:\\\\DATA\\\\BehavioralVideos\\\\Whisker_Video\\\\Whisker_Topview\\\\Expect_1\\\\Mouse21\\\\200207_2\\\\2020-02-07T14.50.04.avi', 'F:\\\\DATA\\\\BehavioralVideos\\\\Whisker_Video\\\\Whisker_Topview\\\\Expect_1\\\\Mouse21\\\\200207_2\\\\2020-02-07T14.50.11.avi', 'F:\\\\DATA\\\\BehavioralVideos\\\\Whisker_Video\\\\Whisker_Topview\\\\Expect_1\\\\Mouse21\\\\200207_2\\\\2020-02-07T14.50.19.avi', 'F:\\\\DATA\\\\BehavioralVideos\\\\Whisker_Video\\\\Whisker_Topview\\\\Expect_1\\\\Mouse21\\\\200207_2\\\\2020-02-07T14.50.27.avi', 'F:\\\\DATA\\\\BehavioralVideos\\\\Whisker_Video\\\\Whisker_Topview\\\\Expect_1\\\\Mouse21\\\\200207_2\\\\2020-02-07T14.50.51.avi', 'F:\\\\DATA\\\\BehavioralVideos\\\\Whisker_Video\\\\Whisker_Topview\\\\Expect_1\\\\Mouse21\\\\200207_2\\\\2020-02-07T14.51.21.avi', 'F:\\\\DATA\\\\BehavioralVideos\\\\Whisker_Video\\\\Whisker_Topview\\\\Expect_1\\\\Mouse21\\\\200207_2\\\\2020-02-07T14.51.29.avi', 'F:\\\\DATA\\\\BehavioralVideos\\\\Whisker_Video\\\\Whisker_Topview\\\\Expect_1\\\\Mouse21\\\\200207_2\\\\2020-02-07T14.51.36.avi', 'F:\\\\DATA\\\\BehavioralVideos\\\\Whisker_Video\\\\Whisker_Topview\\\\Expect_1\\\\Mouse21\\\\200207_2\\\\2020-02-07T14.51.47.avi', 'F:\\\\DATA\\\\BehavioralVideos\\\\Whisker_Video\\\\Whisker_Topview\\\\Expect_1\\\\Mouse21\\\\200207_2\\\\2020-02-07T14.51.55.avi', 'F:\\\\DATA\\\\BehavioralVideos\\\\Whisker_Video\\\\Whisker_Topview\\\\Expect_1\\\\Mouse21\\\\200207_2\\\\2020-02-07T14.52.02.avi', 'F:\\\\DATA\\\\BehavioralVideos\\\\Whisker_Video\\\\Whisker_Topview\\\\Expect_1\\\\Mouse21\\\\200207_2\\\\2020-02-07T14.52.09.avi', 'F:\\\\DATA\\\\BehavioralVideos\\\\Whisker_Video\\\\Whisker_Topview\\\\Expect_1\\\\Mouse21\\\\200207_2\\\\2020-02-07T14.52.16.avi', 'F:\\\\DATA\\\\BehavioralVideos\\\\Whisker_Video\\\\Whisker_Topview\\\\Expect_1\\\\Mouse21\\\\200207_2\\\\2020-02-07T14.52.24.avi', 'F:\\\\DATA\\\\BehavioralVideos\\\\Whisker_Video\\\\Whisker_Topview\\\\Expect_1\\\\Mouse21\\\\200207_2\\\\2020-02-07T14.53.14.avi', 'F:\\\\DATA\\\\BehavioralVideos\\\\Whisker_Video\\\\Whisker_Topview\\\\Expect_1\\\\Mouse21\\\\200207_2\\\\2020-02-07T14.53.26.avi', 'F:\\\\DATA\\\\BehavioralVideos\\\\Whisker_Video\\\\Whisker_Topview\\\\Expect_1\\\\Mouse21\\\\200207_2\\\\2020-02-07T14.53.35.avi', 'F:\\\\DATA\\\\BehavioralVideos\\\\Whisker_Video\\\\Whisker_Topview\\\\Expect_1\\\\Mouse21\\\\200207_2\\\\2020-02-07T14.53.45.avi', 'F:\\\\DATA\\\\BehavioralVideos\\\\Whisker_Video\\\\Whisker_Topview\\\\Expect_1\\\\Mouse21\\\\200207_2\\\\2020-02-07T14.53.53.avi', 'F:\\\\DATA\\\\BehavioralVideos\\\\Whisker_Video\\\\Whisker_Topview\\\\Expect_1\\\\Mouse21\\\\200207_2\\\\2020-02-07T14.54.02.avi', 'F:\\\\DATA\\\\BehavioralVideos\\\\Whisker_Video\\\\Whisker_Topview\\\\Expect_1\\\\Mouse21\\\\200207_2\\\\2020-02-07T14.54.09.avi', 'F:\\\\DATA\\\\BehavioralVideos\\\\Whisker_Video\\\\Whisker_Topview\\\\Expect_1\\\\Mouse21\\\\200207_2\\\\2020-02-07T14.54.18.avi', 'F:\\\\DATA\\\\BehavioralVideos\\\\Whisker_Video\\\\Whisker_Topview\\\\Expect_1\\\\Mouse21\\\\200207_2\\\\2020-02-07T14.54.26.avi', 'F:\\\\DATA\\\\BehavioralVideos\\\\Whisker_Video\\\\Whisker_Topview\\\\Expect_1\\\\Mouse21\\\\200207_2\\\\2020-02-07T14.54.33.avi', 'F:\\\\DATA\\\\BehavioralVideos\\\\Whisker_Video\\\\Whisker_Topview\\\\Expect_1\\\\Mouse21\\\\200207_2\\\\2020-02-07T14.54.39.avi', 'F:\\\\DATA\\\\BehavioralVideos\\\\Whisker_Video\\\\Whisker_Topview\\\\Expect_1\\\\Mouse21\\\\200207_2\\\\2020-02-07T14.54.45.avi']\n",
      "Repaired 32 files, number of frames possible : between 0 and 38860\n",
      "\n",
      "[16001, 16501]\n"
     ]
    },
    {
     "name": "stderr",
     "output_type": "stream",
     "text": [
      "\n",
      "Writing video at F:\\DATA\\BehavioralVideos\\Whisker_Video\\Whisker_Topview\\Expect_1\\Mouse21\\200207_2\\2020-02-07T14.55.01.avi\n"
     ]
    },
    {
     "name": "stdout",
     "output_type": "stream",
     "text": [
      "about to write a video named 2020-02-07T14.55.01\n",
      "2020-02-07T14.55.01\n",
      "Using default extension (.avi) as none was specified\n",
      "Using default framerate (30 fps) as none was specified\n",
      "Using default codec (MJPG) as none was specified\n"
     ]
    },
    {
     "name": "stderr",
     "output_type": "stream",
     "text": [
      "0% [▓▓▓▓▓▓▓▓▓▓▓▓▓▓▓▓▓▓▓▓▓▓▓▓▓▓▓▓▓▓] 100% | ETA: 00:00:00\n",
      "Total time elapsed: 00:00:13\n"
     ]
    },
    {
     "name": "stdout",
     "output_type": "stream",
     "text": [
      "Video compression at F:\\DATA\\BehavioralVideos\\Whisker_Video\\Whisker_Topview\\Expect_1\\Mouse21\\200207_2\\2020-02-07T14.55.01.avi sucessfull\n",
      "\n",
      "['F:\\\\DATA\\\\BehavioralVideos\\\\Whisker_Video\\\\Whisker_Topview\\\\Expect_1\\\\Mouse21\\\\200207_2\\\\2020-02-07T14.48.51.avi', 'F:\\\\DATA\\\\BehavioralVideos\\\\Whisker_Video\\\\Whisker_Topview\\\\Expect_1\\\\Mouse21\\\\200207_2\\\\2020-02-07T14.48.55.avi', 'F:\\\\DATA\\\\BehavioralVideos\\\\Whisker_Video\\\\Whisker_Topview\\\\Expect_1\\\\Mouse21\\\\200207_2\\\\2020-02-07T14.49.02.avi', 'F:\\\\DATA\\\\BehavioralVideos\\\\Whisker_Video\\\\Whisker_Topview\\\\Expect_1\\\\Mouse21\\\\200207_2\\\\2020-02-07T14.49.15.avi', 'F:\\\\DATA\\\\BehavioralVideos\\\\Whisker_Video\\\\Whisker_Topview\\\\Expect_1\\\\Mouse21\\\\200207_2\\\\2020-02-07T14.49.45.avi', 'F:\\\\DATA\\\\BehavioralVideos\\\\Whisker_Video\\\\Whisker_Topview\\\\Expect_1\\\\Mouse21\\\\200207_2\\\\2020-02-07T14.49.57.avi', 'F:\\\\DATA\\\\BehavioralVideos\\\\Whisker_Video\\\\Whisker_Topview\\\\Expect_1\\\\Mouse21\\\\200207_2\\\\2020-02-07T14.50.04.avi', 'F:\\\\DATA\\\\BehavioralVideos\\\\Whisker_Video\\\\Whisker_Topview\\\\Expect_1\\\\Mouse21\\\\200207_2\\\\2020-02-07T14.50.11.avi', 'F:\\\\DATA\\\\BehavioralVideos\\\\Whisker_Video\\\\Whisker_Topview\\\\Expect_1\\\\Mouse21\\\\200207_2\\\\2020-02-07T14.50.19.avi', 'F:\\\\DATA\\\\BehavioralVideos\\\\Whisker_Video\\\\Whisker_Topview\\\\Expect_1\\\\Mouse21\\\\200207_2\\\\2020-02-07T14.50.27.avi', 'F:\\\\DATA\\\\BehavioralVideos\\\\Whisker_Video\\\\Whisker_Topview\\\\Expect_1\\\\Mouse21\\\\200207_2\\\\2020-02-07T14.50.51.avi', 'F:\\\\DATA\\\\BehavioralVideos\\\\Whisker_Video\\\\Whisker_Topview\\\\Expect_1\\\\Mouse21\\\\200207_2\\\\2020-02-07T14.51.21.avi', 'F:\\\\DATA\\\\BehavioralVideos\\\\Whisker_Video\\\\Whisker_Topview\\\\Expect_1\\\\Mouse21\\\\200207_2\\\\2020-02-07T14.51.29.avi', 'F:\\\\DATA\\\\BehavioralVideos\\\\Whisker_Video\\\\Whisker_Topview\\\\Expect_1\\\\Mouse21\\\\200207_2\\\\2020-02-07T14.51.36.avi', 'F:\\\\DATA\\\\BehavioralVideos\\\\Whisker_Video\\\\Whisker_Topview\\\\Expect_1\\\\Mouse21\\\\200207_2\\\\2020-02-07T14.51.47.avi', 'F:\\\\DATA\\\\BehavioralVideos\\\\Whisker_Video\\\\Whisker_Topview\\\\Expect_1\\\\Mouse21\\\\200207_2\\\\2020-02-07T14.51.55.avi', 'F:\\\\DATA\\\\BehavioralVideos\\\\Whisker_Video\\\\Whisker_Topview\\\\Expect_1\\\\Mouse21\\\\200207_2\\\\2020-02-07T14.52.02.avi', 'F:\\\\DATA\\\\BehavioralVideos\\\\Whisker_Video\\\\Whisker_Topview\\\\Expect_1\\\\Mouse21\\\\200207_2\\\\2020-02-07T14.52.09.avi', 'F:\\\\DATA\\\\BehavioralVideos\\\\Whisker_Video\\\\Whisker_Topview\\\\Expect_1\\\\Mouse21\\\\200207_2\\\\2020-02-07T14.52.16.avi', 'F:\\\\DATA\\\\BehavioralVideos\\\\Whisker_Video\\\\Whisker_Topview\\\\Expect_1\\\\Mouse21\\\\200207_2\\\\2020-02-07T14.52.24.avi', 'F:\\\\DATA\\\\BehavioralVideos\\\\Whisker_Video\\\\Whisker_Topview\\\\Expect_1\\\\Mouse21\\\\200207_2\\\\2020-02-07T14.53.14.avi', 'F:\\\\DATA\\\\BehavioralVideos\\\\Whisker_Video\\\\Whisker_Topview\\\\Expect_1\\\\Mouse21\\\\200207_2\\\\2020-02-07T14.53.26.avi', 'F:\\\\DATA\\\\BehavioralVideos\\\\Whisker_Video\\\\Whisker_Topview\\\\Expect_1\\\\Mouse21\\\\200207_2\\\\2020-02-07T14.53.35.avi', 'F:\\\\DATA\\\\BehavioralVideos\\\\Whisker_Video\\\\Whisker_Topview\\\\Expect_1\\\\Mouse21\\\\200207_2\\\\2020-02-07T14.53.45.avi', 'F:\\\\DATA\\\\BehavioralVideos\\\\Whisker_Video\\\\Whisker_Topview\\\\Expect_1\\\\Mouse21\\\\200207_2\\\\2020-02-07T14.53.53.avi', 'F:\\\\DATA\\\\BehavioralVideos\\\\Whisker_Video\\\\Whisker_Topview\\\\Expect_1\\\\Mouse21\\\\200207_2\\\\2020-02-07T14.54.02.avi', 'F:\\\\DATA\\\\BehavioralVideos\\\\Whisker_Video\\\\Whisker_Topview\\\\Expect_1\\\\Mouse21\\\\200207_2\\\\2020-02-07T14.54.09.avi', 'F:\\\\DATA\\\\BehavioralVideos\\\\Whisker_Video\\\\Whisker_Topview\\\\Expect_1\\\\Mouse21\\\\200207_2\\\\2020-02-07T14.54.18.avi', 'F:\\\\DATA\\\\BehavioralVideos\\\\Whisker_Video\\\\Whisker_Topview\\\\Expect_1\\\\Mouse21\\\\200207_2\\\\2020-02-07T14.54.26.avi', 'F:\\\\DATA\\\\BehavioralVideos\\\\Whisker_Video\\\\Whisker_Topview\\\\Expect_1\\\\Mouse21\\\\200207_2\\\\2020-02-07T14.54.33.avi', 'F:\\\\DATA\\\\BehavioralVideos\\\\Whisker_Video\\\\Whisker_Topview\\\\Expect_1\\\\Mouse21\\\\200207_2\\\\2020-02-07T14.54.39.avi', 'F:\\\\DATA\\\\BehavioralVideos\\\\Whisker_Video\\\\Whisker_Topview\\\\Expect_1\\\\Mouse21\\\\200207_2\\\\2020-02-07T14.54.45.avi', 'F:\\\\DATA\\\\BehavioralVideos\\\\Whisker_Video\\\\Whisker_Topview\\\\Expect_1\\\\Mouse21\\\\200207_2\\\\2020-02-07T14.55.01.avi']\n",
      "Repaired 33 files, number of frames possible : between 0 and 38860\n",
      "\n",
      "[16501, 17001]\n"
     ]
    },
    {
     "name": "stderr",
     "output_type": "stream",
     "text": [
      "\n",
      "Writing video at F:\\DATA\\BehavioralVideos\\Whisker_Video\\Whisker_Topview\\Expect_1\\Mouse21\\200207_2\\2020-02-07T14.55.11.avi\n"
     ]
    },
    {
     "name": "stdout",
     "output_type": "stream",
     "text": [
      "about to write a video named 2020-02-07T14.55.11\n",
      "2020-02-07T14.55.11\n",
      "Using default extension (.avi) as none was specified\n",
      "Using default framerate (30 fps) as none was specified\n",
      "Using default codec (MJPG) as none was specified\n"
     ]
    },
    {
     "name": "stderr",
     "output_type": "stream",
     "text": [
      "0% [▓▓▓▓▓▓▓▓▓▓▓▓▓▓▓▓▓▓▓▓▓▓▓▓▓▓▓▓▓▓] 100% | ETA: 00:00:00\n",
      "Total time elapsed: 00:00:13\n"
     ]
    },
    {
     "name": "stdout",
     "output_type": "stream",
     "text": [
      "Video compression at F:\\DATA\\BehavioralVideos\\Whisker_Video\\Whisker_Topview\\Expect_1\\Mouse21\\200207_2\\2020-02-07T14.55.11.avi sucessfull\n",
      "\n",
      "['F:\\\\DATA\\\\BehavioralVideos\\\\Whisker_Video\\\\Whisker_Topview\\\\Expect_1\\\\Mouse21\\\\200207_2\\\\2020-02-07T14.48.51.avi', 'F:\\\\DATA\\\\BehavioralVideos\\\\Whisker_Video\\\\Whisker_Topview\\\\Expect_1\\\\Mouse21\\\\200207_2\\\\2020-02-07T14.48.55.avi', 'F:\\\\DATA\\\\BehavioralVideos\\\\Whisker_Video\\\\Whisker_Topview\\\\Expect_1\\\\Mouse21\\\\200207_2\\\\2020-02-07T14.49.02.avi', 'F:\\\\DATA\\\\BehavioralVideos\\\\Whisker_Video\\\\Whisker_Topview\\\\Expect_1\\\\Mouse21\\\\200207_2\\\\2020-02-07T14.49.15.avi', 'F:\\\\DATA\\\\BehavioralVideos\\\\Whisker_Video\\\\Whisker_Topview\\\\Expect_1\\\\Mouse21\\\\200207_2\\\\2020-02-07T14.49.45.avi', 'F:\\\\DATA\\\\BehavioralVideos\\\\Whisker_Video\\\\Whisker_Topview\\\\Expect_1\\\\Mouse21\\\\200207_2\\\\2020-02-07T14.49.57.avi', 'F:\\\\DATA\\\\BehavioralVideos\\\\Whisker_Video\\\\Whisker_Topview\\\\Expect_1\\\\Mouse21\\\\200207_2\\\\2020-02-07T14.50.04.avi', 'F:\\\\DATA\\\\BehavioralVideos\\\\Whisker_Video\\\\Whisker_Topview\\\\Expect_1\\\\Mouse21\\\\200207_2\\\\2020-02-07T14.50.11.avi', 'F:\\\\DATA\\\\BehavioralVideos\\\\Whisker_Video\\\\Whisker_Topview\\\\Expect_1\\\\Mouse21\\\\200207_2\\\\2020-02-07T14.50.19.avi', 'F:\\\\DATA\\\\BehavioralVideos\\\\Whisker_Video\\\\Whisker_Topview\\\\Expect_1\\\\Mouse21\\\\200207_2\\\\2020-02-07T14.50.27.avi', 'F:\\\\DATA\\\\BehavioralVideos\\\\Whisker_Video\\\\Whisker_Topview\\\\Expect_1\\\\Mouse21\\\\200207_2\\\\2020-02-07T14.50.51.avi', 'F:\\\\DATA\\\\BehavioralVideos\\\\Whisker_Video\\\\Whisker_Topview\\\\Expect_1\\\\Mouse21\\\\200207_2\\\\2020-02-07T14.51.21.avi', 'F:\\\\DATA\\\\BehavioralVideos\\\\Whisker_Video\\\\Whisker_Topview\\\\Expect_1\\\\Mouse21\\\\200207_2\\\\2020-02-07T14.51.29.avi', 'F:\\\\DATA\\\\BehavioralVideos\\\\Whisker_Video\\\\Whisker_Topview\\\\Expect_1\\\\Mouse21\\\\200207_2\\\\2020-02-07T14.51.36.avi', 'F:\\\\DATA\\\\BehavioralVideos\\\\Whisker_Video\\\\Whisker_Topview\\\\Expect_1\\\\Mouse21\\\\200207_2\\\\2020-02-07T14.51.47.avi', 'F:\\\\DATA\\\\BehavioralVideos\\\\Whisker_Video\\\\Whisker_Topview\\\\Expect_1\\\\Mouse21\\\\200207_2\\\\2020-02-07T14.51.55.avi', 'F:\\\\DATA\\\\BehavioralVideos\\\\Whisker_Video\\\\Whisker_Topview\\\\Expect_1\\\\Mouse21\\\\200207_2\\\\2020-02-07T14.52.02.avi', 'F:\\\\DATA\\\\BehavioralVideos\\\\Whisker_Video\\\\Whisker_Topview\\\\Expect_1\\\\Mouse21\\\\200207_2\\\\2020-02-07T14.52.09.avi', 'F:\\\\DATA\\\\BehavioralVideos\\\\Whisker_Video\\\\Whisker_Topview\\\\Expect_1\\\\Mouse21\\\\200207_2\\\\2020-02-07T14.52.16.avi', 'F:\\\\DATA\\\\BehavioralVideos\\\\Whisker_Video\\\\Whisker_Topview\\\\Expect_1\\\\Mouse21\\\\200207_2\\\\2020-02-07T14.52.24.avi', 'F:\\\\DATA\\\\BehavioralVideos\\\\Whisker_Video\\\\Whisker_Topview\\\\Expect_1\\\\Mouse21\\\\200207_2\\\\2020-02-07T14.53.14.avi', 'F:\\\\DATA\\\\BehavioralVideos\\\\Whisker_Video\\\\Whisker_Topview\\\\Expect_1\\\\Mouse21\\\\200207_2\\\\2020-02-07T14.53.26.avi', 'F:\\\\DATA\\\\BehavioralVideos\\\\Whisker_Video\\\\Whisker_Topview\\\\Expect_1\\\\Mouse21\\\\200207_2\\\\2020-02-07T14.53.35.avi', 'F:\\\\DATA\\\\BehavioralVideos\\\\Whisker_Video\\\\Whisker_Topview\\\\Expect_1\\\\Mouse21\\\\200207_2\\\\2020-02-07T14.53.45.avi', 'F:\\\\DATA\\\\BehavioralVideos\\\\Whisker_Video\\\\Whisker_Topview\\\\Expect_1\\\\Mouse21\\\\200207_2\\\\2020-02-07T14.53.53.avi', 'F:\\\\DATA\\\\BehavioralVideos\\\\Whisker_Video\\\\Whisker_Topview\\\\Expect_1\\\\Mouse21\\\\200207_2\\\\2020-02-07T14.54.02.avi', 'F:\\\\DATA\\\\BehavioralVideos\\\\Whisker_Video\\\\Whisker_Topview\\\\Expect_1\\\\Mouse21\\\\200207_2\\\\2020-02-07T14.54.09.avi', 'F:\\\\DATA\\\\BehavioralVideos\\\\Whisker_Video\\\\Whisker_Topview\\\\Expect_1\\\\Mouse21\\\\200207_2\\\\2020-02-07T14.54.18.avi', 'F:\\\\DATA\\\\BehavioralVideos\\\\Whisker_Video\\\\Whisker_Topview\\\\Expect_1\\\\Mouse21\\\\200207_2\\\\2020-02-07T14.54.26.avi', 'F:\\\\DATA\\\\BehavioralVideos\\\\Whisker_Video\\\\Whisker_Topview\\\\Expect_1\\\\Mouse21\\\\200207_2\\\\2020-02-07T14.54.33.avi', 'F:\\\\DATA\\\\BehavioralVideos\\\\Whisker_Video\\\\Whisker_Topview\\\\Expect_1\\\\Mouse21\\\\200207_2\\\\2020-02-07T14.54.39.avi', 'F:\\\\DATA\\\\BehavioralVideos\\\\Whisker_Video\\\\Whisker_Topview\\\\Expect_1\\\\Mouse21\\\\200207_2\\\\2020-02-07T14.54.45.avi', 'F:\\\\DATA\\\\BehavioralVideos\\\\Whisker_Video\\\\Whisker_Topview\\\\Expect_1\\\\Mouse21\\\\200207_2\\\\2020-02-07T14.55.01.avi', 'F:\\\\DATA\\\\BehavioralVideos\\\\Whisker_Video\\\\Whisker_Topview\\\\Expect_1\\\\Mouse21\\\\200207_2\\\\2020-02-07T14.55.11.avi']\n",
      "Repaired 34 files, number of frames possible : between 0 and 38860\n",
      "\n",
      "[17001, 17501]\n"
     ]
    },
    {
     "name": "stderr",
     "output_type": "stream",
     "text": [
      "\n",
      "Writing video at F:\\DATA\\BehavioralVideos\\Whisker_Video\\Whisker_Topview\\Expect_1\\Mouse21\\200207_2\\2020-02-07T14.55.17.avi\n"
     ]
    },
    {
     "name": "stdout",
     "output_type": "stream",
     "text": [
      "about to write a video named 2020-02-07T14.55.17\n",
      "2020-02-07T14.55.17\n",
      "Using default extension (.avi) as none was specified\n",
      "Using default framerate (30 fps) as none was specified\n",
      "Using default codec (MJPG) as none was specified\n"
     ]
    },
    {
     "name": "stderr",
     "output_type": "stream",
     "text": [
      "0% [▓▓▓▓▓▓▓▓▓▓▓▓▓▓▓▓▓▓▓▓▓▓▓▓▓▓▓▓▓▓] 100% | ETA: 00:00:00\n",
      "Total time elapsed: 00:00:13\n"
     ]
    },
    {
     "name": "stdout",
     "output_type": "stream",
     "text": [
      "Video compression at F:\\DATA\\BehavioralVideos\\Whisker_Video\\Whisker_Topview\\Expect_1\\Mouse21\\200207_2\\2020-02-07T14.55.17.avi sucessfull\n",
      "\n",
      "['F:\\\\DATA\\\\BehavioralVideos\\\\Whisker_Video\\\\Whisker_Topview\\\\Expect_1\\\\Mouse21\\\\200207_2\\\\2020-02-07T14.48.51.avi', 'F:\\\\DATA\\\\BehavioralVideos\\\\Whisker_Video\\\\Whisker_Topview\\\\Expect_1\\\\Mouse21\\\\200207_2\\\\2020-02-07T14.48.55.avi', 'F:\\\\DATA\\\\BehavioralVideos\\\\Whisker_Video\\\\Whisker_Topview\\\\Expect_1\\\\Mouse21\\\\200207_2\\\\2020-02-07T14.49.02.avi', 'F:\\\\DATA\\\\BehavioralVideos\\\\Whisker_Video\\\\Whisker_Topview\\\\Expect_1\\\\Mouse21\\\\200207_2\\\\2020-02-07T14.49.15.avi', 'F:\\\\DATA\\\\BehavioralVideos\\\\Whisker_Video\\\\Whisker_Topview\\\\Expect_1\\\\Mouse21\\\\200207_2\\\\2020-02-07T14.49.45.avi', 'F:\\\\DATA\\\\BehavioralVideos\\\\Whisker_Video\\\\Whisker_Topview\\\\Expect_1\\\\Mouse21\\\\200207_2\\\\2020-02-07T14.49.57.avi', 'F:\\\\DATA\\\\BehavioralVideos\\\\Whisker_Video\\\\Whisker_Topview\\\\Expect_1\\\\Mouse21\\\\200207_2\\\\2020-02-07T14.50.04.avi', 'F:\\\\DATA\\\\BehavioralVideos\\\\Whisker_Video\\\\Whisker_Topview\\\\Expect_1\\\\Mouse21\\\\200207_2\\\\2020-02-07T14.50.11.avi', 'F:\\\\DATA\\\\BehavioralVideos\\\\Whisker_Video\\\\Whisker_Topview\\\\Expect_1\\\\Mouse21\\\\200207_2\\\\2020-02-07T14.50.19.avi', 'F:\\\\DATA\\\\BehavioralVideos\\\\Whisker_Video\\\\Whisker_Topview\\\\Expect_1\\\\Mouse21\\\\200207_2\\\\2020-02-07T14.50.27.avi', 'F:\\\\DATA\\\\BehavioralVideos\\\\Whisker_Video\\\\Whisker_Topview\\\\Expect_1\\\\Mouse21\\\\200207_2\\\\2020-02-07T14.50.51.avi', 'F:\\\\DATA\\\\BehavioralVideos\\\\Whisker_Video\\\\Whisker_Topview\\\\Expect_1\\\\Mouse21\\\\200207_2\\\\2020-02-07T14.51.21.avi', 'F:\\\\DATA\\\\BehavioralVideos\\\\Whisker_Video\\\\Whisker_Topview\\\\Expect_1\\\\Mouse21\\\\200207_2\\\\2020-02-07T14.51.29.avi', 'F:\\\\DATA\\\\BehavioralVideos\\\\Whisker_Video\\\\Whisker_Topview\\\\Expect_1\\\\Mouse21\\\\200207_2\\\\2020-02-07T14.51.36.avi', 'F:\\\\DATA\\\\BehavioralVideos\\\\Whisker_Video\\\\Whisker_Topview\\\\Expect_1\\\\Mouse21\\\\200207_2\\\\2020-02-07T14.51.47.avi', 'F:\\\\DATA\\\\BehavioralVideos\\\\Whisker_Video\\\\Whisker_Topview\\\\Expect_1\\\\Mouse21\\\\200207_2\\\\2020-02-07T14.51.55.avi', 'F:\\\\DATA\\\\BehavioralVideos\\\\Whisker_Video\\\\Whisker_Topview\\\\Expect_1\\\\Mouse21\\\\200207_2\\\\2020-02-07T14.52.02.avi', 'F:\\\\DATA\\\\BehavioralVideos\\\\Whisker_Video\\\\Whisker_Topview\\\\Expect_1\\\\Mouse21\\\\200207_2\\\\2020-02-07T14.52.09.avi', 'F:\\\\DATA\\\\BehavioralVideos\\\\Whisker_Video\\\\Whisker_Topview\\\\Expect_1\\\\Mouse21\\\\200207_2\\\\2020-02-07T14.52.16.avi', 'F:\\\\DATA\\\\BehavioralVideos\\\\Whisker_Video\\\\Whisker_Topview\\\\Expect_1\\\\Mouse21\\\\200207_2\\\\2020-02-07T14.52.24.avi', 'F:\\\\DATA\\\\BehavioralVideos\\\\Whisker_Video\\\\Whisker_Topview\\\\Expect_1\\\\Mouse21\\\\200207_2\\\\2020-02-07T14.53.14.avi', 'F:\\\\DATA\\\\BehavioralVideos\\\\Whisker_Video\\\\Whisker_Topview\\\\Expect_1\\\\Mouse21\\\\200207_2\\\\2020-02-07T14.53.26.avi', 'F:\\\\DATA\\\\BehavioralVideos\\\\Whisker_Video\\\\Whisker_Topview\\\\Expect_1\\\\Mouse21\\\\200207_2\\\\2020-02-07T14.53.35.avi', 'F:\\\\DATA\\\\BehavioralVideos\\\\Whisker_Video\\\\Whisker_Topview\\\\Expect_1\\\\Mouse21\\\\200207_2\\\\2020-02-07T14.53.45.avi', 'F:\\\\DATA\\\\BehavioralVideos\\\\Whisker_Video\\\\Whisker_Topview\\\\Expect_1\\\\Mouse21\\\\200207_2\\\\2020-02-07T14.53.53.avi', 'F:\\\\DATA\\\\BehavioralVideos\\\\Whisker_Video\\\\Whisker_Topview\\\\Expect_1\\\\Mouse21\\\\200207_2\\\\2020-02-07T14.54.02.avi', 'F:\\\\DATA\\\\BehavioralVideos\\\\Whisker_Video\\\\Whisker_Topview\\\\Expect_1\\\\Mouse21\\\\200207_2\\\\2020-02-07T14.54.09.avi', 'F:\\\\DATA\\\\BehavioralVideos\\\\Whisker_Video\\\\Whisker_Topview\\\\Expect_1\\\\Mouse21\\\\200207_2\\\\2020-02-07T14.54.18.avi', 'F:\\\\DATA\\\\BehavioralVideos\\\\Whisker_Video\\\\Whisker_Topview\\\\Expect_1\\\\Mouse21\\\\200207_2\\\\2020-02-07T14.54.26.avi', 'F:\\\\DATA\\\\BehavioralVideos\\\\Whisker_Video\\\\Whisker_Topview\\\\Expect_1\\\\Mouse21\\\\200207_2\\\\2020-02-07T14.54.33.avi', 'F:\\\\DATA\\\\BehavioralVideos\\\\Whisker_Video\\\\Whisker_Topview\\\\Expect_1\\\\Mouse21\\\\200207_2\\\\2020-02-07T14.54.39.avi', 'F:\\\\DATA\\\\BehavioralVideos\\\\Whisker_Video\\\\Whisker_Topview\\\\Expect_1\\\\Mouse21\\\\200207_2\\\\2020-02-07T14.54.45.avi', 'F:\\\\DATA\\\\BehavioralVideos\\\\Whisker_Video\\\\Whisker_Topview\\\\Expect_1\\\\Mouse21\\\\200207_2\\\\2020-02-07T14.55.01.avi', 'F:\\\\DATA\\\\BehavioralVideos\\\\Whisker_Video\\\\Whisker_Topview\\\\Expect_1\\\\Mouse21\\\\200207_2\\\\2020-02-07T14.55.11.avi', 'F:\\\\DATA\\\\BehavioralVideos\\\\Whisker_Video\\\\Whisker_Topview\\\\Expect_1\\\\Mouse21\\\\200207_2\\\\2020-02-07T14.55.17.avi']\n",
      "Repaired 35 files, number of frames possible : between 0 and 38860\n",
      "\n",
      "[17501, 18001]\n"
     ]
    },
    {
     "name": "stderr",
     "output_type": "stream",
     "text": [
      "\n",
      "Writing video at F:\\DATA\\BehavioralVideos\\Whisker_Video\\Whisker_Topview\\Expect_1\\Mouse21\\200207_2\\2020-02-07T14.55.28.avi\n"
     ]
    },
    {
     "name": "stdout",
     "output_type": "stream",
     "text": [
      "about to write a video named 2020-02-07T14.55.28\n",
      "2020-02-07T14.55.28\n",
      "Using default extension (.avi) as none was specified\n",
      "Using default framerate (30 fps) as none was specified\n",
      "Using default codec (MJPG) as none was specified\n"
     ]
    },
    {
     "name": "stderr",
     "output_type": "stream",
     "text": [
      "0% [▓▓▓▓▓▓▓▓▓▓▓▓▓▓▓▓▓▓▓▓▓▓▓▓▓▓▓▓▓▓] 100% | ETA: 00:00:00\n",
      "Total time elapsed: 00:00:13\n"
     ]
    },
    {
     "name": "stdout",
     "output_type": "stream",
     "text": [
      "Video compression at F:\\DATA\\BehavioralVideos\\Whisker_Video\\Whisker_Topview\\Expect_1\\Mouse21\\200207_2\\2020-02-07T14.55.28.avi sucessfull\n",
      "\n",
      "['F:\\\\DATA\\\\BehavioralVideos\\\\Whisker_Video\\\\Whisker_Topview\\\\Expect_1\\\\Mouse21\\\\200207_2\\\\2020-02-07T14.48.51.avi', 'F:\\\\DATA\\\\BehavioralVideos\\\\Whisker_Video\\\\Whisker_Topview\\\\Expect_1\\\\Mouse21\\\\200207_2\\\\2020-02-07T14.48.55.avi', 'F:\\\\DATA\\\\BehavioralVideos\\\\Whisker_Video\\\\Whisker_Topview\\\\Expect_1\\\\Mouse21\\\\200207_2\\\\2020-02-07T14.49.02.avi', 'F:\\\\DATA\\\\BehavioralVideos\\\\Whisker_Video\\\\Whisker_Topview\\\\Expect_1\\\\Mouse21\\\\200207_2\\\\2020-02-07T14.49.15.avi', 'F:\\\\DATA\\\\BehavioralVideos\\\\Whisker_Video\\\\Whisker_Topview\\\\Expect_1\\\\Mouse21\\\\200207_2\\\\2020-02-07T14.49.45.avi', 'F:\\\\DATA\\\\BehavioralVideos\\\\Whisker_Video\\\\Whisker_Topview\\\\Expect_1\\\\Mouse21\\\\200207_2\\\\2020-02-07T14.49.57.avi', 'F:\\\\DATA\\\\BehavioralVideos\\\\Whisker_Video\\\\Whisker_Topview\\\\Expect_1\\\\Mouse21\\\\200207_2\\\\2020-02-07T14.50.04.avi', 'F:\\\\DATA\\\\BehavioralVideos\\\\Whisker_Video\\\\Whisker_Topview\\\\Expect_1\\\\Mouse21\\\\200207_2\\\\2020-02-07T14.50.11.avi', 'F:\\\\DATA\\\\BehavioralVideos\\\\Whisker_Video\\\\Whisker_Topview\\\\Expect_1\\\\Mouse21\\\\200207_2\\\\2020-02-07T14.50.19.avi', 'F:\\\\DATA\\\\BehavioralVideos\\\\Whisker_Video\\\\Whisker_Topview\\\\Expect_1\\\\Mouse21\\\\200207_2\\\\2020-02-07T14.50.27.avi', 'F:\\\\DATA\\\\BehavioralVideos\\\\Whisker_Video\\\\Whisker_Topview\\\\Expect_1\\\\Mouse21\\\\200207_2\\\\2020-02-07T14.50.51.avi', 'F:\\\\DATA\\\\BehavioralVideos\\\\Whisker_Video\\\\Whisker_Topview\\\\Expect_1\\\\Mouse21\\\\200207_2\\\\2020-02-07T14.51.21.avi', 'F:\\\\DATA\\\\BehavioralVideos\\\\Whisker_Video\\\\Whisker_Topview\\\\Expect_1\\\\Mouse21\\\\200207_2\\\\2020-02-07T14.51.29.avi', 'F:\\\\DATA\\\\BehavioralVideos\\\\Whisker_Video\\\\Whisker_Topview\\\\Expect_1\\\\Mouse21\\\\200207_2\\\\2020-02-07T14.51.36.avi', 'F:\\\\DATA\\\\BehavioralVideos\\\\Whisker_Video\\\\Whisker_Topview\\\\Expect_1\\\\Mouse21\\\\200207_2\\\\2020-02-07T14.51.47.avi', 'F:\\\\DATA\\\\BehavioralVideos\\\\Whisker_Video\\\\Whisker_Topview\\\\Expect_1\\\\Mouse21\\\\200207_2\\\\2020-02-07T14.51.55.avi', 'F:\\\\DATA\\\\BehavioralVideos\\\\Whisker_Video\\\\Whisker_Topview\\\\Expect_1\\\\Mouse21\\\\200207_2\\\\2020-02-07T14.52.02.avi', 'F:\\\\DATA\\\\BehavioralVideos\\\\Whisker_Video\\\\Whisker_Topview\\\\Expect_1\\\\Mouse21\\\\200207_2\\\\2020-02-07T14.52.09.avi', 'F:\\\\DATA\\\\BehavioralVideos\\\\Whisker_Video\\\\Whisker_Topview\\\\Expect_1\\\\Mouse21\\\\200207_2\\\\2020-02-07T14.52.16.avi', 'F:\\\\DATA\\\\BehavioralVideos\\\\Whisker_Video\\\\Whisker_Topview\\\\Expect_1\\\\Mouse21\\\\200207_2\\\\2020-02-07T14.52.24.avi', 'F:\\\\DATA\\\\BehavioralVideos\\\\Whisker_Video\\\\Whisker_Topview\\\\Expect_1\\\\Mouse21\\\\200207_2\\\\2020-02-07T14.53.14.avi', 'F:\\\\DATA\\\\BehavioralVideos\\\\Whisker_Video\\\\Whisker_Topview\\\\Expect_1\\\\Mouse21\\\\200207_2\\\\2020-02-07T14.53.26.avi', 'F:\\\\DATA\\\\BehavioralVideos\\\\Whisker_Video\\\\Whisker_Topview\\\\Expect_1\\\\Mouse21\\\\200207_2\\\\2020-02-07T14.53.35.avi', 'F:\\\\DATA\\\\BehavioralVideos\\\\Whisker_Video\\\\Whisker_Topview\\\\Expect_1\\\\Mouse21\\\\200207_2\\\\2020-02-07T14.53.45.avi', 'F:\\\\DATA\\\\BehavioralVideos\\\\Whisker_Video\\\\Whisker_Topview\\\\Expect_1\\\\Mouse21\\\\200207_2\\\\2020-02-07T14.53.53.avi', 'F:\\\\DATA\\\\BehavioralVideos\\\\Whisker_Video\\\\Whisker_Topview\\\\Expect_1\\\\Mouse21\\\\200207_2\\\\2020-02-07T14.54.02.avi', 'F:\\\\DATA\\\\BehavioralVideos\\\\Whisker_Video\\\\Whisker_Topview\\\\Expect_1\\\\Mouse21\\\\200207_2\\\\2020-02-07T14.54.09.avi', 'F:\\\\DATA\\\\BehavioralVideos\\\\Whisker_Video\\\\Whisker_Topview\\\\Expect_1\\\\Mouse21\\\\200207_2\\\\2020-02-07T14.54.18.avi', 'F:\\\\DATA\\\\BehavioralVideos\\\\Whisker_Video\\\\Whisker_Topview\\\\Expect_1\\\\Mouse21\\\\200207_2\\\\2020-02-07T14.54.26.avi', 'F:\\\\DATA\\\\BehavioralVideos\\\\Whisker_Video\\\\Whisker_Topview\\\\Expect_1\\\\Mouse21\\\\200207_2\\\\2020-02-07T14.54.33.avi', 'F:\\\\DATA\\\\BehavioralVideos\\\\Whisker_Video\\\\Whisker_Topview\\\\Expect_1\\\\Mouse21\\\\200207_2\\\\2020-02-07T14.54.39.avi', 'F:\\\\DATA\\\\BehavioralVideos\\\\Whisker_Video\\\\Whisker_Topview\\\\Expect_1\\\\Mouse21\\\\200207_2\\\\2020-02-07T14.54.45.avi', 'F:\\\\DATA\\\\BehavioralVideos\\\\Whisker_Video\\\\Whisker_Topview\\\\Expect_1\\\\Mouse21\\\\200207_2\\\\2020-02-07T14.55.01.avi', 'F:\\\\DATA\\\\BehavioralVideos\\\\Whisker_Video\\\\Whisker_Topview\\\\Expect_1\\\\Mouse21\\\\200207_2\\\\2020-02-07T14.55.11.avi', 'F:\\\\DATA\\\\BehavioralVideos\\\\Whisker_Video\\\\Whisker_Topview\\\\Expect_1\\\\Mouse21\\\\200207_2\\\\2020-02-07T14.55.17.avi', 'F:\\\\DATA\\\\BehavioralVideos\\\\Whisker_Video\\\\Whisker_Topview\\\\Expect_1\\\\Mouse21\\\\200207_2\\\\2020-02-07T14.55.28.avi']\n",
      "Repaired 36 files, number of frames possible : between 0 and 38860\n",
      "\n",
      "[18001, 18501]\n"
     ]
    },
    {
     "name": "stderr",
     "output_type": "stream",
     "text": [
      "\n",
      "Writing video at F:\\DATA\\BehavioralVideos\\Whisker_Video\\Whisker_Topview\\Expect_1\\Mouse21\\200207_2\\2020-02-07T14.55.34.avi\n"
     ]
    },
    {
     "name": "stdout",
     "output_type": "stream",
     "text": [
      "about to write a video named 2020-02-07T14.55.34\n",
      "2020-02-07T14.55.34\n",
      "Using default extension (.avi) as none was specified\n",
      "Using default framerate (30 fps) as none was specified\n",
      "Using default codec (MJPG) as none was specified\n"
     ]
    },
    {
     "name": "stderr",
     "output_type": "stream",
     "text": [
      "0% [▓▓▓▓▓▓▓▓▓▓▓▓▓▓▓▓▓▓▓▓▓▓▓▓▓▓▓▓▓▓] 100% | ETA: 00:00:00\n",
      "Total time elapsed: 00:00:13\n"
     ]
    },
    {
     "name": "stdout",
     "output_type": "stream",
     "text": [
      "Video compression at F:\\DATA\\BehavioralVideos\\Whisker_Video\\Whisker_Topview\\Expect_1\\Mouse21\\200207_2\\2020-02-07T14.55.34.avi sucessfull\n",
      "\n",
      "['F:\\\\DATA\\\\BehavioralVideos\\\\Whisker_Video\\\\Whisker_Topview\\\\Expect_1\\\\Mouse21\\\\200207_2\\\\2020-02-07T14.48.51.avi', 'F:\\\\DATA\\\\BehavioralVideos\\\\Whisker_Video\\\\Whisker_Topview\\\\Expect_1\\\\Mouse21\\\\200207_2\\\\2020-02-07T14.48.55.avi', 'F:\\\\DATA\\\\BehavioralVideos\\\\Whisker_Video\\\\Whisker_Topview\\\\Expect_1\\\\Mouse21\\\\200207_2\\\\2020-02-07T14.49.02.avi', 'F:\\\\DATA\\\\BehavioralVideos\\\\Whisker_Video\\\\Whisker_Topview\\\\Expect_1\\\\Mouse21\\\\200207_2\\\\2020-02-07T14.49.15.avi', 'F:\\\\DATA\\\\BehavioralVideos\\\\Whisker_Video\\\\Whisker_Topview\\\\Expect_1\\\\Mouse21\\\\200207_2\\\\2020-02-07T14.49.45.avi', 'F:\\\\DATA\\\\BehavioralVideos\\\\Whisker_Video\\\\Whisker_Topview\\\\Expect_1\\\\Mouse21\\\\200207_2\\\\2020-02-07T14.49.57.avi', 'F:\\\\DATA\\\\BehavioralVideos\\\\Whisker_Video\\\\Whisker_Topview\\\\Expect_1\\\\Mouse21\\\\200207_2\\\\2020-02-07T14.50.04.avi', 'F:\\\\DATA\\\\BehavioralVideos\\\\Whisker_Video\\\\Whisker_Topview\\\\Expect_1\\\\Mouse21\\\\200207_2\\\\2020-02-07T14.50.11.avi', 'F:\\\\DATA\\\\BehavioralVideos\\\\Whisker_Video\\\\Whisker_Topview\\\\Expect_1\\\\Mouse21\\\\200207_2\\\\2020-02-07T14.50.19.avi', 'F:\\\\DATA\\\\BehavioralVideos\\\\Whisker_Video\\\\Whisker_Topview\\\\Expect_1\\\\Mouse21\\\\200207_2\\\\2020-02-07T14.50.27.avi', 'F:\\\\DATA\\\\BehavioralVideos\\\\Whisker_Video\\\\Whisker_Topview\\\\Expect_1\\\\Mouse21\\\\200207_2\\\\2020-02-07T14.50.51.avi', 'F:\\\\DATA\\\\BehavioralVideos\\\\Whisker_Video\\\\Whisker_Topview\\\\Expect_1\\\\Mouse21\\\\200207_2\\\\2020-02-07T14.51.21.avi', 'F:\\\\DATA\\\\BehavioralVideos\\\\Whisker_Video\\\\Whisker_Topview\\\\Expect_1\\\\Mouse21\\\\200207_2\\\\2020-02-07T14.51.29.avi', 'F:\\\\DATA\\\\BehavioralVideos\\\\Whisker_Video\\\\Whisker_Topview\\\\Expect_1\\\\Mouse21\\\\200207_2\\\\2020-02-07T14.51.36.avi', 'F:\\\\DATA\\\\BehavioralVideos\\\\Whisker_Video\\\\Whisker_Topview\\\\Expect_1\\\\Mouse21\\\\200207_2\\\\2020-02-07T14.51.47.avi', 'F:\\\\DATA\\\\BehavioralVideos\\\\Whisker_Video\\\\Whisker_Topview\\\\Expect_1\\\\Mouse21\\\\200207_2\\\\2020-02-07T14.51.55.avi', 'F:\\\\DATA\\\\BehavioralVideos\\\\Whisker_Video\\\\Whisker_Topview\\\\Expect_1\\\\Mouse21\\\\200207_2\\\\2020-02-07T14.52.02.avi', 'F:\\\\DATA\\\\BehavioralVideos\\\\Whisker_Video\\\\Whisker_Topview\\\\Expect_1\\\\Mouse21\\\\200207_2\\\\2020-02-07T14.52.09.avi', 'F:\\\\DATA\\\\BehavioralVideos\\\\Whisker_Video\\\\Whisker_Topview\\\\Expect_1\\\\Mouse21\\\\200207_2\\\\2020-02-07T14.52.16.avi', 'F:\\\\DATA\\\\BehavioralVideos\\\\Whisker_Video\\\\Whisker_Topview\\\\Expect_1\\\\Mouse21\\\\200207_2\\\\2020-02-07T14.52.24.avi', 'F:\\\\DATA\\\\BehavioralVideos\\\\Whisker_Video\\\\Whisker_Topview\\\\Expect_1\\\\Mouse21\\\\200207_2\\\\2020-02-07T14.53.14.avi', 'F:\\\\DATA\\\\BehavioralVideos\\\\Whisker_Video\\\\Whisker_Topview\\\\Expect_1\\\\Mouse21\\\\200207_2\\\\2020-02-07T14.53.26.avi', 'F:\\\\DATA\\\\BehavioralVideos\\\\Whisker_Video\\\\Whisker_Topview\\\\Expect_1\\\\Mouse21\\\\200207_2\\\\2020-02-07T14.53.35.avi', 'F:\\\\DATA\\\\BehavioralVideos\\\\Whisker_Video\\\\Whisker_Topview\\\\Expect_1\\\\Mouse21\\\\200207_2\\\\2020-02-07T14.53.45.avi', 'F:\\\\DATA\\\\BehavioralVideos\\\\Whisker_Video\\\\Whisker_Topview\\\\Expect_1\\\\Mouse21\\\\200207_2\\\\2020-02-07T14.53.53.avi', 'F:\\\\DATA\\\\BehavioralVideos\\\\Whisker_Video\\\\Whisker_Topview\\\\Expect_1\\\\Mouse21\\\\200207_2\\\\2020-02-07T14.54.02.avi', 'F:\\\\DATA\\\\BehavioralVideos\\\\Whisker_Video\\\\Whisker_Topview\\\\Expect_1\\\\Mouse21\\\\200207_2\\\\2020-02-07T14.54.09.avi', 'F:\\\\DATA\\\\BehavioralVideos\\\\Whisker_Video\\\\Whisker_Topview\\\\Expect_1\\\\Mouse21\\\\200207_2\\\\2020-02-07T14.54.18.avi', 'F:\\\\DATA\\\\BehavioralVideos\\\\Whisker_Video\\\\Whisker_Topview\\\\Expect_1\\\\Mouse21\\\\200207_2\\\\2020-02-07T14.54.26.avi', 'F:\\\\DATA\\\\BehavioralVideos\\\\Whisker_Video\\\\Whisker_Topview\\\\Expect_1\\\\Mouse21\\\\200207_2\\\\2020-02-07T14.54.33.avi', 'F:\\\\DATA\\\\BehavioralVideos\\\\Whisker_Video\\\\Whisker_Topview\\\\Expect_1\\\\Mouse21\\\\200207_2\\\\2020-02-07T14.54.39.avi', 'F:\\\\DATA\\\\BehavioralVideos\\\\Whisker_Video\\\\Whisker_Topview\\\\Expect_1\\\\Mouse21\\\\200207_2\\\\2020-02-07T14.54.45.avi', 'F:\\\\DATA\\\\BehavioralVideos\\\\Whisker_Video\\\\Whisker_Topview\\\\Expect_1\\\\Mouse21\\\\200207_2\\\\2020-02-07T14.55.01.avi', 'F:\\\\DATA\\\\BehavioralVideos\\\\Whisker_Video\\\\Whisker_Topview\\\\Expect_1\\\\Mouse21\\\\200207_2\\\\2020-02-07T14.55.11.avi', 'F:\\\\DATA\\\\BehavioralVideos\\\\Whisker_Video\\\\Whisker_Topview\\\\Expect_1\\\\Mouse21\\\\200207_2\\\\2020-02-07T14.55.17.avi', 'F:\\\\DATA\\\\BehavioralVideos\\\\Whisker_Video\\\\Whisker_Topview\\\\Expect_1\\\\Mouse21\\\\200207_2\\\\2020-02-07T14.55.28.avi', 'F:\\\\DATA\\\\BehavioralVideos\\\\Whisker_Video\\\\Whisker_Topview\\\\Expect_1\\\\Mouse21\\\\200207_2\\\\2020-02-07T14.55.34.avi']\n",
      "Repaired 37 files, number of frames possible : between 0 and 38860\n",
      "\n",
      "[18501, 19001]\n"
     ]
    },
    {
     "name": "stderr",
     "output_type": "stream",
     "text": [
      "\n",
      "Writing video at F:\\DATA\\BehavioralVideos\\Whisker_Video\\Whisker_Topview\\Expect_1\\Mouse21\\200207_2\\2020-02-07T14.55.41.avi\n"
     ]
    },
    {
     "name": "stdout",
     "output_type": "stream",
     "text": [
      "about to write a video named 2020-02-07T14.55.41\n",
      "2020-02-07T14.55.41\n",
      "Using default extension (.avi) as none was specified\n",
      "Using default framerate (30 fps) as none was specified\n",
      "Using default codec (MJPG) as none was specified\n"
     ]
    },
    {
     "name": "stderr",
     "output_type": "stream",
     "text": [
      "0% [▓▓▓▓▓▓▓▓▓▓▓▓▓▓▓▓▓▓▓▓▓▓▓▓▓▓▓▓▓▓] 100% | ETA: 00:00:00\n",
      "Total time elapsed: 00:00:14\n"
     ]
    },
    {
     "name": "stdout",
     "output_type": "stream",
     "text": [
      "Video compression at F:\\DATA\\BehavioralVideos\\Whisker_Video\\Whisker_Topview\\Expect_1\\Mouse21\\200207_2\\2020-02-07T14.55.41.avi sucessfull\n",
      "\n",
      "['F:\\\\DATA\\\\BehavioralVideos\\\\Whisker_Video\\\\Whisker_Topview\\\\Expect_1\\\\Mouse21\\\\200207_2\\\\2020-02-07T14.48.51.avi', 'F:\\\\DATA\\\\BehavioralVideos\\\\Whisker_Video\\\\Whisker_Topview\\\\Expect_1\\\\Mouse21\\\\200207_2\\\\2020-02-07T14.48.55.avi', 'F:\\\\DATA\\\\BehavioralVideos\\\\Whisker_Video\\\\Whisker_Topview\\\\Expect_1\\\\Mouse21\\\\200207_2\\\\2020-02-07T14.49.02.avi', 'F:\\\\DATA\\\\BehavioralVideos\\\\Whisker_Video\\\\Whisker_Topview\\\\Expect_1\\\\Mouse21\\\\200207_2\\\\2020-02-07T14.49.15.avi', 'F:\\\\DATA\\\\BehavioralVideos\\\\Whisker_Video\\\\Whisker_Topview\\\\Expect_1\\\\Mouse21\\\\200207_2\\\\2020-02-07T14.49.45.avi', 'F:\\\\DATA\\\\BehavioralVideos\\\\Whisker_Video\\\\Whisker_Topview\\\\Expect_1\\\\Mouse21\\\\200207_2\\\\2020-02-07T14.49.57.avi', 'F:\\\\DATA\\\\BehavioralVideos\\\\Whisker_Video\\\\Whisker_Topview\\\\Expect_1\\\\Mouse21\\\\200207_2\\\\2020-02-07T14.50.04.avi', 'F:\\\\DATA\\\\BehavioralVideos\\\\Whisker_Video\\\\Whisker_Topview\\\\Expect_1\\\\Mouse21\\\\200207_2\\\\2020-02-07T14.50.11.avi', 'F:\\\\DATA\\\\BehavioralVideos\\\\Whisker_Video\\\\Whisker_Topview\\\\Expect_1\\\\Mouse21\\\\200207_2\\\\2020-02-07T14.50.19.avi', 'F:\\\\DATA\\\\BehavioralVideos\\\\Whisker_Video\\\\Whisker_Topview\\\\Expect_1\\\\Mouse21\\\\200207_2\\\\2020-02-07T14.50.27.avi', 'F:\\\\DATA\\\\BehavioralVideos\\\\Whisker_Video\\\\Whisker_Topview\\\\Expect_1\\\\Mouse21\\\\200207_2\\\\2020-02-07T14.50.51.avi', 'F:\\\\DATA\\\\BehavioralVideos\\\\Whisker_Video\\\\Whisker_Topview\\\\Expect_1\\\\Mouse21\\\\200207_2\\\\2020-02-07T14.51.21.avi', 'F:\\\\DATA\\\\BehavioralVideos\\\\Whisker_Video\\\\Whisker_Topview\\\\Expect_1\\\\Mouse21\\\\200207_2\\\\2020-02-07T14.51.29.avi', 'F:\\\\DATA\\\\BehavioralVideos\\\\Whisker_Video\\\\Whisker_Topview\\\\Expect_1\\\\Mouse21\\\\200207_2\\\\2020-02-07T14.51.36.avi', 'F:\\\\DATA\\\\BehavioralVideos\\\\Whisker_Video\\\\Whisker_Topview\\\\Expect_1\\\\Mouse21\\\\200207_2\\\\2020-02-07T14.51.47.avi', 'F:\\\\DATA\\\\BehavioralVideos\\\\Whisker_Video\\\\Whisker_Topview\\\\Expect_1\\\\Mouse21\\\\200207_2\\\\2020-02-07T14.51.55.avi', 'F:\\\\DATA\\\\BehavioralVideos\\\\Whisker_Video\\\\Whisker_Topview\\\\Expect_1\\\\Mouse21\\\\200207_2\\\\2020-02-07T14.52.02.avi', 'F:\\\\DATA\\\\BehavioralVideos\\\\Whisker_Video\\\\Whisker_Topview\\\\Expect_1\\\\Mouse21\\\\200207_2\\\\2020-02-07T14.52.09.avi', 'F:\\\\DATA\\\\BehavioralVideos\\\\Whisker_Video\\\\Whisker_Topview\\\\Expect_1\\\\Mouse21\\\\200207_2\\\\2020-02-07T14.52.16.avi', 'F:\\\\DATA\\\\BehavioralVideos\\\\Whisker_Video\\\\Whisker_Topview\\\\Expect_1\\\\Mouse21\\\\200207_2\\\\2020-02-07T14.52.24.avi', 'F:\\\\DATA\\\\BehavioralVideos\\\\Whisker_Video\\\\Whisker_Topview\\\\Expect_1\\\\Mouse21\\\\200207_2\\\\2020-02-07T14.53.14.avi', 'F:\\\\DATA\\\\BehavioralVideos\\\\Whisker_Video\\\\Whisker_Topview\\\\Expect_1\\\\Mouse21\\\\200207_2\\\\2020-02-07T14.53.26.avi', 'F:\\\\DATA\\\\BehavioralVideos\\\\Whisker_Video\\\\Whisker_Topview\\\\Expect_1\\\\Mouse21\\\\200207_2\\\\2020-02-07T14.53.35.avi', 'F:\\\\DATA\\\\BehavioralVideos\\\\Whisker_Video\\\\Whisker_Topview\\\\Expect_1\\\\Mouse21\\\\200207_2\\\\2020-02-07T14.53.45.avi', 'F:\\\\DATA\\\\BehavioralVideos\\\\Whisker_Video\\\\Whisker_Topview\\\\Expect_1\\\\Mouse21\\\\200207_2\\\\2020-02-07T14.53.53.avi', 'F:\\\\DATA\\\\BehavioralVideos\\\\Whisker_Video\\\\Whisker_Topview\\\\Expect_1\\\\Mouse21\\\\200207_2\\\\2020-02-07T14.54.02.avi', 'F:\\\\DATA\\\\BehavioralVideos\\\\Whisker_Video\\\\Whisker_Topview\\\\Expect_1\\\\Mouse21\\\\200207_2\\\\2020-02-07T14.54.09.avi', 'F:\\\\DATA\\\\BehavioralVideos\\\\Whisker_Video\\\\Whisker_Topview\\\\Expect_1\\\\Mouse21\\\\200207_2\\\\2020-02-07T14.54.18.avi', 'F:\\\\DATA\\\\BehavioralVideos\\\\Whisker_Video\\\\Whisker_Topview\\\\Expect_1\\\\Mouse21\\\\200207_2\\\\2020-02-07T14.54.26.avi', 'F:\\\\DATA\\\\BehavioralVideos\\\\Whisker_Video\\\\Whisker_Topview\\\\Expect_1\\\\Mouse21\\\\200207_2\\\\2020-02-07T14.54.33.avi', 'F:\\\\DATA\\\\BehavioralVideos\\\\Whisker_Video\\\\Whisker_Topview\\\\Expect_1\\\\Mouse21\\\\200207_2\\\\2020-02-07T14.54.39.avi', 'F:\\\\DATA\\\\BehavioralVideos\\\\Whisker_Video\\\\Whisker_Topview\\\\Expect_1\\\\Mouse21\\\\200207_2\\\\2020-02-07T14.54.45.avi', 'F:\\\\DATA\\\\BehavioralVideos\\\\Whisker_Video\\\\Whisker_Topview\\\\Expect_1\\\\Mouse21\\\\200207_2\\\\2020-02-07T14.55.01.avi', 'F:\\\\DATA\\\\BehavioralVideos\\\\Whisker_Video\\\\Whisker_Topview\\\\Expect_1\\\\Mouse21\\\\200207_2\\\\2020-02-07T14.55.11.avi', 'F:\\\\DATA\\\\BehavioralVideos\\\\Whisker_Video\\\\Whisker_Topview\\\\Expect_1\\\\Mouse21\\\\200207_2\\\\2020-02-07T14.55.17.avi', 'F:\\\\DATA\\\\BehavioralVideos\\\\Whisker_Video\\\\Whisker_Topview\\\\Expect_1\\\\Mouse21\\\\200207_2\\\\2020-02-07T14.55.28.avi', 'F:\\\\DATA\\\\BehavioralVideos\\\\Whisker_Video\\\\Whisker_Topview\\\\Expect_1\\\\Mouse21\\\\200207_2\\\\2020-02-07T14.55.34.avi', 'F:\\\\DATA\\\\BehavioralVideos\\\\Whisker_Video\\\\Whisker_Topview\\\\Expect_1\\\\Mouse21\\\\200207_2\\\\2020-02-07T14.55.41.avi']\n",
      "Repaired 38 files, number of frames possible : between 0 and 38860\n",
      "\n",
      "[19001, 19501]\n"
     ]
    },
    {
     "name": "stderr",
     "output_type": "stream",
     "text": [
      "\n",
      "Writing video at F:\\DATA\\BehavioralVideos\\Whisker_Video\\Whisker_Topview\\Expect_1\\Mouse21\\200207_2\\2020-02-07T14.55.47.avi\n"
     ]
    },
    {
     "name": "stdout",
     "output_type": "stream",
     "text": [
      "about to write a video named 2020-02-07T14.55.47\n",
      "2020-02-07T14.55.47\n",
      "Using default extension (.avi) as none was specified\n",
      "Using default framerate (30 fps) as none was specified\n",
      "Using default codec (MJPG) as none was specified\n"
     ]
    },
    {
     "name": "stderr",
     "output_type": "stream",
     "text": [
      "0% [▓▓▓▓▓▓▓▓▓▓▓▓▓▓▓▓▓▓▓▓▓▓▓▓▓▓▓▓▓▓] 100% | ETA: 00:00:00\n",
      "Total time elapsed: 00:00:13\n"
     ]
    },
    {
     "name": "stdout",
     "output_type": "stream",
     "text": [
      "Video compression at F:\\DATA\\BehavioralVideos\\Whisker_Video\\Whisker_Topview\\Expect_1\\Mouse21\\200207_2\\2020-02-07T14.55.47.avi sucessfull\n",
      "\n",
      "['F:\\\\DATA\\\\BehavioralVideos\\\\Whisker_Video\\\\Whisker_Topview\\\\Expect_1\\\\Mouse21\\\\200207_2\\\\2020-02-07T14.48.51.avi', 'F:\\\\DATA\\\\BehavioralVideos\\\\Whisker_Video\\\\Whisker_Topview\\\\Expect_1\\\\Mouse21\\\\200207_2\\\\2020-02-07T14.48.55.avi', 'F:\\\\DATA\\\\BehavioralVideos\\\\Whisker_Video\\\\Whisker_Topview\\\\Expect_1\\\\Mouse21\\\\200207_2\\\\2020-02-07T14.49.02.avi', 'F:\\\\DATA\\\\BehavioralVideos\\\\Whisker_Video\\\\Whisker_Topview\\\\Expect_1\\\\Mouse21\\\\200207_2\\\\2020-02-07T14.49.15.avi', 'F:\\\\DATA\\\\BehavioralVideos\\\\Whisker_Video\\\\Whisker_Topview\\\\Expect_1\\\\Mouse21\\\\200207_2\\\\2020-02-07T14.49.45.avi', 'F:\\\\DATA\\\\BehavioralVideos\\\\Whisker_Video\\\\Whisker_Topview\\\\Expect_1\\\\Mouse21\\\\200207_2\\\\2020-02-07T14.49.57.avi', 'F:\\\\DATA\\\\BehavioralVideos\\\\Whisker_Video\\\\Whisker_Topview\\\\Expect_1\\\\Mouse21\\\\200207_2\\\\2020-02-07T14.50.04.avi', 'F:\\\\DATA\\\\BehavioralVideos\\\\Whisker_Video\\\\Whisker_Topview\\\\Expect_1\\\\Mouse21\\\\200207_2\\\\2020-02-07T14.50.11.avi', 'F:\\\\DATA\\\\BehavioralVideos\\\\Whisker_Video\\\\Whisker_Topview\\\\Expect_1\\\\Mouse21\\\\200207_2\\\\2020-02-07T14.50.19.avi', 'F:\\\\DATA\\\\BehavioralVideos\\\\Whisker_Video\\\\Whisker_Topview\\\\Expect_1\\\\Mouse21\\\\200207_2\\\\2020-02-07T14.50.27.avi', 'F:\\\\DATA\\\\BehavioralVideos\\\\Whisker_Video\\\\Whisker_Topview\\\\Expect_1\\\\Mouse21\\\\200207_2\\\\2020-02-07T14.50.51.avi', 'F:\\\\DATA\\\\BehavioralVideos\\\\Whisker_Video\\\\Whisker_Topview\\\\Expect_1\\\\Mouse21\\\\200207_2\\\\2020-02-07T14.51.21.avi', 'F:\\\\DATA\\\\BehavioralVideos\\\\Whisker_Video\\\\Whisker_Topview\\\\Expect_1\\\\Mouse21\\\\200207_2\\\\2020-02-07T14.51.29.avi', 'F:\\\\DATA\\\\BehavioralVideos\\\\Whisker_Video\\\\Whisker_Topview\\\\Expect_1\\\\Mouse21\\\\200207_2\\\\2020-02-07T14.51.36.avi', 'F:\\\\DATA\\\\BehavioralVideos\\\\Whisker_Video\\\\Whisker_Topview\\\\Expect_1\\\\Mouse21\\\\200207_2\\\\2020-02-07T14.51.47.avi', 'F:\\\\DATA\\\\BehavioralVideos\\\\Whisker_Video\\\\Whisker_Topview\\\\Expect_1\\\\Mouse21\\\\200207_2\\\\2020-02-07T14.51.55.avi', 'F:\\\\DATA\\\\BehavioralVideos\\\\Whisker_Video\\\\Whisker_Topview\\\\Expect_1\\\\Mouse21\\\\200207_2\\\\2020-02-07T14.52.02.avi', 'F:\\\\DATA\\\\BehavioralVideos\\\\Whisker_Video\\\\Whisker_Topview\\\\Expect_1\\\\Mouse21\\\\200207_2\\\\2020-02-07T14.52.09.avi', 'F:\\\\DATA\\\\BehavioralVideos\\\\Whisker_Video\\\\Whisker_Topview\\\\Expect_1\\\\Mouse21\\\\200207_2\\\\2020-02-07T14.52.16.avi', 'F:\\\\DATA\\\\BehavioralVideos\\\\Whisker_Video\\\\Whisker_Topview\\\\Expect_1\\\\Mouse21\\\\200207_2\\\\2020-02-07T14.52.24.avi', 'F:\\\\DATA\\\\BehavioralVideos\\\\Whisker_Video\\\\Whisker_Topview\\\\Expect_1\\\\Mouse21\\\\200207_2\\\\2020-02-07T14.53.14.avi', 'F:\\\\DATA\\\\BehavioralVideos\\\\Whisker_Video\\\\Whisker_Topview\\\\Expect_1\\\\Mouse21\\\\200207_2\\\\2020-02-07T14.53.26.avi', 'F:\\\\DATA\\\\BehavioralVideos\\\\Whisker_Video\\\\Whisker_Topview\\\\Expect_1\\\\Mouse21\\\\200207_2\\\\2020-02-07T14.53.35.avi', 'F:\\\\DATA\\\\BehavioralVideos\\\\Whisker_Video\\\\Whisker_Topview\\\\Expect_1\\\\Mouse21\\\\200207_2\\\\2020-02-07T14.53.45.avi', 'F:\\\\DATA\\\\BehavioralVideos\\\\Whisker_Video\\\\Whisker_Topview\\\\Expect_1\\\\Mouse21\\\\200207_2\\\\2020-02-07T14.53.53.avi', 'F:\\\\DATA\\\\BehavioralVideos\\\\Whisker_Video\\\\Whisker_Topview\\\\Expect_1\\\\Mouse21\\\\200207_2\\\\2020-02-07T14.54.02.avi', 'F:\\\\DATA\\\\BehavioralVideos\\\\Whisker_Video\\\\Whisker_Topview\\\\Expect_1\\\\Mouse21\\\\200207_2\\\\2020-02-07T14.54.09.avi', 'F:\\\\DATA\\\\BehavioralVideos\\\\Whisker_Video\\\\Whisker_Topview\\\\Expect_1\\\\Mouse21\\\\200207_2\\\\2020-02-07T14.54.18.avi', 'F:\\\\DATA\\\\BehavioralVideos\\\\Whisker_Video\\\\Whisker_Topview\\\\Expect_1\\\\Mouse21\\\\200207_2\\\\2020-02-07T14.54.26.avi', 'F:\\\\DATA\\\\BehavioralVideos\\\\Whisker_Video\\\\Whisker_Topview\\\\Expect_1\\\\Mouse21\\\\200207_2\\\\2020-02-07T14.54.33.avi', 'F:\\\\DATA\\\\BehavioralVideos\\\\Whisker_Video\\\\Whisker_Topview\\\\Expect_1\\\\Mouse21\\\\200207_2\\\\2020-02-07T14.54.39.avi', 'F:\\\\DATA\\\\BehavioralVideos\\\\Whisker_Video\\\\Whisker_Topview\\\\Expect_1\\\\Mouse21\\\\200207_2\\\\2020-02-07T14.54.45.avi', 'F:\\\\DATA\\\\BehavioralVideos\\\\Whisker_Video\\\\Whisker_Topview\\\\Expect_1\\\\Mouse21\\\\200207_2\\\\2020-02-07T14.55.01.avi', 'F:\\\\DATA\\\\BehavioralVideos\\\\Whisker_Video\\\\Whisker_Topview\\\\Expect_1\\\\Mouse21\\\\200207_2\\\\2020-02-07T14.55.11.avi', 'F:\\\\DATA\\\\BehavioralVideos\\\\Whisker_Video\\\\Whisker_Topview\\\\Expect_1\\\\Mouse21\\\\200207_2\\\\2020-02-07T14.55.17.avi', 'F:\\\\DATA\\\\BehavioralVideos\\\\Whisker_Video\\\\Whisker_Topview\\\\Expect_1\\\\Mouse21\\\\200207_2\\\\2020-02-07T14.55.28.avi', 'F:\\\\DATA\\\\BehavioralVideos\\\\Whisker_Video\\\\Whisker_Topview\\\\Expect_1\\\\Mouse21\\\\200207_2\\\\2020-02-07T14.55.34.avi', 'F:\\\\DATA\\\\BehavioralVideos\\\\Whisker_Video\\\\Whisker_Topview\\\\Expect_1\\\\Mouse21\\\\200207_2\\\\2020-02-07T14.55.41.avi', 'F:\\\\DATA\\\\BehavioralVideos\\\\Whisker_Video\\\\Whisker_Topview\\\\Expect_1\\\\Mouse21\\\\200207_2\\\\2020-02-07T14.55.47.avi']\n",
      "Repaired 39 files, number of frames possible : between 0 and 38860\n",
      "\n",
      "[19501, 20001]\n"
     ]
    },
    {
     "name": "stderr",
     "output_type": "stream",
     "text": [
      "\n",
      "Writing video at F:\\DATA\\BehavioralVideos\\Whisker_Video\\Whisker_Topview\\Expect_1\\Mouse21\\200207_2\\2020-02-07T14.55.55.avi\n"
     ]
    },
    {
     "name": "stdout",
     "output_type": "stream",
     "text": [
      "about to write a video named 2020-02-07T14.55.55\n",
      "2020-02-07T14.55.55\n",
      "Using default extension (.avi) as none was specified\n",
      "Using default framerate (30 fps) as none was specified\n",
      "Using default codec (MJPG) as none was specified\n"
     ]
    },
    {
     "name": "stderr",
     "output_type": "stream",
     "text": [
      "0% [▓▓▓▓▓▓▓▓▓▓▓▓▓▓▓▓▓▓▓▓▓▓▓▓▓▓▓▓▓▓] 100% | ETA: 00:00:00\n",
      "Total time elapsed: 00:00:13\n"
     ]
    },
    {
     "name": "stdout",
     "output_type": "stream",
     "text": [
      "Video compression at F:\\DATA\\BehavioralVideos\\Whisker_Video\\Whisker_Topview\\Expect_1\\Mouse21\\200207_2\\2020-02-07T14.55.55.avi sucessfull\n",
      "\n",
      "['F:\\\\DATA\\\\BehavioralVideos\\\\Whisker_Video\\\\Whisker_Topview\\\\Expect_1\\\\Mouse21\\\\200207_2\\\\2020-02-07T14.48.51.avi', 'F:\\\\DATA\\\\BehavioralVideos\\\\Whisker_Video\\\\Whisker_Topview\\\\Expect_1\\\\Mouse21\\\\200207_2\\\\2020-02-07T14.48.55.avi', 'F:\\\\DATA\\\\BehavioralVideos\\\\Whisker_Video\\\\Whisker_Topview\\\\Expect_1\\\\Mouse21\\\\200207_2\\\\2020-02-07T14.49.02.avi', 'F:\\\\DATA\\\\BehavioralVideos\\\\Whisker_Video\\\\Whisker_Topview\\\\Expect_1\\\\Mouse21\\\\200207_2\\\\2020-02-07T14.49.15.avi', 'F:\\\\DATA\\\\BehavioralVideos\\\\Whisker_Video\\\\Whisker_Topview\\\\Expect_1\\\\Mouse21\\\\200207_2\\\\2020-02-07T14.49.45.avi', 'F:\\\\DATA\\\\BehavioralVideos\\\\Whisker_Video\\\\Whisker_Topview\\\\Expect_1\\\\Mouse21\\\\200207_2\\\\2020-02-07T14.49.57.avi', 'F:\\\\DATA\\\\BehavioralVideos\\\\Whisker_Video\\\\Whisker_Topview\\\\Expect_1\\\\Mouse21\\\\200207_2\\\\2020-02-07T14.50.04.avi', 'F:\\\\DATA\\\\BehavioralVideos\\\\Whisker_Video\\\\Whisker_Topview\\\\Expect_1\\\\Mouse21\\\\200207_2\\\\2020-02-07T14.50.11.avi', 'F:\\\\DATA\\\\BehavioralVideos\\\\Whisker_Video\\\\Whisker_Topview\\\\Expect_1\\\\Mouse21\\\\200207_2\\\\2020-02-07T14.50.19.avi', 'F:\\\\DATA\\\\BehavioralVideos\\\\Whisker_Video\\\\Whisker_Topview\\\\Expect_1\\\\Mouse21\\\\200207_2\\\\2020-02-07T14.50.27.avi', 'F:\\\\DATA\\\\BehavioralVideos\\\\Whisker_Video\\\\Whisker_Topview\\\\Expect_1\\\\Mouse21\\\\200207_2\\\\2020-02-07T14.50.51.avi', 'F:\\\\DATA\\\\BehavioralVideos\\\\Whisker_Video\\\\Whisker_Topview\\\\Expect_1\\\\Mouse21\\\\200207_2\\\\2020-02-07T14.51.21.avi', 'F:\\\\DATA\\\\BehavioralVideos\\\\Whisker_Video\\\\Whisker_Topview\\\\Expect_1\\\\Mouse21\\\\200207_2\\\\2020-02-07T14.51.29.avi', 'F:\\\\DATA\\\\BehavioralVideos\\\\Whisker_Video\\\\Whisker_Topview\\\\Expect_1\\\\Mouse21\\\\200207_2\\\\2020-02-07T14.51.36.avi', 'F:\\\\DATA\\\\BehavioralVideos\\\\Whisker_Video\\\\Whisker_Topview\\\\Expect_1\\\\Mouse21\\\\200207_2\\\\2020-02-07T14.51.47.avi', 'F:\\\\DATA\\\\BehavioralVideos\\\\Whisker_Video\\\\Whisker_Topview\\\\Expect_1\\\\Mouse21\\\\200207_2\\\\2020-02-07T14.51.55.avi', 'F:\\\\DATA\\\\BehavioralVideos\\\\Whisker_Video\\\\Whisker_Topview\\\\Expect_1\\\\Mouse21\\\\200207_2\\\\2020-02-07T14.52.02.avi', 'F:\\\\DATA\\\\BehavioralVideos\\\\Whisker_Video\\\\Whisker_Topview\\\\Expect_1\\\\Mouse21\\\\200207_2\\\\2020-02-07T14.52.09.avi', 'F:\\\\DATA\\\\BehavioralVideos\\\\Whisker_Video\\\\Whisker_Topview\\\\Expect_1\\\\Mouse21\\\\200207_2\\\\2020-02-07T14.52.16.avi', 'F:\\\\DATA\\\\BehavioralVideos\\\\Whisker_Video\\\\Whisker_Topview\\\\Expect_1\\\\Mouse21\\\\200207_2\\\\2020-02-07T14.52.24.avi', 'F:\\\\DATA\\\\BehavioralVideos\\\\Whisker_Video\\\\Whisker_Topview\\\\Expect_1\\\\Mouse21\\\\200207_2\\\\2020-02-07T14.53.14.avi', 'F:\\\\DATA\\\\BehavioralVideos\\\\Whisker_Video\\\\Whisker_Topview\\\\Expect_1\\\\Mouse21\\\\200207_2\\\\2020-02-07T14.53.26.avi', 'F:\\\\DATA\\\\BehavioralVideos\\\\Whisker_Video\\\\Whisker_Topview\\\\Expect_1\\\\Mouse21\\\\200207_2\\\\2020-02-07T14.53.35.avi', 'F:\\\\DATA\\\\BehavioralVideos\\\\Whisker_Video\\\\Whisker_Topview\\\\Expect_1\\\\Mouse21\\\\200207_2\\\\2020-02-07T14.53.45.avi', 'F:\\\\DATA\\\\BehavioralVideos\\\\Whisker_Video\\\\Whisker_Topview\\\\Expect_1\\\\Mouse21\\\\200207_2\\\\2020-02-07T14.53.53.avi', 'F:\\\\DATA\\\\BehavioralVideos\\\\Whisker_Video\\\\Whisker_Topview\\\\Expect_1\\\\Mouse21\\\\200207_2\\\\2020-02-07T14.54.02.avi', 'F:\\\\DATA\\\\BehavioralVideos\\\\Whisker_Video\\\\Whisker_Topview\\\\Expect_1\\\\Mouse21\\\\200207_2\\\\2020-02-07T14.54.09.avi', 'F:\\\\DATA\\\\BehavioralVideos\\\\Whisker_Video\\\\Whisker_Topview\\\\Expect_1\\\\Mouse21\\\\200207_2\\\\2020-02-07T14.54.18.avi', 'F:\\\\DATA\\\\BehavioralVideos\\\\Whisker_Video\\\\Whisker_Topview\\\\Expect_1\\\\Mouse21\\\\200207_2\\\\2020-02-07T14.54.26.avi', 'F:\\\\DATA\\\\BehavioralVideos\\\\Whisker_Video\\\\Whisker_Topview\\\\Expect_1\\\\Mouse21\\\\200207_2\\\\2020-02-07T14.54.33.avi', 'F:\\\\DATA\\\\BehavioralVideos\\\\Whisker_Video\\\\Whisker_Topview\\\\Expect_1\\\\Mouse21\\\\200207_2\\\\2020-02-07T14.54.39.avi', 'F:\\\\DATA\\\\BehavioralVideos\\\\Whisker_Video\\\\Whisker_Topview\\\\Expect_1\\\\Mouse21\\\\200207_2\\\\2020-02-07T14.54.45.avi', 'F:\\\\DATA\\\\BehavioralVideos\\\\Whisker_Video\\\\Whisker_Topview\\\\Expect_1\\\\Mouse21\\\\200207_2\\\\2020-02-07T14.55.01.avi', 'F:\\\\DATA\\\\BehavioralVideos\\\\Whisker_Video\\\\Whisker_Topview\\\\Expect_1\\\\Mouse21\\\\200207_2\\\\2020-02-07T14.55.11.avi', 'F:\\\\DATA\\\\BehavioralVideos\\\\Whisker_Video\\\\Whisker_Topview\\\\Expect_1\\\\Mouse21\\\\200207_2\\\\2020-02-07T14.55.17.avi', 'F:\\\\DATA\\\\BehavioralVideos\\\\Whisker_Video\\\\Whisker_Topview\\\\Expect_1\\\\Mouse21\\\\200207_2\\\\2020-02-07T14.55.28.avi', 'F:\\\\DATA\\\\BehavioralVideos\\\\Whisker_Video\\\\Whisker_Topview\\\\Expect_1\\\\Mouse21\\\\200207_2\\\\2020-02-07T14.55.34.avi', 'F:\\\\DATA\\\\BehavioralVideos\\\\Whisker_Video\\\\Whisker_Topview\\\\Expect_1\\\\Mouse21\\\\200207_2\\\\2020-02-07T14.55.41.avi', 'F:\\\\DATA\\\\BehavioralVideos\\\\Whisker_Video\\\\Whisker_Topview\\\\Expect_1\\\\Mouse21\\\\200207_2\\\\2020-02-07T14.55.47.avi', 'F:\\\\DATA\\\\BehavioralVideos\\\\Whisker_Video\\\\Whisker_Topview\\\\Expect_1\\\\Mouse21\\\\200207_2\\\\2020-02-07T14.55.55.avi']\n",
      "Repaired 40 files, number of frames possible : between 0 and 38860\n",
      "\n",
      "[20001, 20501]\n"
     ]
    },
    {
     "name": "stderr",
     "output_type": "stream",
     "text": [
      "\n",
      "Writing video at F:\\DATA\\BehavioralVideos\\Whisker_Video\\Whisker_Topview\\Expect_1\\Mouse21\\200207_2\\2020-02-07T14.56.13.avi\n"
     ]
    },
    {
     "name": "stdout",
     "output_type": "stream",
     "text": [
      "about to write a video named 2020-02-07T14.56.13\n",
      "2020-02-07T14.56.13\n",
      "Using default extension (.avi) as none was specified\n",
      "Using default framerate (30 fps) as none was specified\n",
      "Using default codec (MJPG) as none was specified\n"
     ]
    },
    {
     "name": "stderr",
     "output_type": "stream",
     "text": [
      "0% [▓▓▓▓▓▓▓▓▓▓▓▓▓▓▓▓▓▓▓▓▓▓▓▓▓▓▓▓▓▓] 100% | ETA: 00:00:00\n",
      "Total time elapsed: 00:00:13\n"
     ]
    },
    {
     "name": "stdout",
     "output_type": "stream",
     "text": [
      "Video compression at F:\\DATA\\BehavioralVideos\\Whisker_Video\\Whisker_Topview\\Expect_1\\Mouse21\\200207_2\\2020-02-07T14.56.13.avi sucessfull\n",
      "\n",
      "['F:\\\\DATA\\\\BehavioralVideos\\\\Whisker_Video\\\\Whisker_Topview\\\\Expect_1\\\\Mouse21\\\\200207_2\\\\2020-02-07T14.48.51.avi', 'F:\\\\DATA\\\\BehavioralVideos\\\\Whisker_Video\\\\Whisker_Topview\\\\Expect_1\\\\Mouse21\\\\200207_2\\\\2020-02-07T14.48.55.avi', 'F:\\\\DATA\\\\BehavioralVideos\\\\Whisker_Video\\\\Whisker_Topview\\\\Expect_1\\\\Mouse21\\\\200207_2\\\\2020-02-07T14.49.02.avi', 'F:\\\\DATA\\\\BehavioralVideos\\\\Whisker_Video\\\\Whisker_Topview\\\\Expect_1\\\\Mouse21\\\\200207_2\\\\2020-02-07T14.49.15.avi', 'F:\\\\DATA\\\\BehavioralVideos\\\\Whisker_Video\\\\Whisker_Topview\\\\Expect_1\\\\Mouse21\\\\200207_2\\\\2020-02-07T14.49.45.avi', 'F:\\\\DATA\\\\BehavioralVideos\\\\Whisker_Video\\\\Whisker_Topview\\\\Expect_1\\\\Mouse21\\\\200207_2\\\\2020-02-07T14.49.57.avi', 'F:\\\\DATA\\\\BehavioralVideos\\\\Whisker_Video\\\\Whisker_Topview\\\\Expect_1\\\\Mouse21\\\\200207_2\\\\2020-02-07T14.50.04.avi', 'F:\\\\DATA\\\\BehavioralVideos\\\\Whisker_Video\\\\Whisker_Topview\\\\Expect_1\\\\Mouse21\\\\200207_2\\\\2020-02-07T14.50.11.avi', 'F:\\\\DATA\\\\BehavioralVideos\\\\Whisker_Video\\\\Whisker_Topview\\\\Expect_1\\\\Mouse21\\\\200207_2\\\\2020-02-07T14.50.19.avi', 'F:\\\\DATA\\\\BehavioralVideos\\\\Whisker_Video\\\\Whisker_Topview\\\\Expect_1\\\\Mouse21\\\\200207_2\\\\2020-02-07T14.50.27.avi', 'F:\\\\DATA\\\\BehavioralVideos\\\\Whisker_Video\\\\Whisker_Topview\\\\Expect_1\\\\Mouse21\\\\200207_2\\\\2020-02-07T14.50.51.avi', 'F:\\\\DATA\\\\BehavioralVideos\\\\Whisker_Video\\\\Whisker_Topview\\\\Expect_1\\\\Mouse21\\\\200207_2\\\\2020-02-07T14.51.21.avi', 'F:\\\\DATA\\\\BehavioralVideos\\\\Whisker_Video\\\\Whisker_Topview\\\\Expect_1\\\\Mouse21\\\\200207_2\\\\2020-02-07T14.51.29.avi', 'F:\\\\DATA\\\\BehavioralVideos\\\\Whisker_Video\\\\Whisker_Topview\\\\Expect_1\\\\Mouse21\\\\200207_2\\\\2020-02-07T14.51.36.avi', 'F:\\\\DATA\\\\BehavioralVideos\\\\Whisker_Video\\\\Whisker_Topview\\\\Expect_1\\\\Mouse21\\\\200207_2\\\\2020-02-07T14.51.47.avi', 'F:\\\\DATA\\\\BehavioralVideos\\\\Whisker_Video\\\\Whisker_Topview\\\\Expect_1\\\\Mouse21\\\\200207_2\\\\2020-02-07T14.51.55.avi', 'F:\\\\DATA\\\\BehavioralVideos\\\\Whisker_Video\\\\Whisker_Topview\\\\Expect_1\\\\Mouse21\\\\200207_2\\\\2020-02-07T14.52.02.avi', 'F:\\\\DATA\\\\BehavioralVideos\\\\Whisker_Video\\\\Whisker_Topview\\\\Expect_1\\\\Mouse21\\\\200207_2\\\\2020-02-07T14.52.09.avi', 'F:\\\\DATA\\\\BehavioralVideos\\\\Whisker_Video\\\\Whisker_Topview\\\\Expect_1\\\\Mouse21\\\\200207_2\\\\2020-02-07T14.52.16.avi', 'F:\\\\DATA\\\\BehavioralVideos\\\\Whisker_Video\\\\Whisker_Topview\\\\Expect_1\\\\Mouse21\\\\200207_2\\\\2020-02-07T14.52.24.avi', 'F:\\\\DATA\\\\BehavioralVideos\\\\Whisker_Video\\\\Whisker_Topview\\\\Expect_1\\\\Mouse21\\\\200207_2\\\\2020-02-07T14.53.14.avi', 'F:\\\\DATA\\\\BehavioralVideos\\\\Whisker_Video\\\\Whisker_Topview\\\\Expect_1\\\\Mouse21\\\\200207_2\\\\2020-02-07T14.53.26.avi', 'F:\\\\DATA\\\\BehavioralVideos\\\\Whisker_Video\\\\Whisker_Topview\\\\Expect_1\\\\Mouse21\\\\200207_2\\\\2020-02-07T14.53.35.avi', 'F:\\\\DATA\\\\BehavioralVideos\\\\Whisker_Video\\\\Whisker_Topview\\\\Expect_1\\\\Mouse21\\\\200207_2\\\\2020-02-07T14.53.45.avi', 'F:\\\\DATA\\\\BehavioralVideos\\\\Whisker_Video\\\\Whisker_Topview\\\\Expect_1\\\\Mouse21\\\\200207_2\\\\2020-02-07T14.53.53.avi', 'F:\\\\DATA\\\\BehavioralVideos\\\\Whisker_Video\\\\Whisker_Topview\\\\Expect_1\\\\Mouse21\\\\200207_2\\\\2020-02-07T14.54.02.avi', 'F:\\\\DATA\\\\BehavioralVideos\\\\Whisker_Video\\\\Whisker_Topview\\\\Expect_1\\\\Mouse21\\\\200207_2\\\\2020-02-07T14.54.09.avi', 'F:\\\\DATA\\\\BehavioralVideos\\\\Whisker_Video\\\\Whisker_Topview\\\\Expect_1\\\\Mouse21\\\\200207_2\\\\2020-02-07T14.54.18.avi', 'F:\\\\DATA\\\\BehavioralVideos\\\\Whisker_Video\\\\Whisker_Topview\\\\Expect_1\\\\Mouse21\\\\200207_2\\\\2020-02-07T14.54.26.avi', 'F:\\\\DATA\\\\BehavioralVideos\\\\Whisker_Video\\\\Whisker_Topview\\\\Expect_1\\\\Mouse21\\\\200207_2\\\\2020-02-07T14.54.33.avi', 'F:\\\\DATA\\\\BehavioralVideos\\\\Whisker_Video\\\\Whisker_Topview\\\\Expect_1\\\\Mouse21\\\\200207_2\\\\2020-02-07T14.54.39.avi', 'F:\\\\DATA\\\\BehavioralVideos\\\\Whisker_Video\\\\Whisker_Topview\\\\Expect_1\\\\Mouse21\\\\200207_2\\\\2020-02-07T14.54.45.avi', 'F:\\\\DATA\\\\BehavioralVideos\\\\Whisker_Video\\\\Whisker_Topview\\\\Expect_1\\\\Mouse21\\\\200207_2\\\\2020-02-07T14.55.01.avi', 'F:\\\\DATA\\\\BehavioralVideos\\\\Whisker_Video\\\\Whisker_Topview\\\\Expect_1\\\\Mouse21\\\\200207_2\\\\2020-02-07T14.55.11.avi', 'F:\\\\DATA\\\\BehavioralVideos\\\\Whisker_Video\\\\Whisker_Topview\\\\Expect_1\\\\Mouse21\\\\200207_2\\\\2020-02-07T14.55.17.avi', 'F:\\\\DATA\\\\BehavioralVideos\\\\Whisker_Video\\\\Whisker_Topview\\\\Expect_1\\\\Mouse21\\\\200207_2\\\\2020-02-07T14.55.28.avi', 'F:\\\\DATA\\\\BehavioralVideos\\\\Whisker_Video\\\\Whisker_Topview\\\\Expect_1\\\\Mouse21\\\\200207_2\\\\2020-02-07T14.55.34.avi', 'F:\\\\DATA\\\\BehavioralVideos\\\\Whisker_Video\\\\Whisker_Topview\\\\Expect_1\\\\Mouse21\\\\200207_2\\\\2020-02-07T14.55.41.avi', 'F:\\\\DATA\\\\BehavioralVideos\\\\Whisker_Video\\\\Whisker_Topview\\\\Expect_1\\\\Mouse21\\\\200207_2\\\\2020-02-07T14.55.47.avi', 'F:\\\\DATA\\\\BehavioralVideos\\\\Whisker_Video\\\\Whisker_Topview\\\\Expect_1\\\\Mouse21\\\\200207_2\\\\2020-02-07T14.55.55.avi', 'F:\\\\DATA\\\\BehavioralVideos\\\\Whisker_Video\\\\Whisker_Topview\\\\Expect_1\\\\Mouse21\\\\200207_2\\\\2020-02-07T14.56.13.avi']\n",
      "Repaired 41 files, number of frames possible : between 0 and 38860\n",
      "\n",
      "[20501, 21001]\n"
     ]
    },
    {
     "name": "stderr",
     "output_type": "stream",
     "text": [
      "\n",
      "Writing video at F:\\DATA\\BehavioralVideos\\Whisker_Video\\Whisker_Topview\\Expect_1\\Mouse21\\200207_2\\2020-02-07T14.56.21.avi\n"
     ]
    },
    {
     "name": "stdout",
     "output_type": "stream",
     "text": [
      "about to write a video named 2020-02-07T14.56.21\n",
      "2020-02-07T14.56.21\n",
      "Using default extension (.avi) as none was specified\n",
      "Using default framerate (30 fps) as none was specified\n",
      "Using default codec (MJPG) as none was specified\n"
     ]
    },
    {
     "name": "stderr",
     "output_type": "stream",
     "text": [
      "0% [▓▓▓▓▓▓▓▓▓▓▓▓▓▓▓▓▓▓▓▓▓▓▓▓▓▓▓▓▓▓] 100% | ETA: 00:00:00\n",
      "Total time elapsed: 00:00:13\n"
     ]
    },
    {
     "name": "stdout",
     "output_type": "stream",
     "text": [
      "Video compression at F:\\DATA\\BehavioralVideos\\Whisker_Video\\Whisker_Topview\\Expect_1\\Mouse21\\200207_2\\2020-02-07T14.56.21.avi sucessfull\n",
      "\n",
      "['F:\\\\DATA\\\\BehavioralVideos\\\\Whisker_Video\\\\Whisker_Topview\\\\Expect_1\\\\Mouse21\\\\200207_2\\\\2020-02-07T14.48.51.avi', 'F:\\\\DATA\\\\BehavioralVideos\\\\Whisker_Video\\\\Whisker_Topview\\\\Expect_1\\\\Mouse21\\\\200207_2\\\\2020-02-07T14.48.55.avi', 'F:\\\\DATA\\\\BehavioralVideos\\\\Whisker_Video\\\\Whisker_Topview\\\\Expect_1\\\\Mouse21\\\\200207_2\\\\2020-02-07T14.49.02.avi', 'F:\\\\DATA\\\\BehavioralVideos\\\\Whisker_Video\\\\Whisker_Topview\\\\Expect_1\\\\Mouse21\\\\200207_2\\\\2020-02-07T14.49.15.avi', 'F:\\\\DATA\\\\BehavioralVideos\\\\Whisker_Video\\\\Whisker_Topview\\\\Expect_1\\\\Mouse21\\\\200207_2\\\\2020-02-07T14.49.45.avi', 'F:\\\\DATA\\\\BehavioralVideos\\\\Whisker_Video\\\\Whisker_Topview\\\\Expect_1\\\\Mouse21\\\\200207_2\\\\2020-02-07T14.49.57.avi', 'F:\\\\DATA\\\\BehavioralVideos\\\\Whisker_Video\\\\Whisker_Topview\\\\Expect_1\\\\Mouse21\\\\200207_2\\\\2020-02-07T14.50.04.avi', 'F:\\\\DATA\\\\BehavioralVideos\\\\Whisker_Video\\\\Whisker_Topview\\\\Expect_1\\\\Mouse21\\\\200207_2\\\\2020-02-07T14.50.11.avi', 'F:\\\\DATA\\\\BehavioralVideos\\\\Whisker_Video\\\\Whisker_Topview\\\\Expect_1\\\\Mouse21\\\\200207_2\\\\2020-02-07T14.50.19.avi', 'F:\\\\DATA\\\\BehavioralVideos\\\\Whisker_Video\\\\Whisker_Topview\\\\Expect_1\\\\Mouse21\\\\200207_2\\\\2020-02-07T14.50.27.avi', 'F:\\\\DATA\\\\BehavioralVideos\\\\Whisker_Video\\\\Whisker_Topview\\\\Expect_1\\\\Mouse21\\\\200207_2\\\\2020-02-07T14.50.51.avi', 'F:\\\\DATA\\\\BehavioralVideos\\\\Whisker_Video\\\\Whisker_Topview\\\\Expect_1\\\\Mouse21\\\\200207_2\\\\2020-02-07T14.51.21.avi', 'F:\\\\DATA\\\\BehavioralVideos\\\\Whisker_Video\\\\Whisker_Topview\\\\Expect_1\\\\Mouse21\\\\200207_2\\\\2020-02-07T14.51.29.avi', 'F:\\\\DATA\\\\BehavioralVideos\\\\Whisker_Video\\\\Whisker_Topview\\\\Expect_1\\\\Mouse21\\\\200207_2\\\\2020-02-07T14.51.36.avi', 'F:\\\\DATA\\\\BehavioralVideos\\\\Whisker_Video\\\\Whisker_Topview\\\\Expect_1\\\\Mouse21\\\\200207_2\\\\2020-02-07T14.51.47.avi', 'F:\\\\DATA\\\\BehavioralVideos\\\\Whisker_Video\\\\Whisker_Topview\\\\Expect_1\\\\Mouse21\\\\200207_2\\\\2020-02-07T14.51.55.avi', 'F:\\\\DATA\\\\BehavioralVideos\\\\Whisker_Video\\\\Whisker_Topview\\\\Expect_1\\\\Mouse21\\\\200207_2\\\\2020-02-07T14.52.02.avi', 'F:\\\\DATA\\\\BehavioralVideos\\\\Whisker_Video\\\\Whisker_Topview\\\\Expect_1\\\\Mouse21\\\\200207_2\\\\2020-02-07T14.52.09.avi', 'F:\\\\DATA\\\\BehavioralVideos\\\\Whisker_Video\\\\Whisker_Topview\\\\Expect_1\\\\Mouse21\\\\200207_2\\\\2020-02-07T14.52.16.avi', 'F:\\\\DATA\\\\BehavioralVideos\\\\Whisker_Video\\\\Whisker_Topview\\\\Expect_1\\\\Mouse21\\\\200207_2\\\\2020-02-07T14.52.24.avi', 'F:\\\\DATA\\\\BehavioralVideos\\\\Whisker_Video\\\\Whisker_Topview\\\\Expect_1\\\\Mouse21\\\\200207_2\\\\2020-02-07T14.53.14.avi', 'F:\\\\DATA\\\\BehavioralVideos\\\\Whisker_Video\\\\Whisker_Topview\\\\Expect_1\\\\Mouse21\\\\200207_2\\\\2020-02-07T14.53.26.avi', 'F:\\\\DATA\\\\BehavioralVideos\\\\Whisker_Video\\\\Whisker_Topview\\\\Expect_1\\\\Mouse21\\\\200207_2\\\\2020-02-07T14.53.35.avi', 'F:\\\\DATA\\\\BehavioralVideos\\\\Whisker_Video\\\\Whisker_Topview\\\\Expect_1\\\\Mouse21\\\\200207_2\\\\2020-02-07T14.53.45.avi', 'F:\\\\DATA\\\\BehavioralVideos\\\\Whisker_Video\\\\Whisker_Topview\\\\Expect_1\\\\Mouse21\\\\200207_2\\\\2020-02-07T14.53.53.avi', 'F:\\\\DATA\\\\BehavioralVideos\\\\Whisker_Video\\\\Whisker_Topview\\\\Expect_1\\\\Mouse21\\\\200207_2\\\\2020-02-07T14.54.02.avi', 'F:\\\\DATA\\\\BehavioralVideos\\\\Whisker_Video\\\\Whisker_Topview\\\\Expect_1\\\\Mouse21\\\\200207_2\\\\2020-02-07T14.54.09.avi', 'F:\\\\DATA\\\\BehavioralVideos\\\\Whisker_Video\\\\Whisker_Topview\\\\Expect_1\\\\Mouse21\\\\200207_2\\\\2020-02-07T14.54.18.avi', 'F:\\\\DATA\\\\BehavioralVideos\\\\Whisker_Video\\\\Whisker_Topview\\\\Expect_1\\\\Mouse21\\\\200207_2\\\\2020-02-07T14.54.26.avi', 'F:\\\\DATA\\\\BehavioralVideos\\\\Whisker_Video\\\\Whisker_Topview\\\\Expect_1\\\\Mouse21\\\\200207_2\\\\2020-02-07T14.54.33.avi', 'F:\\\\DATA\\\\BehavioralVideos\\\\Whisker_Video\\\\Whisker_Topview\\\\Expect_1\\\\Mouse21\\\\200207_2\\\\2020-02-07T14.54.39.avi', 'F:\\\\DATA\\\\BehavioralVideos\\\\Whisker_Video\\\\Whisker_Topview\\\\Expect_1\\\\Mouse21\\\\200207_2\\\\2020-02-07T14.54.45.avi', 'F:\\\\DATA\\\\BehavioralVideos\\\\Whisker_Video\\\\Whisker_Topview\\\\Expect_1\\\\Mouse21\\\\200207_2\\\\2020-02-07T14.55.01.avi', 'F:\\\\DATA\\\\BehavioralVideos\\\\Whisker_Video\\\\Whisker_Topview\\\\Expect_1\\\\Mouse21\\\\200207_2\\\\2020-02-07T14.55.11.avi', 'F:\\\\DATA\\\\BehavioralVideos\\\\Whisker_Video\\\\Whisker_Topview\\\\Expect_1\\\\Mouse21\\\\200207_2\\\\2020-02-07T14.55.17.avi', 'F:\\\\DATA\\\\BehavioralVideos\\\\Whisker_Video\\\\Whisker_Topview\\\\Expect_1\\\\Mouse21\\\\200207_2\\\\2020-02-07T14.55.28.avi', 'F:\\\\DATA\\\\BehavioralVideos\\\\Whisker_Video\\\\Whisker_Topview\\\\Expect_1\\\\Mouse21\\\\200207_2\\\\2020-02-07T14.55.34.avi', 'F:\\\\DATA\\\\BehavioralVideos\\\\Whisker_Video\\\\Whisker_Topview\\\\Expect_1\\\\Mouse21\\\\200207_2\\\\2020-02-07T14.55.41.avi', 'F:\\\\DATA\\\\BehavioralVideos\\\\Whisker_Video\\\\Whisker_Topview\\\\Expect_1\\\\Mouse21\\\\200207_2\\\\2020-02-07T14.55.47.avi', 'F:\\\\DATA\\\\BehavioralVideos\\\\Whisker_Video\\\\Whisker_Topview\\\\Expect_1\\\\Mouse21\\\\200207_2\\\\2020-02-07T14.55.55.avi', 'F:\\\\DATA\\\\BehavioralVideos\\\\Whisker_Video\\\\Whisker_Topview\\\\Expect_1\\\\Mouse21\\\\200207_2\\\\2020-02-07T14.56.13.avi', 'F:\\\\DATA\\\\BehavioralVideos\\\\Whisker_Video\\\\Whisker_Topview\\\\Expect_1\\\\Mouse21\\\\200207_2\\\\2020-02-07T14.56.21.avi']\n",
      "Repaired 42 files, number of frames possible : between 0 and 38860\n",
      "\n",
      "[21001, 21501]\n"
     ]
    },
    {
     "name": "stderr",
     "output_type": "stream",
     "text": [
      "\n",
      "Writing video at F:\\DATA\\BehavioralVideos\\Whisker_Video\\Whisker_Topview\\Expect_1\\Mouse21\\200207_2\\2020-02-07T14.56.27.avi\n"
     ]
    },
    {
     "name": "stdout",
     "output_type": "stream",
     "text": [
      "about to write a video named 2020-02-07T14.56.27\n",
      "2020-02-07T14.56.27\n",
      "Using default extension (.avi) as none was specified\n",
      "Using default framerate (30 fps) as none was specified\n",
      "Using default codec (MJPG) as none was specified\n"
     ]
    },
    {
     "name": "stderr",
     "output_type": "stream",
     "text": [
      "0% [▓▓▓▓▓▓▓▓▓▓▓▓▓▓▓▓▓▓▓▓▓▓▓▓▓▓▓▓▓▓] 100% | ETA: 00:00:00\n",
      "Total time elapsed: 00:00:13\n"
     ]
    },
    {
     "name": "stdout",
     "output_type": "stream",
     "text": [
      "Video compression at F:\\DATA\\BehavioralVideos\\Whisker_Video\\Whisker_Topview\\Expect_1\\Mouse21\\200207_2\\2020-02-07T14.56.27.avi sucessfull\n",
      "\n",
      "['F:\\\\DATA\\\\BehavioralVideos\\\\Whisker_Video\\\\Whisker_Topview\\\\Expect_1\\\\Mouse21\\\\200207_2\\\\2020-02-07T14.48.51.avi', 'F:\\\\DATA\\\\BehavioralVideos\\\\Whisker_Video\\\\Whisker_Topview\\\\Expect_1\\\\Mouse21\\\\200207_2\\\\2020-02-07T14.48.55.avi', 'F:\\\\DATA\\\\BehavioralVideos\\\\Whisker_Video\\\\Whisker_Topview\\\\Expect_1\\\\Mouse21\\\\200207_2\\\\2020-02-07T14.49.02.avi', 'F:\\\\DATA\\\\BehavioralVideos\\\\Whisker_Video\\\\Whisker_Topview\\\\Expect_1\\\\Mouse21\\\\200207_2\\\\2020-02-07T14.49.15.avi', 'F:\\\\DATA\\\\BehavioralVideos\\\\Whisker_Video\\\\Whisker_Topview\\\\Expect_1\\\\Mouse21\\\\200207_2\\\\2020-02-07T14.49.45.avi', 'F:\\\\DATA\\\\BehavioralVideos\\\\Whisker_Video\\\\Whisker_Topview\\\\Expect_1\\\\Mouse21\\\\200207_2\\\\2020-02-07T14.49.57.avi', 'F:\\\\DATA\\\\BehavioralVideos\\\\Whisker_Video\\\\Whisker_Topview\\\\Expect_1\\\\Mouse21\\\\200207_2\\\\2020-02-07T14.50.04.avi', 'F:\\\\DATA\\\\BehavioralVideos\\\\Whisker_Video\\\\Whisker_Topview\\\\Expect_1\\\\Mouse21\\\\200207_2\\\\2020-02-07T14.50.11.avi', 'F:\\\\DATA\\\\BehavioralVideos\\\\Whisker_Video\\\\Whisker_Topview\\\\Expect_1\\\\Mouse21\\\\200207_2\\\\2020-02-07T14.50.19.avi', 'F:\\\\DATA\\\\BehavioralVideos\\\\Whisker_Video\\\\Whisker_Topview\\\\Expect_1\\\\Mouse21\\\\200207_2\\\\2020-02-07T14.50.27.avi', 'F:\\\\DATA\\\\BehavioralVideos\\\\Whisker_Video\\\\Whisker_Topview\\\\Expect_1\\\\Mouse21\\\\200207_2\\\\2020-02-07T14.50.51.avi', 'F:\\\\DATA\\\\BehavioralVideos\\\\Whisker_Video\\\\Whisker_Topview\\\\Expect_1\\\\Mouse21\\\\200207_2\\\\2020-02-07T14.51.21.avi', 'F:\\\\DATA\\\\BehavioralVideos\\\\Whisker_Video\\\\Whisker_Topview\\\\Expect_1\\\\Mouse21\\\\200207_2\\\\2020-02-07T14.51.29.avi', 'F:\\\\DATA\\\\BehavioralVideos\\\\Whisker_Video\\\\Whisker_Topview\\\\Expect_1\\\\Mouse21\\\\200207_2\\\\2020-02-07T14.51.36.avi', 'F:\\\\DATA\\\\BehavioralVideos\\\\Whisker_Video\\\\Whisker_Topview\\\\Expect_1\\\\Mouse21\\\\200207_2\\\\2020-02-07T14.51.47.avi', 'F:\\\\DATA\\\\BehavioralVideos\\\\Whisker_Video\\\\Whisker_Topview\\\\Expect_1\\\\Mouse21\\\\200207_2\\\\2020-02-07T14.51.55.avi', 'F:\\\\DATA\\\\BehavioralVideos\\\\Whisker_Video\\\\Whisker_Topview\\\\Expect_1\\\\Mouse21\\\\200207_2\\\\2020-02-07T14.52.02.avi', 'F:\\\\DATA\\\\BehavioralVideos\\\\Whisker_Video\\\\Whisker_Topview\\\\Expect_1\\\\Mouse21\\\\200207_2\\\\2020-02-07T14.52.09.avi', 'F:\\\\DATA\\\\BehavioralVideos\\\\Whisker_Video\\\\Whisker_Topview\\\\Expect_1\\\\Mouse21\\\\200207_2\\\\2020-02-07T14.52.16.avi', 'F:\\\\DATA\\\\BehavioralVideos\\\\Whisker_Video\\\\Whisker_Topview\\\\Expect_1\\\\Mouse21\\\\200207_2\\\\2020-02-07T14.52.24.avi', 'F:\\\\DATA\\\\BehavioralVideos\\\\Whisker_Video\\\\Whisker_Topview\\\\Expect_1\\\\Mouse21\\\\200207_2\\\\2020-02-07T14.53.14.avi', 'F:\\\\DATA\\\\BehavioralVideos\\\\Whisker_Video\\\\Whisker_Topview\\\\Expect_1\\\\Mouse21\\\\200207_2\\\\2020-02-07T14.53.26.avi', 'F:\\\\DATA\\\\BehavioralVideos\\\\Whisker_Video\\\\Whisker_Topview\\\\Expect_1\\\\Mouse21\\\\200207_2\\\\2020-02-07T14.53.35.avi', 'F:\\\\DATA\\\\BehavioralVideos\\\\Whisker_Video\\\\Whisker_Topview\\\\Expect_1\\\\Mouse21\\\\200207_2\\\\2020-02-07T14.53.45.avi', 'F:\\\\DATA\\\\BehavioralVideos\\\\Whisker_Video\\\\Whisker_Topview\\\\Expect_1\\\\Mouse21\\\\200207_2\\\\2020-02-07T14.53.53.avi', 'F:\\\\DATA\\\\BehavioralVideos\\\\Whisker_Video\\\\Whisker_Topview\\\\Expect_1\\\\Mouse21\\\\200207_2\\\\2020-02-07T14.54.02.avi', 'F:\\\\DATA\\\\BehavioralVideos\\\\Whisker_Video\\\\Whisker_Topview\\\\Expect_1\\\\Mouse21\\\\200207_2\\\\2020-02-07T14.54.09.avi', 'F:\\\\DATA\\\\BehavioralVideos\\\\Whisker_Video\\\\Whisker_Topview\\\\Expect_1\\\\Mouse21\\\\200207_2\\\\2020-02-07T14.54.18.avi', 'F:\\\\DATA\\\\BehavioralVideos\\\\Whisker_Video\\\\Whisker_Topview\\\\Expect_1\\\\Mouse21\\\\200207_2\\\\2020-02-07T14.54.26.avi', 'F:\\\\DATA\\\\BehavioralVideos\\\\Whisker_Video\\\\Whisker_Topview\\\\Expect_1\\\\Mouse21\\\\200207_2\\\\2020-02-07T14.54.33.avi', 'F:\\\\DATA\\\\BehavioralVideos\\\\Whisker_Video\\\\Whisker_Topview\\\\Expect_1\\\\Mouse21\\\\200207_2\\\\2020-02-07T14.54.39.avi', 'F:\\\\DATA\\\\BehavioralVideos\\\\Whisker_Video\\\\Whisker_Topview\\\\Expect_1\\\\Mouse21\\\\200207_2\\\\2020-02-07T14.54.45.avi', 'F:\\\\DATA\\\\BehavioralVideos\\\\Whisker_Video\\\\Whisker_Topview\\\\Expect_1\\\\Mouse21\\\\200207_2\\\\2020-02-07T14.55.01.avi', 'F:\\\\DATA\\\\BehavioralVideos\\\\Whisker_Video\\\\Whisker_Topview\\\\Expect_1\\\\Mouse21\\\\200207_2\\\\2020-02-07T14.55.11.avi', 'F:\\\\DATA\\\\BehavioralVideos\\\\Whisker_Video\\\\Whisker_Topview\\\\Expect_1\\\\Mouse21\\\\200207_2\\\\2020-02-07T14.55.17.avi', 'F:\\\\DATA\\\\BehavioralVideos\\\\Whisker_Video\\\\Whisker_Topview\\\\Expect_1\\\\Mouse21\\\\200207_2\\\\2020-02-07T14.55.28.avi', 'F:\\\\DATA\\\\BehavioralVideos\\\\Whisker_Video\\\\Whisker_Topview\\\\Expect_1\\\\Mouse21\\\\200207_2\\\\2020-02-07T14.55.34.avi', 'F:\\\\DATA\\\\BehavioralVideos\\\\Whisker_Video\\\\Whisker_Topview\\\\Expect_1\\\\Mouse21\\\\200207_2\\\\2020-02-07T14.55.41.avi', 'F:\\\\DATA\\\\BehavioralVideos\\\\Whisker_Video\\\\Whisker_Topview\\\\Expect_1\\\\Mouse21\\\\200207_2\\\\2020-02-07T14.55.47.avi', 'F:\\\\DATA\\\\BehavioralVideos\\\\Whisker_Video\\\\Whisker_Topview\\\\Expect_1\\\\Mouse21\\\\200207_2\\\\2020-02-07T14.55.55.avi', 'F:\\\\DATA\\\\BehavioralVideos\\\\Whisker_Video\\\\Whisker_Topview\\\\Expect_1\\\\Mouse21\\\\200207_2\\\\2020-02-07T14.56.13.avi', 'F:\\\\DATA\\\\BehavioralVideos\\\\Whisker_Video\\\\Whisker_Topview\\\\Expect_1\\\\Mouse21\\\\200207_2\\\\2020-02-07T14.56.21.avi', 'F:\\\\DATA\\\\BehavioralVideos\\\\Whisker_Video\\\\Whisker_Topview\\\\Expect_1\\\\Mouse21\\\\200207_2\\\\2020-02-07T14.56.27.avi']\n",
      "Repaired 43 files, number of frames possible : between 0 and 38860\n",
      "\n",
      "[21501, 22001]\n"
     ]
    },
    {
     "name": "stderr",
     "output_type": "stream",
     "text": [
      "\n",
      "Writing video at F:\\DATA\\BehavioralVideos\\Whisker_Video\\Whisker_Topview\\Expect_1\\Mouse21\\200207_2\\2020-02-07T14.56.34.avi\n"
     ]
    },
    {
     "name": "stdout",
     "output_type": "stream",
     "text": [
      "about to write a video named 2020-02-07T14.56.34\n",
      "2020-02-07T14.56.34\n",
      "Using default extension (.avi) as none was specified\n",
      "Using default framerate (30 fps) as none was specified\n",
      "Using default codec (MJPG) as none was specified\n"
     ]
    },
    {
     "name": "stderr",
     "output_type": "stream",
     "text": [
      "0% [▓▓▓▓▓▓▓▓▓▓▓▓▓▓▓▓▓▓▓▓▓▓▓▓▓▓▓▓▓▓] 100% | ETA: 00:00:00\n",
      "Total time elapsed: 00:00:13\n"
     ]
    },
    {
     "name": "stdout",
     "output_type": "stream",
     "text": [
      "Video compression at F:\\DATA\\BehavioralVideos\\Whisker_Video\\Whisker_Topview\\Expect_1\\Mouse21\\200207_2\\2020-02-07T14.56.34.avi sucessfull\n",
      "\n",
      "['F:\\\\DATA\\\\BehavioralVideos\\\\Whisker_Video\\\\Whisker_Topview\\\\Expect_1\\\\Mouse21\\\\200207_2\\\\2020-02-07T14.48.51.avi', 'F:\\\\DATA\\\\BehavioralVideos\\\\Whisker_Video\\\\Whisker_Topview\\\\Expect_1\\\\Mouse21\\\\200207_2\\\\2020-02-07T14.48.55.avi', 'F:\\\\DATA\\\\BehavioralVideos\\\\Whisker_Video\\\\Whisker_Topview\\\\Expect_1\\\\Mouse21\\\\200207_2\\\\2020-02-07T14.49.02.avi', 'F:\\\\DATA\\\\BehavioralVideos\\\\Whisker_Video\\\\Whisker_Topview\\\\Expect_1\\\\Mouse21\\\\200207_2\\\\2020-02-07T14.49.15.avi', 'F:\\\\DATA\\\\BehavioralVideos\\\\Whisker_Video\\\\Whisker_Topview\\\\Expect_1\\\\Mouse21\\\\200207_2\\\\2020-02-07T14.49.45.avi', 'F:\\\\DATA\\\\BehavioralVideos\\\\Whisker_Video\\\\Whisker_Topview\\\\Expect_1\\\\Mouse21\\\\200207_2\\\\2020-02-07T14.49.57.avi', 'F:\\\\DATA\\\\BehavioralVideos\\\\Whisker_Video\\\\Whisker_Topview\\\\Expect_1\\\\Mouse21\\\\200207_2\\\\2020-02-07T14.50.04.avi', 'F:\\\\DATA\\\\BehavioralVideos\\\\Whisker_Video\\\\Whisker_Topview\\\\Expect_1\\\\Mouse21\\\\200207_2\\\\2020-02-07T14.50.11.avi', 'F:\\\\DATA\\\\BehavioralVideos\\\\Whisker_Video\\\\Whisker_Topview\\\\Expect_1\\\\Mouse21\\\\200207_2\\\\2020-02-07T14.50.19.avi', 'F:\\\\DATA\\\\BehavioralVideos\\\\Whisker_Video\\\\Whisker_Topview\\\\Expect_1\\\\Mouse21\\\\200207_2\\\\2020-02-07T14.50.27.avi', 'F:\\\\DATA\\\\BehavioralVideos\\\\Whisker_Video\\\\Whisker_Topview\\\\Expect_1\\\\Mouse21\\\\200207_2\\\\2020-02-07T14.50.51.avi', 'F:\\\\DATA\\\\BehavioralVideos\\\\Whisker_Video\\\\Whisker_Topview\\\\Expect_1\\\\Mouse21\\\\200207_2\\\\2020-02-07T14.51.21.avi', 'F:\\\\DATA\\\\BehavioralVideos\\\\Whisker_Video\\\\Whisker_Topview\\\\Expect_1\\\\Mouse21\\\\200207_2\\\\2020-02-07T14.51.29.avi', 'F:\\\\DATA\\\\BehavioralVideos\\\\Whisker_Video\\\\Whisker_Topview\\\\Expect_1\\\\Mouse21\\\\200207_2\\\\2020-02-07T14.51.36.avi', 'F:\\\\DATA\\\\BehavioralVideos\\\\Whisker_Video\\\\Whisker_Topview\\\\Expect_1\\\\Mouse21\\\\200207_2\\\\2020-02-07T14.51.47.avi', 'F:\\\\DATA\\\\BehavioralVideos\\\\Whisker_Video\\\\Whisker_Topview\\\\Expect_1\\\\Mouse21\\\\200207_2\\\\2020-02-07T14.51.55.avi', 'F:\\\\DATA\\\\BehavioralVideos\\\\Whisker_Video\\\\Whisker_Topview\\\\Expect_1\\\\Mouse21\\\\200207_2\\\\2020-02-07T14.52.02.avi', 'F:\\\\DATA\\\\BehavioralVideos\\\\Whisker_Video\\\\Whisker_Topview\\\\Expect_1\\\\Mouse21\\\\200207_2\\\\2020-02-07T14.52.09.avi', 'F:\\\\DATA\\\\BehavioralVideos\\\\Whisker_Video\\\\Whisker_Topview\\\\Expect_1\\\\Mouse21\\\\200207_2\\\\2020-02-07T14.52.16.avi', 'F:\\\\DATA\\\\BehavioralVideos\\\\Whisker_Video\\\\Whisker_Topview\\\\Expect_1\\\\Mouse21\\\\200207_2\\\\2020-02-07T14.52.24.avi', 'F:\\\\DATA\\\\BehavioralVideos\\\\Whisker_Video\\\\Whisker_Topview\\\\Expect_1\\\\Mouse21\\\\200207_2\\\\2020-02-07T14.53.14.avi', 'F:\\\\DATA\\\\BehavioralVideos\\\\Whisker_Video\\\\Whisker_Topview\\\\Expect_1\\\\Mouse21\\\\200207_2\\\\2020-02-07T14.53.26.avi', 'F:\\\\DATA\\\\BehavioralVideos\\\\Whisker_Video\\\\Whisker_Topview\\\\Expect_1\\\\Mouse21\\\\200207_2\\\\2020-02-07T14.53.35.avi', 'F:\\\\DATA\\\\BehavioralVideos\\\\Whisker_Video\\\\Whisker_Topview\\\\Expect_1\\\\Mouse21\\\\200207_2\\\\2020-02-07T14.53.45.avi', 'F:\\\\DATA\\\\BehavioralVideos\\\\Whisker_Video\\\\Whisker_Topview\\\\Expect_1\\\\Mouse21\\\\200207_2\\\\2020-02-07T14.53.53.avi', 'F:\\\\DATA\\\\BehavioralVideos\\\\Whisker_Video\\\\Whisker_Topview\\\\Expect_1\\\\Mouse21\\\\200207_2\\\\2020-02-07T14.54.02.avi', 'F:\\\\DATA\\\\BehavioralVideos\\\\Whisker_Video\\\\Whisker_Topview\\\\Expect_1\\\\Mouse21\\\\200207_2\\\\2020-02-07T14.54.09.avi', 'F:\\\\DATA\\\\BehavioralVideos\\\\Whisker_Video\\\\Whisker_Topview\\\\Expect_1\\\\Mouse21\\\\200207_2\\\\2020-02-07T14.54.18.avi', 'F:\\\\DATA\\\\BehavioralVideos\\\\Whisker_Video\\\\Whisker_Topview\\\\Expect_1\\\\Mouse21\\\\200207_2\\\\2020-02-07T14.54.26.avi', 'F:\\\\DATA\\\\BehavioralVideos\\\\Whisker_Video\\\\Whisker_Topview\\\\Expect_1\\\\Mouse21\\\\200207_2\\\\2020-02-07T14.54.33.avi', 'F:\\\\DATA\\\\BehavioralVideos\\\\Whisker_Video\\\\Whisker_Topview\\\\Expect_1\\\\Mouse21\\\\200207_2\\\\2020-02-07T14.54.39.avi', 'F:\\\\DATA\\\\BehavioralVideos\\\\Whisker_Video\\\\Whisker_Topview\\\\Expect_1\\\\Mouse21\\\\200207_2\\\\2020-02-07T14.54.45.avi', 'F:\\\\DATA\\\\BehavioralVideos\\\\Whisker_Video\\\\Whisker_Topview\\\\Expect_1\\\\Mouse21\\\\200207_2\\\\2020-02-07T14.55.01.avi', 'F:\\\\DATA\\\\BehavioralVideos\\\\Whisker_Video\\\\Whisker_Topview\\\\Expect_1\\\\Mouse21\\\\200207_2\\\\2020-02-07T14.55.11.avi', 'F:\\\\DATA\\\\BehavioralVideos\\\\Whisker_Video\\\\Whisker_Topview\\\\Expect_1\\\\Mouse21\\\\200207_2\\\\2020-02-07T14.55.17.avi', 'F:\\\\DATA\\\\BehavioralVideos\\\\Whisker_Video\\\\Whisker_Topview\\\\Expect_1\\\\Mouse21\\\\200207_2\\\\2020-02-07T14.55.28.avi', 'F:\\\\DATA\\\\BehavioralVideos\\\\Whisker_Video\\\\Whisker_Topview\\\\Expect_1\\\\Mouse21\\\\200207_2\\\\2020-02-07T14.55.34.avi', 'F:\\\\DATA\\\\BehavioralVideos\\\\Whisker_Video\\\\Whisker_Topview\\\\Expect_1\\\\Mouse21\\\\200207_2\\\\2020-02-07T14.55.41.avi', 'F:\\\\DATA\\\\BehavioralVideos\\\\Whisker_Video\\\\Whisker_Topview\\\\Expect_1\\\\Mouse21\\\\200207_2\\\\2020-02-07T14.55.47.avi', 'F:\\\\DATA\\\\BehavioralVideos\\\\Whisker_Video\\\\Whisker_Topview\\\\Expect_1\\\\Mouse21\\\\200207_2\\\\2020-02-07T14.55.55.avi', 'F:\\\\DATA\\\\BehavioralVideos\\\\Whisker_Video\\\\Whisker_Topview\\\\Expect_1\\\\Mouse21\\\\200207_2\\\\2020-02-07T14.56.13.avi', 'F:\\\\DATA\\\\BehavioralVideos\\\\Whisker_Video\\\\Whisker_Topview\\\\Expect_1\\\\Mouse21\\\\200207_2\\\\2020-02-07T14.56.21.avi', 'F:\\\\DATA\\\\BehavioralVideos\\\\Whisker_Video\\\\Whisker_Topview\\\\Expect_1\\\\Mouse21\\\\200207_2\\\\2020-02-07T14.56.27.avi', 'F:\\\\DATA\\\\BehavioralVideos\\\\Whisker_Video\\\\Whisker_Topview\\\\Expect_1\\\\Mouse21\\\\200207_2\\\\2020-02-07T14.56.34.avi']\n",
      "Repaired 44 files, number of frames possible : between 0 and 38860\n",
      "\n",
      "[22001, 22501]\n"
     ]
    },
    {
     "name": "stderr",
     "output_type": "stream",
     "text": [
      "\n",
      "Writing video at F:\\DATA\\BehavioralVideos\\Whisker_Video\\Whisker_Topview\\Expect_1\\Mouse21\\200207_2\\2020-02-07T14.56.40.avi\n"
     ]
    },
    {
     "name": "stdout",
     "output_type": "stream",
     "text": [
      "about to write a video named 2020-02-07T14.56.40\n",
      "2020-02-07T14.56.40\n",
      "Using default extension (.avi) as none was specified\n",
      "Using default framerate (30 fps) as none was specified\n",
      "Using default codec (MJPG) as none was specified\n"
     ]
    },
    {
     "name": "stderr",
     "output_type": "stream",
     "text": [
      "0% [▓▓▓▓▓▓▓▓▓▓▓▓▓▓▓▓▓▓▓▓▓▓▓▓▓▓▓▓▓▓] 100% | ETA: 00:00:00\n",
      "Total time elapsed: 00:00:13\n"
     ]
    },
    {
     "name": "stdout",
     "output_type": "stream",
     "text": [
      "Video compression at F:\\DATA\\BehavioralVideos\\Whisker_Video\\Whisker_Topview\\Expect_1\\Mouse21\\200207_2\\2020-02-07T14.56.40.avi sucessfull\n",
      "\n",
      "['F:\\\\DATA\\\\BehavioralVideos\\\\Whisker_Video\\\\Whisker_Topview\\\\Expect_1\\\\Mouse21\\\\200207_2\\\\2020-02-07T14.48.51.avi', 'F:\\\\DATA\\\\BehavioralVideos\\\\Whisker_Video\\\\Whisker_Topview\\\\Expect_1\\\\Mouse21\\\\200207_2\\\\2020-02-07T14.48.55.avi', 'F:\\\\DATA\\\\BehavioralVideos\\\\Whisker_Video\\\\Whisker_Topview\\\\Expect_1\\\\Mouse21\\\\200207_2\\\\2020-02-07T14.49.02.avi', 'F:\\\\DATA\\\\BehavioralVideos\\\\Whisker_Video\\\\Whisker_Topview\\\\Expect_1\\\\Mouse21\\\\200207_2\\\\2020-02-07T14.49.15.avi', 'F:\\\\DATA\\\\BehavioralVideos\\\\Whisker_Video\\\\Whisker_Topview\\\\Expect_1\\\\Mouse21\\\\200207_2\\\\2020-02-07T14.49.45.avi', 'F:\\\\DATA\\\\BehavioralVideos\\\\Whisker_Video\\\\Whisker_Topview\\\\Expect_1\\\\Mouse21\\\\200207_2\\\\2020-02-07T14.49.57.avi', 'F:\\\\DATA\\\\BehavioralVideos\\\\Whisker_Video\\\\Whisker_Topview\\\\Expect_1\\\\Mouse21\\\\200207_2\\\\2020-02-07T14.50.04.avi', 'F:\\\\DATA\\\\BehavioralVideos\\\\Whisker_Video\\\\Whisker_Topview\\\\Expect_1\\\\Mouse21\\\\200207_2\\\\2020-02-07T14.50.11.avi', 'F:\\\\DATA\\\\BehavioralVideos\\\\Whisker_Video\\\\Whisker_Topview\\\\Expect_1\\\\Mouse21\\\\200207_2\\\\2020-02-07T14.50.19.avi', 'F:\\\\DATA\\\\BehavioralVideos\\\\Whisker_Video\\\\Whisker_Topview\\\\Expect_1\\\\Mouse21\\\\200207_2\\\\2020-02-07T14.50.27.avi', 'F:\\\\DATA\\\\BehavioralVideos\\\\Whisker_Video\\\\Whisker_Topview\\\\Expect_1\\\\Mouse21\\\\200207_2\\\\2020-02-07T14.50.51.avi', 'F:\\\\DATA\\\\BehavioralVideos\\\\Whisker_Video\\\\Whisker_Topview\\\\Expect_1\\\\Mouse21\\\\200207_2\\\\2020-02-07T14.51.21.avi', 'F:\\\\DATA\\\\BehavioralVideos\\\\Whisker_Video\\\\Whisker_Topview\\\\Expect_1\\\\Mouse21\\\\200207_2\\\\2020-02-07T14.51.29.avi', 'F:\\\\DATA\\\\BehavioralVideos\\\\Whisker_Video\\\\Whisker_Topview\\\\Expect_1\\\\Mouse21\\\\200207_2\\\\2020-02-07T14.51.36.avi', 'F:\\\\DATA\\\\BehavioralVideos\\\\Whisker_Video\\\\Whisker_Topview\\\\Expect_1\\\\Mouse21\\\\200207_2\\\\2020-02-07T14.51.47.avi', 'F:\\\\DATA\\\\BehavioralVideos\\\\Whisker_Video\\\\Whisker_Topview\\\\Expect_1\\\\Mouse21\\\\200207_2\\\\2020-02-07T14.51.55.avi', 'F:\\\\DATA\\\\BehavioralVideos\\\\Whisker_Video\\\\Whisker_Topview\\\\Expect_1\\\\Mouse21\\\\200207_2\\\\2020-02-07T14.52.02.avi', 'F:\\\\DATA\\\\BehavioralVideos\\\\Whisker_Video\\\\Whisker_Topview\\\\Expect_1\\\\Mouse21\\\\200207_2\\\\2020-02-07T14.52.09.avi', 'F:\\\\DATA\\\\BehavioralVideos\\\\Whisker_Video\\\\Whisker_Topview\\\\Expect_1\\\\Mouse21\\\\200207_2\\\\2020-02-07T14.52.16.avi', 'F:\\\\DATA\\\\BehavioralVideos\\\\Whisker_Video\\\\Whisker_Topview\\\\Expect_1\\\\Mouse21\\\\200207_2\\\\2020-02-07T14.52.24.avi', 'F:\\\\DATA\\\\BehavioralVideos\\\\Whisker_Video\\\\Whisker_Topview\\\\Expect_1\\\\Mouse21\\\\200207_2\\\\2020-02-07T14.53.14.avi', 'F:\\\\DATA\\\\BehavioralVideos\\\\Whisker_Video\\\\Whisker_Topview\\\\Expect_1\\\\Mouse21\\\\200207_2\\\\2020-02-07T14.53.26.avi', 'F:\\\\DATA\\\\BehavioralVideos\\\\Whisker_Video\\\\Whisker_Topview\\\\Expect_1\\\\Mouse21\\\\200207_2\\\\2020-02-07T14.53.35.avi', 'F:\\\\DATA\\\\BehavioralVideos\\\\Whisker_Video\\\\Whisker_Topview\\\\Expect_1\\\\Mouse21\\\\200207_2\\\\2020-02-07T14.53.45.avi', 'F:\\\\DATA\\\\BehavioralVideos\\\\Whisker_Video\\\\Whisker_Topview\\\\Expect_1\\\\Mouse21\\\\200207_2\\\\2020-02-07T14.53.53.avi', 'F:\\\\DATA\\\\BehavioralVideos\\\\Whisker_Video\\\\Whisker_Topview\\\\Expect_1\\\\Mouse21\\\\200207_2\\\\2020-02-07T14.54.02.avi', 'F:\\\\DATA\\\\BehavioralVideos\\\\Whisker_Video\\\\Whisker_Topview\\\\Expect_1\\\\Mouse21\\\\200207_2\\\\2020-02-07T14.54.09.avi', 'F:\\\\DATA\\\\BehavioralVideos\\\\Whisker_Video\\\\Whisker_Topview\\\\Expect_1\\\\Mouse21\\\\200207_2\\\\2020-02-07T14.54.18.avi', 'F:\\\\DATA\\\\BehavioralVideos\\\\Whisker_Video\\\\Whisker_Topview\\\\Expect_1\\\\Mouse21\\\\200207_2\\\\2020-02-07T14.54.26.avi', 'F:\\\\DATA\\\\BehavioralVideos\\\\Whisker_Video\\\\Whisker_Topview\\\\Expect_1\\\\Mouse21\\\\200207_2\\\\2020-02-07T14.54.33.avi', 'F:\\\\DATA\\\\BehavioralVideos\\\\Whisker_Video\\\\Whisker_Topview\\\\Expect_1\\\\Mouse21\\\\200207_2\\\\2020-02-07T14.54.39.avi', 'F:\\\\DATA\\\\BehavioralVideos\\\\Whisker_Video\\\\Whisker_Topview\\\\Expect_1\\\\Mouse21\\\\200207_2\\\\2020-02-07T14.54.45.avi', 'F:\\\\DATA\\\\BehavioralVideos\\\\Whisker_Video\\\\Whisker_Topview\\\\Expect_1\\\\Mouse21\\\\200207_2\\\\2020-02-07T14.55.01.avi', 'F:\\\\DATA\\\\BehavioralVideos\\\\Whisker_Video\\\\Whisker_Topview\\\\Expect_1\\\\Mouse21\\\\200207_2\\\\2020-02-07T14.55.11.avi', 'F:\\\\DATA\\\\BehavioralVideos\\\\Whisker_Video\\\\Whisker_Topview\\\\Expect_1\\\\Mouse21\\\\200207_2\\\\2020-02-07T14.55.17.avi', 'F:\\\\DATA\\\\BehavioralVideos\\\\Whisker_Video\\\\Whisker_Topview\\\\Expect_1\\\\Mouse21\\\\200207_2\\\\2020-02-07T14.55.28.avi', 'F:\\\\DATA\\\\BehavioralVideos\\\\Whisker_Video\\\\Whisker_Topview\\\\Expect_1\\\\Mouse21\\\\200207_2\\\\2020-02-07T14.55.34.avi', 'F:\\\\DATA\\\\BehavioralVideos\\\\Whisker_Video\\\\Whisker_Topview\\\\Expect_1\\\\Mouse21\\\\200207_2\\\\2020-02-07T14.55.41.avi', 'F:\\\\DATA\\\\BehavioralVideos\\\\Whisker_Video\\\\Whisker_Topview\\\\Expect_1\\\\Mouse21\\\\200207_2\\\\2020-02-07T14.55.47.avi', 'F:\\\\DATA\\\\BehavioralVideos\\\\Whisker_Video\\\\Whisker_Topview\\\\Expect_1\\\\Mouse21\\\\200207_2\\\\2020-02-07T14.55.55.avi', 'F:\\\\DATA\\\\BehavioralVideos\\\\Whisker_Video\\\\Whisker_Topview\\\\Expect_1\\\\Mouse21\\\\200207_2\\\\2020-02-07T14.56.13.avi', 'F:\\\\DATA\\\\BehavioralVideos\\\\Whisker_Video\\\\Whisker_Topview\\\\Expect_1\\\\Mouse21\\\\200207_2\\\\2020-02-07T14.56.21.avi', 'F:\\\\DATA\\\\BehavioralVideos\\\\Whisker_Video\\\\Whisker_Topview\\\\Expect_1\\\\Mouse21\\\\200207_2\\\\2020-02-07T14.56.27.avi', 'F:\\\\DATA\\\\BehavioralVideos\\\\Whisker_Video\\\\Whisker_Topview\\\\Expect_1\\\\Mouse21\\\\200207_2\\\\2020-02-07T14.56.34.avi', 'F:\\\\DATA\\\\BehavioralVideos\\\\Whisker_Video\\\\Whisker_Topview\\\\Expect_1\\\\Mouse21\\\\200207_2\\\\2020-02-07T14.56.40.avi']\n",
      "Repaired 45 files, number of frames possible : between 0 and 38860\n",
      "\n",
      "[22501, 23001]\n"
     ]
    },
    {
     "name": "stderr",
     "output_type": "stream",
     "text": [
      "\n",
      "Writing video at F:\\DATA\\BehavioralVideos\\Whisker_Video\\Whisker_Topview\\Expect_1\\Mouse21\\200207_2\\2020-02-07T14.56.48.avi\n"
     ]
    },
    {
     "name": "stdout",
     "output_type": "stream",
     "text": [
      "about to write a video named 2020-02-07T14.56.48\n",
      "2020-02-07T14.56.48\n",
      "Using default extension (.avi) as none was specified\n",
      "Using default framerate (30 fps) as none was specified\n",
      "Using default codec (MJPG) as none was specified\n"
     ]
    },
    {
     "name": "stderr",
     "output_type": "stream",
     "text": [
      "0% [▓▓▓▓▓▓▓▓▓▓▓▓▓▓▓▓▓▓▓▓▓▓▓▓▓▓▓▓▓▓] 100% | ETA: 00:00:00\n",
      "Total time elapsed: 00:00:13\n"
     ]
    },
    {
     "name": "stdout",
     "output_type": "stream",
     "text": [
      "Video compression at F:\\DATA\\BehavioralVideos\\Whisker_Video\\Whisker_Topview\\Expect_1\\Mouse21\\200207_2\\2020-02-07T14.56.48.avi sucessfull\n",
      "\n",
      "['F:\\\\DATA\\\\BehavioralVideos\\\\Whisker_Video\\\\Whisker_Topview\\\\Expect_1\\\\Mouse21\\\\200207_2\\\\2020-02-07T14.48.51.avi', 'F:\\\\DATA\\\\BehavioralVideos\\\\Whisker_Video\\\\Whisker_Topview\\\\Expect_1\\\\Mouse21\\\\200207_2\\\\2020-02-07T14.48.55.avi', 'F:\\\\DATA\\\\BehavioralVideos\\\\Whisker_Video\\\\Whisker_Topview\\\\Expect_1\\\\Mouse21\\\\200207_2\\\\2020-02-07T14.49.02.avi', 'F:\\\\DATA\\\\BehavioralVideos\\\\Whisker_Video\\\\Whisker_Topview\\\\Expect_1\\\\Mouse21\\\\200207_2\\\\2020-02-07T14.49.15.avi', 'F:\\\\DATA\\\\BehavioralVideos\\\\Whisker_Video\\\\Whisker_Topview\\\\Expect_1\\\\Mouse21\\\\200207_2\\\\2020-02-07T14.49.45.avi', 'F:\\\\DATA\\\\BehavioralVideos\\\\Whisker_Video\\\\Whisker_Topview\\\\Expect_1\\\\Mouse21\\\\200207_2\\\\2020-02-07T14.49.57.avi', 'F:\\\\DATA\\\\BehavioralVideos\\\\Whisker_Video\\\\Whisker_Topview\\\\Expect_1\\\\Mouse21\\\\200207_2\\\\2020-02-07T14.50.04.avi', 'F:\\\\DATA\\\\BehavioralVideos\\\\Whisker_Video\\\\Whisker_Topview\\\\Expect_1\\\\Mouse21\\\\200207_2\\\\2020-02-07T14.50.11.avi', 'F:\\\\DATA\\\\BehavioralVideos\\\\Whisker_Video\\\\Whisker_Topview\\\\Expect_1\\\\Mouse21\\\\200207_2\\\\2020-02-07T14.50.19.avi', 'F:\\\\DATA\\\\BehavioralVideos\\\\Whisker_Video\\\\Whisker_Topview\\\\Expect_1\\\\Mouse21\\\\200207_2\\\\2020-02-07T14.50.27.avi', 'F:\\\\DATA\\\\BehavioralVideos\\\\Whisker_Video\\\\Whisker_Topview\\\\Expect_1\\\\Mouse21\\\\200207_2\\\\2020-02-07T14.50.51.avi', 'F:\\\\DATA\\\\BehavioralVideos\\\\Whisker_Video\\\\Whisker_Topview\\\\Expect_1\\\\Mouse21\\\\200207_2\\\\2020-02-07T14.51.21.avi', 'F:\\\\DATA\\\\BehavioralVideos\\\\Whisker_Video\\\\Whisker_Topview\\\\Expect_1\\\\Mouse21\\\\200207_2\\\\2020-02-07T14.51.29.avi', 'F:\\\\DATA\\\\BehavioralVideos\\\\Whisker_Video\\\\Whisker_Topview\\\\Expect_1\\\\Mouse21\\\\200207_2\\\\2020-02-07T14.51.36.avi', 'F:\\\\DATA\\\\BehavioralVideos\\\\Whisker_Video\\\\Whisker_Topview\\\\Expect_1\\\\Mouse21\\\\200207_2\\\\2020-02-07T14.51.47.avi', 'F:\\\\DATA\\\\BehavioralVideos\\\\Whisker_Video\\\\Whisker_Topview\\\\Expect_1\\\\Mouse21\\\\200207_2\\\\2020-02-07T14.51.55.avi', 'F:\\\\DATA\\\\BehavioralVideos\\\\Whisker_Video\\\\Whisker_Topview\\\\Expect_1\\\\Mouse21\\\\200207_2\\\\2020-02-07T14.52.02.avi', 'F:\\\\DATA\\\\BehavioralVideos\\\\Whisker_Video\\\\Whisker_Topview\\\\Expect_1\\\\Mouse21\\\\200207_2\\\\2020-02-07T14.52.09.avi', 'F:\\\\DATA\\\\BehavioralVideos\\\\Whisker_Video\\\\Whisker_Topview\\\\Expect_1\\\\Mouse21\\\\200207_2\\\\2020-02-07T14.52.16.avi', 'F:\\\\DATA\\\\BehavioralVideos\\\\Whisker_Video\\\\Whisker_Topview\\\\Expect_1\\\\Mouse21\\\\200207_2\\\\2020-02-07T14.52.24.avi', 'F:\\\\DATA\\\\BehavioralVideos\\\\Whisker_Video\\\\Whisker_Topview\\\\Expect_1\\\\Mouse21\\\\200207_2\\\\2020-02-07T14.53.14.avi', 'F:\\\\DATA\\\\BehavioralVideos\\\\Whisker_Video\\\\Whisker_Topview\\\\Expect_1\\\\Mouse21\\\\200207_2\\\\2020-02-07T14.53.26.avi', 'F:\\\\DATA\\\\BehavioralVideos\\\\Whisker_Video\\\\Whisker_Topview\\\\Expect_1\\\\Mouse21\\\\200207_2\\\\2020-02-07T14.53.35.avi', 'F:\\\\DATA\\\\BehavioralVideos\\\\Whisker_Video\\\\Whisker_Topview\\\\Expect_1\\\\Mouse21\\\\200207_2\\\\2020-02-07T14.53.45.avi', 'F:\\\\DATA\\\\BehavioralVideos\\\\Whisker_Video\\\\Whisker_Topview\\\\Expect_1\\\\Mouse21\\\\200207_2\\\\2020-02-07T14.53.53.avi', 'F:\\\\DATA\\\\BehavioralVideos\\\\Whisker_Video\\\\Whisker_Topview\\\\Expect_1\\\\Mouse21\\\\200207_2\\\\2020-02-07T14.54.02.avi', 'F:\\\\DATA\\\\BehavioralVideos\\\\Whisker_Video\\\\Whisker_Topview\\\\Expect_1\\\\Mouse21\\\\200207_2\\\\2020-02-07T14.54.09.avi', 'F:\\\\DATA\\\\BehavioralVideos\\\\Whisker_Video\\\\Whisker_Topview\\\\Expect_1\\\\Mouse21\\\\200207_2\\\\2020-02-07T14.54.18.avi', 'F:\\\\DATA\\\\BehavioralVideos\\\\Whisker_Video\\\\Whisker_Topview\\\\Expect_1\\\\Mouse21\\\\200207_2\\\\2020-02-07T14.54.26.avi', 'F:\\\\DATA\\\\BehavioralVideos\\\\Whisker_Video\\\\Whisker_Topview\\\\Expect_1\\\\Mouse21\\\\200207_2\\\\2020-02-07T14.54.33.avi', 'F:\\\\DATA\\\\BehavioralVideos\\\\Whisker_Video\\\\Whisker_Topview\\\\Expect_1\\\\Mouse21\\\\200207_2\\\\2020-02-07T14.54.39.avi', 'F:\\\\DATA\\\\BehavioralVideos\\\\Whisker_Video\\\\Whisker_Topview\\\\Expect_1\\\\Mouse21\\\\200207_2\\\\2020-02-07T14.54.45.avi', 'F:\\\\DATA\\\\BehavioralVideos\\\\Whisker_Video\\\\Whisker_Topview\\\\Expect_1\\\\Mouse21\\\\200207_2\\\\2020-02-07T14.55.01.avi', 'F:\\\\DATA\\\\BehavioralVideos\\\\Whisker_Video\\\\Whisker_Topview\\\\Expect_1\\\\Mouse21\\\\200207_2\\\\2020-02-07T14.55.11.avi', 'F:\\\\DATA\\\\BehavioralVideos\\\\Whisker_Video\\\\Whisker_Topview\\\\Expect_1\\\\Mouse21\\\\200207_2\\\\2020-02-07T14.55.17.avi', 'F:\\\\DATA\\\\BehavioralVideos\\\\Whisker_Video\\\\Whisker_Topview\\\\Expect_1\\\\Mouse21\\\\200207_2\\\\2020-02-07T14.55.28.avi', 'F:\\\\DATA\\\\BehavioralVideos\\\\Whisker_Video\\\\Whisker_Topview\\\\Expect_1\\\\Mouse21\\\\200207_2\\\\2020-02-07T14.55.34.avi', 'F:\\\\DATA\\\\BehavioralVideos\\\\Whisker_Video\\\\Whisker_Topview\\\\Expect_1\\\\Mouse21\\\\200207_2\\\\2020-02-07T14.55.41.avi', 'F:\\\\DATA\\\\BehavioralVideos\\\\Whisker_Video\\\\Whisker_Topview\\\\Expect_1\\\\Mouse21\\\\200207_2\\\\2020-02-07T14.55.47.avi', 'F:\\\\DATA\\\\BehavioralVideos\\\\Whisker_Video\\\\Whisker_Topview\\\\Expect_1\\\\Mouse21\\\\200207_2\\\\2020-02-07T14.55.55.avi', 'F:\\\\DATA\\\\BehavioralVideos\\\\Whisker_Video\\\\Whisker_Topview\\\\Expect_1\\\\Mouse21\\\\200207_2\\\\2020-02-07T14.56.13.avi', 'F:\\\\DATA\\\\BehavioralVideos\\\\Whisker_Video\\\\Whisker_Topview\\\\Expect_1\\\\Mouse21\\\\200207_2\\\\2020-02-07T14.56.21.avi', 'F:\\\\DATA\\\\BehavioralVideos\\\\Whisker_Video\\\\Whisker_Topview\\\\Expect_1\\\\Mouse21\\\\200207_2\\\\2020-02-07T14.56.27.avi', 'F:\\\\DATA\\\\BehavioralVideos\\\\Whisker_Video\\\\Whisker_Topview\\\\Expect_1\\\\Mouse21\\\\200207_2\\\\2020-02-07T14.56.34.avi', 'F:\\\\DATA\\\\BehavioralVideos\\\\Whisker_Video\\\\Whisker_Topview\\\\Expect_1\\\\Mouse21\\\\200207_2\\\\2020-02-07T14.56.40.avi', 'F:\\\\DATA\\\\BehavioralVideos\\\\Whisker_Video\\\\Whisker_Topview\\\\Expect_1\\\\Mouse21\\\\200207_2\\\\2020-02-07T14.56.48.avi']\n",
      "Repaired 46 files, number of frames possible : between 0 and 38860\n",
      "\n",
      "[23001, 23501]\n"
     ]
    },
    {
     "name": "stderr",
     "output_type": "stream",
     "text": [
      "\n",
      "Writing video at F:\\DATA\\BehavioralVideos\\Whisker_Video\\Whisker_Topview\\Expect_1\\Mouse21\\200207_2\\2020-02-07T14.56.59.avi\n"
     ]
    },
    {
     "name": "stdout",
     "output_type": "stream",
     "text": [
      "about to write a video named 2020-02-07T14.56.59\n",
      "2020-02-07T14.56.59\n",
      "Using default extension (.avi) as none was specified\n",
      "Using default framerate (30 fps) as none was specified\n",
      "Using default codec (MJPG) as none was specified\n"
     ]
    },
    {
     "name": "stderr",
     "output_type": "stream",
     "text": [
      "0% [▓▓▓▓▓▓▓▓▓▓▓▓▓▓▓▓▓▓▓▓▓▓▓▓▓▓▓▓▓▓] 100% | ETA: 00:00:00\n",
      "Total time elapsed: 00:00:13\n"
     ]
    },
    {
     "name": "stdout",
     "output_type": "stream",
     "text": [
      "Video compression at F:\\DATA\\BehavioralVideos\\Whisker_Video\\Whisker_Topview\\Expect_1\\Mouse21\\200207_2\\2020-02-07T14.56.59.avi sucessfull\n",
      "\n",
      "['F:\\\\DATA\\\\BehavioralVideos\\\\Whisker_Video\\\\Whisker_Topview\\\\Expect_1\\\\Mouse21\\\\200207_2\\\\2020-02-07T14.48.51.avi', 'F:\\\\DATA\\\\BehavioralVideos\\\\Whisker_Video\\\\Whisker_Topview\\\\Expect_1\\\\Mouse21\\\\200207_2\\\\2020-02-07T14.48.55.avi', 'F:\\\\DATA\\\\BehavioralVideos\\\\Whisker_Video\\\\Whisker_Topview\\\\Expect_1\\\\Mouse21\\\\200207_2\\\\2020-02-07T14.49.02.avi', 'F:\\\\DATA\\\\BehavioralVideos\\\\Whisker_Video\\\\Whisker_Topview\\\\Expect_1\\\\Mouse21\\\\200207_2\\\\2020-02-07T14.49.15.avi', 'F:\\\\DATA\\\\BehavioralVideos\\\\Whisker_Video\\\\Whisker_Topview\\\\Expect_1\\\\Mouse21\\\\200207_2\\\\2020-02-07T14.49.45.avi', 'F:\\\\DATA\\\\BehavioralVideos\\\\Whisker_Video\\\\Whisker_Topview\\\\Expect_1\\\\Mouse21\\\\200207_2\\\\2020-02-07T14.49.57.avi', 'F:\\\\DATA\\\\BehavioralVideos\\\\Whisker_Video\\\\Whisker_Topview\\\\Expect_1\\\\Mouse21\\\\200207_2\\\\2020-02-07T14.50.04.avi', 'F:\\\\DATA\\\\BehavioralVideos\\\\Whisker_Video\\\\Whisker_Topview\\\\Expect_1\\\\Mouse21\\\\200207_2\\\\2020-02-07T14.50.11.avi', 'F:\\\\DATA\\\\BehavioralVideos\\\\Whisker_Video\\\\Whisker_Topview\\\\Expect_1\\\\Mouse21\\\\200207_2\\\\2020-02-07T14.50.19.avi', 'F:\\\\DATA\\\\BehavioralVideos\\\\Whisker_Video\\\\Whisker_Topview\\\\Expect_1\\\\Mouse21\\\\200207_2\\\\2020-02-07T14.50.27.avi', 'F:\\\\DATA\\\\BehavioralVideos\\\\Whisker_Video\\\\Whisker_Topview\\\\Expect_1\\\\Mouse21\\\\200207_2\\\\2020-02-07T14.50.51.avi', 'F:\\\\DATA\\\\BehavioralVideos\\\\Whisker_Video\\\\Whisker_Topview\\\\Expect_1\\\\Mouse21\\\\200207_2\\\\2020-02-07T14.51.21.avi', 'F:\\\\DATA\\\\BehavioralVideos\\\\Whisker_Video\\\\Whisker_Topview\\\\Expect_1\\\\Mouse21\\\\200207_2\\\\2020-02-07T14.51.29.avi', 'F:\\\\DATA\\\\BehavioralVideos\\\\Whisker_Video\\\\Whisker_Topview\\\\Expect_1\\\\Mouse21\\\\200207_2\\\\2020-02-07T14.51.36.avi', 'F:\\\\DATA\\\\BehavioralVideos\\\\Whisker_Video\\\\Whisker_Topview\\\\Expect_1\\\\Mouse21\\\\200207_2\\\\2020-02-07T14.51.47.avi', 'F:\\\\DATA\\\\BehavioralVideos\\\\Whisker_Video\\\\Whisker_Topview\\\\Expect_1\\\\Mouse21\\\\200207_2\\\\2020-02-07T14.51.55.avi', 'F:\\\\DATA\\\\BehavioralVideos\\\\Whisker_Video\\\\Whisker_Topview\\\\Expect_1\\\\Mouse21\\\\200207_2\\\\2020-02-07T14.52.02.avi', 'F:\\\\DATA\\\\BehavioralVideos\\\\Whisker_Video\\\\Whisker_Topview\\\\Expect_1\\\\Mouse21\\\\200207_2\\\\2020-02-07T14.52.09.avi', 'F:\\\\DATA\\\\BehavioralVideos\\\\Whisker_Video\\\\Whisker_Topview\\\\Expect_1\\\\Mouse21\\\\200207_2\\\\2020-02-07T14.52.16.avi', 'F:\\\\DATA\\\\BehavioralVideos\\\\Whisker_Video\\\\Whisker_Topview\\\\Expect_1\\\\Mouse21\\\\200207_2\\\\2020-02-07T14.52.24.avi', 'F:\\\\DATA\\\\BehavioralVideos\\\\Whisker_Video\\\\Whisker_Topview\\\\Expect_1\\\\Mouse21\\\\200207_2\\\\2020-02-07T14.53.14.avi', 'F:\\\\DATA\\\\BehavioralVideos\\\\Whisker_Video\\\\Whisker_Topview\\\\Expect_1\\\\Mouse21\\\\200207_2\\\\2020-02-07T14.53.26.avi', 'F:\\\\DATA\\\\BehavioralVideos\\\\Whisker_Video\\\\Whisker_Topview\\\\Expect_1\\\\Mouse21\\\\200207_2\\\\2020-02-07T14.53.35.avi', 'F:\\\\DATA\\\\BehavioralVideos\\\\Whisker_Video\\\\Whisker_Topview\\\\Expect_1\\\\Mouse21\\\\200207_2\\\\2020-02-07T14.53.45.avi', 'F:\\\\DATA\\\\BehavioralVideos\\\\Whisker_Video\\\\Whisker_Topview\\\\Expect_1\\\\Mouse21\\\\200207_2\\\\2020-02-07T14.53.53.avi', 'F:\\\\DATA\\\\BehavioralVideos\\\\Whisker_Video\\\\Whisker_Topview\\\\Expect_1\\\\Mouse21\\\\200207_2\\\\2020-02-07T14.54.02.avi', 'F:\\\\DATA\\\\BehavioralVideos\\\\Whisker_Video\\\\Whisker_Topview\\\\Expect_1\\\\Mouse21\\\\200207_2\\\\2020-02-07T14.54.09.avi', 'F:\\\\DATA\\\\BehavioralVideos\\\\Whisker_Video\\\\Whisker_Topview\\\\Expect_1\\\\Mouse21\\\\200207_2\\\\2020-02-07T14.54.18.avi', 'F:\\\\DATA\\\\BehavioralVideos\\\\Whisker_Video\\\\Whisker_Topview\\\\Expect_1\\\\Mouse21\\\\200207_2\\\\2020-02-07T14.54.26.avi', 'F:\\\\DATA\\\\BehavioralVideos\\\\Whisker_Video\\\\Whisker_Topview\\\\Expect_1\\\\Mouse21\\\\200207_2\\\\2020-02-07T14.54.33.avi', 'F:\\\\DATA\\\\BehavioralVideos\\\\Whisker_Video\\\\Whisker_Topview\\\\Expect_1\\\\Mouse21\\\\200207_2\\\\2020-02-07T14.54.39.avi', 'F:\\\\DATA\\\\BehavioralVideos\\\\Whisker_Video\\\\Whisker_Topview\\\\Expect_1\\\\Mouse21\\\\200207_2\\\\2020-02-07T14.54.45.avi', 'F:\\\\DATA\\\\BehavioralVideos\\\\Whisker_Video\\\\Whisker_Topview\\\\Expect_1\\\\Mouse21\\\\200207_2\\\\2020-02-07T14.55.01.avi', 'F:\\\\DATA\\\\BehavioralVideos\\\\Whisker_Video\\\\Whisker_Topview\\\\Expect_1\\\\Mouse21\\\\200207_2\\\\2020-02-07T14.55.11.avi', 'F:\\\\DATA\\\\BehavioralVideos\\\\Whisker_Video\\\\Whisker_Topview\\\\Expect_1\\\\Mouse21\\\\200207_2\\\\2020-02-07T14.55.17.avi', 'F:\\\\DATA\\\\BehavioralVideos\\\\Whisker_Video\\\\Whisker_Topview\\\\Expect_1\\\\Mouse21\\\\200207_2\\\\2020-02-07T14.55.28.avi', 'F:\\\\DATA\\\\BehavioralVideos\\\\Whisker_Video\\\\Whisker_Topview\\\\Expect_1\\\\Mouse21\\\\200207_2\\\\2020-02-07T14.55.34.avi', 'F:\\\\DATA\\\\BehavioralVideos\\\\Whisker_Video\\\\Whisker_Topview\\\\Expect_1\\\\Mouse21\\\\200207_2\\\\2020-02-07T14.55.41.avi', 'F:\\\\DATA\\\\BehavioralVideos\\\\Whisker_Video\\\\Whisker_Topview\\\\Expect_1\\\\Mouse21\\\\200207_2\\\\2020-02-07T14.55.47.avi', 'F:\\\\DATA\\\\BehavioralVideos\\\\Whisker_Video\\\\Whisker_Topview\\\\Expect_1\\\\Mouse21\\\\200207_2\\\\2020-02-07T14.55.55.avi', 'F:\\\\DATA\\\\BehavioralVideos\\\\Whisker_Video\\\\Whisker_Topview\\\\Expect_1\\\\Mouse21\\\\200207_2\\\\2020-02-07T14.56.13.avi', 'F:\\\\DATA\\\\BehavioralVideos\\\\Whisker_Video\\\\Whisker_Topview\\\\Expect_1\\\\Mouse21\\\\200207_2\\\\2020-02-07T14.56.21.avi', 'F:\\\\DATA\\\\BehavioralVideos\\\\Whisker_Video\\\\Whisker_Topview\\\\Expect_1\\\\Mouse21\\\\200207_2\\\\2020-02-07T14.56.27.avi', 'F:\\\\DATA\\\\BehavioralVideos\\\\Whisker_Video\\\\Whisker_Topview\\\\Expect_1\\\\Mouse21\\\\200207_2\\\\2020-02-07T14.56.34.avi', 'F:\\\\DATA\\\\BehavioralVideos\\\\Whisker_Video\\\\Whisker_Topview\\\\Expect_1\\\\Mouse21\\\\200207_2\\\\2020-02-07T14.56.40.avi', 'F:\\\\DATA\\\\BehavioralVideos\\\\Whisker_Video\\\\Whisker_Topview\\\\Expect_1\\\\Mouse21\\\\200207_2\\\\2020-02-07T14.56.48.avi', 'F:\\\\DATA\\\\BehavioralVideos\\\\Whisker_Video\\\\Whisker_Topview\\\\Expect_1\\\\Mouse21\\\\200207_2\\\\2020-02-07T14.56.59.avi']\n",
      "Repaired 47 files, number of frames possible : between 0 and 38860\n",
      "\n",
      "[23501, 24001]\n"
     ]
    },
    {
     "name": "stderr",
     "output_type": "stream",
     "text": [
      "\n",
      "Writing video at F:\\DATA\\BehavioralVideos\\Whisker_Video\\Whisker_Topview\\Expect_1\\Mouse21\\200207_2\\2020-02-07T14.57.05.avi\n"
     ]
    },
    {
     "name": "stdout",
     "output_type": "stream",
     "text": [
      "about to write a video named 2020-02-07T14.57.05\n",
      "2020-02-07T14.57.05\n",
      "Using default extension (.avi) as none was specified\n",
      "Using default framerate (30 fps) as none was specified\n",
      "Using default codec (MJPG) as none was specified\n"
     ]
    },
    {
     "name": "stderr",
     "output_type": "stream",
     "text": [
      "0% [▓▓▓▓▓▓▓▓▓▓▓▓▓▓▓▓▓▓▓▓▓▓▓▓▓▓▓▓▓▓] 100% | ETA: 00:00:00\n",
      "Total time elapsed: 00:00:13\n"
     ]
    },
    {
     "name": "stdout",
     "output_type": "stream",
     "text": [
      "Video compression at F:\\DATA\\BehavioralVideos\\Whisker_Video\\Whisker_Topview\\Expect_1\\Mouse21\\200207_2\\2020-02-07T14.57.05.avi sucessfull\n",
      "\n",
      "['F:\\\\DATA\\\\BehavioralVideos\\\\Whisker_Video\\\\Whisker_Topview\\\\Expect_1\\\\Mouse21\\\\200207_2\\\\2020-02-07T14.48.51.avi', 'F:\\\\DATA\\\\BehavioralVideos\\\\Whisker_Video\\\\Whisker_Topview\\\\Expect_1\\\\Mouse21\\\\200207_2\\\\2020-02-07T14.48.55.avi', 'F:\\\\DATA\\\\BehavioralVideos\\\\Whisker_Video\\\\Whisker_Topview\\\\Expect_1\\\\Mouse21\\\\200207_2\\\\2020-02-07T14.49.02.avi', 'F:\\\\DATA\\\\BehavioralVideos\\\\Whisker_Video\\\\Whisker_Topview\\\\Expect_1\\\\Mouse21\\\\200207_2\\\\2020-02-07T14.49.15.avi', 'F:\\\\DATA\\\\BehavioralVideos\\\\Whisker_Video\\\\Whisker_Topview\\\\Expect_1\\\\Mouse21\\\\200207_2\\\\2020-02-07T14.49.45.avi', 'F:\\\\DATA\\\\BehavioralVideos\\\\Whisker_Video\\\\Whisker_Topview\\\\Expect_1\\\\Mouse21\\\\200207_2\\\\2020-02-07T14.49.57.avi', 'F:\\\\DATA\\\\BehavioralVideos\\\\Whisker_Video\\\\Whisker_Topview\\\\Expect_1\\\\Mouse21\\\\200207_2\\\\2020-02-07T14.50.04.avi', 'F:\\\\DATA\\\\BehavioralVideos\\\\Whisker_Video\\\\Whisker_Topview\\\\Expect_1\\\\Mouse21\\\\200207_2\\\\2020-02-07T14.50.11.avi', 'F:\\\\DATA\\\\BehavioralVideos\\\\Whisker_Video\\\\Whisker_Topview\\\\Expect_1\\\\Mouse21\\\\200207_2\\\\2020-02-07T14.50.19.avi', 'F:\\\\DATA\\\\BehavioralVideos\\\\Whisker_Video\\\\Whisker_Topview\\\\Expect_1\\\\Mouse21\\\\200207_2\\\\2020-02-07T14.50.27.avi', 'F:\\\\DATA\\\\BehavioralVideos\\\\Whisker_Video\\\\Whisker_Topview\\\\Expect_1\\\\Mouse21\\\\200207_2\\\\2020-02-07T14.50.51.avi', 'F:\\\\DATA\\\\BehavioralVideos\\\\Whisker_Video\\\\Whisker_Topview\\\\Expect_1\\\\Mouse21\\\\200207_2\\\\2020-02-07T14.51.21.avi', 'F:\\\\DATA\\\\BehavioralVideos\\\\Whisker_Video\\\\Whisker_Topview\\\\Expect_1\\\\Mouse21\\\\200207_2\\\\2020-02-07T14.51.29.avi', 'F:\\\\DATA\\\\BehavioralVideos\\\\Whisker_Video\\\\Whisker_Topview\\\\Expect_1\\\\Mouse21\\\\200207_2\\\\2020-02-07T14.51.36.avi', 'F:\\\\DATA\\\\BehavioralVideos\\\\Whisker_Video\\\\Whisker_Topview\\\\Expect_1\\\\Mouse21\\\\200207_2\\\\2020-02-07T14.51.47.avi', 'F:\\\\DATA\\\\BehavioralVideos\\\\Whisker_Video\\\\Whisker_Topview\\\\Expect_1\\\\Mouse21\\\\200207_2\\\\2020-02-07T14.51.55.avi', 'F:\\\\DATA\\\\BehavioralVideos\\\\Whisker_Video\\\\Whisker_Topview\\\\Expect_1\\\\Mouse21\\\\200207_2\\\\2020-02-07T14.52.02.avi', 'F:\\\\DATA\\\\BehavioralVideos\\\\Whisker_Video\\\\Whisker_Topview\\\\Expect_1\\\\Mouse21\\\\200207_2\\\\2020-02-07T14.52.09.avi', 'F:\\\\DATA\\\\BehavioralVideos\\\\Whisker_Video\\\\Whisker_Topview\\\\Expect_1\\\\Mouse21\\\\200207_2\\\\2020-02-07T14.52.16.avi', 'F:\\\\DATA\\\\BehavioralVideos\\\\Whisker_Video\\\\Whisker_Topview\\\\Expect_1\\\\Mouse21\\\\200207_2\\\\2020-02-07T14.52.24.avi', 'F:\\\\DATA\\\\BehavioralVideos\\\\Whisker_Video\\\\Whisker_Topview\\\\Expect_1\\\\Mouse21\\\\200207_2\\\\2020-02-07T14.53.14.avi', 'F:\\\\DATA\\\\BehavioralVideos\\\\Whisker_Video\\\\Whisker_Topview\\\\Expect_1\\\\Mouse21\\\\200207_2\\\\2020-02-07T14.53.26.avi', 'F:\\\\DATA\\\\BehavioralVideos\\\\Whisker_Video\\\\Whisker_Topview\\\\Expect_1\\\\Mouse21\\\\200207_2\\\\2020-02-07T14.53.35.avi', 'F:\\\\DATA\\\\BehavioralVideos\\\\Whisker_Video\\\\Whisker_Topview\\\\Expect_1\\\\Mouse21\\\\200207_2\\\\2020-02-07T14.53.45.avi', 'F:\\\\DATA\\\\BehavioralVideos\\\\Whisker_Video\\\\Whisker_Topview\\\\Expect_1\\\\Mouse21\\\\200207_2\\\\2020-02-07T14.53.53.avi', 'F:\\\\DATA\\\\BehavioralVideos\\\\Whisker_Video\\\\Whisker_Topview\\\\Expect_1\\\\Mouse21\\\\200207_2\\\\2020-02-07T14.54.02.avi', 'F:\\\\DATA\\\\BehavioralVideos\\\\Whisker_Video\\\\Whisker_Topview\\\\Expect_1\\\\Mouse21\\\\200207_2\\\\2020-02-07T14.54.09.avi', 'F:\\\\DATA\\\\BehavioralVideos\\\\Whisker_Video\\\\Whisker_Topview\\\\Expect_1\\\\Mouse21\\\\200207_2\\\\2020-02-07T14.54.18.avi', 'F:\\\\DATA\\\\BehavioralVideos\\\\Whisker_Video\\\\Whisker_Topview\\\\Expect_1\\\\Mouse21\\\\200207_2\\\\2020-02-07T14.54.26.avi', 'F:\\\\DATA\\\\BehavioralVideos\\\\Whisker_Video\\\\Whisker_Topview\\\\Expect_1\\\\Mouse21\\\\200207_2\\\\2020-02-07T14.54.33.avi', 'F:\\\\DATA\\\\BehavioralVideos\\\\Whisker_Video\\\\Whisker_Topview\\\\Expect_1\\\\Mouse21\\\\200207_2\\\\2020-02-07T14.54.39.avi', 'F:\\\\DATA\\\\BehavioralVideos\\\\Whisker_Video\\\\Whisker_Topview\\\\Expect_1\\\\Mouse21\\\\200207_2\\\\2020-02-07T14.54.45.avi', 'F:\\\\DATA\\\\BehavioralVideos\\\\Whisker_Video\\\\Whisker_Topview\\\\Expect_1\\\\Mouse21\\\\200207_2\\\\2020-02-07T14.55.01.avi', 'F:\\\\DATA\\\\BehavioralVideos\\\\Whisker_Video\\\\Whisker_Topview\\\\Expect_1\\\\Mouse21\\\\200207_2\\\\2020-02-07T14.55.11.avi', 'F:\\\\DATA\\\\BehavioralVideos\\\\Whisker_Video\\\\Whisker_Topview\\\\Expect_1\\\\Mouse21\\\\200207_2\\\\2020-02-07T14.55.17.avi', 'F:\\\\DATA\\\\BehavioralVideos\\\\Whisker_Video\\\\Whisker_Topview\\\\Expect_1\\\\Mouse21\\\\200207_2\\\\2020-02-07T14.55.28.avi', 'F:\\\\DATA\\\\BehavioralVideos\\\\Whisker_Video\\\\Whisker_Topview\\\\Expect_1\\\\Mouse21\\\\200207_2\\\\2020-02-07T14.55.34.avi', 'F:\\\\DATA\\\\BehavioralVideos\\\\Whisker_Video\\\\Whisker_Topview\\\\Expect_1\\\\Mouse21\\\\200207_2\\\\2020-02-07T14.55.41.avi', 'F:\\\\DATA\\\\BehavioralVideos\\\\Whisker_Video\\\\Whisker_Topview\\\\Expect_1\\\\Mouse21\\\\200207_2\\\\2020-02-07T14.55.47.avi', 'F:\\\\DATA\\\\BehavioralVideos\\\\Whisker_Video\\\\Whisker_Topview\\\\Expect_1\\\\Mouse21\\\\200207_2\\\\2020-02-07T14.55.55.avi', 'F:\\\\DATA\\\\BehavioralVideos\\\\Whisker_Video\\\\Whisker_Topview\\\\Expect_1\\\\Mouse21\\\\200207_2\\\\2020-02-07T14.56.13.avi', 'F:\\\\DATA\\\\BehavioralVideos\\\\Whisker_Video\\\\Whisker_Topview\\\\Expect_1\\\\Mouse21\\\\200207_2\\\\2020-02-07T14.56.21.avi', 'F:\\\\DATA\\\\BehavioralVideos\\\\Whisker_Video\\\\Whisker_Topview\\\\Expect_1\\\\Mouse21\\\\200207_2\\\\2020-02-07T14.56.27.avi', 'F:\\\\DATA\\\\BehavioralVideos\\\\Whisker_Video\\\\Whisker_Topview\\\\Expect_1\\\\Mouse21\\\\200207_2\\\\2020-02-07T14.56.34.avi', 'F:\\\\DATA\\\\BehavioralVideos\\\\Whisker_Video\\\\Whisker_Topview\\\\Expect_1\\\\Mouse21\\\\200207_2\\\\2020-02-07T14.56.40.avi', 'F:\\\\DATA\\\\BehavioralVideos\\\\Whisker_Video\\\\Whisker_Topview\\\\Expect_1\\\\Mouse21\\\\200207_2\\\\2020-02-07T14.56.48.avi', 'F:\\\\DATA\\\\BehavioralVideos\\\\Whisker_Video\\\\Whisker_Topview\\\\Expect_1\\\\Mouse21\\\\200207_2\\\\2020-02-07T14.56.59.avi', 'F:\\\\DATA\\\\BehavioralVideos\\\\Whisker_Video\\\\Whisker_Topview\\\\Expect_1\\\\Mouse21\\\\200207_2\\\\2020-02-07T14.57.05.avi']\n",
      "Repaired 48 files, number of frames possible : between 0 and 38860\n",
      "\n",
      "[24001, 24501]\n"
     ]
    },
    {
     "name": "stderr",
     "output_type": "stream",
     "text": [
      "\n",
      "Writing video at F:\\DATA\\BehavioralVideos\\Whisker_Video\\Whisker_Topview\\Expect_1\\Mouse21\\200207_2\\2020-02-07T14.57.14.avi\n"
     ]
    },
    {
     "name": "stdout",
     "output_type": "stream",
     "text": [
      "about to write a video named 2020-02-07T14.57.14\n",
      "2020-02-07T14.57.14\n",
      "Using default extension (.avi) as none was specified\n",
      "Using default framerate (30 fps) as none was specified\n",
      "Using default codec (MJPG) as none was specified\n"
     ]
    },
    {
     "name": "stderr",
     "output_type": "stream",
     "text": [
      "0% [▓▓▓▓▓▓▓▓▓▓▓▓▓▓▓▓▓▓▓▓▓▓▓▓▓▓▓▓▓▓] 100% | ETA: 00:00:00\n",
      "Total time elapsed: 00:00:13\n"
     ]
    },
    {
     "name": "stdout",
     "output_type": "stream",
     "text": [
      "Video compression at F:\\DATA\\BehavioralVideos\\Whisker_Video\\Whisker_Topview\\Expect_1\\Mouse21\\200207_2\\2020-02-07T14.57.14.avi sucessfull\n",
      "\n",
      "['F:\\\\DATA\\\\BehavioralVideos\\\\Whisker_Video\\\\Whisker_Topview\\\\Expect_1\\\\Mouse21\\\\200207_2\\\\2020-02-07T14.48.51.avi', 'F:\\\\DATA\\\\BehavioralVideos\\\\Whisker_Video\\\\Whisker_Topview\\\\Expect_1\\\\Mouse21\\\\200207_2\\\\2020-02-07T14.48.55.avi', 'F:\\\\DATA\\\\BehavioralVideos\\\\Whisker_Video\\\\Whisker_Topview\\\\Expect_1\\\\Mouse21\\\\200207_2\\\\2020-02-07T14.49.02.avi', 'F:\\\\DATA\\\\BehavioralVideos\\\\Whisker_Video\\\\Whisker_Topview\\\\Expect_1\\\\Mouse21\\\\200207_2\\\\2020-02-07T14.49.15.avi', 'F:\\\\DATA\\\\BehavioralVideos\\\\Whisker_Video\\\\Whisker_Topview\\\\Expect_1\\\\Mouse21\\\\200207_2\\\\2020-02-07T14.49.45.avi', 'F:\\\\DATA\\\\BehavioralVideos\\\\Whisker_Video\\\\Whisker_Topview\\\\Expect_1\\\\Mouse21\\\\200207_2\\\\2020-02-07T14.49.57.avi', 'F:\\\\DATA\\\\BehavioralVideos\\\\Whisker_Video\\\\Whisker_Topview\\\\Expect_1\\\\Mouse21\\\\200207_2\\\\2020-02-07T14.50.04.avi', 'F:\\\\DATA\\\\BehavioralVideos\\\\Whisker_Video\\\\Whisker_Topview\\\\Expect_1\\\\Mouse21\\\\200207_2\\\\2020-02-07T14.50.11.avi', 'F:\\\\DATA\\\\BehavioralVideos\\\\Whisker_Video\\\\Whisker_Topview\\\\Expect_1\\\\Mouse21\\\\200207_2\\\\2020-02-07T14.50.19.avi', 'F:\\\\DATA\\\\BehavioralVideos\\\\Whisker_Video\\\\Whisker_Topview\\\\Expect_1\\\\Mouse21\\\\200207_2\\\\2020-02-07T14.50.27.avi', 'F:\\\\DATA\\\\BehavioralVideos\\\\Whisker_Video\\\\Whisker_Topview\\\\Expect_1\\\\Mouse21\\\\200207_2\\\\2020-02-07T14.50.51.avi', 'F:\\\\DATA\\\\BehavioralVideos\\\\Whisker_Video\\\\Whisker_Topview\\\\Expect_1\\\\Mouse21\\\\200207_2\\\\2020-02-07T14.51.21.avi', 'F:\\\\DATA\\\\BehavioralVideos\\\\Whisker_Video\\\\Whisker_Topview\\\\Expect_1\\\\Mouse21\\\\200207_2\\\\2020-02-07T14.51.29.avi', 'F:\\\\DATA\\\\BehavioralVideos\\\\Whisker_Video\\\\Whisker_Topview\\\\Expect_1\\\\Mouse21\\\\200207_2\\\\2020-02-07T14.51.36.avi', 'F:\\\\DATA\\\\BehavioralVideos\\\\Whisker_Video\\\\Whisker_Topview\\\\Expect_1\\\\Mouse21\\\\200207_2\\\\2020-02-07T14.51.47.avi', 'F:\\\\DATA\\\\BehavioralVideos\\\\Whisker_Video\\\\Whisker_Topview\\\\Expect_1\\\\Mouse21\\\\200207_2\\\\2020-02-07T14.51.55.avi', 'F:\\\\DATA\\\\BehavioralVideos\\\\Whisker_Video\\\\Whisker_Topview\\\\Expect_1\\\\Mouse21\\\\200207_2\\\\2020-02-07T14.52.02.avi', 'F:\\\\DATA\\\\BehavioralVideos\\\\Whisker_Video\\\\Whisker_Topview\\\\Expect_1\\\\Mouse21\\\\200207_2\\\\2020-02-07T14.52.09.avi', 'F:\\\\DATA\\\\BehavioralVideos\\\\Whisker_Video\\\\Whisker_Topview\\\\Expect_1\\\\Mouse21\\\\200207_2\\\\2020-02-07T14.52.16.avi', 'F:\\\\DATA\\\\BehavioralVideos\\\\Whisker_Video\\\\Whisker_Topview\\\\Expect_1\\\\Mouse21\\\\200207_2\\\\2020-02-07T14.52.24.avi', 'F:\\\\DATA\\\\BehavioralVideos\\\\Whisker_Video\\\\Whisker_Topview\\\\Expect_1\\\\Mouse21\\\\200207_2\\\\2020-02-07T14.53.14.avi', 'F:\\\\DATA\\\\BehavioralVideos\\\\Whisker_Video\\\\Whisker_Topview\\\\Expect_1\\\\Mouse21\\\\200207_2\\\\2020-02-07T14.53.26.avi', 'F:\\\\DATA\\\\BehavioralVideos\\\\Whisker_Video\\\\Whisker_Topview\\\\Expect_1\\\\Mouse21\\\\200207_2\\\\2020-02-07T14.53.35.avi', 'F:\\\\DATA\\\\BehavioralVideos\\\\Whisker_Video\\\\Whisker_Topview\\\\Expect_1\\\\Mouse21\\\\200207_2\\\\2020-02-07T14.53.45.avi', 'F:\\\\DATA\\\\BehavioralVideos\\\\Whisker_Video\\\\Whisker_Topview\\\\Expect_1\\\\Mouse21\\\\200207_2\\\\2020-02-07T14.53.53.avi', 'F:\\\\DATA\\\\BehavioralVideos\\\\Whisker_Video\\\\Whisker_Topview\\\\Expect_1\\\\Mouse21\\\\200207_2\\\\2020-02-07T14.54.02.avi', 'F:\\\\DATA\\\\BehavioralVideos\\\\Whisker_Video\\\\Whisker_Topview\\\\Expect_1\\\\Mouse21\\\\200207_2\\\\2020-02-07T14.54.09.avi', 'F:\\\\DATA\\\\BehavioralVideos\\\\Whisker_Video\\\\Whisker_Topview\\\\Expect_1\\\\Mouse21\\\\200207_2\\\\2020-02-07T14.54.18.avi', 'F:\\\\DATA\\\\BehavioralVideos\\\\Whisker_Video\\\\Whisker_Topview\\\\Expect_1\\\\Mouse21\\\\200207_2\\\\2020-02-07T14.54.26.avi', 'F:\\\\DATA\\\\BehavioralVideos\\\\Whisker_Video\\\\Whisker_Topview\\\\Expect_1\\\\Mouse21\\\\200207_2\\\\2020-02-07T14.54.33.avi', 'F:\\\\DATA\\\\BehavioralVideos\\\\Whisker_Video\\\\Whisker_Topview\\\\Expect_1\\\\Mouse21\\\\200207_2\\\\2020-02-07T14.54.39.avi', 'F:\\\\DATA\\\\BehavioralVideos\\\\Whisker_Video\\\\Whisker_Topview\\\\Expect_1\\\\Mouse21\\\\200207_2\\\\2020-02-07T14.54.45.avi', 'F:\\\\DATA\\\\BehavioralVideos\\\\Whisker_Video\\\\Whisker_Topview\\\\Expect_1\\\\Mouse21\\\\200207_2\\\\2020-02-07T14.55.01.avi', 'F:\\\\DATA\\\\BehavioralVideos\\\\Whisker_Video\\\\Whisker_Topview\\\\Expect_1\\\\Mouse21\\\\200207_2\\\\2020-02-07T14.55.11.avi', 'F:\\\\DATA\\\\BehavioralVideos\\\\Whisker_Video\\\\Whisker_Topview\\\\Expect_1\\\\Mouse21\\\\200207_2\\\\2020-02-07T14.55.17.avi', 'F:\\\\DATA\\\\BehavioralVideos\\\\Whisker_Video\\\\Whisker_Topview\\\\Expect_1\\\\Mouse21\\\\200207_2\\\\2020-02-07T14.55.28.avi', 'F:\\\\DATA\\\\BehavioralVideos\\\\Whisker_Video\\\\Whisker_Topview\\\\Expect_1\\\\Mouse21\\\\200207_2\\\\2020-02-07T14.55.34.avi', 'F:\\\\DATA\\\\BehavioralVideos\\\\Whisker_Video\\\\Whisker_Topview\\\\Expect_1\\\\Mouse21\\\\200207_2\\\\2020-02-07T14.55.41.avi', 'F:\\\\DATA\\\\BehavioralVideos\\\\Whisker_Video\\\\Whisker_Topview\\\\Expect_1\\\\Mouse21\\\\200207_2\\\\2020-02-07T14.55.47.avi', 'F:\\\\DATA\\\\BehavioralVideos\\\\Whisker_Video\\\\Whisker_Topview\\\\Expect_1\\\\Mouse21\\\\200207_2\\\\2020-02-07T14.55.55.avi', 'F:\\\\DATA\\\\BehavioralVideos\\\\Whisker_Video\\\\Whisker_Topview\\\\Expect_1\\\\Mouse21\\\\200207_2\\\\2020-02-07T14.56.13.avi', 'F:\\\\DATA\\\\BehavioralVideos\\\\Whisker_Video\\\\Whisker_Topview\\\\Expect_1\\\\Mouse21\\\\200207_2\\\\2020-02-07T14.56.21.avi', 'F:\\\\DATA\\\\BehavioralVideos\\\\Whisker_Video\\\\Whisker_Topview\\\\Expect_1\\\\Mouse21\\\\200207_2\\\\2020-02-07T14.56.27.avi', 'F:\\\\DATA\\\\BehavioralVideos\\\\Whisker_Video\\\\Whisker_Topview\\\\Expect_1\\\\Mouse21\\\\200207_2\\\\2020-02-07T14.56.34.avi', 'F:\\\\DATA\\\\BehavioralVideos\\\\Whisker_Video\\\\Whisker_Topview\\\\Expect_1\\\\Mouse21\\\\200207_2\\\\2020-02-07T14.56.40.avi', 'F:\\\\DATA\\\\BehavioralVideos\\\\Whisker_Video\\\\Whisker_Topview\\\\Expect_1\\\\Mouse21\\\\200207_2\\\\2020-02-07T14.56.48.avi', 'F:\\\\DATA\\\\BehavioralVideos\\\\Whisker_Video\\\\Whisker_Topview\\\\Expect_1\\\\Mouse21\\\\200207_2\\\\2020-02-07T14.56.59.avi', 'F:\\\\DATA\\\\BehavioralVideos\\\\Whisker_Video\\\\Whisker_Topview\\\\Expect_1\\\\Mouse21\\\\200207_2\\\\2020-02-07T14.57.05.avi', 'F:\\\\DATA\\\\BehavioralVideos\\\\Whisker_Video\\\\Whisker_Topview\\\\Expect_1\\\\Mouse21\\\\200207_2\\\\2020-02-07T14.57.14.avi']\n",
      "Repaired 49 files, number of frames possible : between 0 and 38860\n",
      "\n",
      "[24501, 25001]\n"
     ]
    },
    {
     "name": "stderr",
     "output_type": "stream",
     "text": [
      "\n",
      "Writing video at F:\\DATA\\BehavioralVideos\\Whisker_Video\\Whisker_Topview\\Expect_1\\Mouse21\\200207_2\\2020-02-07T14.57.20.avi\n"
     ]
    },
    {
     "name": "stdout",
     "output_type": "stream",
     "text": [
      "about to write a video named 2020-02-07T14.57.20\n",
      "2020-02-07T14.57.20\n",
      "Using default extension (.avi) as none was specified\n",
      "Using default framerate (30 fps) as none was specified\n",
      "Using default codec (MJPG) as none was specified\n"
     ]
    },
    {
     "name": "stderr",
     "output_type": "stream",
     "text": [
      "0% [▓▓▓▓▓▓▓▓▓▓▓▓▓▓▓▓▓▓▓▓▓▓▓▓▓▓▓▓▓▓] 100% | ETA: 00:00:00\n",
      "Total time elapsed: 00:00:13\n"
     ]
    },
    {
     "name": "stdout",
     "output_type": "stream",
     "text": [
      "Video compression at F:\\DATA\\BehavioralVideos\\Whisker_Video\\Whisker_Topview\\Expect_1\\Mouse21\\200207_2\\2020-02-07T14.57.20.avi sucessfull\n",
      "\n",
      "['F:\\\\DATA\\\\BehavioralVideos\\\\Whisker_Video\\\\Whisker_Topview\\\\Expect_1\\\\Mouse21\\\\200207_2\\\\2020-02-07T14.48.51.avi', 'F:\\\\DATA\\\\BehavioralVideos\\\\Whisker_Video\\\\Whisker_Topview\\\\Expect_1\\\\Mouse21\\\\200207_2\\\\2020-02-07T14.48.55.avi', 'F:\\\\DATA\\\\BehavioralVideos\\\\Whisker_Video\\\\Whisker_Topview\\\\Expect_1\\\\Mouse21\\\\200207_2\\\\2020-02-07T14.49.02.avi', 'F:\\\\DATA\\\\BehavioralVideos\\\\Whisker_Video\\\\Whisker_Topview\\\\Expect_1\\\\Mouse21\\\\200207_2\\\\2020-02-07T14.49.15.avi', 'F:\\\\DATA\\\\BehavioralVideos\\\\Whisker_Video\\\\Whisker_Topview\\\\Expect_1\\\\Mouse21\\\\200207_2\\\\2020-02-07T14.49.45.avi', 'F:\\\\DATA\\\\BehavioralVideos\\\\Whisker_Video\\\\Whisker_Topview\\\\Expect_1\\\\Mouse21\\\\200207_2\\\\2020-02-07T14.49.57.avi', 'F:\\\\DATA\\\\BehavioralVideos\\\\Whisker_Video\\\\Whisker_Topview\\\\Expect_1\\\\Mouse21\\\\200207_2\\\\2020-02-07T14.50.04.avi', 'F:\\\\DATA\\\\BehavioralVideos\\\\Whisker_Video\\\\Whisker_Topview\\\\Expect_1\\\\Mouse21\\\\200207_2\\\\2020-02-07T14.50.11.avi', 'F:\\\\DATA\\\\BehavioralVideos\\\\Whisker_Video\\\\Whisker_Topview\\\\Expect_1\\\\Mouse21\\\\200207_2\\\\2020-02-07T14.50.19.avi', 'F:\\\\DATA\\\\BehavioralVideos\\\\Whisker_Video\\\\Whisker_Topview\\\\Expect_1\\\\Mouse21\\\\200207_2\\\\2020-02-07T14.50.27.avi', 'F:\\\\DATA\\\\BehavioralVideos\\\\Whisker_Video\\\\Whisker_Topview\\\\Expect_1\\\\Mouse21\\\\200207_2\\\\2020-02-07T14.50.51.avi', 'F:\\\\DATA\\\\BehavioralVideos\\\\Whisker_Video\\\\Whisker_Topview\\\\Expect_1\\\\Mouse21\\\\200207_2\\\\2020-02-07T14.51.21.avi', 'F:\\\\DATA\\\\BehavioralVideos\\\\Whisker_Video\\\\Whisker_Topview\\\\Expect_1\\\\Mouse21\\\\200207_2\\\\2020-02-07T14.51.29.avi', 'F:\\\\DATA\\\\BehavioralVideos\\\\Whisker_Video\\\\Whisker_Topview\\\\Expect_1\\\\Mouse21\\\\200207_2\\\\2020-02-07T14.51.36.avi', 'F:\\\\DATA\\\\BehavioralVideos\\\\Whisker_Video\\\\Whisker_Topview\\\\Expect_1\\\\Mouse21\\\\200207_2\\\\2020-02-07T14.51.47.avi', 'F:\\\\DATA\\\\BehavioralVideos\\\\Whisker_Video\\\\Whisker_Topview\\\\Expect_1\\\\Mouse21\\\\200207_2\\\\2020-02-07T14.51.55.avi', 'F:\\\\DATA\\\\BehavioralVideos\\\\Whisker_Video\\\\Whisker_Topview\\\\Expect_1\\\\Mouse21\\\\200207_2\\\\2020-02-07T14.52.02.avi', 'F:\\\\DATA\\\\BehavioralVideos\\\\Whisker_Video\\\\Whisker_Topview\\\\Expect_1\\\\Mouse21\\\\200207_2\\\\2020-02-07T14.52.09.avi', 'F:\\\\DATA\\\\BehavioralVideos\\\\Whisker_Video\\\\Whisker_Topview\\\\Expect_1\\\\Mouse21\\\\200207_2\\\\2020-02-07T14.52.16.avi', 'F:\\\\DATA\\\\BehavioralVideos\\\\Whisker_Video\\\\Whisker_Topview\\\\Expect_1\\\\Mouse21\\\\200207_2\\\\2020-02-07T14.52.24.avi', 'F:\\\\DATA\\\\BehavioralVideos\\\\Whisker_Video\\\\Whisker_Topview\\\\Expect_1\\\\Mouse21\\\\200207_2\\\\2020-02-07T14.53.14.avi', 'F:\\\\DATA\\\\BehavioralVideos\\\\Whisker_Video\\\\Whisker_Topview\\\\Expect_1\\\\Mouse21\\\\200207_2\\\\2020-02-07T14.53.26.avi', 'F:\\\\DATA\\\\BehavioralVideos\\\\Whisker_Video\\\\Whisker_Topview\\\\Expect_1\\\\Mouse21\\\\200207_2\\\\2020-02-07T14.53.35.avi', 'F:\\\\DATA\\\\BehavioralVideos\\\\Whisker_Video\\\\Whisker_Topview\\\\Expect_1\\\\Mouse21\\\\200207_2\\\\2020-02-07T14.53.45.avi', 'F:\\\\DATA\\\\BehavioralVideos\\\\Whisker_Video\\\\Whisker_Topview\\\\Expect_1\\\\Mouse21\\\\200207_2\\\\2020-02-07T14.53.53.avi', 'F:\\\\DATA\\\\BehavioralVideos\\\\Whisker_Video\\\\Whisker_Topview\\\\Expect_1\\\\Mouse21\\\\200207_2\\\\2020-02-07T14.54.02.avi', 'F:\\\\DATA\\\\BehavioralVideos\\\\Whisker_Video\\\\Whisker_Topview\\\\Expect_1\\\\Mouse21\\\\200207_2\\\\2020-02-07T14.54.09.avi', 'F:\\\\DATA\\\\BehavioralVideos\\\\Whisker_Video\\\\Whisker_Topview\\\\Expect_1\\\\Mouse21\\\\200207_2\\\\2020-02-07T14.54.18.avi', 'F:\\\\DATA\\\\BehavioralVideos\\\\Whisker_Video\\\\Whisker_Topview\\\\Expect_1\\\\Mouse21\\\\200207_2\\\\2020-02-07T14.54.26.avi', 'F:\\\\DATA\\\\BehavioralVideos\\\\Whisker_Video\\\\Whisker_Topview\\\\Expect_1\\\\Mouse21\\\\200207_2\\\\2020-02-07T14.54.33.avi', 'F:\\\\DATA\\\\BehavioralVideos\\\\Whisker_Video\\\\Whisker_Topview\\\\Expect_1\\\\Mouse21\\\\200207_2\\\\2020-02-07T14.54.39.avi', 'F:\\\\DATA\\\\BehavioralVideos\\\\Whisker_Video\\\\Whisker_Topview\\\\Expect_1\\\\Mouse21\\\\200207_2\\\\2020-02-07T14.54.45.avi', 'F:\\\\DATA\\\\BehavioralVideos\\\\Whisker_Video\\\\Whisker_Topview\\\\Expect_1\\\\Mouse21\\\\200207_2\\\\2020-02-07T14.55.01.avi', 'F:\\\\DATA\\\\BehavioralVideos\\\\Whisker_Video\\\\Whisker_Topview\\\\Expect_1\\\\Mouse21\\\\200207_2\\\\2020-02-07T14.55.11.avi', 'F:\\\\DATA\\\\BehavioralVideos\\\\Whisker_Video\\\\Whisker_Topview\\\\Expect_1\\\\Mouse21\\\\200207_2\\\\2020-02-07T14.55.17.avi', 'F:\\\\DATA\\\\BehavioralVideos\\\\Whisker_Video\\\\Whisker_Topview\\\\Expect_1\\\\Mouse21\\\\200207_2\\\\2020-02-07T14.55.28.avi', 'F:\\\\DATA\\\\BehavioralVideos\\\\Whisker_Video\\\\Whisker_Topview\\\\Expect_1\\\\Mouse21\\\\200207_2\\\\2020-02-07T14.55.34.avi', 'F:\\\\DATA\\\\BehavioralVideos\\\\Whisker_Video\\\\Whisker_Topview\\\\Expect_1\\\\Mouse21\\\\200207_2\\\\2020-02-07T14.55.41.avi', 'F:\\\\DATA\\\\BehavioralVideos\\\\Whisker_Video\\\\Whisker_Topview\\\\Expect_1\\\\Mouse21\\\\200207_2\\\\2020-02-07T14.55.47.avi', 'F:\\\\DATA\\\\BehavioralVideos\\\\Whisker_Video\\\\Whisker_Topview\\\\Expect_1\\\\Mouse21\\\\200207_2\\\\2020-02-07T14.55.55.avi', 'F:\\\\DATA\\\\BehavioralVideos\\\\Whisker_Video\\\\Whisker_Topview\\\\Expect_1\\\\Mouse21\\\\200207_2\\\\2020-02-07T14.56.13.avi', 'F:\\\\DATA\\\\BehavioralVideos\\\\Whisker_Video\\\\Whisker_Topview\\\\Expect_1\\\\Mouse21\\\\200207_2\\\\2020-02-07T14.56.21.avi', 'F:\\\\DATA\\\\BehavioralVideos\\\\Whisker_Video\\\\Whisker_Topview\\\\Expect_1\\\\Mouse21\\\\200207_2\\\\2020-02-07T14.56.27.avi', 'F:\\\\DATA\\\\BehavioralVideos\\\\Whisker_Video\\\\Whisker_Topview\\\\Expect_1\\\\Mouse21\\\\200207_2\\\\2020-02-07T14.56.34.avi', 'F:\\\\DATA\\\\BehavioralVideos\\\\Whisker_Video\\\\Whisker_Topview\\\\Expect_1\\\\Mouse21\\\\200207_2\\\\2020-02-07T14.56.40.avi', 'F:\\\\DATA\\\\BehavioralVideos\\\\Whisker_Video\\\\Whisker_Topview\\\\Expect_1\\\\Mouse21\\\\200207_2\\\\2020-02-07T14.56.48.avi', 'F:\\\\DATA\\\\BehavioralVideos\\\\Whisker_Video\\\\Whisker_Topview\\\\Expect_1\\\\Mouse21\\\\200207_2\\\\2020-02-07T14.56.59.avi', 'F:\\\\DATA\\\\BehavioralVideos\\\\Whisker_Video\\\\Whisker_Topview\\\\Expect_1\\\\Mouse21\\\\200207_2\\\\2020-02-07T14.57.05.avi', 'F:\\\\DATA\\\\BehavioralVideos\\\\Whisker_Video\\\\Whisker_Topview\\\\Expect_1\\\\Mouse21\\\\200207_2\\\\2020-02-07T14.57.14.avi', 'F:\\\\DATA\\\\BehavioralVideos\\\\Whisker_Video\\\\Whisker_Topview\\\\Expect_1\\\\Mouse21\\\\200207_2\\\\2020-02-07T14.57.20.avi']\n",
      "Repaired 50 files, number of frames possible : between 0 and 38860\n",
      "\n",
      "[25001, 25501]\n"
     ]
    },
    {
     "name": "stderr",
     "output_type": "stream",
     "text": [
      "\n",
      "Writing video at F:\\DATA\\BehavioralVideos\\Whisker_Video\\Whisker_Topview\\Expect_1\\Mouse21\\200207_2\\2020-02-07T14.57.26.avi\n"
     ]
    },
    {
     "name": "stdout",
     "output_type": "stream",
     "text": [
      "about to write a video named 2020-02-07T14.57.26\n",
      "2020-02-07T14.57.26\n",
      "Using default extension (.avi) as none was specified\n",
      "Using default framerate (30 fps) as none was specified\n",
      "Using default codec (MJPG) as none was specified\n"
     ]
    },
    {
     "name": "stderr",
     "output_type": "stream",
     "text": [
      "0% [▓▓▓▓▓▓▓▓▓▓▓▓▓▓▓▓▓▓▓▓▓▓▓▓▓▓▓▓▓▓] 100% | ETA: 00:00:00\n",
      "Total time elapsed: 00:00:13\n"
     ]
    },
    {
     "name": "stdout",
     "output_type": "stream",
     "text": [
      "Video compression at F:\\DATA\\BehavioralVideos\\Whisker_Video\\Whisker_Topview\\Expect_1\\Mouse21\\200207_2\\2020-02-07T14.57.26.avi sucessfull\n",
      "\n",
      "['F:\\\\DATA\\\\BehavioralVideos\\\\Whisker_Video\\\\Whisker_Topview\\\\Expect_1\\\\Mouse21\\\\200207_2\\\\2020-02-07T14.48.51.avi', 'F:\\\\DATA\\\\BehavioralVideos\\\\Whisker_Video\\\\Whisker_Topview\\\\Expect_1\\\\Mouse21\\\\200207_2\\\\2020-02-07T14.48.55.avi', 'F:\\\\DATA\\\\BehavioralVideos\\\\Whisker_Video\\\\Whisker_Topview\\\\Expect_1\\\\Mouse21\\\\200207_2\\\\2020-02-07T14.49.02.avi', 'F:\\\\DATA\\\\BehavioralVideos\\\\Whisker_Video\\\\Whisker_Topview\\\\Expect_1\\\\Mouse21\\\\200207_2\\\\2020-02-07T14.49.15.avi', 'F:\\\\DATA\\\\BehavioralVideos\\\\Whisker_Video\\\\Whisker_Topview\\\\Expect_1\\\\Mouse21\\\\200207_2\\\\2020-02-07T14.49.45.avi', 'F:\\\\DATA\\\\BehavioralVideos\\\\Whisker_Video\\\\Whisker_Topview\\\\Expect_1\\\\Mouse21\\\\200207_2\\\\2020-02-07T14.49.57.avi', 'F:\\\\DATA\\\\BehavioralVideos\\\\Whisker_Video\\\\Whisker_Topview\\\\Expect_1\\\\Mouse21\\\\200207_2\\\\2020-02-07T14.50.04.avi', 'F:\\\\DATA\\\\BehavioralVideos\\\\Whisker_Video\\\\Whisker_Topview\\\\Expect_1\\\\Mouse21\\\\200207_2\\\\2020-02-07T14.50.11.avi', 'F:\\\\DATA\\\\BehavioralVideos\\\\Whisker_Video\\\\Whisker_Topview\\\\Expect_1\\\\Mouse21\\\\200207_2\\\\2020-02-07T14.50.19.avi', 'F:\\\\DATA\\\\BehavioralVideos\\\\Whisker_Video\\\\Whisker_Topview\\\\Expect_1\\\\Mouse21\\\\200207_2\\\\2020-02-07T14.50.27.avi', 'F:\\\\DATA\\\\BehavioralVideos\\\\Whisker_Video\\\\Whisker_Topview\\\\Expect_1\\\\Mouse21\\\\200207_2\\\\2020-02-07T14.50.51.avi', 'F:\\\\DATA\\\\BehavioralVideos\\\\Whisker_Video\\\\Whisker_Topview\\\\Expect_1\\\\Mouse21\\\\200207_2\\\\2020-02-07T14.51.21.avi', 'F:\\\\DATA\\\\BehavioralVideos\\\\Whisker_Video\\\\Whisker_Topview\\\\Expect_1\\\\Mouse21\\\\200207_2\\\\2020-02-07T14.51.29.avi', 'F:\\\\DATA\\\\BehavioralVideos\\\\Whisker_Video\\\\Whisker_Topview\\\\Expect_1\\\\Mouse21\\\\200207_2\\\\2020-02-07T14.51.36.avi', 'F:\\\\DATA\\\\BehavioralVideos\\\\Whisker_Video\\\\Whisker_Topview\\\\Expect_1\\\\Mouse21\\\\200207_2\\\\2020-02-07T14.51.47.avi', 'F:\\\\DATA\\\\BehavioralVideos\\\\Whisker_Video\\\\Whisker_Topview\\\\Expect_1\\\\Mouse21\\\\200207_2\\\\2020-02-07T14.51.55.avi', 'F:\\\\DATA\\\\BehavioralVideos\\\\Whisker_Video\\\\Whisker_Topview\\\\Expect_1\\\\Mouse21\\\\200207_2\\\\2020-02-07T14.52.02.avi', 'F:\\\\DATA\\\\BehavioralVideos\\\\Whisker_Video\\\\Whisker_Topview\\\\Expect_1\\\\Mouse21\\\\200207_2\\\\2020-02-07T14.52.09.avi', 'F:\\\\DATA\\\\BehavioralVideos\\\\Whisker_Video\\\\Whisker_Topview\\\\Expect_1\\\\Mouse21\\\\200207_2\\\\2020-02-07T14.52.16.avi', 'F:\\\\DATA\\\\BehavioralVideos\\\\Whisker_Video\\\\Whisker_Topview\\\\Expect_1\\\\Mouse21\\\\200207_2\\\\2020-02-07T14.52.24.avi', 'F:\\\\DATA\\\\BehavioralVideos\\\\Whisker_Video\\\\Whisker_Topview\\\\Expect_1\\\\Mouse21\\\\200207_2\\\\2020-02-07T14.53.14.avi', 'F:\\\\DATA\\\\BehavioralVideos\\\\Whisker_Video\\\\Whisker_Topview\\\\Expect_1\\\\Mouse21\\\\200207_2\\\\2020-02-07T14.53.26.avi', 'F:\\\\DATA\\\\BehavioralVideos\\\\Whisker_Video\\\\Whisker_Topview\\\\Expect_1\\\\Mouse21\\\\200207_2\\\\2020-02-07T14.53.35.avi', 'F:\\\\DATA\\\\BehavioralVideos\\\\Whisker_Video\\\\Whisker_Topview\\\\Expect_1\\\\Mouse21\\\\200207_2\\\\2020-02-07T14.53.45.avi', 'F:\\\\DATA\\\\BehavioralVideos\\\\Whisker_Video\\\\Whisker_Topview\\\\Expect_1\\\\Mouse21\\\\200207_2\\\\2020-02-07T14.53.53.avi', 'F:\\\\DATA\\\\BehavioralVideos\\\\Whisker_Video\\\\Whisker_Topview\\\\Expect_1\\\\Mouse21\\\\200207_2\\\\2020-02-07T14.54.02.avi', 'F:\\\\DATA\\\\BehavioralVideos\\\\Whisker_Video\\\\Whisker_Topview\\\\Expect_1\\\\Mouse21\\\\200207_2\\\\2020-02-07T14.54.09.avi', 'F:\\\\DATA\\\\BehavioralVideos\\\\Whisker_Video\\\\Whisker_Topview\\\\Expect_1\\\\Mouse21\\\\200207_2\\\\2020-02-07T14.54.18.avi', 'F:\\\\DATA\\\\BehavioralVideos\\\\Whisker_Video\\\\Whisker_Topview\\\\Expect_1\\\\Mouse21\\\\200207_2\\\\2020-02-07T14.54.26.avi', 'F:\\\\DATA\\\\BehavioralVideos\\\\Whisker_Video\\\\Whisker_Topview\\\\Expect_1\\\\Mouse21\\\\200207_2\\\\2020-02-07T14.54.33.avi', 'F:\\\\DATA\\\\BehavioralVideos\\\\Whisker_Video\\\\Whisker_Topview\\\\Expect_1\\\\Mouse21\\\\200207_2\\\\2020-02-07T14.54.39.avi', 'F:\\\\DATA\\\\BehavioralVideos\\\\Whisker_Video\\\\Whisker_Topview\\\\Expect_1\\\\Mouse21\\\\200207_2\\\\2020-02-07T14.54.45.avi', 'F:\\\\DATA\\\\BehavioralVideos\\\\Whisker_Video\\\\Whisker_Topview\\\\Expect_1\\\\Mouse21\\\\200207_2\\\\2020-02-07T14.55.01.avi', 'F:\\\\DATA\\\\BehavioralVideos\\\\Whisker_Video\\\\Whisker_Topview\\\\Expect_1\\\\Mouse21\\\\200207_2\\\\2020-02-07T14.55.11.avi', 'F:\\\\DATA\\\\BehavioralVideos\\\\Whisker_Video\\\\Whisker_Topview\\\\Expect_1\\\\Mouse21\\\\200207_2\\\\2020-02-07T14.55.17.avi', 'F:\\\\DATA\\\\BehavioralVideos\\\\Whisker_Video\\\\Whisker_Topview\\\\Expect_1\\\\Mouse21\\\\200207_2\\\\2020-02-07T14.55.28.avi', 'F:\\\\DATA\\\\BehavioralVideos\\\\Whisker_Video\\\\Whisker_Topview\\\\Expect_1\\\\Mouse21\\\\200207_2\\\\2020-02-07T14.55.34.avi', 'F:\\\\DATA\\\\BehavioralVideos\\\\Whisker_Video\\\\Whisker_Topview\\\\Expect_1\\\\Mouse21\\\\200207_2\\\\2020-02-07T14.55.41.avi', 'F:\\\\DATA\\\\BehavioralVideos\\\\Whisker_Video\\\\Whisker_Topview\\\\Expect_1\\\\Mouse21\\\\200207_2\\\\2020-02-07T14.55.47.avi', 'F:\\\\DATA\\\\BehavioralVideos\\\\Whisker_Video\\\\Whisker_Topview\\\\Expect_1\\\\Mouse21\\\\200207_2\\\\2020-02-07T14.55.55.avi', 'F:\\\\DATA\\\\BehavioralVideos\\\\Whisker_Video\\\\Whisker_Topview\\\\Expect_1\\\\Mouse21\\\\200207_2\\\\2020-02-07T14.56.13.avi', 'F:\\\\DATA\\\\BehavioralVideos\\\\Whisker_Video\\\\Whisker_Topview\\\\Expect_1\\\\Mouse21\\\\200207_2\\\\2020-02-07T14.56.21.avi', 'F:\\\\DATA\\\\BehavioralVideos\\\\Whisker_Video\\\\Whisker_Topview\\\\Expect_1\\\\Mouse21\\\\200207_2\\\\2020-02-07T14.56.27.avi', 'F:\\\\DATA\\\\BehavioralVideos\\\\Whisker_Video\\\\Whisker_Topview\\\\Expect_1\\\\Mouse21\\\\200207_2\\\\2020-02-07T14.56.34.avi', 'F:\\\\DATA\\\\BehavioralVideos\\\\Whisker_Video\\\\Whisker_Topview\\\\Expect_1\\\\Mouse21\\\\200207_2\\\\2020-02-07T14.56.40.avi', 'F:\\\\DATA\\\\BehavioralVideos\\\\Whisker_Video\\\\Whisker_Topview\\\\Expect_1\\\\Mouse21\\\\200207_2\\\\2020-02-07T14.56.48.avi', 'F:\\\\DATA\\\\BehavioralVideos\\\\Whisker_Video\\\\Whisker_Topview\\\\Expect_1\\\\Mouse21\\\\200207_2\\\\2020-02-07T14.56.59.avi', 'F:\\\\DATA\\\\BehavioralVideos\\\\Whisker_Video\\\\Whisker_Topview\\\\Expect_1\\\\Mouse21\\\\200207_2\\\\2020-02-07T14.57.05.avi', 'F:\\\\DATA\\\\BehavioralVideos\\\\Whisker_Video\\\\Whisker_Topview\\\\Expect_1\\\\Mouse21\\\\200207_2\\\\2020-02-07T14.57.14.avi', 'F:\\\\DATA\\\\BehavioralVideos\\\\Whisker_Video\\\\Whisker_Topview\\\\Expect_1\\\\Mouse21\\\\200207_2\\\\2020-02-07T14.57.20.avi', 'F:\\\\DATA\\\\BehavioralVideos\\\\Whisker_Video\\\\Whisker_Topview\\\\Expect_1\\\\Mouse21\\\\200207_2\\\\2020-02-07T14.57.26.avi']\n",
      "Repaired 51 files, number of frames possible : between 0 and 38860\n",
      "\n",
      "[25501, 26001]\n"
     ]
    },
    {
     "name": "stderr",
     "output_type": "stream",
     "text": [
      "\n",
      "Writing video at F:\\DATA\\BehavioralVideos\\Whisker_Video\\Whisker_Topview\\Expect_1\\Mouse21\\200207_2\\2020-02-07T14.57.32.avi\n"
     ]
    },
    {
     "name": "stdout",
     "output_type": "stream",
     "text": [
      "about to write a video named 2020-02-07T14.57.32\n",
      "2020-02-07T14.57.32\n",
      "Using default extension (.avi) as none was specified\n",
      "Using default framerate (30 fps) as none was specified\n",
      "Using default codec (MJPG) as none was specified\n"
     ]
    },
    {
     "name": "stderr",
     "output_type": "stream",
     "text": [
      "0% [▓▓▓▓▓▓▓▓▓▓▓▓▓▓▓▓▓▓▓▓▓▓▓▓▓▓▓▓▓▓] 100% | ETA: 00:00:00\n",
      "Total time elapsed: 00:00:13\n"
     ]
    },
    {
     "name": "stdout",
     "output_type": "stream",
     "text": [
      "Video compression at F:\\DATA\\BehavioralVideos\\Whisker_Video\\Whisker_Topview\\Expect_1\\Mouse21\\200207_2\\2020-02-07T14.57.32.avi sucessfull\n",
      "\n",
      "['F:\\\\DATA\\\\BehavioralVideos\\\\Whisker_Video\\\\Whisker_Topview\\\\Expect_1\\\\Mouse21\\\\200207_2\\\\2020-02-07T14.48.51.avi', 'F:\\\\DATA\\\\BehavioralVideos\\\\Whisker_Video\\\\Whisker_Topview\\\\Expect_1\\\\Mouse21\\\\200207_2\\\\2020-02-07T14.48.55.avi', 'F:\\\\DATA\\\\BehavioralVideos\\\\Whisker_Video\\\\Whisker_Topview\\\\Expect_1\\\\Mouse21\\\\200207_2\\\\2020-02-07T14.49.02.avi', 'F:\\\\DATA\\\\BehavioralVideos\\\\Whisker_Video\\\\Whisker_Topview\\\\Expect_1\\\\Mouse21\\\\200207_2\\\\2020-02-07T14.49.15.avi', 'F:\\\\DATA\\\\BehavioralVideos\\\\Whisker_Video\\\\Whisker_Topview\\\\Expect_1\\\\Mouse21\\\\200207_2\\\\2020-02-07T14.49.45.avi', 'F:\\\\DATA\\\\BehavioralVideos\\\\Whisker_Video\\\\Whisker_Topview\\\\Expect_1\\\\Mouse21\\\\200207_2\\\\2020-02-07T14.49.57.avi', 'F:\\\\DATA\\\\BehavioralVideos\\\\Whisker_Video\\\\Whisker_Topview\\\\Expect_1\\\\Mouse21\\\\200207_2\\\\2020-02-07T14.50.04.avi', 'F:\\\\DATA\\\\BehavioralVideos\\\\Whisker_Video\\\\Whisker_Topview\\\\Expect_1\\\\Mouse21\\\\200207_2\\\\2020-02-07T14.50.11.avi', 'F:\\\\DATA\\\\BehavioralVideos\\\\Whisker_Video\\\\Whisker_Topview\\\\Expect_1\\\\Mouse21\\\\200207_2\\\\2020-02-07T14.50.19.avi', 'F:\\\\DATA\\\\BehavioralVideos\\\\Whisker_Video\\\\Whisker_Topview\\\\Expect_1\\\\Mouse21\\\\200207_2\\\\2020-02-07T14.50.27.avi', 'F:\\\\DATA\\\\BehavioralVideos\\\\Whisker_Video\\\\Whisker_Topview\\\\Expect_1\\\\Mouse21\\\\200207_2\\\\2020-02-07T14.50.51.avi', 'F:\\\\DATA\\\\BehavioralVideos\\\\Whisker_Video\\\\Whisker_Topview\\\\Expect_1\\\\Mouse21\\\\200207_2\\\\2020-02-07T14.51.21.avi', 'F:\\\\DATA\\\\BehavioralVideos\\\\Whisker_Video\\\\Whisker_Topview\\\\Expect_1\\\\Mouse21\\\\200207_2\\\\2020-02-07T14.51.29.avi', 'F:\\\\DATA\\\\BehavioralVideos\\\\Whisker_Video\\\\Whisker_Topview\\\\Expect_1\\\\Mouse21\\\\200207_2\\\\2020-02-07T14.51.36.avi', 'F:\\\\DATA\\\\BehavioralVideos\\\\Whisker_Video\\\\Whisker_Topview\\\\Expect_1\\\\Mouse21\\\\200207_2\\\\2020-02-07T14.51.47.avi', 'F:\\\\DATA\\\\BehavioralVideos\\\\Whisker_Video\\\\Whisker_Topview\\\\Expect_1\\\\Mouse21\\\\200207_2\\\\2020-02-07T14.51.55.avi', 'F:\\\\DATA\\\\BehavioralVideos\\\\Whisker_Video\\\\Whisker_Topview\\\\Expect_1\\\\Mouse21\\\\200207_2\\\\2020-02-07T14.52.02.avi', 'F:\\\\DATA\\\\BehavioralVideos\\\\Whisker_Video\\\\Whisker_Topview\\\\Expect_1\\\\Mouse21\\\\200207_2\\\\2020-02-07T14.52.09.avi', 'F:\\\\DATA\\\\BehavioralVideos\\\\Whisker_Video\\\\Whisker_Topview\\\\Expect_1\\\\Mouse21\\\\200207_2\\\\2020-02-07T14.52.16.avi', 'F:\\\\DATA\\\\BehavioralVideos\\\\Whisker_Video\\\\Whisker_Topview\\\\Expect_1\\\\Mouse21\\\\200207_2\\\\2020-02-07T14.52.24.avi', 'F:\\\\DATA\\\\BehavioralVideos\\\\Whisker_Video\\\\Whisker_Topview\\\\Expect_1\\\\Mouse21\\\\200207_2\\\\2020-02-07T14.53.14.avi', 'F:\\\\DATA\\\\BehavioralVideos\\\\Whisker_Video\\\\Whisker_Topview\\\\Expect_1\\\\Mouse21\\\\200207_2\\\\2020-02-07T14.53.26.avi', 'F:\\\\DATA\\\\BehavioralVideos\\\\Whisker_Video\\\\Whisker_Topview\\\\Expect_1\\\\Mouse21\\\\200207_2\\\\2020-02-07T14.53.35.avi', 'F:\\\\DATA\\\\BehavioralVideos\\\\Whisker_Video\\\\Whisker_Topview\\\\Expect_1\\\\Mouse21\\\\200207_2\\\\2020-02-07T14.53.45.avi', 'F:\\\\DATA\\\\BehavioralVideos\\\\Whisker_Video\\\\Whisker_Topview\\\\Expect_1\\\\Mouse21\\\\200207_2\\\\2020-02-07T14.53.53.avi', 'F:\\\\DATA\\\\BehavioralVideos\\\\Whisker_Video\\\\Whisker_Topview\\\\Expect_1\\\\Mouse21\\\\200207_2\\\\2020-02-07T14.54.02.avi', 'F:\\\\DATA\\\\BehavioralVideos\\\\Whisker_Video\\\\Whisker_Topview\\\\Expect_1\\\\Mouse21\\\\200207_2\\\\2020-02-07T14.54.09.avi', 'F:\\\\DATA\\\\BehavioralVideos\\\\Whisker_Video\\\\Whisker_Topview\\\\Expect_1\\\\Mouse21\\\\200207_2\\\\2020-02-07T14.54.18.avi', 'F:\\\\DATA\\\\BehavioralVideos\\\\Whisker_Video\\\\Whisker_Topview\\\\Expect_1\\\\Mouse21\\\\200207_2\\\\2020-02-07T14.54.26.avi', 'F:\\\\DATA\\\\BehavioralVideos\\\\Whisker_Video\\\\Whisker_Topview\\\\Expect_1\\\\Mouse21\\\\200207_2\\\\2020-02-07T14.54.33.avi', 'F:\\\\DATA\\\\BehavioralVideos\\\\Whisker_Video\\\\Whisker_Topview\\\\Expect_1\\\\Mouse21\\\\200207_2\\\\2020-02-07T14.54.39.avi', 'F:\\\\DATA\\\\BehavioralVideos\\\\Whisker_Video\\\\Whisker_Topview\\\\Expect_1\\\\Mouse21\\\\200207_2\\\\2020-02-07T14.54.45.avi', 'F:\\\\DATA\\\\BehavioralVideos\\\\Whisker_Video\\\\Whisker_Topview\\\\Expect_1\\\\Mouse21\\\\200207_2\\\\2020-02-07T14.55.01.avi', 'F:\\\\DATA\\\\BehavioralVideos\\\\Whisker_Video\\\\Whisker_Topview\\\\Expect_1\\\\Mouse21\\\\200207_2\\\\2020-02-07T14.55.11.avi', 'F:\\\\DATA\\\\BehavioralVideos\\\\Whisker_Video\\\\Whisker_Topview\\\\Expect_1\\\\Mouse21\\\\200207_2\\\\2020-02-07T14.55.17.avi', 'F:\\\\DATA\\\\BehavioralVideos\\\\Whisker_Video\\\\Whisker_Topview\\\\Expect_1\\\\Mouse21\\\\200207_2\\\\2020-02-07T14.55.28.avi', 'F:\\\\DATA\\\\BehavioralVideos\\\\Whisker_Video\\\\Whisker_Topview\\\\Expect_1\\\\Mouse21\\\\200207_2\\\\2020-02-07T14.55.34.avi', 'F:\\\\DATA\\\\BehavioralVideos\\\\Whisker_Video\\\\Whisker_Topview\\\\Expect_1\\\\Mouse21\\\\200207_2\\\\2020-02-07T14.55.41.avi', 'F:\\\\DATA\\\\BehavioralVideos\\\\Whisker_Video\\\\Whisker_Topview\\\\Expect_1\\\\Mouse21\\\\200207_2\\\\2020-02-07T14.55.47.avi', 'F:\\\\DATA\\\\BehavioralVideos\\\\Whisker_Video\\\\Whisker_Topview\\\\Expect_1\\\\Mouse21\\\\200207_2\\\\2020-02-07T14.55.55.avi', 'F:\\\\DATA\\\\BehavioralVideos\\\\Whisker_Video\\\\Whisker_Topview\\\\Expect_1\\\\Mouse21\\\\200207_2\\\\2020-02-07T14.56.13.avi', 'F:\\\\DATA\\\\BehavioralVideos\\\\Whisker_Video\\\\Whisker_Topview\\\\Expect_1\\\\Mouse21\\\\200207_2\\\\2020-02-07T14.56.21.avi', 'F:\\\\DATA\\\\BehavioralVideos\\\\Whisker_Video\\\\Whisker_Topview\\\\Expect_1\\\\Mouse21\\\\200207_2\\\\2020-02-07T14.56.27.avi', 'F:\\\\DATA\\\\BehavioralVideos\\\\Whisker_Video\\\\Whisker_Topview\\\\Expect_1\\\\Mouse21\\\\200207_2\\\\2020-02-07T14.56.34.avi', 'F:\\\\DATA\\\\BehavioralVideos\\\\Whisker_Video\\\\Whisker_Topview\\\\Expect_1\\\\Mouse21\\\\200207_2\\\\2020-02-07T14.56.40.avi', 'F:\\\\DATA\\\\BehavioralVideos\\\\Whisker_Video\\\\Whisker_Topview\\\\Expect_1\\\\Mouse21\\\\200207_2\\\\2020-02-07T14.56.48.avi', 'F:\\\\DATA\\\\BehavioralVideos\\\\Whisker_Video\\\\Whisker_Topview\\\\Expect_1\\\\Mouse21\\\\200207_2\\\\2020-02-07T14.56.59.avi', 'F:\\\\DATA\\\\BehavioralVideos\\\\Whisker_Video\\\\Whisker_Topview\\\\Expect_1\\\\Mouse21\\\\200207_2\\\\2020-02-07T14.57.05.avi', 'F:\\\\DATA\\\\BehavioralVideos\\\\Whisker_Video\\\\Whisker_Topview\\\\Expect_1\\\\Mouse21\\\\200207_2\\\\2020-02-07T14.57.14.avi', 'F:\\\\DATA\\\\BehavioralVideos\\\\Whisker_Video\\\\Whisker_Topview\\\\Expect_1\\\\Mouse21\\\\200207_2\\\\2020-02-07T14.57.20.avi', 'F:\\\\DATA\\\\BehavioralVideos\\\\Whisker_Video\\\\Whisker_Topview\\\\Expect_1\\\\Mouse21\\\\200207_2\\\\2020-02-07T14.57.26.avi', 'F:\\\\DATA\\\\BehavioralVideos\\\\Whisker_Video\\\\Whisker_Topview\\\\Expect_1\\\\Mouse21\\\\200207_2\\\\2020-02-07T14.57.32.avi']\n",
      "Repaired 52 files, number of frames possible : between 0 and 38860\n",
      "\n",
      "[26001, 26501]\n"
     ]
    },
    {
     "name": "stderr",
     "output_type": "stream",
     "text": [
      "\n",
      "Writing video at F:\\DATA\\BehavioralVideos\\Whisker_Video\\Whisker_Topview\\Expect_1\\Mouse21\\200207_2\\2020-02-07T14.57.37.avi\n"
     ]
    },
    {
     "name": "stdout",
     "output_type": "stream",
     "text": [
      "about to write a video named 2020-02-07T14.57.37\n",
      "2020-02-07T14.57.37\n",
      "Using default extension (.avi) as none was specified\n",
      "Using default framerate (30 fps) as none was specified\n",
      "Using default codec (MJPG) as none was specified\n"
     ]
    },
    {
     "name": "stderr",
     "output_type": "stream",
     "text": [
      "0% [▓▓▓▓▓▓▓▓▓▓▓▓▓▓▓▓▓▓▓▓▓▓▓▓▓▓▓▓▓▓] 100% | ETA: 00:00:00\n",
      "Total time elapsed: 00:00:13\n"
     ]
    },
    {
     "name": "stdout",
     "output_type": "stream",
     "text": [
      "Video compression at F:\\DATA\\BehavioralVideos\\Whisker_Video\\Whisker_Topview\\Expect_1\\Mouse21\\200207_2\\2020-02-07T14.57.37.avi sucessfull\n",
      "\n",
      "['F:\\\\DATA\\\\BehavioralVideos\\\\Whisker_Video\\\\Whisker_Topview\\\\Expect_1\\\\Mouse21\\\\200207_2\\\\2020-02-07T14.48.51.avi', 'F:\\\\DATA\\\\BehavioralVideos\\\\Whisker_Video\\\\Whisker_Topview\\\\Expect_1\\\\Mouse21\\\\200207_2\\\\2020-02-07T14.48.55.avi', 'F:\\\\DATA\\\\BehavioralVideos\\\\Whisker_Video\\\\Whisker_Topview\\\\Expect_1\\\\Mouse21\\\\200207_2\\\\2020-02-07T14.49.02.avi', 'F:\\\\DATA\\\\BehavioralVideos\\\\Whisker_Video\\\\Whisker_Topview\\\\Expect_1\\\\Mouse21\\\\200207_2\\\\2020-02-07T14.49.15.avi', 'F:\\\\DATA\\\\BehavioralVideos\\\\Whisker_Video\\\\Whisker_Topview\\\\Expect_1\\\\Mouse21\\\\200207_2\\\\2020-02-07T14.49.45.avi', 'F:\\\\DATA\\\\BehavioralVideos\\\\Whisker_Video\\\\Whisker_Topview\\\\Expect_1\\\\Mouse21\\\\200207_2\\\\2020-02-07T14.49.57.avi', 'F:\\\\DATA\\\\BehavioralVideos\\\\Whisker_Video\\\\Whisker_Topview\\\\Expect_1\\\\Mouse21\\\\200207_2\\\\2020-02-07T14.50.04.avi', 'F:\\\\DATA\\\\BehavioralVideos\\\\Whisker_Video\\\\Whisker_Topview\\\\Expect_1\\\\Mouse21\\\\200207_2\\\\2020-02-07T14.50.11.avi', 'F:\\\\DATA\\\\BehavioralVideos\\\\Whisker_Video\\\\Whisker_Topview\\\\Expect_1\\\\Mouse21\\\\200207_2\\\\2020-02-07T14.50.19.avi', 'F:\\\\DATA\\\\BehavioralVideos\\\\Whisker_Video\\\\Whisker_Topview\\\\Expect_1\\\\Mouse21\\\\200207_2\\\\2020-02-07T14.50.27.avi', 'F:\\\\DATA\\\\BehavioralVideos\\\\Whisker_Video\\\\Whisker_Topview\\\\Expect_1\\\\Mouse21\\\\200207_2\\\\2020-02-07T14.50.51.avi', 'F:\\\\DATA\\\\BehavioralVideos\\\\Whisker_Video\\\\Whisker_Topview\\\\Expect_1\\\\Mouse21\\\\200207_2\\\\2020-02-07T14.51.21.avi', 'F:\\\\DATA\\\\BehavioralVideos\\\\Whisker_Video\\\\Whisker_Topview\\\\Expect_1\\\\Mouse21\\\\200207_2\\\\2020-02-07T14.51.29.avi', 'F:\\\\DATA\\\\BehavioralVideos\\\\Whisker_Video\\\\Whisker_Topview\\\\Expect_1\\\\Mouse21\\\\200207_2\\\\2020-02-07T14.51.36.avi', 'F:\\\\DATA\\\\BehavioralVideos\\\\Whisker_Video\\\\Whisker_Topview\\\\Expect_1\\\\Mouse21\\\\200207_2\\\\2020-02-07T14.51.47.avi', 'F:\\\\DATA\\\\BehavioralVideos\\\\Whisker_Video\\\\Whisker_Topview\\\\Expect_1\\\\Mouse21\\\\200207_2\\\\2020-02-07T14.51.55.avi', 'F:\\\\DATA\\\\BehavioralVideos\\\\Whisker_Video\\\\Whisker_Topview\\\\Expect_1\\\\Mouse21\\\\200207_2\\\\2020-02-07T14.52.02.avi', 'F:\\\\DATA\\\\BehavioralVideos\\\\Whisker_Video\\\\Whisker_Topview\\\\Expect_1\\\\Mouse21\\\\200207_2\\\\2020-02-07T14.52.09.avi', 'F:\\\\DATA\\\\BehavioralVideos\\\\Whisker_Video\\\\Whisker_Topview\\\\Expect_1\\\\Mouse21\\\\200207_2\\\\2020-02-07T14.52.16.avi', 'F:\\\\DATA\\\\BehavioralVideos\\\\Whisker_Video\\\\Whisker_Topview\\\\Expect_1\\\\Mouse21\\\\200207_2\\\\2020-02-07T14.52.24.avi', 'F:\\\\DATA\\\\BehavioralVideos\\\\Whisker_Video\\\\Whisker_Topview\\\\Expect_1\\\\Mouse21\\\\200207_2\\\\2020-02-07T14.53.14.avi', 'F:\\\\DATA\\\\BehavioralVideos\\\\Whisker_Video\\\\Whisker_Topview\\\\Expect_1\\\\Mouse21\\\\200207_2\\\\2020-02-07T14.53.26.avi', 'F:\\\\DATA\\\\BehavioralVideos\\\\Whisker_Video\\\\Whisker_Topview\\\\Expect_1\\\\Mouse21\\\\200207_2\\\\2020-02-07T14.53.35.avi', 'F:\\\\DATA\\\\BehavioralVideos\\\\Whisker_Video\\\\Whisker_Topview\\\\Expect_1\\\\Mouse21\\\\200207_2\\\\2020-02-07T14.53.45.avi', 'F:\\\\DATA\\\\BehavioralVideos\\\\Whisker_Video\\\\Whisker_Topview\\\\Expect_1\\\\Mouse21\\\\200207_2\\\\2020-02-07T14.53.53.avi', 'F:\\\\DATA\\\\BehavioralVideos\\\\Whisker_Video\\\\Whisker_Topview\\\\Expect_1\\\\Mouse21\\\\200207_2\\\\2020-02-07T14.54.02.avi', 'F:\\\\DATA\\\\BehavioralVideos\\\\Whisker_Video\\\\Whisker_Topview\\\\Expect_1\\\\Mouse21\\\\200207_2\\\\2020-02-07T14.54.09.avi', 'F:\\\\DATA\\\\BehavioralVideos\\\\Whisker_Video\\\\Whisker_Topview\\\\Expect_1\\\\Mouse21\\\\200207_2\\\\2020-02-07T14.54.18.avi', 'F:\\\\DATA\\\\BehavioralVideos\\\\Whisker_Video\\\\Whisker_Topview\\\\Expect_1\\\\Mouse21\\\\200207_2\\\\2020-02-07T14.54.26.avi', 'F:\\\\DATA\\\\BehavioralVideos\\\\Whisker_Video\\\\Whisker_Topview\\\\Expect_1\\\\Mouse21\\\\200207_2\\\\2020-02-07T14.54.33.avi', 'F:\\\\DATA\\\\BehavioralVideos\\\\Whisker_Video\\\\Whisker_Topview\\\\Expect_1\\\\Mouse21\\\\200207_2\\\\2020-02-07T14.54.39.avi', 'F:\\\\DATA\\\\BehavioralVideos\\\\Whisker_Video\\\\Whisker_Topview\\\\Expect_1\\\\Mouse21\\\\200207_2\\\\2020-02-07T14.54.45.avi', 'F:\\\\DATA\\\\BehavioralVideos\\\\Whisker_Video\\\\Whisker_Topview\\\\Expect_1\\\\Mouse21\\\\200207_2\\\\2020-02-07T14.55.01.avi', 'F:\\\\DATA\\\\BehavioralVideos\\\\Whisker_Video\\\\Whisker_Topview\\\\Expect_1\\\\Mouse21\\\\200207_2\\\\2020-02-07T14.55.11.avi', 'F:\\\\DATA\\\\BehavioralVideos\\\\Whisker_Video\\\\Whisker_Topview\\\\Expect_1\\\\Mouse21\\\\200207_2\\\\2020-02-07T14.55.17.avi', 'F:\\\\DATA\\\\BehavioralVideos\\\\Whisker_Video\\\\Whisker_Topview\\\\Expect_1\\\\Mouse21\\\\200207_2\\\\2020-02-07T14.55.28.avi', 'F:\\\\DATA\\\\BehavioralVideos\\\\Whisker_Video\\\\Whisker_Topview\\\\Expect_1\\\\Mouse21\\\\200207_2\\\\2020-02-07T14.55.34.avi', 'F:\\\\DATA\\\\BehavioralVideos\\\\Whisker_Video\\\\Whisker_Topview\\\\Expect_1\\\\Mouse21\\\\200207_2\\\\2020-02-07T14.55.41.avi', 'F:\\\\DATA\\\\BehavioralVideos\\\\Whisker_Video\\\\Whisker_Topview\\\\Expect_1\\\\Mouse21\\\\200207_2\\\\2020-02-07T14.55.47.avi', 'F:\\\\DATA\\\\BehavioralVideos\\\\Whisker_Video\\\\Whisker_Topview\\\\Expect_1\\\\Mouse21\\\\200207_2\\\\2020-02-07T14.55.55.avi', 'F:\\\\DATA\\\\BehavioralVideos\\\\Whisker_Video\\\\Whisker_Topview\\\\Expect_1\\\\Mouse21\\\\200207_2\\\\2020-02-07T14.56.13.avi', 'F:\\\\DATA\\\\BehavioralVideos\\\\Whisker_Video\\\\Whisker_Topview\\\\Expect_1\\\\Mouse21\\\\200207_2\\\\2020-02-07T14.56.21.avi', 'F:\\\\DATA\\\\BehavioralVideos\\\\Whisker_Video\\\\Whisker_Topview\\\\Expect_1\\\\Mouse21\\\\200207_2\\\\2020-02-07T14.56.27.avi', 'F:\\\\DATA\\\\BehavioralVideos\\\\Whisker_Video\\\\Whisker_Topview\\\\Expect_1\\\\Mouse21\\\\200207_2\\\\2020-02-07T14.56.34.avi', 'F:\\\\DATA\\\\BehavioralVideos\\\\Whisker_Video\\\\Whisker_Topview\\\\Expect_1\\\\Mouse21\\\\200207_2\\\\2020-02-07T14.56.40.avi', 'F:\\\\DATA\\\\BehavioralVideos\\\\Whisker_Video\\\\Whisker_Topview\\\\Expect_1\\\\Mouse21\\\\200207_2\\\\2020-02-07T14.56.48.avi', 'F:\\\\DATA\\\\BehavioralVideos\\\\Whisker_Video\\\\Whisker_Topview\\\\Expect_1\\\\Mouse21\\\\200207_2\\\\2020-02-07T14.56.59.avi', 'F:\\\\DATA\\\\BehavioralVideos\\\\Whisker_Video\\\\Whisker_Topview\\\\Expect_1\\\\Mouse21\\\\200207_2\\\\2020-02-07T14.57.05.avi', 'F:\\\\DATA\\\\BehavioralVideos\\\\Whisker_Video\\\\Whisker_Topview\\\\Expect_1\\\\Mouse21\\\\200207_2\\\\2020-02-07T14.57.14.avi', 'F:\\\\DATA\\\\BehavioralVideos\\\\Whisker_Video\\\\Whisker_Topview\\\\Expect_1\\\\Mouse21\\\\200207_2\\\\2020-02-07T14.57.20.avi', 'F:\\\\DATA\\\\BehavioralVideos\\\\Whisker_Video\\\\Whisker_Topview\\\\Expect_1\\\\Mouse21\\\\200207_2\\\\2020-02-07T14.57.26.avi', 'F:\\\\DATA\\\\BehavioralVideos\\\\Whisker_Video\\\\Whisker_Topview\\\\Expect_1\\\\Mouse21\\\\200207_2\\\\2020-02-07T14.57.32.avi', 'F:\\\\DATA\\\\BehavioralVideos\\\\Whisker_Video\\\\Whisker_Topview\\\\Expect_1\\\\Mouse21\\\\200207_2\\\\2020-02-07T14.57.37.avi']\n",
      "Repaired 53 files, number of frames possible : between 0 and 38860\n",
      "\n",
      "[26501, 27001]\n"
     ]
    },
    {
     "name": "stderr",
     "output_type": "stream",
     "text": [
      "\n",
      "Writing video at F:\\DATA\\BehavioralVideos\\Whisker_Video\\Whisker_Topview\\Expect_1\\Mouse21\\200207_2\\2020-02-07T14.57.45.avi\n"
     ]
    },
    {
     "name": "stdout",
     "output_type": "stream",
     "text": [
      "about to write a video named 2020-02-07T14.57.45\n",
      "2020-02-07T14.57.45\n",
      "Using default extension (.avi) as none was specified\n",
      "Using default framerate (30 fps) as none was specified\n",
      "Using default codec (MJPG) as none was specified\n"
     ]
    },
    {
     "name": "stderr",
     "output_type": "stream",
     "text": [
      "0% [▓▓▓▓▓▓▓▓▓▓▓▓▓▓▓▓▓▓▓▓▓▓▓▓▓▓▓▓▓▓] 100% | ETA: 00:00:00\n",
      "Total time elapsed: 00:00:13\n"
     ]
    },
    {
     "name": "stdout",
     "output_type": "stream",
     "text": [
      "Video compression at F:\\DATA\\BehavioralVideos\\Whisker_Video\\Whisker_Topview\\Expect_1\\Mouse21\\200207_2\\2020-02-07T14.57.45.avi sucessfull\n",
      "\n",
      "['F:\\\\DATA\\\\BehavioralVideos\\\\Whisker_Video\\\\Whisker_Topview\\\\Expect_1\\\\Mouse21\\\\200207_2\\\\2020-02-07T14.48.51.avi', 'F:\\\\DATA\\\\BehavioralVideos\\\\Whisker_Video\\\\Whisker_Topview\\\\Expect_1\\\\Mouse21\\\\200207_2\\\\2020-02-07T14.48.55.avi', 'F:\\\\DATA\\\\BehavioralVideos\\\\Whisker_Video\\\\Whisker_Topview\\\\Expect_1\\\\Mouse21\\\\200207_2\\\\2020-02-07T14.49.02.avi', 'F:\\\\DATA\\\\BehavioralVideos\\\\Whisker_Video\\\\Whisker_Topview\\\\Expect_1\\\\Mouse21\\\\200207_2\\\\2020-02-07T14.49.15.avi', 'F:\\\\DATA\\\\BehavioralVideos\\\\Whisker_Video\\\\Whisker_Topview\\\\Expect_1\\\\Mouse21\\\\200207_2\\\\2020-02-07T14.49.45.avi', 'F:\\\\DATA\\\\BehavioralVideos\\\\Whisker_Video\\\\Whisker_Topview\\\\Expect_1\\\\Mouse21\\\\200207_2\\\\2020-02-07T14.49.57.avi', 'F:\\\\DATA\\\\BehavioralVideos\\\\Whisker_Video\\\\Whisker_Topview\\\\Expect_1\\\\Mouse21\\\\200207_2\\\\2020-02-07T14.50.04.avi', 'F:\\\\DATA\\\\BehavioralVideos\\\\Whisker_Video\\\\Whisker_Topview\\\\Expect_1\\\\Mouse21\\\\200207_2\\\\2020-02-07T14.50.11.avi', 'F:\\\\DATA\\\\BehavioralVideos\\\\Whisker_Video\\\\Whisker_Topview\\\\Expect_1\\\\Mouse21\\\\200207_2\\\\2020-02-07T14.50.19.avi', 'F:\\\\DATA\\\\BehavioralVideos\\\\Whisker_Video\\\\Whisker_Topview\\\\Expect_1\\\\Mouse21\\\\200207_2\\\\2020-02-07T14.50.27.avi', 'F:\\\\DATA\\\\BehavioralVideos\\\\Whisker_Video\\\\Whisker_Topview\\\\Expect_1\\\\Mouse21\\\\200207_2\\\\2020-02-07T14.50.51.avi', 'F:\\\\DATA\\\\BehavioralVideos\\\\Whisker_Video\\\\Whisker_Topview\\\\Expect_1\\\\Mouse21\\\\200207_2\\\\2020-02-07T14.51.21.avi', 'F:\\\\DATA\\\\BehavioralVideos\\\\Whisker_Video\\\\Whisker_Topview\\\\Expect_1\\\\Mouse21\\\\200207_2\\\\2020-02-07T14.51.29.avi', 'F:\\\\DATA\\\\BehavioralVideos\\\\Whisker_Video\\\\Whisker_Topview\\\\Expect_1\\\\Mouse21\\\\200207_2\\\\2020-02-07T14.51.36.avi', 'F:\\\\DATA\\\\BehavioralVideos\\\\Whisker_Video\\\\Whisker_Topview\\\\Expect_1\\\\Mouse21\\\\200207_2\\\\2020-02-07T14.51.47.avi', 'F:\\\\DATA\\\\BehavioralVideos\\\\Whisker_Video\\\\Whisker_Topview\\\\Expect_1\\\\Mouse21\\\\200207_2\\\\2020-02-07T14.51.55.avi', 'F:\\\\DATA\\\\BehavioralVideos\\\\Whisker_Video\\\\Whisker_Topview\\\\Expect_1\\\\Mouse21\\\\200207_2\\\\2020-02-07T14.52.02.avi', 'F:\\\\DATA\\\\BehavioralVideos\\\\Whisker_Video\\\\Whisker_Topview\\\\Expect_1\\\\Mouse21\\\\200207_2\\\\2020-02-07T14.52.09.avi', 'F:\\\\DATA\\\\BehavioralVideos\\\\Whisker_Video\\\\Whisker_Topview\\\\Expect_1\\\\Mouse21\\\\200207_2\\\\2020-02-07T14.52.16.avi', 'F:\\\\DATA\\\\BehavioralVideos\\\\Whisker_Video\\\\Whisker_Topview\\\\Expect_1\\\\Mouse21\\\\200207_2\\\\2020-02-07T14.52.24.avi', 'F:\\\\DATA\\\\BehavioralVideos\\\\Whisker_Video\\\\Whisker_Topview\\\\Expect_1\\\\Mouse21\\\\200207_2\\\\2020-02-07T14.53.14.avi', 'F:\\\\DATA\\\\BehavioralVideos\\\\Whisker_Video\\\\Whisker_Topview\\\\Expect_1\\\\Mouse21\\\\200207_2\\\\2020-02-07T14.53.26.avi', 'F:\\\\DATA\\\\BehavioralVideos\\\\Whisker_Video\\\\Whisker_Topview\\\\Expect_1\\\\Mouse21\\\\200207_2\\\\2020-02-07T14.53.35.avi', 'F:\\\\DATA\\\\BehavioralVideos\\\\Whisker_Video\\\\Whisker_Topview\\\\Expect_1\\\\Mouse21\\\\200207_2\\\\2020-02-07T14.53.45.avi', 'F:\\\\DATA\\\\BehavioralVideos\\\\Whisker_Video\\\\Whisker_Topview\\\\Expect_1\\\\Mouse21\\\\200207_2\\\\2020-02-07T14.53.53.avi', 'F:\\\\DATA\\\\BehavioralVideos\\\\Whisker_Video\\\\Whisker_Topview\\\\Expect_1\\\\Mouse21\\\\200207_2\\\\2020-02-07T14.54.02.avi', 'F:\\\\DATA\\\\BehavioralVideos\\\\Whisker_Video\\\\Whisker_Topview\\\\Expect_1\\\\Mouse21\\\\200207_2\\\\2020-02-07T14.54.09.avi', 'F:\\\\DATA\\\\BehavioralVideos\\\\Whisker_Video\\\\Whisker_Topview\\\\Expect_1\\\\Mouse21\\\\200207_2\\\\2020-02-07T14.54.18.avi', 'F:\\\\DATA\\\\BehavioralVideos\\\\Whisker_Video\\\\Whisker_Topview\\\\Expect_1\\\\Mouse21\\\\200207_2\\\\2020-02-07T14.54.26.avi', 'F:\\\\DATA\\\\BehavioralVideos\\\\Whisker_Video\\\\Whisker_Topview\\\\Expect_1\\\\Mouse21\\\\200207_2\\\\2020-02-07T14.54.33.avi', 'F:\\\\DATA\\\\BehavioralVideos\\\\Whisker_Video\\\\Whisker_Topview\\\\Expect_1\\\\Mouse21\\\\200207_2\\\\2020-02-07T14.54.39.avi', 'F:\\\\DATA\\\\BehavioralVideos\\\\Whisker_Video\\\\Whisker_Topview\\\\Expect_1\\\\Mouse21\\\\200207_2\\\\2020-02-07T14.54.45.avi', 'F:\\\\DATA\\\\BehavioralVideos\\\\Whisker_Video\\\\Whisker_Topview\\\\Expect_1\\\\Mouse21\\\\200207_2\\\\2020-02-07T14.55.01.avi', 'F:\\\\DATA\\\\BehavioralVideos\\\\Whisker_Video\\\\Whisker_Topview\\\\Expect_1\\\\Mouse21\\\\200207_2\\\\2020-02-07T14.55.11.avi', 'F:\\\\DATA\\\\BehavioralVideos\\\\Whisker_Video\\\\Whisker_Topview\\\\Expect_1\\\\Mouse21\\\\200207_2\\\\2020-02-07T14.55.17.avi', 'F:\\\\DATA\\\\BehavioralVideos\\\\Whisker_Video\\\\Whisker_Topview\\\\Expect_1\\\\Mouse21\\\\200207_2\\\\2020-02-07T14.55.28.avi', 'F:\\\\DATA\\\\BehavioralVideos\\\\Whisker_Video\\\\Whisker_Topview\\\\Expect_1\\\\Mouse21\\\\200207_2\\\\2020-02-07T14.55.34.avi', 'F:\\\\DATA\\\\BehavioralVideos\\\\Whisker_Video\\\\Whisker_Topview\\\\Expect_1\\\\Mouse21\\\\200207_2\\\\2020-02-07T14.55.41.avi', 'F:\\\\DATA\\\\BehavioralVideos\\\\Whisker_Video\\\\Whisker_Topview\\\\Expect_1\\\\Mouse21\\\\200207_2\\\\2020-02-07T14.55.47.avi', 'F:\\\\DATA\\\\BehavioralVideos\\\\Whisker_Video\\\\Whisker_Topview\\\\Expect_1\\\\Mouse21\\\\200207_2\\\\2020-02-07T14.55.55.avi', 'F:\\\\DATA\\\\BehavioralVideos\\\\Whisker_Video\\\\Whisker_Topview\\\\Expect_1\\\\Mouse21\\\\200207_2\\\\2020-02-07T14.56.13.avi', 'F:\\\\DATA\\\\BehavioralVideos\\\\Whisker_Video\\\\Whisker_Topview\\\\Expect_1\\\\Mouse21\\\\200207_2\\\\2020-02-07T14.56.21.avi', 'F:\\\\DATA\\\\BehavioralVideos\\\\Whisker_Video\\\\Whisker_Topview\\\\Expect_1\\\\Mouse21\\\\200207_2\\\\2020-02-07T14.56.27.avi', 'F:\\\\DATA\\\\BehavioralVideos\\\\Whisker_Video\\\\Whisker_Topview\\\\Expect_1\\\\Mouse21\\\\200207_2\\\\2020-02-07T14.56.34.avi', 'F:\\\\DATA\\\\BehavioralVideos\\\\Whisker_Video\\\\Whisker_Topview\\\\Expect_1\\\\Mouse21\\\\200207_2\\\\2020-02-07T14.56.40.avi', 'F:\\\\DATA\\\\BehavioralVideos\\\\Whisker_Video\\\\Whisker_Topview\\\\Expect_1\\\\Mouse21\\\\200207_2\\\\2020-02-07T14.56.48.avi', 'F:\\\\DATA\\\\BehavioralVideos\\\\Whisker_Video\\\\Whisker_Topview\\\\Expect_1\\\\Mouse21\\\\200207_2\\\\2020-02-07T14.56.59.avi', 'F:\\\\DATA\\\\BehavioralVideos\\\\Whisker_Video\\\\Whisker_Topview\\\\Expect_1\\\\Mouse21\\\\200207_2\\\\2020-02-07T14.57.05.avi', 'F:\\\\DATA\\\\BehavioralVideos\\\\Whisker_Video\\\\Whisker_Topview\\\\Expect_1\\\\Mouse21\\\\200207_2\\\\2020-02-07T14.57.14.avi', 'F:\\\\DATA\\\\BehavioralVideos\\\\Whisker_Video\\\\Whisker_Topview\\\\Expect_1\\\\Mouse21\\\\200207_2\\\\2020-02-07T14.57.20.avi', 'F:\\\\DATA\\\\BehavioralVideos\\\\Whisker_Video\\\\Whisker_Topview\\\\Expect_1\\\\Mouse21\\\\200207_2\\\\2020-02-07T14.57.26.avi', 'F:\\\\DATA\\\\BehavioralVideos\\\\Whisker_Video\\\\Whisker_Topview\\\\Expect_1\\\\Mouse21\\\\200207_2\\\\2020-02-07T14.57.32.avi', 'F:\\\\DATA\\\\BehavioralVideos\\\\Whisker_Video\\\\Whisker_Topview\\\\Expect_1\\\\Mouse21\\\\200207_2\\\\2020-02-07T14.57.37.avi', 'F:\\\\DATA\\\\BehavioralVideos\\\\Whisker_Video\\\\Whisker_Topview\\\\Expect_1\\\\Mouse21\\\\200207_2\\\\2020-02-07T14.57.45.avi']\n",
      "Repaired 54 files, number of frames possible : between 0 and 38860\n",
      "\n",
      "[27001, 27501]\n"
     ]
    },
    {
     "name": "stderr",
     "output_type": "stream",
     "text": [
      "\n",
      "Writing video at F:\\DATA\\BehavioralVideos\\Whisker_Video\\Whisker_Topview\\Expect_1\\Mouse21\\200207_2\\2020-02-07T14.57.53.avi\n"
     ]
    },
    {
     "name": "stdout",
     "output_type": "stream",
     "text": [
      "about to write a video named 2020-02-07T14.57.53\n",
      "2020-02-07T14.57.53\n",
      "Using default extension (.avi) as none was specified\n",
      "Using default framerate (30 fps) as none was specified\n",
      "Using default codec (MJPG) as none was specified\n"
     ]
    },
    {
     "name": "stderr",
     "output_type": "stream",
     "text": [
      "0% [▓▓▓▓▓▓▓▓▓▓▓▓▓▓▓▓▓▓▓▓▓▓▓▓▓▓▓▓▓▓] 100% | ETA: 00:00:00\n",
      "Total time elapsed: 00:00:13\n"
     ]
    },
    {
     "name": "stdout",
     "output_type": "stream",
     "text": [
      "Video compression at F:\\DATA\\BehavioralVideos\\Whisker_Video\\Whisker_Topview\\Expect_1\\Mouse21\\200207_2\\2020-02-07T14.57.53.avi sucessfull\n",
      "\n",
      "['F:\\\\DATA\\\\BehavioralVideos\\\\Whisker_Video\\\\Whisker_Topview\\\\Expect_1\\\\Mouse21\\\\200207_2\\\\2020-02-07T14.48.51.avi', 'F:\\\\DATA\\\\BehavioralVideos\\\\Whisker_Video\\\\Whisker_Topview\\\\Expect_1\\\\Mouse21\\\\200207_2\\\\2020-02-07T14.48.55.avi', 'F:\\\\DATA\\\\BehavioralVideos\\\\Whisker_Video\\\\Whisker_Topview\\\\Expect_1\\\\Mouse21\\\\200207_2\\\\2020-02-07T14.49.02.avi', 'F:\\\\DATA\\\\BehavioralVideos\\\\Whisker_Video\\\\Whisker_Topview\\\\Expect_1\\\\Mouse21\\\\200207_2\\\\2020-02-07T14.49.15.avi', 'F:\\\\DATA\\\\BehavioralVideos\\\\Whisker_Video\\\\Whisker_Topview\\\\Expect_1\\\\Mouse21\\\\200207_2\\\\2020-02-07T14.49.45.avi', 'F:\\\\DATA\\\\BehavioralVideos\\\\Whisker_Video\\\\Whisker_Topview\\\\Expect_1\\\\Mouse21\\\\200207_2\\\\2020-02-07T14.49.57.avi', 'F:\\\\DATA\\\\BehavioralVideos\\\\Whisker_Video\\\\Whisker_Topview\\\\Expect_1\\\\Mouse21\\\\200207_2\\\\2020-02-07T14.50.04.avi', 'F:\\\\DATA\\\\BehavioralVideos\\\\Whisker_Video\\\\Whisker_Topview\\\\Expect_1\\\\Mouse21\\\\200207_2\\\\2020-02-07T14.50.11.avi', 'F:\\\\DATA\\\\BehavioralVideos\\\\Whisker_Video\\\\Whisker_Topview\\\\Expect_1\\\\Mouse21\\\\200207_2\\\\2020-02-07T14.50.19.avi', 'F:\\\\DATA\\\\BehavioralVideos\\\\Whisker_Video\\\\Whisker_Topview\\\\Expect_1\\\\Mouse21\\\\200207_2\\\\2020-02-07T14.50.27.avi', 'F:\\\\DATA\\\\BehavioralVideos\\\\Whisker_Video\\\\Whisker_Topview\\\\Expect_1\\\\Mouse21\\\\200207_2\\\\2020-02-07T14.50.51.avi', 'F:\\\\DATA\\\\BehavioralVideos\\\\Whisker_Video\\\\Whisker_Topview\\\\Expect_1\\\\Mouse21\\\\200207_2\\\\2020-02-07T14.51.21.avi', 'F:\\\\DATA\\\\BehavioralVideos\\\\Whisker_Video\\\\Whisker_Topview\\\\Expect_1\\\\Mouse21\\\\200207_2\\\\2020-02-07T14.51.29.avi', 'F:\\\\DATA\\\\BehavioralVideos\\\\Whisker_Video\\\\Whisker_Topview\\\\Expect_1\\\\Mouse21\\\\200207_2\\\\2020-02-07T14.51.36.avi', 'F:\\\\DATA\\\\BehavioralVideos\\\\Whisker_Video\\\\Whisker_Topview\\\\Expect_1\\\\Mouse21\\\\200207_2\\\\2020-02-07T14.51.47.avi', 'F:\\\\DATA\\\\BehavioralVideos\\\\Whisker_Video\\\\Whisker_Topview\\\\Expect_1\\\\Mouse21\\\\200207_2\\\\2020-02-07T14.51.55.avi', 'F:\\\\DATA\\\\BehavioralVideos\\\\Whisker_Video\\\\Whisker_Topview\\\\Expect_1\\\\Mouse21\\\\200207_2\\\\2020-02-07T14.52.02.avi', 'F:\\\\DATA\\\\BehavioralVideos\\\\Whisker_Video\\\\Whisker_Topview\\\\Expect_1\\\\Mouse21\\\\200207_2\\\\2020-02-07T14.52.09.avi', 'F:\\\\DATA\\\\BehavioralVideos\\\\Whisker_Video\\\\Whisker_Topview\\\\Expect_1\\\\Mouse21\\\\200207_2\\\\2020-02-07T14.52.16.avi', 'F:\\\\DATA\\\\BehavioralVideos\\\\Whisker_Video\\\\Whisker_Topview\\\\Expect_1\\\\Mouse21\\\\200207_2\\\\2020-02-07T14.52.24.avi', 'F:\\\\DATA\\\\BehavioralVideos\\\\Whisker_Video\\\\Whisker_Topview\\\\Expect_1\\\\Mouse21\\\\200207_2\\\\2020-02-07T14.53.14.avi', 'F:\\\\DATA\\\\BehavioralVideos\\\\Whisker_Video\\\\Whisker_Topview\\\\Expect_1\\\\Mouse21\\\\200207_2\\\\2020-02-07T14.53.26.avi', 'F:\\\\DATA\\\\BehavioralVideos\\\\Whisker_Video\\\\Whisker_Topview\\\\Expect_1\\\\Mouse21\\\\200207_2\\\\2020-02-07T14.53.35.avi', 'F:\\\\DATA\\\\BehavioralVideos\\\\Whisker_Video\\\\Whisker_Topview\\\\Expect_1\\\\Mouse21\\\\200207_2\\\\2020-02-07T14.53.45.avi', 'F:\\\\DATA\\\\BehavioralVideos\\\\Whisker_Video\\\\Whisker_Topview\\\\Expect_1\\\\Mouse21\\\\200207_2\\\\2020-02-07T14.53.53.avi', 'F:\\\\DATA\\\\BehavioralVideos\\\\Whisker_Video\\\\Whisker_Topview\\\\Expect_1\\\\Mouse21\\\\200207_2\\\\2020-02-07T14.54.02.avi', 'F:\\\\DATA\\\\BehavioralVideos\\\\Whisker_Video\\\\Whisker_Topview\\\\Expect_1\\\\Mouse21\\\\200207_2\\\\2020-02-07T14.54.09.avi', 'F:\\\\DATA\\\\BehavioralVideos\\\\Whisker_Video\\\\Whisker_Topview\\\\Expect_1\\\\Mouse21\\\\200207_2\\\\2020-02-07T14.54.18.avi', 'F:\\\\DATA\\\\BehavioralVideos\\\\Whisker_Video\\\\Whisker_Topview\\\\Expect_1\\\\Mouse21\\\\200207_2\\\\2020-02-07T14.54.26.avi', 'F:\\\\DATA\\\\BehavioralVideos\\\\Whisker_Video\\\\Whisker_Topview\\\\Expect_1\\\\Mouse21\\\\200207_2\\\\2020-02-07T14.54.33.avi', 'F:\\\\DATA\\\\BehavioralVideos\\\\Whisker_Video\\\\Whisker_Topview\\\\Expect_1\\\\Mouse21\\\\200207_2\\\\2020-02-07T14.54.39.avi', 'F:\\\\DATA\\\\BehavioralVideos\\\\Whisker_Video\\\\Whisker_Topview\\\\Expect_1\\\\Mouse21\\\\200207_2\\\\2020-02-07T14.54.45.avi', 'F:\\\\DATA\\\\BehavioralVideos\\\\Whisker_Video\\\\Whisker_Topview\\\\Expect_1\\\\Mouse21\\\\200207_2\\\\2020-02-07T14.55.01.avi', 'F:\\\\DATA\\\\BehavioralVideos\\\\Whisker_Video\\\\Whisker_Topview\\\\Expect_1\\\\Mouse21\\\\200207_2\\\\2020-02-07T14.55.11.avi', 'F:\\\\DATA\\\\BehavioralVideos\\\\Whisker_Video\\\\Whisker_Topview\\\\Expect_1\\\\Mouse21\\\\200207_2\\\\2020-02-07T14.55.17.avi', 'F:\\\\DATA\\\\BehavioralVideos\\\\Whisker_Video\\\\Whisker_Topview\\\\Expect_1\\\\Mouse21\\\\200207_2\\\\2020-02-07T14.55.28.avi', 'F:\\\\DATA\\\\BehavioralVideos\\\\Whisker_Video\\\\Whisker_Topview\\\\Expect_1\\\\Mouse21\\\\200207_2\\\\2020-02-07T14.55.34.avi', 'F:\\\\DATA\\\\BehavioralVideos\\\\Whisker_Video\\\\Whisker_Topview\\\\Expect_1\\\\Mouse21\\\\200207_2\\\\2020-02-07T14.55.41.avi', 'F:\\\\DATA\\\\BehavioralVideos\\\\Whisker_Video\\\\Whisker_Topview\\\\Expect_1\\\\Mouse21\\\\200207_2\\\\2020-02-07T14.55.47.avi', 'F:\\\\DATA\\\\BehavioralVideos\\\\Whisker_Video\\\\Whisker_Topview\\\\Expect_1\\\\Mouse21\\\\200207_2\\\\2020-02-07T14.55.55.avi', 'F:\\\\DATA\\\\BehavioralVideos\\\\Whisker_Video\\\\Whisker_Topview\\\\Expect_1\\\\Mouse21\\\\200207_2\\\\2020-02-07T14.56.13.avi', 'F:\\\\DATA\\\\BehavioralVideos\\\\Whisker_Video\\\\Whisker_Topview\\\\Expect_1\\\\Mouse21\\\\200207_2\\\\2020-02-07T14.56.21.avi', 'F:\\\\DATA\\\\BehavioralVideos\\\\Whisker_Video\\\\Whisker_Topview\\\\Expect_1\\\\Mouse21\\\\200207_2\\\\2020-02-07T14.56.27.avi', 'F:\\\\DATA\\\\BehavioralVideos\\\\Whisker_Video\\\\Whisker_Topview\\\\Expect_1\\\\Mouse21\\\\200207_2\\\\2020-02-07T14.56.34.avi', 'F:\\\\DATA\\\\BehavioralVideos\\\\Whisker_Video\\\\Whisker_Topview\\\\Expect_1\\\\Mouse21\\\\200207_2\\\\2020-02-07T14.56.40.avi', 'F:\\\\DATA\\\\BehavioralVideos\\\\Whisker_Video\\\\Whisker_Topview\\\\Expect_1\\\\Mouse21\\\\200207_2\\\\2020-02-07T14.56.48.avi', 'F:\\\\DATA\\\\BehavioralVideos\\\\Whisker_Video\\\\Whisker_Topview\\\\Expect_1\\\\Mouse21\\\\200207_2\\\\2020-02-07T14.56.59.avi', 'F:\\\\DATA\\\\BehavioralVideos\\\\Whisker_Video\\\\Whisker_Topview\\\\Expect_1\\\\Mouse21\\\\200207_2\\\\2020-02-07T14.57.05.avi', 'F:\\\\DATA\\\\BehavioralVideos\\\\Whisker_Video\\\\Whisker_Topview\\\\Expect_1\\\\Mouse21\\\\200207_2\\\\2020-02-07T14.57.14.avi', 'F:\\\\DATA\\\\BehavioralVideos\\\\Whisker_Video\\\\Whisker_Topview\\\\Expect_1\\\\Mouse21\\\\200207_2\\\\2020-02-07T14.57.20.avi', 'F:\\\\DATA\\\\BehavioralVideos\\\\Whisker_Video\\\\Whisker_Topview\\\\Expect_1\\\\Mouse21\\\\200207_2\\\\2020-02-07T14.57.26.avi', 'F:\\\\DATA\\\\BehavioralVideos\\\\Whisker_Video\\\\Whisker_Topview\\\\Expect_1\\\\Mouse21\\\\200207_2\\\\2020-02-07T14.57.32.avi', 'F:\\\\DATA\\\\BehavioralVideos\\\\Whisker_Video\\\\Whisker_Topview\\\\Expect_1\\\\Mouse21\\\\200207_2\\\\2020-02-07T14.57.37.avi', 'F:\\\\DATA\\\\BehavioralVideos\\\\Whisker_Video\\\\Whisker_Topview\\\\Expect_1\\\\Mouse21\\\\200207_2\\\\2020-02-07T14.57.45.avi', 'F:\\\\DATA\\\\BehavioralVideos\\\\Whisker_Video\\\\Whisker_Topview\\\\Expect_1\\\\Mouse21\\\\200207_2\\\\2020-02-07T14.57.53.avi']\n",
      "Repaired 55 files, number of frames possible : between 0 and 38860\n",
      "\n",
      "[27501, 28001]\n"
     ]
    },
    {
     "name": "stderr",
     "output_type": "stream",
     "text": [
      "\n",
      "Writing video at F:\\DATA\\BehavioralVideos\\Whisker_Video\\Whisker_Topview\\Expect_1\\Mouse21\\200207_2\\2020-02-07T14.58.00.avi\n"
     ]
    },
    {
     "name": "stdout",
     "output_type": "stream",
     "text": [
      "about to write a video named 2020-02-07T14.58.00\n",
      "2020-02-07T14.58.00\n",
      "Using default extension (.avi) as none was specified\n",
      "Using default framerate (30 fps) as none was specified\n",
      "Using default codec (MJPG) as none was specified\n"
     ]
    },
    {
     "name": "stderr",
     "output_type": "stream",
     "text": [
      "0% [▓▓▓▓▓▓▓▓▓▓▓▓▓▓▓▓▓▓▓▓▓▓▓▓▓▓▓▓▓▓] 100% | ETA: 00:00:00\n",
      "Total time elapsed: 00:00:13\n"
     ]
    },
    {
     "name": "stdout",
     "output_type": "stream",
     "text": [
      "Video compression at F:\\DATA\\BehavioralVideos\\Whisker_Video\\Whisker_Topview\\Expect_1\\Mouse21\\200207_2\\2020-02-07T14.58.00.avi sucessfull\n",
      "\n",
      "['F:\\\\DATA\\\\BehavioralVideos\\\\Whisker_Video\\\\Whisker_Topview\\\\Expect_1\\\\Mouse21\\\\200207_2\\\\2020-02-07T14.48.51.avi', 'F:\\\\DATA\\\\BehavioralVideos\\\\Whisker_Video\\\\Whisker_Topview\\\\Expect_1\\\\Mouse21\\\\200207_2\\\\2020-02-07T14.48.55.avi', 'F:\\\\DATA\\\\BehavioralVideos\\\\Whisker_Video\\\\Whisker_Topview\\\\Expect_1\\\\Mouse21\\\\200207_2\\\\2020-02-07T14.49.02.avi', 'F:\\\\DATA\\\\BehavioralVideos\\\\Whisker_Video\\\\Whisker_Topview\\\\Expect_1\\\\Mouse21\\\\200207_2\\\\2020-02-07T14.49.15.avi', 'F:\\\\DATA\\\\BehavioralVideos\\\\Whisker_Video\\\\Whisker_Topview\\\\Expect_1\\\\Mouse21\\\\200207_2\\\\2020-02-07T14.49.45.avi', 'F:\\\\DATA\\\\BehavioralVideos\\\\Whisker_Video\\\\Whisker_Topview\\\\Expect_1\\\\Mouse21\\\\200207_2\\\\2020-02-07T14.49.57.avi', 'F:\\\\DATA\\\\BehavioralVideos\\\\Whisker_Video\\\\Whisker_Topview\\\\Expect_1\\\\Mouse21\\\\200207_2\\\\2020-02-07T14.50.04.avi', 'F:\\\\DATA\\\\BehavioralVideos\\\\Whisker_Video\\\\Whisker_Topview\\\\Expect_1\\\\Mouse21\\\\200207_2\\\\2020-02-07T14.50.11.avi', 'F:\\\\DATA\\\\BehavioralVideos\\\\Whisker_Video\\\\Whisker_Topview\\\\Expect_1\\\\Mouse21\\\\200207_2\\\\2020-02-07T14.50.19.avi', 'F:\\\\DATA\\\\BehavioralVideos\\\\Whisker_Video\\\\Whisker_Topview\\\\Expect_1\\\\Mouse21\\\\200207_2\\\\2020-02-07T14.50.27.avi', 'F:\\\\DATA\\\\BehavioralVideos\\\\Whisker_Video\\\\Whisker_Topview\\\\Expect_1\\\\Mouse21\\\\200207_2\\\\2020-02-07T14.50.51.avi', 'F:\\\\DATA\\\\BehavioralVideos\\\\Whisker_Video\\\\Whisker_Topview\\\\Expect_1\\\\Mouse21\\\\200207_2\\\\2020-02-07T14.51.21.avi', 'F:\\\\DATA\\\\BehavioralVideos\\\\Whisker_Video\\\\Whisker_Topview\\\\Expect_1\\\\Mouse21\\\\200207_2\\\\2020-02-07T14.51.29.avi', 'F:\\\\DATA\\\\BehavioralVideos\\\\Whisker_Video\\\\Whisker_Topview\\\\Expect_1\\\\Mouse21\\\\200207_2\\\\2020-02-07T14.51.36.avi', 'F:\\\\DATA\\\\BehavioralVideos\\\\Whisker_Video\\\\Whisker_Topview\\\\Expect_1\\\\Mouse21\\\\200207_2\\\\2020-02-07T14.51.47.avi', 'F:\\\\DATA\\\\BehavioralVideos\\\\Whisker_Video\\\\Whisker_Topview\\\\Expect_1\\\\Mouse21\\\\200207_2\\\\2020-02-07T14.51.55.avi', 'F:\\\\DATA\\\\BehavioralVideos\\\\Whisker_Video\\\\Whisker_Topview\\\\Expect_1\\\\Mouse21\\\\200207_2\\\\2020-02-07T14.52.02.avi', 'F:\\\\DATA\\\\BehavioralVideos\\\\Whisker_Video\\\\Whisker_Topview\\\\Expect_1\\\\Mouse21\\\\200207_2\\\\2020-02-07T14.52.09.avi', 'F:\\\\DATA\\\\BehavioralVideos\\\\Whisker_Video\\\\Whisker_Topview\\\\Expect_1\\\\Mouse21\\\\200207_2\\\\2020-02-07T14.52.16.avi', 'F:\\\\DATA\\\\BehavioralVideos\\\\Whisker_Video\\\\Whisker_Topview\\\\Expect_1\\\\Mouse21\\\\200207_2\\\\2020-02-07T14.52.24.avi', 'F:\\\\DATA\\\\BehavioralVideos\\\\Whisker_Video\\\\Whisker_Topview\\\\Expect_1\\\\Mouse21\\\\200207_2\\\\2020-02-07T14.53.14.avi', 'F:\\\\DATA\\\\BehavioralVideos\\\\Whisker_Video\\\\Whisker_Topview\\\\Expect_1\\\\Mouse21\\\\200207_2\\\\2020-02-07T14.53.26.avi', 'F:\\\\DATA\\\\BehavioralVideos\\\\Whisker_Video\\\\Whisker_Topview\\\\Expect_1\\\\Mouse21\\\\200207_2\\\\2020-02-07T14.53.35.avi', 'F:\\\\DATA\\\\BehavioralVideos\\\\Whisker_Video\\\\Whisker_Topview\\\\Expect_1\\\\Mouse21\\\\200207_2\\\\2020-02-07T14.53.45.avi', 'F:\\\\DATA\\\\BehavioralVideos\\\\Whisker_Video\\\\Whisker_Topview\\\\Expect_1\\\\Mouse21\\\\200207_2\\\\2020-02-07T14.53.53.avi', 'F:\\\\DATA\\\\BehavioralVideos\\\\Whisker_Video\\\\Whisker_Topview\\\\Expect_1\\\\Mouse21\\\\200207_2\\\\2020-02-07T14.54.02.avi', 'F:\\\\DATA\\\\BehavioralVideos\\\\Whisker_Video\\\\Whisker_Topview\\\\Expect_1\\\\Mouse21\\\\200207_2\\\\2020-02-07T14.54.09.avi', 'F:\\\\DATA\\\\BehavioralVideos\\\\Whisker_Video\\\\Whisker_Topview\\\\Expect_1\\\\Mouse21\\\\200207_2\\\\2020-02-07T14.54.18.avi', 'F:\\\\DATA\\\\BehavioralVideos\\\\Whisker_Video\\\\Whisker_Topview\\\\Expect_1\\\\Mouse21\\\\200207_2\\\\2020-02-07T14.54.26.avi', 'F:\\\\DATA\\\\BehavioralVideos\\\\Whisker_Video\\\\Whisker_Topview\\\\Expect_1\\\\Mouse21\\\\200207_2\\\\2020-02-07T14.54.33.avi', 'F:\\\\DATA\\\\BehavioralVideos\\\\Whisker_Video\\\\Whisker_Topview\\\\Expect_1\\\\Mouse21\\\\200207_2\\\\2020-02-07T14.54.39.avi', 'F:\\\\DATA\\\\BehavioralVideos\\\\Whisker_Video\\\\Whisker_Topview\\\\Expect_1\\\\Mouse21\\\\200207_2\\\\2020-02-07T14.54.45.avi', 'F:\\\\DATA\\\\BehavioralVideos\\\\Whisker_Video\\\\Whisker_Topview\\\\Expect_1\\\\Mouse21\\\\200207_2\\\\2020-02-07T14.55.01.avi', 'F:\\\\DATA\\\\BehavioralVideos\\\\Whisker_Video\\\\Whisker_Topview\\\\Expect_1\\\\Mouse21\\\\200207_2\\\\2020-02-07T14.55.11.avi', 'F:\\\\DATA\\\\BehavioralVideos\\\\Whisker_Video\\\\Whisker_Topview\\\\Expect_1\\\\Mouse21\\\\200207_2\\\\2020-02-07T14.55.17.avi', 'F:\\\\DATA\\\\BehavioralVideos\\\\Whisker_Video\\\\Whisker_Topview\\\\Expect_1\\\\Mouse21\\\\200207_2\\\\2020-02-07T14.55.28.avi', 'F:\\\\DATA\\\\BehavioralVideos\\\\Whisker_Video\\\\Whisker_Topview\\\\Expect_1\\\\Mouse21\\\\200207_2\\\\2020-02-07T14.55.34.avi', 'F:\\\\DATA\\\\BehavioralVideos\\\\Whisker_Video\\\\Whisker_Topview\\\\Expect_1\\\\Mouse21\\\\200207_2\\\\2020-02-07T14.55.41.avi', 'F:\\\\DATA\\\\BehavioralVideos\\\\Whisker_Video\\\\Whisker_Topview\\\\Expect_1\\\\Mouse21\\\\200207_2\\\\2020-02-07T14.55.47.avi', 'F:\\\\DATA\\\\BehavioralVideos\\\\Whisker_Video\\\\Whisker_Topview\\\\Expect_1\\\\Mouse21\\\\200207_2\\\\2020-02-07T14.55.55.avi', 'F:\\\\DATA\\\\BehavioralVideos\\\\Whisker_Video\\\\Whisker_Topview\\\\Expect_1\\\\Mouse21\\\\200207_2\\\\2020-02-07T14.56.13.avi', 'F:\\\\DATA\\\\BehavioralVideos\\\\Whisker_Video\\\\Whisker_Topview\\\\Expect_1\\\\Mouse21\\\\200207_2\\\\2020-02-07T14.56.21.avi', 'F:\\\\DATA\\\\BehavioralVideos\\\\Whisker_Video\\\\Whisker_Topview\\\\Expect_1\\\\Mouse21\\\\200207_2\\\\2020-02-07T14.56.27.avi', 'F:\\\\DATA\\\\BehavioralVideos\\\\Whisker_Video\\\\Whisker_Topview\\\\Expect_1\\\\Mouse21\\\\200207_2\\\\2020-02-07T14.56.34.avi', 'F:\\\\DATA\\\\BehavioralVideos\\\\Whisker_Video\\\\Whisker_Topview\\\\Expect_1\\\\Mouse21\\\\200207_2\\\\2020-02-07T14.56.40.avi', 'F:\\\\DATA\\\\BehavioralVideos\\\\Whisker_Video\\\\Whisker_Topview\\\\Expect_1\\\\Mouse21\\\\200207_2\\\\2020-02-07T14.56.48.avi', 'F:\\\\DATA\\\\BehavioralVideos\\\\Whisker_Video\\\\Whisker_Topview\\\\Expect_1\\\\Mouse21\\\\200207_2\\\\2020-02-07T14.56.59.avi', 'F:\\\\DATA\\\\BehavioralVideos\\\\Whisker_Video\\\\Whisker_Topview\\\\Expect_1\\\\Mouse21\\\\200207_2\\\\2020-02-07T14.57.05.avi', 'F:\\\\DATA\\\\BehavioralVideos\\\\Whisker_Video\\\\Whisker_Topview\\\\Expect_1\\\\Mouse21\\\\200207_2\\\\2020-02-07T14.57.14.avi', 'F:\\\\DATA\\\\BehavioralVideos\\\\Whisker_Video\\\\Whisker_Topview\\\\Expect_1\\\\Mouse21\\\\200207_2\\\\2020-02-07T14.57.20.avi', 'F:\\\\DATA\\\\BehavioralVideos\\\\Whisker_Video\\\\Whisker_Topview\\\\Expect_1\\\\Mouse21\\\\200207_2\\\\2020-02-07T14.57.26.avi', 'F:\\\\DATA\\\\BehavioralVideos\\\\Whisker_Video\\\\Whisker_Topview\\\\Expect_1\\\\Mouse21\\\\200207_2\\\\2020-02-07T14.57.32.avi', 'F:\\\\DATA\\\\BehavioralVideos\\\\Whisker_Video\\\\Whisker_Topview\\\\Expect_1\\\\Mouse21\\\\200207_2\\\\2020-02-07T14.57.37.avi', 'F:\\\\DATA\\\\BehavioralVideos\\\\Whisker_Video\\\\Whisker_Topview\\\\Expect_1\\\\Mouse21\\\\200207_2\\\\2020-02-07T14.57.45.avi', 'F:\\\\DATA\\\\BehavioralVideos\\\\Whisker_Video\\\\Whisker_Topview\\\\Expect_1\\\\Mouse21\\\\200207_2\\\\2020-02-07T14.57.53.avi', 'F:\\\\DATA\\\\BehavioralVideos\\\\Whisker_Video\\\\Whisker_Topview\\\\Expect_1\\\\Mouse21\\\\200207_2\\\\2020-02-07T14.58.00.avi']\n",
      "Repaired 56 files, number of frames possible : between 0 and 38860\n",
      "\n",
      "[28001, 28501]\n"
     ]
    },
    {
     "name": "stderr",
     "output_type": "stream",
     "text": [
      "\n",
      "Writing video at F:\\DATA\\BehavioralVideos\\Whisker_Video\\Whisker_Topview\\Expect_1\\Mouse21\\200207_2\\2020-02-07T14.58.06.avi\n"
     ]
    },
    {
     "name": "stdout",
     "output_type": "stream",
     "text": [
      "about to write a video named 2020-02-07T14.58.06\n",
      "2020-02-07T14.58.06\n",
      "Using default extension (.avi) as none was specified\n",
      "Using default framerate (30 fps) as none was specified\n",
      "Using default codec (MJPG) as none was specified\n"
     ]
    },
    {
     "name": "stderr",
     "output_type": "stream",
     "text": [
      "0% [▓▓▓▓▓▓▓▓▓▓▓▓▓▓▓▓▓▓▓▓▓▓▓▓▓▓▓▓▓▓] 100% | ETA: 00:00:00\n",
      "Total time elapsed: 00:00:13\n"
     ]
    },
    {
     "name": "stdout",
     "output_type": "stream",
     "text": [
      "Video compression at F:\\DATA\\BehavioralVideos\\Whisker_Video\\Whisker_Topview\\Expect_1\\Mouse21\\200207_2\\2020-02-07T14.58.06.avi sucessfull\n",
      "\n",
      "['F:\\\\DATA\\\\BehavioralVideos\\\\Whisker_Video\\\\Whisker_Topview\\\\Expect_1\\\\Mouse21\\\\200207_2\\\\2020-02-07T14.48.51.avi', 'F:\\\\DATA\\\\BehavioralVideos\\\\Whisker_Video\\\\Whisker_Topview\\\\Expect_1\\\\Mouse21\\\\200207_2\\\\2020-02-07T14.48.55.avi', 'F:\\\\DATA\\\\BehavioralVideos\\\\Whisker_Video\\\\Whisker_Topview\\\\Expect_1\\\\Mouse21\\\\200207_2\\\\2020-02-07T14.49.02.avi', 'F:\\\\DATA\\\\BehavioralVideos\\\\Whisker_Video\\\\Whisker_Topview\\\\Expect_1\\\\Mouse21\\\\200207_2\\\\2020-02-07T14.49.15.avi', 'F:\\\\DATA\\\\BehavioralVideos\\\\Whisker_Video\\\\Whisker_Topview\\\\Expect_1\\\\Mouse21\\\\200207_2\\\\2020-02-07T14.49.45.avi', 'F:\\\\DATA\\\\BehavioralVideos\\\\Whisker_Video\\\\Whisker_Topview\\\\Expect_1\\\\Mouse21\\\\200207_2\\\\2020-02-07T14.49.57.avi', 'F:\\\\DATA\\\\BehavioralVideos\\\\Whisker_Video\\\\Whisker_Topview\\\\Expect_1\\\\Mouse21\\\\200207_2\\\\2020-02-07T14.50.04.avi', 'F:\\\\DATA\\\\BehavioralVideos\\\\Whisker_Video\\\\Whisker_Topview\\\\Expect_1\\\\Mouse21\\\\200207_2\\\\2020-02-07T14.50.11.avi', 'F:\\\\DATA\\\\BehavioralVideos\\\\Whisker_Video\\\\Whisker_Topview\\\\Expect_1\\\\Mouse21\\\\200207_2\\\\2020-02-07T14.50.19.avi', 'F:\\\\DATA\\\\BehavioralVideos\\\\Whisker_Video\\\\Whisker_Topview\\\\Expect_1\\\\Mouse21\\\\200207_2\\\\2020-02-07T14.50.27.avi', 'F:\\\\DATA\\\\BehavioralVideos\\\\Whisker_Video\\\\Whisker_Topview\\\\Expect_1\\\\Mouse21\\\\200207_2\\\\2020-02-07T14.50.51.avi', 'F:\\\\DATA\\\\BehavioralVideos\\\\Whisker_Video\\\\Whisker_Topview\\\\Expect_1\\\\Mouse21\\\\200207_2\\\\2020-02-07T14.51.21.avi', 'F:\\\\DATA\\\\BehavioralVideos\\\\Whisker_Video\\\\Whisker_Topview\\\\Expect_1\\\\Mouse21\\\\200207_2\\\\2020-02-07T14.51.29.avi', 'F:\\\\DATA\\\\BehavioralVideos\\\\Whisker_Video\\\\Whisker_Topview\\\\Expect_1\\\\Mouse21\\\\200207_2\\\\2020-02-07T14.51.36.avi', 'F:\\\\DATA\\\\BehavioralVideos\\\\Whisker_Video\\\\Whisker_Topview\\\\Expect_1\\\\Mouse21\\\\200207_2\\\\2020-02-07T14.51.47.avi', 'F:\\\\DATA\\\\BehavioralVideos\\\\Whisker_Video\\\\Whisker_Topview\\\\Expect_1\\\\Mouse21\\\\200207_2\\\\2020-02-07T14.51.55.avi', 'F:\\\\DATA\\\\BehavioralVideos\\\\Whisker_Video\\\\Whisker_Topview\\\\Expect_1\\\\Mouse21\\\\200207_2\\\\2020-02-07T14.52.02.avi', 'F:\\\\DATA\\\\BehavioralVideos\\\\Whisker_Video\\\\Whisker_Topview\\\\Expect_1\\\\Mouse21\\\\200207_2\\\\2020-02-07T14.52.09.avi', 'F:\\\\DATA\\\\BehavioralVideos\\\\Whisker_Video\\\\Whisker_Topview\\\\Expect_1\\\\Mouse21\\\\200207_2\\\\2020-02-07T14.52.16.avi', 'F:\\\\DATA\\\\BehavioralVideos\\\\Whisker_Video\\\\Whisker_Topview\\\\Expect_1\\\\Mouse21\\\\200207_2\\\\2020-02-07T14.52.24.avi', 'F:\\\\DATA\\\\BehavioralVideos\\\\Whisker_Video\\\\Whisker_Topview\\\\Expect_1\\\\Mouse21\\\\200207_2\\\\2020-02-07T14.53.14.avi', 'F:\\\\DATA\\\\BehavioralVideos\\\\Whisker_Video\\\\Whisker_Topview\\\\Expect_1\\\\Mouse21\\\\200207_2\\\\2020-02-07T14.53.26.avi', 'F:\\\\DATA\\\\BehavioralVideos\\\\Whisker_Video\\\\Whisker_Topview\\\\Expect_1\\\\Mouse21\\\\200207_2\\\\2020-02-07T14.53.35.avi', 'F:\\\\DATA\\\\BehavioralVideos\\\\Whisker_Video\\\\Whisker_Topview\\\\Expect_1\\\\Mouse21\\\\200207_2\\\\2020-02-07T14.53.45.avi', 'F:\\\\DATA\\\\BehavioralVideos\\\\Whisker_Video\\\\Whisker_Topview\\\\Expect_1\\\\Mouse21\\\\200207_2\\\\2020-02-07T14.53.53.avi', 'F:\\\\DATA\\\\BehavioralVideos\\\\Whisker_Video\\\\Whisker_Topview\\\\Expect_1\\\\Mouse21\\\\200207_2\\\\2020-02-07T14.54.02.avi', 'F:\\\\DATA\\\\BehavioralVideos\\\\Whisker_Video\\\\Whisker_Topview\\\\Expect_1\\\\Mouse21\\\\200207_2\\\\2020-02-07T14.54.09.avi', 'F:\\\\DATA\\\\BehavioralVideos\\\\Whisker_Video\\\\Whisker_Topview\\\\Expect_1\\\\Mouse21\\\\200207_2\\\\2020-02-07T14.54.18.avi', 'F:\\\\DATA\\\\BehavioralVideos\\\\Whisker_Video\\\\Whisker_Topview\\\\Expect_1\\\\Mouse21\\\\200207_2\\\\2020-02-07T14.54.26.avi', 'F:\\\\DATA\\\\BehavioralVideos\\\\Whisker_Video\\\\Whisker_Topview\\\\Expect_1\\\\Mouse21\\\\200207_2\\\\2020-02-07T14.54.33.avi', 'F:\\\\DATA\\\\BehavioralVideos\\\\Whisker_Video\\\\Whisker_Topview\\\\Expect_1\\\\Mouse21\\\\200207_2\\\\2020-02-07T14.54.39.avi', 'F:\\\\DATA\\\\BehavioralVideos\\\\Whisker_Video\\\\Whisker_Topview\\\\Expect_1\\\\Mouse21\\\\200207_2\\\\2020-02-07T14.54.45.avi', 'F:\\\\DATA\\\\BehavioralVideos\\\\Whisker_Video\\\\Whisker_Topview\\\\Expect_1\\\\Mouse21\\\\200207_2\\\\2020-02-07T14.55.01.avi', 'F:\\\\DATA\\\\BehavioralVideos\\\\Whisker_Video\\\\Whisker_Topview\\\\Expect_1\\\\Mouse21\\\\200207_2\\\\2020-02-07T14.55.11.avi', 'F:\\\\DATA\\\\BehavioralVideos\\\\Whisker_Video\\\\Whisker_Topview\\\\Expect_1\\\\Mouse21\\\\200207_2\\\\2020-02-07T14.55.17.avi', 'F:\\\\DATA\\\\BehavioralVideos\\\\Whisker_Video\\\\Whisker_Topview\\\\Expect_1\\\\Mouse21\\\\200207_2\\\\2020-02-07T14.55.28.avi', 'F:\\\\DATA\\\\BehavioralVideos\\\\Whisker_Video\\\\Whisker_Topview\\\\Expect_1\\\\Mouse21\\\\200207_2\\\\2020-02-07T14.55.34.avi', 'F:\\\\DATA\\\\BehavioralVideos\\\\Whisker_Video\\\\Whisker_Topview\\\\Expect_1\\\\Mouse21\\\\200207_2\\\\2020-02-07T14.55.41.avi', 'F:\\\\DATA\\\\BehavioralVideos\\\\Whisker_Video\\\\Whisker_Topview\\\\Expect_1\\\\Mouse21\\\\200207_2\\\\2020-02-07T14.55.47.avi', 'F:\\\\DATA\\\\BehavioralVideos\\\\Whisker_Video\\\\Whisker_Topview\\\\Expect_1\\\\Mouse21\\\\200207_2\\\\2020-02-07T14.55.55.avi', 'F:\\\\DATA\\\\BehavioralVideos\\\\Whisker_Video\\\\Whisker_Topview\\\\Expect_1\\\\Mouse21\\\\200207_2\\\\2020-02-07T14.56.13.avi', 'F:\\\\DATA\\\\BehavioralVideos\\\\Whisker_Video\\\\Whisker_Topview\\\\Expect_1\\\\Mouse21\\\\200207_2\\\\2020-02-07T14.56.21.avi', 'F:\\\\DATA\\\\BehavioralVideos\\\\Whisker_Video\\\\Whisker_Topview\\\\Expect_1\\\\Mouse21\\\\200207_2\\\\2020-02-07T14.56.27.avi', 'F:\\\\DATA\\\\BehavioralVideos\\\\Whisker_Video\\\\Whisker_Topview\\\\Expect_1\\\\Mouse21\\\\200207_2\\\\2020-02-07T14.56.34.avi', 'F:\\\\DATA\\\\BehavioralVideos\\\\Whisker_Video\\\\Whisker_Topview\\\\Expect_1\\\\Mouse21\\\\200207_2\\\\2020-02-07T14.56.40.avi', 'F:\\\\DATA\\\\BehavioralVideos\\\\Whisker_Video\\\\Whisker_Topview\\\\Expect_1\\\\Mouse21\\\\200207_2\\\\2020-02-07T14.56.48.avi', 'F:\\\\DATA\\\\BehavioralVideos\\\\Whisker_Video\\\\Whisker_Topview\\\\Expect_1\\\\Mouse21\\\\200207_2\\\\2020-02-07T14.56.59.avi', 'F:\\\\DATA\\\\BehavioralVideos\\\\Whisker_Video\\\\Whisker_Topview\\\\Expect_1\\\\Mouse21\\\\200207_2\\\\2020-02-07T14.57.05.avi', 'F:\\\\DATA\\\\BehavioralVideos\\\\Whisker_Video\\\\Whisker_Topview\\\\Expect_1\\\\Mouse21\\\\200207_2\\\\2020-02-07T14.57.14.avi', 'F:\\\\DATA\\\\BehavioralVideos\\\\Whisker_Video\\\\Whisker_Topview\\\\Expect_1\\\\Mouse21\\\\200207_2\\\\2020-02-07T14.57.20.avi', 'F:\\\\DATA\\\\BehavioralVideos\\\\Whisker_Video\\\\Whisker_Topview\\\\Expect_1\\\\Mouse21\\\\200207_2\\\\2020-02-07T14.57.26.avi', 'F:\\\\DATA\\\\BehavioralVideos\\\\Whisker_Video\\\\Whisker_Topview\\\\Expect_1\\\\Mouse21\\\\200207_2\\\\2020-02-07T14.57.32.avi', 'F:\\\\DATA\\\\BehavioralVideos\\\\Whisker_Video\\\\Whisker_Topview\\\\Expect_1\\\\Mouse21\\\\200207_2\\\\2020-02-07T14.57.37.avi', 'F:\\\\DATA\\\\BehavioralVideos\\\\Whisker_Video\\\\Whisker_Topview\\\\Expect_1\\\\Mouse21\\\\200207_2\\\\2020-02-07T14.57.45.avi', 'F:\\\\DATA\\\\BehavioralVideos\\\\Whisker_Video\\\\Whisker_Topview\\\\Expect_1\\\\Mouse21\\\\200207_2\\\\2020-02-07T14.57.53.avi', 'F:\\\\DATA\\\\BehavioralVideos\\\\Whisker_Video\\\\Whisker_Topview\\\\Expect_1\\\\Mouse21\\\\200207_2\\\\2020-02-07T14.58.00.avi', 'F:\\\\DATA\\\\BehavioralVideos\\\\Whisker_Video\\\\Whisker_Topview\\\\Expect_1\\\\Mouse21\\\\200207_2\\\\2020-02-07T14.58.06.avi']\n",
      "Repaired 57 files, number of frames possible : between 0 and 38860\n",
      "\n",
      "[28501, 29001]\n"
     ]
    },
    {
     "name": "stderr",
     "output_type": "stream",
     "text": [
      "\n",
      "Writing video at F:\\DATA\\BehavioralVideos\\Whisker_Video\\Whisker_Topview\\Expect_1\\Mouse21\\200207_2\\2020-02-07T14.58.13.avi\n"
     ]
    },
    {
     "name": "stdout",
     "output_type": "stream",
     "text": [
      "about to write a video named 2020-02-07T14.58.13\n",
      "2020-02-07T14.58.13\n",
      "Using default extension (.avi) as none was specified\n",
      "Using default framerate (30 fps) as none was specified\n",
      "Using default codec (MJPG) as none was specified\n"
     ]
    },
    {
     "name": "stderr",
     "output_type": "stream",
     "text": [
      "0% [▓▓▓▓▓▓▓▓▓▓▓▓▓▓▓▓▓▓▓▓▓▓▓▓▓▓▓▓▓▓] 100% | ETA: 00:00:00\n",
      "Total time elapsed: 00:00:14\n"
     ]
    },
    {
     "name": "stdout",
     "output_type": "stream",
     "text": [
      "Video compression at F:\\DATA\\BehavioralVideos\\Whisker_Video\\Whisker_Topview\\Expect_1\\Mouse21\\200207_2\\2020-02-07T14.58.13.avi sucessfull\n",
      "\n",
      "['F:\\\\DATA\\\\BehavioralVideos\\\\Whisker_Video\\\\Whisker_Topview\\\\Expect_1\\\\Mouse21\\\\200207_2\\\\2020-02-07T14.48.51.avi', 'F:\\\\DATA\\\\BehavioralVideos\\\\Whisker_Video\\\\Whisker_Topview\\\\Expect_1\\\\Mouse21\\\\200207_2\\\\2020-02-07T14.48.55.avi', 'F:\\\\DATA\\\\BehavioralVideos\\\\Whisker_Video\\\\Whisker_Topview\\\\Expect_1\\\\Mouse21\\\\200207_2\\\\2020-02-07T14.49.02.avi', 'F:\\\\DATA\\\\BehavioralVideos\\\\Whisker_Video\\\\Whisker_Topview\\\\Expect_1\\\\Mouse21\\\\200207_2\\\\2020-02-07T14.49.15.avi', 'F:\\\\DATA\\\\BehavioralVideos\\\\Whisker_Video\\\\Whisker_Topview\\\\Expect_1\\\\Mouse21\\\\200207_2\\\\2020-02-07T14.49.45.avi', 'F:\\\\DATA\\\\BehavioralVideos\\\\Whisker_Video\\\\Whisker_Topview\\\\Expect_1\\\\Mouse21\\\\200207_2\\\\2020-02-07T14.49.57.avi', 'F:\\\\DATA\\\\BehavioralVideos\\\\Whisker_Video\\\\Whisker_Topview\\\\Expect_1\\\\Mouse21\\\\200207_2\\\\2020-02-07T14.50.04.avi', 'F:\\\\DATA\\\\BehavioralVideos\\\\Whisker_Video\\\\Whisker_Topview\\\\Expect_1\\\\Mouse21\\\\200207_2\\\\2020-02-07T14.50.11.avi', 'F:\\\\DATA\\\\BehavioralVideos\\\\Whisker_Video\\\\Whisker_Topview\\\\Expect_1\\\\Mouse21\\\\200207_2\\\\2020-02-07T14.50.19.avi', 'F:\\\\DATA\\\\BehavioralVideos\\\\Whisker_Video\\\\Whisker_Topview\\\\Expect_1\\\\Mouse21\\\\200207_2\\\\2020-02-07T14.50.27.avi', 'F:\\\\DATA\\\\BehavioralVideos\\\\Whisker_Video\\\\Whisker_Topview\\\\Expect_1\\\\Mouse21\\\\200207_2\\\\2020-02-07T14.50.51.avi', 'F:\\\\DATA\\\\BehavioralVideos\\\\Whisker_Video\\\\Whisker_Topview\\\\Expect_1\\\\Mouse21\\\\200207_2\\\\2020-02-07T14.51.21.avi', 'F:\\\\DATA\\\\BehavioralVideos\\\\Whisker_Video\\\\Whisker_Topview\\\\Expect_1\\\\Mouse21\\\\200207_2\\\\2020-02-07T14.51.29.avi', 'F:\\\\DATA\\\\BehavioralVideos\\\\Whisker_Video\\\\Whisker_Topview\\\\Expect_1\\\\Mouse21\\\\200207_2\\\\2020-02-07T14.51.36.avi', 'F:\\\\DATA\\\\BehavioralVideos\\\\Whisker_Video\\\\Whisker_Topview\\\\Expect_1\\\\Mouse21\\\\200207_2\\\\2020-02-07T14.51.47.avi', 'F:\\\\DATA\\\\BehavioralVideos\\\\Whisker_Video\\\\Whisker_Topview\\\\Expect_1\\\\Mouse21\\\\200207_2\\\\2020-02-07T14.51.55.avi', 'F:\\\\DATA\\\\BehavioralVideos\\\\Whisker_Video\\\\Whisker_Topview\\\\Expect_1\\\\Mouse21\\\\200207_2\\\\2020-02-07T14.52.02.avi', 'F:\\\\DATA\\\\BehavioralVideos\\\\Whisker_Video\\\\Whisker_Topview\\\\Expect_1\\\\Mouse21\\\\200207_2\\\\2020-02-07T14.52.09.avi', 'F:\\\\DATA\\\\BehavioralVideos\\\\Whisker_Video\\\\Whisker_Topview\\\\Expect_1\\\\Mouse21\\\\200207_2\\\\2020-02-07T14.52.16.avi', 'F:\\\\DATA\\\\BehavioralVideos\\\\Whisker_Video\\\\Whisker_Topview\\\\Expect_1\\\\Mouse21\\\\200207_2\\\\2020-02-07T14.52.24.avi', 'F:\\\\DATA\\\\BehavioralVideos\\\\Whisker_Video\\\\Whisker_Topview\\\\Expect_1\\\\Mouse21\\\\200207_2\\\\2020-02-07T14.53.14.avi', 'F:\\\\DATA\\\\BehavioralVideos\\\\Whisker_Video\\\\Whisker_Topview\\\\Expect_1\\\\Mouse21\\\\200207_2\\\\2020-02-07T14.53.26.avi', 'F:\\\\DATA\\\\BehavioralVideos\\\\Whisker_Video\\\\Whisker_Topview\\\\Expect_1\\\\Mouse21\\\\200207_2\\\\2020-02-07T14.53.35.avi', 'F:\\\\DATA\\\\BehavioralVideos\\\\Whisker_Video\\\\Whisker_Topview\\\\Expect_1\\\\Mouse21\\\\200207_2\\\\2020-02-07T14.53.45.avi', 'F:\\\\DATA\\\\BehavioralVideos\\\\Whisker_Video\\\\Whisker_Topview\\\\Expect_1\\\\Mouse21\\\\200207_2\\\\2020-02-07T14.53.53.avi', 'F:\\\\DATA\\\\BehavioralVideos\\\\Whisker_Video\\\\Whisker_Topview\\\\Expect_1\\\\Mouse21\\\\200207_2\\\\2020-02-07T14.54.02.avi', 'F:\\\\DATA\\\\BehavioralVideos\\\\Whisker_Video\\\\Whisker_Topview\\\\Expect_1\\\\Mouse21\\\\200207_2\\\\2020-02-07T14.54.09.avi', 'F:\\\\DATA\\\\BehavioralVideos\\\\Whisker_Video\\\\Whisker_Topview\\\\Expect_1\\\\Mouse21\\\\200207_2\\\\2020-02-07T14.54.18.avi', 'F:\\\\DATA\\\\BehavioralVideos\\\\Whisker_Video\\\\Whisker_Topview\\\\Expect_1\\\\Mouse21\\\\200207_2\\\\2020-02-07T14.54.26.avi', 'F:\\\\DATA\\\\BehavioralVideos\\\\Whisker_Video\\\\Whisker_Topview\\\\Expect_1\\\\Mouse21\\\\200207_2\\\\2020-02-07T14.54.33.avi', 'F:\\\\DATA\\\\BehavioralVideos\\\\Whisker_Video\\\\Whisker_Topview\\\\Expect_1\\\\Mouse21\\\\200207_2\\\\2020-02-07T14.54.39.avi', 'F:\\\\DATA\\\\BehavioralVideos\\\\Whisker_Video\\\\Whisker_Topview\\\\Expect_1\\\\Mouse21\\\\200207_2\\\\2020-02-07T14.54.45.avi', 'F:\\\\DATA\\\\BehavioralVideos\\\\Whisker_Video\\\\Whisker_Topview\\\\Expect_1\\\\Mouse21\\\\200207_2\\\\2020-02-07T14.55.01.avi', 'F:\\\\DATA\\\\BehavioralVideos\\\\Whisker_Video\\\\Whisker_Topview\\\\Expect_1\\\\Mouse21\\\\200207_2\\\\2020-02-07T14.55.11.avi', 'F:\\\\DATA\\\\BehavioralVideos\\\\Whisker_Video\\\\Whisker_Topview\\\\Expect_1\\\\Mouse21\\\\200207_2\\\\2020-02-07T14.55.17.avi', 'F:\\\\DATA\\\\BehavioralVideos\\\\Whisker_Video\\\\Whisker_Topview\\\\Expect_1\\\\Mouse21\\\\200207_2\\\\2020-02-07T14.55.28.avi', 'F:\\\\DATA\\\\BehavioralVideos\\\\Whisker_Video\\\\Whisker_Topview\\\\Expect_1\\\\Mouse21\\\\200207_2\\\\2020-02-07T14.55.34.avi', 'F:\\\\DATA\\\\BehavioralVideos\\\\Whisker_Video\\\\Whisker_Topview\\\\Expect_1\\\\Mouse21\\\\200207_2\\\\2020-02-07T14.55.41.avi', 'F:\\\\DATA\\\\BehavioralVideos\\\\Whisker_Video\\\\Whisker_Topview\\\\Expect_1\\\\Mouse21\\\\200207_2\\\\2020-02-07T14.55.47.avi', 'F:\\\\DATA\\\\BehavioralVideos\\\\Whisker_Video\\\\Whisker_Topview\\\\Expect_1\\\\Mouse21\\\\200207_2\\\\2020-02-07T14.55.55.avi', 'F:\\\\DATA\\\\BehavioralVideos\\\\Whisker_Video\\\\Whisker_Topview\\\\Expect_1\\\\Mouse21\\\\200207_2\\\\2020-02-07T14.56.13.avi', 'F:\\\\DATA\\\\BehavioralVideos\\\\Whisker_Video\\\\Whisker_Topview\\\\Expect_1\\\\Mouse21\\\\200207_2\\\\2020-02-07T14.56.21.avi', 'F:\\\\DATA\\\\BehavioralVideos\\\\Whisker_Video\\\\Whisker_Topview\\\\Expect_1\\\\Mouse21\\\\200207_2\\\\2020-02-07T14.56.27.avi', 'F:\\\\DATA\\\\BehavioralVideos\\\\Whisker_Video\\\\Whisker_Topview\\\\Expect_1\\\\Mouse21\\\\200207_2\\\\2020-02-07T14.56.34.avi', 'F:\\\\DATA\\\\BehavioralVideos\\\\Whisker_Video\\\\Whisker_Topview\\\\Expect_1\\\\Mouse21\\\\200207_2\\\\2020-02-07T14.56.40.avi', 'F:\\\\DATA\\\\BehavioralVideos\\\\Whisker_Video\\\\Whisker_Topview\\\\Expect_1\\\\Mouse21\\\\200207_2\\\\2020-02-07T14.56.48.avi', 'F:\\\\DATA\\\\BehavioralVideos\\\\Whisker_Video\\\\Whisker_Topview\\\\Expect_1\\\\Mouse21\\\\200207_2\\\\2020-02-07T14.56.59.avi', 'F:\\\\DATA\\\\BehavioralVideos\\\\Whisker_Video\\\\Whisker_Topview\\\\Expect_1\\\\Mouse21\\\\200207_2\\\\2020-02-07T14.57.05.avi', 'F:\\\\DATA\\\\BehavioralVideos\\\\Whisker_Video\\\\Whisker_Topview\\\\Expect_1\\\\Mouse21\\\\200207_2\\\\2020-02-07T14.57.14.avi', 'F:\\\\DATA\\\\BehavioralVideos\\\\Whisker_Video\\\\Whisker_Topview\\\\Expect_1\\\\Mouse21\\\\200207_2\\\\2020-02-07T14.57.20.avi', 'F:\\\\DATA\\\\BehavioralVideos\\\\Whisker_Video\\\\Whisker_Topview\\\\Expect_1\\\\Mouse21\\\\200207_2\\\\2020-02-07T14.57.26.avi', 'F:\\\\DATA\\\\BehavioralVideos\\\\Whisker_Video\\\\Whisker_Topview\\\\Expect_1\\\\Mouse21\\\\200207_2\\\\2020-02-07T14.57.32.avi', 'F:\\\\DATA\\\\BehavioralVideos\\\\Whisker_Video\\\\Whisker_Topview\\\\Expect_1\\\\Mouse21\\\\200207_2\\\\2020-02-07T14.57.37.avi', 'F:\\\\DATA\\\\BehavioralVideos\\\\Whisker_Video\\\\Whisker_Topview\\\\Expect_1\\\\Mouse21\\\\200207_2\\\\2020-02-07T14.57.45.avi', 'F:\\\\DATA\\\\BehavioralVideos\\\\Whisker_Video\\\\Whisker_Topview\\\\Expect_1\\\\Mouse21\\\\200207_2\\\\2020-02-07T14.57.53.avi', 'F:\\\\DATA\\\\BehavioralVideos\\\\Whisker_Video\\\\Whisker_Topview\\\\Expect_1\\\\Mouse21\\\\200207_2\\\\2020-02-07T14.58.00.avi', 'F:\\\\DATA\\\\BehavioralVideos\\\\Whisker_Video\\\\Whisker_Topview\\\\Expect_1\\\\Mouse21\\\\200207_2\\\\2020-02-07T14.58.06.avi', 'F:\\\\DATA\\\\BehavioralVideos\\\\Whisker_Video\\\\Whisker_Topview\\\\Expect_1\\\\Mouse21\\\\200207_2\\\\2020-02-07T14.58.13.avi']\n",
      "Repaired 58 files, number of frames possible : between 0 and 38860\n",
      "\n",
      "[29001, 29501]\n"
     ]
    },
    {
     "name": "stderr",
     "output_type": "stream",
     "text": [
      "\n",
      "Writing video at F:\\DATA\\BehavioralVideos\\Whisker_Video\\Whisker_Topview\\Expect_1\\Mouse21\\200207_2\\2020-02-07T14.58.27.avi\n"
     ]
    },
    {
     "name": "stdout",
     "output_type": "stream",
     "text": [
      "about to write a video named 2020-02-07T14.58.27\n",
      "2020-02-07T14.58.27\n",
      "Using default extension (.avi) as none was specified\n",
      "Using default framerate (30 fps) as none was specified\n",
      "Using default codec (MJPG) as none was specified\n"
     ]
    },
    {
     "name": "stderr",
     "output_type": "stream",
     "text": [
      "0% [▓▓▓▓▓▓▓▓▓▓▓▓▓▓▓▓▓▓▓▓▓▓▓▓▓▓▓▓▓▓] 100% | ETA: 00:00:00\n",
      "Total time elapsed: 00:00:13\n"
     ]
    },
    {
     "name": "stdout",
     "output_type": "stream",
     "text": [
      "Video compression at F:\\DATA\\BehavioralVideos\\Whisker_Video\\Whisker_Topview\\Expect_1\\Mouse21\\200207_2\\2020-02-07T14.58.27.avi sucessfull\n",
      "\n",
      "['F:\\\\DATA\\\\BehavioralVideos\\\\Whisker_Video\\\\Whisker_Topview\\\\Expect_1\\\\Mouse21\\\\200207_2\\\\2020-02-07T14.48.51.avi', 'F:\\\\DATA\\\\BehavioralVideos\\\\Whisker_Video\\\\Whisker_Topview\\\\Expect_1\\\\Mouse21\\\\200207_2\\\\2020-02-07T14.48.55.avi', 'F:\\\\DATA\\\\BehavioralVideos\\\\Whisker_Video\\\\Whisker_Topview\\\\Expect_1\\\\Mouse21\\\\200207_2\\\\2020-02-07T14.49.02.avi', 'F:\\\\DATA\\\\BehavioralVideos\\\\Whisker_Video\\\\Whisker_Topview\\\\Expect_1\\\\Mouse21\\\\200207_2\\\\2020-02-07T14.49.15.avi', 'F:\\\\DATA\\\\BehavioralVideos\\\\Whisker_Video\\\\Whisker_Topview\\\\Expect_1\\\\Mouse21\\\\200207_2\\\\2020-02-07T14.49.45.avi', 'F:\\\\DATA\\\\BehavioralVideos\\\\Whisker_Video\\\\Whisker_Topview\\\\Expect_1\\\\Mouse21\\\\200207_2\\\\2020-02-07T14.49.57.avi', 'F:\\\\DATA\\\\BehavioralVideos\\\\Whisker_Video\\\\Whisker_Topview\\\\Expect_1\\\\Mouse21\\\\200207_2\\\\2020-02-07T14.50.04.avi', 'F:\\\\DATA\\\\BehavioralVideos\\\\Whisker_Video\\\\Whisker_Topview\\\\Expect_1\\\\Mouse21\\\\200207_2\\\\2020-02-07T14.50.11.avi', 'F:\\\\DATA\\\\BehavioralVideos\\\\Whisker_Video\\\\Whisker_Topview\\\\Expect_1\\\\Mouse21\\\\200207_2\\\\2020-02-07T14.50.19.avi', 'F:\\\\DATA\\\\BehavioralVideos\\\\Whisker_Video\\\\Whisker_Topview\\\\Expect_1\\\\Mouse21\\\\200207_2\\\\2020-02-07T14.50.27.avi', 'F:\\\\DATA\\\\BehavioralVideos\\\\Whisker_Video\\\\Whisker_Topview\\\\Expect_1\\\\Mouse21\\\\200207_2\\\\2020-02-07T14.50.51.avi', 'F:\\\\DATA\\\\BehavioralVideos\\\\Whisker_Video\\\\Whisker_Topview\\\\Expect_1\\\\Mouse21\\\\200207_2\\\\2020-02-07T14.51.21.avi', 'F:\\\\DATA\\\\BehavioralVideos\\\\Whisker_Video\\\\Whisker_Topview\\\\Expect_1\\\\Mouse21\\\\200207_2\\\\2020-02-07T14.51.29.avi', 'F:\\\\DATA\\\\BehavioralVideos\\\\Whisker_Video\\\\Whisker_Topview\\\\Expect_1\\\\Mouse21\\\\200207_2\\\\2020-02-07T14.51.36.avi', 'F:\\\\DATA\\\\BehavioralVideos\\\\Whisker_Video\\\\Whisker_Topview\\\\Expect_1\\\\Mouse21\\\\200207_2\\\\2020-02-07T14.51.47.avi', 'F:\\\\DATA\\\\BehavioralVideos\\\\Whisker_Video\\\\Whisker_Topview\\\\Expect_1\\\\Mouse21\\\\200207_2\\\\2020-02-07T14.51.55.avi', 'F:\\\\DATA\\\\BehavioralVideos\\\\Whisker_Video\\\\Whisker_Topview\\\\Expect_1\\\\Mouse21\\\\200207_2\\\\2020-02-07T14.52.02.avi', 'F:\\\\DATA\\\\BehavioralVideos\\\\Whisker_Video\\\\Whisker_Topview\\\\Expect_1\\\\Mouse21\\\\200207_2\\\\2020-02-07T14.52.09.avi', 'F:\\\\DATA\\\\BehavioralVideos\\\\Whisker_Video\\\\Whisker_Topview\\\\Expect_1\\\\Mouse21\\\\200207_2\\\\2020-02-07T14.52.16.avi', 'F:\\\\DATA\\\\BehavioralVideos\\\\Whisker_Video\\\\Whisker_Topview\\\\Expect_1\\\\Mouse21\\\\200207_2\\\\2020-02-07T14.52.24.avi', 'F:\\\\DATA\\\\BehavioralVideos\\\\Whisker_Video\\\\Whisker_Topview\\\\Expect_1\\\\Mouse21\\\\200207_2\\\\2020-02-07T14.53.14.avi', 'F:\\\\DATA\\\\BehavioralVideos\\\\Whisker_Video\\\\Whisker_Topview\\\\Expect_1\\\\Mouse21\\\\200207_2\\\\2020-02-07T14.53.26.avi', 'F:\\\\DATA\\\\BehavioralVideos\\\\Whisker_Video\\\\Whisker_Topview\\\\Expect_1\\\\Mouse21\\\\200207_2\\\\2020-02-07T14.53.35.avi', 'F:\\\\DATA\\\\BehavioralVideos\\\\Whisker_Video\\\\Whisker_Topview\\\\Expect_1\\\\Mouse21\\\\200207_2\\\\2020-02-07T14.53.45.avi', 'F:\\\\DATA\\\\BehavioralVideos\\\\Whisker_Video\\\\Whisker_Topview\\\\Expect_1\\\\Mouse21\\\\200207_2\\\\2020-02-07T14.53.53.avi', 'F:\\\\DATA\\\\BehavioralVideos\\\\Whisker_Video\\\\Whisker_Topview\\\\Expect_1\\\\Mouse21\\\\200207_2\\\\2020-02-07T14.54.02.avi', 'F:\\\\DATA\\\\BehavioralVideos\\\\Whisker_Video\\\\Whisker_Topview\\\\Expect_1\\\\Mouse21\\\\200207_2\\\\2020-02-07T14.54.09.avi', 'F:\\\\DATA\\\\BehavioralVideos\\\\Whisker_Video\\\\Whisker_Topview\\\\Expect_1\\\\Mouse21\\\\200207_2\\\\2020-02-07T14.54.18.avi', 'F:\\\\DATA\\\\BehavioralVideos\\\\Whisker_Video\\\\Whisker_Topview\\\\Expect_1\\\\Mouse21\\\\200207_2\\\\2020-02-07T14.54.26.avi', 'F:\\\\DATA\\\\BehavioralVideos\\\\Whisker_Video\\\\Whisker_Topview\\\\Expect_1\\\\Mouse21\\\\200207_2\\\\2020-02-07T14.54.33.avi', 'F:\\\\DATA\\\\BehavioralVideos\\\\Whisker_Video\\\\Whisker_Topview\\\\Expect_1\\\\Mouse21\\\\200207_2\\\\2020-02-07T14.54.39.avi', 'F:\\\\DATA\\\\BehavioralVideos\\\\Whisker_Video\\\\Whisker_Topview\\\\Expect_1\\\\Mouse21\\\\200207_2\\\\2020-02-07T14.54.45.avi', 'F:\\\\DATA\\\\BehavioralVideos\\\\Whisker_Video\\\\Whisker_Topview\\\\Expect_1\\\\Mouse21\\\\200207_2\\\\2020-02-07T14.55.01.avi', 'F:\\\\DATA\\\\BehavioralVideos\\\\Whisker_Video\\\\Whisker_Topview\\\\Expect_1\\\\Mouse21\\\\200207_2\\\\2020-02-07T14.55.11.avi', 'F:\\\\DATA\\\\BehavioralVideos\\\\Whisker_Video\\\\Whisker_Topview\\\\Expect_1\\\\Mouse21\\\\200207_2\\\\2020-02-07T14.55.17.avi', 'F:\\\\DATA\\\\BehavioralVideos\\\\Whisker_Video\\\\Whisker_Topview\\\\Expect_1\\\\Mouse21\\\\200207_2\\\\2020-02-07T14.55.28.avi', 'F:\\\\DATA\\\\BehavioralVideos\\\\Whisker_Video\\\\Whisker_Topview\\\\Expect_1\\\\Mouse21\\\\200207_2\\\\2020-02-07T14.55.34.avi', 'F:\\\\DATA\\\\BehavioralVideos\\\\Whisker_Video\\\\Whisker_Topview\\\\Expect_1\\\\Mouse21\\\\200207_2\\\\2020-02-07T14.55.41.avi', 'F:\\\\DATA\\\\BehavioralVideos\\\\Whisker_Video\\\\Whisker_Topview\\\\Expect_1\\\\Mouse21\\\\200207_2\\\\2020-02-07T14.55.47.avi', 'F:\\\\DATA\\\\BehavioralVideos\\\\Whisker_Video\\\\Whisker_Topview\\\\Expect_1\\\\Mouse21\\\\200207_2\\\\2020-02-07T14.55.55.avi', 'F:\\\\DATA\\\\BehavioralVideos\\\\Whisker_Video\\\\Whisker_Topview\\\\Expect_1\\\\Mouse21\\\\200207_2\\\\2020-02-07T14.56.13.avi', 'F:\\\\DATA\\\\BehavioralVideos\\\\Whisker_Video\\\\Whisker_Topview\\\\Expect_1\\\\Mouse21\\\\200207_2\\\\2020-02-07T14.56.21.avi', 'F:\\\\DATA\\\\BehavioralVideos\\\\Whisker_Video\\\\Whisker_Topview\\\\Expect_1\\\\Mouse21\\\\200207_2\\\\2020-02-07T14.56.27.avi', 'F:\\\\DATA\\\\BehavioralVideos\\\\Whisker_Video\\\\Whisker_Topview\\\\Expect_1\\\\Mouse21\\\\200207_2\\\\2020-02-07T14.56.34.avi', 'F:\\\\DATA\\\\BehavioralVideos\\\\Whisker_Video\\\\Whisker_Topview\\\\Expect_1\\\\Mouse21\\\\200207_2\\\\2020-02-07T14.56.40.avi', 'F:\\\\DATA\\\\BehavioralVideos\\\\Whisker_Video\\\\Whisker_Topview\\\\Expect_1\\\\Mouse21\\\\200207_2\\\\2020-02-07T14.56.48.avi', 'F:\\\\DATA\\\\BehavioralVideos\\\\Whisker_Video\\\\Whisker_Topview\\\\Expect_1\\\\Mouse21\\\\200207_2\\\\2020-02-07T14.56.59.avi', 'F:\\\\DATA\\\\BehavioralVideos\\\\Whisker_Video\\\\Whisker_Topview\\\\Expect_1\\\\Mouse21\\\\200207_2\\\\2020-02-07T14.57.05.avi', 'F:\\\\DATA\\\\BehavioralVideos\\\\Whisker_Video\\\\Whisker_Topview\\\\Expect_1\\\\Mouse21\\\\200207_2\\\\2020-02-07T14.57.14.avi', 'F:\\\\DATA\\\\BehavioralVideos\\\\Whisker_Video\\\\Whisker_Topview\\\\Expect_1\\\\Mouse21\\\\200207_2\\\\2020-02-07T14.57.20.avi', 'F:\\\\DATA\\\\BehavioralVideos\\\\Whisker_Video\\\\Whisker_Topview\\\\Expect_1\\\\Mouse21\\\\200207_2\\\\2020-02-07T14.57.26.avi', 'F:\\\\DATA\\\\BehavioralVideos\\\\Whisker_Video\\\\Whisker_Topview\\\\Expect_1\\\\Mouse21\\\\200207_2\\\\2020-02-07T14.57.32.avi', 'F:\\\\DATA\\\\BehavioralVideos\\\\Whisker_Video\\\\Whisker_Topview\\\\Expect_1\\\\Mouse21\\\\200207_2\\\\2020-02-07T14.57.37.avi', 'F:\\\\DATA\\\\BehavioralVideos\\\\Whisker_Video\\\\Whisker_Topview\\\\Expect_1\\\\Mouse21\\\\200207_2\\\\2020-02-07T14.57.45.avi', 'F:\\\\DATA\\\\BehavioralVideos\\\\Whisker_Video\\\\Whisker_Topview\\\\Expect_1\\\\Mouse21\\\\200207_2\\\\2020-02-07T14.57.53.avi', 'F:\\\\DATA\\\\BehavioralVideos\\\\Whisker_Video\\\\Whisker_Topview\\\\Expect_1\\\\Mouse21\\\\200207_2\\\\2020-02-07T14.58.00.avi', 'F:\\\\DATA\\\\BehavioralVideos\\\\Whisker_Video\\\\Whisker_Topview\\\\Expect_1\\\\Mouse21\\\\200207_2\\\\2020-02-07T14.58.06.avi', 'F:\\\\DATA\\\\BehavioralVideos\\\\Whisker_Video\\\\Whisker_Topview\\\\Expect_1\\\\Mouse21\\\\200207_2\\\\2020-02-07T14.58.13.avi', 'F:\\\\DATA\\\\BehavioralVideos\\\\Whisker_Video\\\\Whisker_Topview\\\\Expect_1\\\\Mouse21\\\\200207_2\\\\2020-02-07T14.58.27.avi']\n",
      "Repaired 59 files, number of frames possible : between 0 and 38860\n",
      "\n",
      "[29501, 30001]\n"
     ]
    },
    {
     "name": "stderr",
     "output_type": "stream",
     "text": [
      "\n",
      "Writing video at F:\\DATA\\BehavioralVideos\\Whisker_Video\\Whisker_Topview\\Expect_1\\Mouse21\\200207_2\\2020-02-07T14.58.36.avi\n"
     ]
    },
    {
     "name": "stdout",
     "output_type": "stream",
     "text": [
      "about to write a video named 2020-02-07T14.58.36\n",
      "2020-02-07T14.58.36\n",
      "Using default extension (.avi) as none was specified\n",
      "Using default framerate (30 fps) as none was specified\n",
      "Using default codec (MJPG) as none was specified\n"
     ]
    },
    {
     "name": "stderr",
     "output_type": "stream",
     "text": [
      "0% [▓▓▓▓▓▓▓▓▓▓▓▓▓▓▓▓▓▓▓▓▓▓▓▓▓▓▓▓▓▓] 100% | ETA: 00:00:00\n",
      "Total time elapsed: 00:00:13\n"
     ]
    },
    {
     "name": "stdout",
     "output_type": "stream",
     "text": [
      "Video compression at F:\\DATA\\BehavioralVideos\\Whisker_Video\\Whisker_Topview\\Expect_1\\Mouse21\\200207_2\\2020-02-07T14.58.36.avi sucessfull\n",
      "\n",
      "['F:\\\\DATA\\\\BehavioralVideos\\\\Whisker_Video\\\\Whisker_Topview\\\\Expect_1\\\\Mouse21\\\\200207_2\\\\2020-02-07T14.48.51.avi', 'F:\\\\DATA\\\\BehavioralVideos\\\\Whisker_Video\\\\Whisker_Topview\\\\Expect_1\\\\Mouse21\\\\200207_2\\\\2020-02-07T14.48.55.avi', 'F:\\\\DATA\\\\BehavioralVideos\\\\Whisker_Video\\\\Whisker_Topview\\\\Expect_1\\\\Mouse21\\\\200207_2\\\\2020-02-07T14.49.02.avi', 'F:\\\\DATA\\\\BehavioralVideos\\\\Whisker_Video\\\\Whisker_Topview\\\\Expect_1\\\\Mouse21\\\\200207_2\\\\2020-02-07T14.49.15.avi', 'F:\\\\DATA\\\\BehavioralVideos\\\\Whisker_Video\\\\Whisker_Topview\\\\Expect_1\\\\Mouse21\\\\200207_2\\\\2020-02-07T14.49.45.avi', 'F:\\\\DATA\\\\BehavioralVideos\\\\Whisker_Video\\\\Whisker_Topview\\\\Expect_1\\\\Mouse21\\\\200207_2\\\\2020-02-07T14.49.57.avi', 'F:\\\\DATA\\\\BehavioralVideos\\\\Whisker_Video\\\\Whisker_Topview\\\\Expect_1\\\\Mouse21\\\\200207_2\\\\2020-02-07T14.50.04.avi', 'F:\\\\DATA\\\\BehavioralVideos\\\\Whisker_Video\\\\Whisker_Topview\\\\Expect_1\\\\Mouse21\\\\200207_2\\\\2020-02-07T14.50.11.avi', 'F:\\\\DATA\\\\BehavioralVideos\\\\Whisker_Video\\\\Whisker_Topview\\\\Expect_1\\\\Mouse21\\\\200207_2\\\\2020-02-07T14.50.19.avi', 'F:\\\\DATA\\\\BehavioralVideos\\\\Whisker_Video\\\\Whisker_Topview\\\\Expect_1\\\\Mouse21\\\\200207_2\\\\2020-02-07T14.50.27.avi', 'F:\\\\DATA\\\\BehavioralVideos\\\\Whisker_Video\\\\Whisker_Topview\\\\Expect_1\\\\Mouse21\\\\200207_2\\\\2020-02-07T14.50.51.avi', 'F:\\\\DATA\\\\BehavioralVideos\\\\Whisker_Video\\\\Whisker_Topview\\\\Expect_1\\\\Mouse21\\\\200207_2\\\\2020-02-07T14.51.21.avi', 'F:\\\\DATA\\\\BehavioralVideos\\\\Whisker_Video\\\\Whisker_Topview\\\\Expect_1\\\\Mouse21\\\\200207_2\\\\2020-02-07T14.51.29.avi', 'F:\\\\DATA\\\\BehavioralVideos\\\\Whisker_Video\\\\Whisker_Topview\\\\Expect_1\\\\Mouse21\\\\200207_2\\\\2020-02-07T14.51.36.avi', 'F:\\\\DATA\\\\BehavioralVideos\\\\Whisker_Video\\\\Whisker_Topview\\\\Expect_1\\\\Mouse21\\\\200207_2\\\\2020-02-07T14.51.47.avi', 'F:\\\\DATA\\\\BehavioralVideos\\\\Whisker_Video\\\\Whisker_Topview\\\\Expect_1\\\\Mouse21\\\\200207_2\\\\2020-02-07T14.51.55.avi', 'F:\\\\DATA\\\\BehavioralVideos\\\\Whisker_Video\\\\Whisker_Topview\\\\Expect_1\\\\Mouse21\\\\200207_2\\\\2020-02-07T14.52.02.avi', 'F:\\\\DATA\\\\BehavioralVideos\\\\Whisker_Video\\\\Whisker_Topview\\\\Expect_1\\\\Mouse21\\\\200207_2\\\\2020-02-07T14.52.09.avi', 'F:\\\\DATA\\\\BehavioralVideos\\\\Whisker_Video\\\\Whisker_Topview\\\\Expect_1\\\\Mouse21\\\\200207_2\\\\2020-02-07T14.52.16.avi', 'F:\\\\DATA\\\\BehavioralVideos\\\\Whisker_Video\\\\Whisker_Topview\\\\Expect_1\\\\Mouse21\\\\200207_2\\\\2020-02-07T14.52.24.avi', 'F:\\\\DATA\\\\BehavioralVideos\\\\Whisker_Video\\\\Whisker_Topview\\\\Expect_1\\\\Mouse21\\\\200207_2\\\\2020-02-07T14.53.14.avi', 'F:\\\\DATA\\\\BehavioralVideos\\\\Whisker_Video\\\\Whisker_Topview\\\\Expect_1\\\\Mouse21\\\\200207_2\\\\2020-02-07T14.53.26.avi', 'F:\\\\DATA\\\\BehavioralVideos\\\\Whisker_Video\\\\Whisker_Topview\\\\Expect_1\\\\Mouse21\\\\200207_2\\\\2020-02-07T14.53.35.avi', 'F:\\\\DATA\\\\BehavioralVideos\\\\Whisker_Video\\\\Whisker_Topview\\\\Expect_1\\\\Mouse21\\\\200207_2\\\\2020-02-07T14.53.45.avi', 'F:\\\\DATA\\\\BehavioralVideos\\\\Whisker_Video\\\\Whisker_Topview\\\\Expect_1\\\\Mouse21\\\\200207_2\\\\2020-02-07T14.53.53.avi', 'F:\\\\DATA\\\\BehavioralVideos\\\\Whisker_Video\\\\Whisker_Topview\\\\Expect_1\\\\Mouse21\\\\200207_2\\\\2020-02-07T14.54.02.avi', 'F:\\\\DATA\\\\BehavioralVideos\\\\Whisker_Video\\\\Whisker_Topview\\\\Expect_1\\\\Mouse21\\\\200207_2\\\\2020-02-07T14.54.09.avi', 'F:\\\\DATA\\\\BehavioralVideos\\\\Whisker_Video\\\\Whisker_Topview\\\\Expect_1\\\\Mouse21\\\\200207_2\\\\2020-02-07T14.54.18.avi', 'F:\\\\DATA\\\\BehavioralVideos\\\\Whisker_Video\\\\Whisker_Topview\\\\Expect_1\\\\Mouse21\\\\200207_2\\\\2020-02-07T14.54.26.avi', 'F:\\\\DATA\\\\BehavioralVideos\\\\Whisker_Video\\\\Whisker_Topview\\\\Expect_1\\\\Mouse21\\\\200207_2\\\\2020-02-07T14.54.33.avi', 'F:\\\\DATA\\\\BehavioralVideos\\\\Whisker_Video\\\\Whisker_Topview\\\\Expect_1\\\\Mouse21\\\\200207_2\\\\2020-02-07T14.54.39.avi', 'F:\\\\DATA\\\\BehavioralVideos\\\\Whisker_Video\\\\Whisker_Topview\\\\Expect_1\\\\Mouse21\\\\200207_2\\\\2020-02-07T14.54.45.avi', 'F:\\\\DATA\\\\BehavioralVideos\\\\Whisker_Video\\\\Whisker_Topview\\\\Expect_1\\\\Mouse21\\\\200207_2\\\\2020-02-07T14.55.01.avi', 'F:\\\\DATA\\\\BehavioralVideos\\\\Whisker_Video\\\\Whisker_Topview\\\\Expect_1\\\\Mouse21\\\\200207_2\\\\2020-02-07T14.55.11.avi', 'F:\\\\DATA\\\\BehavioralVideos\\\\Whisker_Video\\\\Whisker_Topview\\\\Expect_1\\\\Mouse21\\\\200207_2\\\\2020-02-07T14.55.17.avi', 'F:\\\\DATA\\\\BehavioralVideos\\\\Whisker_Video\\\\Whisker_Topview\\\\Expect_1\\\\Mouse21\\\\200207_2\\\\2020-02-07T14.55.28.avi', 'F:\\\\DATA\\\\BehavioralVideos\\\\Whisker_Video\\\\Whisker_Topview\\\\Expect_1\\\\Mouse21\\\\200207_2\\\\2020-02-07T14.55.34.avi', 'F:\\\\DATA\\\\BehavioralVideos\\\\Whisker_Video\\\\Whisker_Topview\\\\Expect_1\\\\Mouse21\\\\200207_2\\\\2020-02-07T14.55.41.avi', 'F:\\\\DATA\\\\BehavioralVideos\\\\Whisker_Video\\\\Whisker_Topview\\\\Expect_1\\\\Mouse21\\\\200207_2\\\\2020-02-07T14.55.47.avi', 'F:\\\\DATA\\\\BehavioralVideos\\\\Whisker_Video\\\\Whisker_Topview\\\\Expect_1\\\\Mouse21\\\\200207_2\\\\2020-02-07T14.55.55.avi', 'F:\\\\DATA\\\\BehavioralVideos\\\\Whisker_Video\\\\Whisker_Topview\\\\Expect_1\\\\Mouse21\\\\200207_2\\\\2020-02-07T14.56.13.avi', 'F:\\\\DATA\\\\BehavioralVideos\\\\Whisker_Video\\\\Whisker_Topview\\\\Expect_1\\\\Mouse21\\\\200207_2\\\\2020-02-07T14.56.21.avi', 'F:\\\\DATA\\\\BehavioralVideos\\\\Whisker_Video\\\\Whisker_Topview\\\\Expect_1\\\\Mouse21\\\\200207_2\\\\2020-02-07T14.56.27.avi', 'F:\\\\DATA\\\\BehavioralVideos\\\\Whisker_Video\\\\Whisker_Topview\\\\Expect_1\\\\Mouse21\\\\200207_2\\\\2020-02-07T14.56.34.avi', 'F:\\\\DATA\\\\BehavioralVideos\\\\Whisker_Video\\\\Whisker_Topview\\\\Expect_1\\\\Mouse21\\\\200207_2\\\\2020-02-07T14.56.40.avi', 'F:\\\\DATA\\\\BehavioralVideos\\\\Whisker_Video\\\\Whisker_Topview\\\\Expect_1\\\\Mouse21\\\\200207_2\\\\2020-02-07T14.56.48.avi', 'F:\\\\DATA\\\\BehavioralVideos\\\\Whisker_Video\\\\Whisker_Topview\\\\Expect_1\\\\Mouse21\\\\200207_2\\\\2020-02-07T14.56.59.avi', 'F:\\\\DATA\\\\BehavioralVideos\\\\Whisker_Video\\\\Whisker_Topview\\\\Expect_1\\\\Mouse21\\\\200207_2\\\\2020-02-07T14.57.05.avi', 'F:\\\\DATA\\\\BehavioralVideos\\\\Whisker_Video\\\\Whisker_Topview\\\\Expect_1\\\\Mouse21\\\\200207_2\\\\2020-02-07T14.57.14.avi', 'F:\\\\DATA\\\\BehavioralVideos\\\\Whisker_Video\\\\Whisker_Topview\\\\Expect_1\\\\Mouse21\\\\200207_2\\\\2020-02-07T14.57.20.avi', 'F:\\\\DATA\\\\BehavioralVideos\\\\Whisker_Video\\\\Whisker_Topview\\\\Expect_1\\\\Mouse21\\\\200207_2\\\\2020-02-07T14.57.26.avi', 'F:\\\\DATA\\\\BehavioralVideos\\\\Whisker_Video\\\\Whisker_Topview\\\\Expect_1\\\\Mouse21\\\\200207_2\\\\2020-02-07T14.57.32.avi', 'F:\\\\DATA\\\\BehavioralVideos\\\\Whisker_Video\\\\Whisker_Topview\\\\Expect_1\\\\Mouse21\\\\200207_2\\\\2020-02-07T14.57.37.avi', 'F:\\\\DATA\\\\BehavioralVideos\\\\Whisker_Video\\\\Whisker_Topview\\\\Expect_1\\\\Mouse21\\\\200207_2\\\\2020-02-07T14.57.45.avi', 'F:\\\\DATA\\\\BehavioralVideos\\\\Whisker_Video\\\\Whisker_Topview\\\\Expect_1\\\\Mouse21\\\\200207_2\\\\2020-02-07T14.57.53.avi', 'F:\\\\DATA\\\\BehavioralVideos\\\\Whisker_Video\\\\Whisker_Topview\\\\Expect_1\\\\Mouse21\\\\200207_2\\\\2020-02-07T14.58.00.avi', 'F:\\\\DATA\\\\BehavioralVideos\\\\Whisker_Video\\\\Whisker_Topview\\\\Expect_1\\\\Mouse21\\\\200207_2\\\\2020-02-07T14.58.06.avi', 'F:\\\\DATA\\\\BehavioralVideos\\\\Whisker_Video\\\\Whisker_Topview\\\\Expect_1\\\\Mouse21\\\\200207_2\\\\2020-02-07T14.58.13.avi', 'F:\\\\DATA\\\\BehavioralVideos\\\\Whisker_Video\\\\Whisker_Topview\\\\Expect_1\\\\Mouse21\\\\200207_2\\\\2020-02-07T14.58.27.avi', 'F:\\\\DATA\\\\BehavioralVideos\\\\Whisker_Video\\\\Whisker_Topview\\\\Expect_1\\\\Mouse21\\\\200207_2\\\\2020-02-07T14.58.36.avi']\n",
      "Repaired 60 files, number of frames possible : between 0 and 38860\n",
      "\n",
      "[30001, 30501]\n"
     ]
    },
    {
     "name": "stderr",
     "output_type": "stream",
     "text": [
      "\n",
      "Writing video at F:\\DATA\\BehavioralVideos\\Whisker_Video\\Whisker_Topview\\Expect_1\\Mouse21\\200207_2\\2020-02-07T14.58.42.avi\n"
     ]
    },
    {
     "name": "stdout",
     "output_type": "stream",
     "text": [
      "about to write a video named 2020-02-07T14.58.42\n",
      "2020-02-07T14.58.42\n",
      "Using default extension (.avi) as none was specified\n",
      "Using default framerate (30 fps) as none was specified\n",
      "Using default codec (MJPG) as none was specified\n"
     ]
    },
    {
     "name": "stderr",
     "output_type": "stream",
     "text": [
      "0% [▓▓▓▓▓▓▓▓▓▓▓▓▓▓▓▓▓▓▓▓▓▓▓▓▓▓▓▓▓▓] 100% | ETA: 00:00:00\n",
      "Total time elapsed: 00:00:13\n"
     ]
    },
    {
     "name": "stdout",
     "output_type": "stream",
     "text": [
      "Video compression at F:\\DATA\\BehavioralVideos\\Whisker_Video\\Whisker_Topview\\Expect_1\\Mouse21\\200207_2\\2020-02-07T14.58.42.avi sucessfull\n",
      "\n",
      "['F:\\\\DATA\\\\BehavioralVideos\\\\Whisker_Video\\\\Whisker_Topview\\\\Expect_1\\\\Mouse21\\\\200207_2\\\\2020-02-07T14.48.51.avi', 'F:\\\\DATA\\\\BehavioralVideos\\\\Whisker_Video\\\\Whisker_Topview\\\\Expect_1\\\\Mouse21\\\\200207_2\\\\2020-02-07T14.48.55.avi', 'F:\\\\DATA\\\\BehavioralVideos\\\\Whisker_Video\\\\Whisker_Topview\\\\Expect_1\\\\Mouse21\\\\200207_2\\\\2020-02-07T14.49.02.avi', 'F:\\\\DATA\\\\BehavioralVideos\\\\Whisker_Video\\\\Whisker_Topview\\\\Expect_1\\\\Mouse21\\\\200207_2\\\\2020-02-07T14.49.15.avi', 'F:\\\\DATA\\\\BehavioralVideos\\\\Whisker_Video\\\\Whisker_Topview\\\\Expect_1\\\\Mouse21\\\\200207_2\\\\2020-02-07T14.49.45.avi', 'F:\\\\DATA\\\\BehavioralVideos\\\\Whisker_Video\\\\Whisker_Topview\\\\Expect_1\\\\Mouse21\\\\200207_2\\\\2020-02-07T14.49.57.avi', 'F:\\\\DATA\\\\BehavioralVideos\\\\Whisker_Video\\\\Whisker_Topview\\\\Expect_1\\\\Mouse21\\\\200207_2\\\\2020-02-07T14.50.04.avi', 'F:\\\\DATA\\\\BehavioralVideos\\\\Whisker_Video\\\\Whisker_Topview\\\\Expect_1\\\\Mouse21\\\\200207_2\\\\2020-02-07T14.50.11.avi', 'F:\\\\DATA\\\\BehavioralVideos\\\\Whisker_Video\\\\Whisker_Topview\\\\Expect_1\\\\Mouse21\\\\200207_2\\\\2020-02-07T14.50.19.avi', 'F:\\\\DATA\\\\BehavioralVideos\\\\Whisker_Video\\\\Whisker_Topview\\\\Expect_1\\\\Mouse21\\\\200207_2\\\\2020-02-07T14.50.27.avi', 'F:\\\\DATA\\\\BehavioralVideos\\\\Whisker_Video\\\\Whisker_Topview\\\\Expect_1\\\\Mouse21\\\\200207_2\\\\2020-02-07T14.50.51.avi', 'F:\\\\DATA\\\\BehavioralVideos\\\\Whisker_Video\\\\Whisker_Topview\\\\Expect_1\\\\Mouse21\\\\200207_2\\\\2020-02-07T14.51.21.avi', 'F:\\\\DATA\\\\BehavioralVideos\\\\Whisker_Video\\\\Whisker_Topview\\\\Expect_1\\\\Mouse21\\\\200207_2\\\\2020-02-07T14.51.29.avi', 'F:\\\\DATA\\\\BehavioralVideos\\\\Whisker_Video\\\\Whisker_Topview\\\\Expect_1\\\\Mouse21\\\\200207_2\\\\2020-02-07T14.51.36.avi', 'F:\\\\DATA\\\\BehavioralVideos\\\\Whisker_Video\\\\Whisker_Topview\\\\Expect_1\\\\Mouse21\\\\200207_2\\\\2020-02-07T14.51.47.avi', 'F:\\\\DATA\\\\BehavioralVideos\\\\Whisker_Video\\\\Whisker_Topview\\\\Expect_1\\\\Mouse21\\\\200207_2\\\\2020-02-07T14.51.55.avi', 'F:\\\\DATA\\\\BehavioralVideos\\\\Whisker_Video\\\\Whisker_Topview\\\\Expect_1\\\\Mouse21\\\\200207_2\\\\2020-02-07T14.52.02.avi', 'F:\\\\DATA\\\\BehavioralVideos\\\\Whisker_Video\\\\Whisker_Topview\\\\Expect_1\\\\Mouse21\\\\200207_2\\\\2020-02-07T14.52.09.avi', 'F:\\\\DATA\\\\BehavioralVideos\\\\Whisker_Video\\\\Whisker_Topview\\\\Expect_1\\\\Mouse21\\\\200207_2\\\\2020-02-07T14.52.16.avi', 'F:\\\\DATA\\\\BehavioralVideos\\\\Whisker_Video\\\\Whisker_Topview\\\\Expect_1\\\\Mouse21\\\\200207_2\\\\2020-02-07T14.52.24.avi', 'F:\\\\DATA\\\\BehavioralVideos\\\\Whisker_Video\\\\Whisker_Topview\\\\Expect_1\\\\Mouse21\\\\200207_2\\\\2020-02-07T14.53.14.avi', 'F:\\\\DATA\\\\BehavioralVideos\\\\Whisker_Video\\\\Whisker_Topview\\\\Expect_1\\\\Mouse21\\\\200207_2\\\\2020-02-07T14.53.26.avi', 'F:\\\\DATA\\\\BehavioralVideos\\\\Whisker_Video\\\\Whisker_Topview\\\\Expect_1\\\\Mouse21\\\\200207_2\\\\2020-02-07T14.53.35.avi', 'F:\\\\DATA\\\\BehavioralVideos\\\\Whisker_Video\\\\Whisker_Topview\\\\Expect_1\\\\Mouse21\\\\200207_2\\\\2020-02-07T14.53.45.avi', 'F:\\\\DATA\\\\BehavioralVideos\\\\Whisker_Video\\\\Whisker_Topview\\\\Expect_1\\\\Mouse21\\\\200207_2\\\\2020-02-07T14.53.53.avi', 'F:\\\\DATA\\\\BehavioralVideos\\\\Whisker_Video\\\\Whisker_Topview\\\\Expect_1\\\\Mouse21\\\\200207_2\\\\2020-02-07T14.54.02.avi', 'F:\\\\DATA\\\\BehavioralVideos\\\\Whisker_Video\\\\Whisker_Topview\\\\Expect_1\\\\Mouse21\\\\200207_2\\\\2020-02-07T14.54.09.avi', 'F:\\\\DATA\\\\BehavioralVideos\\\\Whisker_Video\\\\Whisker_Topview\\\\Expect_1\\\\Mouse21\\\\200207_2\\\\2020-02-07T14.54.18.avi', 'F:\\\\DATA\\\\BehavioralVideos\\\\Whisker_Video\\\\Whisker_Topview\\\\Expect_1\\\\Mouse21\\\\200207_2\\\\2020-02-07T14.54.26.avi', 'F:\\\\DATA\\\\BehavioralVideos\\\\Whisker_Video\\\\Whisker_Topview\\\\Expect_1\\\\Mouse21\\\\200207_2\\\\2020-02-07T14.54.33.avi', 'F:\\\\DATA\\\\BehavioralVideos\\\\Whisker_Video\\\\Whisker_Topview\\\\Expect_1\\\\Mouse21\\\\200207_2\\\\2020-02-07T14.54.39.avi', 'F:\\\\DATA\\\\BehavioralVideos\\\\Whisker_Video\\\\Whisker_Topview\\\\Expect_1\\\\Mouse21\\\\200207_2\\\\2020-02-07T14.54.45.avi', 'F:\\\\DATA\\\\BehavioralVideos\\\\Whisker_Video\\\\Whisker_Topview\\\\Expect_1\\\\Mouse21\\\\200207_2\\\\2020-02-07T14.55.01.avi', 'F:\\\\DATA\\\\BehavioralVideos\\\\Whisker_Video\\\\Whisker_Topview\\\\Expect_1\\\\Mouse21\\\\200207_2\\\\2020-02-07T14.55.11.avi', 'F:\\\\DATA\\\\BehavioralVideos\\\\Whisker_Video\\\\Whisker_Topview\\\\Expect_1\\\\Mouse21\\\\200207_2\\\\2020-02-07T14.55.17.avi', 'F:\\\\DATA\\\\BehavioralVideos\\\\Whisker_Video\\\\Whisker_Topview\\\\Expect_1\\\\Mouse21\\\\200207_2\\\\2020-02-07T14.55.28.avi', 'F:\\\\DATA\\\\BehavioralVideos\\\\Whisker_Video\\\\Whisker_Topview\\\\Expect_1\\\\Mouse21\\\\200207_2\\\\2020-02-07T14.55.34.avi', 'F:\\\\DATA\\\\BehavioralVideos\\\\Whisker_Video\\\\Whisker_Topview\\\\Expect_1\\\\Mouse21\\\\200207_2\\\\2020-02-07T14.55.41.avi', 'F:\\\\DATA\\\\BehavioralVideos\\\\Whisker_Video\\\\Whisker_Topview\\\\Expect_1\\\\Mouse21\\\\200207_2\\\\2020-02-07T14.55.47.avi', 'F:\\\\DATA\\\\BehavioralVideos\\\\Whisker_Video\\\\Whisker_Topview\\\\Expect_1\\\\Mouse21\\\\200207_2\\\\2020-02-07T14.55.55.avi', 'F:\\\\DATA\\\\BehavioralVideos\\\\Whisker_Video\\\\Whisker_Topview\\\\Expect_1\\\\Mouse21\\\\200207_2\\\\2020-02-07T14.56.13.avi', 'F:\\\\DATA\\\\BehavioralVideos\\\\Whisker_Video\\\\Whisker_Topview\\\\Expect_1\\\\Mouse21\\\\200207_2\\\\2020-02-07T14.56.21.avi', 'F:\\\\DATA\\\\BehavioralVideos\\\\Whisker_Video\\\\Whisker_Topview\\\\Expect_1\\\\Mouse21\\\\200207_2\\\\2020-02-07T14.56.27.avi', 'F:\\\\DATA\\\\BehavioralVideos\\\\Whisker_Video\\\\Whisker_Topview\\\\Expect_1\\\\Mouse21\\\\200207_2\\\\2020-02-07T14.56.34.avi', 'F:\\\\DATA\\\\BehavioralVideos\\\\Whisker_Video\\\\Whisker_Topview\\\\Expect_1\\\\Mouse21\\\\200207_2\\\\2020-02-07T14.56.40.avi', 'F:\\\\DATA\\\\BehavioralVideos\\\\Whisker_Video\\\\Whisker_Topview\\\\Expect_1\\\\Mouse21\\\\200207_2\\\\2020-02-07T14.56.48.avi', 'F:\\\\DATA\\\\BehavioralVideos\\\\Whisker_Video\\\\Whisker_Topview\\\\Expect_1\\\\Mouse21\\\\200207_2\\\\2020-02-07T14.56.59.avi', 'F:\\\\DATA\\\\BehavioralVideos\\\\Whisker_Video\\\\Whisker_Topview\\\\Expect_1\\\\Mouse21\\\\200207_2\\\\2020-02-07T14.57.05.avi', 'F:\\\\DATA\\\\BehavioralVideos\\\\Whisker_Video\\\\Whisker_Topview\\\\Expect_1\\\\Mouse21\\\\200207_2\\\\2020-02-07T14.57.14.avi', 'F:\\\\DATA\\\\BehavioralVideos\\\\Whisker_Video\\\\Whisker_Topview\\\\Expect_1\\\\Mouse21\\\\200207_2\\\\2020-02-07T14.57.20.avi', 'F:\\\\DATA\\\\BehavioralVideos\\\\Whisker_Video\\\\Whisker_Topview\\\\Expect_1\\\\Mouse21\\\\200207_2\\\\2020-02-07T14.57.26.avi', 'F:\\\\DATA\\\\BehavioralVideos\\\\Whisker_Video\\\\Whisker_Topview\\\\Expect_1\\\\Mouse21\\\\200207_2\\\\2020-02-07T14.57.32.avi', 'F:\\\\DATA\\\\BehavioralVideos\\\\Whisker_Video\\\\Whisker_Topview\\\\Expect_1\\\\Mouse21\\\\200207_2\\\\2020-02-07T14.57.37.avi', 'F:\\\\DATA\\\\BehavioralVideos\\\\Whisker_Video\\\\Whisker_Topview\\\\Expect_1\\\\Mouse21\\\\200207_2\\\\2020-02-07T14.57.45.avi', 'F:\\\\DATA\\\\BehavioralVideos\\\\Whisker_Video\\\\Whisker_Topview\\\\Expect_1\\\\Mouse21\\\\200207_2\\\\2020-02-07T14.57.53.avi', 'F:\\\\DATA\\\\BehavioralVideos\\\\Whisker_Video\\\\Whisker_Topview\\\\Expect_1\\\\Mouse21\\\\200207_2\\\\2020-02-07T14.58.00.avi', 'F:\\\\DATA\\\\BehavioralVideos\\\\Whisker_Video\\\\Whisker_Topview\\\\Expect_1\\\\Mouse21\\\\200207_2\\\\2020-02-07T14.58.06.avi', 'F:\\\\DATA\\\\BehavioralVideos\\\\Whisker_Video\\\\Whisker_Topview\\\\Expect_1\\\\Mouse21\\\\200207_2\\\\2020-02-07T14.58.13.avi', 'F:\\\\DATA\\\\BehavioralVideos\\\\Whisker_Video\\\\Whisker_Topview\\\\Expect_1\\\\Mouse21\\\\200207_2\\\\2020-02-07T14.58.27.avi', 'F:\\\\DATA\\\\BehavioralVideos\\\\Whisker_Video\\\\Whisker_Topview\\\\Expect_1\\\\Mouse21\\\\200207_2\\\\2020-02-07T14.58.36.avi', 'F:\\\\DATA\\\\BehavioralVideos\\\\Whisker_Video\\\\Whisker_Topview\\\\Expect_1\\\\Mouse21\\\\200207_2\\\\2020-02-07T14.58.42.avi']\n",
      "Repaired 61 files, number of frames possible : between 0 and 38860\n",
      "\n",
      "[30501, 31001]\n"
     ]
    },
    {
     "name": "stderr",
     "output_type": "stream",
     "text": [
      "\n",
      "Writing video at F:\\DATA\\BehavioralVideos\\Whisker_Video\\Whisker_Topview\\Expect_1\\Mouse21\\200207_2\\2020-02-07T14.58.50.avi\n"
     ]
    },
    {
     "name": "stdout",
     "output_type": "stream",
     "text": [
      "about to write a video named 2020-02-07T14.58.50\n",
      "2020-02-07T14.58.50\n",
      "Using default extension (.avi) as none was specified\n",
      "Using default framerate (30 fps) as none was specified\n",
      "Using default codec (MJPG) as none was specified\n"
     ]
    },
    {
     "name": "stderr",
     "output_type": "stream",
     "text": [
      "0% [▓▓▓▓▓▓▓▓▓▓▓▓▓▓▓▓▓▓▓▓▓▓▓▓▓▓▓▓▓▓] 100% | ETA: 00:00:00\n",
      "Total time elapsed: 00:00:13\n"
     ]
    },
    {
     "name": "stdout",
     "output_type": "stream",
     "text": [
      "Video compression at F:\\DATA\\BehavioralVideos\\Whisker_Video\\Whisker_Topview\\Expect_1\\Mouse21\\200207_2\\2020-02-07T14.58.50.avi sucessfull\n",
      "\n",
      "['F:\\\\DATA\\\\BehavioralVideos\\\\Whisker_Video\\\\Whisker_Topview\\\\Expect_1\\\\Mouse21\\\\200207_2\\\\2020-02-07T14.48.51.avi', 'F:\\\\DATA\\\\BehavioralVideos\\\\Whisker_Video\\\\Whisker_Topview\\\\Expect_1\\\\Mouse21\\\\200207_2\\\\2020-02-07T14.48.55.avi', 'F:\\\\DATA\\\\BehavioralVideos\\\\Whisker_Video\\\\Whisker_Topview\\\\Expect_1\\\\Mouse21\\\\200207_2\\\\2020-02-07T14.49.02.avi', 'F:\\\\DATA\\\\BehavioralVideos\\\\Whisker_Video\\\\Whisker_Topview\\\\Expect_1\\\\Mouse21\\\\200207_2\\\\2020-02-07T14.49.15.avi', 'F:\\\\DATA\\\\BehavioralVideos\\\\Whisker_Video\\\\Whisker_Topview\\\\Expect_1\\\\Mouse21\\\\200207_2\\\\2020-02-07T14.49.45.avi', 'F:\\\\DATA\\\\BehavioralVideos\\\\Whisker_Video\\\\Whisker_Topview\\\\Expect_1\\\\Mouse21\\\\200207_2\\\\2020-02-07T14.49.57.avi', 'F:\\\\DATA\\\\BehavioralVideos\\\\Whisker_Video\\\\Whisker_Topview\\\\Expect_1\\\\Mouse21\\\\200207_2\\\\2020-02-07T14.50.04.avi', 'F:\\\\DATA\\\\BehavioralVideos\\\\Whisker_Video\\\\Whisker_Topview\\\\Expect_1\\\\Mouse21\\\\200207_2\\\\2020-02-07T14.50.11.avi', 'F:\\\\DATA\\\\BehavioralVideos\\\\Whisker_Video\\\\Whisker_Topview\\\\Expect_1\\\\Mouse21\\\\200207_2\\\\2020-02-07T14.50.19.avi', 'F:\\\\DATA\\\\BehavioralVideos\\\\Whisker_Video\\\\Whisker_Topview\\\\Expect_1\\\\Mouse21\\\\200207_2\\\\2020-02-07T14.50.27.avi', 'F:\\\\DATA\\\\BehavioralVideos\\\\Whisker_Video\\\\Whisker_Topview\\\\Expect_1\\\\Mouse21\\\\200207_2\\\\2020-02-07T14.50.51.avi', 'F:\\\\DATA\\\\BehavioralVideos\\\\Whisker_Video\\\\Whisker_Topview\\\\Expect_1\\\\Mouse21\\\\200207_2\\\\2020-02-07T14.51.21.avi', 'F:\\\\DATA\\\\BehavioralVideos\\\\Whisker_Video\\\\Whisker_Topview\\\\Expect_1\\\\Mouse21\\\\200207_2\\\\2020-02-07T14.51.29.avi', 'F:\\\\DATA\\\\BehavioralVideos\\\\Whisker_Video\\\\Whisker_Topview\\\\Expect_1\\\\Mouse21\\\\200207_2\\\\2020-02-07T14.51.36.avi', 'F:\\\\DATA\\\\BehavioralVideos\\\\Whisker_Video\\\\Whisker_Topview\\\\Expect_1\\\\Mouse21\\\\200207_2\\\\2020-02-07T14.51.47.avi', 'F:\\\\DATA\\\\BehavioralVideos\\\\Whisker_Video\\\\Whisker_Topview\\\\Expect_1\\\\Mouse21\\\\200207_2\\\\2020-02-07T14.51.55.avi', 'F:\\\\DATA\\\\BehavioralVideos\\\\Whisker_Video\\\\Whisker_Topview\\\\Expect_1\\\\Mouse21\\\\200207_2\\\\2020-02-07T14.52.02.avi', 'F:\\\\DATA\\\\BehavioralVideos\\\\Whisker_Video\\\\Whisker_Topview\\\\Expect_1\\\\Mouse21\\\\200207_2\\\\2020-02-07T14.52.09.avi', 'F:\\\\DATA\\\\BehavioralVideos\\\\Whisker_Video\\\\Whisker_Topview\\\\Expect_1\\\\Mouse21\\\\200207_2\\\\2020-02-07T14.52.16.avi', 'F:\\\\DATA\\\\BehavioralVideos\\\\Whisker_Video\\\\Whisker_Topview\\\\Expect_1\\\\Mouse21\\\\200207_2\\\\2020-02-07T14.52.24.avi', 'F:\\\\DATA\\\\BehavioralVideos\\\\Whisker_Video\\\\Whisker_Topview\\\\Expect_1\\\\Mouse21\\\\200207_2\\\\2020-02-07T14.53.14.avi', 'F:\\\\DATA\\\\BehavioralVideos\\\\Whisker_Video\\\\Whisker_Topview\\\\Expect_1\\\\Mouse21\\\\200207_2\\\\2020-02-07T14.53.26.avi', 'F:\\\\DATA\\\\BehavioralVideos\\\\Whisker_Video\\\\Whisker_Topview\\\\Expect_1\\\\Mouse21\\\\200207_2\\\\2020-02-07T14.53.35.avi', 'F:\\\\DATA\\\\BehavioralVideos\\\\Whisker_Video\\\\Whisker_Topview\\\\Expect_1\\\\Mouse21\\\\200207_2\\\\2020-02-07T14.53.45.avi', 'F:\\\\DATA\\\\BehavioralVideos\\\\Whisker_Video\\\\Whisker_Topview\\\\Expect_1\\\\Mouse21\\\\200207_2\\\\2020-02-07T14.53.53.avi', 'F:\\\\DATA\\\\BehavioralVideos\\\\Whisker_Video\\\\Whisker_Topview\\\\Expect_1\\\\Mouse21\\\\200207_2\\\\2020-02-07T14.54.02.avi', 'F:\\\\DATA\\\\BehavioralVideos\\\\Whisker_Video\\\\Whisker_Topview\\\\Expect_1\\\\Mouse21\\\\200207_2\\\\2020-02-07T14.54.09.avi', 'F:\\\\DATA\\\\BehavioralVideos\\\\Whisker_Video\\\\Whisker_Topview\\\\Expect_1\\\\Mouse21\\\\200207_2\\\\2020-02-07T14.54.18.avi', 'F:\\\\DATA\\\\BehavioralVideos\\\\Whisker_Video\\\\Whisker_Topview\\\\Expect_1\\\\Mouse21\\\\200207_2\\\\2020-02-07T14.54.26.avi', 'F:\\\\DATA\\\\BehavioralVideos\\\\Whisker_Video\\\\Whisker_Topview\\\\Expect_1\\\\Mouse21\\\\200207_2\\\\2020-02-07T14.54.33.avi', 'F:\\\\DATA\\\\BehavioralVideos\\\\Whisker_Video\\\\Whisker_Topview\\\\Expect_1\\\\Mouse21\\\\200207_2\\\\2020-02-07T14.54.39.avi', 'F:\\\\DATA\\\\BehavioralVideos\\\\Whisker_Video\\\\Whisker_Topview\\\\Expect_1\\\\Mouse21\\\\200207_2\\\\2020-02-07T14.54.45.avi', 'F:\\\\DATA\\\\BehavioralVideos\\\\Whisker_Video\\\\Whisker_Topview\\\\Expect_1\\\\Mouse21\\\\200207_2\\\\2020-02-07T14.55.01.avi', 'F:\\\\DATA\\\\BehavioralVideos\\\\Whisker_Video\\\\Whisker_Topview\\\\Expect_1\\\\Mouse21\\\\200207_2\\\\2020-02-07T14.55.11.avi', 'F:\\\\DATA\\\\BehavioralVideos\\\\Whisker_Video\\\\Whisker_Topview\\\\Expect_1\\\\Mouse21\\\\200207_2\\\\2020-02-07T14.55.17.avi', 'F:\\\\DATA\\\\BehavioralVideos\\\\Whisker_Video\\\\Whisker_Topview\\\\Expect_1\\\\Mouse21\\\\200207_2\\\\2020-02-07T14.55.28.avi', 'F:\\\\DATA\\\\BehavioralVideos\\\\Whisker_Video\\\\Whisker_Topview\\\\Expect_1\\\\Mouse21\\\\200207_2\\\\2020-02-07T14.55.34.avi', 'F:\\\\DATA\\\\BehavioralVideos\\\\Whisker_Video\\\\Whisker_Topview\\\\Expect_1\\\\Mouse21\\\\200207_2\\\\2020-02-07T14.55.41.avi', 'F:\\\\DATA\\\\BehavioralVideos\\\\Whisker_Video\\\\Whisker_Topview\\\\Expect_1\\\\Mouse21\\\\200207_2\\\\2020-02-07T14.55.47.avi', 'F:\\\\DATA\\\\BehavioralVideos\\\\Whisker_Video\\\\Whisker_Topview\\\\Expect_1\\\\Mouse21\\\\200207_2\\\\2020-02-07T14.55.55.avi', 'F:\\\\DATA\\\\BehavioralVideos\\\\Whisker_Video\\\\Whisker_Topview\\\\Expect_1\\\\Mouse21\\\\200207_2\\\\2020-02-07T14.56.13.avi', 'F:\\\\DATA\\\\BehavioralVideos\\\\Whisker_Video\\\\Whisker_Topview\\\\Expect_1\\\\Mouse21\\\\200207_2\\\\2020-02-07T14.56.21.avi', 'F:\\\\DATA\\\\BehavioralVideos\\\\Whisker_Video\\\\Whisker_Topview\\\\Expect_1\\\\Mouse21\\\\200207_2\\\\2020-02-07T14.56.27.avi', 'F:\\\\DATA\\\\BehavioralVideos\\\\Whisker_Video\\\\Whisker_Topview\\\\Expect_1\\\\Mouse21\\\\200207_2\\\\2020-02-07T14.56.34.avi', 'F:\\\\DATA\\\\BehavioralVideos\\\\Whisker_Video\\\\Whisker_Topview\\\\Expect_1\\\\Mouse21\\\\200207_2\\\\2020-02-07T14.56.40.avi', 'F:\\\\DATA\\\\BehavioralVideos\\\\Whisker_Video\\\\Whisker_Topview\\\\Expect_1\\\\Mouse21\\\\200207_2\\\\2020-02-07T14.56.48.avi', 'F:\\\\DATA\\\\BehavioralVideos\\\\Whisker_Video\\\\Whisker_Topview\\\\Expect_1\\\\Mouse21\\\\200207_2\\\\2020-02-07T14.56.59.avi', 'F:\\\\DATA\\\\BehavioralVideos\\\\Whisker_Video\\\\Whisker_Topview\\\\Expect_1\\\\Mouse21\\\\200207_2\\\\2020-02-07T14.57.05.avi', 'F:\\\\DATA\\\\BehavioralVideos\\\\Whisker_Video\\\\Whisker_Topview\\\\Expect_1\\\\Mouse21\\\\200207_2\\\\2020-02-07T14.57.14.avi', 'F:\\\\DATA\\\\BehavioralVideos\\\\Whisker_Video\\\\Whisker_Topview\\\\Expect_1\\\\Mouse21\\\\200207_2\\\\2020-02-07T14.57.20.avi', 'F:\\\\DATA\\\\BehavioralVideos\\\\Whisker_Video\\\\Whisker_Topview\\\\Expect_1\\\\Mouse21\\\\200207_2\\\\2020-02-07T14.57.26.avi', 'F:\\\\DATA\\\\BehavioralVideos\\\\Whisker_Video\\\\Whisker_Topview\\\\Expect_1\\\\Mouse21\\\\200207_2\\\\2020-02-07T14.57.32.avi', 'F:\\\\DATA\\\\BehavioralVideos\\\\Whisker_Video\\\\Whisker_Topview\\\\Expect_1\\\\Mouse21\\\\200207_2\\\\2020-02-07T14.57.37.avi', 'F:\\\\DATA\\\\BehavioralVideos\\\\Whisker_Video\\\\Whisker_Topview\\\\Expect_1\\\\Mouse21\\\\200207_2\\\\2020-02-07T14.57.45.avi', 'F:\\\\DATA\\\\BehavioralVideos\\\\Whisker_Video\\\\Whisker_Topview\\\\Expect_1\\\\Mouse21\\\\200207_2\\\\2020-02-07T14.57.53.avi', 'F:\\\\DATA\\\\BehavioralVideos\\\\Whisker_Video\\\\Whisker_Topview\\\\Expect_1\\\\Mouse21\\\\200207_2\\\\2020-02-07T14.58.00.avi', 'F:\\\\DATA\\\\BehavioralVideos\\\\Whisker_Video\\\\Whisker_Topview\\\\Expect_1\\\\Mouse21\\\\200207_2\\\\2020-02-07T14.58.06.avi', 'F:\\\\DATA\\\\BehavioralVideos\\\\Whisker_Video\\\\Whisker_Topview\\\\Expect_1\\\\Mouse21\\\\200207_2\\\\2020-02-07T14.58.13.avi', 'F:\\\\DATA\\\\BehavioralVideos\\\\Whisker_Video\\\\Whisker_Topview\\\\Expect_1\\\\Mouse21\\\\200207_2\\\\2020-02-07T14.58.27.avi', 'F:\\\\DATA\\\\BehavioralVideos\\\\Whisker_Video\\\\Whisker_Topview\\\\Expect_1\\\\Mouse21\\\\200207_2\\\\2020-02-07T14.58.36.avi', 'F:\\\\DATA\\\\BehavioralVideos\\\\Whisker_Video\\\\Whisker_Topview\\\\Expect_1\\\\Mouse21\\\\200207_2\\\\2020-02-07T14.58.42.avi', 'F:\\\\DATA\\\\BehavioralVideos\\\\Whisker_Video\\\\Whisker_Topview\\\\Expect_1\\\\Mouse21\\\\200207_2\\\\2020-02-07T14.58.50.avi']\n",
      "Repaired 62 files, number of frames possible : between 0 and 38860\n",
      "\n",
      "[31001, 31501]\n"
     ]
    },
    {
     "name": "stderr",
     "output_type": "stream",
     "text": [
      "\n",
      "Writing video at F:\\DATA\\BehavioralVideos\\Whisker_Video\\Whisker_Topview\\Expect_1\\Mouse21\\200207_2\\2020-02-07T14.59.10.avi\n"
     ]
    },
    {
     "name": "stdout",
     "output_type": "stream",
     "text": [
      "about to write a video named 2020-02-07T14.59.10\n",
      "2020-02-07T14.59.10\n",
      "Using default extension (.avi) as none was specified\n",
      "Using default framerate (30 fps) as none was specified\n",
      "Using default codec (MJPG) as none was specified\n"
     ]
    },
    {
     "name": "stderr",
     "output_type": "stream",
     "text": [
      "0% [▓▓▓▓▓▓▓▓▓▓▓▓▓▓▓▓▓▓▓▓▓▓▓▓▓▓▓▓▓▓] 100% | ETA: 00:00:00\n",
      "Total time elapsed: 00:00:14\n"
     ]
    },
    {
     "name": "stdout",
     "output_type": "stream",
     "text": [
      "Video compression at F:\\DATA\\BehavioralVideos\\Whisker_Video\\Whisker_Topview\\Expect_1\\Mouse21\\200207_2\\2020-02-07T14.59.10.avi sucessfull\n",
      "\n",
      "['F:\\\\DATA\\\\BehavioralVideos\\\\Whisker_Video\\\\Whisker_Topview\\\\Expect_1\\\\Mouse21\\\\200207_2\\\\2020-02-07T14.48.51.avi', 'F:\\\\DATA\\\\BehavioralVideos\\\\Whisker_Video\\\\Whisker_Topview\\\\Expect_1\\\\Mouse21\\\\200207_2\\\\2020-02-07T14.48.55.avi', 'F:\\\\DATA\\\\BehavioralVideos\\\\Whisker_Video\\\\Whisker_Topview\\\\Expect_1\\\\Mouse21\\\\200207_2\\\\2020-02-07T14.49.02.avi', 'F:\\\\DATA\\\\BehavioralVideos\\\\Whisker_Video\\\\Whisker_Topview\\\\Expect_1\\\\Mouse21\\\\200207_2\\\\2020-02-07T14.49.15.avi', 'F:\\\\DATA\\\\BehavioralVideos\\\\Whisker_Video\\\\Whisker_Topview\\\\Expect_1\\\\Mouse21\\\\200207_2\\\\2020-02-07T14.49.45.avi', 'F:\\\\DATA\\\\BehavioralVideos\\\\Whisker_Video\\\\Whisker_Topview\\\\Expect_1\\\\Mouse21\\\\200207_2\\\\2020-02-07T14.49.57.avi', 'F:\\\\DATA\\\\BehavioralVideos\\\\Whisker_Video\\\\Whisker_Topview\\\\Expect_1\\\\Mouse21\\\\200207_2\\\\2020-02-07T14.50.04.avi', 'F:\\\\DATA\\\\BehavioralVideos\\\\Whisker_Video\\\\Whisker_Topview\\\\Expect_1\\\\Mouse21\\\\200207_2\\\\2020-02-07T14.50.11.avi', 'F:\\\\DATA\\\\BehavioralVideos\\\\Whisker_Video\\\\Whisker_Topview\\\\Expect_1\\\\Mouse21\\\\200207_2\\\\2020-02-07T14.50.19.avi', 'F:\\\\DATA\\\\BehavioralVideos\\\\Whisker_Video\\\\Whisker_Topview\\\\Expect_1\\\\Mouse21\\\\200207_2\\\\2020-02-07T14.50.27.avi', 'F:\\\\DATA\\\\BehavioralVideos\\\\Whisker_Video\\\\Whisker_Topview\\\\Expect_1\\\\Mouse21\\\\200207_2\\\\2020-02-07T14.50.51.avi', 'F:\\\\DATA\\\\BehavioralVideos\\\\Whisker_Video\\\\Whisker_Topview\\\\Expect_1\\\\Mouse21\\\\200207_2\\\\2020-02-07T14.51.21.avi', 'F:\\\\DATA\\\\BehavioralVideos\\\\Whisker_Video\\\\Whisker_Topview\\\\Expect_1\\\\Mouse21\\\\200207_2\\\\2020-02-07T14.51.29.avi', 'F:\\\\DATA\\\\BehavioralVideos\\\\Whisker_Video\\\\Whisker_Topview\\\\Expect_1\\\\Mouse21\\\\200207_2\\\\2020-02-07T14.51.36.avi', 'F:\\\\DATA\\\\BehavioralVideos\\\\Whisker_Video\\\\Whisker_Topview\\\\Expect_1\\\\Mouse21\\\\200207_2\\\\2020-02-07T14.51.47.avi', 'F:\\\\DATA\\\\BehavioralVideos\\\\Whisker_Video\\\\Whisker_Topview\\\\Expect_1\\\\Mouse21\\\\200207_2\\\\2020-02-07T14.51.55.avi', 'F:\\\\DATA\\\\BehavioralVideos\\\\Whisker_Video\\\\Whisker_Topview\\\\Expect_1\\\\Mouse21\\\\200207_2\\\\2020-02-07T14.52.02.avi', 'F:\\\\DATA\\\\BehavioralVideos\\\\Whisker_Video\\\\Whisker_Topview\\\\Expect_1\\\\Mouse21\\\\200207_2\\\\2020-02-07T14.52.09.avi', 'F:\\\\DATA\\\\BehavioralVideos\\\\Whisker_Video\\\\Whisker_Topview\\\\Expect_1\\\\Mouse21\\\\200207_2\\\\2020-02-07T14.52.16.avi', 'F:\\\\DATA\\\\BehavioralVideos\\\\Whisker_Video\\\\Whisker_Topview\\\\Expect_1\\\\Mouse21\\\\200207_2\\\\2020-02-07T14.52.24.avi', 'F:\\\\DATA\\\\BehavioralVideos\\\\Whisker_Video\\\\Whisker_Topview\\\\Expect_1\\\\Mouse21\\\\200207_2\\\\2020-02-07T14.53.14.avi', 'F:\\\\DATA\\\\BehavioralVideos\\\\Whisker_Video\\\\Whisker_Topview\\\\Expect_1\\\\Mouse21\\\\200207_2\\\\2020-02-07T14.53.26.avi', 'F:\\\\DATA\\\\BehavioralVideos\\\\Whisker_Video\\\\Whisker_Topview\\\\Expect_1\\\\Mouse21\\\\200207_2\\\\2020-02-07T14.53.35.avi', 'F:\\\\DATA\\\\BehavioralVideos\\\\Whisker_Video\\\\Whisker_Topview\\\\Expect_1\\\\Mouse21\\\\200207_2\\\\2020-02-07T14.53.45.avi', 'F:\\\\DATA\\\\BehavioralVideos\\\\Whisker_Video\\\\Whisker_Topview\\\\Expect_1\\\\Mouse21\\\\200207_2\\\\2020-02-07T14.53.53.avi', 'F:\\\\DATA\\\\BehavioralVideos\\\\Whisker_Video\\\\Whisker_Topview\\\\Expect_1\\\\Mouse21\\\\200207_2\\\\2020-02-07T14.54.02.avi', 'F:\\\\DATA\\\\BehavioralVideos\\\\Whisker_Video\\\\Whisker_Topview\\\\Expect_1\\\\Mouse21\\\\200207_2\\\\2020-02-07T14.54.09.avi', 'F:\\\\DATA\\\\BehavioralVideos\\\\Whisker_Video\\\\Whisker_Topview\\\\Expect_1\\\\Mouse21\\\\200207_2\\\\2020-02-07T14.54.18.avi', 'F:\\\\DATA\\\\BehavioralVideos\\\\Whisker_Video\\\\Whisker_Topview\\\\Expect_1\\\\Mouse21\\\\200207_2\\\\2020-02-07T14.54.26.avi', 'F:\\\\DATA\\\\BehavioralVideos\\\\Whisker_Video\\\\Whisker_Topview\\\\Expect_1\\\\Mouse21\\\\200207_2\\\\2020-02-07T14.54.33.avi', 'F:\\\\DATA\\\\BehavioralVideos\\\\Whisker_Video\\\\Whisker_Topview\\\\Expect_1\\\\Mouse21\\\\200207_2\\\\2020-02-07T14.54.39.avi', 'F:\\\\DATA\\\\BehavioralVideos\\\\Whisker_Video\\\\Whisker_Topview\\\\Expect_1\\\\Mouse21\\\\200207_2\\\\2020-02-07T14.54.45.avi', 'F:\\\\DATA\\\\BehavioralVideos\\\\Whisker_Video\\\\Whisker_Topview\\\\Expect_1\\\\Mouse21\\\\200207_2\\\\2020-02-07T14.55.01.avi', 'F:\\\\DATA\\\\BehavioralVideos\\\\Whisker_Video\\\\Whisker_Topview\\\\Expect_1\\\\Mouse21\\\\200207_2\\\\2020-02-07T14.55.11.avi', 'F:\\\\DATA\\\\BehavioralVideos\\\\Whisker_Video\\\\Whisker_Topview\\\\Expect_1\\\\Mouse21\\\\200207_2\\\\2020-02-07T14.55.17.avi', 'F:\\\\DATA\\\\BehavioralVideos\\\\Whisker_Video\\\\Whisker_Topview\\\\Expect_1\\\\Mouse21\\\\200207_2\\\\2020-02-07T14.55.28.avi', 'F:\\\\DATA\\\\BehavioralVideos\\\\Whisker_Video\\\\Whisker_Topview\\\\Expect_1\\\\Mouse21\\\\200207_2\\\\2020-02-07T14.55.34.avi', 'F:\\\\DATA\\\\BehavioralVideos\\\\Whisker_Video\\\\Whisker_Topview\\\\Expect_1\\\\Mouse21\\\\200207_2\\\\2020-02-07T14.55.41.avi', 'F:\\\\DATA\\\\BehavioralVideos\\\\Whisker_Video\\\\Whisker_Topview\\\\Expect_1\\\\Mouse21\\\\200207_2\\\\2020-02-07T14.55.47.avi', 'F:\\\\DATA\\\\BehavioralVideos\\\\Whisker_Video\\\\Whisker_Topview\\\\Expect_1\\\\Mouse21\\\\200207_2\\\\2020-02-07T14.55.55.avi', 'F:\\\\DATA\\\\BehavioralVideos\\\\Whisker_Video\\\\Whisker_Topview\\\\Expect_1\\\\Mouse21\\\\200207_2\\\\2020-02-07T14.56.13.avi', 'F:\\\\DATA\\\\BehavioralVideos\\\\Whisker_Video\\\\Whisker_Topview\\\\Expect_1\\\\Mouse21\\\\200207_2\\\\2020-02-07T14.56.21.avi', 'F:\\\\DATA\\\\BehavioralVideos\\\\Whisker_Video\\\\Whisker_Topview\\\\Expect_1\\\\Mouse21\\\\200207_2\\\\2020-02-07T14.56.27.avi', 'F:\\\\DATA\\\\BehavioralVideos\\\\Whisker_Video\\\\Whisker_Topview\\\\Expect_1\\\\Mouse21\\\\200207_2\\\\2020-02-07T14.56.34.avi', 'F:\\\\DATA\\\\BehavioralVideos\\\\Whisker_Video\\\\Whisker_Topview\\\\Expect_1\\\\Mouse21\\\\200207_2\\\\2020-02-07T14.56.40.avi', 'F:\\\\DATA\\\\BehavioralVideos\\\\Whisker_Video\\\\Whisker_Topview\\\\Expect_1\\\\Mouse21\\\\200207_2\\\\2020-02-07T14.56.48.avi', 'F:\\\\DATA\\\\BehavioralVideos\\\\Whisker_Video\\\\Whisker_Topview\\\\Expect_1\\\\Mouse21\\\\200207_2\\\\2020-02-07T14.56.59.avi', 'F:\\\\DATA\\\\BehavioralVideos\\\\Whisker_Video\\\\Whisker_Topview\\\\Expect_1\\\\Mouse21\\\\200207_2\\\\2020-02-07T14.57.05.avi', 'F:\\\\DATA\\\\BehavioralVideos\\\\Whisker_Video\\\\Whisker_Topview\\\\Expect_1\\\\Mouse21\\\\200207_2\\\\2020-02-07T14.57.14.avi', 'F:\\\\DATA\\\\BehavioralVideos\\\\Whisker_Video\\\\Whisker_Topview\\\\Expect_1\\\\Mouse21\\\\200207_2\\\\2020-02-07T14.57.20.avi', 'F:\\\\DATA\\\\BehavioralVideos\\\\Whisker_Video\\\\Whisker_Topview\\\\Expect_1\\\\Mouse21\\\\200207_2\\\\2020-02-07T14.57.26.avi', 'F:\\\\DATA\\\\BehavioralVideos\\\\Whisker_Video\\\\Whisker_Topview\\\\Expect_1\\\\Mouse21\\\\200207_2\\\\2020-02-07T14.57.32.avi', 'F:\\\\DATA\\\\BehavioralVideos\\\\Whisker_Video\\\\Whisker_Topview\\\\Expect_1\\\\Mouse21\\\\200207_2\\\\2020-02-07T14.57.37.avi', 'F:\\\\DATA\\\\BehavioralVideos\\\\Whisker_Video\\\\Whisker_Topview\\\\Expect_1\\\\Mouse21\\\\200207_2\\\\2020-02-07T14.57.45.avi', 'F:\\\\DATA\\\\BehavioralVideos\\\\Whisker_Video\\\\Whisker_Topview\\\\Expect_1\\\\Mouse21\\\\200207_2\\\\2020-02-07T14.57.53.avi', 'F:\\\\DATA\\\\BehavioralVideos\\\\Whisker_Video\\\\Whisker_Topview\\\\Expect_1\\\\Mouse21\\\\200207_2\\\\2020-02-07T14.58.00.avi', 'F:\\\\DATA\\\\BehavioralVideos\\\\Whisker_Video\\\\Whisker_Topview\\\\Expect_1\\\\Mouse21\\\\200207_2\\\\2020-02-07T14.58.06.avi', 'F:\\\\DATA\\\\BehavioralVideos\\\\Whisker_Video\\\\Whisker_Topview\\\\Expect_1\\\\Mouse21\\\\200207_2\\\\2020-02-07T14.58.13.avi', 'F:\\\\DATA\\\\BehavioralVideos\\\\Whisker_Video\\\\Whisker_Topview\\\\Expect_1\\\\Mouse21\\\\200207_2\\\\2020-02-07T14.58.27.avi', 'F:\\\\DATA\\\\BehavioralVideos\\\\Whisker_Video\\\\Whisker_Topview\\\\Expect_1\\\\Mouse21\\\\200207_2\\\\2020-02-07T14.58.36.avi', 'F:\\\\DATA\\\\BehavioralVideos\\\\Whisker_Video\\\\Whisker_Topview\\\\Expect_1\\\\Mouse21\\\\200207_2\\\\2020-02-07T14.58.42.avi', 'F:\\\\DATA\\\\BehavioralVideos\\\\Whisker_Video\\\\Whisker_Topview\\\\Expect_1\\\\Mouse21\\\\200207_2\\\\2020-02-07T14.58.50.avi', 'F:\\\\DATA\\\\BehavioralVideos\\\\Whisker_Video\\\\Whisker_Topview\\\\Expect_1\\\\Mouse21\\\\200207_2\\\\2020-02-07T14.59.10.avi']\n",
      "Repaired 63 files, number of frames possible : between 0 and 38860\n",
      "\n",
      "[31501, 32001]\n"
     ]
    },
    {
     "name": "stderr",
     "output_type": "stream",
     "text": [
      "\n",
      "Writing video at F:\\DATA\\BehavioralVideos\\Whisker_Video\\Whisker_Topview\\Expect_1\\Mouse21\\200207_2\\2020-02-07T14.59.23.avi\n"
     ]
    },
    {
     "name": "stdout",
     "output_type": "stream",
     "text": [
      "about to write a video named 2020-02-07T14.59.23\n",
      "2020-02-07T14.59.23\n",
      "Using default extension (.avi) as none was specified\n",
      "Using default framerate (30 fps) as none was specified\n",
      "Using default codec (MJPG) as none was specified\n"
     ]
    },
    {
     "name": "stderr",
     "output_type": "stream",
     "text": [
      "0% [▓▓▓▓▓▓▓▓▓▓▓▓▓▓▓▓▓▓▓▓▓▓▓▓▓▓▓▓▓▓] 100% | ETA: 00:00:00\n",
      "Total time elapsed: 00:00:13\n"
     ]
    },
    {
     "name": "stdout",
     "output_type": "stream",
     "text": [
      "Video compression at F:\\DATA\\BehavioralVideos\\Whisker_Video\\Whisker_Topview\\Expect_1\\Mouse21\\200207_2\\2020-02-07T14.59.23.avi sucessfull\n",
      "\n",
      "['F:\\\\DATA\\\\BehavioralVideos\\\\Whisker_Video\\\\Whisker_Topview\\\\Expect_1\\\\Mouse21\\\\200207_2\\\\2020-02-07T14.48.51.avi', 'F:\\\\DATA\\\\BehavioralVideos\\\\Whisker_Video\\\\Whisker_Topview\\\\Expect_1\\\\Mouse21\\\\200207_2\\\\2020-02-07T14.48.55.avi', 'F:\\\\DATA\\\\BehavioralVideos\\\\Whisker_Video\\\\Whisker_Topview\\\\Expect_1\\\\Mouse21\\\\200207_2\\\\2020-02-07T14.49.02.avi', 'F:\\\\DATA\\\\BehavioralVideos\\\\Whisker_Video\\\\Whisker_Topview\\\\Expect_1\\\\Mouse21\\\\200207_2\\\\2020-02-07T14.49.15.avi', 'F:\\\\DATA\\\\BehavioralVideos\\\\Whisker_Video\\\\Whisker_Topview\\\\Expect_1\\\\Mouse21\\\\200207_2\\\\2020-02-07T14.49.45.avi', 'F:\\\\DATA\\\\BehavioralVideos\\\\Whisker_Video\\\\Whisker_Topview\\\\Expect_1\\\\Mouse21\\\\200207_2\\\\2020-02-07T14.49.57.avi', 'F:\\\\DATA\\\\BehavioralVideos\\\\Whisker_Video\\\\Whisker_Topview\\\\Expect_1\\\\Mouse21\\\\200207_2\\\\2020-02-07T14.50.04.avi', 'F:\\\\DATA\\\\BehavioralVideos\\\\Whisker_Video\\\\Whisker_Topview\\\\Expect_1\\\\Mouse21\\\\200207_2\\\\2020-02-07T14.50.11.avi', 'F:\\\\DATA\\\\BehavioralVideos\\\\Whisker_Video\\\\Whisker_Topview\\\\Expect_1\\\\Mouse21\\\\200207_2\\\\2020-02-07T14.50.19.avi', 'F:\\\\DATA\\\\BehavioralVideos\\\\Whisker_Video\\\\Whisker_Topview\\\\Expect_1\\\\Mouse21\\\\200207_2\\\\2020-02-07T14.50.27.avi', 'F:\\\\DATA\\\\BehavioralVideos\\\\Whisker_Video\\\\Whisker_Topview\\\\Expect_1\\\\Mouse21\\\\200207_2\\\\2020-02-07T14.50.51.avi', 'F:\\\\DATA\\\\BehavioralVideos\\\\Whisker_Video\\\\Whisker_Topview\\\\Expect_1\\\\Mouse21\\\\200207_2\\\\2020-02-07T14.51.21.avi', 'F:\\\\DATA\\\\BehavioralVideos\\\\Whisker_Video\\\\Whisker_Topview\\\\Expect_1\\\\Mouse21\\\\200207_2\\\\2020-02-07T14.51.29.avi', 'F:\\\\DATA\\\\BehavioralVideos\\\\Whisker_Video\\\\Whisker_Topview\\\\Expect_1\\\\Mouse21\\\\200207_2\\\\2020-02-07T14.51.36.avi', 'F:\\\\DATA\\\\BehavioralVideos\\\\Whisker_Video\\\\Whisker_Topview\\\\Expect_1\\\\Mouse21\\\\200207_2\\\\2020-02-07T14.51.47.avi', 'F:\\\\DATA\\\\BehavioralVideos\\\\Whisker_Video\\\\Whisker_Topview\\\\Expect_1\\\\Mouse21\\\\200207_2\\\\2020-02-07T14.51.55.avi', 'F:\\\\DATA\\\\BehavioralVideos\\\\Whisker_Video\\\\Whisker_Topview\\\\Expect_1\\\\Mouse21\\\\200207_2\\\\2020-02-07T14.52.02.avi', 'F:\\\\DATA\\\\BehavioralVideos\\\\Whisker_Video\\\\Whisker_Topview\\\\Expect_1\\\\Mouse21\\\\200207_2\\\\2020-02-07T14.52.09.avi', 'F:\\\\DATA\\\\BehavioralVideos\\\\Whisker_Video\\\\Whisker_Topview\\\\Expect_1\\\\Mouse21\\\\200207_2\\\\2020-02-07T14.52.16.avi', 'F:\\\\DATA\\\\BehavioralVideos\\\\Whisker_Video\\\\Whisker_Topview\\\\Expect_1\\\\Mouse21\\\\200207_2\\\\2020-02-07T14.52.24.avi', 'F:\\\\DATA\\\\BehavioralVideos\\\\Whisker_Video\\\\Whisker_Topview\\\\Expect_1\\\\Mouse21\\\\200207_2\\\\2020-02-07T14.53.14.avi', 'F:\\\\DATA\\\\BehavioralVideos\\\\Whisker_Video\\\\Whisker_Topview\\\\Expect_1\\\\Mouse21\\\\200207_2\\\\2020-02-07T14.53.26.avi', 'F:\\\\DATA\\\\BehavioralVideos\\\\Whisker_Video\\\\Whisker_Topview\\\\Expect_1\\\\Mouse21\\\\200207_2\\\\2020-02-07T14.53.35.avi', 'F:\\\\DATA\\\\BehavioralVideos\\\\Whisker_Video\\\\Whisker_Topview\\\\Expect_1\\\\Mouse21\\\\200207_2\\\\2020-02-07T14.53.45.avi', 'F:\\\\DATA\\\\BehavioralVideos\\\\Whisker_Video\\\\Whisker_Topview\\\\Expect_1\\\\Mouse21\\\\200207_2\\\\2020-02-07T14.53.53.avi', 'F:\\\\DATA\\\\BehavioralVideos\\\\Whisker_Video\\\\Whisker_Topview\\\\Expect_1\\\\Mouse21\\\\200207_2\\\\2020-02-07T14.54.02.avi', 'F:\\\\DATA\\\\BehavioralVideos\\\\Whisker_Video\\\\Whisker_Topview\\\\Expect_1\\\\Mouse21\\\\200207_2\\\\2020-02-07T14.54.09.avi', 'F:\\\\DATA\\\\BehavioralVideos\\\\Whisker_Video\\\\Whisker_Topview\\\\Expect_1\\\\Mouse21\\\\200207_2\\\\2020-02-07T14.54.18.avi', 'F:\\\\DATA\\\\BehavioralVideos\\\\Whisker_Video\\\\Whisker_Topview\\\\Expect_1\\\\Mouse21\\\\200207_2\\\\2020-02-07T14.54.26.avi', 'F:\\\\DATA\\\\BehavioralVideos\\\\Whisker_Video\\\\Whisker_Topview\\\\Expect_1\\\\Mouse21\\\\200207_2\\\\2020-02-07T14.54.33.avi', 'F:\\\\DATA\\\\BehavioralVideos\\\\Whisker_Video\\\\Whisker_Topview\\\\Expect_1\\\\Mouse21\\\\200207_2\\\\2020-02-07T14.54.39.avi', 'F:\\\\DATA\\\\BehavioralVideos\\\\Whisker_Video\\\\Whisker_Topview\\\\Expect_1\\\\Mouse21\\\\200207_2\\\\2020-02-07T14.54.45.avi', 'F:\\\\DATA\\\\BehavioralVideos\\\\Whisker_Video\\\\Whisker_Topview\\\\Expect_1\\\\Mouse21\\\\200207_2\\\\2020-02-07T14.55.01.avi', 'F:\\\\DATA\\\\BehavioralVideos\\\\Whisker_Video\\\\Whisker_Topview\\\\Expect_1\\\\Mouse21\\\\200207_2\\\\2020-02-07T14.55.11.avi', 'F:\\\\DATA\\\\BehavioralVideos\\\\Whisker_Video\\\\Whisker_Topview\\\\Expect_1\\\\Mouse21\\\\200207_2\\\\2020-02-07T14.55.17.avi', 'F:\\\\DATA\\\\BehavioralVideos\\\\Whisker_Video\\\\Whisker_Topview\\\\Expect_1\\\\Mouse21\\\\200207_2\\\\2020-02-07T14.55.28.avi', 'F:\\\\DATA\\\\BehavioralVideos\\\\Whisker_Video\\\\Whisker_Topview\\\\Expect_1\\\\Mouse21\\\\200207_2\\\\2020-02-07T14.55.34.avi', 'F:\\\\DATA\\\\BehavioralVideos\\\\Whisker_Video\\\\Whisker_Topview\\\\Expect_1\\\\Mouse21\\\\200207_2\\\\2020-02-07T14.55.41.avi', 'F:\\\\DATA\\\\BehavioralVideos\\\\Whisker_Video\\\\Whisker_Topview\\\\Expect_1\\\\Mouse21\\\\200207_2\\\\2020-02-07T14.55.47.avi', 'F:\\\\DATA\\\\BehavioralVideos\\\\Whisker_Video\\\\Whisker_Topview\\\\Expect_1\\\\Mouse21\\\\200207_2\\\\2020-02-07T14.55.55.avi', 'F:\\\\DATA\\\\BehavioralVideos\\\\Whisker_Video\\\\Whisker_Topview\\\\Expect_1\\\\Mouse21\\\\200207_2\\\\2020-02-07T14.56.13.avi', 'F:\\\\DATA\\\\BehavioralVideos\\\\Whisker_Video\\\\Whisker_Topview\\\\Expect_1\\\\Mouse21\\\\200207_2\\\\2020-02-07T14.56.21.avi', 'F:\\\\DATA\\\\BehavioralVideos\\\\Whisker_Video\\\\Whisker_Topview\\\\Expect_1\\\\Mouse21\\\\200207_2\\\\2020-02-07T14.56.27.avi', 'F:\\\\DATA\\\\BehavioralVideos\\\\Whisker_Video\\\\Whisker_Topview\\\\Expect_1\\\\Mouse21\\\\200207_2\\\\2020-02-07T14.56.34.avi', 'F:\\\\DATA\\\\BehavioralVideos\\\\Whisker_Video\\\\Whisker_Topview\\\\Expect_1\\\\Mouse21\\\\200207_2\\\\2020-02-07T14.56.40.avi', 'F:\\\\DATA\\\\BehavioralVideos\\\\Whisker_Video\\\\Whisker_Topview\\\\Expect_1\\\\Mouse21\\\\200207_2\\\\2020-02-07T14.56.48.avi', 'F:\\\\DATA\\\\BehavioralVideos\\\\Whisker_Video\\\\Whisker_Topview\\\\Expect_1\\\\Mouse21\\\\200207_2\\\\2020-02-07T14.56.59.avi', 'F:\\\\DATA\\\\BehavioralVideos\\\\Whisker_Video\\\\Whisker_Topview\\\\Expect_1\\\\Mouse21\\\\200207_2\\\\2020-02-07T14.57.05.avi', 'F:\\\\DATA\\\\BehavioralVideos\\\\Whisker_Video\\\\Whisker_Topview\\\\Expect_1\\\\Mouse21\\\\200207_2\\\\2020-02-07T14.57.14.avi', 'F:\\\\DATA\\\\BehavioralVideos\\\\Whisker_Video\\\\Whisker_Topview\\\\Expect_1\\\\Mouse21\\\\200207_2\\\\2020-02-07T14.57.20.avi', 'F:\\\\DATA\\\\BehavioralVideos\\\\Whisker_Video\\\\Whisker_Topview\\\\Expect_1\\\\Mouse21\\\\200207_2\\\\2020-02-07T14.57.26.avi', 'F:\\\\DATA\\\\BehavioralVideos\\\\Whisker_Video\\\\Whisker_Topview\\\\Expect_1\\\\Mouse21\\\\200207_2\\\\2020-02-07T14.57.32.avi', 'F:\\\\DATA\\\\BehavioralVideos\\\\Whisker_Video\\\\Whisker_Topview\\\\Expect_1\\\\Mouse21\\\\200207_2\\\\2020-02-07T14.57.37.avi', 'F:\\\\DATA\\\\BehavioralVideos\\\\Whisker_Video\\\\Whisker_Topview\\\\Expect_1\\\\Mouse21\\\\200207_2\\\\2020-02-07T14.57.45.avi', 'F:\\\\DATA\\\\BehavioralVideos\\\\Whisker_Video\\\\Whisker_Topview\\\\Expect_1\\\\Mouse21\\\\200207_2\\\\2020-02-07T14.57.53.avi', 'F:\\\\DATA\\\\BehavioralVideos\\\\Whisker_Video\\\\Whisker_Topview\\\\Expect_1\\\\Mouse21\\\\200207_2\\\\2020-02-07T14.58.00.avi', 'F:\\\\DATA\\\\BehavioralVideos\\\\Whisker_Video\\\\Whisker_Topview\\\\Expect_1\\\\Mouse21\\\\200207_2\\\\2020-02-07T14.58.06.avi', 'F:\\\\DATA\\\\BehavioralVideos\\\\Whisker_Video\\\\Whisker_Topview\\\\Expect_1\\\\Mouse21\\\\200207_2\\\\2020-02-07T14.58.13.avi', 'F:\\\\DATA\\\\BehavioralVideos\\\\Whisker_Video\\\\Whisker_Topview\\\\Expect_1\\\\Mouse21\\\\200207_2\\\\2020-02-07T14.58.27.avi', 'F:\\\\DATA\\\\BehavioralVideos\\\\Whisker_Video\\\\Whisker_Topview\\\\Expect_1\\\\Mouse21\\\\200207_2\\\\2020-02-07T14.58.36.avi', 'F:\\\\DATA\\\\BehavioralVideos\\\\Whisker_Video\\\\Whisker_Topview\\\\Expect_1\\\\Mouse21\\\\200207_2\\\\2020-02-07T14.58.42.avi', 'F:\\\\DATA\\\\BehavioralVideos\\\\Whisker_Video\\\\Whisker_Topview\\\\Expect_1\\\\Mouse21\\\\200207_2\\\\2020-02-07T14.58.50.avi', 'F:\\\\DATA\\\\BehavioralVideos\\\\Whisker_Video\\\\Whisker_Topview\\\\Expect_1\\\\Mouse21\\\\200207_2\\\\2020-02-07T14.59.10.avi', 'F:\\\\DATA\\\\BehavioralVideos\\\\Whisker_Video\\\\Whisker_Topview\\\\Expect_1\\\\Mouse21\\\\200207_2\\\\2020-02-07T14.59.23.avi']\n",
      "Repaired 64 files, number of frames possible : between 0 and 38860\n",
      "\n",
      "[32001, 32501]\n"
     ]
    },
    {
     "name": "stderr",
     "output_type": "stream",
     "text": [
      "\n",
      "Writing video at F:\\DATA\\BehavioralVideos\\Whisker_Video\\Whisker_Topview\\Expect_1\\Mouse21\\200207_2\\2020-02-07T14.59.30.avi\n"
     ]
    },
    {
     "name": "stdout",
     "output_type": "stream",
     "text": [
      "about to write a video named 2020-02-07T14.59.30\n",
      "2020-02-07T14.59.30\n",
      "Using default extension (.avi) as none was specified\n",
      "Using default framerate (30 fps) as none was specified\n",
      "Using default codec (MJPG) as none was specified\n"
     ]
    },
    {
     "name": "stderr",
     "output_type": "stream",
     "text": [
      "0% [▓▓▓▓▓▓▓▓▓▓▓▓▓▓▓▓▓▓▓▓▓▓▓▓▓▓▓▓▓▓] 100% | ETA: 00:00:00\n",
      "Total time elapsed: 00:00:13\n"
     ]
    },
    {
     "name": "stdout",
     "output_type": "stream",
     "text": [
      "Video compression at F:\\DATA\\BehavioralVideos\\Whisker_Video\\Whisker_Topview\\Expect_1\\Mouse21\\200207_2\\2020-02-07T14.59.30.avi sucessfull\n",
      "\n",
      "['F:\\\\DATA\\\\BehavioralVideos\\\\Whisker_Video\\\\Whisker_Topview\\\\Expect_1\\\\Mouse21\\\\200207_2\\\\2020-02-07T14.48.51.avi', 'F:\\\\DATA\\\\BehavioralVideos\\\\Whisker_Video\\\\Whisker_Topview\\\\Expect_1\\\\Mouse21\\\\200207_2\\\\2020-02-07T14.48.55.avi', 'F:\\\\DATA\\\\BehavioralVideos\\\\Whisker_Video\\\\Whisker_Topview\\\\Expect_1\\\\Mouse21\\\\200207_2\\\\2020-02-07T14.49.02.avi', 'F:\\\\DATA\\\\BehavioralVideos\\\\Whisker_Video\\\\Whisker_Topview\\\\Expect_1\\\\Mouse21\\\\200207_2\\\\2020-02-07T14.49.15.avi', 'F:\\\\DATA\\\\BehavioralVideos\\\\Whisker_Video\\\\Whisker_Topview\\\\Expect_1\\\\Mouse21\\\\200207_2\\\\2020-02-07T14.49.45.avi', 'F:\\\\DATA\\\\BehavioralVideos\\\\Whisker_Video\\\\Whisker_Topview\\\\Expect_1\\\\Mouse21\\\\200207_2\\\\2020-02-07T14.49.57.avi', 'F:\\\\DATA\\\\BehavioralVideos\\\\Whisker_Video\\\\Whisker_Topview\\\\Expect_1\\\\Mouse21\\\\200207_2\\\\2020-02-07T14.50.04.avi', 'F:\\\\DATA\\\\BehavioralVideos\\\\Whisker_Video\\\\Whisker_Topview\\\\Expect_1\\\\Mouse21\\\\200207_2\\\\2020-02-07T14.50.11.avi', 'F:\\\\DATA\\\\BehavioralVideos\\\\Whisker_Video\\\\Whisker_Topview\\\\Expect_1\\\\Mouse21\\\\200207_2\\\\2020-02-07T14.50.19.avi', 'F:\\\\DATA\\\\BehavioralVideos\\\\Whisker_Video\\\\Whisker_Topview\\\\Expect_1\\\\Mouse21\\\\200207_2\\\\2020-02-07T14.50.27.avi', 'F:\\\\DATA\\\\BehavioralVideos\\\\Whisker_Video\\\\Whisker_Topview\\\\Expect_1\\\\Mouse21\\\\200207_2\\\\2020-02-07T14.50.51.avi', 'F:\\\\DATA\\\\BehavioralVideos\\\\Whisker_Video\\\\Whisker_Topview\\\\Expect_1\\\\Mouse21\\\\200207_2\\\\2020-02-07T14.51.21.avi', 'F:\\\\DATA\\\\BehavioralVideos\\\\Whisker_Video\\\\Whisker_Topview\\\\Expect_1\\\\Mouse21\\\\200207_2\\\\2020-02-07T14.51.29.avi', 'F:\\\\DATA\\\\BehavioralVideos\\\\Whisker_Video\\\\Whisker_Topview\\\\Expect_1\\\\Mouse21\\\\200207_2\\\\2020-02-07T14.51.36.avi', 'F:\\\\DATA\\\\BehavioralVideos\\\\Whisker_Video\\\\Whisker_Topview\\\\Expect_1\\\\Mouse21\\\\200207_2\\\\2020-02-07T14.51.47.avi', 'F:\\\\DATA\\\\BehavioralVideos\\\\Whisker_Video\\\\Whisker_Topview\\\\Expect_1\\\\Mouse21\\\\200207_2\\\\2020-02-07T14.51.55.avi', 'F:\\\\DATA\\\\BehavioralVideos\\\\Whisker_Video\\\\Whisker_Topview\\\\Expect_1\\\\Mouse21\\\\200207_2\\\\2020-02-07T14.52.02.avi', 'F:\\\\DATA\\\\BehavioralVideos\\\\Whisker_Video\\\\Whisker_Topview\\\\Expect_1\\\\Mouse21\\\\200207_2\\\\2020-02-07T14.52.09.avi', 'F:\\\\DATA\\\\BehavioralVideos\\\\Whisker_Video\\\\Whisker_Topview\\\\Expect_1\\\\Mouse21\\\\200207_2\\\\2020-02-07T14.52.16.avi', 'F:\\\\DATA\\\\BehavioralVideos\\\\Whisker_Video\\\\Whisker_Topview\\\\Expect_1\\\\Mouse21\\\\200207_2\\\\2020-02-07T14.52.24.avi', 'F:\\\\DATA\\\\BehavioralVideos\\\\Whisker_Video\\\\Whisker_Topview\\\\Expect_1\\\\Mouse21\\\\200207_2\\\\2020-02-07T14.53.14.avi', 'F:\\\\DATA\\\\BehavioralVideos\\\\Whisker_Video\\\\Whisker_Topview\\\\Expect_1\\\\Mouse21\\\\200207_2\\\\2020-02-07T14.53.26.avi', 'F:\\\\DATA\\\\BehavioralVideos\\\\Whisker_Video\\\\Whisker_Topview\\\\Expect_1\\\\Mouse21\\\\200207_2\\\\2020-02-07T14.53.35.avi', 'F:\\\\DATA\\\\BehavioralVideos\\\\Whisker_Video\\\\Whisker_Topview\\\\Expect_1\\\\Mouse21\\\\200207_2\\\\2020-02-07T14.53.45.avi', 'F:\\\\DATA\\\\BehavioralVideos\\\\Whisker_Video\\\\Whisker_Topview\\\\Expect_1\\\\Mouse21\\\\200207_2\\\\2020-02-07T14.53.53.avi', 'F:\\\\DATA\\\\BehavioralVideos\\\\Whisker_Video\\\\Whisker_Topview\\\\Expect_1\\\\Mouse21\\\\200207_2\\\\2020-02-07T14.54.02.avi', 'F:\\\\DATA\\\\BehavioralVideos\\\\Whisker_Video\\\\Whisker_Topview\\\\Expect_1\\\\Mouse21\\\\200207_2\\\\2020-02-07T14.54.09.avi', 'F:\\\\DATA\\\\BehavioralVideos\\\\Whisker_Video\\\\Whisker_Topview\\\\Expect_1\\\\Mouse21\\\\200207_2\\\\2020-02-07T14.54.18.avi', 'F:\\\\DATA\\\\BehavioralVideos\\\\Whisker_Video\\\\Whisker_Topview\\\\Expect_1\\\\Mouse21\\\\200207_2\\\\2020-02-07T14.54.26.avi', 'F:\\\\DATA\\\\BehavioralVideos\\\\Whisker_Video\\\\Whisker_Topview\\\\Expect_1\\\\Mouse21\\\\200207_2\\\\2020-02-07T14.54.33.avi', 'F:\\\\DATA\\\\BehavioralVideos\\\\Whisker_Video\\\\Whisker_Topview\\\\Expect_1\\\\Mouse21\\\\200207_2\\\\2020-02-07T14.54.39.avi', 'F:\\\\DATA\\\\BehavioralVideos\\\\Whisker_Video\\\\Whisker_Topview\\\\Expect_1\\\\Mouse21\\\\200207_2\\\\2020-02-07T14.54.45.avi', 'F:\\\\DATA\\\\BehavioralVideos\\\\Whisker_Video\\\\Whisker_Topview\\\\Expect_1\\\\Mouse21\\\\200207_2\\\\2020-02-07T14.55.01.avi', 'F:\\\\DATA\\\\BehavioralVideos\\\\Whisker_Video\\\\Whisker_Topview\\\\Expect_1\\\\Mouse21\\\\200207_2\\\\2020-02-07T14.55.11.avi', 'F:\\\\DATA\\\\BehavioralVideos\\\\Whisker_Video\\\\Whisker_Topview\\\\Expect_1\\\\Mouse21\\\\200207_2\\\\2020-02-07T14.55.17.avi', 'F:\\\\DATA\\\\BehavioralVideos\\\\Whisker_Video\\\\Whisker_Topview\\\\Expect_1\\\\Mouse21\\\\200207_2\\\\2020-02-07T14.55.28.avi', 'F:\\\\DATA\\\\BehavioralVideos\\\\Whisker_Video\\\\Whisker_Topview\\\\Expect_1\\\\Mouse21\\\\200207_2\\\\2020-02-07T14.55.34.avi', 'F:\\\\DATA\\\\BehavioralVideos\\\\Whisker_Video\\\\Whisker_Topview\\\\Expect_1\\\\Mouse21\\\\200207_2\\\\2020-02-07T14.55.41.avi', 'F:\\\\DATA\\\\BehavioralVideos\\\\Whisker_Video\\\\Whisker_Topview\\\\Expect_1\\\\Mouse21\\\\200207_2\\\\2020-02-07T14.55.47.avi', 'F:\\\\DATA\\\\BehavioralVideos\\\\Whisker_Video\\\\Whisker_Topview\\\\Expect_1\\\\Mouse21\\\\200207_2\\\\2020-02-07T14.55.55.avi', 'F:\\\\DATA\\\\BehavioralVideos\\\\Whisker_Video\\\\Whisker_Topview\\\\Expect_1\\\\Mouse21\\\\200207_2\\\\2020-02-07T14.56.13.avi', 'F:\\\\DATA\\\\BehavioralVideos\\\\Whisker_Video\\\\Whisker_Topview\\\\Expect_1\\\\Mouse21\\\\200207_2\\\\2020-02-07T14.56.21.avi', 'F:\\\\DATA\\\\BehavioralVideos\\\\Whisker_Video\\\\Whisker_Topview\\\\Expect_1\\\\Mouse21\\\\200207_2\\\\2020-02-07T14.56.27.avi', 'F:\\\\DATA\\\\BehavioralVideos\\\\Whisker_Video\\\\Whisker_Topview\\\\Expect_1\\\\Mouse21\\\\200207_2\\\\2020-02-07T14.56.34.avi', 'F:\\\\DATA\\\\BehavioralVideos\\\\Whisker_Video\\\\Whisker_Topview\\\\Expect_1\\\\Mouse21\\\\200207_2\\\\2020-02-07T14.56.40.avi', 'F:\\\\DATA\\\\BehavioralVideos\\\\Whisker_Video\\\\Whisker_Topview\\\\Expect_1\\\\Mouse21\\\\200207_2\\\\2020-02-07T14.56.48.avi', 'F:\\\\DATA\\\\BehavioralVideos\\\\Whisker_Video\\\\Whisker_Topview\\\\Expect_1\\\\Mouse21\\\\200207_2\\\\2020-02-07T14.56.59.avi', 'F:\\\\DATA\\\\BehavioralVideos\\\\Whisker_Video\\\\Whisker_Topview\\\\Expect_1\\\\Mouse21\\\\200207_2\\\\2020-02-07T14.57.05.avi', 'F:\\\\DATA\\\\BehavioralVideos\\\\Whisker_Video\\\\Whisker_Topview\\\\Expect_1\\\\Mouse21\\\\200207_2\\\\2020-02-07T14.57.14.avi', 'F:\\\\DATA\\\\BehavioralVideos\\\\Whisker_Video\\\\Whisker_Topview\\\\Expect_1\\\\Mouse21\\\\200207_2\\\\2020-02-07T14.57.20.avi', 'F:\\\\DATA\\\\BehavioralVideos\\\\Whisker_Video\\\\Whisker_Topview\\\\Expect_1\\\\Mouse21\\\\200207_2\\\\2020-02-07T14.57.26.avi', 'F:\\\\DATA\\\\BehavioralVideos\\\\Whisker_Video\\\\Whisker_Topview\\\\Expect_1\\\\Mouse21\\\\200207_2\\\\2020-02-07T14.57.32.avi', 'F:\\\\DATA\\\\BehavioralVideos\\\\Whisker_Video\\\\Whisker_Topview\\\\Expect_1\\\\Mouse21\\\\200207_2\\\\2020-02-07T14.57.37.avi', 'F:\\\\DATA\\\\BehavioralVideos\\\\Whisker_Video\\\\Whisker_Topview\\\\Expect_1\\\\Mouse21\\\\200207_2\\\\2020-02-07T14.57.45.avi', 'F:\\\\DATA\\\\BehavioralVideos\\\\Whisker_Video\\\\Whisker_Topview\\\\Expect_1\\\\Mouse21\\\\200207_2\\\\2020-02-07T14.57.53.avi', 'F:\\\\DATA\\\\BehavioralVideos\\\\Whisker_Video\\\\Whisker_Topview\\\\Expect_1\\\\Mouse21\\\\200207_2\\\\2020-02-07T14.58.00.avi', 'F:\\\\DATA\\\\BehavioralVideos\\\\Whisker_Video\\\\Whisker_Topview\\\\Expect_1\\\\Mouse21\\\\200207_2\\\\2020-02-07T14.58.06.avi', 'F:\\\\DATA\\\\BehavioralVideos\\\\Whisker_Video\\\\Whisker_Topview\\\\Expect_1\\\\Mouse21\\\\200207_2\\\\2020-02-07T14.58.13.avi', 'F:\\\\DATA\\\\BehavioralVideos\\\\Whisker_Video\\\\Whisker_Topview\\\\Expect_1\\\\Mouse21\\\\200207_2\\\\2020-02-07T14.58.27.avi', 'F:\\\\DATA\\\\BehavioralVideos\\\\Whisker_Video\\\\Whisker_Topview\\\\Expect_1\\\\Mouse21\\\\200207_2\\\\2020-02-07T14.58.36.avi', 'F:\\\\DATA\\\\BehavioralVideos\\\\Whisker_Video\\\\Whisker_Topview\\\\Expect_1\\\\Mouse21\\\\200207_2\\\\2020-02-07T14.58.42.avi', 'F:\\\\DATA\\\\BehavioralVideos\\\\Whisker_Video\\\\Whisker_Topview\\\\Expect_1\\\\Mouse21\\\\200207_2\\\\2020-02-07T14.58.50.avi', 'F:\\\\DATA\\\\BehavioralVideos\\\\Whisker_Video\\\\Whisker_Topview\\\\Expect_1\\\\Mouse21\\\\200207_2\\\\2020-02-07T14.59.10.avi', 'F:\\\\DATA\\\\BehavioralVideos\\\\Whisker_Video\\\\Whisker_Topview\\\\Expect_1\\\\Mouse21\\\\200207_2\\\\2020-02-07T14.59.23.avi', 'F:\\\\DATA\\\\BehavioralVideos\\\\Whisker_Video\\\\Whisker_Topview\\\\Expect_1\\\\Mouse21\\\\200207_2\\\\2020-02-07T14.59.30.avi']\n",
      "Repaired 65 files, number of frames possible : between 0 and 38860\n",
      "\n",
      "[32501, 33001]\n"
     ]
    },
    {
     "name": "stderr",
     "output_type": "stream",
     "text": [
      "\n",
      "Writing video at F:\\DATA\\BehavioralVideos\\Whisker_Video\\Whisker_Topview\\Expect_1\\Mouse21\\200207_2\\2020-02-07T15.00.23.avi\n"
     ]
    },
    {
     "name": "stdout",
     "output_type": "stream",
     "text": [
      "about to write a video named 2020-02-07T15.00.23\n",
      "2020-02-07T15.00.23\n",
      "Using default extension (.avi) as none was specified\n",
      "Using default framerate (30 fps) as none was specified\n",
      "Using default codec (MJPG) as none was specified\n"
     ]
    },
    {
     "name": "stderr",
     "output_type": "stream",
     "text": [
      "0% [▓▓▓▓▓▓▓▓▓▓▓▓▓▓▓▓▓▓▓▓▓▓▓▓▓▓▓▓▓▓] 100% | ETA: 00:00:00\n",
      "Total time elapsed: 00:00:13\n"
     ]
    },
    {
     "name": "stdout",
     "output_type": "stream",
     "text": [
      "Video compression at F:\\DATA\\BehavioralVideos\\Whisker_Video\\Whisker_Topview\\Expect_1\\Mouse21\\200207_2\\2020-02-07T15.00.23.avi sucessfull\n",
      "\n",
      "['F:\\\\DATA\\\\BehavioralVideos\\\\Whisker_Video\\\\Whisker_Topview\\\\Expect_1\\\\Mouse21\\\\200207_2\\\\2020-02-07T14.48.51.avi', 'F:\\\\DATA\\\\BehavioralVideos\\\\Whisker_Video\\\\Whisker_Topview\\\\Expect_1\\\\Mouse21\\\\200207_2\\\\2020-02-07T14.48.55.avi', 'F:\\\\DATA\\\\BehavioralVideos\\\\Whisker_Video\\\\Whisker_Topview\\\\Expect_1\\\\Mouse21\\\\200207_2\\\\2020-02-07T14.49.02.avi', 'F:\\\\DATA\\\\BehavioralVideos\\\\Whisker_Video\\\\Whisker_Topview\\\\Expect_1\\\\Mouse21\\\\200207_2\\\\2020-02-07T14.49.15.avi', 'F:\\\\DATA\\\\BehavioralVideos\\\\Whisker_Video\\\\Whisker_Topview\\\\Expect_1\\\\Mouse21\\\\200207_2\\\\2020-02-07T14.49.45.avi', 'F:\\\\DATA\\\\BehavioralVideos\\\\Whisker_Video\\\\Whisker_Topview\\\\Expect_1\\\\Mouse21\\\\200207_2\\\\2020-02-07T14.49.57.avi', 'F:\\\\DATA\\\\BehavioralVideos\\\\Whisker_Video\\\\Whisker_Topview\\\\Expect_1\\\\Mouse21\\\\200207_2\\\\2020-02-07T14.50.04.avi', 'F:\\\\DATA\\\\BehavioralVideos\\\\Whisker_Video\\\\Whisker_Topview\\\\Expect_1\\\\Mouse21\\\\200207_2\\\\2020-02-07T14.50.11.avi', 'F:\\\\DATA\\\\BehavioralVideos\\\\Whisker_Video\\\\Whisker_Topview\\\\Expect_1\\\\Mouse21\\\\200207_2\\\\2020-02-07T14.50.19.avi', 'F:\\\\DATA\\\\BehavioralVideos\\\\Whisker_Video\\\\Whisker_Topview\\\\Expect_1\\\\Mouse21\\\\200207_2\\\\2020-02-07T14.50.27.avi', 'F:\\\\DATA\\\\BehavioralVideos\\\\Whisker_Video\\\\Whisker_Topview\\\\Expect_1\\\\Mouse21\\\\200207_2\\\\2020-02-07T14.50.51.avi', 'F:\\\\DATA\\\\BehavioralVideos\\\\Whisker_Video\\\\Whisker_Topview\\\\Expect_1\\\\Mouse21\\\\200207_2\\\\2020-02-07T14.51.21.avi', 'F:\\\\DATA\\\\BehavioralVideos\\\\Whisker_Video\\\\Whisker_Topview\\\\Expect_1\\\\Mouse21\\\\200207_2\\\\2020-02-07T14.51.29.avi', 'F:\\\\DATA\\\\BehavioralVideos\\\\Whisker_Video\\\\Whisker_Topview\\\\Expect_1\\\\Mouse21\\\\200207_2\\\\2020-02-07T14.51.36.avi', 'F:\\\\DATA\\\\BehavioralVideos\\\\Whisker_Video\\\\Whisker_Topview\\\\Expect_1\\\\Mouse21\\\\200207_2\\\\2020-02-07T14.51.47.avi', 'F:\\\\DATA\\\\BehavioralVideos\\\\Whisker_Video\\\\Whisker_Topview\\\\Expect_1\\\\Mouse21\\\\200207_2\\\\2020-02-07T14.51.55.avi', 'F:\\\\DATA\\\\BehavioralVideos\\\\Whisker_Video\\\\Whisker_Topview\\\\Expect_1\\\\Mouse21\\\\200207_2\\\\2020-02-07T14.52.02.avi', 'F:\\\\DATA\\\\BehavioralVideos\\\\Whisker_Video\\\\Whisker_Topview\\\\Expect_1\\\\Mouse21\\\\200207_2\\\\2020-02-07T14.52.09.avi', 'F:\\\\DATA\\\\BehavioralVideos\\\\Whisker_Video\\\\Whisker_Topview\\\\Expect_1\\\\Mouse21\\\\200207_2\\\\2020-02-07T14.52.16.avi', 'F:\\\\DATA\\\\BehavioralVideos\\\\Whisker_Video\\\\Whisker_Topview\\\\Expect_1\\\\Mouse21\\\\200207_2\\\\2020-02-07T14.52.24.avi', 'F:\\\\DATA\\\\BehavioralVideos\\\\Whisker_Video\\\\Whisker_Topview\\\\Expect_1\\\\Mouse21\\\\200207_2\\\\2020-02-07T14.53.14.avi', 'F:\\\\DATA\\\\BehavioralVideos\\\\Whisker_Video\\\\Whisker_Topview\\\\Expect_1\\\\Mouse21\\\\200207_2\\\\2020-02-07T14.53.26.avi', 'F:\\\\DATA\\\\BehavioralVideos\\\\Whisker_Video\\\\Whisker_Topview\\\\Expect_1\\\\Mouse21\\\\200207_2\\\\2020-02-07T14.53.35.avi', 'F:\\\\DATA\\\\BehavioralVideos\\\\Whisker_Video\\\\Whisker_Topview\\\\Expect_1\\\\Mouse21\\\\200207_2\\\\2020-02-07T14.53.45.avi', 'F:\\\\DATA\\\\BehavioralVideos\\\\Whisker_Video\\\\Whisker_Topview\\\\Expect_1\\\\Mouse21\\\\200207_2\\\\2020-02-07T14.53.53.avi', 'F:\\\\DATA\\\\BehavioralVideos\\\\Whisker_Video\\\\Whisker_Topview\\\\Expect_1\\\\Mouse21\\\\200207_2\\\\2020-02-07T14.54.02.avi', 'F:\\\\DATA\\\\BehavioralVideos\\\\Whisker_Video\\\\Whisker_Topview\\\\Expect_1\\\\Mouse21\\\\200207_2\\\\2020-02-07T14.54.09.avi', 'F:\\\\DATA\\\\BehavioralVideos\\\\Whisker_Video\\\\Whisker_Topview\\\\Expect_1\\\\Mouse21\\\\200207_2\\\\2020-02-07T14.54.18.avi', 'F:\\\\DATA\\\\BehavioralVideos\\\\Whisker_Video\\\\Whisker_Topview\\\\Expect_1\\\\Mouse21\\\\200207_2\\\\2020-02-07T14.54.26.avi', 'F:\\\\DATA\\\\BehavioralVideos\\\\Whisker_Video\\\\Whisker_Topview\\\\Expect_1\\\\Mouse21\\\\200207_2\\\\2020-02-07T14.54.33.avi', 'F:\\\\DATA\\\\BehavioralVideos\\\\Whisker_Video\\\\Whisker_Topview\\\\Expect_1\\\\Mouse21\\\\200207_2\\\\2020-02-07T14.54.39.avi', 'F:\\\\DATA\\\\BehavioralVideos\\\\Whisker_Video\\\\Whisker_Topview\\\\Expect_1\\\\Mouse21\\\\200207_2\\\\2020-02-07T14.54.45.avi', 'F:\\\\DATA\\\\BehavioralVideos\\\\Whisker_Video\\\\Whisker_Topview\\\\Expect_1\\\\Mouse21\\\\200207_2\\\\2020-02-07T14.55.01.avi', 'F:\\\\DATA\\\\BehavioralVideos\\\\Whisker_Video\\\\Whisker_Topview\\\\Expect_1\\\\Mouse21\\\\200207_2\\\\2020-02-07T14.55.11.avi', 'F:\\\\DATA\\\\BehavioralVideos\\\\Whisker_Video\\\\Whisker_Topview\\\\Expect_1\\\\Mouse21\\\\200207_2\\\\2020-02-07T14.55.17.avi', 'F:\\\\DATA\\\\BehavioralVideos\\\\Whisker_Video\\\\Whisker_Topview\\\\Expect_1\\\\Mouse21\\\\200207_2\\\\2020-02-07T14.55.28.avi', 'F:\\\\DATA\\\\BehavioralVideos\\\\Whisker_Video\\\\Whisker_Topview\\\\Expect_1\\\\Mouse21\\\\200207_2\\\\2020-02-07T14.55.34.avi', 'F:\\\\DATA\\\\BehavioralVideos\\\\Whisker_Video\\\\Whisker_Topview\\\\Expect_1\\\\Mouse21\\\\200207_2\\\\2020-02-07T14.55.41.avi', 'F:\\\\DATA\\\\BehavioralVideos\\\\Whisker_Video\\\\Whisker_Topview\\\\Expect_1\\\\Mouse21\\\\200207_2\\\\2020-02-07T14.55.47.avi', 'F:\\\\DATA\\\\BehavioralVideos\\\\Whisker_Video\\\\Whisker_Topview\\\\Expect_1\\\\Mouse21\\\\200207_2\\\\2020-02-07T14.55.55.avi', 'F:\\\\DATA\\\\BehavioralVideos\\\\Whisker_Video\\\\Whisker_Topview\\\\Expect_1\\\\Mouse21\\\\200207_2\\\\2020-02-07T14.56.13.avi', 'F:\\\\DATA\\\\BehavioralVideos\\\\Whisker_Video\\\\Whisker_Topview\\\\Expect_1\\\\Mouse21\\\\200207_2\\\\2020-02-07T14.56.21.avi', 'F:\\\\DATA\\\\BehavioralVideos\\\\Whisker_Video\\\\Whisker_Topview\\\\Expect_1\\\\Mouse21\\\\200207_2\\\\2020-02-07T14.56.27.avi', 'F:\\\\DATA\\\\BehavioralVideos\\\\Whisker_Video\\\\Whisker_Topview\\\\Expect_1\\\\Mouse21\\\\200207_2\\\\2020-02-07T14.56.34.avi', 'F:\\\\DATA\\\\BehavioralVideos\\\\Whisker_Video\\\\Whisker_Topview\\\\Expect_1\\\\Mouse21\\\\200207_2\\\\2020-02-07T14.56.40.avi', 'F:\\\\DATA\\\\BehavioralVideos\\\\Whisker_Video\\\\Whisker_Topview\\\\Expect_1\\\\Mouse21\\\\200207_2\\\\2020-02-07T14.56.48.avi', 'F:\\\\DATA\\\\BehavioralVideos\\\\Whisker_Video\\\\Whisker_Topview\\\\Expect_1\\\\Mouse21\\\\200207_2\\\\2020-02-07T14.56.59.avi', 'F:\\\\DATA\\\\BehavioralVideos\\\\Whisker_Video\\\\Whisker_Topview\\\\Expect_1\\\\Mouse21\\\\200207_2\\\\2020-02-07T14.57.05.avi', 'F:\\\\DATA\\\\BehavioralVideos\\\\Whisker_Video\\\\Whisker_Topview\\\\Expect_1\\\\Mouse21\\\\200207_2\\\\2020-02-07T14.57.14.avi', 'F:\\\\DATA\\\\BehavioralVideos\\\\Whisker_Video\\\\Whisker_Topview\\\\Expect_1\\\\Mouse21\\\\200207_2\\\\2020-02-07T14.57.20.avi', 'F:\\\\DATA\\\\BehavioralVideos\\\\Whisker_Video\\\\Whisker_Topview\\\\Expect_1\\\\Mouse21\\\\200207_2\\\\2020-02-07T14.57.26.avi', 'F:\\\\DATA\\\\BehavioralVideos\\\\Whisker_Video\\\\Whisker_Topview\\\\Expect_1\\\\Mouse21\\\\200207_2\\\\2020-02-07T14.57.32.avi', 'F:\\\\DATA\\\\BehavioralVideos\\\\Whisker_Video\\\\Whisker_Topview\\\\Expect_1\\\\Mouse21\\\\200207_2\\\\2020-02-07T14.57.37.avi', 'F:\\\\DATA\\\\BehavioralVideos\\\\Whisker_Video\\\\Whisker_Topview\\\\Expect_1\\\\Mouse21\\\\200207_2\\\\2020-02-07T14.57.45.avi', 'F:\\\\DATA\\\\BehavioralVideos\\\\Whisker_Video\\\\Whisker_Topview\\\\Expect_1\\\\Mouse21\\\\200207_2\\\\2020-02-07T14.57.53.avi', 'F:\\\\DATA\\\\BehavioralVideos\\\\Whisker_Video\\\\Whisker_Topview\\\\Expect_1\\\\Mouse21\\\\200207_2\\\\2020-02-07T14.58.00.avi', 'F:\\\\DATA\\\\BehavioralVideos\\\\Whisker_Video\\\\Whisker_Topview\\\\Expect_1\\\\Mouse21\\\\200207_2\\\\2020-02-07T14.58.06.avi', 'F:\\\\DATA\\\\BehavioralVideos\\\\Whisker_Video\\\\Whisker_Topview\\\\Expect_1\\\\Mouse21\\\\200207_2\\\\2020-02-07T14.58.13.avi', 'F:\\\\DATA\\\\BehavioralVideos\\\\Whisker_Video\\\\Whisker_Topview\\\\Expect_1\\\\Mouse21\\\\200207_2\\\\2020-02-07T14.58.27.avi', 'F:\\\\DATA\\\\BehavioralVideos\\\\Whisker_Video\\\\Whisker_Topview\\\\Expect_1\\\\Mouse21\\\\200207_2\\\\2020-02-07T14.58.36.avi', 'F:\\\\DATA\\\\BehavioralVideos\\\\Whisker_Video\\\\Whisker_Topview\\\\Expect_1\\\\Mouse21\\\\200207_2\\\\2020-02-07T14.58.42.avi', 'F:\\\\DATA\\\\BehavioralVideos\\\\Whisker_Video\\\\Whisker_Topview\\\\Expect_1\\\\Mouse21\\\\200207_2\\\\2020-02-07T14.58.50.avi', 'F:\\\\DATA\\\\BehavioralVideos\\\\Whisker_Video\\\\Whisker_Topview\\\\Expect_1\\\\Mouse21\\\\200207_2\\\\2020-02-07T14.59.10.avi', 'F:\\\\DATA\\\\BehavioralVideos\\\\Whisker_Video\\\\Whisker_Topview\\\\Expect_1\\\\Mouse21\\\\200207_2\\\\2020-02-07T14.59.23.avi', 'F:\\\\DATA\\\\BehavioralVideos\\\\Whisker_Video\\\\Whisker_Topview\\\\Expect_1\\\\Mouse21\\\\200207_2\\\\2020-02-07T14.59.30.avi', 'F:\\\\DATA\\\\BehavioralVideos\\\\Whisker_Video\\\\Whisker_Topview\\\\Expect_1\\\\Mouse21\\\\200207_2\\\\2020-02-07T15.00.23.avi']\n",
      "Repaired 66 files, number of frames possible : between 0 and 38860\n",
      "\n",
      "[33001, 33501]\n"
     ]
    },
    {
     "name": "stderr",
     "output_type": "stream",
     "text": [
      "\n",
      "Writing video at F:\\DATA\\BehavioralVideos\\Whisker_Video\\Whisker_Topview\\Expect_1\\Mouse21\\200207_2\\2020-02-07T15.00.32.avi\n"
     ]
    },
    {
     "name": "stdout",
     "output_type": "stream",
     "text": [
      "about to write a video named 2020-02-07T15.00.32\n",
      "2020-02-07T15.00.32\n",
      "Using default extension (.avi) as none was specified\n",
      "Using default framerate (30 fps) as none was specified\n",
      "Using default codec (MJPG) as none was specified\n"
     ]
    },
    {
     "name": "stderr",
     "output_type": "stream",
     "text": [
      "0% [▓▓▓▓▓▓▓▓▓▓▓▓▓▓▓▓▓▓▓▓▓▓▓▓▓▓▓▓▓▓] 100% | ETA: 00:00:00\n",
      "Total time elapsed: 00:00:13\n"
     ]
    },
    {
     "name": "stdout",
     "output_type": "stream",
     "text": [
      "Video compression at F:\\DATA\\BehavioralVideos\\Whisker_Video\\Whisker_Topview\\Expect_1\\Mouse21\\200207_2\\2020-02-07T15.00.32.avi sucessfull\n",
      "\n",
      "['F:\\\\DATA\\\\BehavioralVideos\\\\Whisker_Video\\\\Whisker_Topview\\\\Expect_1\\\\Mouse21\\\\200207_2\\\\2020-02-07T14.48.51.avi', 'F:\\\\DATA\\\\BehavioralVideos\\\\Whisker_Video\\\\Whisker_Topview\\\\Expect_1\\\\Mouse21\\\\200207_2\\\\2020-02-07T14.48.55.avi', 'F:\\\\DATA\\\\BehavioralVideos\\\\Whisker_Video\\\\Whisker_Topview\\\\Expect_1\\\\Mouse21\\\\200207_2\\\\2020-02-07T14.49.02.avi', 'F:\\\\DATA\\\\BehavioralVideos\\\\Whisker_Video\\\\Whisker_Topview\\\\Expect_1\\\\Mouse21\\\\200207_2\\\\2020-02-07T14.49.15.avi', 'F:\\\\DATA\\\\BehavioralVideos\\\\Whisker_Video\\\\Whisker_Topview\\\\Expect_1\\\\Mouse21\\\\200207_2\\\\2020-02-07T14.49.45.avi', 'F:\\\\DATA\\\\BehavioralVideos\\\\Whisker_Video\\\\Whisker_Topview\\\\Expect_1\\\\Mouse21\\\\200207_2\\\\2020-02-07T14.49.57.avi', 'F:\\\\DATA\\\\BehavioralVideos\\\\Whisker_Video\\\\Whisker_Topview\\\\Expect_1\\\\Mouse21\\\\200207_2\\\\2020-02-07T14.50.04.avi', 'F:\\\\DATA\\\\BehavioralVideos\\\\Whisker_Video\\\\Whisker_Topview\\\\Expect_1\\\\Mouse21\\\\200207_2\\\\2020-02-07T14.50.11.avi', 'F:\\\\DATA\\\\BehavioralVideos\\\\Whisker_Video\\\\Whisker_Topview\\\\Expect_1\\\\Mouse21\\\\200207_2\\\\2020-02-07T14.50.19.avi', 'F:\\\\DATA\\\\BehavioralVideos\\\\Whisker_Video\\\\Whisker_Topview\\\\Expect_1\\\\Mouse21\\\\200207_2\\\\2020-02-07T14.50.27.avi', 'F:\\\\DATA\\\\BehavioralVideos\\\\Whisker_Video\\\\Whisker_Topview\\\\Expect_1\\\\Mouse21\\\\200207_2\\\\2020-02-07T14.50.51.avi', 'F:\\\\DATA\\\\BehavioralVideos\\\\Whisker_Video\\\\Whisker_Topview\\\\Expect_1\\\\Mouse21\\\\200207_2\\\\2020-02-07T14.51.21.avi', 'F:\\\\DATA\\\\BehavioralVideos\\\\Whisker_Video\\\\Whisker_Topview\\\\Expect_1\\\\Mouse21\\\\200207_2\\\\2020-02-07T14.51.29.avi', 'F:\\\\DATA\\\\BehavioralVideos\\\\Whisker_Video\\\\Whisker_Topview\\\\Expect_1\\\\Mouse21\\\\200207_2\\\\2020-02-07T14.51.36.avi', 'F:\\\\DATA\\\\BehavioralVideos\\\\Whisker_Video\\\\Whisker_Topview\\\\Expect_1\\\\Mouse21\\\\200207_2\\\\2020-02-07T14.51.47.avi', 'F:\\\\DATA\\\\BehavioralVideos\\\\Whisker_Video\\\\Whisker_Topview\\\\Expect_1\\\\Mouse21\\\\200207_2\\\\2020-02-07T14.51.55.avi', 'F:\\\\DATA\\\\BehavioralVideos\\\\Whisker_Video\\\\Whisker_Topview\\\\Expect_1\\\\Mouse21\\\\200207_2\\\\2020-02-07T14.52.02.avi', 'F:\\\\DATA\\\\BehavioralVideos\\\\Whisker_Video\\\\Whisker_Topview\\\\Expect_1\\\\Mouse21\\\\200207_2\\\\2020-02-07T14.52.09.avi', 'F:\\\\DATA\\\\BehavioralVideos\\\\Whisker_Video\\\\Whisker_Topview\\\\Expect_1\\\\Mouse21\\\\200207_2\\\\2020-02-07T14.52.16.avi', 'F:\\\\DATA\\\\BehavioralVideos\\\\Whisker_Video\\\\Whisker_Topview\\\\Expect_1\\\\Mouse21\\\\200207_2\\\\2020-02-07T14.52.24.avi', 'F:\\\\DATA\\\\BehavioralVideos\\\\Whisker_Video\\\\Whisker_Topview\\\\Expect_1\\\\Mouse21\\\\200207_2\\\\2020-02-07T14.53.14.avi', 'F:\\\\DATA\\\\BehavioralVideos\\\\Whisker_Video\\\\Whisker_Topview\\\\Expect_1\\\\Mouse21\\\\200207_2\\\\2020-02-07T14.53.26.avi', 'F:\\\\DATA\\\\BehavioralVideos\\\\Whisker_Video\\\\Whisker_Topview\\\\Expect_1\\\\Mouse21\\\\200207_2\\\\2020-02-07T14.53.35.avi', 'F:\\\\DATA\\\\BehavioralVideos\\\\Whisker_Video\\\\Whisker_Topview\\\\Expect_1\\\\Mouse21\\\\200207_2\\\\2020-02-07T14.53.45.avi', 'F:\\\\DATA\\\\BehavioralVideos\\\\Whisker_Video\\\\Whisker_Topview\\\\Expect_1\\\\Mouse21\\\\200207_2\\\\2020-02-07T14.53.53.avi', 'F:\\\\DATA\\\\BehavioralVideos\\\\Whisker_Video\\\\Whisker_Topview\\\\Expect_1\\\\Mouse21\\\\200207_2\\\\2020-02-07T14.54.02.avi', 'F:\\\\DATA\\\\BehavioralVideos\\\\Whisker_Video\\\\Whisker_Topview\\\\Expect_1\\\\Mouse21\\\\200207_2\\\\2020-02-07T14.54.09.avi', 'F:\\\\DATA\\\\BehavioralVideos\\\\Whisker_Video\\\\Whisker_Topview\\\\Expect_1\\\\Mouse21\\\\200207_2\\\\2020-02-07T14.54.18.avi', 'F:\\\\DATA\\\\BehavioralVideos\\\\Whisker_Video\\\\Whisker_Topview\\\\Expect_1\\\\Mouse21\\\\200207_2\\\\2020-02-07T14.54.26.avi', 'F:\\\\DATA\\\\BehavioralVideos\\\\Whisker_Video\\\\Whisker_Topview\\\\Expect_1\\\\Mouse21\\\\200207_2\\\\2020-02-07T14.54.33.avi', 'F:\\\\DATA\\\\BehavioralVideos\\\\Whisker_Video\\\\Whisker_Topview\\\\Expect_1\\\\Mouse21\\\\200207_2\\\\2020-02-07T14.54.39.avi', 'F:\\\\DATA\\\\BehavioralVideos\\\\Whisker_Video\\\\Whisker_Topview\\\\Expect_1\\\\Mouse21\\\\200207_2\\\\2020-02-07T14.54.45.avi', 'F:\\\\DATA\\\\BehavioralVideos\\\\Whisker_Video\\\\Whisker_Topview\\\\Expect_1\\\\Mouse21\\\\200207_2\\\\2020-02-07T14.55.01.avi', 'F:\\\\DATA\\\\BehavioralVideos\\\\Whisker_Video\\\\Whisker_Topview\\\\Expect_1\\\\Mouse21\\\\200207_2\\\\2020-02-07T14.55.11.avi', 'F:\\\\DATA\\\\BehavioralVideos\\\\Whisker_Video\\\\Whisker_Topview\\\\Expect_1\\\\Mouse21\\\\200207_2\\\\2020-02-07T14.55.17.avi', 'F:\\\\DATA\\\\BehavioralVideos\\\\Whisker_Video\\\\Whisker_Topview\\\\Expect_1\\\\Mouse21\\\\200207_2\\\\2020-02-07T14.55.28.avi', 'F:\\\\DATA\\\\BehavioralVideos\\\\Whisker_Video\\\\Whisker_Topview\\\\Expect_1\\\\Mouse21\\\\200207_2\\\\2020-02-07T14.55.34.avi', 'F:\\\\DATA\\\\BehavioralVideos\\\\Whisker_Video\\\\Whisker_Topview\\\\Expect_1\\\\Mouse21\\\\200207_2\\\\2020-02-07T14.55.41.avi', 'F:\\\\DATA\\\\BehavioralVideos\\\\Whisker_Video\\\\Whisker_Topview\\\\Expect_1\\\\Mouse21\\\\200207_2\\\\2020-02-07T14.55.47.avi', 'F:\\\\DATA\\\\BehavioralVideos\\\\Whisker_Video\\\\Whisker_Topview\\\\Expect_1\\\\Mouse21\\\\200207_2\\\\2020-02-07T14.55.55.avi', 'F:\\\\DATA\\\\BehavioralVideos\\\\Whisker_Video\\\\Whisker_Topview\\\\Expect_1\\\\Mouse21\\\\200207_2\\\\2020-02-07T14.56.13.avi', 'F:\\\\DATA\\\\BehavioralVideos\\\\Whisker_Video\\\\Whisker_Topview\\\\Expect_1\\\\Mouse21\\\\200207_2\\\\2020-02-07T14.56.21.avi', 'F:\\\\DATA\\\\BehavioralVideos\\\\Whisker_Video\\\\Whisker_Topview\\\\Expect_1\\\\Mouse21\\\\200207_2\\\\2020-02-07T14.56.27.avi', 'F:\\\\DATA\\\\BehavioralVideos\\\\Whisker_Video\\\\Whisker_Topview\\\\Expect_1\\\\Mouse21\\\\200207_2\\\\2020-02-07T14.56.34.avi', 'F:\\\\DATA\\\\BehavioralVideos\\\\Whisker_Video\\\\Whisker_Topview\\\\Expect_1\\\\Mouse21\\\\200207_2\\\\2020-02-07T14.56.40.avi', 'F:\\\\DATA\\\\BehavioralVideos\\\\Whisker_Video\\\\Whisker_Topview\\\\Expect_1\\\\Mouse21\\\\200207_2\\\\2020-02-07T14.56.48.avi', 'F:\\\\DATA\\\\BehavioralVideos\\\\Whisker_Video\\\\Whisker_Topview\\\\Expect_1\\\\Mouse21\\\\200207_2\\\\2020-02-07T14.56.59.avi', 'F:\\\\DATA\\\\BehavioralVideos\\\\Whisker_Video\\\\Whisker_Topview\\\\Expect_1\\\\Mouse21\\\\200207_2\\\\2020-02-07T14.57.05.avi', 'F:\\\\DATA\\\\BehavioralVideos\\\\Whisker_Video\\\\Whisker_Topview\\\\Expect_1\\\\Mouse21\\\\200207_2\\\\2020-02-07T14.57.14.avi', 'F:\\\\DATA\\\\BehavioralVideos\\\\Whisker_Video\\\\Whisker_Topview\\\\Expect_1\\\\Mouse21\\\\200207_2\\\\2020-02-07T14.57.20.avi', 'F:\\\\DATA\\\\BehavioralVideos\\\\Whisker_Video\\\\Whisker_Topview\\\\Expect_1\\\\Mouse21\\\\200207_2\\\\2020-02-07T14.57.26.avi', 'F:\\\\DATA\\\\BehavioralVideos\\\\Whisker_Video\\\\Whisker_Topview\\\\Expect_1\\\\Mouse21\\\\200207_2\\\\2020-02-07T14.57.32.avi', 'F:\\\\DATA\\\\BehavioralVideos\\\\Whisker_Video\\\\Whisker_Topview\\\\Expect_1\\\\Mouse21\\\\200207_2\\\\2020-02-07T14.57.37.avi', 'F:\\\\DATA\\\\BehavioralVideos\\\\Whisker_Video\\\\Whisker_Topview\\\\Expect_1\\\\Mouse21\\\\200207_2\\\\2020-02-07T14.57.45.avi', 'F:\\\\DATA\\\\BehavioralVideos\\\\Whisker_Video\\\\Whisker_Topview\\\\Expect_1\\\\Mouse21\\\\200207_2\\\\2020-02-07T14.57.53.avi', 'F:\\\\DATA\\\\BehavioralVideos\\\\Whisker_Video\\\\Whisker_Topview\\\\Expect_1\\\\Mouse21\\\\200207_2\\\\2020-02-07T14.58.00.avi', 'F:\\\\DATA\\\\BehavioralVideos\\\\Whisker_Video\\\\Whisker_Topview\\\\Expect_1\\\\Mouse21\\\\200207_2\\\\2020-02-07T14.58.06.avi', 'F:\\\\DATA\\\\BehavioralVideos\\\\Whisker_Video\\\\Whisker_Topview\\\\Expect_1\\\\Mouse21\\\\200207_2\\\\2020-02-07T14.58.13.avi', 'F:\\\\DATA\\\\BehavioralVideos\\\\Whisker_Video\\\\Whisker_Topview\\\\Expect_1\\\\Mouse21\\\\200207_2\\\\2020-02-07T14.58.27.avi', 'F:\\\\DATA\\\\BehavioralVideos\\\\Whisker_Video\\\\Whisker_Topview\\\\Expect_1\\\\Mouse21\\\\200207_2\\\\2020-02-07T14.58.36.avi', 'F:\\\\DATA\\\\BehavioralVideos\\\\Whisker_Video\\\\Whisker_Topview\\\\Expect_1\\\\Mouse21\\\\200207_2\\\\2020-02-07T14.58.42.avi', 'F:\\\\DATA\\\\BehavioralVideos\\\\Whisker_Video\\\\Whisker_Topview\\\\Expect_1\\\\Mouse21\\\\200207_2\\\\2020-02-07T14.58.50.avi', 'F:\\\\DATA\\\\BehavioralVideos\\\\Whisker_Video\\\\Whisker_Topview\\\\Expect_1\\\\Mouse21\\\\200207_2\\\\2020-02-07T14.59.10.avi', 'F:\\\\DATA\\\\BehavioralVideos\\\\Whisker_Video\\\\Whisker_Topview\\\\Expect_1\\\\Mouse21\\\\200207_2\\\\2020-02-07T14.59.23.avi', 'F:\\\\DATA\\\\BehavioralVideos\\\\Whisker_Video\\\\Whisker_Topview\\\\Expect_1\\\\Mouse21\\\\200207_2\\\\2020-02-07T14.59.30.avi', 'F:\\\\DATA\\\\BehavioralVideos\\\\Whisker_Video\\\\Whisker_Topview\\\\Expect_1\\\\Mouse21\\\\200207_2\\\\2020-02-07T15.00.23.avi', 'F:\\\\DATA\\\\BehavioralVideos\\\\Whisker_Video\\\\Whisker_Topview\\\\Expect_1\\\\Mouse21\\\\200207_2\\\\2020-02-07T15.00.32.avi']\n",
      "Repaired 67 files, number of frames possible : between 0 and 38860\n",
      "\n",
      "[33501, 34001]\n"
     ]
    },
    {
     "name": "stderr",
     "output_type": "stream",
     "text": [
      "\n",
      "Writing video at F:\\DATA\\BehavioralVideos\\Whisker_Video\\Whisker_Topview\\Expect_1\\Mouse21\\200207_2\\2020-02-07T15.00.39.avi\n"
     ]
    },
    {
     "name": "stdout",
     "output_type": "stream",
     "text": [
      "about to write a video named 2020-02-07T15.00.39\n",
      "2020-02-07T15.00.39\n",
      "Using default extension (.avi) as none was specified\n",
      "Using default framerate (30 fps) as none was specified\n",
      "Using default codec (MJPG) as none was specified\n"
     ]
    },
    {
     "name": "stderr",
     "output_type": "stream",
     "text": [
      "0% [▓▓▓▓▓▓▓▓▓▓▓▓▓▓▓▓▓▓▓▓▓▓▓▓▓▓▓▓▓▓] 100% | ETA: 00:00:00\n",
      "Total time elapsed: 00:00:14\n"
     ]
    },
    {
     "name": "stdout",
     "output_type": "stream",
     "text": [
      "Video compression at F:\\DATA\\BehavioralVideos\\Whisker_Video\\Whisker_Topview\\Expect_1\\Mouse21\\200207_2\\2020-02-07T15.00.39.avi sucessfull\n",
      "\n",
      "['F:\\\\DATA\\\\BehavioralVideos\\\\Whisker_Video\\\\Whisker_Topview\\\\Expect_1\\\\Mouse21\\\\200207_2\\\\2020-02-07T14.48.51.avi', 'F:\\\\DATA\\\\BehavioralVideos\\\\Whisker_Video\\\\Whisker_Topview\\\\Expect_1\\\\Mouse21\\\\200207_2\\\\2020-02-07T14.48.55.avi', 'F:\\\\DATA\\\\BehavioralVideos\\\\Whisker_Video\\\\Whisker_Topview\\\\Expect_1\\\\Mouse21\\\\200207_2\\\\2020-02-07T14.49.02.avi', 'F:\\\\DATA\\\\BehavioralVideos\\\\Whisker_Video\\\\Whisker_Topview\\\\Expect_1\\\\Mouse21\\\\200207_2\\\\2020-02-07T14.49.15.avi', 'F:\\\\DATA\\\\BehavioralVideos\\\\Whisker_Video\\\\Whisker_Topview\\\\Expect_1\\\\Mouse21\\\\200207_2\\\\2020-02-07T14.49.45.avi', 'F:\\\\DATA\\\\BehavioralVideos\\\\Whisker_Video\\\\Whisker_Topview\\\\Expect_1\\\\Mouse21\\\\200207_2\\\\2020-02-07T14.49.57.avi', 'F:\\\\DATA\\\\BehavioralVideos\\\\Whisker_Video\\\\Whisker_Topview\\\\Expect_1\\\\Mouse21\\\\200207_2\\\\2020-02-07T14.50.04.avi', 'F:\\\\DATA\\\\BehavioralVideos\\\\Whisker_Video\\\\Whisker_Topview\\\\Expect_1\\\\Mouse21\\\\200207_2\\\\2020-02-07T14.50.11.avi', 'F:\\\\DATA\\\\BehavioralVideos\\\\Whisker_Video\\\\Whisker_Topview\\\\Expect_1\\\\Mouse21\\\\200207_2\\\\2020-02-07T14.50.19.avi', 'F:\\\\DATA\\\\BehavioralVideos\\\\Whisker_Video\\\\Whisker_Topview\\\\Expect_1\\\\Mouse21\\\\200207_2\\\\2020-02-07T14.50.27.avi', 'F:\\\\DATA\\\\BehavioralVideos\\\\Whisker_Video\\\\Whisker_Topview\\\\Expect_1\\\\Mouse21\\\\200207_2\\\\2020-02-07T14.50.51.avi', 'F:\\\\DATA\\\\BehavioralVideos\\\\Whisker_Video\\\\Whisker_Topview\\\\Expect_1\\\\Mouse21\\\\200207_2\\\\2020-02-07T14.51.21.avi', 'F:\\\\DATA\\\\BehavioralVideos\\\\Whisker_Video\\\\Whisker_Topview\\\\Expect_1\\\\Mouse21\\\\200207_2\\\\2020-02-07T14.51.29.avi', 'F:\\\\DATA\\\\BehavioralVideos\\\\Whisker_Video\\\\Whisker_Topview\\\\Expect_1\\\\Mouse21\\\\200207_2\\\\2020-02-07T14.51.36.avi', 'F:\\\\DATA\\\\BehavioralVideos\\\\Whisker_Video\\\\Whisker_Topview\\\\Expect_1\\\\Mouse21\\\\200207_2\\\\2020-02-07T14.51.47.avi', 'F:\\\\DATA\\\\BehavioralVideos\\\\Whisker_Video\\\\Whisker_Topview\\\\Expect_1\\\\Mouse21\\\\200207_2\\\\2020-02-07T14.51.55.avi', 'F:\\\\DATA\\\\BehavioralVideos\\\\Whisker_Video\\\\Whisker_Topview\\\\Expect_1\\\\Mouse21\\\\200207_2\\\\2020-02-07T14.52.02.avi', 'F:\\\\DATA\\\\BehavioralVideos\\\\Whisker_Video\\\\Whisker_Topview\\\\Expect_1\\\\Mouse21\\\\200207_2\\\\2020-02-07T14.52.09.avi', 'F:\\\\DATA\\\\BehavioralVideos\\\\Whisker_Video\\\\Whisker_Topview\\\\Expect_1\\\\Mouse21\\\\200207_2\\\\2020-02-07T14.52.16.avi', 'F:\\\\DATA\\\\BehavioralVideos\\\\Whisker_Video\\\\Whisker_Topview\\\\Expect_1\\\\Mouse21\\\\200207_2\\\\2020-02-07T14.52.24.avi', 'F:\\\\DATA\\\\BehavioralVideos\\\\Whisker_Video\\\\Whisker_Topview\\\\Expect_1\\\\Mouse21\\\\200207_2\\\\2020-02-07T14.53.14.avi', 'F:\\\\DATA\\\\BehavioralVideos\\\\Whisker_Video\\\\Whisker_Topview\\\\Expect_1\\\\Mouse21\\\\200207_2\\\\2020-02-07T14.53.26.avi', 'F:\\\\DATA\\\\BehavioralVideos\\\\Whisker_Video\\\\Whisker_Topview\\\\Expect_1\\\\Mouse21\\\\200207_2\\\\2020-02-07T14.53.35.avi', 'F:\\\\DATA\\\\BehavioralVideos\\\\Whisker_Video\\\\Whisker_Topview\\\\Expect_1\\\\Mouse21\\\\200207_2\\\\2020-02-07T14.53.45.avi', 'F:\\\\DATA\\\\BehavioralVideos\\\\Whisker_Video\\\\Whisker_Topview\\\\Expect_1\\\\Mouse21\\\\200207_2\\\\2020-02-07T14.53.53.avi', 'F:\\\\DATA\\\\BehavioralVideos\\\\Whisker_Video\\\\Whisker_Topview\\\\Expect_1\\\\Mouse21\\\\200207_2\\\\2020-02-07T14.54.02.avi', 'F:\\\\DATA\\\\BehavioralVideos\\\\Whisker_Video\\\\Whisker_Topview\\\\Expect_1\\\\Mouse21\\\\200207_2\\\\2020-02-07T14.54.09.avi', 'F:\\\\DATA\\\\BehavioralVideos\\\\Whisker_Video\\\\Whisker_Topview\\\\Expect_1\\\\Mouse21\\\\200207_2\\\\2020-02-07T14.54.18.avi', 'F:\\\\DATA\\\\BehavioralVideos\\\\Whisker_Video\\\\Whisker_Topview\\\\Expect_1\\\\Mouse21\\\\200207_2\\\\2020-02-07T14.54.26.avi', 'F:\\\\DATA\\\\BehavioralVideos\\\\Whisker_Video\\\\Whisker_Topview\\\\Expect_1\\\\Mouse21\\\\200207_2\\\\2020-02-07T14.54.33.avi', 'F:\\\\DATA\\\\BehavioralVideos\\\\Whisker_Video\\\\Whisker_Topview\\\\Expect_1\\\\Mouse21\\\\200207_2\\\\2020-02-07T14.54.39.avi', 'F:\\\\DATA\\\\BehavioralVideos\\\\Whisker_Video\\\\Whisker_Topview\\\\Expect_1\\\\Mouse21\\\\200207_2\\\\2020-02-07T14.54.45.avi', 'F:\\\\DATA\\\\BehavioralVideos\\\\Whisker_Video\\\\Whisker_Topview\\\\Expect_1\\\\Mouse21\\\\200207_2\\\\2020-02-07T14.55.01.avi', 'F:\\\\DATA\\\\BehavioralVideos\\\\Whisker_Video\\\\Whisker_Topview\\\\Expect_1\\\\Mouse21\\\\200207_2\\\\2020-02-07T14.55.11.avi', 'F:\\\\DATA\\\\BehavioralVideos\\\\Whisker_Video\\\\Whisker_Topview\\\\Expect_1\\\\Mouse21\\\\200207_2\\\\2020-02-07T14.55.17.avi', 'F:\\\\DATA\\\\BehavioralVideos\\\\Whisker_Video\\\\Whisker_Topview\\\\Expect_1\\\\Mouse21\\\\200207_2\\\\2020-02-07T14.55.28.avi', 'F:\\\\DATA\\\\BehavioralVideos\\\\Whisker_Video\\\\Whisker_Topview\\\\Expect_1\\\\Mouse21\\\\200207_2\\\\2020-02-07T14.55.34.avi', 'F:\\\\DATA\\\\BehavioralVideos\\\\Whisker_Video\\\\Whisker_Topview\\\\Expect_1\\\\Mouse21\\\\200207_2\\\\2020-02-07T14.55.41.avi', 'F:\\\\DATA\\\\BehavioralVideos\\\\Whisker_Video\\\\Whisker_Topview\\\\Expect_1\\\\Mouse21\\\\200207_2\\\\2020-02-07T14.55.47.avi', 'F:\\\\DATA\\\\BehavioralVideos\\\\Whisker_Video\\\\Whisker_Topview\\\\Expect_1\\\\Mouse21\\\\200207_2\\\\2020-02-07T14.55.55.avi', 'F:\\\\DATA\\\\BehavioralVideos\\\\Whisker_Video\\\\Whisker_Topview\\\\Expect_1\\\\Mouse21\\\\200207_2\\\\2020-02-07T14.56.13.avi', 'F:\\\\DATA\\\\BehavioralVideos\\\\Whisker_Video\\\\Whisker_Topview\\\\Expect_1\\\\Mouse21\\\\200207_2\\\\2020-02-07T14.56.21.avi', 'F:\\\\DATA\\\\BehavioralVideos\\\\Whisker_Video\\\\Whisker_Topview\\\\Expect_1\\\\Mouse21\\\\200207_2\\\\2020-02-07T14.56.27.avi', 'F:\\\\DATA\\\\BehavioralVideos\\\\Whisker_Video\\\\Whisker_Topview\\\\Expect_1\\\\Mouse21\\\\200207_2\\\\2020-02-07T14.56.34.avi', 'F:\\\\DATA\\\\BehavioralVideos\\\\Whisker_Video\\\\Whisker_Topview\\\\Expect_1\\\\Mouse21\\\\200207_2\\\\2020-02-07T14.56.40.avi', 'F:\\\\DATA\\\\BehavioralVideos\\\\Whisker_Video\\\\Whisker_Topview\\\\Expect_1\\\\Mouse21\\\\200207_2\\\\2020-02-07T14.56.48.avi', 'F:\\\\DATA\\\\BehavioralVideos\\\\Whisker_Video\\\\Whisker_Topview\\\\Expect_1\\\\Mouse21\\\\200207_2\\\\2020-02-07T14.56.59.avi', 'F:\\\\DATA\\\\BehavioralVideos\\\\Whisker_Video\\\\Whisker_Topview\\\\Expect_1\\\\Mouse21\\\\200207_2\\\\2020-02-07T14.57.05.avi', 'F:\\\\DATA\\\\BehavioralVideos\\\\Whisker_Video\\\\Whisker_Topview\\\\Expect_1\\\\Mouse21\\\\200207_2\\\\2020-02-07T14.57.14.avi', 'F:\\\\DATA\\\\BehavioralVideos\\\\Whisker_Video\\\\Whisker_Topview\\\\Expect_1\\\\Mouse21\\\\200207_2\\\\2020-02-07T14.57.20.avi', 'F:\\\\DATA\\\\BehavioralVideos\\\\Whisker_Video\\\\Whisker_Topview\\\\Expect_1\\\\Mouse21\\\\200207_2\\\\2020-02-07T14.57.26.avi', 'F:\\\\DATA\\\\BehavioralVideos\\\\Whisker_Video\\\\Whisker_Topview\\\\Expect_1\\\\Mouse21\\\\200207_2\\\\2020-02-07T14.57.32.avi', 'F:\\\\DATA\\\\BehavioralVideos\\\\Whisker_Video\\\\Whisker_Topview\\\\Expect_1\\\\Mouse21\\\\200207_2\\\\2020-02-07T14.57.37.avi', 'F:\\\\DATA\\\\BehavioralVideos\\\\Whisker_Video\\\\Whisker_Topview\\\\Expect_1\\\\Mouse21\\\\200207_2\\\\2020-02-07T14.57.45.avi', 'F:\\\\DATA\\\\BehavioralVideos\\\\Whisker_Video\\\\Whisker_Topview\\\\Expect_1\\\\Mouse21\\\\200207_2\\\\2020-02-07T14.57.53.avi', 'F:\\\\DATA\\\\BehavioralVideos\\\\Whisker_Video\\\\Whisker_Topview\\\\Expect_1\\\\Mouse21\\\\200207_2\\\\2020-02-07T14.58.00.avi', 'F:\\\\DATA\\\\BehavioralVideos\\\\Whisker_Video\\\\Whisker_Topview\\\\Expect_1\\\\Mouse21\\\\200207_2\\\\2020-02-07T14.58.06.avi', 'F:\\\\DATA\\\\BehavioralVideos\\\\Whisker_Video\\\\Whisker_Topview\\\\Expect_1\\\\Mouse21\\\\200207_2\\\\2020-02-07T14.58.13.avi', 'F:\\\\DATA\\\\BehavioralVideos\\\\Whisker_Video\\\\Whisker_Topview\\\\Expect_1\\\\Mouse21\\\\200207_2\\\\2020-02-07T14.58.27.avi', 'F:\\\\DATA\\\\BehavioralVideos\\\\Whisker_Video\\\\Whisker_Topview\\\\Expect_1\\\\Mouse21\\\\200207_2\\\\2020-02-07T14.58.36.avi', 'F:\\\\DATA\\\\BehavioralVideos\\\\Whisker_Video\\\\Whisker_Topview\\\\Expect_1\\\\Mouse21\\\\200207_2\\\\2020-02-07T14.58.42.avi', 'F:\\\\DATA\\\\BehavioralVideos\\\\Whisker_Video\\\\Whisker_Topview\\\\Expect_1\\\\Mouse21\\\\200207_2\\\\2020-02-07T14.58.50.avi', 'F:\\\\DATA\\\\BehavioralVideos\\\\Whisker_Video\\\\Whisker_Topview\\\\Expect_1\\\\Mouse21\\\\200207_2\\\\2020-02-07T14.59.10.avi', 'F:\\\\DATA\\\\BehavioralVideos\\\\Whisker_Video\\\\Whisker_Topview\\\\Expect_1\\\\Mouse21\\\\200207_2\\\\2020-02-07T14.59.23.avi', 'F:\\\\DATA\\\\BehavioralVideos\\\\Whisker_Video\\\\Whisker_Topview\\\\Expect_1\\\\Mouse21\\\\200207_2\\\\2020-02-07T14.59.30.avi', 'F:\\\\DATA\\\\BehavioralVideos\\\\Whisker_Video\\\\Whisker_Topview\\\\Expect_1\\\\Mouse21\\\\200207_2\\\\2020-02-07T15.00.23.avi', 'F:\\\\DATA\\\\BehavioralVideos\\\\Whisker_Video\\\\Whisker_Topview\\\\Expect_1\\\\Mouse21\\\\200207_2\\\\2020-02-07T15.00.32.avi', 'F:\\\\DATA\\\\BehavioralVideos\\\\Whisker_Video\\\\Whisker_Topview\\\\Expect_1\\\\Mouse21\\\\200207_2\\\\2020-02-07T15.00.39.avi']\n",
      "Repaired 68 files, number of frames possible : between 0 and 38860\n",
      "\n",
      "[34001, 34501]\n"
     ]
    },
    {
     "name": "stderr",
     "output_type": "stream",
     "text": [
      "\n",
      "Writing video at F:\\DATA\\BehavioralVideos\\Whisker_Video\\Whisker_Topview\\Expect_1\\Mouse21\\200207_2\\2020-02-07T15.00.48.avi\n"
     ]
    },
    {
     "name": "stdout",
     "output_type": "stream",
     "text": [
      "about to write a video named 2020-02-07T15.00.48\n",
      "2020-02-07T15.00.48\n",
      "Using default extension (.avi) as none was specified\n",
      "Using default framerate (30 fps) as none was specified\n",
      "Using default codec (MJPG) as none was specified\n"
     ]
    },
    {
     "name": "stderr",
     "output_type": "stream",
     "text": [
      "0% [▓▓▓▓▓▓▓▓▓▓▓▓▓▓▓▓▓▓▓▓▓▓▓▓▓▓▓▓▓▓] 100% | ETA: 00:00:00\n",
      "Total time elapsed: 00:00:14\n"
     ]
    },
    {
     "name": "stdout",
     "output_type": "stream",
     "text": [
      "Video compression at F:\\DATA\\BehavioralVideos\\Whisker_Video\\Whisker_Topview\\Expect_1\\Mouse21\\200207_2\\2020-02-07T15.00.48.avi sucessfull\n",
      "\n",
      "['F:\\\\DATA\\\\BehavioralVideos\\\\Whisker_Video\\\\Whisker_Topview\\\\Expect_1\\\\Mouse21\\\\200207_2\\\\2020-02-07T14.48.51.avi', 'F:\\\\DATA\\\\BehavioralVideos\\\\Whisker_Video\\\\Whisker_Topview\\\\Expect_1\\\\Mouse21\\\\200207_2\\\\2020-02-07T14.48.55.avi', 'F:\\\\DATA\\\\BehavioralVideos\\\\Whisker_Video\\\\Whisker_Topview\\\\Expect_1\\\\Mouse21\\\\200207_2\\\\2020-02-07T14.49.02.avi', 'F:\\\\DATA\\\\BehavioralVideos\\\\Whisker_Video\\\\Whisker_Topview\\\\Expect_1\\\\Mouse21\\\\200207_2\\\\2020-02-07T14.49.15.avi', 'F:\\\\DATA\\\\BehavioralVideos\\\\Whisker_Video\\\\Whisker_Topview\\\\Expect_1\\\\Mouse21\\\\200207_2\\\\2020-02-07T14.49.45.avi', 'F:\\\\DATA\\\\BehavioralVideos\\\\Whisker_Video\\\\Whisker_Topview\\\\Expect_1\\\\Mouse21\\\\200207_2\\\\2020-02-07T14.49.57.avi', 'F:\\\\DATA\\\\BehavioralVideos\\\\Whisker_Video\\\\Whisker_Topview\\\\Expect_1\\\\Mouse21\\\\200207_2\\\\2020-02-07T14.50.04.avi', 'F:\\\\DATA\\\\BehavioralVideos\\\\Whisker_Video\\\\Whisker_Topview\\\\Expect_1\\\\Mouse21\\\\200207_2\\\\2020-02-07T14.50.11.avi', 'F:\\\\DATA\\\\BehavioralVideos\\\\Whisker_Video\\\\Whisker_Topview\\\\Expect_1\\\\Mouse21\\\\200207_2\\\\2020-02-07T14.50.19.avi', 'F:\\\\DATA\\\\BehavioralVideos\\\\Whisker_Video\\\\Whisker_Topview\\\\Expect_1\\\\Mouse21\\\\200207_2\\\\2020-02-07T14.50.27.avi', 'F:\\\\DATA\\\\BehavioralVideos\\\\Whisker_Video\\\\Whisker_Topview\\\\Expect_1\\\\Mouse21\\\\200207_2\\\\2020-02-07T14.50.51.avi', 'F:\\\\DATA\\\\BehavioralVideos\\\\Whisker_Video\\\\Whisker_Topview\\\\Expect_1\\\\Mouse21\\\\200207_2\\\\2020-02-07T14.51.21.avi', 'F:\\\\DATA\\\\BehavioralVideos\\\\Whisker_Video\\\\Whisker_Topview\\\\Expect_1\\\\Mouse21\\\\200207_2\\\\2020-02-07T14.51.29.avi', 'F:\\\\DATA\\\\BehavioralVideos\\\\Whisker_Video\\\\Whisker_Topview\\\\Expect_1\\\\Mouse21\\\\200207_2\\\\2020-02-07T14.51.36.avi', 'F:\\\\DATA\\\\BehavioralVideos\\\\Whisker_Video\\\\Whisker_Topview\\\\Expect_1\\\\Mouse21\\\\200207_2\\\\2020-02-07T14.51.47.avi', 'F:\\\\DATA\\\\BehavioralVideos\\\\Whisker_Video\\\\Whisker_Topview\\\\Expect_1\\\\Mouse21\\\\200207_2\\\\2020-02-07T14.51.55.avi', 'F:\\\\DATA\\\\BehavioralVideos\\\\Whisker_Video\\\\Whisker_Topview\\\\Expect_1\\\\Mouse21\\\\200207_2\\\\2020-02-07T14.52.02.avi', 'F:\\\\DATA\\\\BehavioralVideos\\\\Whisker_Video\\\\Whisker_Topview\\\\Expect_1\\\\Mouse21\\\\200207_2\\\\2020-02-07T14.52.09.avi', 'F:\\\\DATA\\\\BehavioralVideos\\\\Whisker_Video\\\\Whisker_Topview\\\\Expect_1\\\\Mouse21\\\\200207_2\\\\2020-02-07T14.52.16.avi', 'F:\\\\DATA\\\\BehavioralVideos\\\\Whisker_Video\\\\Whisker_Topview\\\\Expect_1\\\\Mouse21\\\\200207_2\\\\2020-02-07T14.52.24.avi', 'F:\\\\DATA\\\\BehavioralVideos\\\\Whisker_Video\\\\Whisker_Topview\\\\Expect_1\\\\Mouse21\\\\200207_2\\\\2020-02-07T14.53.14.avi', 'F:\\\\DATA\\\\BehavioralVideos\\\\Whisker_Video\\\\Whisker_Topview\\\\Expect_1\\\\Mouse21\\\\200207_2\\\\2020-02-07T14.53.26.avi', 'F:\\\\DATA\\\\BehavioralVideos\\\\Whisker_Video\\\\Whisker_Topview\\\\Expect_1\\\\Mouse21\\\\200207_2\\\\2020-02-07T14.53.35.avi', 'F:\\\\DATA\\\\BehavioralVideos\\\\Whisker_Video\\\\Whisker_Topview\\\\Expect_1\\\\Mouse21\\\\200207_2\\\\2020-02-07T14.53.45.avi', 'F:\\\\DATA\\\\BehavioralVideos\\\\Whisker_Video\\\\Whisker_Topview\\\\Expect_1\\\\Mouse21\\\\200207_2\\\\2020-02-07T14.53.53.avi', 'F:\\\\DATA\\\\BehavioralVideos\\\\Whisker_Video\\\\Whisker_Topview\\\\Expect_1\\\\Mouse21\\\\200207_2\\\\2020-02-07T14.54.02.avi', 'F:\\\\DATA\\\\BehavioralVideos\\\\Whisker_Video\\\\Whisker_Topview\\\\Expect_1\\\\Mouse21\\\\200207_2\\\\2020-02-07T14.54.09.avi', 'F:\\\\DATA\\\\BehavioralVideos\\\\Whisker_Video\\\\Whisker_Topview\\\\Expect_1\\\\Mouse21\\\\200207_2\\\\2020-02-07T14.54.18.avi', 'F:\\\\DATA\\\\BehavioralVideos\\\\Whisker_Video\\\\Whisker_Topview\\\\Expect_1\\\\Mouse21\\\\200207_2\\\\2020-02-07T14.54.26.avi', 'F:\\\\DATA\\\\BehavioralVideos\\\\Whisker_Video\\\\Whisker_Topview\\\\Expect_1\\\\Mouse21\\\\200207_2\\\\2020-02-07T14.54.33.avi', 'F:\\\\DATA\\\\BehavioralVideos\\\\Whisker_Video\\\\Whisker_Topview\\\\Expect_1\\\\Mouse21\\\\200207_2\\\\2020-02-07T14.54.39.avi', 'F:\\\\DATA\\\\BehavioralVideos\\\\Whisker_Video\\\\Whisker_Topview\\\\Expect_1\\\\Mouse21\\\\200207_2\\\\2020-02-07T14.54.45.avi', 'F:\\\\DATA\\\\BehavioralVideos\\\\Whisker_Video\\\\Whisker_Topview\\\\Expect_1\\\\Mouse21\\\\200207_2\\\\2020-02-07T14.55.01.avi', 'F:\\\\DATA\\\\BehavioralVideos\\\\Whisker_Video\\\\Whisker_Topview\\\\Expect_1\\\\Mouse21\\\\200207_2\\\\2020-02-07T14.55.11.avi', 'F:\\\\DATA\\\\BehavioralVideos\\\\Whisker_Video\\\\Whisker_Topview\\\\Expect_1\\\\Mouse21\\\\200207_2\\\\2020-02-07T14.55.17.avi', 'F:\\\\DATA\\\\BehavioralVideos\\\\Whisker_Video\\\\Whisker_Topview\\\\Expect_1\\\\Mouse21\\\\200207_2\\\\2020-02-07T14.55.28.avi', 'F:\\\\DATA\\\\BehavioralVideos\\\\Whisker_Video\\\\Whisker_Topview\\\\Expect_1\\\\Mouse21\\\\200207_2\\\\2020-02-07T14.55.34.avi', 'F:\\\\DATA\\\\BehavioralVideos\\\\Whisker_Video\\\\Whisker_Topview\\\\Expect_1\\\\Mouse21\\\\200207_2\\\\2020-02-07T14.55.41.avi', 'F:\\\\DATA\\\\BehavioralVideos\\\\Whisker_Video\\\\Whisker_Topview\\\\Expect_1\\\\Mouse21\\\\200207_2\\\\2020-02-07T14.55.47.avi', 'F:\\\\DATA\\\\BehavioralVideos\\\\Whisker_Video\\\\Whisker_Topview\\\\Expect_1\\\\Mouse21\\\\200207_2\\\\2020-02-07T14.55.55.avi', 'F:\\\\DATA\\\\BehavioralVideos\\\\Whisker_Video\\\\Whisker_Topview\\\\Expect_1\\\\Mouse21\\\\200207_2\\\\2020-02-07T14.56.13.avi', 'F:\\\\DATA\\\\BehavioralVideos\\\\Whisker_Video\\\\Whisker_Topview\\\\Expect_1\\\\Mouse21\\\\200207_2\\\\2020-02-07T14.56.21.avi', 'F:\\\\DATA\\\\BehavioralVideos\\\\Whisker_Video\\\\Whisker_Topview\\\\Expect_1\\\\Mouse21\\\\200207_2\\\\2020-02-07T14.56.27.avi', 'F:\\\\DATA\\\\BehavioralVideos\\\\Whisker_Video\\\\Whisker_Topview\\\\Expect_1\\\\Mouse21\\\\200207_2\\\\2020-02-07T14.56.34.avi', 'F:\\\\DATA\\\\BehavioralVideos\\\\Whisker_Video\\\\Whisker_Topview\\\\Expect_1\\\\Mouse21\\\\200207_2\\\\2020-02-07T14.56.40.avi', 'F:\\\\DATA\\\\BehavioralVideos\\\\Whisker_Video\\\\Whisker_Topview\\\\Expect_1\\\\Mouse21\\\\200207_2\\\\2020-02-07T14.56.48.avi', 'F:\\\\DATA\\\\BehavioralVideos\\\\Whisker_Video\\\\Whisker_Topview\\\\Expect_1\\\\Mouse21\\\\200207_2\\\\2020-02-07T14.56.59.avi', 'F:\\\\DATA\\\\BehavioralVideos\\\\Whisker_Video\\\\Whisker_Topview\\\\Expect_1\\\\Mouse21\\\\200207_2\\\\2020-02-07T14.57.05.avi', 'F:\\\\DATA\\\\BehavioralVideos\\\\Whisker_Video\\\\Whisker_Topview\\\\Expect_1\\\\Mouse21\\\\200207_2\\\\2020-02-07T14.57.14.avi', 'F:\\\\DATA\\\\BehavioralVideos\\\\Whisker_Video\\\\Whisker_Topview\\\\Expect_1\\\\Mouse21\\\\200207_2\\\\2020-02-07T14.57.20.avi', 'F:\\\\DATA\\\\BehavioralVideos\\\\Whisker_Video\\\\Whisker_Topview\\\\Expect_1\\\\Mouse21\\\\200207_2\\\\2020-02-07T14.57.26.avi', 'F:\\\\DATA\\\\BehavioralVideos\\\\Whisker_Video\\\\Whisker_Topview\\\\Expect_1\\\\Mouse21\\\\200207_2\\\\2020-02-07T14.57.32.avi', 'F:\\\\DATA\\\\BehavioralVideos\\\\Whisker_Video\\\\Whisker_Topview\\\\Expect_1\\\\Mouse21\\\\200207_2\\\\2020-02-07T14.57.37.avi', 'F:\\\\DATA\\\\BehavioralVideos\\\\Whisker_Video\\\\Whisker_Topview\\\\Expect_1\\\\Mouse21\\\\200207_2\\\\2020-02-07T14.57.45.avi', 'F:\\\\DATA\\\\BehavioralVideos\\\\Whisker_Video\\\\Whisker_Topview\\\\Expect_1\\\\Mouse21\\\\200207_2\\\\2020-02-07T14.57.53.avi', 'F:\\\\DATA\\\\BehavioralVideos\\\\Whisker_Video\\\\Whisker_Topview\\\\Expect_1\\\\Mouse21\\\\200207_2\\\\2020-02-07T14.58.00.avi', 'F:\\\\DATA\\\\BehavioralVideos\\\\Whisker_Video\\\\Whisker_Topview\\\\Expect_1\\\\Mouse21\\\\200207_2\\\\2020-02-07T14.58.06.avi', 'F:\\\\DATA\\\\BehavioralVideos\\\\Whisker_Video\\\\Whisker_Topview\\\\Expect_1\\\\Mouse21\\\\200207_2\\\\2020-02-07T14.58.13.avi', 'F:\\\\DATA\\\\BehavioralVideos\\\\Whisker_Video\\\\Whisker_Topview\\\\Expect_1\\\\Mouse21\\\\200207_2\\\\2020-02-07T14.58.27.avi', 'F:\\\\DATA\\\\BehavioralVideos\\\\Whisker_Video\\\\Whisker_Topview\\\\Expect_1\\\\Mouse21\\\\200207_2\\\\2020-02-07T14.58.36.avi', 'F:\\\\DATA\\\\BehavioralVideos\\\\Whisker_Video\\\\Whisker_Topview\\\\Expect_1\\\\Mouse21\\\\200207_2\\\\2020-02-07T14.58.42.avi', 'F:\\\\DATA\\\\BehavioralVideos\\\\Whisker_Video\\\\Whisker_Topview\\\\Expect_1\\\\Mouse21\\\\200207_2\\\\2020-02-07T14.58.50.avi', 'F:\\\\DATA\\\\BehavioralVideos\\\\Whisker_Video\\\\Whisker_Topview\\\\Expect_1\\\\Mouse21\\\\200207_2\\\\2020-02-07T14.59.10.avi', 'F:\\\\DATA\\\\BehavioralVideos\\\\Whisker_Video\\\\Whisker_Topview\\\\Expect_1\\\\Mouse21\\\\200207_2\\\\2020-02-07T14.59.23.avi', 'F:\\\\DATA\\\\BehavioralVideos\\\\Whisker_Video\\\\Whisker_Topview\\\\Expect_1\\\\Mouse21\\\\200207_2\\\\2020-02-07T14.59.30.avi', 'F:\\\\DATA\\\\BehavioralVideos\\\\Whisker_Video\\\\Whisker_Topview\\\\Expect_1\\\\Mouse21\\\\200207_2\\\\2020-02-07T15.00.23.avi', 'F:\\\\DATA\\\\BehavioralVideos\\\\Whisker_Video\\\\Whisker_Topview\\\\Expect_1\\\\Mouse21\\\\200207_2\\\\2020-02-07T15.00.32.avi', 'F:\\\\DATA\\\\BehavioralVideos\\\\Whisker_Video\\\\Whisker_Topview\\\\Expect_1\\\\Mouse21\\\\200207_2\\\\2020-02-07T15.00.39.avi', 'F:\\\\DATA\\\\BehavioralVideos\\\\Whisker_Video\\\\Whisker_Topview\\\\Expect_1\\\\Mouse21\\\\200207_2\\\\2020-02-07T15.00.48.avi']\n",
      "Repaired 69 files, number of frames possible : between 0 and 38860\n",
      "\n",
      "[34501, 35001]\n"
     ]
    },
    {
     "name": "stderr",
     "output_type": "stream",
     "text": [
      "\n",
      "Writing video at F:\\DATA\\BehavioralVideos\\Whisker_Video\\Whisker_Topview\\Expect_1\\Mouse21\\200207_2\\2020-02-07T15.00.55.avi\n"
     ]
    },
    {
     "name": "stdout",
     "output_type": "stream",
     "text": [
      "about to write a video named 2020-02-07T15.00.55\n",
      "2020-02-07T15.00.55\n",
      "Using default extension (.avi) as none was specified\n",
      "Using default framerate (30 fps) as none was specified\n",
      "Using default codec (MJPG) as none was specified\n"
     ]
    },
    {
     "name": "stderr",
     "output_type": "stream",
     "text": [
      "0% [▓▓▓▓▓▓▓▓▓▓▓▓▓▓▓▓▓▓▓▓▓▓▓▓▓▓▓▓▓▓] 100% | ETA: 00:00:00\n",
      "Total time elapsed: 00:00:13\n"
     ]
    },
    {
     "name": "stdout",
     "output_type": "stream",
     "text": [
      "Video compression at F:\\DATA\\BehavioralVideos\\Whisker_Video\\Whisker_Topview\\Expect_1\\Mouse21\\200207_2\\2020-02-07T15.00.55.avi sucessfull\n",
      "\n",
      "['F:\\\\DATA\\\\BehavioralVideos\\\\Whisker_Video\\\\Whisker_Topview\\\\Expect_1\\\\Mouse21\\\\200207_2\\\\2020-02-07T14.48.51.avi', 'F:\\\\DATA\\\\BehavioralVideos\\\\Whisker_Video\\\\Whisker_Topview\\\\Expect_1\\\\Mouse21\\\\200207_2\\\\2020-02-07T14.48.55.avi', 'F:\\\\DATA\\\\BehavioralVideos\\\\Whisker_Video\\\\Whisker_Topview\\\\Expect_1\\\\Mouse21\\\\200207_2\\\\2020-02-07T14.49.02.avi', 'F:\\\\DATA\\\\BehavioralVideos\\\\Whisker_Video\\\\Whisker_Topview\\\\Expect_1\\\\Mouse21\\\\200207_2\\\\2020-02-07T14.49.15.avi', 'F:\\\\DATA\\\\BehavioralVideos\\\\Whisker_Video\\\\Whisker_Topview\\\\Expect_1\\\\Mouse21\\\\200207_2\\\\2020-02-07T14.49.45.avi', 'F:\\\\DATA\\\\BehavioralVideos\\\\Whisker_Video\\\\Whisker_Topview\\\\Expect_1\\\\Mouse21\\\\200207_2\\\\2020-02-07T14.49.57.avi', 'F:\\\\DATA\\\\BehavioralVideos\\\\Whisker_Video\\\\Whisker_Topview\\\\Expect_1\\\\Mouse21\\\\200207_2\\\\2020-02-07T14.50.04.avi', 'F:\\\\DATA\\\\BehavioralVideos\\\\Whisker_Video\\\\Whisker_Topview\\\\Expect_1\\\\Mouse21\\\\200207_2\\\\2020-02-07T14.50.11.avi', 'F:\\\\DATA\\\\BehavioralVideos\\\\Whisker_Video\\\\Whisker_Topview\\\\Expect_1\\\\Mouse21\\\\200207_2\\\\2020-02-07T14.50.19.avi', 'F:\\\\DATA\\\\BehavioralVideos\\\\Whisker_Video\\\\Whisker_Topview\\\\Expect_1\\\\Mouse21\\\\200207_2\\\\2020-02-07T14.50.27.avi', 'F:\\\\DATA\\\\BehavioralVideos\\\\Whisker_Video\\\\Whisker_Topview\\\\Expect_1\\\\Mouse21\\\\200207_2\\\\2020-02-07T14.50.51.avi', 'F:\\\\DATA\\\\BehavioralVideos\\\\Whisker_Video\\\\Whisker_Topview\\\\Expect_1\\\\Mouse21\\\\200207_2\\\\2020-02-07T14.51.21.avi', 'F:\\\\DATA\\\\BehavioralVideos\\\\Whisker_Video\\\\Whisker_Topview\\\\Expect_1\\\\Mouse21\\\\200207_2\\\\2020-02-07T14.51.29.avi', 'F:\\\\DATA\\\\BehavioralVideos\\\\Whisker_Video\\\\Whisker_Topview\\\\Expect_1\\\\Mouse21\\\\200207_2\\\\2020-02-07T14.51.36.avi', 'F:\\\\DATA\\\\BehavioralVideos\\\\Whisker_Video\\\\Whisker_Topview\\\\Expect_1\\\\Mouse21\\\\200207_2\\\\2020-02-07T14.51.47.avi', 'F:\\\\DATA\\\\BehavioralVideos\\\\Whisker_Video\\\\Whisker_Topview\\\\Expect_1\\\\Mouse21\\\\200207_2\\\\2020-02-07T14.51.55.avi', 'F:\\\\DATA\\\\BehavioralVideos\\\\Whisker_Video\\\\Whisker_Topview\\\\Expect_1\\\\Mouse21\\\\200207_2\\\\2020-02-07T14.52.02.avi', 'F:\\\\DATA\\\\BehavioralVideos\\\\Whisker_Video\\\\Whisker_Topview\\\\Expect_1\\\\Mouse21\\\\200207_2\\\\2020-02-07T14.52.09.avi', 'F:\\\\DATA\\\\BehavioralVideos\\\\Whisker_Video\\\\Whisker_Topview\\\\Expect_1\\\\Mouse21\\\\200207_2\\\\2020-02-07T14.52.16.avi', 'F:\\\\DATA\\\\BehavioralVideos\\\\Whisker_Video\\\\Whisker_Topview\\\\Expect_1\\\\Mouse21\\\\200207_2\\\\2020-02-07T14.52.24.avi', 'F:\\\\DATA\\\\BehavioralVideos\\\\Whisker_Video\\\\Whisker_Topview\\\\Expect_1\\\\Mouse21\\\\200207_2\\\\2020-02-07T14.53.14.avi', 'F:\\\\DATA\\\\BehavioralVideos\\\\Whisker_Video\\\\Whisker_Topview\\\\Expect_1\\\\Mouse21\\\\200207_2\\\\2020-02-07T14.53.26.avi', 'F:\\\\DATA\\\\BehavioralVideos\\\\Whisker_Video\\\\Whisker_Topview\\\\Expect_1\\\\Mouse21\\\\200207_2\\\\2020-02-07T14.53.35.avi', 'F:\\\\DATA\\\\BehavioralVideos\\\\Whisker_Video\\\\Whisker_Topview\\\\Expect_1\\\\Mouse21\\\\200207_2\\\\2020-02-07T14.53.45.avi', 'F:\\\\DATA\\\\BehavioralVideos\\\\Whisker_Video\\\\Whisker_Topview\\\\Expect_1\\\\Mouse21\\\\200207_2\\\\2020-02-07T14.53.53.avi', 'F:\\\\DATA\\\\BehavioralVideos\\\\Whisker_Video\\\\Whisker_Topview\\\\Expect_1\\\\Mouse21\\\\200207_2\\\\2020-02-07T14.54.02.avi', 'F:\\\\DATA\\\\BehavioralVideos\\\\Whisker_Video\\\\Whisker_Topview\\\\Expect_1\\\\Mouse21\\\\200207_2\\\\2020-02-07T14.54.09.avi', 'F:\\\\DATA\\\\BehavioralVideos\\\\Whisker_Video\\\\Whisker_Topview\\\\Expect_1\\\\Mouse21\\\\200207_2\\\\2020-02-07T14.54.18.avi', 'F:\\\\DATA\\\\BehavioralVideos\\\\Whisker_Video\\\\Whisker_Topview\\\\Expect_1\\\\Mouse21\\\\200207_2\\\\2020-02-07T14.54.26.avi', 'F:\\\\DATA\\\\BehavioralVideos\\\\Whisker_Video\\\\Whisker_Topview\\\\Expect_1\\\\Mouse21\\\\200207_2\\\\2020-02-07T14.54.33.avi', 'F:\\\\DATA\\\\BehavioralVideos\\\\Whisker_Video\\\\Whisker_Topview\\\\Expect_1\\\\Mouse21\\\\200207_2\\\\2020-02-07T14.54.39.avi', 'F:\\\\DATA\\\\BehavioralVideos\\\\Whisker_Video\\\\Whisker_Topview\\\\Expect_1\\\\Mouse21\\\\200207_2\\\\2020-02-07T14.54.45.avi', 'F:\\\\DATA\\\\BehavioralVideos\\\\Whisker_Video\\\\Whisker_Topview\\\\Expect_1\\\\Mouse21\\\\200207_2\\\\2020-02-07T14.55.01.avi', 'F:\\\\DATA\\\\BehavioralVideos\\\\Whisker_Video\\\\Whisker_Topview\\\\Expect_1\\\\Mouse21\\\\200207_2\\\\2020-02-07T14.55.11.avi', 'F:\\\\DATA\\\\BehavioralVideos\\\\Whisker_Video\\\\Whisker_Topview\\\\Expect_1\\\\Mouse21\\\\200207_2\\\\2020-02-07T14.55.17.avi', 'F:\\\\DATA\\\\BehavioralVideos\\\\Whisker_Video\\\\Whisker_Topview\\\\Expect_1\\\\Mouse21\\\\200207_2\\\\2020-02-07T14.55.28.avi', 'F:\\\\DATA\\\\BehavioralVideos\\\\Whisker_Video\\\\Whisker_Topview\\\\Expect_1\\\\Mouse21\\\\200207_2\\\\2020-02-07T14.55.34.avi', 'F:\\\\DATA\\\\BehavioralVideos\\\\Whisker_Video\\\\Whisker_Topview\\\\Expect_1\\\\Mouse21\\\\200207_2\\\\2020-02-07T14.55.41.avi', 'F:\\\\DATA\\\\BehavioralVideos\\\\Whisker_Video\\\\Whisker_Topview\\\\Expect_1\\\\Mouse21\\\\200207_2\\\\2020-02-07T14.55.47.avi', 'F:\\\\DATA\\\\BehavioralVideos\\\\Whisker_Video\\\\Whisker_Topview\\\\Expect_1\\\\Mouse21\\\\200207_2\\\\2020-02-07T14.55.55.avi', 'F:\\\\DATA\\\\BehavioralVideos\\\\Whisker_Video\\\\Whisker_Topview\\\\Expect_1\\\\Mouse21\\\\200207_2\\\\2020-02-07T14.56.13.avi', 'F:\\\\DATA\\\\BehavioralVideos\\\\Whisker_Video\\\\Whisker_Topview\\\\Expect_1\\\\Mouse21\\\\200207_2\\\\2020-02-07T14.56.21.avi', 'F:\\\\DATA\\\\BehavioralVideos\\\\Whisker_Video\\\\Whisker_Topview\\\\Expect_1\\\\Mouse21\\\\200207_2\\\\2020-02-07T14.56.27.avi', 'F:\\\\DATA\\\\BehavioralVideos\\\\Whisker_Video\\\\Whisker_Topview\\\\Expect_1\\\\Mouse21\\\\200207_2\\\\2020-02-07T14.56.34.avi', 'F:\\\\DATA\\\\BehavioralVideos\\\\Whisker_Video\\\\Whisker_Topview\\\\Expect_1\\\\Mouse21\\\\200207_2\\\\2020-02-07T14.56.40.avi', 'F:\\\\DATA\\\\BehavioralVideos\\\\Whisker_Video\\\\Whisker_Topview\\\\Expect_1\\\\Mouse21\\\\200207_2\\\\2020-02-07T14.56.48.avi', 'F:\\\\DATA\\\\BehavioralVideos\\\\Whisker_Video\\\\Whisker_Topview\\\\Expect_1\\\\Mouse21\\\\200207_2\\\\2020-02-07T14.56.59.avi', 'F:\\\\DATA\\\\BehavioralVideos\\\\Whisker_Video\\\\Whisker_Topview\\\\Expect_1\\\\Mouse21\\\\200207_2\\\\2020-02-07T14.57.05.avi', 'F:\\\\DATA\\\\BehavioralVideos\\\\Whisker_Video\\\\Whisker_Topview\\\\Expect_1\\\\Mouse21\\\\200207_2\\\\2020-02-07T14.57.14.avi', 'F:\\\\DATA\\\\BehavioralVideos\\\\Whisker_Video\\\\Whisker_Topview\\\\Expect_1\\\\Mouse21\\\\200207_2\\\\2020-02-07T14.57.20.avi', 'F:\\\\DATA\\\\BehavioralVideos\\\\Whisker_Video\\\\Whisker_Topview\\\\Expect_1\\\\Mouse21\\\\200207_2\\\\2020-02-07T14.57.26.avi', 'F:\\\\DATA\\\\BehavioralVideos\\\\Whisker_Video\\\\Whisker_Topview\\\\Expect_1\\\\Mouse21\\\\200207_2\\\\2020-02-07T14.57.32.avi', 'F:\\\\DATA\\\\BehavioralVideos\\\\Whisker_Video\\\\Whisker_Topview\\\\Expect_1\\\\Mouse21\\\\200207_2\\\\2020-02-07T14.57.37.avi', 'F:\\\\DATA\\\\BehavioralVideos\\\\Whisker_Video\\\\Whisker_Topview\\\\Expect_1\\\\Mouse21\\\\200207_2\\\\2020-02-07T14.57.45.avi', 'F:\\\\DATA\\\\BehavioralVideos\\\\Whisker_Video\\\\Whisker_Topview\\\\Expect_1\\\\Mouse21\\\\200207_2\\\\2020-02-07T14.57.53.avi', 'F:\\\\DATA\\\\BehavioralVideos\\\\Whisker_Video\\\\Whisker_Topview\\\\Expect_1\\\\Mouse21\\\\200207_2\\\\2020-02-07T14.58.00.avi', 'F:\\\\DATA\\\\BehavioralVideos\\\\Whisker_Video\\\\Whisker_Topview\\\\Expect_1\\\\Mouse21\\\\200207_2\\\\2020-02-07T14.58.06.avi', 'F:\\\\DATA\\\\BehavioralVideos\\\\Whisker_Video\\\\Whisker_Topview\\\\Expect_1\\\\Mouse21\\\\200207_2\\\\2020-02-07T14.58.13.avi', 'F:\\\\DATA\\\\BehavioralVideos\\\\Whisker_Video\\\\Whisker_Topview\\\\Expect_1\\\\Mouse21\\\\200207_2\\\\2020-02-07T14.58.27.avi', 'F:\\\\DATA\\\\BehavioralVideos\\\\Whisker_Video\\\\Whisker_Topview\\\\Expect_1\\\\Mouse21\\\\200207_2\\\\2020-02-07T14.58.36.avi', 'F:\\\\DATA\\\\BehavioralVideos\\\\Whisker_Video\\\\Whisker_Topview\\\\Expect_1\\\\Mouse21\\\\200207_2\\\\2020-02-07T14.58.42.avi', 'F:\\\\DATA\\\\BehavioralVideos\\\\Whisker_Video\\\\Whisker_Topview\\\\Expect_1\\\\Mouse21\\\\200207_2\\\\2020-02-07T14.58.50.avi', 'F:\\\\DATA\\\\BehavioralVideos\\\\Whisker_Video\\\\Whisker_Topview\\\\Expect_1\\\\Mouse21\\\\200207_2\\\\2020-02-07T14.59.10.avi', 'F:\\\\DATA\\\\BehavioralVideos\\\\Whisker_Video\\\\Whisker_Topview\\\\Expect_1\\\\Mouse21\\\\200207_2\\\\2020-02-07T14.59.23.avi', 'F:\\\\DATA\\\\BehavioralVideos\\\\Whisker_Video\\\\Whisker_Topview\\\\Expect_1\\\\Mouse21\\\\200207_2\\\\2020-02-07T14.59.30.avi', 'F:\\\\DATA\\\\BehavioralVideos\\\\Whisker_Video\\\\Whisker_Topview\\\\Expect_1\\\\Mouse21\\\\200207_2\\\\2020-02-07T15.00.23.avi', 'F:\\\\DATA\\\\BehavioralVideos\\\\Whisker_Video\\\\Whisker_Topview\\\\Expect_1\\\\Mouse21\\\\200207_2\\\\2020-02-07T15.00.32.avi', 'F:\\\\DATA\\\\BehavioralVideos\\\\Whisker_Video\\\\Whisker_Topview\\\\Expect_1\\\\Mouse21\\\\200207_2\\\\2020-02-07T15.00.39.avi', 'F:\\\\DATA\\\\BehavioralVideos\\\\Whisker_Video\\\\Whisker_Topview\\\\Expect_1\\\\Mouse21\\\\200207_2\\\\2020-02-07T15.00.48.avi', 'F:\\\\DATA\\\\BehavioralVideos\\\\Whisker_Video\\\\Whisker_Topview\\\\Expect_1\\\\Mouse21\\\\200207_2\\\\2020-02-07T15.00.55.avi']\n",
      "Repaired 70 files, number of frames possible : between 0 and 38860\n",
      "\n",
      "[35001, 35501]\n"
     ]
    },
    {
     "name": "stderr",
     "output_type": "stream",
     "text": [
      "\n",
      "Writing video at F:\\DATA\\BehavioralVideos\\Whisker_Video\\Whisker_Topview\\Expect_1\\Mouse21\\200207_2\\2020-02-07T15.01.01.avi\n"
     ]
    },
    {
     "name": "stdout",
     "output_type": "stream",
     "text": [
      "about to write a video named 2020-02-07T15.01.01\n",
      "2020-02-07T15.01.01\n",
      "Using default extension (.avi) as none was specified\n",
      "Using default framerate (30 fps) as none was specified\n",
      "Using default codec (MJPG) as none was specified\n"
     ]
    },
    {
     "name": "stderr",
     "output_type": "stream",
     "text": [
      "0% [▓▓▓▓▓▓▓▓▓▓▓▓▓▓▓▓▓▓▓▓▓▓▓▓▓▓▓▓▓▓] 100% | ETA: 00:00:00\n",
      "Total time elapsed: 00:00:13\n"
     ]
    },
    {
     "name": "stdout",
     "output_type": "stream",
     "text": [
      "Video compression at F:\\DATA\\BehavioralVideos\\Whisker_Video\\Whisker_Topview\\Expect_1\\Mouse21\\200207_2\\2020-02-07T15.01.01.avi sucessfull\n",
      "\n",
      "['F:\\\\DATA\\\\BehavioralVideos\\\\Whisker_Video\\\\Whisker_Topview\\\\Expect_1\\\\Mouse21\\\\200207_2\\\\2020-02-07T14.48.51.avi', 'F:\\\\DATA\\\\BehavioralVideos\\\\Whisker_Video\\\\Whisker_Topview\\\\Expect_1\\\\Mouse21\\\\200207_2\\\\2020-02-07T14.48.55.avi', 'F:\\\\DATA\\\\BehavioralVideos\\\\Whisker_Video\\\\Whisker_Topview\\\\Expect_1\\\\Mouse21\\\\200207_2\\\\2020-02-07T14.49.02.avi', 'F:\\\\DATA\\\\BehavioralVideos\\\\Whisker_Video\\\\Whisker_Topview\\\\Expect_1\\\\Mouse21\\\\200207_2\\\\2020-02-07T14.49.15.avi', 'F:\\\\DATA\\\\BehavioralVideos\\\\Whisker_Video\\\\Whisker_Topview\\\\Expect_1\\\\Mouse21\\\\200207_2\\\\2020-02-07T14.49.45.avi', 'F:\\\\DATA\\\\BehavioralVideos\\\\Whisker_Video\\\\Whisker_Topview\\\\Expect_1\\\\Mouse21\\\\200207_2\\\\2020-02-07T14.49.57.avi', 'F:\\\\DATA\\\\BehavioralVideos\\\\Whisker_Video\\\\Whisker_Topview\\\\Expect_1\\\\Mouse21\\\\200207_2\\\\2020-02-07T14.50.04.avi', 'F:\\\\DATA\\\\BehavioralVideos\\\\Whisker_Video\\\\Whisker_Topview\\\\Expect_1\\\\Mouse21\\\\200207_2\\\\2020-02-07T14.50.11.avi', 'F:\\\\DATA\\\\BehavioralVideos\\\\Whisker_Video\\\\Whisker_Topview\\\\Expect_1\\\\Mouse21\\\\200207_2\\\\2020-02-07T14.50.19.avi', 'F:\\\\DATA\\\\BehavioralVideos\\\\Whisker_Video\\\\Whisker_Topview\\\\Expect_1\\\\Mouse21\\\\200207_2\\\\2020-02-07T14.50.27.avi', 'F:\\\\DATA\\\\BehavioralVideos\\\\Whisker_Video\\\\Whisker_Topview\\\\Expect_1\\\\Mouse21\\\\200207_2\\\\2020-02-07T14.50.51.avi', 'F:\\\\DATA\\\\BehavioralVideos\\\\Whisker_Video\\\\Whisker_Topview\\\\Expect_1\\\\Mouse21\\\\200207_2\\\\2020-02-07T14.51.21.avi', 'F:\\\\DATA\\\\BehavioralVideos\\\\Whisker_Video\\\\Whisker_Topview\\\\Expect_1\\\\Mouse21\\\\200207_2\\\\2020-02-07T14.51.29.avi', 'F:\\\\DATA\\\\BehavioralVideos\\\\Whisker_Video\\\\Whisker_Topview\\\\Expect_1\\\\Mouse21\\\\200207_2\\\\2020-02-07T14.51.36.avi', 'F:\\\\DATA\\\\BehavioralVideos\\\\Whisker_Video\\\\Whisker_Topview\\\\Expect_1\\\\Mouse21\\\\200207_2\\\\2020-02-07T14.51.47.avi', 'F:\\\\DATA\\\\BehavioralVideos\\\\Whisker_Video\\\\Whisker_Topview\\\\Expect_1\\\\Mouse21\\\\200207_2\\\\2020-02-07T14.51.55.avi', 'F:\\\\DATA\\\\BehavioralVideos\\\\Whisker_Video\\\\Whisker_Topview\\\\Expect_1\\\\Mouse21\\\\200207_2\\\\2020-02-07T14.52.02.avi', 'F:\\\\DATA\\\\BehavioralVideos\\\\Whisker_Video\\\\Whisker_Topview\\\\Expect_1\\\\Mouse21\\\\200207_2\\\\2020-02-07T14.52.09.avi', 'F:\\\\DATA\\\\BehavioralVideos\\\\Whisker_Video\\\\Whisker_Topview\\\\Expect_1\\\\Mouse21\\\\200207_2\\\\2020-02-07T14.52.16.avi', 'F:\\\\DATA\\\\BehavioralVideos\\\\Whisker_Video\\\\Whisker_Topview\\\\Expect_1\\\\Mouse21\\\\200207_2\\\\2020-02-07T14.52.24.avi', 'F:\\\\DATA\\\\BehavioralVideos\\\\Whisker_Video\\\\Whisker_Topview\\\\Expect_1\\\\Mouse21\\\\200207_2\\\\2020-02-07T14.53.14.avi', 'F:\\\\DATA\\\\BehavioralVideos\\\\Whisker_Video\\\\Whisker_Topview\\\\Expect_1\\\\Mouse21\\\\200207_2\\\\2020-02-07T14.53.26.avi', 'F:\\\\DATA\\\\BehavioralVideos\\\\Whisker_Video\\\\Whisker_Topview\\\\Expect_1\\\\Mouse21\\\\200207_2\\\\2020-02-07T14.53.35.avi', 'F:\\\\DATA\\\\BehavioralVideos\\\\Whisker_Video\\\\Whisker_Topview\\\\Expect_1\\\\Mouse21\\\\200207_2\\\\2020-02-07T14.53.45.avi', 'F:\\\\DATA\\\\BehavioralVideos\\\\Whisker_Video\\\\Whisker_Topview\\\\Expect_1\\\\Mouse21\\\\200207_2\\\\2020-02-07T14.53.53.avi', 'F:\\\\DATA\\\\BehavioralVideos\\\\Whisker_Video\\\\Whisker_Topview\\\\Expect_1\\\\Mouse21\\\\200207_2\\\\2020-02-07T14.54.02.avi', 'F:\\\\DATA\\\\BehavioralVideos\\\\Whisker_Video\\\\Whisker_Topview\\\\Expect_1\\\\Mouse21\\\\200207_2\\\\2020-02-07T14.54.09.avi', 'F:\\\\DATA\\\\BehavioralVideos\\\\Whisker_Video\\\\Whisker_Topview\\\\Expect_1\\\\Mouse21\\\\200207_2\\\\2020-02-07T14.54.18.avi', 'F:\\\\DATA\\\\BehavioralVideos\\\\Whisker_Video\\\\Whisker_Topview\\\\Expect_1\\\\Mouse21\\\\200207_2\\\\2020-02-07T14.54.26.avi', 'F:\\\\DATA\\\\BehavioralVideos\\\\Whisker_Video\\\\Whisker_Topview\\\\Expect_1\\\\Mouse21\\\\200207_2\\\\2020-02-07T14.54.33.avi', 'F:\\\\DATA\\\\BehavioralVideos\\\\Whisker_Video\\\\Whisker_Topview\\\\Expect_1\\\\Mouse21\\\\200207_2\\\\2020-02-07T14.54.39.avi', 'F:\\\\DATA\\\\BehavioralVideos\\\\Whisker_Video\\\\Whisker_Topview\\\\Expect_1\\\\Mouse21\\\\200207_2\\\\2020-02-07T14.54.45.avi', 'F:\\\\DATA\\\\BehavioralVideos\\\\Whisker_Video\\\\Whisker_Topview\\\\Expect_1\\\\Mouse21\\\\200207_2\\\\2020-02-07T14.55.01.avi', 'F:\\\\DATA\\\\BehavioralVideos\\\\Whisker_Video\\\\Whisker_Topview\\\\Expect_1\\\\Mouse21\\\\200207_2\\\\2020-02-07T14.55.11.avi', 'F:\\\\DATA\\\\BehavioralVideos\\\\Whisker_Video\\\\Whisker_Topview\\\\Expect_1\\\\Mouse21\\\\200207_2\\\\2020-02-07T14.55.17.avi', 'F:\\\\DATA\\\\BehavioralVideos\\\\Whisker_Video\\\\Whisker_Topview\\\\Expect_1\\\\Mouse21\\\\200207_2\\\\2020-02-07T14.55.28.avi', 'F:\\\\DATA\\\\BehavioralVideos\\\\Whisker_Video\\\\Whisker_Topview\\\\Expect_1\\\\Mouse21\\\\200207_2\\\\2020-02-07T14.55.34.avi', 'F:\\\\DATA\\\\BehavioralVideos\\\\Whisker_Video\\\\Whisker_Topview\\\\Expect_1\\\\Mouse21\\\\200207_2\\\\2020-02-07T14.55.41.avi', 'F:\\\\DATA\\\\BehavioralVideos\\\\Whisker_Video\\\\Whisker_Topview\\\\Expect_1\\\\Mouse21\\\\200207_2\\\\2020-02-07T14.55.47.avi', 'F:\\\\DATA\\\\BehavioralVideos\\\\Whisker_Video\\\\Whisker_Topview\\\\Expect_1\\\\Mouse21\\\\200207_2\\\\2020-02-07T14.55.55.avi', 'F:\\\\DATA\\\\BehavioralVideos\\\\Whisker_Video\\\\Whisker_Topview\\\\Expect_1\\\\Mouse21\\\\200207_2\\\\2020-02-07T14.56.13.avi', 'F:\\\\DATA\\\\BehavioralVideos\\\\Whisker_Video\\\\Whisker_Topview\\\\Expect_1\\\\Mouse21\\\\200207_2\\\\2020-02-07T14.56.21.avi', 'F:\\\\DATA\\\\BehavioralVideos\\\\Whisker_Video\\\\Whisker_Topview\\\\Expect_1\\\\Mouse21\\\\200207_2\\\\2020-02-07T14.56.27.avi', 'F:\\\\DATA\\\\BehavioralVideos\\\\Whisker_Video\\\\Whisker_Topview\\\\Expect_1\\\\Mouse21\\\\200207_2\\\\2020-02-07T14.56.34.avi', 'F:\\\\DATA\\\\BehavioralVideos\\\\Whisker_Video\\\\Whisker_Topview\\\\Expect_1\\\\Mouse21\\\\200207_2\\\\2020-02-07T14.56.40.avi', 'F:\\\\DATA\\\\BehavioralVideos\\\\Whisker_Video\\\\Whisker_Topview\\\\Expect_1\\\\Mouse21\\\\200207_2\\\\2020-02-07T14.56.48.avi', 'F:\\\\DATA\\\\BehavioralVideos\\\\Whisker_Video\\\\Whisker_Topview\\\\Expect_1\\\\Mouse21\\\\200207_2\\\\2020-02-07T14.56.59.avi', 'F:\\\\DATA\\\\BehavioralVideos\\\\Whisker_Video\\\\Whisker_Topview\\\\Expect_1\\\\Mouse21\\\\200207_2\\\\2020-02-07T14.57.05.avi', 'F:\\\\DATA\\\\BehavioralVideos\\\\Whisker_Video\\\\Whisker_Topview\\\\Expect_1\\\\Mouse21\\\\200207_2\\\\2020-02-07T14.57.14.avi', 'F:\\\\DATA\\\\BehavioralVideos\\\\Whisker_Video\\\\Whisker_Topview\\\\Expect_1\\\\Mouse21\\\\200207_2\\\\2020-02-07T14.57.20.avi', 'F:\\\\DATA\\\\BehavioralVideos\\\\Whisker_Video\\\\Whisker_Topview\\\\Expect_1\\\\Mouse21\\\\200207_2\\\\2020-02-07T14.57.26.avi', 'F:\\\\DATA\\\\BehavioralVideos\\\\Whisker_Video\\\\Whisker_Topview\\\\Expect_1\\\\Mouse21\\\\200207_2\\\\2020-02-07T14.57.32.avi', 'F:\\\\DATA\\\\BehavioralVideos\\\\Whisker_Video\\\\Whisker_Topview\\\\Expect_1\\\\Mouse21\\\\200207_2\\\\2020-02-07T14.57.37.avi', 'F:\\\\DATA\\\\BehavioralVideos\\\\Whisker_Video\\\\Whisker_Topview\\\\Expect_1\\\\Mouse21\\\\200207_2\\\\2020-02-07T14.57.45.avi', 'F:\\\\DATA\\\\BehavioralVideos\\\\Whisker_Video\\\\Whisker_Topview\\\\Expect_1\\\\Mouse21\\\\200207_2\\\\2020-02-07T14.57.53.avi', 'F:\\\\DATA\\\\BehavioralVideos\\\\Whisker_Video\\\\Whisker_Topview\\\\Expect_1\\\\Mouse21\\\\200207_2\\\\2020-02-07T14.58.00.avi', 'F:\\\\DATA\\\\BehavioralVideos\\\\Whisker_Video\\\\Whisker_Topview\\\\Expect_1\\\\Mouse21\\\\200207_2\\\\2020-02-07T14.58.06.avi', 'F:\\\\DATA\\\\BehavioralVideos\\\\Whisker_Video\\\\Whisker_Topview\\\\Expect_1\\\\Mouse21\\\\200207_2\\\\2020-02-07T14.58.13.avi', 'F:\\\\DATA\\\\BehavioralVideos\\\\Whisker_Video\\\\Whisker_Topview\\\\Expect_1\\\\Mouse21\\\\200207_2\\\\2020-02-07T14.58.27.avi', 'F:\\\\DATA\\\\BehavioralVideos\\\\Whisker_Video\\\\Whisker_Topview\\\\Expect_1\\\\Mouse21\\\\200207_2\\\\2020-02-07T14.58.36.avi', 'F:\\\\DATA\\\\BehavioralVideos\\\\Whisker_Video\\\\Whisker_Topview\\\\Expect_1\\\\Mouse21\\\\200207_2\\\\2020-02-07T14.58.42.avi', 'F:\\\\DATA\\\\BehavioralVideos\\\\Whisker_Video\\\\Whisker_Topview\\\\Expect_1\\\\Mouse21\\\\200207_2\\\\2020-02-07T14.58.50.avi', 'F:\\\\DATA\\\\BehavioralVideos\\\\Whisker_Video\\\\Whisker_Topview\\\\Expect_1\\\\Mouse21\\\\200207_2\\\\2020-02-07T14.59.10.avi', 'F:\\\\DATA\\\\BehavioralVideos\\\\Whisker_Video\\\\Whisker_Topview\\\\Expect_1\\\\Mouse21\\\\200207_2\\\\2020-02-07T14.59.23.avi', 'F:\\\\DATA\\\\BehavioralVideos\\\\Whisker_Video\\\\Whisker_Topview\\\\Expect_1\\\\Mouse21\\\\200207_2\\\\2020-02-07T14.59.30.avi', 'F:\\\\DATA\\\\BehavioralVideos\\\\Whisker_Video\\\\Whisker_Topview\\\\Expect_1\\\\Mouse21\\\\200207_2\\\\2020-02-07T15.00.23.avi', 'F:\\\\DATA\\\\BehavioralVideos\\\\Whisker_Video\\\\Whisker_Topview\\\\Expect_1\\\\Mouse21\\\\200207_2\\\\2020-02-07T15.00.32.avi', 'F:\\\\DATA\\\\BehavioralVideos\\\\Whisker_Video\\\\Whisker_Topview\\\\Expect_1\\\\Mouse21\\\\200207_2\\\\2020-02-07T15.00.39.avi', 'F:\\\\DATA\\\\BehavioralVideos\\\\Whisker_Video\\\\Whisker_Topview\\\\Expect_1\\\\Mouse21\\\\200207_2\\\\2020-02-07T15.00.48.avi', 'F:\\\\DATA\\\\BehavioralVideos\\\\Whisker_Video\\\\Whisker_Topview\\\\Expect_1\\\\Mouse21\\\\200207_2\\\\2020-02-07T15.00.55.avi', 'F:\\\\DATA\\\\BehavioralVideos\\\\Whisker_Video\\\\Whisker_Topview\\\\Expect_1\\\\Mouse21\\\\200207_2\\\\2020-02-07T15.01.01.avi']\n",
      "Repaired 71 files, number of frames possible : between 0 and 38860\n",
      "\n",
      "[35501, 36001]\n"
     ]
    },
    {
     "name": "stderr",
     "output_type": "stream",
     "text": [
      "\n",
      "Writing video at F:\\DATA\\BehavioralVideos\\Whisker_Video\\Whisker_Topview\\Expect_1\\Mouse21\\200207_2\\2020-02-07T15.01.08.avi\n"
     ]
    },
    {
     "name": "stdout",
     "output_type": "stream",
     "text": [
      "about to write a video named 2020-02-07T15.01.08\n",
      "2020-02-07T15.01.08\n",
      "Using default extension (.avi) as none was specified\n",
      "Using default framerate (30 fps) as none was specified\n",
      "Using default codec (MJPG) as none was specified\n"
     ]
    },
    {
     "name": "stderr",
     "output_type": "stream",
     "text": [
      "0% [▓▓▓▓▓▓▓▓▓▓▓▓▓▓▓▓▓▓▓▓▓▓▓▓▓▓▓▓▓▓] 100% | ETA: 00:00:00\n",
      "Total time elapsed: 00:00:13\n"
     ]
    },
    {
     "name": "stdout",
     "output_type": "stream",
     "text": [
      "Video compression at F:\\DATA\\BehavioralVideos\\Whisker_Video\\Whisker_Topview\\Expect_1\\Mouse21\\200207_2\\2020-02-07T15.01.08.avi sucessfull\n",
      "\n",
      "['F:\\\\DATA\\\\BehavioralVideos\\\\Whisker_Video\\\\Whisker_Topview\\\\Expect_1\\\\Mouse21\\\\200207_2\\\\2020-02-07T14.48.51.avi', 'F:\\\\DATA\\\\BehavioralVideos\\\\Whisker_Video\\\\Whisker_Topview\\\\Expect_1\\\\Mouse21\\\\200207_2\\\\2020-02-07T14.48.55.avi', 'F:\\\\DATA\\\\BehavioralVideos\\\\Whisker_Video\\\\Whisker_Topview\\\\Expect_1\\\\Mouse21\\\\200207_2\\\\2020-02-07T14.49.02.avi', 'F:\\\\DATA\\\\BehavioralVideos\\\\Whisker_Video\\\\Whisker_Topview\\\\Expect_1\\\\Mouse21\\\\200207_2\\\\2020-02-07T14.49.15.avi', 'F:\\\\DATA\\\\BehavioralVideos\\\\Whisker_Video\\\\Whisker_Topview\\\\Expect_1\\\\Mouse21\\\\200207_2\\\\2020-02-07T14.49.45.avi', 'F:\\\\DATA\\\\BehavioralVideos\\\\Whisker_Video\\\\Whisker_Topview\\\\Expect_1\\\\Mouse21\\\\200207_2\\\\2020-02-07T14.49.57.avi', 'F:\\\\DATA\\\\BehavioralVideos\\\\Whisker_Video\\\\Whisker_Topview\\\\Expect_1\\\\Mouse21\\\\200207_2\\\\2020-02-07T14.50.04.avi', 'F:\\\\DATA\\\\BehavioralVideos\\\\Whisker_Video\\\\Whisker_Topview\\\\Expect_1\\\\Mouse21\\\\200207_2\\\\2020-02-07T14.50.11.avi', 'F:\\\\DATA\\\\BehavioralVideos\\\\Whisker_Video\\\\Whisker_Topview\\\\Expect_1\\\\Mouse21\\\\200207_2\\\\2020-02-07T14.50.19.avi', 'F:\\\\DATA\\\\BehavioralVideos\\\\Whisker_Video\\\\Whisker_Topview\\\\Expect_1\\\\Mouse21\\\\200207_2\\\\2020-02-07T14.50.27.avi', 'F:\\\\DATA\\\\BehavioralVideos\\\\Whisker_Video\\\\Whisker_Topview\\\\Expect_1\\\\Mouse21\\\\200207_2\\\\2020-02-07T14.50.51.avi', 'F:\\\\DATA\\\\BehavioralVideos\\\\Whisker_Video\\\\Whisker_Topview\\\\Expect_1\\\\Mouse21\\\\200207_2\\\\2020-02-07T14.51.21.avi', 'F:\\\\DATA\\\\BehavioralVideos\\\\Whisker_Video\\\\Whisker_Topview\\\\Expect_1\\\\Mouse21\\\\200207_2\\\\2020-02-07T14.51.29.avi', 'F:\\\\DATA\\\\BehavioralVideos\\\\Whisker_Video\\\\Whisker_Topview\\\\Expect_1\\\\Mouse21\\\\200207_2\\\\2020-02-07T14.51.36.avi', 'F:\\\\DATA\\\\BehavioralVideos\\\\Whisker_Video\\\\Whisker_Topview\\\\Expect_1\\\\Mouse21\\\\200207_2\\\\2020-02-07T14.51.47.avi', 'F:\\\\DATA\\\\BehavioralVideos\\\\Whisker_Video\\\\Whisker_Topview\\\\Expect_1\\\\Mouse21\\\\200207_2\\\\2020-02-07T14.51.55.avi', 'F:\\\\DATA\\\\BehavioralVideos\\\\Whisker_Video\\\\Whisker_Topview\\\\Expect_1\\\\Mouse21\\\\200207_2\\\\2020-02-07T14.52.02.avi', 'F:\\\\DATA\\\\BehavioralVideos\\\\Whisker_Video\\\\Whisker_Topview\\\\Expect_1\\\\Mouse21\\\\200207_2\\\\2020-02-07T14.52.09.avi', 'F:\\\\DATA\\\\BehavioralVideos\\\\Whisker_Video\\\\Whisker_Topview\\\\Expect_1\\\\Mouse21\\\\200207_2\\\\2020-02-07T14.52.16.avi', 'F:\\\\DATA\\\\BehavioralVideos\\\\Whisker_Video\\\\Whisker_Topview\\\\Expect_1\\\\Mouse21\\\\200207_2\\\\2020-02-07T14.52.24.avi', 'F:\\\\DATA\\\\BehavioralVideos\\\\Whisker_Video\\\\Whisker_Topview\\\\Expect_1\\\\Mouse21\\\\200207_2\\\\2020-02-07T14.53.14.avi', 'F:\\\\DATA\\\\BehavioralVideos\\\\Whisker_Video\\\\Whisker_Topview\\\\Expect_1\\\\Mouse21\\\\200207_2\\\\2020-02-07T14.53.26.avi', 'F:\\\\DATA\\\\BehavioralVideos\\\\Whisker_Video\\\\Whisker_Topview\\\\Expect_1\\\\Mouse21\\\\200207_2\\\\2020-02-07T14.53.35.avi', 'F:\\\\DATA\\\\BehavioralVideos\\\\Whisker_Video\\\\Whisker_Topview\\\\Expect_1\\\\Mouse21\\\\200207_2\\\\2020-02-07T14.53.45.avi', 'F:\\\\DATA\\\\BehavioralVideos\\\\Whisker_Video\\\\Whisker_Topview\\\\Expect_1\\\\Mouse21\\\\200207_2\\\\2020-02-07T14.53.53.avi', 'F:\\\\DATA\\\\BehavioralVideos\\\\Whisker_Video\\\\Whisker_Topview\\\\Expect_1\\\\Mouse21\\\\200207_2\\\\2020-02-07T14.54.02.avi', 'F:\\\\DATA\\\\BehavioralVideos\\\\Whisker_Video\\\\Whisker_Topview\\\\Expect_1\\\\Mouse21\\\\200207_2\\\\2020-02-07T14.54.09.avi', 'F:\\\\DATA\\\\BehavioralVideos\\\\Whisker_Video\\\\Whisker_Topview\\\\Expect_1\\\\Mouse21\\\\200207_2\\\\2020-02-07T14.54.18.avi', 'F:\\\\DATA\\\\BehavioralVideos\\\\Whisker_Video\\\\Whisker_Topview\\\\Expect_1\\\\Mouse21\\\\200207_2\\\\2020-02-07T14.54.26.avi', 'F:\\\\DATA\\\\BehavioralVideos\\\\Whisker_Video\\\\Whisker_Topview\\\\Expect_1\\\\Mouse21\\\\200207_2\\\\2020-02-07T14.54.33.avi', 'F:\\\\DATA\\\\BehavioralVideos\\\\Whisker_Video\\\\Whisker_Topview\\\\Expect_1\\\\Mouse21\\\\200207_2\\\\2020-02-07T14.54.39.avi', 'F:\\\\DATA\\\\BehavioralVideos\\\\Whisker_Video\\\\Whisker_Topview\\\\Expect_1\\\\Mouse21\\\\200207_2\\\\2020-02-07T14.54.45.avi', 'F:\\\\DATA\\\\BehavioralVideos\\\\Whisker_Video\\\\Whisker_Topview\\\\Expect_1\\\\Mouse21\\\\200207_2\\\\2020-02-07T14.55.01.avi', 'F:\\\\DATA\\\\BehavioralVideos\\\\Whisker_Video\\\\Whisker_Topview\\\\Expect_1\\\\Mouse21\\\\200207_2\\\\2020-02-07T14.55.11.avi', 'F:\\\\DATA\\\\BehavioralVideos\\\\Whisker_Video\\\\Whisker_Topview\\\\Expect_1\\\\Mouse21\\\\200207_2\\\\2020-02-07T14.55.17.avi', 'F:\\\\DATA\\\\BehavioralVideos\\\\Whisker_Video\\\\Whisker_Topview\\\\Expect_1\\\\Mouse21\\\\200207_2\\\\2020-02-07T14.55.28.avi', 'F:\\\\DATA\\\\BehavioralVideos\\\\Whisker_Video\\\\Whisker_Topview\\\\Expect_1\\\\Mouse21\\\\200207_2\\\\2020-02-07T14.55.34.avi', 'F:\\\\DATA\\\\BehavioralVideos\\\\Whisker_Video\\\\Whisker_Topview\\\\Expect_1\\\\Mouse21\\\\200207_2\\\\2020-02-07T14.55.41.avi', 'F:\\\\DATA\\\\BehavioralVideos\\\\Whisker_Video\\\\Whisker_Topview\\\\Expect_1\\\\Mouse21\\\\200207_2\\\\2020-02-07T14.55.47.avi', 'F:\\\\DATA\\\\BehavioralVideos\\\\Whisker_Video\\\\Whisker_Topview\\\\Expect_1\\\\Mouse21\\\\200207_2\\\\2020-02-07T14.55.55.avi', 'F:\\\\DATA\\\\BehavioralVideos\\\\Whisker_Video\\\\Whisker_Topview\\\\Expect_1\\\\Mouse21\\\\200207_2\\\\2020-02-07T14.56.13.avi', 'F:\\\\DATA\\\\BehavioralVideos\\\\Whisker_Video\\\\Whisker_Topview\\\\Expect_1\\\\Mouse21\\\\200207_2\\\\2020-02-07T14.56.21.avi', 'F:\\\\DATA\\\\BehavioralVideos\\\\Whisker_Video\\\\Whisker_Topview\\\\Expect_1\\\\Mouse21\\\\200207_2\\\\2020-02-07T14.56.27.avi', 'F:\\\\DATA\\\\BehavioralVideos\\\\Whisker_Video\\\\Whisker_Topview\\\\Expect_1\\\\Mouse21\\\\200207_2\\\\2020-02-07T14.56.34.avi', 'F:\\\\DATA\\\\BehavioralVideos\\\\Whisker_Video\\\\Whisker_Topview\\\\Expect_1\\\\Mouse21\\\\200207_2\\\\2020-02-07T14.56.40.avi', 'F:\\\\DATA\\\\BehavioralVideos\\\\Whisker_Video\\\\Whisker_Topview\\\\Expect_1\\\\Mouse21\\\\200207_2\\\\2020-02-07T14.56.48.avi', 'F:\\\\DATA\\\\BehavioralVideos\\\\Whisker_Video\\\\Whisker_Topview\\\\Expect_1\\\\Mouse21\\\\200207_2\\\\2020-02-07T14.56.59.avi', 'F:\\\\DATA\\\\BehavioralVideos\\\\Whisker_Video\\\\Whisker_Topview\\\\Expect_1\\\\Mouse21\\\\200207_2\\\\2020-02-07T14.57.05.avi', 'F:\\\\DATA\\\\BehavioralVideos\\\\Whisker_Video\\\\Whisker_Topview\\\\Expect_1\\\\Mouse21\\\\200207_2\\\\2020-02-07T14.57.14.avi', 'F:\\\\DATA\\\\BehavioralVideos\\\\Whisker_Video\\\\Whisker_Topview\\\\Expect_1\\\\Mouse21\\\\200207_2\\\\2020-02-07T14.57.20.avi', 'F:\\\\DATA\\\\BehavioralVideos\\\\Whisker_Video\\\\Whisker_Topview\\\\Expect_1\\\\Mouse21\\\\200207_2\\\\2020-02-07T14.57.26.avi', 'F:\\\\DATA\\\\BehavioralVideos\\\\Whisker_Video\\\\Whisker_Topview\\\\Expect_1\\\\Mouse21\\\\200207_2\\\\2020-02-07T14.57.32.avi', 'F:\\\\DATA\\\\BehavioralVideos\\\\Whisker_Video\\\\Whisker_Topview\\\\Expect_1\\\\Mouse21\\\\200207_2\\\\2020-02-07T14.57.37.avi', 'F:\\\\DATA\\\\BehavioralVideos\\\\Whisker_Video\\\\Whisker_Topview\\\\Expect_1\\\\Mouse21\\\\200207_2\\\\2020-02-07T14.57.45.avi', 'F:\\\\DATA\\\\BehavioralVideos\\\\Whisker_Video\\\\Whisker_Topview\\\\Expect_1\\\\Mouse21\\\\200207_2\\\\2020-02-07T14.57.53.avi', 'F:\\\\DATA\\\\BehavioralVideos\\\\Whisker_Video\\\\Whisker_Topview\\\\Expect_1\\\\Mouse21\\\\200207_2\\\\2020-02-07T14.58.00.avi', 'F:\\\\DATA\\\\BehavioralVideos\\\\Whisker_Video\\\\Whisker_Topview\\\\Expect_1\\\\Mouse21\\\\200207_2\\\\2020-02-07T14.58.06.avi', 'F:\\\\DATA\\\\BehavioralVideos\\\\Whisker_Video\\\\Whisker_Topview\\\\Expect_1\\\\Mouse21\\\\200207_2\\\\2020-02-07T14.58.13.avi', 'F:\\\\DATA\\\\BehavioralVideos\\\\Whisker_Video\\\\Whisker_Topview\\\\Expect_1\\\\Mouse21\\\\200207_2\\\\2020-02-07T14.58.27.avi', 'F:\\\\DATA\\\\BehavioralVideos\\\\Whisker_Video\\\\Whisker_Topview\\\\Expect_1\\\\Mouse21\\\\200207_2\\\\2020-02-07T14.58.36.avi', 'F:\\\\DATA\\\\BehavioralVideos\\\\Whisker_Video\\\\Whisker_Topview\\\\Expect_1\\\\Mouse21\\\\200207_2\\\\2020-02-07T14.58.42.avi', 'F:\\\\DATA\\\\BehavioralVideos\\\\Whisker_Video\\\\Whisker_Topview\\\\Expect_1\\\\Mouse21\\\\200207_2\\\\2020-02-07T14.58.50.avi', 'F:\\\\DATA\\\\BehavioralVideos\\\\Whisker_Video\\\\Whisker_Topview\\\\Expect_1\\\\Mouse21\\\\200207_2\\\\2020-02-07T14.59.10.avi', 'F:\\\\DATA\\\\BehavioralVideos\\\\Whisker_Video\\\\Whisker_Topview\\\\Expect_1\\\\Mouse21\\\\200207_2\\\\2020-02-07T14.59.23.avi', 'F:\\\\DATA\\\\BehavioralVideos\\\\Whisker_Video\\\\Whisker_Topview\\\\Expect_1\\\\Mouse21\\\\200207_2\\\\2020-02-07T14.59.30.avi', 'F:\\\\DATA\\\\BehavioralVideos\\\\Whisker_Video\\\\Whisker_Topview\\\\Expect_1\\\\Mouse21\\\\200207_2\\\\2020-02-07T15.00.23.avi', 'F:\\\\DATA\\\\BehavioralVideos\\\\Whisker_Video\\\\Whisker_Topview\\\\Expect_1\\\\Mouse21\\\\200207_2\\\\2020-02-07T15.00.32.avi', 'F:\\\\DATA\\\\BehavioralVideos\\\\Whisker_Video\\\\Whisker_Topview\\\\Expect_1\\\\Mouse21\\\\200207_2\\\\2020-02-07T15.00.39.avi', 'F:\\\\DATA\\\\BehavioralVideos\\\\Whisker_Video\\\\Whisker_Topview\\\\Expect_1\\\\Mouse21\\\\200207_2\\\\2020-02-07T15.00.48.avi', 'F:\\\\DATA\\\\BehavioralVideos\\\\Whisker_Video\\\\Whisker_Topview\\\\Expect_1\\\\Mouse21\\\\200207_2\\\\2020-02-07T15.00.55.avi', 'F:\\\\DATA\\\\BehavioralVideos\\\\Whisker_Video\\\\Whisker_Topview\\\\Expect_1\\\\Mouse21\\\\200207_2\\\\2020-02-07T15.01.01.avi', 'F:\\\\DATA\\\\BehavioralVideos\\\\Whisker_Video\\\\Whisker_Topview\\\\Expect_1\\\\Mouse21\\\\200207_2\\\\2020-02-07T15.01.08.avi']\n",
      "Repaired 72 files, number of frames possible : between 0 and 38860\n",
      "\n",
      "[36001, 36501]\n"
     ]
    },
    {
     "name": "stderr",
     "output_type": "stream",
     "text": [
      "\n",
      "Writing video at F:\\DATA\\BehavioralVideos\\Whisker_Video\\Whisker_Topview\\Expect_1\\Mouse21\\200207_2\\2020-02-07T15.01.15.avi\n"
     ]
    },
    {
     "name": "stdout",
     "output_type": "stream",
     "text": [
      "about to write a video named 2020-02-07T15.01.15\n",
      "2020-02-07T15.01.15\n",
      "Using default extension (.avi) as none was specified\n",
      "Using default framerate (30 fps) as none was specified\n",
      "Using default codec (MJPG) as none was specified\n"
     ]
    },
    {
     "name": "stderr",
     "output_type": "stream",
     "text": [
      "0% [▓▓▓▓▓▓▓▓▓▓▓▓▓▓▓▓▓▓▓▓▓▓▓▓▓▓▓▓▓▓] 100% | ETA: 00:00:00\n",
      "Total time elapsed: 00:00:14\n"
     ]
    },
    {
     "name": "stdout",
     "output_type": "stream",
     "text": [
      "Video compression at F:\\DATA\\BehavioralVideos\\Whisker_Video\\Whisker_Topview\\Expect_1\\Mouse21\\200207_2\\2020-02-07T15.01.15.avi sucessfull\n",
      "\n",
      "['F:\\\\DATA\\\\BehavioralVideos\\\\Whisker_Video\\\\Whisker_Topview\\\\Expect_1\\\\Mouse21\\\\200207_2\\\\2020-02-07T14.48.51.avi', 'F:\\\\DATA\\\\BehavioralVideos\\\\Whisker_Video\\\\Whisker_Topview\\\\Expect_1\\\\Mouse21\\\\200207_2\\\\2020-02-07T14.48.55.avi', 'F:\\\\DATA\\\\BehavioralVideos\\\\Whisker_Video\\\\Whisker_Topview\\\\Expect_1\\\\Mouse21\\\\200207_2\\\\2020-02-07T14.49.02.avi', 'F:\\\\DATA\\\\BehavioralVideos\\\\Whisker_Video\\\\Whisker_Topview\\\\Expect_1\\\\Mouse21\\\\200207_2\\\\2020-02-07T14.49.15.avi', 'F:\\\\DATA\\\\BehavioralVideos\\\\Whisker_Video\\\\Whisker_Topview\\\\Expect_1\\\\Mouse21\\\\200207_2\\\\2020-02-07T14.49.45.avi', 'F:\\\\DATA\\\\BehavioralVideos\\\\Whisker_Video\\\\Whisker_Topview\\\\Expect_1\\\\Mouse21\\\\200207_2\\\\2020-02-07T14.49.57.avi', 'F:\\\\DATA\\\\BehavioralVideos\\\\Whisker_Video\\\\Whisker_Topview\\\\Expect_1\\\\Mouse21\\\\200207_2\\\\2020-02-07T14.50.04.avi', 'F:\\\\DATA\\\\BehavioralVideos\\\\Whisker_Video\\\\Whisker_Topview\\\\Expect_1\\\\Mouse21\\\\200207_2\\\\2020-02-07T14.50.11.avi', 'F:\\\\DATA\\\\BehavioralVideos\\\\Whisker_Video\\\\Whisker_Topview\\\\Expect_1\\\\Mouse21\\\\200207_2\\\\2020-02-07T14.50.19.avi', 'F:\\\\DATA\\\\BehavioralVideos\\\\Whisker_Video\\\\Whisker_Topview\\\\Expect_1\\\\Mouse21\\\\200207_2\\\\2020-02-07T14.50.27.avi', 'F:\\\\DATA\\\\BehavioralVideos\\\\Whisker_Video\\\\Whisker_Topview\\\\Expect_1\\\\Mouse21\\\\200207_2\\\\2020-02-07T14.50.51.avi', 'F:\\\\DATA\\\\BehavioralVideos\\\\Whisker_Video\\\\Whisker_Topview\\\\Expect_1\\\\Mouse21\\\\200207_2\\\\2020-02-07T14.51.21.avi', 'F:\\\\DATA\\\\BehavioralVideos\\\\Whisker_Video\\\\Whisker_Topview\\\\Expect_1\\\\Mouse21\\\\200207_2\\\\2020-02-07T14.51.29.avi', 'F:\\\\DATA\\\\BehavioralVideos\\\\Whisker_Video\\\\Whisker_Topview\\\\Expect_1\\\\Mouse21\\\\200207_2\\\\2020-02-07T14.51.36.avi', 'F:\\\\DATA\\\\BehavioralVideos\\\\Whisker_Video\\\\Whisker_Topview\\\\Expect_1\\\\Mouse21\\\\200207_2\\\\2020-02-07T14.51.47.avi', 'F:\\\\DATA\\\\BehavioralVideos\\\\Whisker_Video\\\\Whisker_Topview\\\\Expect_1\\\\Mouse21\\\\200207_2\\\\2020-02-07T14.51.55.avi', 'F:\\\\DATA\\\\BehavioralVideos\\\\Whisker_Video\\\\Whisker_Topview\\\\Expect_1\\\\Mouse21\\\\200207_2\\\\2020-02-07T14.52.02.avi', 'F:\\\\DATA\\\\BehavioralVideos\\\\Whisker_Video\\\\Whisker_Topview\\\\Expect_1\\\\Mouse21\\\\200207_2\\\\2020-02-07T14.52.09.avi', 'F:\\\\DATA\\\\BehavioralVideos\\\\Whisker_Video\\\\Whisker_Topview\\\\Expect_1\\\\Mouse21\\\\200207_2\\\\2020-02-07T14.52.16.avi', 'F:\\\\DATA\\\\BehavioralVideos\\\\Whisker_Video\\\\Whisker_Topview\\\\Expect_1\\\\Mouse21\\\\200207_2\\\\2020-02-07T14.52.24.avi', 'F:\\\\DATA\\\\BehavioralVideos\\\\Whisker_Video\\\\Whisker_Topview\\\\Expect_1\\\\Mouse21\\\\200207_2\\\\2020-02-07T14.53.14.avi', 'F:\\\\DATA\\\\BehavioralVideos\\\\Whisker_Video\\\\Whisker_Topview\\\\Expect_1\\\\Mouse21\\\\200207_2\\\\2020-02-07T14.53.26.avi', 'F:\\\\DATA\\\\BehavioralVideos\\\\Whisker_Video\\\\Whisker_Topview\\\\Expect_1\\\\Mouse21\\\\200207_2\\\\2020-02-07T14.53.35.avi', 'F:\\\\DATA\\\\BehavioralVideos\\\\Whisker_Video\\\\Whisker_Topview\\\\Expect_1\\\\Mouse21\\\\200207_2\\\\2020-02-07T14.53.45.avi', 'F:\\\\DATA\\\\BehavioralVideos\\\\Whisker_Video\\\\Whisker_Topview\\\\Expect_1\\\\Mouse21\\\\200207_2\\\\2020-02-07T14.53.53.avi', 'F:\\\\DATA\\\\BehavioralVideos\\\\Whisker_Video\\\\Whisker_Topview\\\\Expect_1\\\\Mouse21\\\\200207_2\\\\2020-02-07T14.54.02.avi', 'F:\\\\DATA\\\\BehavioralVideos\\\\Whisker_Video\\\\Whisker_Topview\\\\Expect_1\\\\Mouse21\\\\200207_2\\\\2020-02-07T14.54.09.avi', 'F:\\\\DATA\\\\BehavioralVideos\\\\Whisker_Video\\\\Whisker_Topview\\\\Expect_1\\\\Mouse21\\\\200207_2\\\\2020-02-07T14.54.18.avi', 'F:\\\\DATA\\\\BehavioralVideos\\\\Whisker_Video\\\\Whisker_Topview\\\\Expect_1\\\\Mouse21\\\\200207_2\\\\2020-02-07T14.54.26.avi', 'F:\\\\DATA\\\\BehavioralVideos\\\\Whisker_Video\\\\Whisker_Topview\\\\Expect_1\\\\Mouse21\\\\200207_2\\\\2020-02-07T14.54.33.avi', 'F:\\\\DATA\\\\BehavioralVideos\\\\Whisker_Video\\\\Whisker_Topview\\\\Expect_1\\\\Mouse21\\\\200207_2\\\\2020-02-07T14.54.39.avi', 'F:\\\\DATA\\\\BehavioralVideos\\\\Whisker_Video\\\\Whisker_Topview\\\\Expect_1\\\\Mouse21\\\\200207_2\\\\2020-02-07T14.54.45.avi', 'F:\\\\DATA\\\\BehavioralVideos\\\\Whisker_Video\\\\Whisker_Topview\\\\Expect_1\\\\Mouse21\\\\200207_2\\\\2020-02-07T14.55.01.avi', 'F:\\\\DATA\\\\BehavioralVideos\\\\Whisker_Video\\\\Whisker_Topview\\\\Expect_1\\\\Mouse21\\\\200207_2\\\\2020-02-07T14.55.11.avi', 'F:\\\\DATA\\\\BehavioralVideos\\\\Whisker_Video\\\\Whisker_Topview\\\\Expect_1\\\\Mouse21\\\\200207_2\\\\2020-02-07T14.55.17.avi', 'F:\\\\DATA\\\\BehavioralVideos\\\\Whisker_Video\\\\Whisker_Topview\\\\Expect_1\\\\Mouse21\\\\200207_2\\\\2020-02-07T14.55.28.avi', 'F:\\\\DATA\\\\BehavioralVideos\\\\Whisker_Video\\\\Whisker_Topview\\\\Expect_1\\\\Mouse21\\\\200207_2\\\\2020-02-07T14.55.34.avi', 'F:\\\\DATA\\\\BehavioralVideos\\\\Whisker_Video\\\\Whisker_Topview\\\\Expect_1\\\\Mouse21\\\\200207_2\\\\2020-02-07T14.55.41.avi', 'F:\\\\DATA\\\\BehavioralVideos\\\\Whisker_Video\\\\Whisker_Topview\\\\Expect_1\\\\Mouse21\\\\200207_2\\\\2020-02-07T14.55.47.avi', 'F:\\\\DATA\\\\BehavioralVideos\\\\Whisker_Video\\\\Whisker_Topview\\\\Expect_1\\\\Mouse21\\\\200207_2\\\\2020-02-07T14.55.55.avi', 'F:\\\\DATA\\\\BehavioralVideos\\\\Whisker_Video\\\\Whisker_Topview\\\\Expect_1\\\\Mouse21\\\\200207_2\\\\2020-02-07T14.56.13.avi', 'F:\\\\DATA\\\\BehavioralVideos\\\\Whisker_Video\\\\Whisker_Topview\\\\Expect_1\\\\Mouse21\\\\200207_2\\\\2020-02-07T14.56.21.avi', 'F:\\\\DATA\\\\BehavioralVideos\\\\Whisker_Video\\\\Whisker_Topview\\\\Expect_1\\\\Mouse21\\\\200207_2\\\\2020-02-07T14.56.27.avi', 'F:\\\\DATA\\\\BehavioralVideos\\\\Whisker_Video\\\\Whisker_Topview\\\\Expect_1\\\\Mouse21\\\\200207_2\\\\2020-02-07T14.56.34.avi', 'F:\\\\DATA\\\\BehavioralVideos\\\\Whisker_Video\\\\Whisker_Topview\\\\Expect_1\\\\Mouse21\\\\200207_2\\\\2020-02-07T14.56.40.avi', 'F:\\\\DATA\\\\BehavioralVideos\\\\Whisker_Video\\\\Whisker_Topview\\\\Expect_1\\\\Mouse21\\\\200207_2\\\\2020-02-07T14.56.48.avi', 'F:\\\\DATA\\\\BehavioralVideos\\\\Whisker_Video\\\\Whisker_Topview\\\\Expect_1\\\\Mouse21\\\\200207_2\\\\2020-02-07T14.56.59.avi', 'F:\\\\DATA\\\\BehavioralVideos\\\\Whisker_Video\\\\Whisker_Topview\\\\Expect_1\\\\Mouse21\\\\200207_2\\\\2020-02-07T14.57.05.avi', 'F:\\\\DATA\\\\BehavioralVideos\\\\Whisker_Video\\\\Whisker_Topview\\\\Expect_1\\\\Mouse21\\\\200207_2\\\\2020-02-07T14.57.14.avi', 'F:\\\\DATA\\\\BehavioralVideos\\\\Whisker_Video\\\\Whisker_Topview\\\\Expect_1\\\\Mouse21\\\\200207_2\\\\2020-02-07T14.57.20.avi', 'F:\\\\DATA\\\\BehavioralVideos\\\\Whisker_Video\\\\Whisker_Topview\\\\Expect_1\\\\Mouse21\\\\200207_2\\\\2020-02-07T14.57.26.avi', 'F:\\\\DATA\\\\BehavioralVideos\\\\Whisker_Video\\\\Whisker_Topview\\\\Expect_1\\\\Mouse21\\\\200207_2\\\\2020-02-07T14.57.32.avi', 'F:\\\\DATA\\\\BehavioralVideos\\\\Whisker_Video\\\\Whisker_Topview\\\\Expect_1\\\\Mouse21\\\\200207_2\\\\2020-02-07T14.57.37.avi', 'F:\\\\DATA\\\\BehavioralVideos\\\\Whisker_Video\\\\Whisker_Topview\\\\Expect_1\\\\Mouse21\\\\200207_2\\\\2020-02-07T14.57.45.avi', 'F:\\\\DATA\\\\BehavioralVideos\\\\Whisker_Video\\\\Whisker_Topview\\\\Expect_1\\\\Mouse21\\\\200207_2\\\\2020-02-07T14.57.53.avi', 'F:\\\\DATA\\\\BehavioralVideos\\\\Whisker_Video\\\\Whisker_Topview\\\\Expect_1\\\\Mouse21\\\\200207_2\\\\2020-02-07T14.58.00.avi', 'F:\\\\DATA\\\\BehavioralVideos\\\\Whisker_Video\\\\Whisker_Topview\\\\Expect_1\\\\Mouse21\\\\200207_2\\\\2020-02-07T14.58.06.avi', 'F:\\\\DATA\\\\BehavioralVideos\\\\Whisker_Video\\\\Whisker_Topview\\\\Expect_1\\\\Mouse21\\\\200207_2\\\\2020-02-07T14.58.13.avi', 'F:\\\\DATA\\\\BehavioralVideos\\\\Whisker_Video\\\\Whisker_Topview\\\\Expect_1\\\\Mouse21\\\\200207_2\\\\2020-02-07T14.58.27.avi', 'F:\\\\DATA\\\\BehavioralVideos\\\\Whisker_Video\\\\Whisker_Topview\\\\Expect_1\\\\Mouse21\\\\200207_2\\\\2020-02-07T14.58.36.avi', 'F:\\\\DATA\\\\BehavioralVideos\\\\Whisker_Video\\\\Whisker_Topview\\\\Expect_1\\\\Mouse21\\\\200207_2\\\\2020-02-07T14.58.42.avi', 'F:\\\\DATA\\\\BehavioralVideos\\\\Whisker_Video\\\\Whisker_Topview\\\\Expect_1\\\\Mouse21\\\\200207_2\\\\2020-02-07T14.58.50.avi', 'F:\\\\DATA\\\\BehavioralVideos\\\\Whisker_Video\\\\Whisker_Topview\\\\Expect_1\\\\Mouse21\\\\200207_2\\\\2020-02-07T14.59.10.avi', 'F:\\\\DATA\\\\BehavioralVideos\\\\Whisker_Video\\\\Whisker_Topview\\\\Expect_1\\\\Mouse21\\\\200207_2\\\\2020-02-07T14.59.23.avi', 'F:\\\\DATA\\\\BehavioralVideos\\\\Whisker_Video\\\\Whisker_Topview\\\\Expect_1\\\\Mouse21\\\\200207_2\\\\2020-02-07T14.59.30.avi', 'F:\\\\DATA\\\\BehavioralVideos\\\\Whisker_Video\\\\Whisker_Topview\\\\Expect_1\\\\Mouse21\\\\200207_2\\\\2020-02-07T15.00.23.avi', 'F:\\\\DATA\\\\BehavioralVideos\\\\Whisker_Video\\\\Whisker_Topview\\\\Expect_1\\\\Mouse21\\\\200207_2\\\\2020-02-07T15.00.32.avi', 'F:\\\\DATA\\\\BehavioralVideos\\\\Whisker_Video\\\\Whisker_Topview\\\\Expect_1\\\\Mouse21\\\\200207_2\\\\2020-02-07T15.00.39.avi', 'F:\\\\DATA\\\\BehavioralVideos\\\\Whisker_Video\\\\Whisker_Topview\\\\Expect_1\\\\Mouse21\\\\200207_2\\\\2020-02-07T15.00.48.avi', 'F:\\\\DATA\\\\BehavioralVideos\\\\Whisker_Video\\\\Whisker_Topview\\\\Expect_1\\\\Mouse21\\\\200207_2\\\\2020-02-07T15.00.55.avi', 'F:\\\\DATA\\\\BehavioralVideos\\\\Whisker_Video\\\\Whisker_Topview\\\\Expect_1\\\\Mouse21\\\\200207_2\\\\2020-02-07T15.01.01.avi', 'F:\\\\DATA\\\\BehavioralVideos\\\\Whisker_Video\\\\Whisker_Topview\\\\Expect_1\\\\Mouse21\\\\200207_2\\\\2020-02-07T15.01.08.avi', 'F:\\\\DATA\\\\BehavioralVideos\\\\Whisker_Video\\\\Whisker_Topview\\\\Expect_1\\\\Mouse21\\\\200207_2\\\\2020-02-07T15.01.15.avi']\n",
      "Repaired 73 files, number of frames possible : between 0 and 38860\n",
      "\n",
      "[36501, 37001]\n"
     ]
    },
    {
     "name": "stderr",
     "output_type": "stream",
     "text": [
      "\n",
      "Writing video at F:\\DATA\\BehavioralVideos\\Whisker_Video\\Whisker_Topview\\Expect_1\\Mouse21\\200207_2\\2020-02-07T15.01.22.avi\n"
     ]
    },
    {
     "name": "stdout",
     "output_type": "stream",
     "text": [
      "about to write a video named 2020-02-07T15.01.22\n",
      "2020-02-07T15.01.22\n",
      "Using default extension (.avi) as none was specified\n",
      "Using default framerate (30 fps) as none was specified\n",
      "Using default codec (MJPG) as none was specified\n"
     ]
    },
    {
     "name": "stderr",
     "output_type": "stream",
     "text": [
      "0% [▓▓▓▓▓▓▓▓▓▓▓▓▓▓▓▓▓▓▓▓▓▓▓▓▓▓▓▓▓▓] 100% | ETA: 00:00:00\n",
      "Total time elapsed: 00:00:13\n"
     ]
    },
    {
     "name": "stdout",
     "output_type": "stream",
     "text": [
      "Video compression at F:\\DATA\\BehavioralVideos\\Whisker_Video\\Whisker_Topview\\Expect_1\\Mouse21\\200207_2\\2020-02-07T15.01.22.avi sucessfull\n",
      "\n",
      "['F:\\\\DATA\\\\BehavioralVideos\\\\Whisker_Video\\\\Whisker_Topview\\\\Expect_1\\\\Mouse21\\\\200207_2\\\\2020-02-07T14.48.51.avi', 'F:\\\\DATA\\\\BehavioralVideos\\\\Whisker_Video\\\\Whisker_Topview\\\\Expect_1\\\\Mouse21\\\\200207_2\\\\2020-02-07T14.48.55.avi', 'F:\\\\DATA\\\\BehavioralVideos\\\\Whisker_Video\\\\Whisker_Topview\\\\Expect_1\\\\Mouse21\\\\200207_2\\\\2020-02-07T14.49.02.avi', 'F:\\\\DATA\\\\BehavioralVideos\\\\Whisker_Video\\\\Whisker_Topview\\\\Expect_1\\\\Mouse21\\\\200207_2\\\\2020-02-07T14.49.15.avi', 'F:\\\\DATA\\\\BehavioralVideos\\\\Whisker_Video\\\\Whisker_Topview\\\\Expect_1\\\\Mouse21\\\\200207_2\\\\2020-02-07T14.49.45.avi', 'F:\\\\DATA\\\\BehavioralVideos\\\\Whisker_Video\\\\Whisker_Topview\\\\Expect_1\\\\Mouse21\\\\200207_2\\\\2020-02-07T14.49.57.avi', 'F:\\\\DATA\\\\BehavioralVideos\\\\Whisker_Video\\\\Whisker_Topview\\\\Expect_1\\\\Mouse21\\\\200207_2\\\\2020-02-07T14.50.04.avi', 'F:\\\\DATA\\\\BehavioralVideos\\\\Whisker_Video\\\\Whisker_Topview\\\\Expect_1\\\\Mouse21\\\\200207_2\\\\2020-02-07T14.50.11.avi', 'F:\\\\DATA\\\\BehavioralVideos\\\\Whisker_Video\\\\Whisker_Topview\\\\Expect_1\\\\Mouse21\\\\200207_2\\\\2020-02-07T14.50.19.avi', 'F:\\\\DATA\\\\BehavioralVideos\\\\Whisker_Video\\\\Whisker_Topview\\\\Expect_1\\\\Mouse21\\\\200207_2\\\\2020-02-07T14.50.27.avi', 'F:\\\\DATA\\\\BehavioralVideos\\\\Whisker_Video\\\\Whisker_Topview\\\\Expect_1\\\\Mouse21\\\\200207_2\\\\2020-02-07T14.50.51.avi', 'F:\\\\DATA\\\\BehavioralVideos\\\\Whisker_Video\\\\Whisker_Topview\\\\Expect_1\\\\Mouse21\\\\200207_2\\\\2020-02-07T14.51.21.avi', 'F:\\\\DATA\\\\BehavioralVideos\\\\Whisker_Video\\\\Whisker_Topview\\\\Expect_1\\\\Mouse21\\\\200207_2\\\\2020-02-07T14.51.29.avi', 'F:\\\\DATA\\\\BehavioralVideos\\\\Whisker_Video\\\\Whisker_Topview\\\\Expect_1\\\\Mouse21\\\\200207_2\\\\2020-02-07T14.51.36.avi', 'F:\\\\DATA\\\\BehavioralVideos\\\\Whisker_Video\\\\Whisker_Topview\\\\Expect_1\\\\Mouse21\\\\200207_2\\\\2020-02-07T14.51.47.avi', 'F:\\\\DATA\\\\BehavioralVideos\\\\Whisker_Video\\\\Whisker_Topview\\\\Expect_1\\\\Mouse21\\\\200207_2\\\\2020-02-07T14.51.55.avi', 'F:\\\\DATA\\\\BehavioralVideos\\\\Whisker_Video\\\\Whisker_Topview\\\\Expect_1\\\\Mouse21\\\\200207_2\\\\2020-02-07T14.52.02.avi', 'F:\\\\DATA\\\\BehavioralVideos\\\\Whisker_Video\\\\Whisker_Topview\\\\Expect_1\\\\Mouse21\\\\200207_2\\\\2020-02-07T14.52.09.avi', 'F:\\\\DATA\\\\BehavioralVideos\\\\Whisker_Video\\\\Whisker_Topview\\\\Expect_1\\\\Mouse21\\\\200207_2\\\\2020-02-07T14.52.16.avi', 'F:\\\\DATA\\\\BehavioralVideos\\\\Whisker_Video\\\\Whisker_Topview\\\\Expect_1\\\\Mouse21\\\\200207_2\\\\2020-02-07T14.52.24.avi', 'F:\\\\DATA\\\\BehavioralVideos\\\\Whisker_Video\\\\Whisker_Topview\\\\Expect_1\\\\Mouse21\\\\200207_2\\\\2020-02-07T14.53.14.avi', 'F:\\\\DATA\\\\BehavioralVideos\\\\Whisker_Video\\\\Whisker_Topview\\\\Expect_1\\\\Mouse21\\\\200207_2\\\\2020-02-07T14.53.26.avi', 'F:\\\\DATA\\\\BehavioralVideos\\\\Whisker_Video\\\\Whisker_Topview\\\\Expect_1\\\\Mouse21\\\\200207_2\\\\2020-02-07T14.53.35.avi', 'F:\\\\DATA\\\\BehavioralVideos\\\\Whisker_Video\\\\Whisker_Topview\\\\Expect_1\\\\Mouse21\\\\200207_2\\\\2020-02-07T14.53.45.avi', 'F:\\\\DATA\\\\BehavioralVideos\\\\Whisker_Video\\\\Whisker_Topview\\\\Expect_1\\\\Mouse21\\\\200207_2\\\\2020-02-07T14.53.53.avi', 'F:\\\\DATA\\\\BehavioralVideos\\\\Whisker_Video\\\\Whisker_Topview\\\\Expect_1\\\\Mouse21\\\\200207_2\\\\2020-02-07T14.54.02.avi', 'F:\\\\DATA\\\\BehavioralVideos\\\\Whisker_Video\\\\Whisker_Topview\\\\Expect_1\\\\Mouse21\\\\200207_2\\\\2020-02-07T14.54.09.avi', 'F:\\\\DATA\\\\BehavioralVideos\\\\Whisker_Video\\\\Whisker_Topview\\\\Expect_1\\\\Mouse21\\\\200207_2\\\\2020-02-07T14.54.18.avi', 'F:\\\\DATA\\\\BehavioralVideos\\\\Whisker_Video\\\\Whisker_Topview\\\\Expect_1\\\\Mouse21\\\\200207_2\\\\2020-02-07T14.54.26.avi', 'F:\\\\DATA\\\\BehavioralVideos\\\\Whisker_Video\\\\Whisker_Topview\\\\Expect_1\\\\Mouse21\\\\200207_2\\\\2020-02-07T14.54.33.avi', 'F:\\\\DATA\\\\BehavioralVideos\\\\Whisker_Video\\\\Whisker_Topview\\\\Expect_1\\\\Mouse21\\\\200207_2\\\\2020-02-07T14.54.39.avi', 'F:\\\\DATA\\\\BehavioralVideos\\\\Whisker_Video\\\\Whisker_Topview\\\\Expect_1\\\\Mouse21\\\\200207_2\\\\2020-02-07T14.54.45.avi', 'F:\\\\DATA\\\\BehavioralVideos\\\\Whisker_Video\\\\Whisker_Topview\\\\Expect_1\\\\Mouse21\\\\200207_2\\\\2020-02-07T14.55.01.avi', 'F:\\\\DATA\\\\BehavioralVideos\\\\Whisker_Video\\\\Whisker_Topview\\\\Expect_1\\\\Mouse21\\\\200207_2\\\\2020-02-07T14.55.11.avi', 'F:\\\\DATA\\\\BehavioralVideos\\\\Whisker_Video\\\\Whisker_Topview\\\\Expect_1\\\\Mouse21\\\\200207_2\\\\2020-02-07T14.55.17.avi', 'F:\\\\DATA\\\\BehavioralVideos\\\\Whisker_Video\\\\Whisker_Topview\\\\Expect_1\\\\Mouse21\\\\200207_2\\\\2020-02-07T14.55.28.avi', 'F:\\\\DATA\\\\BehavioralVideos\\\\Whisker_Video\\\\Whisker_Topview\\\\Expect_1\\\\Mouse21\\\\200207_2\\\\2020-02-07T14.55.34.avi', 'F:\\\\DATA\\\\BehavioralVideos\\\\Whisker_Video\\\\Whisker_Topview\\\\Expect_1\\\\Mouse21\\\\200207_2\\\\2020-02-07T14.55.41.avi', 'F:\\\\DATA\\\\BehavioralVideos\\\\Whisker_Video\\\\Whisker_Topview\\\\Expect_1\\\\Mouse21\\\\200207_2\\\\2020-02-07T14.55.47.avi', 'F:\\\\DATA\\\\BehavioralVideos\\\\Whisker_Video\\\\Whisker_Topview\\\\Expect_1\\\\Mouse21\\\\200207_2\\\\2020-02-07T14.55.55.avi', 'F:\\\\DATA\\\\BehavioralVideos\\\\Whisker_Video\\\\Whisker_Topview\\\\Expect_1\\\\Mouse21\\\\200207_2\\\\2020-02-07T14.56.13.avi', 'F:\\\\DATA\\\\BehavioralVideos\\\\Whisker_Video\\\\Whisker_Topview\\\\Expect_1\\\\Mouse21\\\\200207_2\\\\2020-02-07T14.56.21.avi', 'F:\\\\DATA\\\\BehavioralVideos\\\\Whisker_Video\\\\Whisker_Topview\\\\Expect_1\\\\Mouse21\\\\200207_2\\\\2020-02-07T14.56.27.avi', 'F:\\\\DATA\\\\BehavioralVideos\\\\Whisker_Video\\\\Whisker_Topview\\\\Expect_1\\\\Mouse21\\\\200207_2\\\\2020-02-07T14.56.34.avi', 'F:\\\\DATA\\\\BehavioralVideos\\\\Whisker_Video\\\\Whisker_Topview\\\\Expect_1\\\\Mouse21\\\\200207_2\\\\2020-02-07T14.56.40.avi', 'F:\\\\DATA\\\\BehavioralVideos\\\\Whisker_Video\\\\Whisker_Topview\\\\Expect_1\\\\Mouse21\\\\200207_2\\\\2020-02-07T14.56.48.avi', 'F:\\\\DATA\\\\BehavioralVideos\\\\Whisker_Video\\\\Whisker_Topview\\\\Expect_1\\\\Mouse21\\\\200207_2\\\\2020-02-07T14.56.59.avi', 'F:\\\\DATA\\\\BehavioralVideos\\\\Whisker_Video\\\\Whisker_Topview\\\\Expect_1\\\\Mouse21\\\\200207_2\\\\2020-02-07T14.57.05.avi', 'F:\\\\DATA\\\\BehavioralVideos\\\\Whisker_Video\\\\Whisker_Topview\\\\Expect_1\\\\Mouse21\\\\200207_2\\\\2020-02-07T14.57.14.avi', 'F:\\\\DATA\\\\BehavioralVideos\\\\Whisker_Video\\\\Whisker_Topview\\\\Expect_1\\\\Mouse21\\\\200207_2\\\\2020-02-07T14.57.20.avi', 'F:\\\\DATA\\\\BehavioralVideos\\\\Whisker_Video\\\\Whisker_Topview\\\\Expect_1\\\\Mouse21\\\\200207_2\\\\2020-02-07T14.57.26.avi', 'F:\\\\DATA\\\\BehavioralVideos\\\\Whisker_Video\\\\Whisker_Topview\\\\Expect_1\\\\Mouse21\\\\200207_2\\\\2020-02-07T14.57.32.avi', 'F:\\\\DATA\\\\BehavioralVideos\\\\Whisker_Video\\\\Whisker_Topview\\\\Expect_1\\\\Mouse21\\\\200207_2\\\\2020-02-07T14.57.37.avi', 'F:\\\\DATA\\\\BehavioralVideos\\\\Whisker_Video\\\\Whisker_Topview\\\\Expect_1\\\\Mouse21\\\\200207_2\\\\2020-02-07T14.57.45.avi', 'F:\\\\DATA\\\\BehavioralVideos\\\\Whisker_Video\\\\Whisker_Topview\\\\Expect_1\\\\Mouse21\\\\200207_2\\\\2020-02-07T14.57.53.avi', 'F:\\\\DATA\\\\BehavioralVideos\\\\Whisker_Video\\\\Whisker_Topview\\\\Expect_1\\\\Mouse21\\\\200207_2\\\\2020-02-07T14.58.00.avi', 'F:\\\\DATA\\\\BehavioralVideos\\\\Whisker_Video\\\\Whisker_Topview\\\\Expect_1\\\\Mouse21\\\\200207_2\\\\2020-02-07T14.58.06.avi', 'F:\\\\DATA\\\\BehavioralVideos\\\\Whisker_Video\\\\Whisker_Topview\\\\Expect_1\\\\Mouse21\\\\200207_2\\\\2020-02-07T14.58.13.avi', 'F:\\\\DATA\\\\BehavioralVideos\\\\Whisker_Video\\\\Whisker_Topview\\\\Expect_1\\\\Mouse21\\\\200207_2\\\\2020-02-07T14.58.27.avi', 'F:\\\\DATA\\\\BehavioralVideos\\\\Whisker_Video\\\\Whisker_Topview\\\\Expect_1\\\\Mouse21\\\\200207_2\\\\2020-02-07T14.58.36.avi', 'F:\\\\DATA\\\\BehavioralVideos\\\\Whisker_Video\\\\Whisker_Topview\\\\Expect_1\\\\Mouse21\\\\200207_2\\\\2020-02-07T14.58.42.avi', 'F:\\\\DATA\\\\BehavioralVideos\\\\Whisker_Video\\\\Whisker_Topview\\\\Expect_1\\\\Mouse21\\\\200207_2\\\\2020-02-07T14.58.50.avi', 'F:\\\\DATA\\\\BehavioralVideos\\\\Whisker_Video\\\\Whisker_Topview\\\\Expect_1\\\\Mouse21\\\\200207_2\\\\2020-02-07T14.59.10.avi', 'F:\\\\DATA\\\\BehavioralVideos\\\\Whisker_Video\\\\Whisker_Topview\\\\Expect_1\\\\Mouse21\\\\200207_2\\\\2020-02-07T14.59.23.avi', 'F:\\\\DATA\\\\BehavioralVideos\\\\Whisker_Video\\\\Whisker_Topview\\\\Expect_1\\\\Mouse21\\\\200207_2\\\\2020-02-07T14.59.30.avi', 'F:\\\\DATA\\\\BehavioralVideos\\\\Whisker_Video\\\\Whisker_Topview\\\\Expect_1\\\\Mouse21\\\\200207_2\\\\2020-02-07T15.00.23.avi', 'F:\\\\DATA\\\\BehavioralVideos\\\\Whisker_Video\\\\Whisker_Topview\\\\Expect_1\\\\Mouse21\\\\200207_2\\\\2020-02-07T15.00.32.avi', 'F:\\\\DATA\\\\BehavioralVideos\\\\Whisker_Video\\\\Whisker_Topview\\\\Expect_1\\\\Mouse21\\\\200207_2\\\\2020-02-07T15.00.39.avi', 'F:\\\\DATA\\\\BehavioralVideos\\\\Whisker_Video\\\\Whisker_Topview\\\\Expect_1\\\\Mouse21\\\\200207_2\\\\2020-02-07T15.00.48.avi', 'F:\\\\DATA\\\\BehavioralVideos\\\\Whisker_Video\\\\Whisker_Topview\\\\Expect_1\\\\Mouse21\\\\200207_2\\\\2020-02-07T15.00.55.avi', 'F:\\\\DATA\\\\BehavioralVideos\\\\Whisker_Video\\\\Whisker_Topview\\\\Expect_1\\\\Mouse21\\\\200207_2\\\\2020-02-07T15.01.01.avi', 'F:\\\\DATA\\\\BehavioralVideos\\\\Whisker_Video\\\\Whisker_Topview\\\\Expect_1\\\\Mouse21\\\\200207_2\\\\2020-02-07T15.01.08.avi', 'F:\\\\DATA\\\\BehavioralVideos\\\\Whisker_Video\\\\Whisker_Topview\\\\Expect_1\\\\Mouse21\\\\200207_2\\\\2020-02-07T15.01.15.avi', 'F:\\\\DATA\\\\BehavioralVideos\\\\Whisker_Video\\\\Whisker_Topview\\\\Expect_1\\\\Mouse21\\\\200207_2\\\\2020-02-07T15.01.22.avi']\n",
      "Repaired 74 files, number of frames possible : between 0 and 38860\n",
      "\n",
      "[37001, 37501]\n"
     ]
    },
    {
     "name": "stderr",
     "output_type": "stream",
     "text": [
      "\n",
      "Writing video at F:\\DATA\\BehavioralVideos\\Whisker_Video\\Whisker_Topview\\Expect_1\\Mouse21\\200207_2\\2020-02-07T15.01.29.avi\n"
     ]
    },
    {
     "name": "stdout",
     "output_type": "stream",
     "text": [
      "about to write a video named 2020-02-07T15.01.29\n",
      "2020-02-07T15.01.29\n",
      "Using default extension (.avi) as none was specified\n",
      "Using default framerate (30 fps) as none was specified\n",
      "Using default codec (MJPG) as none was specified\n"
     ]
    },
    {
     "name": "stderr",
     "output_type": "stream",
     "text": [
      "0% [▓▓▓▓▓▓▓▓▓▓▓▓▓▓▓▓▓▓▓▓▓▓▓▓▓▓▓▓▓▓] 100% | ETA: 00:00:00\n",
      "Total time elapsed: 00:00:13\n"
     ]
    },
    {
     "name": "stdout",
     "output_type": "stream",
     "text": [
      "Video compression at F:\\DATA\\BehavioralVideos\\Whisker_Video\\Whisker_Topview\\Expect_1\\Mouse21\\200207_2\\2020-02-07T15.01.29.avi sucessfull\n",
      "\n",
      "['F:\\\\DATA\\\\BehavioralVideos\\\\Whisker_Video\\\\Whisker_Topview\\\\Expect_1\\\\Mouse21\\\\200207_2\\\\2020-02-07T14.48.51.avi', 'F:\\\\DATA\\\\BehavioralVideos\\\\Whisker_Video\\\\Whisker_Topview\\\\Expect_1\\\\Mouse21\\\\200207_2\\\\2020-02-07T14.48.55.avi', 'F:\\\\DATA\\\\BehavioralVideos\\\\Whisker_Video\\\\Whisker_Topview\\\\Expect_1\\\\Mouse21\\\\200207_2\\\\2020-02-07T14.49.02.avi', 'F:\\\\DATA\\\\BehavioralVideos\\\\Whisker_Video\\\\Whisker_Topview\\\\Expect_1\\\\Mouse21\\\\200207_2\\\\2020-02-07T14.49.15.avi', 'F:\\\\DATA\\\\BehavioralVideos\\\\Whisker_Video\\\\Whisker_Topview\\\\Expect_1\\\\Mouse21\\\\200207_2\\\\2020-02-07T14.49.45.avi', 'F:\\\\DATA\\\\BehavioralVideos\\\\Whisker_Video\\\\Whisker_Topview\\\\Expect_1\\\\Mouse21\\\\200207_2\\\\2020-02-07T14.49.57.avi', 'F:\\\\DATA\\\\BehavioralVideos\\\\Whisker_Video\\\\Whisker_Topview\\\\Expect_1\\\\Mouse21\\\\200207_2\\\\2020-02-07T14.50.04.avi', 'F:\\\\DATA\\\\BehavioralVideos\\\\Whisker_Video\\\\Whisker_Topview\\\\Expect_1\\\\Mouse21\\\\200207_2\\\\2020-02-07T14.50.11.avi', 'F:\\\\DATA\\\\BehavioralVideos\\\\Whisker_Video\\\\Whisker_Topview\\\\Expect_1\\\\Mouse21\\\\200207_2\\\\2020-02-07T14.50.19.avi', 'F:\\\\DATA\\\\BehavioralVideos\\\\Whisker_Video\\\\Whisker_Topview\\\\Expect_1\\\\Mouse21\\\\200207_2\\\\2020-02-07T14.50.27.avi', 'F:\\\\DATA\\\\BehavioralVideos\\\\Whisker_Video\\\\Whisker_Topview\\\\Expect_1\\\\Mouse21\\\\200207_2\\\\2020-02-07T14.50.51.avi', 'F:\\\\DATA\\\\BehavioralVideos\\\\Whisker_Video\\\\Whisker_Topview\\\\Expect_1\\\\Mouse21\\\\200207_2\\\\2020-02-07T14.51.21.avi', 'F:\\\\DATA\\\\BehavioralVideos\\\\Whisker_Video\\\\Whisker_Topview\\\\Expect_1\\\\Mouse21\\\\200207_2\\\\2020-02-07T14.51.29.avi', 'F:\\\\DATA\\\\BehavioralVideos\\\\Whisker_Video\\\\Whisker_Topview\\\\Expect_1\\\\Mouse21\\\\200207_2\\\\2020-02-07T14.51.36.avi', 'F:\\\\DATA\\\\BehavioralVideos\\\\Whisker_Video\\\\Whisker_Topview\\\\Expect_1\\\\Mouse21\\\\200207_2\\\\2020-02-07T14.51.47.avi', 'F:\\\\DATA\\\\BehavioralVideos\\\\Whisker_Video\\\\Whisker_Topview\\\\Expect_1\\\\Mouse21\\\\200207_2\\\\2020-02-07T14.51.55.avi', 'F:\\\\DATA\\\\BehavioralVideos\\\\Whisker_Video\\\\Whisker_Topview\\\\Expect_1\\\\Mouse21\\\\200207_2\\\\2020-02-07T14.52.02.avi', 'F:\\\\DATA\\\\BehavioralVideos\\\\Whisker_Video\\\\Whisker_Topview\\\\Expect_1\\\\Mouse21\\\\200207_2\\\\2020-02-07T14.52.09.avi', 'F:\\\\DATA\\\\BehavioralVideos\\\\Whisker_Video\\\\Whisker_Topview\\\\Expect_1\\\\Mouse21\\\\200207_2\\\\2020-02-07T14.52.16.avi', 'F:\\\\DATA\\\\BehavioralVideos\\\\Whisker_Video\\\\Whisker_Topview\\\\Expect_1\\\\Mouse21\\\\200207_2\\\\2020-02-07T14.52.24.avi', 'F:\\\\DATA\\\\BehavioralVideos\\\\Whisker_Video\\\\Whisker_Topview\\\\Expect_1\\\\Mouse21\\\\200207_2\\\\2020-02-07T14.53.14.avi', 'F:\\\\DATA\\\\BehavioralVideos\\\\Whisker_Video\\\\Whisker_Topview\\\\Expect_1\\\\Mouse21\\\\200207_2\\\\2020-02-07T14.53.26.avi', 'F:\\\\DATA\\\\BehavioralVideos\\\\Whisker_Video\\\\Whisker_Topview\\\\Expect_1\\\\Mouse21\\\\200207_2\\\\2020-02-07T14.53.35.avi', 'F:\\\\DATA\\\\BehavioralVideos\\\\Whisker_Video\\\\Whisker_Topview\\\\Expect_1\\\\Mouse21\\\\200207_2\\\\2020-02-07T14.53.45.avi', 'F:\\\\DATA\\\\BehavioralVideos\\\\Whisker_Video\\\\Whisker_Topview\\\\Expect_1\\\\Mouse21\\\\200207_2\\\\2020-02-07T14.53.53.avi', 'F:\\\\DATA\\\\BehavioralVideos\\\\Whisker_Video\\\\Whisker_Topview\\\\Expect_1\\\\Mouse21\\\\200207_2\\\\2020-02-07T14.54.02.avi', 'F:\\\\DATA\\\\BehavioralVideos\\\\Whisker_Video\\\\Whisker_Topview\\\\Expect_1\\\\Mouse21\\\\200207_2\\\\2020-02-07T14.54.09.avi', 'F:\\\\DATA\\\\BehavioralVideos\\\\Whisker_Video\\\\Whisker_Topview\\\\Expect_1\\\\Mouse21\\\\200207_2\\\\2020-02-07T14.54.18.avi', 'F:\\\\DATA\\\\BehavioralVideos\\\\Whisker_Video\\\\Whisker_Topview\\\\Expect_1\\\\Mouse21\\\\200207_2\\\\2020-02-07T14.54.26.avi', 'F:\\\\DATA\\\\BehavioralVideos\\\\Whisker_Video\\\\Whisker_Topview\\\\Expect_1\\\\Mouse21\\\\200207_2\\\\2020-02-07T14.54.33.avi', 'F:\\\\DATA\\\\BehavioralVideos\\\\Whisker_Video\\\\Whisker_Topview\\\\Expect_1\\\\Mouse21\\\\200207_2\\\\2020-02-07T14.54.39.avi', 'F:\\\\DATA\\\\BehavioralVideos\\\\Whisker_Video\\\\Whisker_Topview\\\\Expect_1\\\\Mouse21\\\\200207_2\\\\2020-02-07T14.54.45.avi', 'F:\\\\DATA\\\\BehavioralVideos\\\\Whisker_Video\\\\Whisker_Topview\\\\Expect_1\\\\Mouse21\\\\200207_2\\\\2020-02-07T14.55.01.avi', 'F:\\\\DATA\\\\BehavioralVideos\\\\Whisker_Video\\\\Whisker_Topview\\\\Expect_1\\\\Mouse21\\\\200207_2\\\\2020-02-07T14.55.11.avi', 'F:\\\\DATA\\\\BehavioralVideos\\\\Whisker_Video\\\\Whisker_Topview\\\\Expect_1\\\\Mouse21\\\\200207_2\\\\2020-02-07T14.55.17.avi', 'F:\\\\DATA\\\\BehavioralVideos\\\\Whisker_Video\\\\Whisker_Topview\\\\Expect_1\\\\Mouse21\\\\200207_2\\\\2020-02-07T14.55.28.avi', 'F:\\\\DATA\\\\BehavioralVideos\\\\Whisker_Video\\\\Whisker_Topview\\\\Expect_1\\\\Mouse21\\\\200207_2\\\\2020-02-07T14.55.34.avi', 'F:\\\\DATA\\\\BehavioralVideos\\\\Whisker_Video\\\\Whisker_Topview\\\\Expect_1\\\\Mouse21\\\\200207_2\\\\2020-02-07T14.55.41.avi', 'F:\\\\DATA\\\\BehavioralVideos\\\\Whisker_Video\\\\Whisker_Topview\\\\Expect_1\\\\Mouse21\\\\200207_2\\\\2020-02-07T14.55.47.avi', 'F:\\\\DATA\\\\BehavioralVideos\\\\Whisker_Video\\\\Whisker_Topview\\\\Expect_1\\\\Mouse21\\\\200207_2\\\\2020-02-07T14.55.55.avi', 'F:\\\\DATA\\\\BehavioralVideos\\\\Whisker_Video\\\\Whisker_Topview\\\\Expect_1\\\\Mouse21\\\\200207_2\\\\2020-02-07T14.56.13.avi', 'F:\\\\DATA\\\\BehavioralVideos\\\\Whisker_Video\\\\Whisker_Topview\\\\Expect_1\\\\Mouse21\\\\200207_2\\\\2020-02-07T14.56.21.avi', 'F:\\\\DATA\\\\BehavioralVideos\\\\Whisker_Video\\\\Whisker_Topview\\\\Expect_1\\\\Mouse21\\\\200207_2\\\\2020-02-07T14.56.27.avi', 'F:\\\\DATA\\\\BehavioralVideos\\\\Whisker_Video\\\\Whisker_Topview\\\\Expect_1\\\\Mouse21\\\\200207_2\\\\2020-02-07T14.56.34.avi', 'F:\\\\DATA\\\\BehavioralVideos\\\\Whisker_Video\\\\Whisker_Topview\\\\Expect_1\\\\Mouse21\\\\200207_2\\\\2020-02-07T14.56.40.avi', 'F:\\\\DATA\\\\BehavioralVideos\\\\Whisker_Video\\\\Whisker_Topview\\\\Expect_1\\\\Mouse21\\\\200207_2\\\\2020-02-07T14.56.48.avi', 'F:\\\\DATA\\\\BehavioralVideos\\\\Whisker_Video\\\\Whisker_Topview\\\\Expect_1\\\\Mouse21\\\\200207_2\\\\2020-02-07T14.56.59.avi', 'F:\\\\DATA\\\\BehavioralVideos\\\\Whisker_Video\\\\Whisker_Topview\\\\Expect_1\\\\Mouse21\\\\200207_2\\\\2020-02-07T14.57.05.avi', 'F:\\\\DATA\\\\BehavioralVideos\\\\Whisker_Video\\\\Whisker_Topview\\\\Expect_1\\\\Mouse21\\\\200207_2\\\\2020-02-07T14.57.14.avi', 'F:\\\\DATA\\\\BehavioralVideos\\\\Whisker_Video\\\\Whisker_Topview\\\\Expect_1\\\\Mouse21\\\\200207_2\\\\2020-02-07T14.57.20.avi', 'F:\\\\DATA\\\\BehavioralVideos\\\\Whisker_Video\\\\Whisker_Topview\\\\Expect_1\\\\Mouse21\\\\200207_2\\\\2020-02-07T14.57.26.avi', 'F:\\\\DATA\\\\BehavioralVideos\\\\Whisker_Video\\\\Whisker_Topview\\\\Expect_1\\\\Mouse21\\\\200207_2\\\\2020-02-07T14.57.32.avi', 'F:\\\\DATA\\\\BehavioralVideos\\\\Whisker_Video\\\\Whisker_Topview\\\\Expect_1\\\\Mouse21\\\\200207_2\\\\2020-02-07T14.57.37.avi', 'F:\\\\DATA\\\\BehavioralVideos\\\\Whisker_Video\\\\Whisker_Topview\\\\Expect_1\\\\Mouse21\\\\200207_2\\\\2020-02-07T14.57.45.avi', 'F:\\\\DATA\\\\BehavioralVideos\\\\Whisker_Video\\\\Whisker_Topview\\\\Expect_1\\\\Mouse21\\\\200207_2\\\\2020-02-07T14.57.53.avi', 'F:\\\\DATA\\\\BehavioralVideos\\\\Whisker_Video\\\\Whisker_Topview\\\\Expect_1\\\\Mouse21\\\\200207_2\\\\2020-02-07T14.58.00.avi', 'F:\\\\DATA\\\\BehavioralVideos\\\\Whisker_Video\\\\Whisker_Topview\\\\Expect_1\\\\Mouse21\\\\200207_2\\\\2020-02-07T14.58.06.avi', 'F:\\\\DATA\\\\BehavioralVideos\\\\Whisker_Video\\\\Whisker_Topview\\\\Expect_1\\\\Mouse21\\\\200207_2\\\\2020-02-07T14.58.13.avi', 'F:\\\\DATA\\\\BehavioralVideos\\\\Whisker_Video\\\\Whisker_Topview\\\\Expect_1\\\\Mouse21\\\\200207_2\\\\2020-02-07T14.58.27.avi', 'F:\\\\DATA\\\\BehavioralVideos\\\\Whisker_Video\\\\Whisker_Topview\\\\Expect_1\\\\Mouse21\\\\200207_2\\\\2020-02-07T14.58.36.avi', 'F:\\\\DATA\\\\BehavioralVideos\\\\Whisker_Video\\\\Whisker_Topview\\\\Expect_1\\\\Mouse21\\\\200207_2\\\\2020-02-07T14.58.42.avi', 'F:\\\\DATA\\\\BehavioralVideos\\\\Whisker_Video\\\\Whisker_Topview\\\\Expect_1\\\\Mouse21\\\\200207_2\\\\2020-02-07T14.58.50.avi', 'F:\\\\DATA\\\\BehavioralVideos\\\\Whisker_Video\\\\Whisker_Topview\\\\Expect_1\\\\Mouse21\\\\200207_2\\\\2020-02-07T14.59.10.avi', 'F:\\\\DATA\\\\BehavioralVideos\\\\Whisker_Video\\\\Whisker_Topview\\\\Expect_1\\\\Mouse21\\\\200207_2\\\\2020-02-07T14.59.23.avi', 'F:\\\\DATA\\\\BehavioralVideos\\\\Whisker_Video\\\\Whisker_Topview\\\\Expect_1\\\\Mouse21\\\\200207_2\\\\2020-02-07T14.59.30.avi', 'F:\\\\DATA\\\\BehavioralVideos\\\\Whisker_Video\\\\Whisker_Topview\\\\Expect_1\\\\Mouse21\\\\200207_2\\\\2020-02-07T15.00.23.avi', 'F:\\\\DATA\\\\BehavioralVideos\\\\Whisker_Video\\\\Whisker_Topview\\\\Expect_1\\\\Mouse21\\\\200207_2\\\\2020-02-07T15.00.32.avi', 'F:\\\\DATA\\\\BehavioralVideos\\\\Whisker_Video\\\\Whisker_Topview\\\\Expect_1\\\\Mouse21\\\\200207_2\\\\2020-02-07T15.00.39.avi', 'F:\\\\DATA\\\\BehavioralVideos\\\\Whisker_Video\\\\Whisker_Topview\\\\Expect_1\\\\Mouse21\\\\200207_2\\\\2020-02-07T15.00.48.avi', 'F:\\\\DATA\\\\BehavioralVideos\\\\Whisker_Video\\\\Whisker_Topview\\\\Expect_1\\\\Mouse21\\\\200207_2\\\\2020-02-07T15.00.55.avi', 'F:\\\\DATA\\\\BehavioralVideos\\\\Whisker_Video\\\\Whisker_Topview\\\\Expect_1\\\\Mouse21\\\\200207_2\\\\2020-02-07T15.01.01.avi', 'F:\\\\DATA\\\\BehavioralVideos\\\\Whisker_Video\\\\Whisker_Topview\\\\Expect_1\\\\Mouse21\\\\200207_2\\\\2020-02-07T15.01.08.avi', 'F:\\\\DATA\\\\BehavioralVideos\\\\Whisker_Video\\\\Whisker_Topview\\\\Expect_1\\\\Mouse21\\\\200207_2\\\\2020-02-07T15.01.15.avi', 'F:\\\\DATA\\\\BehavioralVideos\\\\Whisker_Video\\\\Whisker_Topview\\\\Expect_1\\\\Mouse21\\\\200207_2\\\\2020-02-07T15.01.22.avi', 'F:\\\\DATA\\\\BehavioralVideos\\\\Whisker_Video\\\\Whisker_Topview\\\\Expect_1\\\\Mouse21\\\\200207_2\\\\2020-02-07T15.01.29.avi']\n",
      "Repaired 75 files, number of frames possible : between 0 and 38860\n",
      "\n",
      "[37501, 38001]\n"
     ]
    },
    {
     "name": "stderr",
     "output_type": "stream",
     "text": [
      "\n",
      "Writing video at F:\\DATA\\BehavioralVideos\\Whisker_Video\\Whisker_Topview\\Expect_1\\Mouse21\\200207_2\\2020-02-07T15.01.38.avi\n"
     ]
    },
    {
     "name": "stdout",
     "output_type": "stream",
     "text": [
      "about to write a video named 2020-02-07T15.01.38\n",
      "2020-02-07T15.01.38\n",
      "Using default extension (.avi) as none was specified\n",
      "Using default framerate (30 fps) as none was specified\n",
      "Using default codec (MJPG) as none was specified\n"
     ]
    },
    {
     "name": "stderr",
     "output_type": "stream",
     "text": [
      "0% [▓▓▓▓▓▓▓▓▓▓▓▓▓▓▓▓▓▓▓▓▓▓▓▓▓▓▓▓▓▓] 100% | ETA: 00:00:00\n",
      "Total time elapsed: 00:00:13\n"
     ]
    },
    {
     "name": "stdout",
     "output_type": "stream",
     "text": [
      "Video compression at F:\\DATA\\BehavioralVideos\\Whisker_Video\\Whisker_Topview\\Expect_1\\Mouse21\\200207_2\\2020-02-07T15.01.38.avi sucessfull\n",
      "\n",
      "['F:\\\\DATA\\\\BehavioralVideos\\\\Whisker_Video\\\\Whisker_Topview\\\\Expect_1\\\\Mouse21\\\\200207_2\\\\2020-02-07T14.48.51.avi', 'F:\\\\DATA\\\\BehavioralVideos\\\\Whisker_Video\\\\Whisker_Topview\\\\Expect_1\\\\Mouse21\\\\200207_2\\\\2020-02-07T14.48.55.avi', 'F:\\\\DATA\\\\BehavioralVideos\\\\Whisker_Video\\\\Whisker_Topview\\\\Expect_1\\\\Mouse21\\\\200207_2\\\\2020-02-07T14.49.02.avi', 'F:\\\\DATA\\\\BehavioralVideos\\\\Whisker_Video\\\\Whisker_Topview\\\\Expect_1\\\\Mouse21\\\\200207_2\\\\2020-02-07T14.49.15.avi', 'F:\\\\DATA\\\\BehavioralVideos\\\\Whisker_Video\\\\Whisker_Topview\\\\Expect_1\\\\Mouse21\\\\200207_2\\\\2020-02-07T14.49.45.avi', 'F:\\\\DATA\\\\BehavioralVideos\\\\Whisker_Video\\\\Whisker_Topview\\\\Expect_1\\\\Mouse21\\\\200207_2\\\\2020-02-07T14.49.57.avi', 'F:\\\\DATA\\\\BehavioralVideos\\\\Whisker_Video\\\\Whisker_Topview\\\\Expect_1\\\\Mouse21\\\\200207_2\\\\2020-02-07T14.50.04.avi', 'F:\\\\DATA\\\\BehavioralVideos\\\\Whisker_Video\\\\Whisker_Topview\\\\Expect_1\\\\Mouse21\\\\200207_2\\\\2020-02-07T14.50.11.avi', 'F:\\\\DATA\\\\BehavioralVideos\\\\Whisker_Video\\\\Whisker_Topview\\\\Expect_1\\\\Mouse21\\\\200207_2\\\\2020-02-07T14.50.19.avi', 'F:\\\\DATA\\\\BehavioralVideos\\\\Whisker_Video\\\\Whisker_Topview\\\\Expect_1\\\\Mouse21\\\\200207_2\\\\2020-02-07T14.50.27.avi', 'F:\\\\DATA\\\\BehavioralVideos\\\\Whisker_Video\\\\Whisker_Topview\\\\Expect_1\\\\Mouse21\\\\200207_2\\\\2020-02-07T14.50.51.avi', 'F:\\\\DATA\\\\BehavioralVideos\\\\Whisker_Video\\\\Whisker_Topview\\\\Expect_1\\\\Mouse21\\\\200207_2\\\\2020-02-07T14.51.21.avi', 'F:\\\\DATA\\\\BehavioralVideos\\\\Whisker_Video\\\\Whisker_Topview\\\\Expect_1\\\\Mouse21\\\\200207_2\\\\2020-02-07T14.51.29.avi', 'F:\\\\DATA\\\\BehavioralVideos\\\\Whisker_Video\\\\Whisker_Topview\\\\Expect_1\\\\Mouse21\\\\200207_2\\\\2020-02-07T14.51.36.avi', 'F:\\\\DATA\\\\BehavioralVideos\\\\Whisker_Video\\\\Whisker_Topview\\\\Expect_1\\\\Mouse21\\\\200207_2\\\\2020-02-07T14.51.47.avi', 'F:\\\\DATA\\\\BehavioralVideos\\\\Whisker_Video\\\\Whisker_Topview\\\\Expect_1\\\\Mouse21\\\\200207_2\\\\2020-02-07T14.51.55.avi', 'F:\\\\DATA\\\\BehavioralVideos\\\\Whisker_Video\\\\Whisker_Topview\\\\Expect_1\\\\Mouse21\\\\200207_2\\\\2020-02-07T14.52.02.avi', 'F:\\\\DATA\\\\BehavioralVideos\\\\Whisker_Video\\\\Whisker_Topview\\\\Expect_1\\\\Mouse21\\\\200207_2\\\\2020-02-07T14.52.09.avi', 'F:\\\\DATA\\\\BehavioralVideos\\\\Whisker_Video\\\\Whisker_Topview\\\\Expect_1\\\\Mouse21\\\\200207_2\\\\2020-02-07T14.52.16.avi', 'F:\\\\DATA\\\\BehavioralVideos\\\\Whisker_Video\\\\Whisker_Topview\\\\Expect_1\\\\Mouse21\\\\200207_2\\\\2020-02-07T14.52.24.avi', 'F:\\\\DATA\\\\BehavioralVideos\\\\Whisker_Video\\\\Whisker_Topview\\\\Expect_1\\\\Mouse21\\\\200207_2\\\\2020-02-07T14.53.14.avi', 'F:\\\\DATA\\\\BehavioralVideos\\\\Whisker_Video\\\\Whisker_Topview\\\\Expect_1\\\\Mouse21\\\\200207_2\\\\2020-02-07T14.53.26.avi', 'F:\\\\DATA\\\\BehavioralVideos\\\\Whisker_Video\\\\Whisker_Topview\\\\Expect_1\\\\Mouse21\\\\200207_2\\\\2020-02-07T14.53.35.avi', 'F:\\\\DATA\\\\BehavioralVideos\\\\Whisker_Video\\\\Whisker_Topview\\\\Expect_1\\\\Mouse21\\\\200207_2\\\\2020-02-07T14.53.45.avi', 'F:\\\\DATA\\\\BehavioralVideos\\\\Whisker_Video\\\\Whisker_Topview\\\\Expect_1\\\\Mouse21\\\\200207_2\\\\2020-02-07T14.53.53.avi', 'F:\\\\DATA\\\\BehavioralVideos\\\\Whisker_Video\\\\Whisker_Topview\\\\Expect_1\\\\Mouse21\\\\200207_2\\\\2020-02-07T14.54.02.avi', 'F:\\\\DATA\\\\BehavioralVideos\\\\Whisker_Video\\\\Whisker_Topview\\\\Expect_1\\\\Mouse21\\\\200207_2\\\\2020-02-07T14.54.09.avi', 'F:\\\\DATA\\\\BehavioralVideos\\\\Whisker_Video\\\\Whisker_Topview\\\\Expect_1\\\\Mouse21\\\\200207_2\\\\2020-02-07T14.54.18.avi', 'F:\\\\DATA\\\\BehavioralVideos\\\\Whisker_Video\\\\Whisker_Topview\\\\Expect_1\\\\Mouse21\\\\200207_2\\\\2020-02-07T14.54.26.avi', 'F:\\\\DATA\\\\BehavioralVideos\\\\Whisker_Video\\\\Whisker_Topview\\\\Expect_1\\\\Mouse21\\\\200207_2\\\\2020-02-07T14.54.33.avi', 'F:\\\\DATA\\\\BehavioralVideos\\\\Whisker_Video\\\\Whisker_Topview\\\\Expect_1\\\\Mouse21\\\\200207_2\\\\2020-02-07T14.54.39.avi', 'F:\\\\DATA\\\\BehavioralVideos\\\\Whisker_Video\\\\Whisker_Topview\\\\Expect_1\\\\Mouse21\\\\200207_2\\\\2020-02-07T14.54.45.avi', 'F:\\\\DATA\\\\BehavioralVideos\\\\Whisker_Video\\\\Whisker_Topview\\\\Expect_1\\\\Mouse21\\\\200207_2\\\\2020-02-07T14.55.01.avi', 'F:\\\\DATA\\\\BehavioralVideos\\\\Whisker_Video\\\\Whisker_Topview\\\\Expect_1\\\\Mouse21\\\\200207_2\\\\2020-02-07T14.55.11.avi', 'F:\\\\DATA\\\\BehavioralVideos\\\\Whisker_Video\\\\Whisker_Topview\\\\Expect_1\\\\Mouse21\\\\200207_2\\\\2020-02-07T14.55.17.avi', 'F:\\\\DATA\\\\BehavioralVideos\\\\Whisker_Video\\\\Whisker_Topview\\\\Expect_1\\\\Mouse21\\\\200207_2\\\\2020-02-07T14.55.28.avi', 'F:\\\\DATA\\\\BehavioralVideos\\\\Whisker_Video\\\\Whisker_Topview\\\\Expect_1\\\\Mouse21\\\\200207_2\\\\2020-02-07T14.55.34.avi', 'F:\\\\DATA\\\\BehavioralVideos\\\\Whisker_Video\\\\Whisker_Topview\\\\Expect_1\\\\Mouse21\\\\200207_2\\\\2020-02-07T14.55.41.avi', 'F:\\\\DATA\\\\BehavioralVideos\\\\Whisker_Video\\\\Whisker_Topview\\\\Expect_1\\\\Mouse21\\\\200207_2\\\\2020-02-07T14.55.47.avi', 'F:\\\\DATA\\\\BehavioralVideos\\\\Whisker_Video\\\\Whisker_Topview\\\\Expect_1\\\\Mouse21\\\\200207_2\\\\2020-02-07T14.55.55.avi', 'F:\\\\DATA\\\\BehavioralVideos\\\\Whisker_Video\\\\Whisker_Topview\\\\Expect_1\\\\Mouse21\\\\200207_2\\\\2020-02-07T14.56.13.avi', 'F:\\\\DATA\\\\BehavioralVideos\\\\Whisker_Video\\\\Whisker_Topview\\\\Expect_1\\\\Mouse21\\\\200207_2\\\\2020-02-07T14.56.21.avi', 'F:\\\\DATA\\\\BehavioralVideos\\\\Whisker_Video\\\\Whisker_Topview\\\\Expect_1\\\\Mouse21\\\\200207_2\\\\2020-02-07T14.56.27.avi', 'F:\\\\DATA\\\\BehavioralVideos\\\\Whisker_Video\\\\Whisker_Topview\\\\Expect_1\\\\Mouse21\\\\200207_2\\\\2020-02-07T14.56.34.avi', 'F:\\\\DATA\\\\BehavioralVideos\\\\Whisker_Video\\\\Whisker_Topview\\\\Expect_1\\\\Mouse21\\\\200207_2\\\\2020-02-07T14.56.40.avi', 'F:\\\\DATA\\\\BehavioralVideos\\\\Whisker_Video\\\\Whisker_Topview\\\\Expect_1\\\\Mouse21\\\\200207_2\\\\2020-02-07T14.56.48.avi', 'F:\\\\DATA\\\\BehavioralVideos\\\\Whisker_Video\\\\Whisker_Topview\\\\Expect_1\\\\Mouse21\\\\200207_2\\\\2020-02-07T14.56.59.avi', 'F:\\\\DATA\\\\BehavioralVideos\\\\Whisker_Video\\\\Whisker_Topview\\\\Expect_1\\\\Mouse21\\\\200207_2\\\\2020-02-07T14.57.05.avi', 'F:\\\\DATA\\\\BehavioralVideos\\\\Whisker_Video\\\\Whisker_Topview\\\\Expect_1\\\\Mouse21\\\\200207_2\\\\2020-02-07T14.57.14.avi', 'F:\\\\DATA\\\\BehavioralVideos\\\\Whisker_Video\\\\Whisker_Topview\\\\Expect_1\\\\Mouse21\\\\200207_2\\\\2020-02-07T14.57.20.avi', 'F:\\\\DATA\\\\BehavioralVideos\\\\Whisker_Video\\\\Whisker_Topview\\\\Expect_1\\\\Mouse21\\\\200207_2\\\\2020-02-07T14.57.26.avi', 'F:\\\\DATA\\\\BehavioralVideos\\\\Whisker_Video\\\\Whisker_Topview\\\\Expect_1\\\\Mouse21\\\\200207_2\\\\2020-02-07T14.57.32.avi', 'F:\\\\DATA\\\\BehavioralVideos\\\\Whisker_Video\\\\Whisker_Topview\\\\Expect_1\\\\Mouse21\\\\200207_2\\\\2020-02-07T14.57.37.avi', 'F:\\\\DATA\\\\BehavioralVideos\\\\Whisker_Video\\\\Whisker_Topview\\\\Expect_1\\\\Mouse21\\\\200207_2\\\\2020-02-07T14.57.45.avi', 'F:\\\\DATA\\\\BehavioralVideos\\\\Whisker_Video\\\\Whisker_Topview\\\\Expect_1\\\\Mouse21\\\\200207_2\\\\2020-02-07T14.57.53.avi', 'F:\\\\DATA\\\\BehavioralVideos\\\\Whisker_Video\\\\Whisker_Topview\\\\Expect_1\\\\Mouse21\\\\200207_2\\\\2020-02-07T14.58.00.avi', 'F:\\\\DATA\\\\BehavioralVideos\\\\Whisker_Video\\\\Whisker_Topview\\\\Expect_1\\\\Mouse21\\\\200207_2\\\\2020-02-07T14.58.06.avi', 'F:\\\\DATA\\\\BehavioralVideos\\\\Whisker_Video\\\\Whisker_Topview\\\\Expect_1\\\\Mouse21\\\\200207_2\\\\2020-02-07T14.58.13.avi', 'F:\\\\DATA\\\\BehavioralVideos\\\\Whisker_Video\\\\Whisker_Topview\\\\Expect_1\\\\Mouse21\\\\200207_2\\\\2020-02-07T14.58.27.avi', 'F:\\\\DATA\\\\BehavioralVideos\\\\Whisker_Video\\\\Whisker_Topview\\\\Expect_1\\\\Mouse21\\\\200207_2\\\\2020-02-07T14.58.36.avi', 'F:\\\\DATA\\\\BehavioralVideos\\\\Whisker_Video\\\\Whisker_Topview\\\\Expect_1\\\\Mouse21\\\\200207_2\\\\2020-02-07T14.58.42.avi', 'F:\\\\DATA\\\\BehavioralVideos\\\\Whisker_Video\\\\Whisker_Topview\\\\Expect_1\\\\Mouse21\\\\200207_2\\\\2020-02-07T14.58.50.avi', 'F:\\\\DATA\\\\BehavioralVideos\\\\Whisker_Video\\\\Whisker_Topview\\\\Expect_1\\\\Mouse21\\\\200207_2\\\\2020-02-07T14.59.10.avi', 'F:\\\\DATA\\\\BehavioralVideos\\\\Whisker_Video\\\\Whisker_Topview\\\\Expect_1\\\\Mouse21\\\\200207_2\\\\2020-02-07T14.59.23.avi', 'F:\\\\DATA\\\\BehavioralVideos\\\\Whisker_Video\\\\Whisker_Topview\\\\Expect_1\\\\Mouse21\\\\200207_2\\\\2020-02-07T14.59.30.avi', 'F:\\\\DATA\\\\BehavioralVideos\\\\Whisker_Video\\\\Whisker_Topview\\\\Expect_1\\\\Mouse21\\\\200207_2\\\\2020-02-07T15.00.23.avi', 'F:\\\\DATA\\\\BehavioralVideos\\\\Whisker_Video\\\\Whisker_Topview\\\\Expect_1\\\\Mouse21\\\\200207_2\\\\2020-02-07T15.00.32.avi', 'F:\\\\DATA\\\\BehavioralVideos\\\\Whisker_Video\\\\Whisker_Topview\\\\Expect_1\\\\Mouse21\\\\200207_2\\\\2020-02-07T15.00.39.avi', 'F:\\\\DATA\\\\BehavioralVideos\\\\Whisker_Video\\\\Whisker_Topview\\\\Expect_1\\\\Mouse21\\\\200207_2\\\\2020-02-07T15.00.48.avi', 'F:\\\\DATA\\\\BehavioralVideos\\\\Whisker_Video\\\\Whisker_Topview\\\\Expect_1\\\\Mouse21\\\\200207_2\\\\2020-02-07T15.00.55.avi', 'F:\\\\DATA\\\\BehavioralVideos\\\\Whisker_Video\\\\Whisker_Topview\\\\Expect_1\\\\Mouse21\\\\200207_2\\\\2020-02-07T15.01.01.avi', 'F:\\\\DATA\\\\BehavioralVideos\\\\Whisker_Video\\\\Whisker_Topview\\\\Expect_1\\\\Mouse21\\\\200207_2\\\\2020-02-07T15.01.08.avi', 'F:\\\\DATA\\\\BehavioralVideos\\\\Whisker_Video\\\\Whisker_Topview\\\\Expect_1\\\\Mouse21\\\\200207_2\\\\2020-02-07T15.01.15.avi', 'F:\\\\DATA\\\\BehavioralVideos\\\\Whisker_Video\\\\Whisker_Topview\\\\Expect_1\\\\Mouse21\\\\200207_2\\\\2020-02-07T15.01.22.avi', 'F:\\\\DATA\\\\BehavioralVideos\\\\Whisker_Video\\\\Whisker_Topview\\\\Expect_1\\\\Mouse21\\\\200207_2\\\\2020-02-07T15.01.29.avi', 'F:\\\\DATA\\\\BehavioralVideos\\\\Whisker_Video\\\\Whisker_Topview\\\\Expect_1\\\\Mouse21\\\\200207_2\\\\2020-02-07T15.01.38.avi']\n",
      "Repaired 76 files, number of frames possible : between 0 and 38860\n",
      "\n",
      "[38001, 38501]\n"
     ]
    },
    {
     "name": "stderr",
     "output_type": "stream",
     "text": [
      "\n",
      "Writing video at F:\\DATA\\BehavioralVideos\\Whisker_Video\\Whisker_Topview\\Expect_1\\Mouse21\\200207_2\\2020-02-07T15.01.44.avi\n"
     ]
    },
    {
     "name": "stdout",
     "output_type": "stream",
     "text": [
      "about to write a video named 2020-02-07T15.01.44\n",
      "2020-02-07T15.01.44\n",
      "Using default extension (.avi) as none was specified\n",
      "Using default framerate (30 fps) as none was specified\n",
      "Using default codec (MJPG) as none was specified\n"
     ]
    },
    {
     "name": "stderr",
     "output_type": "stream",
     "text": [
      "0% [▓▓▓▓▓▓▓▓▓▓▓▓▓▓▓▓▓▓▓▓▓▓▓▓▓▓▓▓▓▓] 100% | ETA: 00:00:00\n",
      "Total time elapsed: 00:00:14\n"
     ]
    },
    {
     "name": "stdout",
     "output_type": "stream",
     "text": [
      "Video compression at F:\\DATA\\BehavioralVideos\\Whisker_Video\\Whisker_Topview\\Expect_1\\Mouse21\\200207_2\\2020-02-07T15.01.44.avi sucessfull\n",
      "\n",
      "['F:\\\\DATA\\\\BehavioralVideos\\\\Whisker_Video\\\\Whisker_Topview\\\\Expect_1\\\\Mouse21\\\\200207_2\\\\2020-02-07T14.48.51.avi', 'F:\\\\DATA\\\\BehavioralVideos\\\\Whisker_Video\\\\Whisker_Topview\\\\Expect_1\\\\Mouse21\\\\200207_2\\\\2020-02-07T14.48.55.avi', 'F:\\\\DATA\\\\BehavioralVideos\\\\Whisker_Video\\\\Whisker_Topview\\\\Expect_1\\\\Mouse21\\\\200207_2\\\\2020-02-07T14.49.02.avi', 'F:\\\\DATA\\\\BehavioralVideos\\\\Whisker_Video\\\\Whisker_Topview\\\\Expect_1\\\\Mouse21\\\\200207_2\\\\2020-02-07T14.49.15.avi', 'F:\\\\DATA\\\\BehavioralVideos\\\\Whisker_Video\\\\Whisker_Topview\\\\Expect_1\\\\Mouse21\\\\200207_2\\\\2020-02-07T14.49.45.avi', 'F:\\\\DATA\\\\BehavioralVideos\\\\Whisker_Video\\\\Whisker_Topview\\\\Expect_1\\\\Mouse21\\\\200207_2\\\\2020-02-07T14.49.57.avi', 'F:\\\\DATA\\\\BehavioralVideos\\\\Whisker_Video\\\\Whisker_Topview\\\\Expect_1\\\\Mouse21\\\\200207_2\\\\2020-02-07T14.50.04.avi', 'F:\\\\DATA\\\\BehavioralVideos\\\\Whisker_Video\\\\Whisker_Topview\\\\Expect_1\\\\Mouse21\\\\200207_2\\\\2020-02-07T14.50.11.avi', 'F:\\\\DATA\\\\BehavioralVideos\\\\Whisker_Video\\\\Whisker_Topview\\\\Expect_1\\\\Mouse21\\\\200207_2\\\\2020-02-07T14.50.19.avi', 'F:\\\\DATA\\\\BehavioralVideos\\\\Whisker_Video\\\\Whisker_Topview\\\\Expect_1\\\\Mouse21\\\\200207_2\\\\2020-02-07T14.50.27.avi', 'F:\\\\DATA\\\\BehavioralVideos\\\\Whisker_Video\\\\Whisker_Topview\\\\Expect_1\\\\Mouse21\\\\200207_2\\\\2020-02-07T14.50.51.avi', 'F:\\\\DATA\\\\BehavioralVideos\\\\Whisker_Video\\\\Whisker_Topview\\\\Expect_1\\\\Mouse21\\\\200207_2\\\\2020-02-07T14.51.21.avi', 'F:\\\\DATA\\\\BehavioralVideos\\\\Whisker_Video\\\\Whisker_Topview\\\\Expect_1\\\\Mouse21\\\\200207_2\\\\2020-02-07T14.51.29.avi', 'F:\\\\DATA\\\\BehavioralVideos\\\\Whisker_Video\\\\Whisker_Topview\\\\Expect_1\\\\Mouse21\\\\200207_2\\\\2020-02-07T14.51.36.avi', 'F:\\\\DATA\\\\BehavioralVideos\\\\Whisker_Video\\\\Whisker_Topview\\\\Expect_1\\\\Mouse21\\\\200207_2\\\\2020-02-07T14.51.47.avi', 'F:\\\\DATA\\\\BehavioralVideos\\\\Whisker_Video\\\\Whisker_Topview\\\\Expect_1\\\\Mouse21\\\\200207_2\\\\2020-02-07T14.51.55.avi', 'F:\\\\DATA\\\\BehavioralVideos\\\\Whisker_Video\\\\Whisker_Topview\\\\Expect_1\\\\Mouse21\\\\200207_2\\\\2020-02-07T14.52.02.avi', 'F:\\\\DATA\\\\BehavioralVideos\\\\Whisker_Video\\\\Whisker_Topview\\\\Expect_1\\\\Mouse21\\\\200207_2\\\\2020-02-07T14.52.09.avi', 'F:\\\\DATA\\\\BehavioralVideos\\\\Whisker_Video\\\\Whisker_Topview\\\\Expect_1\\\\Mouse21\\\\200207_2\\\\2020-02-07T14.52.16.avi', 'F:\\\\DATA\\\\BehavioralVideos\\\\Whisker_Video\\\\Whisker_Topview\\\\Expect_1\\\\Mouse21\\\\200207_2\\\\2020-02-07T14.52.24.avi', 'F:\\\\DATA\\\\BehavioralVideos\\\\Whisker_Video\\\\Whisker_Topview\\\\Expect_1\\\\Mouse21\\\\200207_2\\\\2020-02-07T14.53.14.avi', 'F:\\\\DATA\\\\BehavioralVideos\\\\Whisker_Video\\\\Whisker_Topview\\\\Expect_1\\\\Mouse21\\\\200207_2\\\\2020-02-07T14.53.26.avi', 'F:\\\\DATA\\\\BehavioralVideos\\\\Whisker_Video\\\\Whisker_Topview\\\\Expect_1\\\\Mouse21\\\\200207_2\\\\2020-02-07T14.53.35.avi', 'F:\\\\DATA\\\\BehavioralVideos\\\\Whisker_Video\\\\Whisker_Topview\\\\Expect_1\\\\Mouse21\\\\200207_2\\\\2020-02-07T14.53.45.avi', 'F:\\\\DATA\\\\BehavioralVideos\\\\Whisker_Video\\\\Whisker_Topview\\\\Expect_1\\\\Mouse21\\\\200207_2\\\\2020-02-07T14.53.53.avi', 'F:\\\\DATA\\\\BehavioralVideos\\\\Whisker_Video\\\\Whisker_Topview\\\\Expect_1\\\\Mouse21\\\\200207_2\\\\2020-02-07T14.54.02.avi', 'F:\\\\DATA\\\\BehavioralVideos\\\\Whisker_Video\\\\Whisker_Topview\\\\Expect_1\\\\Mouse21\\\\200207_2\\\\2020-02-07T14.54.09.avi', 'F:\\\\DATA\\\\BehavioralVideos\\\\Whisker_Video\\\\Whisker_Topview\\\\Expect_1\\\\Mouse21\\\\200207_2\\\\2020-02-07T14.54.18.avi', 'F:\\\\DATA\\\\BehavioralVideos\\\\Whisker_Video\\\\Whisker_Topview\\\\Expect_1\\\\Mouse21\\\\200207_2\\\\2020-02-07T14.54.26.avi', 'F:\\\\DATA\\\\BehavioralVideos\\\\Whisker_Video\\\\Whisker_Topview\\\\Expect_1\\\\Mouse21\\\\200207_2\\\\2020-02-07T14.54.33.avi', 'F:\\\\DATA\\\\BehavioralVideos\\\\Whisker_Video\\\\Whisker_Topview\\\\Expect_1\\\\Mouse21\\\\200207_2\\\\2020-02-07T14.54.39.avi', 'F:\\\\DATA\\\\BehavioralVideos\\\\Whisker_Video\\\\Whisker_Topview\\\\Expect_1\\\\Mouse21\\\\200207_2\\\\2020-02-07T14.54.45.avi', 'F:\\\\DATA\\\\BehavioralVideos\\\\Whisker_Video\\\\Whisker_Topview\\\\Expect_1\\\\Mouse21\\\\200207_2\\\\2020-02-07T14.55.01.avi', 'F:\\\\DATA\\\\BehavioralVideos\\\\Whisker_Video\\\\Whisker_Topview\\\\Expect_1\\\\Mouse21\\\\200207_2\\\\2020-02-07T14.55.11.avi', 'F:\\\\DATA\\\\BehavioralVideos\\\\Whisker_Video\\\\Whisker_Topview\\\\Expect_1\\\\Mouse21\\\\200207_2\\\\2020-02-07T14.55.17.avi', 'F:\\\\DATA\\\\BehavioralVideos\\\\Whisker_Video\\\\Whisker_Topview\\\\Expect_1\\\\Mouse21\\\\200207_2\\\\2020-02-07T14.55.28.avi', 'F:\\\\DATA\\\\BehavioralVideos\\\\Whisker_Video\\\\Whisker_Topview\\\\Expect_1\\\\Mouse21\\\\200207_2\\\\2020-02-07T14.55.34.avi', 'F:\\\\DATA\\\\BehavioralVideos\\\\Whisker_Video\\\\Whisker_Topview\\\\Expect_1\\\\Mouse21\\\\200207_2\\\\2020-02-07T14.55.41.avi', 'F:\\\\DATA\\\\BehavioralVideos\\\\Whisker_Video\\\\Whisker_Topview\\\\Expect_1\\\\Mouse21\\\\200207_2\\\\2020-02-07T14.55.47.avi', 'F:\\\\DATA\\\\BehavioralVideos\\\\Whisker_Video\\\\Whisker_Topview\\\\Expect_1\\\\Mouse21\\\\200207_2\\\\2020-02-07T14.55.55.avi', 'F:\\\\DATA\\\\BehavioralVideos\\\\Whisker_Video\\\\Whisker_Topview\\\\Expect_1\\\\Mouse21\\\\200207_2\\\\2020-02-07T14.56.13.avi', 'F:\\\\DATA\\\\BehavioralVideos\\\\Whisker_Video\\\\Whisker_Topview\\\\Expect_1\\\\Mouse21\\\\200207_2\\\\2020-02-07T14.56.21.avi', 'F:\\\\DATA\\\\BehavioralVideos\\\\Whisker_Video\\\\Whisker_Topview\\\\Expect_1\\\\Mouse21\\\\200207_2\\\\2020-02-07T14.56.27.avi', 'F:\\\\DATA\\\\BehavioralVideos\\\\Whisker_Video\\\\Whisker_Topview\\\\Expect_1\\\\Mouse21\\\\200207_2\\\\2020-02-07T14.56.34.avi', 'F:\\\\DATA\\\\BehavioralVideos\\\\Whisker_Video\\\\Whisker_Topview\\\\Expect_1\\\\Mouse21\\\\200207_2\\\\2020-02-07T14.56.40.avi', 'F:\\\\DATA\\\\BehavioralVideos\\\\Whisker_Video\\\\Whisker_Topview\\\\Expect_1\\\\Mouse21\\\\200207_2\\\\2020-02-07T14.56.48.avi', 'F:\\\\DATA\\\\BehavioralVideos\\\\Whisker_Video\\\\Whisker_Topview\\\\Expect_1\\\\Mouse21\\\\200207_2\\\\2020-02-07T14.56.59.avi', 'F:\\\\DATA\\\\BehavioralVideos\\\\Whisker_Video\\\\Whisker_Topview\\\\Expect_1\\\\Mouse21\\\\200207_2\\\\2020-02-07T14.57.05.avi', 'F:\\\\DATA\\\\BehavioralVideos\\\\Whisker_Video\\\\Whisker_Topview\\\\Expect_1\\\\Mouse21\\\\200207_2\\\\2020-02-07T14.57.14.avi', 'F:\\\\DATA\\\\BehavioralVideos\\\\Whisker_Video\\\\Whisker_Topview\\\\Expect_1\\\\Mouse21\\\\200207_2\\\\2020-02-07T14.57.20.avi', 'F:\\\\DATA\\\\BehavioralVideos\\\\Whisker_Video\\\\Whisker_Topview\\\\Expect_1\\\\Mouse21\\\\200207_2\\\\2020-02-07T14.57.26.avi', 'F:\\\\DATA\\\\BehavioralVideos\\\\Whisker_Video\\\\Whisker_Topview\\\\Expect_1\\\\Mouse21\\\\200207_2\\\\2020-02-07T14.57.32.avi', 'F:\\\\DATA\\\\BehavioralVideos\\\\Whisker_Video\\\\Whisker_Topview\\\\Expect_1\\\\Mouse21\\\\200207_2\\\\2020-02-07T14.57.37.avi', 'F:\\\\DATA\\\\BehavioralVideos\\\\Whisker_Video\\\\Whisker_Topview\\\\Expect_1\\\\Mouse21\\\\200207_2\\\\2020-02-07T14.57.45.avi', 'F:\\\\DATA\\\\BehavioralVideos\\\\Whisker_Video\\\\Whisker_Topview\\\\Expect_1\\\\Mouse21\\\\200207_2\\\\2020-02-07T14.57.53.avi', 'F:\\\\DATA\\\\BehavioralVideos\\\\Whisker_Video\\\\Whisker_Topview\\\\Expect_1\\\\Mouse21\\\\200207_2\\\\2020-02-07T14.58.00.avi', 'F:\\\\DATA\\\\BehavioralVideos\\\\Whisker_Video\\\\Whisker_Topview\\\\Expect_1\\\\Mouse21\\\\200207_2\\\\2020-02-07T14.58.06.avi', 'F:\\\\DATA\\\\BehavioralVideos\\\\Whisker_Video\\\\Whisker_Topview\\\\Expect_1\\\\Mouse21\\\\200207_2\\\\2020-02-07T14.58.13.avi', 'F:\\\\DATA\\\\BehavioralVideos\\\\Whisker_Video\\\\Whisker_Topview\\\\Expect_1\\\\Mouse21\\\\200207_2\\\\2020-02-07T14.58.27.avi', 'F:\\\\DATA\\\\BehavioralVideos\\\\Whisker_Video\\\\Whisker_Topview\\\\Expect_1\\\\Mouse21\\\\200207_2\\\\2020-02-07T14.58.36.avi', 'F:\\\\DATA\\\\BehavioralVideos\\\\Whisker_Video\\\\Whisker_Topview\\\\Expect_1\\\\Mouse21\\\\200207_2\\\\2020-02-07T14.58.42.avi', 'F:\\\\DATA\\\\BehavioralVideos\\\\Whisker_Video\\\\Whisker_Topview\\\\Expect_1\\\\Mouse21\\\\200207_2\\\\2020-02-07T14.58.50.avi', 'F:\\\\DATA\\\\BehavioralVideos\\\\Whisker_Video\\\\Whisker_Topview\\\\Expect_1\\\\Mouse21\\\\200207_2\\\\2020-02-07T14.59.10.avi', 'F:\\\\DATA\\\\BehavioralVideos\\\\Whisker_Video\\\\Whisker_Topview\\\\Expect_1\\\\Mouse21\\\\200207_2\\\\2020-02-07T14.59.23.avi', 'F:\\\\DATA\\\\BehavioralVideos\\\\Whisker_Video\\\\Whisker_Topview\\\\Expect_1\\\\Mouse21\\\\200207_2\\\\2020-02-07T14.59.30.avi', 'F:\\\\DATA\\\\BehavioralVideos\\\\Whisker_Video\\\\Whisker_Topview\\\\Expect_1\\\\Mouse21\\\\200207_2\\\\2020-02-07T15.00.23.avi', 'F:\\\\DATA\\\\BehavioralVideos\\\\Whisker_Video\\\\Whisker_Topview\\\\Expect_1\\\\Mouse21\\\\200207_2\\\\2020-02-07T15.00.32.avi', 'F:\\\\DATA\\\\BehavioralVideos\\\\Whisker_Video\\\\Whisker_Topview\\\\Expect_1\\\\Mouse21\\\\200207_2\\\\2020-02-07T15.00.39.avi', 'F:\\\\DATA\\\\BehavioralVideos\\\\Whisker_Video\\\\Whisker_Topview\\\\Expect_1\\\\Mouse21\\\\200207_2\\\\2020-02-07T15.00.48.avi', 'F:\\\\DATA\\\\BehavioralVideos\\\\Whisker_Video\\\\Whisker_Topview\\\\Expect_1\\\\Mouse21\\\\200207_2\\\\2020-02-07T15.00.55.avi', 'F:\\\\DATA\\\\BehavioralVideos\\\\Whisker_Video\\\\Whisker_Topview\\\\Expect_1\\\\Mouse21\\\\200207_2\\\\2020-02-07T15.01.01.avi', 'F:\\\\DATA\\\\BehavioralVideos\\\\Whisker_Video\\\\Whisker_Topview\\\\Expect_1\\\\Mouse21\\\\200207_2\\\\2020-02-07T15.01.08.avi', 'F:\\\\DATA\\\\BehavioralVideos\\\\Whisker_Video\\\\Whisker_Topview\\\\Expect_1\\\\Mouse21\\\\200207_2\\\\2020-02-07T15.01.15.avi', 'F:\\\\DATA\\\\BehavioralVideos\\\\Whisker_Video\\\\Whisker_Topview\\\\Expect_1\\\\Mouse21\\\\200207_2\\\\2020-02-07T15.01.22.avi', 'F:\\\\DATA\\\\BehavioralVideos\\\\Whisker_Video\\\\Whisker_Topview\\\\Expect_1\\\\Mouse21\\\\200207_2\\\\2020-02-07T15.01.29.avi', 'F:\\\\DATA\\\\BehavioralVideos\\\\Whisker_Video\\\\Whisker_Topview\\\\Expect_1\\\\Mouse21\\\\200207_2\\\\2020-02-07T15.01.38.avi', 'F:\\\\DATA\\\\BehavioralVideos\\\\Whisker_Video\\\\Whisker_Topview\\\\Expect_1\\\\Mouse21\\\\200207_2\\\\2020-02-07T15.01.44.avi']\n",
      "Repaired 77 files, number of frames possible : between 0 and 38860\n",
      "\n",
      "[38501, 39001]\n"
     ]
    },
    {
     "name": "stderr",
     "output_type": "stream",
     "text": [
      "\n",
      "Writing video at F:\\DATA\\BehavioralVideos\\Whisker_Video\\Whisker_Topview\\Expect_1\\Mouse21\\200207_2\\2020-02-07T15.01.50.avi\n"
     ]
    },
    {
     "name": "stdout",
     "output_type": "stream",
     "text": [
      "about to write a video named 2020-02-07T15.01.50\n",
      "2020-02-07T15.01.50\n",
      "Using default extension (.avi) as none was specified\n",
      "Using default framerate (30 fps) as none was specified\n",
      "Using default codec (MJPG) as none was specified\n"
     ]
    },
    {
     "name": "stderr",
     "output_type": "stream",
     "text": [
      "0% [▓▓▓▓▓▓▓▓▓▓▓▓▓▓▓▓▓▓▓▓▓▓▓▓▓▓▓▓▓▓] 100% | ETA: 00:00:00\n",
      "Total time elapsed: 00:00:14\n",
      "C:\\ProgramData\\Anaconda3\\envs\\ArduinoComs\\lib\\site-packages\\numpy\\core\\fromnumeric.py:2920: RuntimeWarning: Mean of empty slice.\n",
      "  out=out, **kwargs)\n",
      "C:\\ProgramData\\Anaconda3\\envs\\ArduinoComs\\lib\\site-packages\\numpy\\core\\_methods.py:85: RuntimeWarning: invalid value encountered in double_scalars\n",
      "  ret = ret.dtype.type(ret / rcount)\n"
     ]
    },
    {
     "name": "stdout",
     "output_type": "stream",
     "text": [
      "Video compression at F:\\DATA\\BehavioralVideos\\Whisker_Video\\Whisker_Topview\\Expect_1\\Mouse21\\200207_2\\2020-02-07T15.01.50.avi sucessfull\n",
      "\n",
      "['F:\\\\DATA\\\\BehavioralVideos\\\\Whisker_Video\\\\Whisker_Topview\\\\Expect_1\\\\Mouse21\\\\200207_2\\\\2020-02-07T14.48.51.avi', 'F:\\\\DATA\\\\BehavioralVideos\\\\Whisker_Video\\\\Whisker_Topview\\\\Expect_1\\\\Mouse21\\\\200207_2\\\\2020-02-07T14.48.55.avi', 'F:\\\\DATA\\\\BehavioralVideos\\\\Whisker_Video\\\\Whisker_Topview\\\\Expect_1\\\\Mouse21\\\\200207_2\\\\2020-02-07T14.49.02.avi', 'F:\\\\DATA\\\\BehavioralVideos\\\\Whisker_Video\\\\Whisker_Topview\\\\Expect_1\\\\Mouse21\\\\200207_2\\\\2020-02-07T14.49.15.avi', 'F:\\\\DATA\\\\BehavioralVideos\\\\Whisker_Video\\\\Whisker_Topview\\\\Expect_1\\\\Mouse21\\\\200207_2\\\\2020-02-07T14.49.45.avi', 'F:\\\\DATA\\\\BehavioralVideos\\\\Whisker_Video\\\\Whisker_Topview\\\\Expect_1\\\\Mouse21\\\\200207_2\\\\2020-02-07T14.49.57.avi', 'F:\\\\DATA\\\\BehavioralVideos\\\\Whisker_Video\\\\Whisker_Topview\\\\Expect_1\\\\Mouse21\\\\200207_2\\\\2020-02-07T14.50.04.avi', 'F:\\\\DATA\\\\BehavioralVideos\\\\Whisker_Video\\\\Whisker_Topview\\\\Expect_1\\\\Mouse21\\\\200207_2\\\\2020-02-07T14.50.11.avi', 'F:\\\\DATA\\\\BehavioralVideos\\\\Whisker_Video\\\\Whisker_Topview\\\\Expect_1\\\\Mouse21\\\\200207_2\\\\2020-02-07T14.50.19.avi', 'F:\\\\DATA\\\\BehavioralVideos\\\\Whisker_Video\\\\Whisker_Topview\\\\Expect_1\\\\Mouse21\\\\200207_2\\\\2020-02-07T14.50.27.avi', 'F:\\\\DATA\\\\BehavioralVideos\\\\Whisker_Video\\\\Whisker_Topview\\\\Expect_1\\\\Mouse21\\\\200207_2\\\\2020-02-07T14.50.51.avi', 'F:\\\\DATA\\\\BehavioralVideos\\\\Whisker_Video\\\\Whisker_Topview\\\\Expect_1\\\\Mouse21\\\\200207_2\\\\2020-02-07T14.51.21.avi', 'F:\\\\DATA\\\\BehavioralVideos\\\\Whisker_Video\\\\Whisker_Topview\\\\Expect_1\\\\Mouse21\\\\200207_2\\\\2020-02-07T14.51.29.avi', 'F:\\\\DATA\\\\BehavioralVideos\\\\Whisker_Video\\\\Whisker_Topview\\\\Expect_1\\\\Mouse21\\\\200207_2\\\\2020-02-07T14.51.36.avi', 'F:\\\\DATA\\\\BehavioralVideos\\\\Whisker_Video\\\\Whisker_Topview\\\\Expect_1\\\\Mouse21\\\\200207_2\\\\2020-02-07T14.51.47.avi', 'F:\\\\DATA\\\\BehavioralVideos\\\\Whisker_Video\\\\Whisker_Topview\\\\Expect_1\\\\Mouse21\\\\200207_2\\\\2020-02-07T14.51.55.avi', 'F:\\\\DATA\\\\BehavioralVideos\\\\Whisker_Video\\\\Whisker_Topview\\\\Expect_1\\\\Mouse21\\\\200207_2\\\\2020-02-07T14.52.02.avi', 'F:\\\\DATA\\\\BehavioralVideos\\\\Whisker_Video\\\\Whisker_Topview\\\\Expect_1\\\\Mouse21\\\\200207_2\\\\2020-02-07T14.52.09.avi', 'F:\\\\DATA\\\\BehavioralVideos\\\\Whisker_Video\\\\Whisker_Topview\\\\Expect_1\\\\Mouse21\\\\200207_2\\\\2020-02-07T14.52.16.avi', 'F:\\\\DATA\\\\BehavioralVideos\\\\Whisker_Video\\\\Whisker_Topview\\\\Expect_1\\\\Mouse21\\\\200207_2\\\\2020-02-07T14.52.24.avi', 'F:\\\\DATA\\\\BehavioralVideos\\\\Whisker_Video\\\\Whisker_Topview\\\\Expect_1\\\\Mouse21\\\\200207_2\\\\2020-02-07T14.53.14.avi', 'F:\\\\DATA\\\\BehavioralVideos\\\\Whisker_Video\\\\Whisker_Topview\\\\Expect_1\\\\Mouse21\\\\200207_2\\\\2020-02-07T14.53.26.avi', 'F:\\\\DATA\\\\BehavioralVideos\\\\Whisker_Video\\\\Whisker_Topview\\\\Expect_1\\\\Mouse21\\\\200207_2\\\\2020-02-07T14.53.35.avi', 'F:\\\\DATA\\\\BehavioralVideos\\\\Whisker_Video\\\\Whisker_Topview\\\\Expect_1\\\\Mouse21\\\\200207_2\\\\2020-02-07T14.53.45.avi', 'F:\\\\DATA\\\\BehavioralVideos\\\\Whisker_Video\\\\Whisker_Topview\\\\Expect_1\\\\Mouse21\\\\200207_2\\\\2020-02-07T14.53.53.avi', 'F:\\\\DATA\\\\BehavioralVideos\\\\Whisker_Video\\\\Whisker_Topview\\\\Expect_1\\\\Mouse21\\\\200207_2\\\\2020-02-07T14.54.02.avi', 'F:\\\\DATA\\\\BehavioralVideos\\\\Whisker_Video\\\\Whisker_Topview\\\\Expect_1\\\\Mouse21\\\\200207_2\\\\2020-02-07T14.54.09.avi', 'F:\\\\DATA\\\\BehavioralVideos\\\\Whisker_Video\\\\Whisker_Topview\\\\Expect_1\\\\Mouse21\\\\200207_2\\\\2020-02-07T14.54.18.avi', 'F:\\\\DATA\\\\BehavioralVideos\\\\Whisker_Video\\\\Whisker_Topview\\\\Expect_1\\\\Mouse21\\\\200207_2\\\\2020-02-07T14.54.26.avi', 'F:\\\\DATA\\\\BehavioralVideos\\\\Whisker_Video\\\\Whisker_Topview\\\\Expect_1\\\\Mouse21\\\\200207_2\\\\2020-02-07T14.54.33.avi', 'F:\\\\DATA\\\\BehavioralVideos\\\\Whisker_Video\\\\Whisker_Topview\\\\Expect_1\\\\Mouse21\\\\200207_2\\\\2020-02-07T14.54.39.avi', 'F:\\\\DATA\\\\BehavioralVideos\\\\Whisker_Video\\\\Whisker_Topview\\\\Expect_1\\\\Mouse21\\\\200207_2\\\\2020-02-07T14.54.45.avi', 'F:\\\\DATA\\\\BehavioralVideos\\\\Whisker_Video\\\\Whisker_Topview\\\\Expect_1\\\\Mouse21\\\\200207_2\\\\2020-02-07T14.55.01.avi', 'F:\\\\DATA\\\\BehavioralVideos\\\\Whisker_Video\\\\Whisker_Topview\\\\Expect_1\\\\Mouse21\\\\200207_2\\\\2020-02-07T14.55.11.avi', 'F:\\\\DATA\\\\BehavioralVideos\\\\Whisker_Video\\\\Whisker_Topview\\\\Expect_1\\\\Mouse21\\\\200207_2\\\\2020-02-07T14.55.17.avi', 'F:\\\\DATA\\\\BehavioralVideos\\\\Whisker_Video\\\\Whisker_Topview\\\\Expect_1\\\\Mouse21\\\\200207_2\\\\2020-02-07T14.55.28.avi', 'F:\\\\DATA\\\\BehavioralVideos\\\\Whisker_Video\\\\Whisker_Topview\\\\Expect_1\\\\Mouse21\\\\200207_2\\\\2020-02-07T14.55.34.avi', 'F:\\\\DATA\\\\BehavioralVideos\\\\Whisker_Video\\\\Whisker_Topview\\\\Expect_1\\\\Mouse21\\\\200207_2\\\\2020-02-07T14.55.41.avi', 'F:\\\\DATA\\\\BehavioralVideos\\\\Whisker_Video\\\\Whisker_Topview\\\\Expect_1\\\\Mouse21\\\\200207_2\\\\2020-02-07T14.55.47.avi', 'F:\\\\DATA\\\\BehavioralVideos\\\\Whisker_Video\\\\Whisker_Topview\\\\Expect_1\\\\Mouse21\\\\200207_2\\\\2020-02-07T14.55.55.avi', 'F:\\\\DATA\\\\BehavioralVideos\\\\Whisker_Video\\\\Whisker_Topview\\\\Expect_1\\\\Mouse21\\\\200207_2\\\\2020-02-07T14.56.13.avi', 'F:\\\\DATA\\\\BehavioralVideos\\\\Whisker_Video\\\\Whisker_Topview\\\\Expect_1\\\\Mouse21\\\\200207_2\\\\2020-02-07T14.56.21.avi', 'F:\\\\DATA\\\\BehavioralVideos\\\\Whisker_Video\\\\Whisker_Topview\\\\Expect_1\\\\Mouse21\\\\200207_2\\\\2020-02-07T14.56.27.avi', 'F:\\\\DATA\\\\BehavioralVideos\\\\Whisker_Video\\\\Whisker_Topview\\\\Expect_1\\\\Mouse21\\\\200207_2\\\\2020-02-07T14.56.34.avi', 'F:\\\\DATA\\\\BehavioralVideos\\\\Whisker_Video\\\\Whisker_Topview\\\\Expect_1\\\\Mouse21\\\\200207_2\\\\2020-02-07T14.56.40.avi', 'F:\\\\DATA\\\\BehavioralVideos\\\\Whisker_Video\\\\Whisker_Topview\\\\Expect_1\\\\Mouse21\\\\200207_2\\\\2020-02-07T14.56.48.avi', 'F:\\\\DATA\\\\BehavioralVideos\\\\Whisker_Video\\\\Whisker_Topview\\\\Expect_1\\\\Mouse21\\\\200207_2\\\\2020-02-07T14.56.59.avi', 'F:\\\\DATA\\\\BehavioralVideos\\\\Whisker_Video\\\\Whisker_Topview\\\\Expect_1\\\\Mouse21\\\\200207_2\\\\2020-02-07T14.57.05.avi', 'F:\\\\DATA\\\\BehavioralVideos\\\\Whisker_Video\\\\Whisker_Topview\\\\Expect_1\\\\Mouse21\\\\200207_2\\\\2020-02-07T14.57.14.avi', 'F:\\\\DATA\\\\BehavioralVideos\\\\Whisker_Video\\\\Whisker_Topview\\\\Expect_1\\\\Mouse21\\\\200207_2\\\\2020-02-07T14.57.20.avi', 'F:\\\\DATA\\\\BehavioralVideos\\\\Whisker_Video\\\\Whisker_Topview\\\\Expect_1\\\\Mouse21\\\\200207_2\\\\2020-02-07T14.57.26.avi', 'F:\\\\DATA\\\\BehavioralVideos\\\\Whisker_Video\\\\Whisker_Topview\\\\Expect_1\\\\Mouse21\\\\200207_2\\\\2020-02-07T14.57.32.avi', 'F:\\\\DATA\\\\BehavioralVideos\\\\Whisker_Video\\\\Whisker_Topview\\\\Expect_1\\\\Mouse21\\\\200207_2\\\\2020-02-07T14.57.37.avi', 'F:\\\\DATA\\\\BehavioralVideos\\\\Whisker_Video\\\\Whisker_Topview\\\\Expect_1\\\\Mouse21\\\\200207_2\\\\2020-02-07T14.57.45.avi', 'F:\\\\DATA\\\\BehavioralVideos\\\\Whisker_Video\\\\Whisker_Topview\\\\Expect_1\\\\Mouse21\\\\200207_2\\\\2020-02-07T14.57.53.avi', 'F:\\\\DATA\\\\BehavioralVideos\\\\Whisker_Video\\\\Whisker_Topview\\\\Expect_1\\\\Mouse21\\\\200207_2\\\\2020-02-07T14.58.00.avi', 'F:\\\\DATA\\\\BehavioralVideos\\\\Whisker_Video\\\\Whisker_Topview\\\\Expect_1\\\\Mouse21\\\\200207_2\\\\2020-02-07T14.58.06.avi', 'F:\\\\DATA\\\\BehavioralVideos\\\\Whisker_Video\\\\Whisker_Topview\\\\Expect_1\\\\Mouse21\\\\200207_2\\\\2020-02-07T14.58.13.avi', 'F:\\\\DATA\\\\BehavioralVideos\\\\Whisker_Video\\\\Whisker_Topview\\\\Expect_1\\\\Mouse21\\\\200207_2\\\\2020-02-07T14.58.27.avi', 'F:\\\\DATA\\\\BehavioralVideos\\\\Whisker_Video\\\\Whisker_Topview\\\\Expect_1\\\\Mouse21\\\\200207_2\\\\2020-02-07T14.58.36.avi', 'F:\\\\DATA\\\\BehavioralVideos\\\\Whisker_Video\\\\Whisker_Topview\\\\Expect_1\\\\Mouse21\\\\200207_2\\\\2020-02-07T14.58.42.avi', 'F:\\\\DATA\\\\BehavioralVideos\\\\Whisker_Video\\\\Whisker_Topview\\\\Expect_1\\\\Mouse21\\\\200207_2\\\\2020-02-07T14.58.50.avi', 'F:\\\\DATA\\\\BehavioralVideos\\\\Whisker_Video\\\\Whisker_Topview\\\\Expect_1\\\\Mouse21\\\\200207_2\\\\2020-02-07T14.59.10.avi', 'F:\\\\DATA\\\\BehavioralVideos\\\\Whisker_Video\\\\Whisker_Topview\\\\Expect_1\\\\Mouse21\\\\200207_2\\\\2020-02-07T14.59.23.avi', 'F:\\\\DATA\\\\BehavioralVideos\\\\Whisker_Video\\\\Whisker_Topview\\\\Expect_1\\\\Mouse21\\\\200207_2\\\\2020-02-07T14.59.30.avi', 'F:\\\\DATA\\\\BehavioralVideos\\\\Whisker_Video\\\\Whisker_Topview\\\\Expect_1\\\\Mouse21\\\\200207_2\\\\2020-02-07T15.00.23.avi', 'F:\\\\DATA\\\\BehavioralVideos\\\\Whisker_Video\\\\Whisker_Topview\\\\Expect_1\\\\Mouse21\\\\200207_2\\\\2020-02-07T15.00.32.avi', 'F:\\\\DATA\\\\BehavioralVideos\\\\Whisker_Video\\\\Whisker_Topview\\\\Expect_1\\\\Mouse21\\\\200207_2\\\\2020-02-07T15.00.39.avi', 'F:\\\\DATA\\\\BehavioralVideos\\\\Whisker_Video\\\\Whisker_Topview\\\\Expect_1\\\\Mouse21\\\\200207_2\\\\2020-02-07T15.00.48.avi', 'F:\\\\DATA\\\\BehavioralVideos\\\\Whisker_Video\\\\Whisker_Topview\\\\Expect_1\\\\Mouse21\\\\200207_2\\\\2020-02-07T15.00.55.avi', 'F:\\\\DATA\\\\BehavioralVideos\\\\Whisker_Video\\\\Whisker_Topview\\\\Expect_1\\\\Mouse21\\\\200207_2\\\\2020-02-07T15.01.01.avi', 'F:\\\\DATA\\\\BehavioralVideos\\\\Whisker_Video\\\\Whisker_Topview\\\\Expect_1\\\\Mouse21\\\\200207_2\\\\2020-02-07T15.01.08.avi', 'F:\\\\DATA\\\\BehavioralVideos\\\\Whisker_Video\\\\Whisker_Topview\\\\Expect_1\\\\Mouse21\\\\200207_2\\\\2020-02-07T15.01.15.avi', 'F:\\\\DATA\\\\BehavioralVideos\\\\Whisker_Video\\\\Whisker_Topview\\\\Expect_1\\\\Mouse21\\\\200207_2\\\\2020-02-07T15.01.22.avi', 'F:\\\\DATA\\\\BehavioralVideos\\\\Whisker_Video\\\\Whisker_Topview\\\\Expect_1\\\\Mouse21\\\\200207_2\\\\2020-02-07T15.01.29.avi', 'F:\\\\DATA\\\\BehavioralVideos\\\\Whisker_Video\\\\Whisker_Topview\\\\Expect_1\\\\Mouse21\\\\200207_2\\\\2020-02-07T15.01.38.avi', 'F:\\\\DATA\\\\BehavioralVideos\\\\Whisker_Video\\\\Whisker_Topview\\\\Expect_1\\\\Mouse21\\\\200207_2\\\\2020-02-07T15.01.44.avi', 'F:\\\\DATA\\\\BehavioralVideos\\\\Whisker_Video\\\\Whisker_Topview\\\\Expect_1\\\\Mouse21\\\\200207_2\\\\2020-02-07T15.01.50.avi']\n",
      "Repaired 78 files, number of frames possible : between 0 and 38860\n",
      "\n",
      "[39001, 39501]\n"
     ]
    },
    {
     "ename": "ValueError",
     "evalue": "cannot convert float NaN to integer",
     "output_type": "error",
     "traceback": [
      "\u001b[1;31m---------------------------------------------------------------------------\u001b[0m",
      "\u001b[1;31mValueError\u001b[0m                                Traceback (most recent call last)",
      "\u001b[1;32m<ipython-input-3-9cf1c9c427d3>\u001b[0m in \u001b[0;36m<module>\u001b[1;34m\u001b[0m\n\u001b[0;32m     36\u001b[0m         \u001b[0mprint\u001b[0m\u001b[1;33m(\u001b[0m\u001b[0mvalues\u001b[0m\u001b[1;33m)\u001b[0m\u001b[1;33m\u001b[0m\u001b[1;33m\u001b[0m\u001b[0m\n\u001b[0;32m     37\u001b[0m \u001b[1;33m\u001b[0m\u001b[0m\n\u001b[1;32m---> 38\u001b[1;33m         \u001b[0mFramesArray\u001b[0m\u001b[1;33m,\u001b[0m \u001b[0moutpathname\u001b[0m \u001b[1;33m=\u001b[0m \u001b[0mhiris\u001b[0m\u001b[1;33m.\u001b[0m\u001b[0mGetHIRIS_FramesArray\u001b[0m\u001b[1;33m(\u001b[0m\u001b[0mbinfiles\u001b[0m\u001b[1;33m,\u001b[0m\u001b[0mframecounts\u001b[0m\u001b[1;33m,\u001b[0m\u001b[0mparams\u001b[0m\u001b[1;33m,\u001b[0m\u001b[0mvalues\u001b[0m\u001b[1;33m[\u001b[0m\u001b[1;36m0\u001b[0m\u001b[1;33m]\u001b[0m\u001b[1;33m,\u001b[0m\u001b[0mvalues\u001b[0m\u001b[1;33m[\u001b[0m\u001b[1;36m1\u001b[0m\u001b[1;33m]\u001b[0m\u001b[1;33m)\u001b[0m\u001b[1;33m\u001b[0m\u001b[1;33m\u001b[0m\u001b[0m\n\u001b[0m\u001b[0;32m     39\u001b[0m         \u001b[0mprint\u001b[0m\u001b[1;33m(\u001b[0m\u001b[1;34mf\"about to write a video named {os.path.basename(os.path.dirname(outpathname))}\"\u001b[0m\u001b[1;33m)\u001b[0m\u001b[1;33m\u001b[0m\u001b[1;33m\u001b[0m\u001b[0m\n\u001b[0;32m     40\u001b[0m \u001b[1;33m\u001b[0m\u001b[0m\n",
      "\u001b[1;32m~\\Documents\\GitHub\\Scripts\\Python\\Librairies_Tim\\LibUtils\\hiris.py\u001b[0m in \u001b[0;36mGetHIRIS_FramesArray\u001b[1;34m(binfiles, framecounts, params, start, stop)\u001b[0m\n\u001b[0;32m    110\u001b[0m         \u001b[0mlastBINFrame\u001b[0m \u001b[1;33m=\u001b[0m \u001b[0mframecounts\u001b[0m\u001b[1;33m[\u001b[0m\u001b[0mIndex\u001b[0m\u001b[1;33m]\u001b[0m\u001b[1;33m\u001b[0m\u001b[1;33m\u001b[0m\u001b[0m\n\u001b[0;32m    111\u001b[0m \u001b[1;33m\u001b[0m\u001b[0m\n\u001b[1;32m--> 112\u001b[1;33m     \u001b[0mnameIndex\u001b[0m \u001b[1;33m=\u001b[0m \u001b[0mint\u001b[0m\u001b[1;33m(\u001b[0m\u001b[0mnp\u001b[0m\u001b[1;33m.\u001b[0m\u001b[0mmean\u001b[0m\u001b[1;33m(\u001b[0m\u001b[0mnp\u001b[0m\u001b[1;33m.\u001b[0m\u001b[0masarray\u001b[0m\u001b[1;33m(\u001b[0m\u001b[0mBinfilesUsed\u001b[0m\u001b[1;33m)\u001b[0m\u001b[1;33m)\u001b[0m\u001b[1;33m)\u001b[0m\u001b[1;33m\u001b[0m\u001b[1;33m\u001b[0m\u001b[0m\n\u001b[0m\u001b[0;32m    113\u001b[0m \u001b[1;33m\u001b[0m\u001b[0m\n\u001b[0;32m    114\u001b[0m     \u001b[1;32mreturn\u001b[0m \u001b[0mFrames\u001b[0m\u001b[1;33m,\u001b[0m \u001b[0mbinfiles\u001b[0m\u001b[1;33m[\u001b[0m\u001b[0mnameIndex\u001b[0m\u001b[1;33m]\u001b[0m\u001b[1;33m\u001b[0m\u001b[1;33m\u001b[0m\u001b[0m\n",
      "\u001b[1;31mValueError\u001b[0m: cannot convert float NaN to integer"
     ]
    }
   ],
   "source": [
    "sessionpath = r\"F:\\DATA\\BehavioralVideos\\Whisker_Video\\Whisker_Topview\\Expect_1\\Mouse21\\200207_2\"\n",
    "\n",
    "binfiles = hiris.GetHIRIS_binfiles(sessionpath)\n",
    "params = hiris.GetHIRIS_parameters(sessionpath)\n",
    "framecounts = hiris.FrameOffsetList(binfiles,params)\n",
    "\n",
    "\n",
    "inputline = input(\"Write frame min and max, or exit\")\n",
    "print(inputline)\n",
    "while inputline != \"exit\" :\n",
    " \n",
    "    values = inputline.split(\" \")\n",
    "    if \"+\" in values[1] :\n",
    "        temp = values[1].split(\"+\")\n",
    "        values[1] = int(temp[0]) + int(temp[1])\n",
    "    values[0] = int(values[0])\n",
    "    values[1] = int(values[1])\n",
    "    print(values)\n",
    "    FramesArray, outpathname = hiris.GetHIRIS_FramesArray(binfiles,framecounts,params,values[0],values[1])\n",
    "    print(f\"about to write a video named {os.path.basename(os.path.dirname(outpathname))}\")\n",
    "    returnval = image.VideoDialog(FramesArray)\n",
    "    if returnval:\n",
    "        video.VideoArrayWrite(FramesArray,sessionpath,input_path = outpathname)\n",
    "    \n",
    "    \n",
    "    producedfiles = strings.RegFileSearch(sessionpath, r\".*\\.avi$\")\n",
    "    #print(producedfiles)\n",
    "    print(f\"Repaired {len(producedfiles)} files, number of frames possible : between 0 and {max(framecounts)}\\n\")\n",
    "    \n",
    "   \n",
    "    \n",
    "    while str(values[1]) <= str({max(framecounts)}):\n",
    "    \n",
    "        values[0] = int((values[0] + 500))\n",
    "        values[1] = int((values[1] + 500))\n",
    "        print(values)\n",
    "\n",
    "        FramesArray, outpathname = hiris.GetHIRIS_FramesArray(binfiles,framecounts,params,values[0],values[1])\n",
    "        print(f\"about to write a video named {os.path.basename(os.path.dirname(outpathname))}\")\n",
    "\n",
    "        video.VideoArrayWrite(FramesArray,sessionpath,input_path = outpathname)\n",
    "\n",
    "\n",
    "        producedfiles = strings.RegFileSearch(sessionpath, r\".*\\.avi$\")\n",
    "        #print(producedfiles)\n",
    "        print(f\"Repaired {len(producedfiles)} files, number of frames possible : between 0 and {max(framecounts)}\\n\")\n"
   ]
  },
  {
   "cell_type": "code",
   "execution_count": null,
   "metadata": {},
   "outputs": [],
   "source": []
  },
  {
   "cell_type": "code",
   "execution_count": null,
   "metadata": {},
   "outputs": [],
   "source": []
  },
  {
   "cell_type": "code",
   "execution_count": null,
   "metadata": {},
   "outputs": [],
   "source": []
  }
 ],
 "metadata": {
  "kernelspec": {
   "display_name": "Python 3",
   "language": "python",
   "name": "python3"
  },
  "language_info": {
   "codemirror_mode": {
    "name": "ipython",
    "version": 3
   },
   "file_extension": ".py",
   "mimetype": "text/x-python",
   "name": "python",
   "nbconvert_exporter": "python",
   "pygments_lexer": "ipython3",
   "version": "3.6.8"
  }
 },
 "nbformat": 4,
 "nbformat_minor": 4
}
